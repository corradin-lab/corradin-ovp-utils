{
 "cells": [
  {
   "cell_type": "code",
   "execution_count": 1,
   "metadata": {
    "execution": {
     "iopub.execute_input": "2021-06-08T20:35:46.123185Z",
     "iopub.status.busy": "2021-06-08T20:35:46.122707Z",
     "iopub.status.idle": "2021-06-08T20:35:46.128301Z",
     "shell.execute_reply": "2021-06-08T20:35:46.127385Z",
     "shell.execute_reply.started": "2021-06-08T20:35:46.123059Z"
    }
   },
   "outputs": [],
   "source": [
    "# default_exp datasets.genetic_file.Gen"
   ]
  },
  {
   "cell_type": "markdown",
   "metadata": {},
   "source": [
    "# Genetic file formats\n",
    "\n",
    "> API details."
   ]
  },
  {
   "cell_type": "code",
   "execution_count": 2,
   "metadata": {
    "execution": {
     "iopub.execute_input": "2021-06-08T20:35:47.655758Z",
     "iopub.status.busy": "2021-06-08T20:35:47.655359Z",
     "iopub.status.idle": "2021-06-08T20:35:51.123860Z",
     "shell.execute_reply": "2021-06-08T20:35:51.122908Z",
     "shell.execute_reply.started": "2021-06-08T20:35:47.655713Z"
    }
   },
   "outputs": [
    {
     "name": "stderr",
     "output_type": "stream",
     "text": [
      "INFO:MainThread:anyconfig:Loading: /lab/corradin_biobank/FOR_AN/OVP/corradin_ovp_utils/conf/base/catalog_input/genetic_file.yaml\n",
      "INFO:MainThread:anyconfig:Loading: /lab/corradin_biobank/FOR_AN/OVP/corradin_ovp_utils/conf/base/catalog_input/sample_file.yaml\n",
      "INFO:MainThread:anyconfig:Loading: /lab/corradin_biobank/FOR_AN/OVP/corradin_ovp_utils/conf/base/catalog_intermediate_output.yaml\n",
      "INFO:MainThread:anyconfig:Loading: /lab/corradin_biobank/FOR_AN/OVP/corradin_ovp_utils/conf/base/catalog_input/genetic_file.yaml\n",
      "INFO:MainThread:anyconfig:Loading: /lab/corradin_biobank/FOR_AN/OVP/corradin_ovp_utils/conf/base/catalog_input/sample_file.yaml\n",
      "INFO:MainThread:anyconfig:Loading: /lab/corradin_biobank/FOR_AN/OVP/corradin_ovp_utils/conf/base/catalog_intermediate_output.yaml\n"
     ]
    },
    {
     "data": {
      "text/plain": [
       "<module 'corradin_ovp_utils' from '/lab/corradin_biobank/FOR_AN/OVP/corradin_ovp_utils/corradin_ovp_utils/__init__.py'>"
      ]
     },
     "execution_count": 2,
     "metadata": {},
     "output_type": "execute_result"
    }
   ],
   "source": [
    "#hide\n",
    "# %load_ext autoreload\n",
    "# %autoreload 2\n",
    "from nbdev.showdoc import *\n",
    "import pandas as pd\n",
    "from corradin_ovp_utils.catalog import test_data_catalog, conf_test_data_catalog, get_catalog, get_config\n",
    "from corradin_ovp_utils.datasets.schemas import SingleFilePathSchema\n",
    "from fastcore.test import ExceptionExpected\n",
    "import importlib\n",
    "import corradin_ovp_utils\n",
    "importlib.reload(corradin_ovp_utils)\n"
   ]
  },
  {
   "cell_type": "code",
   "execution_count": 258,
   "metadata": {
    "execution": {
     "iopub.execute_input": "2021-06-22T22:38:13.407309Z",
     "iopub.status.busy": "2021-06-22T22:38:13.406750Z",
     "iopub.status.idle": "2021-06-22T22:38:13.428531Z",
     "shell.execute_reply": "2021-06-22T22:38:13.427536Z",
     "shell.execute_reply.started": "2021-06-22T22:38:13.407244Z"
    }
   },
   "outputs": [],
   "source": [
    "#export\n",
    "from corradin_ovp_utils.datasets.genetic_file import GeneticFileFormat, triplicate_converter, get_possible_geno_combinations\n",
    "from typing import Any, Dict, List, Optional, Literal, Union, Protocol\n",
    "from enum import Enum\n",
    "import numpy as np\n",
    "from kedro.io import AbstractVersionedDataSet\n",
    "from pydantic import BaseModel\n",
    "from pathlib import Path, PosixPath\n",
    "from pydantic.dataclasses import dataclass\n",
    "from dataclasses import InitVar, asdict\n",
    "from copy import deepcopy\n",
    "import fsspec\n",
    "from kedro.io.core import (\n",
    "    AbstractVersionedDataSet,\n",
    "    DataSetError,\n",
    "    Version,\n",
    "    get_filepath_str,\n",
    "    get_protocol_and_path,\n",
    ")\n",
    "from kedro.extras.datasets.pandas import CSVDataSet\n",
    "from fastcore.meta import delegates\n",
    "from fastcore.basics import basic_repr\n",
    "from functools import partial, wraps, lru_cache\n",
    "from types import SimpleNamespace\n",
    "from tqdm.auto import tqdm\n",
    "import pandas as pd\n",
    "import itertools\n",
    "from boltons.strutils import bytes2human\n",
    "#from dask import delayed\n",
    "# import dask.dataframe as dd\n",
    "# import vaex\n",
    "# import modin.pandas as mpd\n",
    "#from dask.distributed import Client"
   ]
  },
  {
   "cell_type": "code",
   "execution_count": 4,
   "metadata": {
    "execution": {
     "iopub.execute_input": "2021-06-08T18:13:02.414020Z",
     "iopub.status.busy": "2021-06-08T18:13:02.413553Z",
     "iopub.status.idle": "2021-06-08T18:13:02.418715Z",
     "shell.execute_reply": "2021-06-08T18:13:02.417525Z",
     "shell.execute_reply.started": "2021-06-08T18:13:02.413959Z"
    }
   },
   "outputs": [],
   "source": [
    "# def index_search(list_to_search, query_list):\n",
    "#     sorter = np.argsort(list_to_search)\n",
    "#     index = sorter[np.searchsorted(list_to_search, query_list, sorter=sorter)]\n",
    "#     return index"
   ]
  },
  {
   "cell_type": "code",
   "execution_count": 5,
   "metadata": {
    "execution": {
     "iopub.execute_input": "2021-06-08T18:13:02.857695Z",
     "iopub.status.busy": "2021-06-08T18:13:02.857229Z",
     "iopub.status.idle": "2021-06-08T18:13:02.863949Z",
     "shell.execute_reply": "2021-06-08T18:13:02.862745Z",
     "shell.execute_reply.started": "2021-06-08T18:13:02.857636Z"
    }
   },
   "outputs": [],
   "source": [
    "#hide\n",
    "\n",
    "def print_with_space(*args, **kwargs):\n",
    "    print(*args, **kwargs)\n",
    "    print(\"------\")\n"
   ]
  },
  {
   "cell_type": "code",
   "execution_count": 6,
   "metadata": {
    "execution": {
     "iopub.execute_input": "2021-06-08T18:13:03.447882Z",
     "iopub.status.busy": "2021-06-08T18:13:03.447398Z",
     "iopub.status.idle": "2021-06-08T18:13:03.455757Z",
     "shell.execute_reply": "2021-06-08T18:13:03.454522Z",
     "shell.execute_reply.started": "2021-06-08T18:13:03.447798Z"
    }
   },
   "outputs": [
    {
     "data": {
      "text/plain": [
       "['genetic_file',\n",
       " 'genetic_file_common_folder',\n",
       " 'genetic_file_single',\n",
       " 'genetic_file_split_by_chrom',\n",
       " 'genetic_file_bgen',\n",
       " 'sample_file',\n",
       " 'geno_each_sample',\n",
       " 'case_geno_each_sample',\n",
       " 'control_geno_each_sample']"
      ]
     },
     "execution_count": 6,
     "metadata": {},
     "output_type": "execute_result"
    }
   ],
   "source": [
    "test_data_catalog.list()"
   ]
  },
  {
   "cell_type": "code",
   "execution_count": 7,
   "metadata": {
    "execution": {
     "iopub.execute_input": "2021-06-08T18:13:04.037643Z",
     "iopub.status.busy": "2021-06-08T18:13:04.037153Z",
     "iopub.status.idle": "2021-06-08T18:13:04.049117Z",
     "shell.execute_reply": "2021-06-08T18:13:04.048185Z",
     "shell.execute_reply.started": "2021-06-08T18:13:04.037582Z"
    }
   },
   "outputs": [
    {
     "name": "stderr",
     "output_type": "stream",
     "text": [
      "INFO:MainThread:kedro.io.data_catalog:Loading data from `genetic_file` (OVPDataset)...\n"
     ]
    },
    {
     "data": {
      "text/plain": [
       "Path('/lab/corradin_biobank/FOR_AN/OVP/corradin_ovp_utils/data/test_data/gen_file/test_CASE_MS_chr22.gen')"
      ]
     },
     "execution_count": 7,
     "metadata": {},
     "output_type": "execute_result"
    }
   ],
   "source": [
    "test_data_catalog.load(\"genetic_file\")._file_path.get_full_file_path()[\"case\"].resolve()"
   ]
  },
  {
   "cell_type": "code",
   "execution_count": 257,
   "metadata": {
    "execution": {
     "iopub.execute_input": "2021-06-22T18:55:49.453540Z",
     "iopub.status.busy": "2021-06-22T18:55:49.452981Z",
     "iopub.status.idle": "2021-06-22T18:55:49.522594Z",
     "shell.execute_reply": "2021-06-22T18:55:49.521728Z",
     "shell.execute_reply.started": "2021-06-22T18:55:49.453474Z"
    }
   },
   "outputs": [],
   "source": [
    "#export\n",
    "\n",
    "class GenFileFormat(GeneticFileFormat):\n",
    "    prob_n_cols: int\n",
    "    initial_cols: List[str]\n",
    "    rsid_col: str\n",
    "    alleleA_col: str\n",
    "    alleleB_col: str\n",
    "    ref_alt_delim: Optional[str]\n",
    "    pandas_args: Dict[str, Any]\n",
    "    current_file_path: Optional[str]    \n",
    "    \n",
    "    # check that num_cols - initial cols is divisible by prob_n_cols\n",
    "    # if ref col == alt col then ref_alt_delim needs to be specified, so ref,alt = ref_col.str.split(delim)\n",
    "\n",
    "    def col_name_generator(self, include_initial_cols=True):\n",
    "        \n",
    "        if include_initial_cols:\n",
    "            for col in self.initial_cols:\n",
    "                yield (col, \"\")\n",
    "        \n",
    "        if self.sample_ids is None:\n",
    "            sample_ids_gen = (f\"sample{i}\" for i in itertools.count(1))\n",
    "        else:\n",
    "            sample_ids_gen = (sample_id for sample_id in self.sample_ids)\n",
    "        \n",
    "        while True:\n",
    "            cur_sample_id = next(sample_ids_gen)\n",
    "            #for allele_prob_col_num in range(1, self.prob_n_cols + 1):\n",
    "            yield (f\"{cur_sample_id}\", \"AA\")\n",
    "            yield (f\"{cur_sample_id}\", \"AB\")\n",
    "            yield (f\"{cur_sample_id}\", \"BB\")\n",
    "    \n",
    "    @property\n",
    "    def gen_info_cols(self):\n",
    "        return [self.rsid_col, self.ref_col, self.alt_col]\n",
    "    \n",
    "    @property\n",
    "    def column_headers(self):\n",
    "        #read the first non-header line\n",
    "        first_line_df = next(self._load_unprocessed(chunksize=1))\n",
    "        generator = self.col_name_generator()\n",
    "        col_index = pd.MultiIndex.from_tuples([next(generator) for col in first_line_df.columns], names = [\"first\", \"second\"])\n",
    "        return col_index\n",
    "    \n",
    "    @property\n",
    "    def sample_cols(self):\n",
    "        cols = [col for col in self.column_headers if col not in set(self.initial_cols)]\n",
    "        return cols\n",
    "    \n",
    "    @property\n",
    "    def _sample_list(self):\n",
    "        if self.sample_ids is not None:\n",
    "            return list(self.sample_ids)\n",
    "        else:\n",
    "            return [f\"sample{i}\" for i in range(1, self.num_samples + 1)] #list(set([col.split(\"_\")[0] for col in self.sample_cols]))\n",
    "        \n",
    "    @property\n",
    "    def num_samples(self):\n",
    "        return int(len(self.sample_cols)/self.prob_n_cols)\n",
    "    \n",
    "    @property\n",
    "    def load_args(self):\n",
    "        load_args = deepcopy(self.pandas_args)\n",
    "        load_args[\"names\"] = self.column_headers\n",
    "        return load_args\n",
    "    \n",
    "    @delegates(pd.read_csv)\n",
    "    def _load_unprocessed(self, **kwargs):\n",
    "        return pd.read_csv(filepath_or_buffer = self.current_file_path, **self.pandas_args, **kwargs)\n",
    "    \n",
    "    def get_rsid_col(self, chrom =None, **kwargs):\n",
    "        kwargs_modified = kwargs.copy()\n",
    "        kwargs_modified[\"chunksize\"] = None\n",
    "        rsid_col = self._load(chrom = chrom, usecols = [self.rsid_col], **kwargs_modified)\n",
    "        rsid_col = rsid_col.query(\"rsid.str.startswith('r')\")\n",
    "        return rsid_col\n",
    "    \n",
    "#     def _load(self, chrom = None, **kwargs):\n",
    "#         # use another attribute so `load` and `_load_unprocessed` can share\n",
    "#         self.current_file_path = self.get_resolved_file_path(chrom)\n",
    "#         load_args = self.load_args\n",
    "#         df = pd.read_csv(self.current_file_path, **load_args, **kwargs)\n",
    "#         return df\n",
    "\n",
    "      \n",
    "    def load_single_chrom_file(self, chrom, **kwargs):\n",
    "        if chrom == self.file_path.chrom_num:\n",
    "            return self.load_split_by_chromosome(chrom=chrom, **kwargs)\n",
    "        else:\n",
    "            return None\n",
    "    \n",
    "    def load_split_by_chromosome(self, chrom, **kwargs):\n",
    "        resolved_file_path = self.get_resolved_file_path(chrom)\n",
    "        if not resolved_file_path.is_file():\n",
    "            print(f\"Cannot find file {resolved_file_path.as_posix()}\")\n",
    "            return None\n",
    "        \n",
    "        self.current_file_path = self.get_resolved_file_path(chrom)\n",
    "        sample_cols = self.sample_cols\n",
    "        sample_list = self._sample_list\n",
    "        TemplatedGenFileObject = create_file_object_class(self.prob_n_cols, self.rsid_col, alleleA_col= self.alleleA_col, alleleB_col= self.alleleB_col, load_args = self.load_args)\n",
    "        TemplatedGenFileObject.__repr__ = basic_repr(\"chrom,file_path\")\n",
    "        #gen_file_object = GenFileObject(df = df, rsid_col = rsid_col, sample_cols = sample_cols, sample_list = sample_list, file_path = self.current_file_path)\n",
    "        gen_file_object = TemplatedGenFileObject(chrom = chrom,\n",
    "                                                 sample_cols = sample_cols,\n",
    "                                                 sample_list = sample_list,\n",
    "                                                 column_headers= self.column_headers,\n",
    "                                                 file_path = self.current_file_path)\n",
    "        return gen_file_object\n",
    "        \n",
    "    def load(self, chrom=None, **kwargs):\n",
    "        if self.is_chrom_template():\n",
    "            return self.load_split_by_chromosome(chrom = chrom, **kwargs)\n",
    "        else:\n",
    "            return self.load_single_chrom_file(chrom = chrom, **kwargs)\n",
    "    \n",
    "    def load_all_chrom(self):\n",
    "        return {chrom: self.load(chrom) for chrom in range(1,23)}\n",
    "    \n",
    "    \n",
    "    def get_geno_each_sample(self, rsid_dict:Dict[int, List[str]], id_col_list: List[str], batch_size=1_000, excluded_sample_ids: List[str] =[]):    \n",
    "        all_chrom_dict = self.load_all_chrom()\n",
    "        all_samples_geno_df, all_geno_df = zip(*[all_chrom_dict[chrom].get_geno_each_sample(rsid_list = rsid_list, id_col_list= id_col_list, excluded_sample_ids= excluded_sample_ids) for chrom, rsid_list in rsid_dict.items()])\n",
    "        return pd.concat(all_samples_geno_df), pd.concat(all_geno_df)\n",
    "        \n",
    "            \n",
    "    \n",
    "    @delegates(pd.read_csv)\n",
    "    def get_rsid_df(self,chrom=None, rsid_list=None, **kwargs):\n",
    "        rsid_df = self.load(chrom = chrom, chunksize=100_000)\n",
    "        if rsid_list is not None:\n",
    "            query = f\"{self.rsid_col} in {rsid_list}\"\n",
    "            found_rsid_df = rsid_df.query(query)\n",
    "            \n",
    "        else:\n",
    "            found_rsid_df = rsid_df\n",
    "            \n",
    "            \n",
    "#         found_index = found_rsid_df.index\n",
    "#         found_rsids = set(found_rsid_df[self.rsid_col].unique())\n",
    "#         found_rsid_df_full = self.load(chrom= chrom, skiprows = lambda x: x not in found_index, **kwargs)\n",
    "        \n",
    "        return found_rsid_df\n",
    "    \n",
    "    @delegates(load)\n",
    "    def get_genotypes_df(self, chrom=None, rsid_list: List = None, **kwargs):\n",
    "        if rsid_list is not None:\n",
    "            geno_df = self.get_rsid_df(chrom=chrom, rsid_list = rsid_list, usecols = self.gen_info_cols, **kwargs)\n",
    "        else:\n",
    "            geno_df = self.load(chrom = chrom, usecols = self.gen_info_cols,**kwargs)\n",
    "        geno_df[\"homo_ref\"] = geno_df.loc[:,[self.ref_col]] *2\n",
    "        make_het_geno_func = lambda row: ''.join(sorted([row[self.ref_col],\n",
    "                                   row[self.alt_col]]))\n",
    "        geno_df[\"het\"] = geno_df[[self.ref_col, self.alt_col]].apply(make_het_geno_func, axis=1)\n",
    "        geno_df[\"homo_alt\"] = geno_df.loc[:,self.alt_col] *2\n",
    "        \n",
    "        geno_df = geno_df.set_index(self.rsid_col)\n",
    "        return geno_df\n",
    "    \n",
    "    \n",
    "    @delegates(pd.read_csv)\n",
    "    def get_rsid_df_big(self, chrom=None, rsid_list= None, **kwargs):\n",
    "        rsid_col = self.load(chrom=chrom, usecols = [self.rsid_col])\n",
    "        rsid_col = rsid_list.query(\"rsid.str.startswith('r')\")\n",
    "        found_rsids = rsid_col.query(\"rsid in @test_list\")\n",
    "        \n",
    "        def create_found_rsid_df_generator():\n",
    "            found_rsid_df_generator = self.load(chrom = chrom, skiprows= lambda x : x not in set(test_result.index), chunksize = 10, index_col = self.rsid_col)\n",
    "            return found_rsid_df_generator\n",
    "        \n",
    "        return create_found_rsid_df_generator()\n",
    "    \n",
    "    def sample_columns_iter_list(rsid_df):\n",
    "        for sample in self._sample_list:\n",
    "            sample_cols = [f\"{sample}_{allele_prob_col_num}\" for allele_prob_col_num in range(1, self.prob_n_cols + 1)]\n",
    "            sample_cols_df = rsid_df[sample_cols]\n",
    "            yield SimpleNamespace(sample_id = sample,\n",
    "                                  sample_df = sample_cols_df)\n",
    "        \n",
    "        \n",
    "        \n",
    "    def get_genotypes_df_big(self, chrom=None, ):\n",
    "        for rsid_df in found_rsid_df_generator:\n",
    "            geno_df = get_possible_geno_combinations(rsid_df, big_gen_file.ref_col, big_gen_file.alt_col)\n",
    "            yield geno_df\n",
    "    \n",
    "#     def sample_columns_iter(self, chrom=None, rsid_list=None, **kwargs):\n",
    "        \n",
    "#         df = self.get_rsid_df(chrom=chrom, rsid_list = rsid_list, **kwargs)\n",
    "#         df = df.set_index(self.rsid_col)\n",
    "        \n",
    "#         for sample in self._sample_list:\n",
    "#             sample_cols = [f\"{sample}_{allele_prob_col_num}\" for allele_prob_col_num in range(1, self.prob_n_cols + 1)]\n",
    "#             sample_cols_df = df[sample_cols]\n",
    "#             yield SimpleNamespace(sample_id = sample,\n",
    "#                                   sample_df = sample_cols_df)\n",
    "    \n",
    "#     def sample_columns_iter(\n",
    "            \n",
    "    \n",
    "    #the function has to accept sample_id kwarg\n",
    "    def apply_func_to_all_samples(self, func, rsid_list=None, chrom=None, **kwargs):\n",
    "        result_dict = [func(sample_obj.sample_df, sample_id = sample_obj.sample_id, **kwargs) for sample_obj in tqdm(self.sample_columns_iter(chrom= chrom, rsid_list=rsid_list))]#{sample_obj.sample_id: func(sample_obj.sample_df, sample_id = sample_obj.sample_id, **kwargs) for sample_obj in tqdm(self.sample_columns_iter(rsid_list=rsid_list))}\n",
    "        result_df = pd.concat(result_dict, axis=1)\n",
    "        #, orient=\"records\")\n",
    "        return result_df\n",
    "    \n",
    "#     def get_geno_each_sample(self, *, chrom=None, rsid_list:List[str]):\n",
    "#         geno_each_sample_df = self.apply_func_to_all_samples(triplicate_converter, \n",
    "#                                         rsid_list = rsid_list,\n",
    "#                                         genotype_df = self.get_genotypes_df(chrom=chrom, rsid_list = rsid_list),\n",
    "#                                         chrom=chrom)\n",
    "#         return geno_each_sample_df.T\n",
    "    \n",
    "#     @property\n",
    "#     def single_line_iter(self, **runtime_kwargs):\n",
    "#         return pd.read_csv(self.filepath,\n",
    "#                            **self.load_args,\n",
    "#                            **runtime_kwargs,\n",
    "#                            chunksize=1)\n",
    "    \n",
    "#     #@delegates(pd.read_csv, but= list(self.load_args.keys()))\n",
    "#     def load_full(self, **kwargs):\n",
    "#         return pd.read_csv(self.filepath,\n",
    "#                            **self.load_args,\n",
    "#                           **kwargs)\n",
    "    \n",
    "#     #if ref_col = alt_col then ref_alt_delim need to be specified\n",
    "\n",
    "def create_file_object_class(prob_n_cols, rsid_col, alleleA_col, alleleB_col, load_args):\n",
    "    class GenFileObject(BaseModel):\n",
    "        chrom: int\n",
    "        file_path: Path\n",
    "        #rsid_col: Any\n",
    "        sample_cols: List\n",
    "        sample_list: List\n",
    "        column_headers: pd.MultiIndex\n",
    "            \n",
    "        class Config:\n",
    "            arbitrary_types_allowed = True\n",
    "        \n",
    "        @delegates(pd.read_csv, but=\"names\")\n",
    "        def load_df(self, size_limit = 1_000_000_000, **kwargs): # default limit is 1 GB\n",
    "            file_size = self.file_path.stat().st_size\n",
    "            if file_size > size_limit:\n",
    "                raise MemoryError(f\"the file's size ({bytes2human(file_size)}) is too big, input limit is {bytes2human(size_limit)}.\\n Please increase the limit or choose a smaller file\")\n",
    "            else:\n",
    "                df = pd.read_csv(self.file_path, **load_args, **kwargs)\n",
    "            return df\n",
    "        \n",
    "        def sample_columns_iter_list(self, rsid_df: pd.DataFrame, excluded_sample_ids: List[str] =[]):\n",
    "            excluded_sample_ids_set = set(excluded_sample_ids)\n",
    "            for sample in self.sample_list:\n",
    "                if sample in excluded_sample_ids_set:\n",
    "                    continue\n",
    "                else:\n",
    "                    #sample_cols = [f\"{sample}_{allele_prob_col_num}\" for allele_prob_col_num in range(1, prob_n_cols + 1)]\n",
    "                    sample_cols_df = rsid_df[sample]\n",
    "                    yield SimpleNamespace(sample_id = sample,\n",
    "                                          sample_df = sample_cols_df)\n",
    "            \n",
    "        \n",
    "        def get_geno_each_sample(self, rsid_list: List[int], id_col_list: List[str], batch_size=1_000, excluded_sample_ids: List[str] =[]):\n",
    "            found_lines = []\n",
    "            first_level_index = self.column_headers.get_level_values(\"first\")\n",
    "            id_col_index_list = [first_level_index.get_loc(id_col) for id_col in id_col_list]\n",
    "            all_samples_df_partials = []\n",
    "            all_geno_df_partials = []\n",
    "            query_rsid_set = set(rsid_list)\n",
    "            \n",
    "            print(f\"reading genetic file and collecting found SNPs for file {self.file_path.as_posix()}\")\n",
    "            \n",
    "            with open(self.file_path, \"r\") as file:\n",
    "                for i,line in tqdm(enumerate(file)):\n",
    "                    line_list = line.strip().split(\" \")\n",
    "                    for index in id_col_index_list:\n",
    "                        if line_list[index] in query_rsid_set:\n",
    "                            line_list.append(line_list[index])\n",
    "                            found_lines.append(line_list)\n",
    "                        \n",
    "                    \n",
    "                    if len(found_lines) >= batch_size:\n",
    "                        print(\"processing batch\")\n",
    "                        all_samples_df_partial, geno_df_partial = self._process_found_lines(found_lines, excluded_sample_ids= excluded_sample_ids)\n",
    "                        all_samples_df_partials.append(all_samples_df_partial)\n",
    "                        all_geno_df_partials.append(geno_df_partial)\n",
    "                        found_lines = []\n",
    "                        \n",
    "            print(\"processing last batch\")\n",
    "            if len(found_lines) > 0:\n",
    "                all_samples_df_partial, geno_df_partial = self._process_found_lines(found_lines, excluded_sample_ids= excluded_sample_ids)\n",
    "                all_samples_df_partials.append(all_samples_df_partial)\n",
    "                all_geno_df_partials.append(geno_df_partial)\n",
    "                \n",
    "            all_samples_df = pd.concat(all_samples_df_partials, axis = 1)\n",
    "            all_geno_df = pd.concat(all_geno_df_partials)\n",
    "            return all_samples_df, all_geno_df\n",
    "        \n",
    "        \n",
    "        def _process_found_lines(self, found_lines, excluded_sample_ids):\n",
    "            combined_lines = pd.DataFrame.from_records(found_lines, columns = self.column_headers.append(pd.MultiIndex.from_tuples([(\"id_col\", \"\")])))\n",
    "            combined_lines = combined_lines.set_index(\"id_col\")\n",
    "            geno_df = get_possible_geno_combinations(combined_lines, alleleA_col, alleleB_col)\n",
    "            all_samples_df = [triplicate_converter(sample.sample_df, genotype_df= geno_df, sample_id = sample.sample_id) for sample in tqdm(self.sample_columns_iter_list(combined_lines, excluded_sample_ids))]\n",
    "            all_samples_df = pd.concat(all_samples_df, axis=1)\n",
    "            all_samples_df = all_samples_df.T\n",
    "            return all_samples_df, geno_df\n",
    "        \n",
    "    return GenFileObject\n"
   ]
  },
  {
   "cell_type": "markdown",
   "metadata": {},
   "source": [
    "---\n",
    "### Test functionalities of `GenFileFormat`"
   ]
  },
  {
   "cell_type": "code",
   "execution_count": 9,
   "metadata": {
    "execution": {
     "iopub.execute_input": "2021-06-08T18:13:07.107004Z",
     "iopub.status.busy": "2021-06-08T18:13:07.106521Z",
     "iopub.status.idle": "2021-06-08T18:13:07.115889Z",
     "shell.execute_reply": "2021-06-08T18:13:07.114559Z",
     "shell.execute_reply.started": "2021-06-08T18:13:07.106943Z"
    }
   },
   "outputs": [
    {
     "data": {
      "text/plain": [
       "{'prob_n_cols': 3,\n",
       " 'initial_cols': ['dashes', 'rsid', 'position', 'ref', 'alt'],\n",
       " 'rsid_col': 'rsid',\n",
       " 'ref_col': 'ref',\n",
       " 'alt_col': 'alt',\n",
       " 'pandas_args': {'sep': ' ', 'header': None}}"
      ]
     },
     "execution_count": 9,
     "metadata": {},
     "output_type": "execute_result"
    }
   ],
   "source": [
    "conf_test_data_catalog[\"genetic_file\"][\"load_args\"]"
   ]
  },
  {
   "cell_type": "code",
   "execution_count": 10,
   "metadata": {
    "execution": {
     "iopub.execute_input": "2021-06-08T18:13:07.823105Z",
     "iopub.status.busy": "2021-06-08T18:13:07.822614Z",
     "iopub.status.idle": "2021-06-08T18:13:07.831255Z",
     "shell.execute_reply": "2021-06-08T18:13:07.830040Z",
     "shell.execute_reply.started": "2021-06-08T18:13:07.823044Z"
    }
   },
   "outputs": [
    {
     "data": {
      "text/plain": [
       "{'folder': 'data/test_data/gen_file',\n",
       " 'full_file_name': 'test_CASE_MS_chr22.gen'}"
      ]
     },
     "execution_count": 10,
     "metadata": {},
     "output_type": "execute_result"
    }
   ],
   "source": [
    "conf_test_data_catalog[\"genetic_file\"][\"file_path\"][\"case\"]"
   ]
  },
  {
   "cell_type": "code",
   "execution_count": 11,
   "metadata": {
    "execution": {
     "iopub.execute_input": "2021-06-08T18:13:08.175367Z",
     "iopub.status.busy": "2021-06-08T18:13:08.174908Z",
     "iopub.status.idle": "2021-06-08T18:13:08.184289Z",
     "shell.execute_reply": "2021-06-08T18:13:08.183021Z",
     "shell.execute_reply.started": "2021-06-08T18:13:08.175308Z"
    }
   },
   "outputs": [
    {
     "data": {
      "text/plain": [
       "Path('data/test_data/gen_file/test_CASE_MS_chr22.gen')"
      ]
     },
     "execution_count": 11,
     "metadata": {},
     "output_type": "execute_result"
    }
   ],
   "source": [
    "test_genetic_file_single_file_path = Path(conf_test_data_catalog[\"genetic_file_single\"][\"file_path\"][\"folder\"])/(conf_test_data_catalog[\"genetic_file_single\"][\"file_path\"][\"full_file_name\"])\n",
    "test_genetic_file_single_file_path"
   ]
  },
  {
   "cell_type": "code",
   "execution_count": 12,
   "metadata": {
    "execution": {
     "iopub.execute_input": "2021-06-08T18:13:08.563064Z",
     "iopub.status.busy": "2021-06-08T18:13:08.562601Z",
     "iopub.status.idle": "2021-06-08T18:13:08.572193Z",
     "shell.execute_reply": "2021-06-08T18:13:08.570890Z",
     "shell.execute_reply.started": "2021-06-08T18:13:08.563005Z"
    }
   },
   "outputs": [
    {
     "data": {
      "text/plain": [
       "SingleFilePathSchema(folder=Path('data/test_data/gen_file'), full_file_name='test_CASE_MS_chr22.gen', file_name='test_CASE_MS_chr22', extension='gen', split_by_chromosome=None)"
      ]
     },
     "execution_count": 12,
     "metadata": {},
     "output_type": "execute_result"
    }
   ],
   "source": [
    "schema_obj = SingleFilePathSchema(folder=test_genetic_file_single_file_path.parent,\n",
    "                     full_file_name=test_genetic_file_single_file_path.name)\n",
    "schema_obj"
   ]
  },
  {
   "cell_type": "code",
   "execution_count": 13,
   "metadata": {
    "execution": {
     "iopub.execute_input": "2021-06-08T18:13:08.989756Z",
     "iopub.status.busy": "2021-06-08T18:13:08.989273Z",
     "iopub.status.idle": "2021-06-08T18:13:08.998548Z",
     "shell.execute_reply": "2021-06-08T18:13:08.997278Z",
     "shell.execute_reply.started": "2021-06-08T18:13:08.989694Z"
    }
   },
   "outputs": [
    {
     "data": {
      "text/plain": [
       "GenFileFormat(file_path=SingleFilePathSchema(folder=Path('data/test_data/gen_file'), full_file_name='test_CASE_MS_chr22.gen', file_name='test_CASE_MS_chr22', extension='gen', split_by_chromosome=None), prob_n_cols=3, initial_cols=['dashes', 'rsid', 'position', 'ref', 'alt'], rsid_col='rsid', ref_col='ref', alt_col='alt', ref_alt_delim=None, pandas_args={'sep': ' ', 'header': None}, sample_ids=None, current_file_path=None)"
      ]
     },
     "execution_count": 13,
     "metadata": {},
     "output_type": "execute_result"
    }
   ],
   "source": [
    "test_genfile_format = GenFileFormat(file_path = schema_obj,\n",
    "                                    **conf_test_data_catalog[\"genetic_file\"][\"load_args\"])\n",
    "test_genfile_format"
   ]
  },
  {
   "cell_type": "code",
   "execution_count": 14,
   "metadata": {
    "execution": {
     "iopub.execute_input": "2021-06-08T18:13:09.705399Z",
     "iopub.status.busy": "2021-06-08T18:13:09.704918Z",
     "iopub.status.idle": "2021-06-08T18:13:12.896873Z",
     "shell.execute_reply": "2021-06-08T18:13:12.895928Z",
     "shell.execute_reply.started": "2021-06-08T18:13:09.705339Z"
    }
   },
   "outputs": [
    {
     "data": {
      "text/html": [
       "<div>\n",
       "<style scoped>\n",
       "    .dataframe tbody tr th:only-of-type {\n",
       "        vertical-align: middle;\n",
       "    }\n",
       "\n",
       "    .dataframe tbody tr th {\n",
       "        vertical-align: top;\n",
       "    }\n",
       "\n",
       "    .dataframe thead th {\n",
       "        text-align: right;\n",
       "    }\n",
       "</style>\n",
       "<table border=\"1\" class=\"dataframe\">\n",
       "  <thead>\n",
       "    <tr style=\"text-align: right;\">\n",
       "      <th></th>\n",
       "      <th>dashes</th>\n",
       "      <th>rsid</th>\n",
       "      <th>position</th>\n",
       "      <th>ref</th>\n",
       "      <th>alt</th>\n",
       "      <th>sample1_1</th>\n",
       "      <th>sample1_2</th>\n",
       "      <th>sample1_3</th>\n",
       "      <th>sample2_1</th>\n",
       "      <th>sample2_2</th>\n",
       "      <th>...</th>\n",
       "      <th>sample9769_3</th>\n",
       "      <th>sample9770_1</th>\n",
       "      <th>sample9770_2</th>\n",
       "      <th>sample9770_3</th>\n",
       "      <th>sample9771_1</th>\n",
       "      <th>sample9771_2</th>\n",
       "      <th>sample9771_3</th>\n",
       "      <th>sample9772_1</th>\n",
       "      <th>sample9772_2</th>\n",
       "      <th>sample9772_3</th>\n",
       "    </tr>\n",
       "  </thead>\n",
       "  <tbody>\n",
       "    <tr>\n",
       "      <th>0</th>\n",
       "      <td>---</td>\n",
       "      <td>rs77948203</td>\n",
       "      <td>21249165</td>\n",
       "      <td>G</td>\n",
       "      <td>A</td>\n",
       "      <td>1</td>\n",
       "      <td>0.000</td>\n",
       "      <td>0.000</td>\n",
       "      <td>1</td>\n",
       "      <td>0.000</td>\n",
       "      <td>...</td>\n",
       "      <td>0</td>\n",
       "      <td>1</td>\n",
       "      <td>0</td>\n",
       "      <td>0</td>\n",
       "      <td>1</td>\n",
       "      <td>0.000</td>\n",
       "      <td>0.000</td>\n",
       "      <td>1</td>\n",
       "      <td>0</td>\n",
       "      <td>0</td>\n",
       "    </tr>\n",
       "    <tr>\n",
       "      <th>1</th>\n",
       "      <td>---</td>\n",
       "      <td>rs1014626</td>\n",
       "      <td>21461017</td>\n",
       "      <td>C</td>\n",
       "      <td>T</td>\n",
       "      <td>0</td>\n",
       "      <td>0.000</td>\n",
       "      <td>1.000</td>\n",
       "      <td>0</td>\n",
       "      <td>0.000</td>\n",
       "      <td>...</td>\n",
       "      <td>1</td>\n",
       "      <td>0</td>\n",
       "      <td>0</td>\n",
       "      <td>1</td>\n",
       "      <td>0</td>\n",
       "      <td>0.000</td>\n",
       "      <td>1.000</td>\n",
       "      <td>0</td>\n",
       "      <td>0</td>\n",
       "      <td>1</td>\n",
       "    </tr>\n",
       "    <tr>\n",
       "      <th>2</th>\n",
       "      <td>---</td>\n",
       "      <td>rs9610458</td>\n",
       "      <td>22205353</td>\n",
       "      <td>C</td>\n",
       "      <td>T</td>\n",
       "      <td>0</td>\n",
       "      <td>0.000</td>\n",
       "      <td>1.000</td>\n",
       "      <td>0</td>\n",
       "      <td>0.000</td>\n",
       "      <td>...</td>\n",
       "      <td>0</td>\n",
       "      <td>0</td>\n",
       "      <td>1</td>\n",
       "      <td>0</td>\n",
       "      <td>0</td>\n",
       "      <td>1.000</td>\n",
       "      <td>0.000</td>\n",
       "      <td>0</td>\n",
       "      <td>0</td>\n",
       "      <td>1</td>\n",
       "    </tr>\n",
       "    <tr>\n",
       "      <th>3</th>\n",
       "      <td>---</td>\n",
       "      <td>rs5762201</td>\n",
       "      <td>27888455</td>\n",
       "      <td>A</td>\n",
       "      <td>G</td>\n",
       "      <td>0</td>\n",
       "      <td>0.000</td>\n",
       "      <td>1.000</td>\n",
       "      <td>0</td>\n",
       "      <td>0.012</td>\n",
       "      <td>...</td>\n",
       "      <td>1</td>\n",
       "      <td>0</td>\n",
       "      <td>0</td>\n",
       "      <td>1</td>\n",
       "      <td>0</td>\n",
       "      <td>0.000</td>\n",
       "      <td>1.000</td>\n",
       "      <td>0</td>\n",
       "      <td>0</td>\n",
       "      <td>1</td>\n",
       "    </tr>\n",
       "    <tr>\n",
       "      <th>4</th>\n",
       "      <td>---</td>\n",
       "      <td>rs1004237</td>\n",
       "      <td>28068501</td>\n",
       "      <td>C</td>\n",
       "      <td>T</td>\n",
       "      <td>1</td>\n",
       "      <td>0.000</td>\n",
       "      <td>0.000</td>\n",
       "      <td>1</td>\n",
       "      <td>0.000</td>\n",
       "      <td>...</td>\n",
       "      <td>0</td>\n",
       "      <td>1</td>\n",
       "      <td>0</td>\n",
       "      <td>0</td>\n",
       "      <td>1</td>\n",
       "      <td>0.000</td>\n",
       "      <td>0.000</td>\n",
       "      <td>1</td>\n",
       "      <td>0</td>\n",
       "      <td>0</td>\n",
       "    </tr>\n",
       "    <tr>\n",
       "      <th>5</th>\n",
       "      <td>---</td>\n",
       "      <td>rs134490</td>\n",
       "      <td>28730175</td>\n",
       "      <td>C</td>\n",
       "      <td>T</td>\n",
       "      <td>0</td>\n",
       "      <td>0.232</td>\n",
       "      <td>0.768</td>\n",
       "      <td>0</td>\n",
       "      <td>0.014</td>\n",
       "      <td>...</td>\n",
       "      <td>0</td>\n",
       "      <td>0</td>\n",
       "      <td>1</td>\n",
       "      <td>0</td>\n",
       "      <td>0</td>\n",
       "      <td>0.356</td>\n",
       "      <td>0.644</td>\n",
       "      <td>0</td>\n",
       "      <td>0</td>\n",
       "      <td>1</td>\n",
       "    </tr>\n",
       "    <tr>\n",
       "      <th>6</th>\n",
       "      <td>---</td>\n",
       "      <td>rs4821519</td>\n",
       "      <td>37102100</td>\n",
       "      <td>G</td>\n",
       "      <td>C</td>\n",
       "      <td>1</td>\n",
       "      <td>0.000</td>\n",
       "      <td>0.000</td>\n",
       "      <td>0</td>\n",
       "      <td>1.000</td>\n",
       "      <td>...</td>\n",
       "      <td>0</td>\n",
       "      <td>1</td>\n",
       "      <td>0</td>\n",
       "      <td>0</td>\n",
       "      <td>1</td>\n",
       "      <td>0.000</td>\n",
       "      <td>0.000</td>\n",
       "      <td>1</td>\n",
       "      <td>0</td>\n",
       "      <td>0</td>\n",
       "    </tr>\n",
       "    <tr>\n",
       "      <th>7</th>\n",
       "      <td>---</td>\n",
       "      <td>rs1003500</td>\n",
       "      <td>37262769</td>\n",
       "      <td>C</td>\n",
       "      <td>T</td>\n",
       "      <td>1</td>\n",
       "      <td>0.000</td>\n",
       "      <td>0.000</td>\n",
       "      <td>1</td>\n",
       "      <td>0.000</td>\n",
       "      <td>...</td>\n",
       "      <td>0</td>\n",
       "      <td>1</td>\n",
       "      <td>0</td>\n",
       "      <td>0</td>\n",
       "      <td>1</td>\n",
       "      <td>0.000</td>\n",
       "      <td>0.000</td>\n",
       "      <td>1</td>\n",
       "      <td>0</td>\n",
       "      <td>0</td>\n",
       "    </tr>\n",
       "    <tr>\n",
       "      <th>8</th>\n",
       "      <td>---</td>\n",
       "      <td>rs5756405</td>\n",
       "      <td>37310954</td>\n",
       "      <td>A</td>\n",
       "      <td>G</td>\n",
       "      <td>0</td>\n",
       "      <td>1.000</td>\n",
       "      <td>0.000</td>\n",
       "      <td>1</td>\n",
       "      <td>0.000</td>\n",
       "      <td>...</td>\n",
       "      <td>1</td>\n",
       "      <td>0</td>\n",
       "      <td>1</td>\n",
       "      <td>0</td>\n",
       "      <td>1</td>\n",
       "      <td>0.000</td>\n",
       "      <td>0.000</td>\n",
       "      <td>0</td>\n",
       "      <td>1</td>\n",
       "      <td>0</td>\n",
       "    </tr>\n",
       "  </tbody>\n",
       "</table>\n",
       "<p>9 rows × 29321 columns</p>\n",
       "</div>"
      ],
      "text/plain": [
       "  dashes        rsid  position ref alt  sample1_1  sample1_2  sample1_3  \\\n",
       "0    ---  rs77948203  21249165   G   A          1      0.000      0.000   \n",
       "1    ---   rs1014626  21461017   C   T          0      0.000      1.000   \n",
       "2    ---   rs9610458  22205353   C   T          0      0.000      1.000   \n",
       "3    ---   rs5762201  27888455   A   G          0      0.000      1.000   \n",
       "4    ---   rs1004237  28068501   C   T          1      0.000      0.000   \n",
       "5    ---    rs134490  28730175   C   T          0      0.232      0.768   \n",
       "6    ---   rs4821519  37102100   G   C          1      0.000      0.000   \n",
       "7    ---   rs1003500  37262769   C   T          1      0.000      0.000   \n",
       "8    ---   rs5756405  37310954   A   G          0      1.000      0.000   \n",
       "\n",
       "   sample2_1  sample2_2  ...  sample9769_3  sample9770_1  sample9770_2  \\\n",
       "0          1      0.000  ...             0             1             0   \n",
       "1          0      0.000  ...             1             0             0   \n",
       "2          0      0.000  ...             0             0             1   \n",
       "3          0      0.012  ...             1             0             0   \n",
       "4          1      0.000  ...             0             1             0   \n",
       "5          0      0.014  ...             0             0             1   \n",
       "6          0      1.000  ...             0             1             0   \n",
       "7          1      0.000  ...             0             1             0   \n",
       "8          1      0.000  ...             1             0             1   \n",
       "\n",
       "   sample9770_3  sample9771_1  sample9771_2  sample9771_3  sample9772_1  \\\n",
       "0             0             1         0.000         0.000             1   \n",
       "1             1             0         0.000         1.000             0   \n",
       "2             0             0         1.000         0.000             0   \n",
       "3             1             0         0.000         1.000             0   \n",
       "4             0             1         0.000         0.000             1   \n",
       "5             0             0         0.356         0.644             0   \n",
       "6             0             1         0.000         0.000             1   \n",
       "7             0             1         0.000         0.000             1   \n",
       "8             0             1         0.000         0.000             0   \n",
       "\n",
       "   sample9772_2  sample9772_3  \n",
       "0             0             0  \n",
       "1             0             1  \n",
       "2             0             1  \n",
       "3             0             1  \n",
       "4             0             0  \n",
       "5             0             1  \n",
       "6             0             0  \n",
       "7             0             0  \n",
       "8             1             0  \n",
       "\n",
       "[9 rows x 29321 columns]"
      ]
     },
     "execution_count": 14,
     "metadata": {},
     "output_type": "execute_result"
    }
   ],
   "source": [
    "test_genfile_format.load() #genotypes()"
   ]
  },
  {
   "cell_type": "code",
   "execution_count": 15,
   "metadata": {
    "execution": {
     "iopub.execute_input": "2021-06-08T18:13:14.685045Z",
     "iopub.status.busy": "2021-06-08T18:13:14.684529Z",
     "iopub.status.idle": "2021-06-08T18:13:16.540374Z",
     "shell.execute_reply": "2021-06-08T18:13:16.539391Z",
     "shell.execute_reply.started": "2021-06-08T18:13:14.684977Z"
    }
   },
   "outputs": [],
   "source": [
    "test_header = test_genfile_format.column_headers\n",
    "assert test_header[-1] == 'sample9772_3'"
   ]
  },
  {
   "cell_type": "code",
   "execution_count": 16,
   "metadata": {
    "execution": {
     "iopub.execute_input": "2021-06-08T18:13:16.541631Z",
     "iopub.status.busy": "2021-06-08T18:13:16.541457Z",
     "iopub.status.idle": "2021-06-08T18:13:17.984137Z",
     "shell.execute_reply": "2021-06-08T18:13:17.983164Z",
     "shell.execute_reply.started": "2021-06-08T18:13:16.541608Z"
    }
   },
   "outputs": [
    {
     "data": {
      "text/plain": [
       "<pandas.io.parsers.TextFileReader at 0x14abeb0bfc70>"
      ]
     },
     "execution_count": 16,
     "metadata": {},
     "output_type": "execute_result"
    }
   ],
   "source": [
    "test_genfile_format.get_rsid_df([\"rs77948203\", \"rs9610458\"])"
   ]
  },
  {
   "cell_type": "code",
   "execution_count": 17,
   "metadata": {
    "execution": {
     "iopub.execute_input": "2021-06-08T18:13:17.985683Z",
     "iopub.status.busy": "2021-06-08T18:13:17.985508Z",
     "iopub.status.idle": "2021-06-08T18:13:20.952971Z",
     "shell.execute_reply": "2021-06-08T18:13:20.952035Z",
     "shell.execute_reply.started": "2021-06-08T18:13:17.985660Z"
    }
   },
   "outputs": [
    {
     "data": {
      "text/html": [
       "<div>\n",
       "<style scoped>\n",
       "    .dataframe tbody tr th:only-of-type {\n",
       "        vertical-align: middle;\n",
       "    }\n",
       "\n",
       "    .dataframe tbody tr th {\n",
       "        vertical-align: top;\n",
       "    }\n",
       "\n",
       "    .dataframe thead th {\n",
       "        text-align: right;\n",
       "    }\n",
       "</style>\n",
       "<table border=\"1\" class=\"dataframe\">\n",
       "  <thead>\n",
       "    <tr style=\"text-align: right;\">\n",
       "      <th></th>\n",
       "      <th>dashes</th>\n",
       "      <th>rsid</th>\n",
       "      <th>position</th>\n",
       "      <th>ref</th>\n",
       "      <th>alt</th>\n",
       "      <th>sample1_1</th>\n",
       "      <th>sample1_2</th>\n",
       "      <th>sample1_3</th>\n",
       "      <th>sample2_1</th>\n",
       "      <th>sample2_2</th>\n",
       "      <th>...</th>\n",
       "      <th>sample9769_3</th>\n",
       "      <th>sample9770_1</th>\n",
       "      <th>sample9770_2</th>\n",
       "      <th>sample9770_3</th>\n",
       "      <th>sample9771_1</th>\n",
       "      <th>sample9771_2</th>\n",
       "      <th>sample9771_3</th>\n",
       "      <th>sample9772_1</th>\n",
       "      <th>sample9772_2</th>\n",
       "      <th>sample9772_3</th>\n",
       "    </tr>\n",
       "  </thead>\n",
       "  <tbody>\n",
       "    <tr>\n",
       "      <th>0</th>\n",
       "      <td>---</td>\n",
       "      <td>rs77948203</td>\n",
       "      <td>21249165</td>\n",
       "      <td>G</td>\n",
       "      <td>A</td>\n",
       "      <td>1</td>\n",
       "      <td>0.000</td>\n",
       "      <td>0.000</td>\n",
       "      <td>1</td>\n",
       "      <td>0.000</td>\n",
       "      <td>...</td>\n",
       "      <td>0</td>\n",
       "      <td>1</td>\n",
       "      <td>0</td>\n",
       "      <td>0</td>\n",
       "      <td>1</td>\n",
       "      <td>0.000</td>\n",
       "      <td>0.000</td>\n",
       "      <td>1</td>\n",
       "      <td>0</td>\n",
       "      <td>0</td>\n",
       "    </tr>\n",
       "    <tr>\n",
       "      <th>1</th>\n",
       "      <td>---</td>\n",
       "      <td>rs1014626</td>\n",
       "      <td>21461017</td>\n",
       "      <td>C</td>\n",
       "      <td>T</td>\n",
       "      <td>0</td>\n",
       "      <td>0.000</td>\n",
       "      <td>1.000</td>\n",
       "      <td>0</td>\n",
       "      <td>0.000</td>\n",
       "      <td>...</td>\n",
       "      <td>1</td>\n",
       "      <td>0</td>\n",
       "      <td>0</td>\n",
       "      <td>1</td>\n",
       "      <td>0</td>\n",
       "      <td>0.000</td>\n",
       "      <td>1.000</td>\n",
       "      <td>0</td>\n",
       "      <td>0</td>\n",
       "      <td>1</td>\n",
       "    </tr>\n",
       "    <tr>\n",
       "      <th>2</th>\n",
       "      <td>---</td>\n",
       "      <td>rs9610458</td>\n",
       "      <td>22205353</td>\n",
       "      <td>C</td>\n",
       "      <td>T</td>\n",
       "      <td>0</td>\n",
       "      <td>0.000</td>\n",
       "      <td>1.000</td>\n",
       "      <td>0</td>\n",
       "      <td>0.000</td>\n",
       "      <td>...</td>\n",
       "      <td>0</td>\n",
       "      <td>0</td>\n",
       "      <td>1</td>\n",
       "      <td>0</td>\n",
       "      <td>0</td>\n",
       "      <td>1.000</td>\n",
       "      <td>0.000</td>\n",
       "      <td>0</td>\n",
       "      <td>0</td>\n",
       "      <td>1</td>\n",
       "    </tr>\n",
       "    <tr>\n",
       "      <th>3</th>\n",
       "      <td>---</td>\n",
       "      <td>rs5762201</td>\n",
       "      <td>27888455</td>\n",
       "      <td>A</td>\n",
       "      <td>G</td>\n",
       "      <td>0</td>\n",
       "      <td>0.000</td>\n",
       "      <td>1.000</td>\n",
       "      <td>0</td>\n",
       "      <td>0.012</td>\n",
       "      <td>...</td>\n",
       "      <td>1</td>\n",
       "      <td>0</td>\n",
       "      <td>0</td>\n",
       "      <td>1</td>\n",
       "      <td>0</td>\n",
       "      <td>0.000</td>\n",
       "      <td>1.000</td>\n",
       "      <td>0</td>\n",
       "      <td>0</td>\n",
       "      <td>1</td>\n",
       "    </tr>\n",
       "    <tr>\n",
       "      <th>4</th>\n",
       "      <td>---</td>\n",
       "      <td>rs1004237</td>\n",
       "      <td>28068501</td>\n",
       "      <td>C</td>\n",
       "      <td>T</td>\n",
       "      <td>1</td>\n",
       "      <td>0.000</td>\n",
       "      <td>0.000</td>\n",
       "      <td>1</td>\n",
       "      <td>0.000</td>\n",
       "      <td>...</td>\n",
       "      <td>0</td>\n",
       "      <td>1</td>\n",
       "      <td>0</td>\n",
       "      <td>0</td>\n",
       "      <td>1</td>\n",
       "      <td>0.000</td>\n",
       "      <td>0.000</td>\n",
       "      <td>1</td>\n",
       "      <td>0</td>\n",
       "      <td>0</td>\n",
       "    </tr>\n",
       "    <tr>\n",
       "      <th>5</th>\n",
       "      <td>---</td>\n",
       "      <td>rs134490</td>\n",
       "      <td>28730175</td>\n",
       "      <td>C</td>\n",
       "      <td>T</td>\n",
       "      <td>0</td>\n",
       "      <td>0.232</td>\n",
       "      <td>0.768</td>\n",
       "      <td>0</td>\n",
       "      <td>0.014</td>\n",
       "      <td>...</td>\n",
       "      <td>0</td>\n",
       "      <td>0</td>\n",
       "      <td>1</td>\n",
       "      <td>0</td>\n",
       "      <td>0</td>\n",
       "      <td>0.356</td>\n",
       "      <td>0.644</td>\n",
       "      <td>0</td>\n",
       "      <td>0</td>\n",
       "      <td>1</td>\n",
       "    </tr>\n",
       "    <tr>\n",
       "      <th>6</th>\n",
       "      <td>---</td>\n",
       "      <td>rs4821519</td>\n",
       "      <td>37102100</td>\n",
       "      <td>G</td>\n",
       "      <td>C</td>\n",
       "      <td>1</td>\n",
       "      <td>0.000</td>\n",
       "      <td>0.000</td>\n",
       "      <td>0</td>\n",
       "      <td>1.000</td>\n",
       "      <td>...</td>\n",
       "      <td>0</td>\n",
       "      <td>1</td>\n",
       "      <td>0</td>\n",
       "      <td>0</td>\n",
       "      <td>1</td>\n",
       "      <td>0.000</td>\n",
       "      <td>0.000</td>\n",
       "      <td>1</td>\n",
       "      <td>0</td>\n",
       "      <td>0</td>\n",
       "    </tr>\n",
       "    <tr>\n",
       "      <th>7</th>\n",
       "      <td>---</td>\n",
       "      <td>rs1003500</td>\n",
       "      <td>37262769</td>\n",
       "      <td>C</td>\n",
       "      <td>T</td>\n",
       "      <td>1</td>\n",
       "      <td>0.000</td>\n",
       "      <td>0.000</td>\n",
       "      <td>1</td>\n",
       "      <td>0.000</td>\n",
       "      <td>...</td>\n",
       "      <td>0</td>\n",
       "      <td>1</td>\n",
       "      <td>0</td>\n",
       "      <td>0</td>\n",
       "      <td>1</td>\n",
       "      <td>0.000</td>\n",
       "      <td>0.000</td>\n",
       "      <td>1</td>\n",
       "      <td>0</td>\n",
       "      <td>0</td>\n",
       "    </tr>\n",
       "    <tr>\n",
       "      <th>8</th>\n",
       "      <td>---</td>\n",
       "      <td>rs5756405</td>\n",
       "      <td>37310954</td>\n",
       "      <td>A</td>\n",
       "      <td>G</td>\n",
       "      <td>0</td>\n",
       "      <td>1.000</td>\n",
       "      <td>0.000</td>\n",
       "      <td>1</td>\n",
       "      <td>0.000</td>\n",
       "      <td>...</td>\n",
       "      <td>1</td>\n",
       "      <td>0</td>\n",
       "      <td>1</td>\n",
       "      <td>0</td>\n",
       "      <td>1</td>\n",
       "      <td>0.000</td>\n",
       "      <td>0.000</td>\n",
       "      <td>0</td>\n",
       "      <td>1</td>\n",
       "      <td>0</td>\n",
       "    </tr>\n",
       "  </tbody>\n",
       "</table>\n",
       "<p>9 rows × 29321 columns</p>\n",
       "</div>"
      ],
      "text/plain": [
       "  dashes        rsid  position ref alt  sample1_1  sample1_2  sample1_3  \\\n",
       "0    ---  rs77948203  21249165   G   A          1      0.000      0.000   \n",
       "1    ---   rs1014626  21461017   C   T          0      0.000      1.000   \n",
       "2    ---   rs9610458  22205353   C   T          0      0.000      1.000   \n",
       "3    ---   rs5762201  27888455   A   G          0      0.000      1.000   \n",
       "4    ---   rs1004237  28068501   C   T          1      0.000      0.000   \n",
       "5    ---    rs134490  28730175   C   T          0      0.232      0.768   \n",
       "6    ---   rs4821519  37102100   G   C          1      0.000      0.000   \n",
       "7    ---   rs1003500  37262769   C   T          1      0.000      0.000   \n",
       "8    ---   rs5756405  37310954   A   G          0      1.000      0.000   \n",
       "\n",
       "   sample2_1  sample2_2  ...  sample9769_3  sample9770_1  sample9770_2  \\\n",
       "0          1      0.000  ...             0             1             0   \n",
       "1          0      0.000  ...             1             0             0   \n",
       "2          0      0.000  ...             0             0             1   \n",
       "3          0      0.012  ...             1             0             0   \n",
       "4          1      0.000  ...             0             1             0   \n",
       "5          0      0.014  ...             0             0             1   \n",
       "6          0      1.000  ...             0             1             0   \n",
       "7          1      0.000  ...             0             1             0   \n",
       "8          1      0.000  ...             1             0             1   \n",
       "\n",
       "   sample9770_3  sample9771_1  sample9771_2  sample9771_3  sample9772_1  \\\n",
       "0             0             1         0.000         0.000             1   \n",
       "1             1             0         0.000         1.000             0   \n",
       "2             0             0         1.000         0.000             0   \n",
       "3             1             0         0.000         1.000             0   \n",
       "4             0             1         0.000         0.000             1   \n",
       "5             0             0         0.356         0.644             0   \n",
       "6             0             1         0.000         0.000             1   \n",
       "7             0             1         0.000         0.000             1   \n",
       "8             0             1         0.000         0.000             0   \n",
       "\n",
       "   sample9772_2  sample9772_3  \n",
       "0             0             0  \n",
       "1             0             1  \n",
       "2             0             1  \n",
       "3             0             1  \n",
       "4             0             0  \n",
       "5             0             1  \n",
       "6             0             0  \n",
       "7             0             0  \n",
       "8             1             0  \n",
       "\n",
       "[9 rows x 29321 columns]"
      ]
     },
     "execution_count": 17,
     "metadata": {},
     "output_type": "execute_result"
    }
   ],
   "source": [
    "next(test_genfile_format.get_rsid_df([\"rs77948203\", \"rs9610458\"], chunksize=1))"
   ]
  },
  {
   "cell_type": "code",
   "execution_count": 18,
   "metadata": {
    "execution": {
     "iopub.execute_input": "2021-06-08T18:13:20.955494Z",
     "iopub.status.busy": "2021-06-08T18:13:20.955078Z",
     "iopub.status.idle": "2021-06-08T18:13:22.534222Z",
     "shell.execute_reply": "2021-06-08T18:13:22.533563Z",
     "shell.execute_reply.started": "2021-06-08T18:13:20.955438Z"
    }
   },
   "outputs": [
    {
     "data": {
      "text/html": [
       "<div>\n",
       "<style scoped>\n",
       "    .dataframe tbody tr th:only-of-type {\n",
       "        vertical-align: middle;\n",
       "    }\n",
       "\n",
       "    .dataframe tbody tr th {\n",
       "        vertical-align: top;\n",
       "    }\n",
       "\n",
       "    .dataframe thead th {\n",
       "        text-align: right;\n",
       "    }\n",
       "</style>\n",
       "<table border=\"1\" class=\"dataframe\">\n",
       "  <thead>\n",
       "    <tr style=\"text-align: right;\">\n",
       "      <th></th>\n",
       "      <th>ref</th>\n",
       "      <th>alt</th>\n",
       "      <th>homo_ref</th>\n",
       "      <th>het</th>\n",
       "      <th>homo_alt</th>\n",
       "    </tr>\n",
       "    <tr>\n",
       "      <th>rsid</th>\n",
       "      <th></th>\n",
       "      <th></th>\n",
       "      <th></th>\n",
       "      <th></th>\n",
       "      <th></th>\n",
       "    </tr>\n",
       "  </thead>\n",
       "  <tbody>\n",
       "    <tr>\n",
       "      <th>rs77948203</th>\n",
       "      <td>G</td>\n",
       "      <td>A</td>\n",
       "      <td>GG</td>\n",
       "      <td>AG</td>\n",
       "      <td>AA</td>\n",
       "    </tr>\n",
       "    <tr>\n",
       "      <th>rs1014626</th>\n",
       "      <td>C</td>\n",
       "      <td>T</td>\n",
       "      <td>CC</td>\n",
       "      <td>CT</td>\n",
       "      <td>TT</td>\n",
       "    </tr>\n",
       "    <tr>\n",
       "      <th>rs9610458</th>\n",
       "      <td>C</td>\n",
       "      <td>T</td>\n",
       "      <td>CC</td>\n",
       "      <td>CT</td>\n",
       "      <td>TT</td>\n",
       "    </tr>\n",
       "    <tr>\n",
       "      <th>rs5762201</th>\n",
       "      <td>A</td>\n",
       "      <td>G</td>\n",
       "      <td>AA</td>\n",
       "      <td>AG</td>\n",
       "      <td>GG</td>\n",
       "    </tr>\n",
       "    <tr>\n",
       "      <th>rs1004237</th>\n",
       "      <td>C</td>\n",
       "      <td>T</td>\n",
       "      <td>CC</td>\n",
       "      <td>CT</td>\n",
       "      <td>TT</td>\n",
       "    </tr>\n",
       "    <tr>\n",
       "      <th>rs134490</th>\n",
       "      <td>C</td>\n",
       "      <td>T</td>\n",
       "      <td>CC</td>\n",
       "      <td>CT</td>\n",
       "      <td>TT</td>\n",
       "    </tr>\n",
       "    <tr>\n",
       "      <th>rs4821519</th>\n",
       "      <td>G</td>\n",
       "      <td>C</td>\n",
       "      <td>GG</td>\n",
       "      <td>CG</td>\n",
       "      <td>CC</td>\n",
       "    </tr>\n",
       "    <tr>\n",
       "      <th>rs1003500</th>\n",
       "      <td>C</td>\n",
       "      <td>T</td>\n",
       "      <td>CC</td>\n",
       "      <td>CT</td>\n",
       "      <td>TT</td>\n",
       "    </tr>\n",
       "    <tr>\n",
       "      <th>rs5756405</th>\n",
       "      <td>A</td>\n",
       "      <td>G</td>\n",
       "      <td>AA</td>\n",
       "      <td>AG</td>\n",
       "      <td>GG</td>\n",
       "    </tr>\n",
       "  </tbody>\n",
       "</table>\n",
       "</div>"
      ],
      "text/plain": [
       "           ref alt homo_ref het homo_alt\n",
       "rsid                                    \n",
       "rs77948203   G   A       GG  AG       AA\n",
       "rs1014626    C   T       CC  CT       TT\n",
       "rs9610458    C   T       CC  CT       TT\n",
       "rs5762201    A   G       AA  AG       GG\n",
       "rs1004237    C   T       CC  CT       TT\n",
       "rs134490     C   T       CC  CT       TT\n",
       "rs4821519    G   C       GG  CG       CC\n",
       "rs1003500    C   T       CC  CT       TT\n",
       "rs5756405    A   G       AA  AG       GG"
      ]
     },
     "execution_count": 18,
     "metadata": {},
     "output_type": "execute_result"
    }
   ],
   "source": [
    "test_genfile_format.get_genotypes_df()"
   ]
  },
  {
   "cell_type": "code",
   "execution_count": null,
   "metadata": {
    "execution": {
     "iopub.status.busy": "2021-06-08T18:13:24.211133Z",
     "iopub.status.idle": "2021-06-08T18:13:24.211375Z",
     "shell.execute_reply": "2021-06-08T18:13:24.211256Z"
    }
   },
   "outputs": [],
   "source": [
    "assert test_genfile_format.num_samples == 9772\n",
    "assert test_genfile_format.gen_info_cols == ['rsid', 'ref', 'alt']"
   ]
  },
  {
   "cell_type": "code",
   "execution_count": null,
   "metadata": {
    "execution": {
     "iopub.status.busy": "2021-06-08T18:13:24.212001Z",
     "iopub.status.idle": "2021-06-08T18:13:24.212235Z",
     "shell.execute_reply": "2021-06-08T18:13:24.212118Z"
    }
   },
   "outputs": [],
   "source": [
    "first_sample = next(test_genfile_format.sample_columns_iter(rsid_list = [\"rs9610458\", \"rs4821519\"]))\n",
    "first_sample.sample_df"
   ]
  },
  {
   "cell_type": "code",
   "execution_count": null,
   "metadata": {
    "execution": {
     "iopub.status.busy": "2021-06-08T18:13:24.212921Z",
     "iopub.status.idle": "2021-06-08T18:13:24.213159Z",
     "shell.execute_reply": "2021-06-08T18:13:24.213041Z"
    }
   },
   "outputs": [],
   "source": [
    "first_sample.sample_id"
   ]
  },
  {
   "cell_type": "code",
   "execution_count": null,
   "metadata": {
    "execution": {
     "iopub.status.busy": "2021-06-08T18:13:24.213815Z",
     "iopub.status.idle": "2021-06-08T18:13:24.214049Z",
     "shell.execute_reply": "2021-06-08T18:13:24.213932Z"
    }
   },
   "outputs": [],
   "source": [
    "triplicate_converter(first_sample.sample_df,\n",
    "                     sample_id = first_sample.sample_id,\n",
    "                    genotype_df = test_genfile_format.get_genotypes_df())"
   ]
  },
  {
   "cell_type": "code",
   "execution_count": null,
   "metadata": {
    "execution": {
     "iopub.status.busy": "2021-06-08T18:13:24.214637Z",
     "iopub.status.idle": "2021-06-08T18:13:24.214875Z",
     "shell.execute_reply": "2021-06-08T18:13:24.214757Z"
    }
   },
   "outputs": [],
   "source": [
    "test_genfile_format.get_genotypes_df()"
   ]
  },
  {
   "cell_type": "code",
   "execution_count": null,
   "metadata": {
    "execution": {
     "iopub.status.busy": "2021-06-08T18:13:24.215451Z",
     "iopub.status.idle": "2021-06-08T18:13:24.215686Z",
     "shell.execute_reply": "2021-06-08T18:13:24.215568Z"
    }
   },
   "outputs": [],
   "source": [
    "test_genfile_format.apply_func_to_all_samples(triplicate_converter, \n",
    "                                              rsid_list = [\"rs9610458\", \"rs4821519\"],\n",
    "                                              genotype_df = test_genfile_format.get_genotypes_df([\"rs9610458\", \"rs4821519\"]))"
   ]
  },
  {
   "cell_type": "markdown",
   "metadata": {},
   "source": [
    "If you don't input a list of rsids, it will use all the rsids in the dataset, which could take a **LONG TIME**"
   ]
  },
  {
   "cell_type": "code",
   "execution_count": null,
   "metadata": {
    "execution": {
     "iopub.status.busy": "2021-06-08T18:13:24.216310Z",
     "iopub.status.idle": "2021-06-08T18:13:24.216548Z",
     "shell.execute_reply": "2021-06-08T18:13:24.216431Z"
    }
   },
   "outputs": [],
   "source": [
    "test_geno_each_sample = test_genfile_format.apply_func_to_all_samples(triplicate_converter, \n",
    "                                              genotype_df = test_genfile_format.get_genotypes_df()).T # transposed\n",
    "\n",
    "test_geno_each_sample"
   ]
  },
  {
   "cell_type": "code",
   "execution_count": null,
   "metadata": {
    "execution": {
     "iopub.status.busy": "2021-06-08T18:13:24.217121Z",
     "iopub.status.idle": "2021-06-08T18:13:24.217356Z",
     "shell.execute_reply": "2021-06-08T18:13:24.217239Z"
    }
   },
   "outputs": [],
   "source": [
    "test_data_catalog.save(\"geno_each_sample\", test_geno_each_sample)"
   ]
  },
  {
   "cell_type": "code",
   "execution_count": null,
   "metadata": {
    "execution": {
     "iopub.status.busy": "2021-06-08T18:13:24.217966Z",
     "iopub.status.idle": "2021-06-08T18:13:24.218223Z",
     "shell.execute_reply": "2021-06-08T18:13:24.218100Z"
    }
   },
   "outputs": [],
   "source": [
    "test_geno_each_sample[[\"rs77948203\", \"rs1014626\", \"rs1004237\"]].reset_index().groupby([\"rs77948203\", \"rs1014626\", \"rs1004237\"])[\"sample_id\"].unique().reset_index() #.melt(value_vars = [\"rs77948203\", \"rs1014626\"], ignore_index=False).reset_index().groupby([\"rsid\", \"value\"])[\"index\"].unique()"
   ]
  },
  {
   "cell_type": "code",
   "execution_count": null,
   "metadata": {
    "execution": {
     "iopub.status.busy": "2021-03-28T18:32:50.978467Z",
     "iopub.status.idle": "2021-03-28T18:32:50.978859Z",
     "shell.execute_reply": "2021-03-28T18:32:50.978657Z"
    }
   },
   "outputs": [],
   "source": [
    "test_geno_each_sample"
   ]
  },
  {
   "cell_type": "code",
   "execution_count": null,
   "metadata": {
    "execution": {
     "iopub.status.busy": "2021-03-28T18:32:50.980031Z",
     "iopub.status.idle": "2021-03-28T18:32:50.980425Z",
     "shell.execute_reply": "2021-03-28T18:32:50.980222Z"
    }
   },
   "outputs": [],
   "source": [
    "test_genfile = test_genfile_format.load()\n",
    "test_genfile"
   ]
  },
  {
   "cell_type": "markdown",
   "metadata": {},
   "source": [
    "---"
   ]
  },
  {
   "cell_type": "markdown",
   "metadata": {},
   "source": [
    "### Test files split by chromosomes"
   ]
  },
  {
   "cell_type": "code",
   "execution_count": null,
   "metadata": {
    "execution": {
     "iopub.status.busy": "2021-03-28T18:32:50.981653Z",
     "iopub.status.idle": "2021-03-28T18:32:50.982054Z",
     "shell.execute_reply": "2021-03-28T18:32:50.981849Z"
    }
   },
   "outputs": [],
   "source": [
    "test_split_by_chrom = test_data_catalog.load(\"genetic_file_split_by_chrom\")\n"
   ]
  },
  {
   "cell_type": "code",
   "execution_count": null,
   "metadata": {
    "execution": {
     "iopub.status.busy": "2021-03-28T18:32:50.983300Z",
     "iopub.status.idle": "2021-03-28T18:32:50.983691Z",
     "shell.execute_reply": "2021-03-28T18:32:50.983491Z"
    }
   },
   "outputs": [],
   "source": [
    "assert test_split_by_chrom.files.case.load(chrom=22).shape == (9, 29321)\n",
    "assert test_split_by_chrom.files.case.get_rsid_df(chrom=22, rsid_list=[\"rs77948203\", \"rs1014626\"]).shape == (2, 29321)"
   ]
  },
  {
   "cell_type": "code",
   "execution_count": null,
   "metadata": {
    "execution": {
     "iopub.status.busy": "2021-03-28T18:32:50.984809Z",
     "iopub.status.idle": "2021-03-28T18:32:50.985324Z",
     "shell.execute_reply": "2021-03-28T18:32:50.985120Z"
    }
   },
   "outputs": [],
   "source": [
    "with ExceptionExpected(ex=ValueError, regex = \"Need to specify `chrom` argument\"):\n",
    "    test_split_by_chrom.files.case.load()\n",
    "with ExceptionExpected(ex=ValueError, regex = \"Need to specify `chrom` argument\"):\n",
    "    test_split_by_chrom.files.case.get_rsid_df(rsid_list=[\"rs77948203\", \"rs1014626\"])"
   ]
  },
  {
   "cell_type": "code",
   "execution_count": null,
   "metadata": {
    "execution": {
     "iopub.status.busy": "2021-03-28T18:32:50.986508Z",
     "iopub.status.idle": "2021-03-28T18:32:50.986898Z",
     "shell.execute_reply": "2021-03-28T18:32:50.986699Z"
    }
   },
   "outputs": [],
   "source": [
    "test_split_by_chrom.files.case.get_genotypes_df(chrom=22)"
   ]
  },
  {
   "cell_type": "code",
   "execution_count": null,
   "metadata": {
    "execution": {
     "iopub.status.busy": "2021-03-28T18:32:50.988097Z",
     "iopub.status.idle": "2021-03-28T18:32:50.988487Z",
     "shell.execute_reply": "2021-03-28T18:32:50.988287Z"
    }
   },
   "outputs": [],
   "source": [
    "test_split_by_chrom.files.case.get_genotypes_df(chrom=22, rsid_list=[\"rs77948203\", \"rs1014626\"])"
   ]
  },
  {
   "cell_type": "markdown",
   "metadata": {},
   "source": [
    "---"
   ]
  },
  {
   "cell_type": "markdown",
   "metadata": {},
   "source": [
    "## Test big input"
   ]
  },
  {
   "cell_type": "code",
   "execution_count": 234,
   "metadata": {
    "execution": {
     "iopub.execute_input": "2021-06-16T02:22:09.334891Z",
     "iopub.status.busy": "2021-06-16T02:22:09.334351Z",
     "iopub.status.idle": "2021-06-16T02:22:09.392033Z",
     "shell.execute_reply": "2021-06-16T02:22:09.390997Z",
     "shell.execute_reply.started": "2021-06-16T02:22:09.334826Z"
    }
   },
   "outputs": [
    {
     "name": "stderr",
     "output_type": "stream",
     "text": [
      "INFO:MainThread:anyconfig:Loading: /lab/corradin_biobank/FOR_AN/OVP/corradin_ovp_utils/conf/cluster/catalog_input/genetic_file.yaml\n",
      "INFO:MainThread:anyconfig:Loading: /lab/corradin_biobank/FOR_AN/OVP/corradin_ovp_utils/conf/cluster/catalog_input/sample_file.yaml\n",
      "INFO:MainThread:anyconfig:Loading: /lab/corradin_biobank/FOR_AN/OVP/corradin_ovp_utils/conf/base/catalog_input/genetic_file.yaml\n",
      "INFO:MainThread:anyconfig:Loading: /lab/corradin_biobank/FOR_AN/OVP/corradin_ovp_utils/conf/base/catalog_input/query_rsids.yaml\n",
      "INFO:MainThread:anyconfig:Loading: /lab/corradin_biobank/FOR_AN/OVP/corradin_ovp_utils/conf/base/catalog_input/sample_file.yaml\n",
      "INFO:MainThread:anyconfig:Loading: /lab/corradin_biobank/FOR_AN/OVP/corradin_ovp_utils/conf/base/catalog_intermediate_output.yaml\n"
     ]
    }
   ],
   "source": [
    "big_catalog = get_catalog(env=\"cluster\")\n",
    "base_catalog = get_catalog(env=\"base\")"
   ]
  },
  {
   "cell_type": "code",
   "execution_count": 235,
   "metadata": {
    "execution": {
     "iopub.execute_input": "2021-06-16T02:22:14.777670Z",
     "iopub.status.busy": "2021-06-16T02:22:14.777205Z",
     "iopub.status.idle": "2021-06-16T02:22:44.124346Z",
     "shell.execute_reply": "2021-06-16T02:22:44.123645Z",
     "shell.execute_reply.started": "2021-06-16T02:22:14.777611Z"
    }
   },
   "outputs": [
    {
     "name": "stderr",
     "output_type": "stream",
     "text": [
      "INFO:MainThread:kedro.io.data_catalog:Loading data from `genetic_file_split_by_chrom` (OVPDataset)...\n"
     ]
    },
    {
     "data": {
      "text/plain": [
       "<class '__main__.create_file_object_class.<locals>.GenFileObject'>, chrom = 1, num_samples = 9772, file_path = '/lab/corradin_dbgap/WTCCC2_all_controls_MS_UC/IMPUTE2_ALL/ALL_MS_impute2_chr1.gen'"
      ]
     },
     "execution_count": 235,
     "metadata": {},
     "output_type": "execute_result"
    }
   ],
   "source": [
    "big_genetic_file = big_catalog.load(\"genetic_file_split_by_chrom\")\n",
    "big_gen_file = GenFileFormat(**vars(big_genetic_file.files.case))\n",
    "big_gen_file.load(chrom=1,chunksize=1_000, index_col = big_gen_file.rsid_col)"
   ]
  },
  {
   "cell_type": "code",
   "execution_count": 168,
   "metadata": {
    "execution": {
     "iopub.execute_input": "2021-06-15T13:14:59.915185Z",
     "iopub.status.busy": "2021-06-15T13:14:59.914709Z",
     "iopub.status.idle": "2021-06-15T13:15:01.654502Z",
     "shell.execute_reply": "2021-06-15T13:15:01.653790Z",
     "shell.execute_reply.started": "2021-06-15T13:14:59.915123Z"
    }
   },
   "outputs": [
    {
     "data": {
      "text/plain": [
       "9772.0"
      ]
     },
     "execution_count": 168,
     "metadata": {},
     "output_type": "execute_result"
    }
   ],
   "source": [
    "big_gen_file.num_samples"
   ]
  },
  {
   "cell_type": "code",
   "execution_count": 184,
   "metadata": {
    "execution": {
     "iopub.execute_input": "2021-06-15T13:37:10.792900Z",
     "iopub.status.busy": "2021-06-15T13:37:10.792415Z",
     "iopub.status.idle": "2021-06-15T13:37:12.784765Z",
     "shell.execute_reply": "2021-06-15T13:37:12.783698Z",
     "shell.execute_reply.started": "2021-06-15T13:37:10.792839Z"
    }
   },
   "outputs": [
    {
     "data": {
      "text/plain": [
       "'sample9772'"
      ]
     },
     "execution_count": 184,
     "metadata": {},
     "output_type": "execute_result"
    }
   ],
   "source": [
    "big_gen_file._sample_list[-1]"
   ]
  },
  {
   "cell_type": "code",
   "execution_count": 9,
   "metadata": {
    "execution": {
     "iopub.execute_input": "2021-06-08T20:37:39.923661Z",
     "iopub.status.busy": "2021-06-08T20:37:39.923281Z",
     "iopub.status.idle": "2021-06-08T20:37:39.929878Z",
     "shell.execute_reply": "2021-06-08T20:37:39.929008Z",
     "shell.execute_reply.started": "2021-06-08T20:37:39.923620Z"
    }
   },
   "outputs": [
    {
     "data": {
      "text/plain": [
       "{'sep': ' ', 'header': None}"
      ]
     },
     "execution_count": 9,
     "metadata": {},
     "output_type": "execute_result"
    }
   ],
   "source": [
    "big_gen_file.pandas_args"
   ]
  },
  {
   "cell_type": "code",
   "execution_count": 14,
   "metadata": {
    "execution": {
     "iopub.execute_input": "2021-06-08T20:39:22.834294Z",
     "iopub.status.busy": "2021-06-08T20:39:22.833929Z",
     "iopub.status.idle": "2021-06-08T20:39:22.840227Z",
     "shell.execute_reply": "2021-06-08T20:39:22.839380Z",
     "shell.execute_reply.started": "2021-06-08T20:39:22.834251Z"
    }
   },
   "outputs": [
    {
     "data": {
      "text/plain": [
       "Path('/lab/corradin_dbgap/WTCCC2_all_controls_MS_UC/IMPUTE2_ALL/ALL_MS_impute2_chr22.gen')"
      ]
     },
     "execution_count": 14,
     "metadata": {},
     "output_type": "execute_result"
    }
   ],
   "source": [
    "big_gen_file.file_path.get_full_file_path(22)"
   ]
  },
  {
   "cell_type": "markdown",
   "metadata": {},
   "source": [
    "### Load sample query rsid list"
   ]
  },
  {
   "cell_type": "code",
   "execution_count": 27,
   "metadata": {
    "execution": {
     "iopub.execute_input": "2021-06-08T21:43:17.197373Z",
     "iopub.status.busy": "2021-06-08T21:43:17.196963Z",
     "iopub.status.idle": "2021-06-08T22:00:21.182819Z",
     "shell.execute_reply": "2021-06-08T22:00:21.182032Z",
     "shell.execute_reply.started": "2021-06-08T21:43:17.197326Z"
    }
   },
   "outputs": [
    {
     "name": "stdout",
     "output_type": "stream",
     "text": [
      "CPU times: user 15min 4s, sys: 1min 1s, total: 16min 6s\n",
      "Wall time: 17min 3s\n"
     ]
    }
   ],
   "source": [
    "%%time \n",
    "rsid_list = big_gen_file.get_rsid_col(chrom = 1)\n",
    "rsid_list = rsid_list.query(\"rsid.str.startswith('r')\")"
   ]
  },
  {
   "cell_type": "code",
   "execution_count": 28,
   "metadata": {
    "execution": {
     "iopub.execute_input": "2021-06-09T13:52:15.100579Z",
     "iopub.status.busy": "2021-06-09T13:52:15.100042Z",
     "iopub.status.idle": "2021-06-09T13:52:15.106994Z",
     "shell.execute_reply": "2021-06-09T13:52:15.106218Z",
     "shell.execute_reply.started": "2021-06-09T13:52:15.100467Z"
    }
   },
   "outputs": [
    {
     "data": {
      "text/plain": [
       "2149254"
      ]
     },
     "execution_count": 28,
     "metadata": {},
     "output_type": "execute_result"
    }
   ],
   "source": [
    "len(rsid_list)"
   ]
  },
  {
   "cell_type": "code",
   "execution_count": 29,
   "metadata": {
    "execution": {
     "iopub.execute_input": "2021-06-09T13:53:31.339616Z",
     "iopub.status.busy": "2021-06-09T13:53:31.339249Z",
     "iopub.status.idle": "2021-06-09T13:53:32.619993Z",
     "shell.execute_reply": "2021-06-09T13:53:32.619260Z",
     "shell.execute_reply.started": "2021-06-09T13:53:31.339574Z"
    }
   },
   "outputs": [
    {
     "data": {
      "text/html": [
       "<div>\n",
       "<style scoped>\n",
       "    .dataframe tbody tr th:only-of-type {\n",
       "        vertical-align: middle;\n",
       "    }\n",
       "\n",
       "    .dataframe tbody tr th {\n",
       "        vertical-align: top;\n",
       "    }\n",
       "\n",
       "    .dataframe thead th {\n",
       "        text-align: right;\n",
       "    }\n",
       "</style>\n",
       "<table border=\"1\" class=\"dataframe\">\n",
       "  <thead>\n",
       "    <tr style=\"text-align: right;\">\n",
       "      <th></th>\n",
       "      <th>rsid</th>\n",
       "    </tr>\n",
       "  </thead>\n",
       "  <tbody>\n",
       "    <tr>\n",
       "      <th>20</th>\n",
       "      <td>rs145069787</td>\n",
       "    </tr>\n",
       "    <tr>\n",
       "      <th>26</th>\n",
       "      <td>rs12723953</td>\n",
       "    </tr>\n",
       "    <tr>\n",
       "      <th>33</th>\n",
       "      <td>rs76539137</td>\n",
       "    </tr>\n",
       "    <tr>\n",
       "      <th>36</th>\n",
       "      <td>rs72895585</td>\n",
       "    </tr>\n",
       "    <tr>\n",
       "      <th>39</th>\n",
       "      <td>rs183954195</td>\n",
       "    </tr>\n",
       "    <tr>\n",
       "      <th>...</th>\n",
       "      <td>...</td>\n",
       "    </tr>\n",
       "    <tr>\n",
       "      <th>2154981</th>\n",
       "      <td>rs67874053</td>\n",
       "    </tr>\n",
       "    <tr>\n",
       "      <th>2154991</th>\n",
       "      <td>rs12728804</td>\n",
       "    </tr>\n",
       "    <tr>\n",
       "      <th>2155058</th>\n",
       "      <td>rs145501305</td>\n",
       "    </tr>\n",
       "    <tr>\n",
       "      <th>2155062</th>\n",
       "      <td>rs270725</td>\n",
       "    </tr>\n",
       "    <tr>\n",
       "      <th>2155094</th>\n",
       "      <td>rs188420889</td>\n",
       "    </tr>\n",
       "  </tbody>\n",
       "</table>\n",
       "<p>100000 rows × 1 columns</p>\n",
       "</div>"
      ],
      "text/plain": [
       "                rsid\n",
       "20       rs145069787\n",
       "26        rs12723953\n",
       "33        rs76539137\n",
       "36        rs72895585\n",
       "39       rs183954195\n",
       "...              ...\n",
       "2154981   rs67874053\n",
       "2154991   rs12728804\n",
       "2155058  rs145501305\n",
       "2155062     rs270725\n",
       "2155094  rs188420889\n",
       "\n",
       "[100000 rows x 1 columns]"
      ]
     },
     "execution_count": 29,
     "metadata": {},
     "output_type": "execute_result"
    }
   ],
   "source": [
    "test_snps_num = 100_000\n",
    "test_list = [\"fake_rsid\"] + list(rsid_list.sample(test_snps_num, random_state =42).values.flatten())\n",
    "test_result = rsid_list.query(\"rsid in @test_list\")\n",
    "test_result"
   ]
  },
  {
   "cell_type": "code",
   "execution_count": 213,
   "metadata": {
    "execution": {
     "iopub.execute_input": "2021-06-16T00:52:14.795816Z",
     "iopub.status.busy": "2021-06-16T00:52:14.795372Z",
     "iopub.status.idle": "2021-06-16T00:52:14.881694Z",
     "shell.execute_reply": "2021-06-16T00:52:14.880844Z",
     "shell.execute_reply.started": "2021-06-16T00:52:14.795758Z"
    }
   },
   "outputs": [
    {
     "data": {
      "text/html": [
       "<div>\n",
       "<style scoped>\n",
       "    .dataframe tbody tr th:only-of-type {\n",
       "        vertical-align: middle;\n",
       "    }\n",
       "\n",
       "    .dataframe tbody tr th {\n",
       "        vertical-align: top;\n",
       "    }\n",
       "\n",
       "    .dataframe thead th {\n",
       "        text-align: right;\n",
       "    }\n",
       "</style>\n",
       "<table border=\"1\" class=\"dataframe\">\n",
       "  <thead>\n",
       "    <tr style=\"text-align: right;\">\n",
       "      <th></th>\n",
       "      <th>rsid</th>\n",
       "    </tr>\n",
       "  </thead>\n",
       "  <tbody>\n",
       "  </tbody>\n",
       "</table>\n",
       "</div>"
      ],
      "text/plain": [
       "Empty DataFrame\n",
       "Columns: [rsid]\n",
       "Index: []"
      ]
     },
     "execution_count": 213,
     "metadata": {},
     "output_type": "execute_result"
    }
   ],
   "source": [
    "test_result.query(\"rsid == 'fake_rsid'\")"
   ]
  },
  {
   "cell_type": "code",
   "execution_count": 216,
   "metadata": {
    "execution": {
     "iopub.execute_input": "2021-06-16T01:05:30.615209Z",
     "iopub.status.busy": "2021-06-16T01:05:30.614685Z",
     "iopub.status.idle": "2021-06-16T01:05:31.072497Z",
     "shell.execute_reply": "2021-06-16T01:05:31.071658Z",
     "shell.execute_reply.started": "2021-06-16T01:05:30.615145Z"
    }
   },
   "outputs": [
    {
     "name": "stderr",
     "output_type": "stream",
     "text": [
      "INFO:MainThread:kedro.io.data_catalog:Saving data to `100k_rsids_only_chrom_1` (CSVDataSet)...\n",
      "INFO:MainThread:kedro.io.data_catalog:Loading data from `100k_rsids_only_chrom_1` (CSVDataSet)...\n"
     ]
    },
    {
     "data": {
      "text/html": [
       "<div>\n",
       "<style scoped>\n",
       "    .dataframe tbody tr th:only-of-type {\n",
       "        vertical-align: middle;\n",
       "    }\n",
       "\n",
       "    .dataframe tbody tr th {\n",
       "        vertical-align: top;\n",
       "    }\n",
       "\n",
       "    .dataframe thead th {\n",
       "        text-align: right;\n",
       "    }\n",
       "</style>\n",
       "<table border=\"1\" class=\"dataframe\">\n",
       "  <thead>\n",
       "    <tr style=\"text-align: right;\">\n",
       "      <th></th>\n",
       "      <th>rsid</th>\n",
       "    </tr>\n",
       "  </thead>\n",
       "  <tbody>\n",
       "    <tr>\n",
       "      <th>20</th>\n",
       "      <td>rs145069787</td>\n",
       "    </tr>\n",
       "    <tr>\n",
       "      <th>26</th>\n",
       "      <td>rs12723953</td>\n",
       "    </tr>\n",
       "    <tr>\n",
       "      <th>33</th>\n",
       "      <td>rs76539137</td>\n",
       "    </tr>\n",
       "    <tr>\n",
       "      <th>36</th>\n",
       "      <td>rs72895585</td>\n",
       "    </tr>\n",
       "    <tr>\n",
       "      <th>39</th>\n",
       "      <td>rs183954195</td>\n",
       "    </tr>\n",
       "    <tr>\n",
       "      <th>...</th>\n",
       "      <td>...</td>\n",
       "    </tr>\n",
       "    <tr>\n",
       "      <th>2154981</th>\n",
       "      <td>rs67874053</td>\n",
       "    </tr>\n",
       "    <tr>\n",
       "      <th>2154991</th>\n",
       "      <td>rs12728804</td>\n",
       "    </tr>\n",
       "    <tr>\n",
       "      <th>2155058</th>\n",
       "      <td>rs145501305</td>\n",
       "    </tr>\n",
       "    <tr>\n",
       "      <th>2155062</th>\n",
       "      <td>rs270725</td>\n",
       "    </tr>\n",
       "    <tr>\n",
       "      <th>2155094</th>\n",
       "      <td>rs188420889</td>\n",
       "    </tr>\n",
       "  </tbody>\n",
       "</table>\n",
       "<p>100000 rows × 1 columns</p>\n",
       "</div>"
      ],
      "text/plain": [
       "                rsid\n",
       "20       rs145069787\n",
       "26        rs12723953\n",
       "33        rs76539137\n",
       "36        rs72895585\n",
       "39       rs183954195\n",
       "...              ...\n",
       "2154981   rs67874053\n",
       "2154991   rs12728804\n",
       "2155058  rs145501305\n",
       "2155062     rs270725\n",
       "2155094  rs188420889\n",
       "\n",
       "[100000 rows x 1 columns]"
      ]
     },
     "execution_count": 216,
     "metadata": {},
     "output_type": "execute_result"
    }
   ],
   "source": [
    "base_catalog.save(\"100k_rsids_only_chrom_1\", test_result)\n",
    "base_catalog.load(\"100k_rsids_only_chrom_1\")"
   ]
  },
  {
   "cell_type": "code",
   "execution_count": 114,
   "metadata": {
    "execution": {
     "iopub.execute_input": "2021-06-08T20:26:02.725043Z",
     "iopub.status.busy": "2021-06-08T20:26:02.724613Z",
     "iopub.status.idle": "2021-06-08T20:26:02.738124Z",
     "shell.execute_reply": "2021-06-08T20:26:02.737291Z",
     "shell.execute_reply.started": "2021-06-08T20:26:02.724996Z"
    }
   },
   "outputs": [
    {
     "data": {
      "text/plain": [
       "20         rs145069787\n",
       "26          rs12723953\n",
       "33          rs76539137\n",
       "36          rs72895585\n",
       "39         rs183954195\n",
       "              ...     \n",
       "2154981     rs67874053\n",
       "2154991     rs12728804\n",
       "2155058    rs145501305\n",
       "2155062       rs270725\n",
       "2155094    rs188420889\n",
       "Name: rsid, Length: 100000, dtype: object"
      ]
     },
     "execution_count": 114,
     "metadata": {},
     "output_type": "execute_result"
    }
   ],
   "source": [
    "test_result.rsid"
   ]
  },
  {
   "cell_type": "code",
   "execution_count": 224,
   "metadata": {
    "execution": {
     "iopub.execute_input": "2021-06-16T01:10:38.845761Z",
     "iopub.status.busy": "2021-06-16T01:10:38.845085Z",
     "iopub.status.idle": "2021-06-16T01:10:38.892817Z",
     "shell.execute_reply": "2021-06-16T01:10:38.891733Z",
     "shell.execute_reply.started": "2021-06-16T01:10:38.845666Z"
    }
   },
   "outputs": [],
   "source": [
    "query_rsid_set = set(test_result.rsid)"
   ]
  },
  {
   "cell_type": "markdown",
   "metadata": {},
   "source": [
    "---"
   ]
  },
  {
   "cell_type": "code",
   "execution_count": 239,
   "metadata": {
    "execution": {
     "iopub.execute_input": "2021-06-16T02:23:36.528013Z",
     "iopub.status.busy": "2021-06-16T02:23:36.527519Z",
     "iopub.status.idle": "2021-06-16T02:23:42.658883Z",
     "shell.execute_reply": "2021-06-16T02:23:42.658180Z",
     "shell.execute_reply.started": "2021-06-16T02:23:36.527951Z"
    }
   },
   "outputs": [
    {
     "data": {
      "text/plain": [
       "<class '__main__.create_file_object_class.<locals>.GenFileObject'>, chrom = 1, num_samples = 9772, file_path = '/lab/corradin_dbgap/WTCCC2_all_controls_MS_UC/IMPUTE2_ALL/ALL_MS_impute2_chr1.gen'"
      ]
     },
     "execution_count": 239,
     "metadata": {},
     "output_type": "execute_result"
    }
   ],
   "source": [
    "test_gen_file_chrom_1 = big_gen_file.load(chrom=1,chunksize=1_000, index_col = big_gen_file.rsid_col)\n",
    "test_gen_file_chrom_1"
   ]
  },
  {
   "cell_type": "code",
   "execution_count": 252,
   "metadata": {
    "execution": {
     "iopub.execute_input": "2021-06-22T01:08:56.979913Z",
     "iopub.status.busy": "2021-06-22T01:08:56.979324Z",
     "iopub.status.idle": "2021-06-22T02:20:37.612266Z",
     "shell.execute_reply": "2021-06-22T02:20:37.611342Z",
     "shell.execute_reply.started": "2021-06-22T01:08:56.979825Z"
    }
   },
   "outputs": [
    {
     "name": "stdout",
     "output_type": "stream",
     "text": [
      "reading genetic file and collecting found SNPs\n"
     ]
    },
    {
     "data": {
      "application/vnd.jupyter.widget-view+json": {
       "model_id": "66bb80e12b6d4132a395c144e63b736f",
       "version_major": 2,
       "version_minor": 0
      },
      "text/plain": [
       "0it [00:00, ?it/s]"
      ]
     },
     "metadata": {},
     "output_type": "display_data"
    },
    {
     "name": "stdout",
     "output_type": "stream",
     "text": [
      "processing batch\n"
     ]
    },
    {
     "data": {
      "application/vnd.jupyter.widget-view+json": {
       "model_id": "6c5b8d233d164b17959acac0652c1b84",
       "version_major": 2,
       "version_minor": 0
      },
      "text/plain": [
       "0it [00:00, ?it/s]"
      ]
     },
     "metadata": {},
     "output_type": "display_data"
    },
    {
     "name": "stdout",
     "output_type": "stream",
     "text": [
      "processing last batch\n",
      "CPU times: user 1h 3min 33s, sys: 8min 18s, total: 1h 11min 51s\n",
      "Wall time: 1h 11min 40s\n"
     ]
    }
   ],
   "source": [
    "%time geno_each_sample_100k_SNPs = test_gen_file_chrom_1.get_rsid_df(query_rsid_set, [\"rsid\", \"position\"], batch_size = 100_000)\n"
   ]
  },
  {
   "cell_type": "code",
   "execution_count": 242,
   "metadata": {
    "execution": {
     "iopub.execute_input": "2021-06-16T15:31:23.459014Z",
     "iopub.status.busy": "2021-06-16T15:31:23.458353Z",
     "iopub.status.idle": "2021-06-16T17:58:23.412398Z",
     "shell.execute_reply": "2021-06-16T17:58:23.411361Z",
     "shell.execute_reply.started": "2021-06-16T15:31:23.458933Z"
    }
   },
   "outputs": [
    {
     "name": "stdout",
     "output_type": "stream",
     "text": [
      "reading genetic file and collecting found SNPs\n"
     ]
    },
    {
     "data": {
      "application/vnd.jupyter.widget-view+json": {
       "model_id": "06f00aea2bb5407f9265be6d7bd7b60d",
       "version_major": 2,
       "version_minor": 0
      },
      "text/plain": [
       "0it [00:00, ?it/s]"
      ]
     },
     "metadata": {},
     "output_type": "display_data"
    },
    {
     "name": "stdout",
     "output_type": "stream",
     "text": [
      "processing batch\n"
     ]
    },
    {
     "data": {
      "application/vnd.jupyter.widget-view+json": {
       "model_id": "244084b33026468fa9e6f357172dfc25",
       "version_major": 2,
       "version_minor": 0
      },
      "text/plain": [
       "0it [00:00, ?it/s]"
      ]
     },
     "metadata": {},
     "output_type": "display_data"
    },
    {
     "name": "stdout",
     "output_type": "stream",
     "text": [
      "processing batch\n"
     ]
    },
    {
     "data": {
      "application/vnd.jupyter.widget-view+json": {
       "model_id": "a0e44c4ef8864d8d9e0e0d412bb98e64",
       "version_major": 2,
       "version_minor": 0
      },
      "text/plain": [
       "0it [00:00, ?it/s]"
      ]
     },
     "metadata": {},
     "output_type": "display_data"
    },
    {
     "name": "stdout",
     "output_type": "stream",
     "text": [
      "processing batch\n"
     ]
    },
    {
     "data": {
      "application/vnd.jupyter.widget-view+json": {
       "model_id": "0c3cfd7fed4d4ac286514d3562b4f12c",
       "version_major": 2,
       "version_minor": 0
      },
      "text/plain": [
       "0it [00:00, ?it/s]"
      ]
     },
     "metadata": {},
     "output_type": "display_data"
    },
    {
     "name": "stdout",
     "output_type": "stream",
     "text": [
      "processing batch\n"
     ]
    },
    {
     "data": {
      "application/vnd.jupyter.widget-view+json": {
       "model_id": "d30e592d59104a34ade9e3713bdd70d8",
       "version_major": 2,
       "version_minor": 0
      },
      "text/plain": [
       "0it [00:00, ?it/s]"
      ]
     },
     "metadata": {},
     "output_type": "display_data"
    },
    {
     "name": "stdout",
     "output_type": "stream",
     "text": [
      "processing batch\n"
     ]
    },
    {
     "data": {
      "application/vnd.jupyter.widget-view+json": {
       "model_id": "1c85872402ea4068bd5a022cea1a528d",
       "version_major": 2,
       "version_minor": 0
      },
      "text/plain": [
       "0it [00:00, ?it/s]"
      ]
     },
     "metadata": {},
     "output_type": "display_data"
    },
    {
     "name": "stdout",
     "output_type": "stream",
     "text": [
      "processing batch\n"
     ]
    },
    {
     "data": {
      "application/vnd.jupyter.widget-view+json": {
       "model_id": "b1ce0f5a86bc46df86d3a432e029baaf",
       "version_major": 2,
       "version_minor": 0
      },
      "text/plain": [
       "0it [00:00, ?it/s]"
      ]
     },
     "metadata": {},
     "output_type": "display_data"
    },
    {
     "name": "stdout",
     "output_type": "stream",
     "text": [
      "processing batch\n"
     ]
    },
    {
     "data": {
      "application/vnd.jupyter.widget-view+json": {
       "model_id": "6b9f3453d52b47ec9f1963f9caab6867",
       "version_major": 2,
       "version_minor": 0
      },
      "text/plain": [
       "0it [00:00, ?it/s]"
      ]
     },
     "metadata": {},
     "output_type": "display_data"
    },
    {
     "name": "stdout",
     "output_type": "stream",
     "text": [
      "processing batch\n"
     ]
    },
    {
     "data": {
      "application/vnd.jupyter.widget-view+json": {
       "model_id": "3b3923b7ac6740baabc9d5881ba428a0",
       "version_major": 2,
       "version_minor": 0
      },
      "text/plain": [
       "0it [00:00, ?it/s]"
      ]
     },
     "metadata": {},
     "output_type": "display_data"
    },
    {
     "name": "stdout",
     "output_type": "stream",
     "text": [
      "processing batch\n"
     ]
    },
    {
     "data": {
      "application/vnd.jupyter.widget-view+json": {
       "model_id": "44f6f6b6be6c45f8a0698451067f18bb",
       "version_major": 2,
       "version_minor": 0
      },
      "text/plain": [
       "0it [00:00, ?it/s]"
      ]
     },
     "metadata": {},
     "output_type": "display_data"
    },
    {
     "name": "stdout",
     "output_type": "stream",
     "text": [
      "processing batch\n"
     ]
    },
    {
     "data": {
      "application/vnd.jupyter.widget-view+json": {
       "model_id": "9aeb949d335d47ab915caed32c31d3dd",
       "version_major": 2,
       "version_minor": 0
      },
      "text/plain": [
       "0it [00:00, ?it/s]"
      ]
     },
     "metadata": {},
     "output_type": "display_data"
    },
    {
     "name": "stdout",
     "output_type": "stream",
     "text": [
      "processing batch\n"
     ]
    },
    {
     "data": {
      "application/vnd.jupyter.widget-view+json": {
       "model_id": "ba8f756366804e2289e380745daa5490",
       "version_major": 2,
       "version_minor": 0
      },
      "text/plain": [
       "0it [00:00, ?it/s]"
      ]
     },
     "metadata": {},
     "output_type": "display_data"
    },
    {
     "name": "stdout",
     "output_type": "stream",
     "text": [
      "processing batch\n"
     ]
    },
    {
     "data": {
      "application/vnd.jupyter.widget-view+json": {
       "model_id": "f02f72121ea644b38b0387f3b4d047ad",
       "version_major": 2,
       "version_minor": 0
      },
      "text/plain": [
       "0it [00:00, ?it/s]"
      ]
     },
     "metadata": {},
     "output_type": "display_data"
    },
    {
     "name": "stdout",
     "output_type": "stream",
     "text": [
      "processing batch\n"
     ]
    },
    {
     "data": {
      "application/vnd.jupyter.widget-view+json": {
       "model_id": "3ba358c274b34a5aa7b7e92d9166f818",
       "version_major": 2,
       "version_minor": 0
      },
      "text/plain": [
       "0it [00:00, ?it/s]"
      ]
     },
     "metadata": {},
     "output_type": "display_data"
    },
    {
     "name": "stdout",
     "output_type": "stream",
     "text": [
      "processing batch\n"
     ]
    },
    {
     "data": {
      "application/vnd.jupyter.widget-view+json": {
       "model_id": "607e6a6d4633401690c7f6aa628091d6",
       "version_major": 2,
       "version_minor": 0
      },
      "text/plain": [
       "0it [00:00, ?it/s]"
      ]
     },
     "metadata": {},
     "output_type": "display_data"
    },
    {
     "name": "stdout",
     "output_type": "stream",
     "text": [
      "processing batch\n"
     ]
    },
    {
     "data": {
      "application/vnd.jupyter.widget-view+json": {
       "model_id": "7b2a2d3917ab41eb801c1892539e58b5",
       "version_major": 2,
       "version_minor": 0
      },
      "text/plain": [
       "0it [00:00, ?it/s]"
      ]
     },
     "metadata": {},
     "output_type": "display_data"
    },
    {
     "name": "stdout",
     "output_type": "stream",
     "text": [
      "processing batch\n"
     ]
    },
    {
     "data": {
      "application/vnd.jupyter.widget-view+json": {
       "model_id": "33660a90f5be47c29dd7f2a1f50d5141",
       "version_major": 2,
       "version_minor": 0
      },
      "text/plain": [
       "0it [00:00, ?it/s]"
      ]
     },
     "metadata": {},
     "output_type": "display_data"
    },
    {
     "name": "stdout",
     "output_type": "stream",
     "text": [
      "processing batch\n"
     ]
    },
    {
     "data": {
      "application/vnd.jupyter.widget-view+json": {
       "model_id": "62f115ce61104de49502baed872db22a",
       "version_major": 2,
       "version_minor": 0
      },
      "text/plain": [
       "0it [00:00, ?it/s]"
      ]
     },
     "metadata": {},
     "output_type": "display_data"
    },
    {
     "name": "stdout",
     "output_type": "stream",
     "text": [
      "processing batch\n"
     ]
    },
    {
     "data": {
      "application/vnd.jupyter.widget-view+json": {
       "model_id": "51ed9738a9b7471baca7ced27b37a0cb",
       "version_major": 2,
       "version_minor": 0
      },
      "text/plain": [
       "0it [00:00, ?it/s]"
      ]
     },
     "metadata": {},
     "output_type": "display_data"
    },
    {
     "name": "stdout",
     "output_type": "stream",
     "text": [
      "processing batch\n"
     ]
    },
    {
     "data": {
      "application/vnd.jupyter.widget-view+json": {
       "model_id": "0216e298d4cd4bd7b3b3f727ec2145e5",
       "version_major": 2,
       "version_minor": 0
      },
      "text/plain": [
       "0it [00:00, ?it/s]"
      ]
     },
     "metadata": {},
     "output_type": "display_data"
    },
    {
     "name": "stdout",
     "output_type": "stream",
     "text": [
      "processing batch\n"
     ]
    },
    {
     "data": {
      "application/vnd.jupyter.widget-view+json": {
       "model_id": "30ac82df93cf42e7961e2bd146f18e07",
       "version_major": 2,
       "version_minor": 0
      },
      "text/plain": [
       "0it [00:00, ?it/s]"
      ]
     },
     "metadata": {},
     "output_type": "display_data"
    },
    {
     "name": "stdout",
     "output_type": "stream",
     "text": [
      "processing batch\n"
     ]
    },
    {
     "data": {
      "application/vnd.jupyter.widget-view+json": {
       "model_id": "cd02aae247be4265a7b5243f3d196ffb",
       "version_major": 2,
       "version_minor": 0
      },
      "text/plain": [
       "0it [00:00, ?it/s]"
      ]
     },
     "metadata": {},
     "output_type": "display_data"
    },
    {
     "name": "stdout",
     "output_type": "stream",
     "text": [
      "processing batch\n"
     ]
    },
    {
     "data": {
      "application/vnd.jupyter.widget-view+json": {
       "model_id": "986fbff3b3b7485da0ff153aef6a9f15",
       "version_major": 2,
       "version_minor": 0
      },
      "text/plain": [
       "0it [00:00, ?it/s]"
      ]
     },
     "metadata": {},
     "output_type": "display_data"
    },
    {
     "name": "stdout",
     "output_type": "stream",
     "text": [
      "processing batch\n"
     ]
    },
    {
     "data": {
      "application/vnd.jupyter.widget-view+json": {
       "model_id": "3c012a5782c54ce79f7eb7f66d8237b2",
       "version_major": 2,
       "version_minor": 0
      },
      "text/plain": [
       "0it [00:00, ?it/s]"
      ]
     },
     "metadata": {},
     "output_type": "display_data"
    },
    {
     "name": "stdout",
     "output_type": "stream",
     "text": [
      "processing batch\n"
     ]
    },
    {
     "data": {
      "application/vnd.jupyter.widget-view+json": {
       "model_id": "1b88471b61634e039dd925128c643320",
       "version_major": 2,
       "version_minor": 0
      },
      "text/plain": [
       "0it [00:00, ?it/s]"
      ]
     },
     "metadata": {},
     "output_type": "display_data"
    },
    {
     "name": "stdout",
     "output_type": "stream",
     "text": [
      "processing batch\n"
     ]
    },
    {
     "data": {
      "application/vnd.jupyter.widget-view+json": {
       "model_id": "d0a6b921a5b848beb8464c029c03d9fa",
       "version_major": 2,
       "version_minor": 0
      },
      "text/plain": [
       "0it [00:00, ?it/s]"
      ]
     },
     "metadata": {},
     "output_type": "display_data"
    },
    {
     "name": "stdout",
     "output_type": "stream",
     "text": [
      "processing batch\n"
     ]
    },
    {
     "data": {
      "application/vnd.jupyter.widget-view+json": {
       "model_id": "dfa3d38388db4136bffcfbeab18cd69b",
       "version_major": 2,
       "version_minor": 0
      },
      "text/plain": [
       "0it [00:00, ?it/s]"
      ]
     },
     "metadata": {},
     "output_type": "display_data"
    },
    {
     "name": "stdout",
     "output_type": "stream",
     "text": [
      "processing batch\n"
     ]
    },
    {
     "data": {
      "application/vnd.jupyter.widget-view+json": {
       "model_id": "212b8f849fc44178a4377523cdda3630",
       "version_major": 2,
       "version_minor": 0
      },
      "text/plain": [
       "0it [00:00, ?it/s]"
      ]
     },
     "metadata": {},
     "output_type": "display_data"
    },
    {
     "name": "stdout",
     "output_type": "stream",
     "text": [
      "processing batch\n"
     ]
    },
    {
     "data": {
      "application/vnd.jupyter.widget-view+json": {
       "model_id": "60fc0c6a743543dba1a301f30c88759b",
       "version_major": 2,
       "version_minor": 0
      },
      "text/plain": [
       "0it [00:00, ?it/s]"
      ]
     },
     "metadata": {},
     "output_type": "display_data"
    },
    {
     "name": "stdout",
     "output_type": "stream",
     "text": [
      "processing batch\n"
     ]
    },
    {
     "data": {
      "application/vnd.jupyter.widget-view+json": {
       "model_id": "1a301f62578b4165b684cba63cbb0e25",
       "version_major": 2,
       "version_minor": 0
      },
      "text/plain": [
       "0it [00:00, ?it/s]"
      ]
     },
     "metadata": {},
     "output_type": "display_data"
    },
    {
     "name": "stdout",
     "output_type": "stream",
     "text": [
      "processing batch\n"
     ]
    },
    {
     "data": {
      "application/vnd.jupyter.widget-view+json": {
       "model_id": "2da24f671f0349a2a34ebdba093681fa",
       "version_major": 2,
       "version_minor": 0
      },
      "text/plain": [
       "0it [00:00, ?it/s]"
      ]
     },
     "metadata": {},
     "output_type": "display_data"
    },
    {
     "name": "stdout",
     "output_type": "stream",
     "text": [
      "processing batch\n"
     ]
    },
    {
     "data": {
      "application/vnd.jupyter.widget-view+json": {
       "model_id": "32f85b4e1fa44dbf93fb4a36e9cb5374",
       "version_major": 2,
       "version_minor": 0
      },
      "text/plain": [
       "0it [00:00, ?it/s]"
      ]
     },
     "metadata": {},
     "output_type": "display_data"
    },
    {
     "name": "stdout",
     "output_type": "stream",
     "text": [
      "processing batch\n"
     ]
    },
    {
     "data": {
      "application/vnd.jupyter.widget-view+json": {
       "model_id": "d6b5ee2064f2413ba5868ce74c2717e5",
       "version_major": 2,
       "version_minor": 0
      },
      "text/plain": [
       "0it [00:00, ?it/s]"
      ]
     },
     "metadata": {},
     "output_type": "display_data"
    },
    {
     "name": "stdout",
     "output_type": "stream",
     "text": [
      "processing batch\n"
     ]
    },
    {
     "data": {
      "application/vnd.jupyter.widget-view+json": {
       "model_id": "c69f1a2e1c0f4b53834aa515a20d26be",
       "version_major": 2,
       "version_minor": 0
      },
      "text/plain": [
       "0it [00:00, ?it/s]"
      ]
     },
     "metadata": {},
     "output_type": "display_data"
    },
    {
     "name": "stdout",
     "output_type": "stream",
     "text": [
      "processing batch\n"
     ]
    },
    {
     "data": {
      "application/vnd.jupyter.widget-view+json": {
       "model_id": "6cdbc14fd7b2495b8d1cadbe0a425719",
       "version_major": 2,
       "version_minor": 0
      },
      "text/plain": [
       "0it [00:00, ?it/s]"
      ]
     },
     "metadata": {},
     "output_type": "display_data"
    },
    {
     "name": "stdout",
     "output_type": "stream",
     "text": [
      "processing batch\n"
     ]
    },
    {
     "data": {
      "application/vnd.jupyter.widget-view+json": {
       "model_id": "c82fce1cda0a49bf92a5c84707ab57c4",
       "version_major": 2,
       "version_minor": 0
      },
      "text/plain": [
       "0it [00:00, ?it/s]"
      ]
     },
     "metadata": {},
     "output_type": "display_data"
    },
    {
     "name": "stdout",
     "output_type": "stream",
     "text": [
      "processing batch\n"
     ]
    },
    {
     "data": {
      "application/vnd.jupyter.widget-view+json": {
       "model_id": "ff007e40587f4da688d93f02a979a3f3",
       "version_major": 2,
       "version_minor": 0
      },
      "text/plain": [
       "0it [00:00, ?it/s]"
      ]
     },
     "metadata": {},
     "output_type": "display_data"
    },
    {
     "name": "stdout",
     "output_type": "stream",
     "text": [
      "processing batch\n"
     ]
    },
    {
     "data": {
      "application/vnd.jupyter.widget-view+json": {
       "model_id": "2991b43934a6474fbcd33bd07671d408",
       "version_major": 2,
       "version_minor": 0
      },
      "text/plain": [
       "0it [00:00, ?it/s]"
      ]
     },
     "metadata": {},
     "output_type": "display_data"
    },
    {
     "name": "stdout",
     "output_type": "stream",
     "text": [
      "processing batch\n"
     ]
    },
    {
     "data": {
      "application/vnd.jupyter.widget-view+json": {
       "model_id": "c3e7978e24464fb194391e0c40f553fd",
       "version_major": 2,
       "version_minor": 0
      },
      "text/plain": [
       "0it [00:00, ?it/s]"
      ]
     },
     "metadata": {},
     "output_type": "display_data"
    },
    {
     "name": "stdout",
     "output_type": "stream",
     "text": [
      "processing batch\n"
     ]
    },
    {
     "data": {
      "application/vnd.jupyter.widget-view+json": {
       "model_id": "f59c20b02cc54124a48c4627018669d9",
       "version_major": 2,
       "version_minor": 0
      },
      "text/plain": [
       "0it [00:00, ?it/s]"
      ]
     },
     "metadata": {},
     "output_type": "display_data"
    },
    {
     "name": "stdout",
     "output_type": "stream",
     "text": [
      "processing batch\n"
     ]
    },
    {
     "data": {
      "application/vnd.jupyter.widget-view+json": {
       "model_id": "f1762f22889146419b056a6020982ea9",
       "version_major": 2,
       "version_minor": 0
      },
      "text/plain": [
       "0it [00:00, ?it/s]"
      ]
     },
     "metadata": {},
     "output_type": "display_data"
    },
    {
     "name": "stdout",
     "output_type": "stream",
     "text": [
      "processing batch\n"
     ]
    },
    {
     "data": {
      "application/vnd.jupyter.widget-view+json": {
       "model_id": "f9aec6bdd3f64856a7e2261f09c4aead",
       "version_major": 2,
       "version_minor": 0
      },
      "text/plain": [
       "0it [00:00, ?it/s]"
      ]
     },
     "metadata": {},
     "output_type": "display_data"
    },
    {
     "name": "stdout",
     "output_type": "stream",
     "text": [
      "processing batch\n"
     ]
    },
    {
     "data": {
      "application/vnd.jupyter.widget-view+json": {
       "model_id": "db3c4943fe9a4b5cb4179d3748a52273",
       "version_major": 2,
       "version_minor": 0
      },
      "text/plain": [
       "0it [00:00, ?it/s]"
      ]
     },
     "metadata": {},
     "output_type": "display_data"
    },
    {
     "name": "stdout",
     "output_type": "stream",
     "text": [
      "processing batch\n"
     ]
    },
    {
     "data": {
      "application/vnd.jupyter.widget-view+json": {
       "model_id": "90d9f292ebf24d19ad35304ca3d028d6",
       "version_major": 2,
       "version_minor": 0
      },
      "text/plain": [
       "0it [00:00, ?it/s]"
      ]
     },
     "metadata": {},
     "output_type": "display_data"
    },
    {
     "name": "stdout",
     "output_type": "stream",
     "text": [
      "processing batch\n"
     ]
    },
    {
     "data": {
      "application/vnd.jupyter.widget-view+json": {
       "model_id": "587f9ce8d33a48bb81988c36128d93c5",
       "version_major": 2,
       "version_minor": 0
      },
      "text/plain": [
       "0it [00:00, ?it/s]"
      ]
     },
     "metadata": {},
     "output_type": "display_data"
    },
    {
     "name": "stdout",
     "output_type": "stream",
     "text": [
      "processing batch\n"
     ]
    },
    {
     "data": {
      "application/vnd.jupyter.widget-view+json": {
       "model_id": "cbf2805be7f748da94a28f1ff7707be2",
       "version_major": 2,
       "version_minor": 0
      },
      "text/plain": [
       "0it [00:00, ?it/s]"
      ]
     },
     "metadata": {},
     "output_type": "display_data"
    },
    {
     "name": "stdout",
     "output_type": "stream",
     "text": [
      "processing batch\n"
     ]
    },
    {
     "data": {
      "application/vnd.jupyter.widget-view+json": {
       "model_id": "4983918df937433bbac7a658a11b5be6",
       "version_major": 2,
       "version_minor": 0
      },
      "text/plain": [
       "0it [00:00, ?it/s]"
      ]
     },
     "metadata": {},
     "output_type": "display_data"
    },
    {
     "name": "stdout",
     "output_type": "stream",
     "text": [
      "processing batch\n"
     ]
    },
    {
     "data": {
      "application/vnd.jupyter.widget-view+json": {
       "model_id": "6752d35a8ea94bb49501420459588423",
       "version_major": 2,
       "version_minor": 0
      },
      "text/plain": [
       "0it [00:00, ?it/s]"
      ]
     },
     "metadata": {},
     "output_type": "display_data"
    },
    {
     "name": "stdout",
     "output_type": "stream",
     "text": [
      "processing batch\n"
     ]
    },
    {
     "data": {
      "application/vnd.jupyter.widget-view+json": {
       "model_id": "c21abe31464946a6b88de10c08fdf7b3",
       "version_major": 2,
       "version_minor": 0
      },
      "text/plain": [
       "0it [00:00, ?it/s]"
      ]
     },
     "metadata": {},
     "output_type": "display_data"
    },
    {
     "name": "stdout",
     "output_type": "stream",
     "text": [
      "processing batch\n"
     ]
    },
    {
     "data": {
      "application/vnd.jupyter.widget-view+json": {
       "model_id": "34831b0ba11040bebaf13c0ad360cc2e",
       "version_major": 2,
       "version_minor": 0
      },
      "text/plain": [
       "0it [00:00, ?it/s]"
      ]
     },
     "metadata": {},
     "output_type": "display_data"
    },
    {
     "name": "stdout",
     "output_type": "stream",
     "text": [
      "processing batch\n"
     ]
    },
    {
     "data": {
      "application/vnd.jupyter.widget-view+json": {
       "model_id": "53322e74f5ad4f8c922a1d0b96dcc12f",
       "version_major": 2,
       "version_minor": 0
      },
      "text/plain": [
       "0it [00:00, ?it/s]"
      ]
     },
     "metadata": {},
     "output_type": "display_data"
    },
    {
     "name": "stdout",
     "output_type": "stream",
     "text": [
      "processing batch\n"
     ]
    },
    {
     "data": {
      "application/vnd.jupyter.widget-view+json": {
       "model_id": "7c3579066f654c1d83d1c3cc6a5132d3",
       "version_major": 2,
       "version_minor": 0
      },
      "text/plain": [
       "0it [00:00, ?it/s]"
      ]
     },
     "metadata": {},
     "output_type": "display_data"
    },
    {
     "name": "stdout",
     "output_type": "stream",
     "text": [
      "processing batch\n"
     ]
    },
    {
     "data": {
      "application/vnd.jupyter.widget-view+json": {
       "model_id": "dc6c3fa5e2784d3183c98ab9442b2def",
       "version_major": 2,
       "version_minor": 0
      },
      "text/plain": [
       "0it [00:00, ?it/s]"
      ]
     },
     "metadata": {},
     "output_type": "display_data"
    },
    {
     "name": "stdout",
     "output_type": "stream",
     "text": [
      "processing batch\n"
     ]
    },
    {
     "data": {
      "application/vnd.jupyter.widget-view+json": {
       "model_id": "bab9c1d09e364120a42ec5d43c10f052",
       "version_major": 2,
       "version_minor": 0
      },
      "text/plain": [
       "0it [00:00, ?it/s]"
      ]
     },
     "metadata": {},
     "output_type": "display_data"
    },
    {
     "name": "stdout",
     "output_type": "stream",
     "text": [
      "processing batch\n"
     ]
    },
    {
     "data": {
      "application/vnd.jupyter.widget-view+json": {
       "model_id": "bbaa1e5d14df42538adc926e5ac85081",
       "version_major": 2,
       "version_minor": 0
      },
      "text/plain": [
       "0it [00:00, ?it/s]"
      ]
     },
     "metadata": {},
     "output_type": "display_data"
    },
    {
     "name": "stdout",
     "output_type": "stream",
     "text": [
      "processing batch\n"
     ]
    },
    {
     "data": {
      "application/vnd.jupyter.widget-view+json": {
       "model_id": "d8d241f218b145a485709463986d0ab0",
       "version_major": 2,
       "version_minor": 0
      },
      "text/plain": [
       "0it [00:00, ?it/s]"
      ]
     },
     "metadata": {},
     "output_type": "display_data"
    },
    {
     "name": "stdout",
     "output_type": "stream",
     "text": [
      "processing batch\n"
     ]
    },
    {
     "data": {
      "application/vnd.jupyter.widget-view+json": {
       "model_id": "e288e8edd62246338104338228f0588e",
       "version_major": 2,
       "version_minor": 0
      },
      "text/plain": [
       "0it [00:00, ?it/s]"
      ]
     },
     "metadata": {},
     "output_type": "display_data"
    },
    {
     "name": "stdout",
     "output_type": "stream",
     "text": [
      "processing batch\n"
     ]
    },
    {
     "data": {
      "application/vnd.jupyter.widget-view+json": {
       "model_id": "1943ca481b2744b4a5d39ecc937422cd",
       "version_major": 2,
       "version_minor": 0
      },
      "text/plain": [
       "0it [00:00, ?it/s]"
      ]
     },
     "metadata": {},
     "output_type": "display_data"
    },
    {
     "name": "stdout",
     "output_type": "stream",
     "text": [
      "processing batch\n"
     ]
    },
    {
     "data": {
      "application/vnd.jupyter.widget-view+json": {
       "model_id": "3630d751a81f41a587011c019f1fb5d0",
       "version_major": 2,
       "version_minor": 0
      },
      "text/plain": [
       "0it [00:00, ?it/s]"
      ]
     },
     "metadata": {},
     "output_type": "display_data"
    },
    {
     "name": "stdout",
     "output_type": "stream",
     "text": [
      "processing batch\n"
     ]
    },
    {
     "data": {
      "application/vnd.jupyter.widget-view+json": {
       "model_id": "bbea88650b374bdda62c7401b6a46e12",
       "version_major": 2,
       "version_minor": 0
      },
      "text/plain": [
       "0it [00:00, ?it/s]"
      ]
     },
     "metadata": {},
     "output_type": "display_data"
    },
    {
     "name": "stdout",
     "output_type": "stream",
     "text": [
      "processing batch\n"
     ]
    },
    {
     "data": {
      "application/vnd.jupyter.widget-view+json": {
       "model_id": "7807e48ace2945568bc07d9a9ef90a81",
       "version_major": 2,
       "version_minor": 0
      },
      "text/plain": [
       "0it [00:00, ?it/s]"
      ]
     },
     "metadata": {},
     "output_type": "display_data"
    },
    {
     "name": "stdout",
     "output_type": "stream",
     "text": [
      "processing batch\n"
     ]
    },
    {
     "data": {
      "application/vnd.jupyter.widget-view+json": {
       "model_id": "0971e4750c5e4e43ad6ef8356b7eb6de",
       "version_major": 2,
       "version_minor": 0
      },
      "text/plain": [
       "0it [00:00, ?it/s]"
      ]
     },
     "metadata": {},
     "output_type": "display_data"
    },
    {
     "name": "stdout",
     "output_type": "stream",
     "text": [
      "processing batch\n"
     ]
    },
    {
     "data": {
      "application/vnd.jupyter.widget-view+json": {
       "model_id": "929b4aa56dc6433abfa40a6c95e76e9a",
       "version_major": 2,
       "version_minor": 0
      },
      "text/plain": [
       "0it [00:00, ?it/s]"
      ]
     },
     "metadata": {},
     "output_type": "display_data"
    },
    {
     "name": "stdout",
     "output_type": "stream",
     "text": [
      "processing batch\n"
     ]
    },
    {
     "data": {
      "application/vnd.jupyter.widget-view+json": {
       "model_id": "211d7db5c6104dcfa83bbb338f951238",
       "version_major": 2,
       "version_minor": 0
      },
      "text/plain": [
       "0it [00:00, ?it/s]"
      ]
     },
     "metadata": {},
     "output_type": "display_data"
    },
    {
     "name": "stdout",
     "output_type": "stream",
     "text": [
      "processing batch\n"
     ]
    },
    {
     "data": {
      "application/vnd.jupyter.widget-view+json": {
       "model_id": "636528d69d444a229af1bd562d1967e0",
       "version_major": 2,
       "version_minor": 0
      },
      "text/plain": [
       "0it [00:00, ?it/s]"
      ]
     },
     "metadata": {},
     "output_type": "display_data"
    },
    {
     "name": "stdout",
     "output_type": "stream",
     "text": [
      "processing batch\n"
     ]
    },
    {
     "data": {
      "application/vnd.jupyter.widget-view+json": {
       "model_id": "6f1e64f816b3400596bc30f50757e5dd",
       "version_major": 2,
       "version_minor": 0
      },
      "text/plain": [
       "0it [00:00, ?it/s]"
      ]
     },
     "metadata": {},
     "output_type": "display_data"
    },
    {
     "name": "stdout",
     "output_type": "stream",
     "text": [
      "processing batch\n"
     ]
    },
    {
     "data": {
      "application/vnd.jupyter.widget-view+json": {
       "model_id": "9a52f8d717ce43e0b4e3365b557f264e",
       "version_major": 2,
       "version_minor": 0
      },
      "text/plain": [
       "0it [00:00, ?it/s]"
      ]
     },
     "metadata": {},
     "output_type": "display_data"
    },
    {
     "name": "stdout",
     "output_type": "stream",
     "text": [
      "processing batch\n"
     ]
    },
    {
     "data": {
      "application/vnd.jupyter.widget-view+json": {
       "model_id": "5000bc9cd8ed4c65bf63fb295fecc34d",
       "version_major": 2,
       "version_minor": 0
      },
      "text/plain": [
       "0it [00:00, ?it/s]"
      ]
     },
     "metadata": {},
     "output_type": "display_data"
    },
    {
     "name": "stdout",
     "output_type": "stream",
     "text": [
      "processing batch\n"
     ]
    },
    {
     "data": {
      "application/vnd.jupyter.widget-view+json": {
       "model_id": "d448406f38a74af8866b0d2f977c2147",
       "version_major": 2,
       "version_minor": 0
      },
      "text/plain": [
       "0it [00:00, ?it/s]"
      ]
     },
     "metadata": {},
     "output_type": "display_data"
    },
    {
     "name": "stdout",
     "output_type": "stream",
     "text": [
      "processing batch\n"
     ]
    },
    {
     "data": {
      "application/vnd.jupyter.widget-view+json": {
       "model_id": "11c145a5703f40cd97e854077cdc57ef",
       "version_major": 2,
       "version_minor": 0
      },
      "text/plain": [
       "0it [00:00, ?it/s]"
      ]
     },
     "metadata": {},
     "output_type": "display_data"
    },
    {
     "name": "stdout",
     "output_type": "stream",
     "text": [
      "processing batch\n"
     ]
    },
    {
     "data": {
      "application/vnd.jupyter.widget-view+json": {
       "model_id": "1eeb774e55614b2f9b1af5c9be886e0c",
       "version_major": 2,
       "version_minor": 0
      },
      "text/plain": [
       "0it [00:00, ?it/s]"
      ]
     },
     "metadata": {},
     "output_type": "display_data"
    },
    {
     "name": "stdout",
     "output_type": "stream",
     "text": [
      "processing batch\n"
     ]
    },
    {
     "data": {
      "application/vnd.jupyter.widget-view+json": {
       "model_id": "5a30143dc84d4692bf907fe00f9f1e0c",
       "version_major": 2,
       "version_minor": 0
      },
      "text/plain": [
       "0it [00:00, ?it/s]"
      ]
     },
     "metadata": {},
     "output_type": "display_data"
    },
    {
     "name": "stdout",
     "output_type": "stream",
     "text": [
      "processing batch\n"
     ]
    },
    {
     "data": {
      "application/vnd.jupyter.widget-view+json": {
       "model_id": "49f489fd552f4b7ea864c36fa98f6203",
       "version_major": 2,
       "version_minor": 0
      },
      "text/plain": [
       "0it [00:00, ?it/s]"
      ]
     },
     "metadata": {},
     "output_type": "display_data"
    },
    {
     "name": "stdout",
     "output_type": "stream",
     "text": [
      "processing batch\n"
     ]
    },
    {
     "data": {
      "application/vnd.jupyter.widget-view+json": {
       "model_id": "ce83bc964ea34e30b3d5f85436512434",
       "version_major": 2,
       "version_minor": 0
      },
      "text/plain": [
       "0it [00:00, ?it/s]"
      ]
     },
     "metadata": {},
     "output_type": "display_data"
    },
    {
     "name": "stdout",
     "output_type": "stream",
     "text": [
      "processing batch\n"
     ]
    },
    {
     "data": {
      "application/vnd.jupyter.widget-view+json": {
       "model_id": "f1fb99e462c74269874260e249fb82ed",
       "version_major": 2,
       "version_minor": 0
      },
      "text/plain": [
       "0it [00:00, ?it/s]"
      ]
     },
     "metadata": {},
     "output_type": "display_data"
    },
    {
     "name": "stdout",
     "output_type": "stream",
     "text": [
      "processing batch\n"
     ]
    },
    {
     "data": {
      "application/vnd.jupyter.widget-view+json": {
       "model_id": "0658d1846bb04ac6b88255527877179e",
       "version_major": 2,
       "version_minor": 0
      },
      "text/plain": [
       "0it [00:00, ?it/s]"
      ]
     },
     "metadata": {},
     "output_type": "display_data"
    },
    {
     "name": "stdout",
     "output_type": "stream",
     "text": [
      "processing batch\n"
     ]
    },
    {
     "data": {
      "application/vnd.jupyter.widget-view+json": {
       "model_id": "9dea39f9f7f0491dacc76a3bedbe7dd3",
       "version_major": 2,
       "version_minor": 0
      },
      "text/plain": [
       "0it [00:00, ?it/s]"
      ]
     },
     "metadata": {},
     "output_type": "display_data"
    },
    {
     "name": "stdout",
     "output_type": "stream",
     "text": [
      "processing batch\n"
     ]
    },
    {
     "data": {
      "application/vnd.jupyter.widget-view+json": {
       "model_id": "d1e98bc388344e6aab22da198ce55c4a",
       "version_major": 2,
       "version_minor": 0
      },
      "text/plain": [
       "0it [00:00, ?it/s]"
      ]
     },
     "metadata": {},
     "output_type": "display_data"
    },
    {
     "name": "stdout",
     "output_type": "stream",
     "text": [
      "processing batch\n"
     ]
    },
    {
     "data": {
      "application/vnd.jupyter.widget-view+json": {
       "model_id": "bb531c49ecac49b78b857658cee46794",
       "version_major": 2,
       "version_minor": 0
      },
      "text/plain": [
       "0it [00:00, ?it/s]"
      ]
     },
     "metadata": {},
     "output_type": "display_data"
    },
    {
     "name": "stdout",
     "output_type": "stream",
     "text": [
      "processing batch\n"
     ]
    },
    {
     "data": {
      "application/vnd.jupyter.widget-view+json": {
       "model_id": "cce664604c0843ec879728df1edd02d8",
       "version_major": 2,
       "version_minor": 0
      },
      "text/plain": [
       "0it [00:00, ?it/s]"
      ]
     },
     "metadata": {},
     "output_type": "display_data"
    },
    {
     "name": "stdout",
     "output_type": "stream",
     "text": [
      "processing batch\n"
     ]
    },
    {
     "data": {
      "application/vnd.jupyter.widget-view+json": {
       "model_id": "76a6e54b93854243ab358bbb404b07ef",
       "version_major": 2,
       "version_minor": 0
      },
      "text/plain": [
       "0it [00:00, ?it/s]"
      ]
     },
     "metadata": {},
     "output_type": "display_data"
    },
    {
     "name": "stdout",
     "output_type": "stream",
     "text": [
      "processing batch\n"
     ]
    },
    {
     "data": {
      "application/vnd.jupyter.widget-view+json": {
       "model_id": "c42dbb3db67c4c65abcd32f6ead35ab6",
       "version_major": 2,
       "version_minor": 0
      },
      "text/plain": [
       "0it [00:00, ?it/s]"
      ]
     },
     "metadata": {},
     "output_type": "display_data"
    },
    {
     "name": "stdout",
     "output_type": "stream",
     "text": [
      "processing batch\n"
     ]
    },
    {
     "data": {
      "application/vnd.jupyter.widget-view+json": {
       "model_id": "ba1be1d7201542df9aec3032e1e37f49",
       "version_major": 2,
       "version_minor": 0
      },
      "text/plain": [
       "0it [00:00, ?it/s]"
      ]
     },
     "metadata": {},
     "output_type": "display_data"
    },
    {
     "name": "stdout",
     "output_type": "stream",
     "text": [
      "processing batch\n"
     ]
    },
    {
     "data": {
      "application/vnd.jupyter.widget-view+json": {
       "model_id": "027305dbc12f4412a504136b30bfb4c9",
       "version_major": 2,
       "version_minor": 0
      },
      "text/plain": [
       "0it [00:00, ?it/s]"
      ]
     },
     "metadata": {},
     "output_type": "display_data"
    },
    {
     "name": "stdout",
     "output_type": "stream",
     "text": [
      "processing batch\n"
     ]
    },
    {
     "data": {
      "application/vnd.jupyter.widget-view+json": {
       "model_id": "acb78d571bf649a9b610f30bc2e737e5",
       "version_major": 2,
       "version_minor": 0
      },
      "text/plain": [
       "0it [00:00, ?it/s]"
      ]
     },
     "metadata": {},
     "output_type": "display_data"
    },
    {
     "name": "stdout",
     "output_type": "stream",
     "text": [
      "processing batch\n"
     ]
    },
    {
     "data": {
      "application/vnd.jupyter.widget-view+json": {
       "model_id": "70ba92a9d0c54ffd8fd2b8aae9437af0",
       "version_major": 2,
       "version_minor": 0
      },
      "text/plain": [
       "0it [00:00, ?it/s]"
      ]
     },
     "metadata": {},
     "output_type": "display_data"
    },
    {
     "name": "stdout",
     "output_type": "stream",
     "text": [
      "processing batch\n"
     ]
    },
    {
     "data": {
      "application/vnd.jupyter.widget-view+json": {
       "model_id": "191eeffcbbba4cafa36b5c21fb377a56",
       "version_major": 2,
       "version_minor": 0
      },
      "text/plain": [
       "0it [00:00, ?it/s]"
      ]
     },
     "metadata": {},
     "output_type": "display_data"
    },
    {
     "name": "stdout",
     "output_type": "stream",
     "text": [
      "processing batch\n"
     ]
    },
    {
     "data": {
      "application/vnd.jupyter.widget-view+json": {
       "model_id": "fc805af7abb94c42ae764feffd839aa6",
       "version_major": 2,
       "version_minor": 0
      },
      "text/plain": [
       "0it [00:00, ?it/s]"
      ]
     },
     "metadata": {},
     "output_type": "display_data"
    },
    {
     "name": "stdout",
     "output_type": "stream",
     "text": [
      "processing batch\n"
     ]
    },
    {
     "data": {
      "application/vnd.jupyter.widget-view+json": {
       "model_id": "9504cc656e1544d38baacfa7d9496a3f",
       "version_major": 2,
       "version_minor": 0
      },
      "text/plain": [
       "0it [00:00, ?it/s]"
      ]
     },
     "metadata": {},
     "output_type": "display_data"
    },
    {
     "name": "stdout",
     "output_type": "stream",
     "text": [
      "processing batch\n"
     ]
    },
    {
     "data": {
      "application/vnd.jupyter.widget-view+json": {
       "model_id": "ff7e66f10b704b21b845d64fb1979260",
       "version_major": 2,
       "version_minor": 0
      },
      "text/plain": [
       "0it [00:00, ?it/s]"
      ]
     },
     "metadata": {},
     "output_type": "display_data"
    },
    {
     "name": "stdout",
     "output_type": "stream",
     "text": [
      "processing batch\n"
     ]
    },
    {
     "data": {
      "application/vnd.jupyter.widget-view+json": {
       "model_id": "4f2417b36c104f6cbde461c3136b1658",
       "version_major": 2,
       "version_minor": 0
      },
      "text/plain": [
       "0it [00:00, ?it/s]"
      ]
     },
     "metadata": {},
     "output_type": "display_data"
    },
    {
     "name": "stdout",
     "output_type": "stream",
     "text": [
      "processing batch\n"
     ]
    },
    {
     "data": {
      "application/vnd.jupyter.widget-view+json": {
       "model_id": "e4b02dae25fb45999988e618514a2df0",
       "version_major": 2,
       "version_minor": 0
      },
      "text/plain": [
       "0it [00:00, ?it/s]"
      ]
     },
     "metadata": {},
     "output_type": "display_data"
    },
    {
     "name": "stdout",
     "output_type": "stream",
     "text": [
      "processing batch\n"
     ]
    },
    {
     "data": {
      "application/vnd.jupyter.widget-view+json": {
       "model_id": "4030a04191b747b19382f63a212acf79",
       "version_major": 2,
       "version_minor": 0
      },
      "text/plain": [
       "0it [00:00, ?it/s]"
      ]
     },
     "metadata": {},
     "output_type": "display_data"
    },
    {
     "name": "stdout",
     "output_type": "stream",
     "text": [
      "processing batch\n"
     ]
    },
    {
     "data": {
      "application/vnd.jupyter.widget-view+json": {
       "model_id": "f764acaa5f994af0905a90cff586bdb8",
       "version_major": 2,
       "version_minor": 0
      },
      "text/plain": [
       "0it [00:00, ?it/s]"
      ]
     },
     "metadata": {},
     "output_type": "display_data"
    },
    {
     "name": "stdout",
     "output_type": "stream",
     "text": [
      "processing batch\n"
     ]
    },
    {
     "data": {
      "application/vnd.jupyter.widget-view+json": {
       "model_id": "5adf5ffd92994c4cadb117ce58ec6bf2",
       "version_major": 2,
       "version_minor": 0
      },
      "text/plain": [
       "0it [00:00, ?it/s]"
      ]
     },
     "metadata": {},
     "output_type": "display_data"
    },
    {
     "name": "stdout",
     "output_type": "stream",
     "text": [
      "processing batch\n"
     ]
    },
    {
     "data": {
      "application/vnd.jupyter.widget-view+json": {
       "model_id": "b7363a8478a44f6d8004a345b00d3bde",
       "version_major": 2,
       "version_minor": 0
      },
      "text/plain": [
       "0it [00:00, ?it/s]"
      ]
     },
     "metadata": {},
     "output_type": "display_data"
    },
    {
     "name": "stdout",
     "output_type": "stream",
     "text": [
      "processing batch\n"
     ]
    },
    {
     "data": {
      "application/vnd.jupyter.widget-view+json": {
       "model_id": "8d5ba073ffd044168ea25f14635ac573",
       "version_major": 2,
       "version_minor": 0
      },
      "text/plain": [
       "0it [00:00, ?it/s]"
      ]
     },
     "metadata": {},
     "output_type": "display_data"
    },
    {
     "name": "stdout",
     "output_type": "stream",
     "text": [
      "processing batch\n"
     ]
    },
    {
     "data": {
      "application/vnd.jupyter.widget-view+json": {
       "model_id": "5ad65f67f8624438a3c5587c31c42fb7",
       "version_major": 2,
       "version_minor": 0
      },
      "text/plain": [
       "0it [00:00, ?it/s]"
      ]
     },
     "metadata": {},
     "output_type": "display_data"
    },
    {
     "name": "stdout",
     "output_type": "stream",
     "text": [
      "processing batch\n"
     ]
    },
    {
     "data": {
      "application/vnd.jupyter.widget-view+json": {
       "model_id": "b881ccd77aad4c36abb54cfc5ed807d4",
       "version_major": 2,
       "version_minor": 0
      },
      "text/plain": [
       "0it [00:00, ?it/s]"
      ]
     },
     "metadata": {},
     "output_type": "display_data"
    },
    {
     "name": "stdout",
     "output_type": "stream",
     "text": [
      "processing batch\n"
     ]
    },
    {
     "data": {
      "application/vnd.jupyter.widget-view+json": {
       "model_id": "5d26d0e710414cd1867b5cd831577b91",
       "version_major": 2,
       "version_minor": 0
      },
      "text/plain": [
       "0it [00:00, ?it/s]"
      ]
     },
     "metadata": {},
     "output_type": "display_data"
    },
    {
     "name": "stdout",
     "output_type": "stream",
     "text": [
      "processing batch\n"
     ]
    },
    {
     "data": {
      "application/vnd.jupyter.widget-view+json": {
       "model_id": "8e61c33b62f044189a6a90bc4575aa5f",
       "version_major": 2,
       "version_minor": 0
      },
      "text/plain": [
       "0it [00:00, ?it/s]"
      ]
     },
     "metadata": {},
     "output_type": "display_data"
    },
    {
     "name": "stdout",
     "output_type": "stream",
     "text": [
      "processing last batch\n",
      "CPU times: user 2h 17min 41s, sys: 10min 18s, total: 2h 28min\n",
      "Wall time: 2h 26min 59s\n"
     ]
    },
    {
     "data": {
      "text/html": [
       "<div>\n",
       "<style scoped>\n",
       "    .dataframe tbody tr th:only-of-type {\n",
       "        vertical-align: middle;\n",
       "    }\n",
       "\n",
       "    .dataframe tbody tr th {\n",
       "        vertical-align: top;\n",
       "    }\n",
       "\n",
       "    .dataframe thead th {\n",
       "        text-align: right;\n",
       "    }\n",
       "</style>\n",
       "<table border=\"1\" class=\"dataframe\">\n",
       "  <thead>\n",
       "    <tr style=\"text-align: right;\">\n",
       "      <th>id_col</th>\n",
       "      <th>rs145069787</th>\n",
       "      <th>rs12723953</th>\n",
       "      <th>rs76539137</th>\n",
       "      <th>rs72895585</th>\n",
       "      <th>rs183954195</th>\n",
       "      <th>rs185007189</th>\n",
       "      <th>rs7556636</th>\n",
       "      <th>rs145966388</th>\n",
       "      <th>rs79421110</th>\n",
       "      <th>rs74070515</th>\n",
       "      <th>...</th>\n",
       "      <th>rs1812336</th>\n",
       "      <th>rs12747060</th>\n",
       "      <th>rs115621001</th>\n",
       "      <th>rs72895568</th>\n",
       "      <th>rs2994537</th>\n",
       "      <th>rs67874053</th>\n",
       "      <th>rs12728804</th>\n",
       "      <th>rs145501305</th>\n",
       "      <th>rs270725</th>\n",
       "      <th>rs188420889</th>\n",
       "    </tr>\n",
       "    <tr>\n",
       "      <th>sample_id</th>\n",
       "      <th></th>\n",
       "      <th></th>\n",
       "      <th></th>\n",
       "      <th></th>\n",
       "      <th></th>\n",
       "      <th></th>\n",
       "      <th></th>\n",
       "      <th></th>\n",
       "      <th></th>\n",
       "      <th></th>\n",
       "      <th></th>\n",
       "      <th></th>\n",
       "      <th></th>\n",
       "      <th></th>\n",
       "      <th></th>\n",
       "      <th></th>\n",
       "      <th></th>\n",
       "      <th></th>\n",
       "      <th></th>\n",
       "      <th></th>\n",
       "      <th></th>\n",
       "    </tr>\n",
       "  </thead>\n",
       "  <tbody>\n",
       "    <tr>\n",
       "      <th>sample1</th>\n",
       "      <td>GG</td>\n",
       "      <td>TT</td>\n",
       "      <td>AA</td>\n",
       "      <td>CC</td>\n",
       "      <td>TT</td>\n",
       "      <td>AA</td>\n",
       "      <td>GG</td>\n",
       "      <td>AA</td>\n",
       "      <td>GG</td>\n",
       "      <td>CC</td>\n",
       "      <td>...</td>\n",
       "      <td>TT</td>\n",
       "      <td>AA</td>\n",
       "      <td>GG</td>\n",
       "      <td>AA</td>\n",
       "      <td>AA</td>\n",
       "      <td>CC</td>\n",
       "      <td>AA</td>\n",
       "      <td>TT</td>\n",
       "      <td>TT</td>\n",
       "      <td>GG</td>\n",
       "    </tr>\n",
       "    <tr>\n",
       "      <th>sample2</th>\n",
       "      <td>GG</td>\n",
       "      <td>CT</td>\n",
       "      <td>AA</td>\n",
       "      <td>CC</td>\n",
       "      <td>TT</td>\n",
       "      <td>AA</td>\n",
       "      <td>GG</td>\n",
       "      <td>AA</td>\n",
       "      <td>GG</td>\n",
       "      <td>CC</td>\n",
       "      <td>...</td>\n",
       "      <td>TT</td>\n",
       "      <td>AG</td>\n",
       "      <td>GG</td>\n",
       "      <td>AA</td>\n",
       "      <td>AA</td>\n",
       "      <td>CC</td>\n",
       "      <td>AG</td>\n",
       "      <td>TT</td>\n",
       "      <td>TT</td>\n",
       "      <td>GG</td>\n",
       "    </tr>\n",
       "    <tr>\n",
       "      <th>sample3</th>\n",
       "      <td>GG</td>\n",
       "      <td>NA</td>\n",
       "      <td>AA</td>\n",
       "      <td>CC</td>\n",
       "      <td>TT</td>\n",
       "      <td>AA</td>\n",
       "      <td>GG</td>\n",
       "      <td>AA</td>\n",
       "      <td>NA</td>\n",
       "      <td>CC</td>\n",
       "      <td>...</td>\n",
       "      <td>TT</td>\n",
       "      <td>GG</td>\n",
       "      <td>GG</td>\n",
       "      <td>AA</td>\n",
       "      <td>NA</td>\n",
       "      <td>NA</td>\n",
       "      <td>NA</td>\n",
       "      <td>TT</td>\n",
       "      <td>TT</td>\n",
       "      <td>GG</td>\n",
       "    </tr>\n",
       "    <tr>\n",
       "      <th>sample4</th>\n",
       "      <td>GG</td>\n",
       "      <td>NA</td>\n",
       "      <td>AA</td>\n",
       "      <td>CC</td>\n",
       "      <td>TT</td>\n",
       "      <td>AA</td>\n",
       "      <td>GG</td>\n",
       "      <td>AA</td>\n",
       "      <td>GG</td>\n",
       "      <td>CC</td>\n",
       "      <td>...</td>\n",
       "      <td>GT</td>\n",
       "      <td>AG</td>\n",
       "      <td>GG</td>\n",
       "      <td>AA</td>\n",
       "      <td>AA</td>\n",
       "      <td>CC</td>\n",
       "      <td>AG</td>\n",
       "      <td>TT</td>\n",
       "      <td>TT</td>\n",
       "      <td>GG</td>\n",
       "    </tr>\n",
       "    <tr>\n",
       "      <th>sample5</th>\n",
       "      <td>GG</td>\n",
       "      <td>CC</td>\n",
       "      <td>AA</td>\n",
       "      <td>CC</td>\n",
       "      <td>TT</td>\n",
       "      <td>AA</td>\n",
       "      <td>GG</td>\n",
       "      <td>AA</td>\n",
       "      <td>GG</td>\n",
       "      <td>CC</td>\n",
       "      <td>...</td>\n",
       "      <td>TT</td>\n",
       "      <td>GG</td>\n",
       "      <td>GG</td>\n",
       "      <td>AA</td>\n",
       "      <td>AA</td>\n",
       "      <td>CC</td>\n",
       "      <td>GG</td>\n",
       "      <td>TT</td>\n",
       "      <td>TT</td>\n",
       "      <td>GG</td>\n",
       "    </tr>\n",
       "    <tr>\n",
       "      <th>...</th>\n",
       "      <td>...</td>\n",
       "      <td>...</td>\n",
       "      <td>...</td>\n",
       "      <td>...</td>\n",
       "      <td>...</td>\n",
       "      <td>...</td>\n",
       "      <td>...</td>\n",
       "      <td>...</td>\n",
       "      <td>...</td>\n",
       "      <td>...</td>\n",
       "      <td>...</td>\n",
       "      <td>...</td>\n",
       "      <td>...</td>\n",
       "      <td>...</td>\n",
       "      <td>...</td>\n",
       "      <td>...</td>\n",
       "      <td>...</td>\n",
       "      <td>...</td>\n",
       "      <td>...</td>\n",
       "      <td>...</td>\n",
       "      <td>...</td>\n",
       "    </tr>\n",
       "    <tr>\n",
       "      <th>sample9768</th>\n",
       "      <td>GG</td>\n",
       "      <td>CT</td>\n",
       "      <td>AA</td>\n",
       "      <td>CC</td>\n",
       "      <td>TT</td>\n",
       "      <td>AA</td>\n",
       "      <td>GG</td>\n",
       "      <td>AA</td>\n",
       "      <td>AG</td>\n",
       "      <td>CC</td>\n",
       "      <td>...</td>\n",
       "      <td>GT</td>\n",
       "      <td>GG</td>\n",
       "      <td>GG</td>\n",
       "      <td>AA</td>\n",
       "      <td>AA</td>\n",
       "      <td>CC</td>\n",
       "      <td>GG</td>\n",
       "      <td>TT</td>\n",
       "      <td>TT</td>\n",
       "      <td>GG</td>\n",
       "    </tr>\n",
       "    <tr>\n",
       "      <th>sample9769</th>\n",
       "      <td>GG</td>\n",
       "      <td>CT</td>\n",
       "      <td>AA</td>\n",
       "      <td>CC</td>\n",
       "      <td>TT</td>\n",
       "      <td>AA</td>\n",
       "      <td>GG</td>\n",
       "      <td>AA</td>\n",
       "      <td>GG</td>\n",
       "      <td>CT</td>\n",
       "      <td>...</td>\n",
       "      <td>TT</td>\n",
       "      <td>GG</td>\n",
       "      <td>GG</td>\n",
       "      <td>AA</td>\n",
       "      <td>AA</td>\n",
       "      <td>CC</td>\n",
       "      <td>GG</td>\n",
       "      <td>TT</td>\n",
       "      <td>TT</td>\n",
       "      <td>GG</td>\n",
       "    </tr>\n",
       "    <tr>\n",
       "      <th>sample9770</th>\n",
       "      <td>GG</td>\n",
       "      <td>CC</td>\n",
       "      <td>AA</td>\n",
       "      <td>CC</td>\n",
       "      <td>TT</td>\n",
       "      <td>AA</td>\n",
       "      <td>GG</td>\n",
       "      <td>AA</td>\n",
       "      <td>GG</td>\n",
       "      <td>CC</td>\n",
       "      <td>...</td>\n",
       "      <td>TT</td>\n",
       "      <td>GG</td>\n",
       "      <td>GG</td>\n",
       "      <td>AA</td>\n",
       "      <td>AA</td>\n",
       "      <td>CC</td>\n",
       "      <td>GG</td>\n",
       "      <td>TT</td>\n",
       "      <td>TT</td>\n",
       "      <td>GG</td>\n",
       "    </tr>\n",
       "    <tr>\n",
       "      <th>sample9771</th>\n",
       "      <td>GG</td>\n",
       "      <td>CT</td>\n",
       "      <td>AA</td>\n",
       "      <td>CC</td>\n",
       "      <td>TT</td>\n",
       "      <td>AA</td>\n",
       "      <td>GG</td>\n",
       "      <td>AA</td>\n",
       "      <td>GG</td>\n",
       "      <td>CT</td>\n",
       "      <td>...</td>\n",
       "      <td>TT</td>\n",
       "      <td>GG</td>\n",
       "      <td>GG</td>\n",
       "      <td>AA</td>\n",
       "      <td>AA</td>\n",
       "      <td>CC</td>\n",
       "      <td>GG</td>\n",
       "      <td>TT</td>\n",
       "      <td>TT</td>\n",
       "      <td>GG</td>\n",
       "    </tr>\n",
       "    <tr>\n",
       "      <th>sample9772</th>\n",
       "      <td>GG</td>\n",
       "      <td>CT</td>\n",
       "      <td>AC</td>\n",
       "      <td>CC</td>\n",
       "      <td>TT</td>\n",
       "      <td>AA</td>\n",
       "      <td>GG</td>\n",
       "      <td>AA</td>\n",
       "      <td>AA</td>\n",
       "      <td>CC</td>\n",
       "      <td>...</td>\n",
       "      <td>GT</td>\n",
       "      <td>AG</td>\n",
       "      <td>GG</td>\n",
       "      <td>AA</td>\n",
       "      <td>AT</td>\n",
       "      <td>CT</td>\n",
       "      <td>GG</td>\n",
       "      <td>TT</td>\n",
       "      <td>TT</td>\n",
       "      <td>GG</td>\n",
       "    </tr>\n",
       "  </tbody>\n",
       "</table>\n",
       "<p>9772 rows × 100000 columns</p>\n",
       "</div>"
      ],
      "text/plain": [
       "id_col     rs145069787 rs12723953 rs76539137 rs72895585 rs183954195  \\\n",
       "sample_id                                                             \n",
       "sample1             GG         TT         AA         CC          TT   \n",
       "sample2             GG         CT         AA         CC          TT   \n",
       "sample3             GG         NA         AA         CC          TT   \n",
       "sample4             GG         NA         AA         CC          TT   \n",
       "sample5             GG         CC         AA         CC          TT   \n",
       "...                ...        ...        ...        ...         ...   \n",
       "sample9768          GG         CT         AA         CC          TT   \n",
       "sample9769          GG         CT         AA         CC          TT   \n",
       "sample9770          GG         CC         AA         CC          TT   \n",
       "sample9771          GG         CT         AA         CC          TT   \n",
       "sample9772          GG         CT         AC         CC          TT   \n",
       "\n",
       "id_col     rs185007189 rs7556636 rs145966388 rs79421110 rs74070515  ...  \\\n",
       "sample_id                                                           ...   \n",
       "sample1             AA        GG          AA         GG         CC  ...   \n",
       "sample2             AA        GG          AA         GG         CC  ...   \n",
       "sample3             AA        GG          AA         NA         CC  ...   \n",
       "sample4             AA        GG          AA         GG         CC  ...   \n",
       "sample5             AA        GG          AA         GG         CC  ...   \n",
       "...                ...       ...         ...        ...        ...  ...   \n",
       "sample9768          AA        GG          AA         AG         CC  ...   \n",
       "sample9769          AA        GG          AA         GG         CT  ...   \n",
       "sample9770          AA        GG          AA         GG         CC  ...   \n",
       "sample9771          AA        GG          AA         GG         CT  ...   \n",
       "sample9772          AA        GG          AA         AA         CC  ...   \n",
       "\n",
       "id_col     rs1812336 rs12747060 rs115621001 rs72895568 rs2994537 rs67874053  \\\n",
       "sample_id                                                                     \n",
       "sample1           TT         AA          GG         AA        AA         CC   \n",
       "sample2           TT         AG          GG         AA        AA         CC   \n",
       "sample3           TT         GG          GG         AA        NA         NA   \n",
       "sample4           GT         AG          GG         AA        AA         CC   \n",
       "sample5           TT         GG          GG         AA        AA         CC   \n",
       "...              ...        ...         ...        ...       ...        ...   \n",
       "sample9768        GT         GG          GG         AA        AA         CC   \n",
       "sample9769        TT         GG          GG         AA        AA         CC   \n",
       "sample9770        TT         GG          GG         AA        AA         CC   \n",
       "sample9771        TT         GG          GG         AA        AA         CC   \n",
       "sample9772        GT         AG          GG         AA        AT         CT   \n",
       "\n",
       "id_col     rs12728804 rs145501305 rs270725 rs188420889  \n",
       "sample_id                                               \n",
       "sample1            AA          TT       TT          GG  \n",
       "sample2            AG          TT       TT          GG  \n",
       "sample3            NA          TT       TT          GG  \n",
       "sample4            AG          TT       TT          GG  \n",
       "sample5            GG          TT       TT          GG  \n",
       "...               ...         ...      ...         ...  \n",
       "sample9768         GG          TT       TT          GG  \n",
       "sample9769         GG          TT       TT          GG  \n",
       "sample9770         GG          TT       TT          GG  \n",
       "sample9771         GG          TT       TT          GG  \n",
       "sample9772         GG          TT       TT          GG  \n",
       "\n",
       "[9772 rows x 100000 columns]"
      ]
     },
     "execution_count": 242,
     "metadata": {},
     "output_type": "execute_result"
    }
   ],
   "source": [
    "%time test_gen_file_chrom_1.get_rsid_df(query_rsid_set, [\"rsid\", \"position\"], batch_size = 1_000)"
   ]
  },
  {
   "cell_type": "code",
   "execution_count": 195,
   "metadata": {
    "execution": {
     "iopub.execute_input": "2021-06-15T15:58:02.330116Z",
     "iopub.status.busy": "2021-06-15T15:58:02.329643Z",
     "iopub.status.idle": "2021-06-15T15:58:04.046441Z",
     "shell.execute_reply": "2021-06-15T15:58:04.045721Z",
     "shell.execute_reply.started": "2021-06-15T15:58:02.330056Z"
    }
   },
   "outputs": [
    {
     "data": {
      "text/plain": [
       "1"
      ]
     },
     "execution_count": 195,
     "metadata": {},
     "output_type": "execute_result"
    }
   ],
   "source": [
    "big_gen_file.column_headers.index(\"rsid\")"
   ]
  },
  {
   "cell_type": "code",
   "execution_count": 144,
   "metadata": {
    "execution": {
     "iopub.execute_input": "2021-06-09T16:10:59.459375Z",
     "iopub.status.busy": "2021-06-09T16:10:59.458986Z",
     "iopub.status.idle": "2021-06-09T16:40:21.806760Z",
     "shell.execute_reply": "2021-06-09T16:40:21.805723Z",
     "shell.execute_reply.started": "2021-06-09T16:10:59.459330Z"
    }
   },
   "outputs": [
    {
     "data": {
      "application/vnd.jupyter.widget-view+json": {
       "model_id": "ec2fa7c5b43c4c62910c405cd814be5a",
       "version_major": 2,
       "version_minor": 0
      },
      "text/plain": [
       "0it [00:00, ?it/s]"
      ]
     },
     "metadata": {},
     "output_type": "display_data"
    }
   ],
   "source": [
    "found_line = []\n",
    "with open(test_generator.file_path, \"r\") as file:\n",
    "    for i,line in tqdm(enumerate(file)):\n",
    "        line_list = line.strip().split(\" \")\n",
    "        if line_list[1] in query_rsid_set:\n",
    "            found_line.append(line_list)\n",
    "        \n",
    "        "
   ]
  },
  {
   "cell_type": "code",
   "execution_count": 146,
   "metadata": {
    "execution": {
     "iopub.execute_input": "2021-06-09T16:50:04.373221Z",
     "iopub.status.busy": "2021-06-09T16:50:04.372833Z",
     "iopub.status.idle": "2021-06-09T17:10:07.783894Z",
     "shell.execute_reply": "2021-06-09T17:10:07.782911Z",
     "shell.execute_reply.started": "2021-06-09T16:50:04.373178Z"
    }
   },
   "outputs": [
    {
     "name": "stdout",
     "output_type": "stream",
     "text": [
      "CPU times: user 19min 4s, sys: 59.3 s, total: 20min 3s\n",
      "Wall time: 20min 3s\n"
     ]
    }
   ],
   "source": [
    "%time combined_lines = pd.DataFrame.from_records(found_line, columns = big_gen_file.column_headers)\n",
    "combined_lines = combined_lines.set_index(\"rsid\")"
   ]
  },
  {
   "cell_type": "code",
   "execution_count": 155,
   "metadata": {
    "execution": {
     "iopub.execute_input": "2021-06-15T12:54:21.987554Z",
     "iopub.status.busy": "2021-06-15T12:54:21.986945Z",
     "iopub.status.idle": "2021-06-15T12:55:42.492523Z",
     "shell.execute_reply": "2021-06-15T12:55:42.491779Z",
     "shell.execute_reply.started": "2021-06-15T12:54:21.987486Z"
    }
   },
   "outputs": [
    {
     "name": "stdout",
     "output_type": "stream",
     "text": [
      "CPU times: user 47.3 s, sys: 34 s, total: 1min 21s\n",
      "Wall time: 1min 20s\n"
     ]
    },
    {
     "data": {
      "text/html": [
       "<div>\n",
       "<style scoped>\n",
       "    .dataframe tbody tr th:only-of-type {\n",
       "        vertical-align: middle;\n",
       "    }\n",
       "\n",
       "    .dataframe tbody tr th {\n",
       "        vertical-align: top;\n",
       "    }\n",
       "\n",
       "    .dataframe thead th {\n",
       "        text-align: right;\n",
       "    }\n",
       "</style>\n",
       "<table border=\"1\" class=\"dataframe\">\n",
       "  <thead>\n",
       "    <tr style=\"text-align: right;\">\n",
       "      <th></th>\n",
       "      <th>dashes</th>\n",
       "      <th>position</th>\n",
       "      <th>ref</th>\n",
       "      <th>alt</th>\n",
       "      <th>sample1_1</th>\n",
       "      <th>sample1_2</th>\n",
       "      <th>sample1_3</th>\n",
       "      <th>sample2_1</th>\n",
       "      <th>sample2_2</th>\n",
       "      <th>sample2_3</th>\n",
       "      <th>...</th>\n",
       "      <th>sample9770_3</th>\n",
       "      <th>sample9771_1</th>\n",
       "      <th>sample9771_2</th>\n",
       "      <th>sample9771_3</th>\n",
       "      <th>sample9772_1</th>\n",
       "      <th>sample9772_2</th>\n",
       "      <th>sample9772_3</th>\n",
       "      <th>homo_ref</th>\n",
       "      <th>het</th>\n",
       "      <th>homo_alt</th>\n",
       "    </tr>\n",
       "    <tr>\n",
       "      <th>rsid</th>\n",
       "      <th></th>\n",
       "      <th></th>\n",
       "      <th></th>\n",
       "      <th></th>\n",
       "      <th></th>\n",
       "      <th></th>\n",
       "      <th></th>\n",
       "      <th></th>\n",
       "      <th></th>\n",
       "      <th></th>\n",
       "      <th></th>\n",
       "      <th></th>\n",
       "      <th></th>\n",
       "      <th></th>\n",
       "      <th></th>\n",
       "      <th></th>\n",
       "      <th></th>\n",
       "      <th></th>\n",
       "      <th></th>\n",
       "      <th></th>\n",
       "      <th></th>\n",
       "    </tr>\n",
       "  </thead>\n",
       "  <tbody>\n",
       "    <tr>\n",
       "      <th>rs145069787</th>\n",
       "      <td>---</td>\n",
       "      <td>45001018</td>\n",
       "      <td>G</td>\n",
       "      <td>A</td>\n",
       "      <td>1</td>\n",
       "      <td>0</td>\n",
       "      <td>0</td>\n",
       "      <td>1</td>\n",
       "      <td>0</td>\n",
       "      <td>0</td>\n",
       "      <td>...</td>\n",
       "      <td>0</td>\n",
       "      <td>1</td>\n",
       "      <td>0</td>\n",
       "      <td>0</td>\n",
       "      <td>1</td>\n",
       "      <td>0</td>\n",
       "      <td>0</td>\n",
       "      <td>GG</td>\n",
       "      <td>AG</td>\n",
       "      <td>AA</td>\n",
       "    </tr>\n",
       "    <tr>\n",
       "      <th>rs12723953</th>\n",
       "      <td>---</td>\n",
       "      <td>45001453</td>\n",
       "      <td>C</td>\n",
       "      <td>T</td>\n",
       "      <td>0</td>\n",
       "      <td>0</td>\n",
       "      <td>1</td>\n",
       "      <td>0</td>\n",
       "      <td>1</td>\n",
       "      <td>0</td>\n",
       "      <td>...</td>\n",
       "      <td>0</td>\n",
       "      <td>0</td>\n",
       "      <td>1</td>\n",
       "      <td>0</td>\n",
       "      <td>0.052</td>\n",
       "      <td>0.948</td>\n",
       "      <td>0</td>\n",
       "      <td>CC</td>\n",
       "      <td>CT</td>\n",
       "      <td>TT</td>\n",
       "    </tr>\n",
       "    <tr>\n",
       "      <th>rs76539137</th>\n",
       "      <td>---</td>\n",
       "      <td>45002271</td>\n",
       "      <td>A</td>\n",
       "      <td>C</td>\n",
       "      <td>1</td>\n",
       "      <td>0</td>\n",
       "      <td>0</td>\n",
       "      <td>1</td>\n",
       "      <td>0</td>\n",
       "      <td>0</td>\n",
       "      <td>...</td>\n",
       "      <td>0</td>\n",
       "      <td>1</td>\n",
       "      <td>0</td>\n",
       "      <td>0</td>\n",
       "      <td>0.002</td>\n",
       "      <td>0.924</td>\n",
       "      <td>0.075</td>\n",
       "      <td>AA</td>\n",
       "      <td>AC</td>\n",
       "      <td>CC</td>\n",
       "    </tr>\n",
       "    <tr>\n",
       "      <th>rs72895585</th>\n",
       "      <td>---</td>\n",
       "      <td>45002766</td>\n",
       "      <td>C</td>\n",
       "      <td>T</td>\n",
       "      <td>1</td>\n",
       "      <td>0</td>\n",
       "      <td>0</td>\n",
       "      <td>1</td>\n",
       "      <td>0</td>\n",
       "      <td>0</td>\n",
       "      <td>...</td>\n",
       "      <td>0</td>\n",
       "      <td>1</td>\n",
       "      <td>0</td>\n",
       "      <td>0</td>\n",
       "      <td>1</td>\n",
       "      <td>0</td>\n",
       "      <td>0</td>\n",
       "      <td>CC</td>\n",
       "      <td>CT</td>\n",
       "      <td>TT</td>\n",
       "    </tr>\n",
       "    <tr>\n",
       "      <th>rs183954195</th>\n",
       "      <td>---</td>\n",
       "      <td>45003250</td>\n",
       "      <td>T</td>\n",
       "      <td>A</td>\n",
       "      <td>1</td>\n",
       "      <td>0</td>\n",
       "      <td>0</td>\n",
       "      <td>1</td>\n",
       "      <td>0</td>\n",
       "      <td>0</td>\n",
       "      <td>...</td>\n",
       "      <td>0</td>\n",
       "      <td>1</td>\n",
       "      <td>0</td>\n",
       "      <td>0</td>\n",
       "      <td>1</td>\n",
       "      <td>0</td>\n",
       "      <td>0</td>\n",
       "      <td>TT</td>\n",
       "      <td>AT</td>\n",
       "      <td>AA</td>\n",
       "    </tr>\n",
       "    <tr>\n",
       "      <th>...</th>\n",
       "      <td>...</td>\n",
       "      <td>...</td>\n",
       "      <td>...</td>\n",
       "      <td>...</td>\n",
       "      <td>...</td>\n",
       "      <td>...</td>\n",
       "      <td>...</td>\n",
       "      <td>...</td>\n",
       "      <td>...</td>\n",
       "      <td>...</td>\n",
       "      <td>...</td>\n",
       "      <td>...</td>\n",
       "      <td>...</td>\n",
       "      <td>...</td>\n",
       "      <td>...</td>\n",
       "      <td>...</td>\n",
       "      <td>...</td>\n",
       "      <td>...</td>\n",
       "      <td>...</td>\n",
       "      <td>...</td>\n",
       "      <td>...</td>\n",
       "    </tr>\n",
       "    <tr>\n",
       "      <th>rs67874053</th>\n",
       "      <td>---</td>\n",
       "      <td>44984011</td>\n",
       "      <td>C</td>\n",
       "      <td>T</td>\n",
       "      <td>1</td>\n",
       "      <td>0</td>\n",
       "      <td>0</td>\n",
       "      <td>1</td>\n",
       "      <td>0</td>\n",
       "      <td>0</td>\n",
       "      <td>...</td>\n",
       "      <td>0</td>\n",
       "      <td>1</td>\n",
       "      <td>0</td>\n",
       "      <td>0</td>\n",
       "      <td>0</td>\n",
       "      <td>1</td>\n",
       "      <td>0</td>\n",
       "      <td>CC</td>\n",
       "      <td>CT</td>\n",
       "      <td>TT</td>\n",
       "    </tr>\n",
       "    <tr>\n",
       "      <th>rs12728804</th>\n",
       "      <td>---</td>\n",
       "      <td>44984921</td>\n",
       "      <td>G</td>\n",
       "      <td>A</td>\n",
       "      <td>0</td>\n",
       "      <td>0</td>\n",
       "      <td>1</td>\n",
       "      <td>0</td>\n",
       "      <td>1</td>\n",
       "      <td>0</td>\n",
       "      <td>...</td>\n",
       "      <td>0</td>\n",
       "      <td>1</td>\n",
       "      <td>0</td>\n",
       "      <td>0</td>\n",
       "      <td>1</td>\n",
       "      <td>0</td>\n",
       "      <td>0</td>\n",
       "      <td>GG</td>\n",
       "      <td>AG</td>\n",
       "      <td>AA</td>\n",
       "    </tr>\n",
       "    <tr>\n",
       "      <th>rs145501305</th>\n",
       "      <td>---</td>\n",
       "      <td>44991420</td>\n",
       "      <td>T</td>\n",
       "      <td>A</td>\n",
       "      <td>1</td>\n",
       "      <td>0</td>\n",
       "      <td>0</td>\n",
       "      <td>1</td>\n",
       "      <td>0</td>\n",
       "      <td>0</td>\n",
       "      <td>...</td>\n",
       "      <td>0</td>\n",
       "      <td>1</td>\n",
       "      <td>0</td>\n",
       "      <td>0</td>\n",
       "      <td>1</td>\n",
       "      <td>0</td>\n",
       "      <td>0</td>\n",
       "      <td>TT</td>\n",
       "      <td>AT</td>\n",
       "      <td>AA</td>\n",
       "    </tr>\n",
       "    <tr>\n",
       "      <th>rs270725</th>\n",
       "      <td>---</td>\n",
       "      <td>44991725</td>\n",
       "      <td>C</td>\n",
       "      <td>T</td>\n",
       "      <td>0</td>\n",
       "      <td>0</td>\n",
       "      <td>1</td>\n",
       "      <td>0</td>\n",
       "      <td>0</td>\n",
       "      <td>1</td>\n",
       "      <td>...</td>\n",
       "      <td>1</td>\n",
       "      <td>0</td>\n",
       "      <td>0</td>\n",
       "      <td>1</td>\n",
       "      <td>0</td>\n",
       "      <td>0</td>\n",
       "      <td>1</td>\n",
       "      <td>CC</td>\n",
       "      <td>CT</td>\n",
       "      <td>TT</td>\n",
       "    </tr>\n",
       "    <tr>\n",
       "      <th>rs188420889</th>\n",
       "      <td>---</td>\n",
       "      <td>44994256</td>\n",
       "      <td>G</td>\n",
       "      <td>A</td>\n",
       "      <td>1</td>\n",
       "      <td>0</td>\n",
       "      <td>0</td>\n",
       "      <td>1</td>\n",
       "      <td>0</td>\n",
       "      <td>0</td>\n",
       "      <td>...</td>\n",
       "      <td>0</td>\n",
       "      <td>1</td>\n",
       "      <td>0</td>\n",
       "      <td>0</td>\n",
       "      <td>1</td>\n",
       "      <td>0</td>\n",
       "      <td>0</td>\n",
       "      <td>GG</td>\n",
       "      <td>AG</td>\n",
       "      <td>AA</td>\n",
       "    </tr>\n",
       "  </tbody>\n",
       "</table>\n",
       "<p>100000 rows × 29323 columns</p>\n",
       "</div>"
      ],
      "text/plain": [
       "            dashes  position ref alt sample1_1 sample1_2 sample1_3 sample2_1  \\\n",
       "rsid                                                                           \n",
       "rs145069787    ---  45001018   G   A         1         0         0         1   \n",
       "rs12723953     ---  45001453   C   T         0         0         1         0   \n",
       "rs76539137     ---  45002271   A   C         1         0         0         1   \n",
       "rs72895585     ---  45002766   C   T         1         0         0         1   \n",
       "rs183954195    ---  45003250   T   A         1         0         0         1   \n",
       "...            ...       ...  ..  ..       ...       ...       ...       ...   \n",
       "rs67874053     ---  44984011   C   T         1         0         0         1   \n",
       "rs12728804     ---  44984921   G   A         0         0         1         0   \n",
       "rs145501305    ---  44991420   T   A         1         0         0         1   \n",
       "rs270725       ---  44991725   C   T         0         0         1         0   \n",
       "rs188420889    ---  44994256   G   A         1         0         0         1   \n",
       "\n",
       "            sample2_2 sample2_3  ... sample9770_3 sample9771_1 sample9771_2  \\\n",
       "rsid                             ...                                          \n",
       "rs145069787         0         0  ...            0            1            0   \n",
       "rs12723953          1         0  ...            0            0            1   \n",
       "rs76539137          0         0  ...            0            1            0   \n",
       "rs72895585          0         0  ...            0            1            0   \n",
       "rs183954195         0         0  ...            0            1            0   \n",
       "...               ...       ...  ...          ...          ...          ...   \n",
       "rs67874053          0         0  ...            0            1            0   \n",
       "rs12728804          1         0  ...            0            1            0   \n",
       "rs145501305         0         0  ...            0            1            0   \n",
       "rs270725            0         1  ...            1            0            0   \n",
       "rs188420889         0         0  ...            0            1            0   \n",
       "\n",
       "            sample9771_3 sample9772_1 sample9772_2 sample9772_3 homo_ref het  \\\n",
       "rsid                                                                           \n",
       "rs145069787            0            1            0            0       GG  AG   \n",
       "rs12723953             0        0.052        0.948            0       CC  CT   \n",
       "rs76539137             0        0.002        0.924        0.075       AA  AC   \n",
       "rs72895585             0            1            0            0       CC  CT   \n",
       "rs183954195            0            1            0            0       TT  AT   \n",
       "...                  ...          ...          ...          ...      ...  ..   \n",
       "rs67874053             0            0            1            0       CC  CT   \n",
       "rs12728804             0            1            0            0       GG  AG   \n",
       "rs145501305            0            1            0            0       TT  AT   \n",
       "rs270725               1            0            0            1       CC  CT   \n",
       "rs188420889            0            1            0            0       GG  AG   \n",
       "\n",
       "            homo_alt  \n",
       "rsid                  \n",
       "rs145069787       AA  \n",
       "rs12723953        TT  \n",
       "rs76539137        CC  \n",
       "rs72895585        TT  \n",
       "rs183954195       AA  \n",
       "...              ...  \n",
       "rs67874053        TT  \n",
       "rs12728804        AA  \n",
       "rs145501305       AA  \n",
       "rs270725          TT  \n",
       "rs188420889       AA  \n",
       "\n",
       "[100000 rows x 29323 columns]"
      ]
     },
     "execution_count": 155,
     "metadata": {},
     "output_type": "execute_result"
    }
   ],
   "source": [
    "%time combined_lines.set_index(\"rsid\")"
   ]
  },
  {
   "cell_type": "code",
   "execution_count": 156,
   "metadata": {
    "execution": {
     "iopub.execute_input": "2021-06-15T12:55:42.494316Z",
     "iopub.status.busy": "2021-06-15T12:55:42.494128Z",
     "iopub.status.idle": "2021-06-15T12:57:31.342113Z",
     "shell.execute_reply": "2021-06-15T12:57:31.341474Z",
     "shell.execute_reply.started": "2021-06-15T12:55:42.494290Z"
    }
   },
   "outputs": [
    {
     "name": "stdout",
     "output_type": "stream",
     "text": [
      "CPU times: user 1min 9s, sys: 40 s, total: 1min 49s\n",
      "Wall time: 1min 48s\n"
     ]
    },
    {
     "data": {
      "text/html": [
       "<div>\n",
       "<style scoped>\n",
       "    .dataframe tbody tr th:only-of-type {\n",
       "        vertical-align: middle;\n",
       "    }\n",
       "\n",
       "    .dataframe tbody tr th {\n",
       "        vertical-align: top;\n",
       "    }\n",
       "\n",
       "    .dataframe thead th {\n",
       "        text-align: right;\n",
       "    }\n",
       "</style>\n",
       "<table border=\"1\" class=\"dataframe\">\n",
       "  <thead>\n",
       "    <tr style=\"text-align: right;\">\n",
       "      <th></th>\n",
       "      <th>homo_ref</th>\n",
       "      <th>het</th>\n",
       "      <th>homo_alt</th>\n",
       "    </tr>\n",
       "    <tr>\n",
       "      <th>rsid</th>\n",
       "      <th></th>\n",
       "      <th></th>\n",
       "      <th></th>\n",
       "    </tr>\n",
       "  </thead>\n",
       "  <tbody>\n",
       "    <tr>\n",
       "      <th>rs145069787</th>\n",
       "      <td>GG</td>\n",
       "      <td>AG</td>\n",
       "      <td>AA</td>\n",
       "    </tr>\n",
       "    <tr>\n",
       "      <th>rs12723953</th>\n",
       "      <td>CC</td>\n",
       "      <td>CT</td>\n",
       "      <td>TT</td>\n",
       "    </tr>\n",
       "    <tr>\n",
       "      <th>rs76539137</th>\n",
       "      <td>AA</td>\n",
       "      <td>AC</td>\n",
       "      <td>CC</td>\n",
       "    </tr>\n",
       "    <tr>\n",
       "      <th>rs72895585</th>\n",
       "      <td>CC</td>\n",
       "      <td>CT</td>\n",
       "      <td>TT</td>\n",
       "    </tr>\n",
       "    <tr>\n",
       "      <th>rs183954195</th>\n",
       "      <td>TT</td>\n",
       "      <td>AT</td>\n",
       "      <td>AA</td>\n",
       "    </tr>\n",
       "    <tr>\n",
       "      <th>...</th>\n",
       "      <td>...</td>\n",
       "      <td>...</td>\n",
       "      <td>...</td>\n",
       "    </tr>\n",
       "    <tr>\n",
       "      <th>rs67874053</th>\n",
       "      <td>CC</td>\n",
       "      <td>CT</td>\n",
       "      <td>TT</td>\n",
       "    </tr>\n",
       "    <tr>\n",
       "      <th>rs12728804</th>\n",
       "      <td>GG</td>\n",
       "      <td>AG</td>\n",
       "      <td>AA</td>\n",
       "    </tr>\n",
       "    <tr>\n",
       "      <th>rs145501305</th>\n",
       "      <td>TT</td>\n",
       "      <td>AT</td>\n",
       "      <td>AA</td>\n",
       "    </tr>\n",
       "    <tr>\n",
       "      <th>rs270725</th>\n",
       "      <td>CC</td>\n",
       "      <td>CT</td>\n",
       "      <td>TT</td>\n",
       "    </tr>\n",
       "    <tr>\n",
       "      <th>rs188420889</th>\n",
       "      <td>GG</td>\n",
       "      <td>AG</td>\n",
       "      <td>AA</td>\n",
       "    </tr>\n",
       "  </tbody>\n",
       "</table>\n",
       "<p>100000 rows × 3 columns</p>\n",
       "</div>"
      ],
      "text/plain": [
       "            homo_ref het homo_alt\n",
       "rsid                             \n",
       "rs145069787       GG  AG       AA\n",
       "rs12723953        CC  CT       TT\n",
       "rs76539137        AA  AC       CC\n",
       "rs72895585        CC  CT       TT\n",
       "rs183954195       TT  AT       AA\n",
       "...              ...  ..      ...\n",
       "rs67874053        CC  CT       TT\n",
       "rs12728804        GG  AG       AA\n",
       "rs145501305       TT  AT       AA\n",
       "rs270725          CC  CT       TT\n",
       "rs188420889       GG  AG       AA\n",
       "\n",
       "[100000 rows x 3 columns]"
      ]
     },
     "execution_count": 156,
     "metadata": {},
     "output_type": "execute_result"
    }
   ],
   "source": [
    "%time corradin_ovp_utils.datasets.genetic_file.get_possible_geno_combinations(combined_lines.set_index(\"rsid\"), big_gen_file.ref_col, big_gen_file.alt_col)"
   ]
  },
  {
   "cell_type": "code",
   "execution_count": 157,
   "metadata": {
    "execution": {
     "iopub.execute_input": "2021-06-15T12:59:13.253478Z",
     "iopub.status.busy": "2021-06-15T12:59:13.252911Z",
     "iopub.status.idle": "2021-06-15T13:01:05.156214Z",
     "shell.execute_reply": "2021-06-15T13:01:05.154179Z",
     "shell.execute_reply.started": "2021-06-15T12:59:13.253409Z"
    }
   },
   "outputs": [
    {
     "name": "stdout",
     "output_type": "stream",
     "text": [
      "CPU times: user 1min 11s, sys: 41.9 s, total: 1min 53s\n",
      "Wall time: 1min 51s\n"
     ]
    }
   ],
   "source": [
    "%time geno_df = corradin_ovp_utils.datasets.genetic_file.get_possible_geno_combinations(combined_lines.set_index(\"rsid\"), big_gen_file.ref_col, big_gen_file.alt_col)\n",
    "geno_df"
   ]
  },
  {
   "cell_type": "code",
   "execution_count": 158,
   "metadata": {
    "execution": {
     "iopub.execute_input": "2021-06-15T13:03:38.598231Z",
     "iopub.status.busy": "2021-06-15T13:03:38.597584Z",
     "iopub.status.idle": "2021-06-15T13:03:38.622995Z",
     "shell.execute_reply": "2021-06-15T13:03:38.622084Z",
     "shell.execute_reply.started": "2021-06-15T13:03:38.598149Z"
    }
   },
   "outputs": [
    {
     "data": {
      "text/html": [
       "<div>\n",
       "<style scoped>\n",
       "    .dataframe tbody tr th:only-of-type {\n",
       "        vertical-align: middle;\n",
       "    }\n",
       "\n",
       "    .dataframe tbody tr th {\n",
       "        vertical-align: top;\n",
       "    }\n",
       "\n",
       "    .dataframe thead th {\n",
       "        text-align: right;\n",
       "    }\n",
       "</style>\n",
       "<table border=\"1\" class=\"dataframe\">\n",
       "  <thead>\n",
       "    <tr style=\"text-align: right;\">\n",
       "      <th></th>\n",
       "      <th>homo_ref</th>\n",
       "      <th>het</th>\n",
       "      <th>homo_alt</th>\n",
       "    </tr>\n",
       "    <tr>\n",
       "      <th>rsid</th>\n",
       "      <th></th>\n",
       "      <th></th>\n",
       "      <th></th>\n",
       "    </tr>\n",
       "  </thead>\n",
       "  <tbody>\n",
       "    <tr>\n",
       "      <th>rs145069787</th>\n",
       "      <td>GG</td>\n",
       "      <td>AG</td>\n",
       "      <td>AA</td>\n",
       "    </tr>\n",
       "    <tr>\n",
       "      <th>rs12723953</th>\n",
       "      <td>CC</td>\n",
       "      <td>CT</td>\n",
       "      <td>TT</td>\n",
       "    </tr>\n",
       "    <tr>\n",
       "      <th>rs76539137</th>\n",
       "      <td>AA</td>\n",
       "      <td>AC</td>\n",
       "      <td>CC</td>\n",
       "    </tr>\n",
       "    <tr>\n",
       "      <th>rs72895585</th>\n",
       "      <td>CC</td>\n",
       "      <td>CT</td>\n",
       "      <td>TT</td>\n",
       "    </tr>\n",
       "    <tr>\n",
       "      <th>rs183954195</th>\n",
       "      <td>TT</td>\n",
       "      <td>AT</td>\n",
       "      <td>AA</td>\n",
       "    </tr>\n",
       "    <tr>\n",
       "      <th>...</th>\n",
       "      <td>...</td>\n",
       "      <td>...</td>\n",
       "      <td>...</td>\n",
       "    </tr>\n",
       "    <tr>\n",
       "      <th>rs67874053</th>\n",
       "      <td>CC</td>\n",
       "      <td>CT</td>\n",
       "      <td>TT</td>\n",
       "    </tr>\n",
       "    <tr>\n",
       "      <th>rs12728804</th>\n",
       "      <td>GG</td>\n",
       "      <td>AG</td>\n",
       "      <td>AA</td>\n",
       "    </tr>\n",
       "    <tr>\n",
       "      <th>rs145501305</th>\n",
       "      <td>TT</td>\n",
       "      <td>AT</td>\n",
       "      <td>AA</td>\n",
       "    </tr>\n",
       "    <tr>\n",
       "      <th>rs270725</th>\n",
       "      <td>CC</td>\n",
       "      <td>CT</td>\n",
       "      <td>TT</td>\n",
       "    </tr>\n",
       "    <tr>\n",
       "      <th>rs188420889</th>\n",
       "      <td>GG</td>\n",
       "      <td>AG</td>\n",
       "      <td>AA</td>\n",
       "    </tr>\n",
       "  </tbody>\n",
       "</table>\n",
       "<p>100000 rows × 3 columns</p>\n",
       "</div>"
      ],
      "text/plain": [
       "            homo_ref het homo_alt\n",
       "rsid                             \n",
       "rs145069787       GG  AG       AA\n",
       "rs12723953        CC  CT       TT\n",
       "rs76539137        AA  AC       CC\n",
       "rs72895585        CC  CT       TT\n",
       "rs183954195       TT  AT       AA\n",
       "...              ...  ..      ...\n",
       "rs67874053        CC  CT       TT\n",
       "rs12728804        GG  AG       AA\n",
       "rs145501305       TT  AT       AA\n",
       "rs270725          CC  CT       TT\n",
       "rs188420889       GG  AG       AA\n",
       "\n",
       "[100000 rows x 3 columns]"
      ]
     },
     "execution_count": 158,
     "metadata": {},
     "output_type": "execute_result"
    }
   ],
   "source": [
    "geno_df"
   ]
  },
  {
   "cell_type": "code",
   "execution_count": null,
   "metadata": {},
   "outputs": [],
   "source": [
    "big_gen_file.sample_cols"
   ]
  },
  {
   "cell_type": "code",
   "execution_count": 159,
   "metadata": {
    "execution": {
     "iopub.execute_input": "2021-06-15T13:04:13.628942Z",
     "iopub.status.busy": "2021-06-15T13:04:13.628440Z",
     "iopub.status.idle": "2021-06-15T13:04:13.638098Z",
     "shell.execute_reply": "2021-06-15T13:04:13.636849Z",
     "shell.execute_reply.started": "2021-06-15T13:04:13.628882Z"
    }
   },
   "outputs": [],
   "source": [
    "def test_func(rsid_df): \n",
    "    for sample in big_gen_file._sample_list:\n",
    "        sample_cols = [f\"{sample}_{allele_prob_col_num}\" for allele_prob_col_num in range(1, big_gen_file.prob_n_cols + 1)]\n",
    "        sample_cols_df = rsid_df[sample_cols]\n",
    "        yield SimpleNamespace(sample_id = sample,\n",
    "                              sample_df = sample_cols_df)"
   ]
  },
  {
   "cell_type": "code",
   "execution_count": 185,
   "metadata": {
    "execution": {
     "iopub.execute_input": "2021-06-15T13:38:20.317072Z",
     "iopub.status.busy": "2021-06-15T13:38:20.316533Z",
     "iopub.status.idle": "2021-06-15T13:38:45.605827Z",
     "shell.execute_reply": "2021-06-15T13:38:45.604887Z",
     "shell.execute_reply.started": "2021-06-15T13:38:20.317007Z"
    }
   },
   "outputs": [
    {
     "data": {
      "application/vnd.jupyter.widget-view+json": {
       "model_id": "b5fe2fa787904d3695dc3a6059bee472",
       "version_major": 2,
       "version_minor": 0
      },
      "text/plain": [
       "0it [00:00, ?it/s]"
      ]
     },
     "metadata": {},
     "output_type": "display_data"
    },
    {
     "name": "stdout",
     "output_type": "stream",
     "text": [
      "            sample1_1 sample1_2 sample1_3\n",
      "rsid                                     \n",
      "rs145069787         1         0         0\n",
      "rs12723953          0         0         1\n",
      "rs76539137          1         0         0\n",
      "rs72895585          1         0         0\n",
      "rs183954195         1         0         0\n",
      "...               ...       ...       ...\n",
      "rs67874053          1         0         0\n",
      "rs12728804          0         0         1\n",
      "rs145501305         1         0         0\n",
      "rs270725            0         0         1\n",
      "rs188420889         1         0         0\n",
      "\n",
      "[100000 rows x 3 columns]\n",
      "sample_id   sample1\n",
      "rsid               \n",
      "rs145069787      GG\n",
      "rs12723953       TT\n",
      "rs76539137       AA\n",
      "rs72895585       CC\n",
      "rs183954195      TT\n",
      "...             ...\n",
      "rs67874053       CC\n",
      "rs12728804       AA\n",
      "rs145501305      TT\n",
      "rs270725         TT\n",
      "rs188420889      GG\n",
      "\n",
      "[100000 rows x 1 columns]\n"
     ]
    }
   ],
   "source": [
    "for sample in tqdm(test_func(combined_lines)):\n",
    "    print(sample.sample_df)\n",
    "    print(triplicate_converter(sample.sample_df, genotype_df= geno_df, sample_id = sample.sample_id))\n",
    "    break"
   ]
  },
  {
   "cell_type": "code",
   "execution_count": 187,
   "metadata": {
    "execution": {
     "iopub.execute_input": "2021-06-15T13:59:29.752637Z",
     "iopub.status.busy": "2021-06-15T13:59:29.752084Z",
     "iopub.status.idle": "2021-06-15T14:22:54.596938Z",
     "shell.execute_reply": "2021-06-15T14:22:54.596112Z",
     "shell.execute_reply.started": "2021-06-15T13:59:29.752572Z"
    }
   },
   "outputs": [
    {
     "data": {
      "application/vnd.jupyter.widget-view+json": {
       "model_id": "48069eca08f54355b5b061e3e3cf76d2",
       "version_major": 2,
       "version_minor": 0
      },
      "text/plain": [
       "0it [00:00, ?it/s]"
      ]
     },
     "metadata": {},
     "output_type": "display_data"
    }
   ],
   "source": [
    "all_samples_df = [triplicate_converter(sample.sample_df, genotype_df= geno_df, sample_id = sample.sample_id) for sample in tqdm(test_func(combined_lines))]"
   ]
  },
  {
   "cell_type": "code",
   "execution_count": 191,
   "metadata": {
    "execution": {
     "iopub.execute_input": "2021-06-15T14:49:13.502090Z",
     "iopub.status.busy": "2021-06-15T14:49:13.501546Z",
     "iopub.status.idle": "2021-06-15T14:50:23.893061Z",
     "shell.execute_reply": "2021-06-15T14:50:23.892240Z",
     "shell.execute_reply.started": "2021-06-15T14:49:13.502025Z"
    }
   },
   "outputs": [
    {
     "name": "stdout",
     "output_type": "stream",
     "text": [
      "CPU times: user 1min 3s, sys: 6.15 s, total: 1min 10s\n",
      "Wall time: 1min 10s\n"
     ]
    },
    {
     "data": {
      "text/html": [
       "<div>\n",
       "<style scoped>\n",
       "    .dataframe tbody tr th:only-of-type {\n",
       "        vertical-align: middle;\n",
       "    }\n",
       "\n",
       "    .dataframe tbody tr th {\n",
       "        vertical-align: top;\n",
       "    }\n",
       "\n",
       "    .dataframe thead th {\n",
       "        text-align: right;\n",
       "    }\n",
       "</style>\n",
       "<table border=\"1\" class=\"dataframe\">\n",
       "  <thead>\n",
       "    <tr style=\"text-align: right;\">\n",
       "      <th>sample_id</th>\n",
       "      <th>sample1</th>\n",
       "      <th>sample2</th>\n",
       "      <th>sample3</th>\n",
       "      <th>sample4</th>\n",
       "      <th>sample5</th>\n",
       "      <th>sample6</th>\n",
       "      <th>sample7</th>\n",
       "      <th>sample8</th>\n",
       "      <th>sample9</th>\n",
       "      <th>sample10</th>\n",
       "      <th>...</th>\n",
       "      <th>sample9763</th>\n",
       "      <th>sample9764</th>\n",
       "      <th>sample9765</th>\n",
       "      <th>sample9766</th>\n",
       "      <th>sample9767</th>\n",
       "      <th>sample9768</th>\n",
       "      <th>sample9769</th>\n",
       "      <th>sample9770</th>\n",
       "      <th>sample9771</th>\n",
       "      <th>sample9772</th>\n",
       "    </tr>\n",
       "    <tr>\n",
       "      <th>rsid</th>\n",
       "      <th></th>\n",
       "      <th></th>\n",
       "      <th></th>\n",
       "      <th></th>\n",
       "      <th></th>\n",
       "      <th></th>\n",
       "      <th></th>\n",
       "      <th></th>\n",
       "      <th></th>\n",
       "      <th></th>\n",
       "      <th></th>\n",
       "      <th></th>\n",
       "      <th></th>\n",
       "      <th></th>\n",
       "      <th></th>\n",
       "      <th></th>\n",
       "      <th></th>\n",
       "      <th></th>\n",
       "      <th></th>\n",
       "      <th></th>\n",
       "      <th></th>\n",
       "    </tr>\n",
       "  </thead>\n",
       "  <tbody>\n",
       "    <tr>\n",
       "      <th>rs145069787</th>\n",
       "      <td>GG</td>\n",
       "      <td>GG</td>\n",
       "      <td>GG</td>\n",
       "      <td>GG</td>\n",
       "      <td>GG</td>\n",
       "      <td>GG</td>\n",
       "      <td>GG</td>\n",
       "      <td>GG</td>\n",
       "      <td>GG</td>\n",
       "      <td>GG</td>\n",
       "      <td>...</td>\n",
       "      <td>GG</td>\n",
       "      <td>GG</td>\n",
       "      <td>GG</td>\n",
       "      <td>GG</td>\n",
       "      <td>GG</td>\n",
       "      <td>GG</td>\n",
       "      <td>GG</td>\n",
       "      <td>GG</td>\n",
       "      <td>GG</td>\n",
       "      <td>GG</td>\n",
       "    </tr>\n",
       "    <tr>\n",
       "      <th>rs12723953</th>\n",
       "      <td>TT</td>\n",
       "      <td>CT</td>\n",
       "      <td>NA</td>\n",
       "      <td>NA</td>\n",
       "      <td>CC</td>\n",
       "      <td>CT</td>\n",
       "      <td>NA</td>\n",
       "      <td>TT</td>\n",
       "      <td>NA</td>\n",
       "      <td>CT</td>\n",
       "      <td>...</td>\n",
       "      <td>CT</td>\n",
       "      <td>TT</td>\n",
       "      <td>CT</td>\n",
       "      <td>CC</td>\n",
       "      <td>CT</td>\n",
       "      <td>CT</td>\n",
       "      <td>CT</td>\n",
       "      <td>CC</td>\n",
       "      <td>CT</td>\n",
       "      <td>CT</td>\n",
       "    </tr>\n",
       "    <tr>\n",
       "      <th>rs76539137</th>\n",
       "      <td>AA</td>\n",
       "      <td>AA</td>\n",
       "      <td>AA</td>\n",
       "      <td>AA</td>\n",
       "      <td>AA</td>\n",
       "      <td>AA</td>\n",
       "      <td>AA</td>\n",
       "      <td>AA</td>\n",
       "      <td>AA</td>\n",
       "      <td>AA</td>\n",
       "      <td>...</td>\n",
       "      <td>AA</td>\n",
       "      <td>AA</td>\n",
       "      <td>AA</td>\n",
       "      <td>AA</td>\n",
       "      <td>AA</td>\n",
       "      <td>AA</td>\n",
       "      <td>AA</td>\n",
       "      <td>AA</td>\n",
       "      <td>AA</td>\n",
       "      <td>AC</td>\n",
       "    </tr>\n",
       "    <tr>\n",
       "      <th>rs72895585</th>\n",
       "      <td>CC</td>\n",
       "      <td>CC</td>\n",
       "      <td>CC</td>\n",
       "      <td>CC</td>\n",
       "      <td>CC</td>\n",
       "      <td>CC</td>\n",
       "      <td>CC</td>\n",
       "      <td>CC</td>\n",
       "      <td>CC</td>\n",
       "      <td>CC</td>\n",
       "      <td>...</td>\n",
       "      <td>CC</td>\n",
       "      <td>CC</td>\n",
       "      <td>CC</td>\n",
       "      <td>CC</td>\n",
       "      <td>CC</td>\n",
       "      <td>CC</td>\n",
       "      <td>CC</td>\n",
       "      <td>CC</td>\n",
       "      <td>CC</td>\n",
       "      <td>CC</td>\n",
       "    </tr>\n",
       "    <tr>\n",
       "      <th>rs183954195</th>\n",
       "      <td>TT</td>\n",
       "      <td>TT</td>\n",
       "      <td>TT</td>\n",
       "      <td>TT</td>\n",
       "      <td>TT</td>\n",
       "      <td>TT</td>\n",
       "      <td>TT</td>\n",
       "      <td>TT</td>\n",
       "      <td>TT</td>\n",
       "      <td>TT</td>\n",
       "      <td>...</td>\n",
       "      <td>TT</td>\n",
       "      <td>TT</td>\n",
       "      <td>TT</td>\n",
       "      <td>TT</td>\n",
       "      <td>TT</td>\n",
       "      <td>TT</td>\n",
       "      <td>TT</td>\n",
       "      <td>TT</td>\n",
       "      <td>TT</td>\n",
       "      <td>TT</td>\n",
       "    </tr>\n",
       "    <tr>\n",
       "      <th>...</th>\n",
       "      <td>...</td>\n",
       "      <td>...</td>\n",
       "      <td>...</td>\n",
       "      <td>...</td>\n",
       "      <td>...</td>\n",
       "      <td>...</td>\n",
       "      <td>...</td>\n",
       "      <td>...</td>\n",
       "      <td>...</td>\n",
       "      <td>...</td>\n",
       "      <td>...</td>\n",
       "      <td>...</td>\n",
       "      <td>...</td>\n",
       "      <td>...</td>\n",
       "      <td>...</td>\n",
       "      <td>...</td>\n",
       "      <td>...</td>\n",
       "      <td>...</td>\n",
       "      <td>...</td>\n",
       "      <td>...</td>\n",
       "      <td>...</td>\n",
       "    </tr>\n",
       "    <tr>\n",
       "      <th>rs67874053</th>\n",
       "      <td>CC</td>\n",
       "      <td>CC</td>\n",
       "      <td>NA</td>\n",
       "      <td>CC</td>\n",
       "      <td>CC</td>\n",
       "      <td>CT</td>\n",
       "      <td>CC</td>\n",
       "      <td>CC</td>\n",
       "      <td>CC</td>\n",
       "      <td>CC</td>\n",
       "      <td>...</td>\n",
       "      <td>CC</td>\n",
       "      <td>CC</td>\n",
       "      <td>CC</td>\n",
       "      <td>CC</td>\n",
       "      <td>CC</td>\n",
       "      <td>CC</td>\n",
       "      <td>CC</td>\n",
       "      <td>CC</td>\n",
       "      <td>CC</td>\n",
       "      <td>CT</td>\n",
       "    </tr>\n",
       "    <tr>\n",
       "      <th>rs12728804</th>\n",
       "      <td>AA</td>\n",
       "      <td>AG</td>\n",
       "      <td>NA</td>\n",
       "      <td>AG</td>\n",
       "      <td>GG</td>\n",
       "      <td>GG</td>\n",
       "      <td>GG</td>\n",
       "      <td>AG</td>\n",
       "      <td>GG</td>\n",
       "      <td>GG</td>\n",
       "      <td>...</td>\n",
       "      <td>GG</td>\n",
       "      <td>AG</td>\n",
       "      <td>GG</td>\n",
       "      <td>GG</td>\n",
       "      <td>GG</td>\n",
       "      <td>GG</td>\n",
       "      <td>GG</td>\n",
       "      <td>GG</td>\n",
       "      <td>GG</td>\n",
       "      <td>GG</td>\n",
       "    </tr>\n",
       "    <tr>\n",
       "      <th>rs145501305</th>\n",
       "      <td>TT</td>\n",
       "      <td>TT</td>\n",
       "      <td>TT</td>\n",
       "      <td>TT</td>\n",
       "      <td>TT</td>\n",
       "      <td>TT</td>\n",
       "      <td>TT</td>\n",
       "      <td>TT</td>\n",
       "      <td>TT</td>\n",
       "      <td>TT</td>\n",
       "      <td>...</td>\n",
       "      <td>TT</td>\n",
       "      <td>TT</td>\n",
       "      <td>TT</td>\n",
       "      <td>TT</td>\n",
       "      <td>TT</td>\n",
       "      <td>TT</td>\n",
       "      <td>TT</td>\n",
       "      <td>TT</td>\n",
       "      <td>TT</td>\n",
       "      <td>TT</td>\n",
       "    </tr>\n",
       "    <tr>\n",
       "      <th>rs270725</th>\n",
       "      <td>TT</td>\n",
       "      <td>TT</td>\n",
       "      <td>TT</td>\n",
       "      <td>TT</td>\n",
       "      <td>TT</td>\n",
       "      <td>TT</td>\n",
       "      <td>TT</td>\n",
       "      <td>TT</td>\n",
       "      <td>TT</td>\n",
       "      <td>TT</td>\n",
       "      <td>...</td>\n",
       "      <td>TT</td>\n",
       "      <td>TT</td>\n",
       "      <td>TT</td>\n",
       "      <td>TT</td>\n",
       "      <td>TT</td>\n",
       "      <td>TT</td>\n",
       "      <td>TT</td>\n",
       "      <td>TT</td>\n",
       "      <td>TT</td>\n",
       "      <td>TT</td>\n",
       "    </tr>\n",
       "    <tr>\n",
       "      <th>rs188420889</th>\n",
       "      <td>GG</td>\n",
       "      <td>GG</td>\n",
       "      <td>GG</td>\n",
       "      <td>GG</td>\n",
       "      <td>GG</td>\n",
       "      <td>GG</td>\n",
       "      <td>GG</td>\n",
       "      <td>GG</td>\n",
       "      <td>GG</td>\n",
       "      <td>GG</td>\n",
       "      <td>...</td>\n",
       "      <td>GG</td>\n",
       "      <td>GG</td>\n",
       "      <td>GG</td>\n",
       "      <td>GG</td>\n",
       "      <td>GG</td>\n",
       "      <td>GG</td>\n",
       "      <td>GG</td>\n",
       "      <td>GG</td>\n",
       "      <td>GG</td>\n",
       "      <td>GG</td>\n",
       "    </tr>\n",
       "  </tbody>\n",
       "</table>\n",
       "<p>100000 rows × 9772 columns</p>\n",
       "</div>"
      ],
      "text/plain": [
       "sample_id   sample1 sample2 sample3 sample4 sample5 sample6 sample7 sample8  \\\n",
       "rsid                                                                          \n",
       "rs145069787      GG      GG      GG      GG      GG      GG      GG      GG   \n",
       "rs12723953       TT      CT      NA      NA      CC      CT      NA      TT   \n",
       "rs76539137       AA      AA      AA      AA      AA      AA      AA      AA   \n",
       "rs72895585       CC      CC      CC      CC      CC      CC      CC      CC   \n",
       "rs183954195      TT      TT      TT      TT      TT      TT      TT      TT   \n",
       "...             ...     ...     ...     ...     ...     ...     ...     ...   \n",
       "rs67874053       CC      CC      NA      CC      CC      CT      CC      CC   \n",
       "rs12728804       AA      AG      NA      AG      GG      GG      GG      AG   \n",
       "rs145501305      TT      TT      TT      TT      TT      TT      TT      TT   \n",
       "rs270725         TT      TT      TT      TT      TT      TT      TT      TT   \n",
       "rs188420889      GG      GG      GG      GG      GG      GG      GG      GG   \n",
       "\n",
       "sample_id   sample9 sample10  ... sample9763 sample9764 sample9765 sample9766  \\\n",
       "rsid                          ...                                               \n",
       "rs145069787      GG       GG  ...         GG         GG         GG         GG   \n",
       "rs12723953       NA       CT  ...         CT         TT         CT         CC   \n",
       "rs76539137       AA       AA  ...         AA         AA         AA         AA   \n",
       "rs72895585       CC       CC  ...         CC         CC         CC         CC   \n",
       "rs183954195      TT       TT  ...         TT         TT         TT         TT   \n",
       "...             ...      ...  ...        ...        ...        ...        ...   \n",
       "rs67874053       CC       CC  ...         CC         CC         CC         CC   \n",
       "rs12728804       GG       GG  ...         GG         AG         GG         GG   \n",
       "rs145501305      TT       TT  ...         TT         TT         TT         TT   \n",
       "rs270725         TT       TT  ...         TT         TT         TT         TT   \n",
       "rs188420889      GG       GG  ...         GG         GG         GG         GG   \n",
       "\n",
       "sample_id   sample9767 sample9768 sample9769 sample9770 sample9771 sample9772  \n",
       "rsid                                                                           \n",
       "rs145069787         GG         GG         GG         GG         GG         GG  \n",
       "rs12723953          CT         CT         CT         CC         CT         CT  \n",
       "rs76539137          AA         AA         AA         AA         AA         AC  \n",
       "rs72895585          CC         CC         CC         CC         CC         CC  \n",
       "rs183954195         TT         TT         TT         TT         TT         TT  \n",
       "...                ...        ...        ...        ...        ...        ...  \n",
       "rs67874053          CC         CC         CC         CC         CC         CT  \n",
       "rs12728804          GG         GG         GG         GG         GG         GG  \n",
       "rs145501305         TT         TT         TT         TT         TT         TT  \n",
       "rs270725            TT         TT         TT         TT         TT         TT  \n",
       "rs188420889         GG         GG         GG         GG         GG         GG  \n",
       "\n",
       "[100000 rows x 9772 columns]"
      ]
     },
     "execution_count": 191,
     "metadata": {},
     "output_type": "execute_result"
    }
   ],
   "source": [
    "%time all_samples_df_final = pd.concat(all_samples_df, axis=1)\n",
    "all_samples_df_final"
   ]
  },
  {
   "cell_type": "code",
   "execution_count": 192,
   "metadata": {
    "execution": {
     "iopub.execute_input": "2021-06-15T14:51:36.628777Z",
     "iopub.status.busy": "2021-06-15T14:51:36.628251Z",
     "iopub.status.idle": "2021-06-15T14:54:41.733267Z",
     "shell.execute_reply": "2021-06-15T14:54:41.732080Z",
     "shell.execute_reply.started": "2021-06-15T14:51:36.628711Z"
    }
   },
   "outputs": [
    {
     "name": "stdout",
     "output_type": "stream",
     "text": [
      "CPU times: user 2min 24s, sys: 41.3 s, total: 3min 5s\n",
      "Wall time: 3min 5s\n"
     ]
    },
    {
     "data": {
      "text/html": [
       "<div>\n",
       "<style scoped>\n",
       "    .dataframe tbody tr th:only-of-type {\n",
       "        vertical-align: middle;\n",
       "    }\n",
       "\n",
       "    .dataframe tbody tr th {\n",
       "        vertical-align: top;\n",
       "    }\n",
       "\n",
       "    .dataframe thead th {\n",
       "        text-align: right;\n",
       "    }\n",
       "</style>\n",
       "<table border=\"1\" class=\"dataframe\">\n",
       "  <thead>\n",
       "    <tr style=\"text-align: right;\">\n",
       "      <th>rsid</th>\n",
       "      <th>rs145069787</th>\n",
       "      <th>rs12723953</th>\n",
       "      <th>rs76539137</th>\n",
       "      <th>rs72895585</th>\n",
       "      <th>rs183954195</th>\n",
       "      <th>rs185007189</th>\n",
       "      <th>rs7556636</th>\n",
       "      <th>rs145966388</th>\n",
       "      <th>rs79421110</th>\n",
       "      <th>rs74070515</th>\n",
       "      <th>...</th>\n",
       "      <th>rs1812336</th>\n",
       "      <th>rs12747060</th>\n",
       "      <th>rs115621001</th>\n",
       "      <th>rs72895568</th>\n",
       "      <th>rs2994537</th>\n",
       "      <th>rs67874053</th>\n",
       "      <th>rs12728804</th>\n",
       "      <th>rs145501305</th>\n",
       "      <th>rs270725</th>\n",
       "      <th>rs188420889</th>\n",
       "    </tr>\n",
       "    <tr>\n",
       "      <th>sample_id</th>\n",
       "      <th></th>\n",
       "      <th></th>\n",
       "      <th></th>\n",
       "      <th></th>\n",
       "      <th></th>\n",
       "      <th></th>\n",
       "      <th></th>\n",
       "      <th></th>\n",
       "      <th></th>\n",
       "      <th></th>\n",
       "      <th></th>\n",
       "      <th></th>\n",
       "      <th></th>\n",
       "      <th></th>\n",
       "      <th></th>\n",
       "      <th></th>\n",
       "      <th></th>\n",
       "      <th></th>\n",
       "      <th></th>\n",
       "      <th></th>\n",
       "      <th></th>\n",
       "    </tr>\n",
       "  </thead>\n",
       "  <tbody>\n",
       "    <tr>\n",
       "      <th>sample1</th>\n",
       "      <td>GG</td>\n",
       "      <td>TT</td>\n",
       "      <td>AA</td>\n",
       "      <td>CC</td>\n",
       "      <td>TT</td>\n",
       "      <td>AA</td>\n",
       "      <td>GG</td>\n",
       "      <td>AA</td>\n",
       "      <td>GG</td>\n",
       "      <td>CC</td>\n",
       "      <td>...</td>\n",
       "      <td>TT</td>\n",
       "      <td>AA</td>\n",
       "      <td>GG</td>\n",
       "      <td>AA</td>\n",
       "      <td>AA</td>\n",
       "      <td>CC</td>\n",
       "      <td>AA</td>\n",
       "      <td>TT</td>\n",
       "      <td>TT</td>\n",
       "      <td>GG</td>\n",
       "    </tr>\n",
       "    <tr>\n",
       "      <th>sample2</th>\n",
       "      <td>GG</td>\n",
       "      <td>CT</td>\n",
       "      <td>AA</td>\n",
       "      <td>CC</td>\n",
       "      <td>TT</td>\n",
       "      <td>AA</td>\n",
       "      <td>GG</td>\n",
       "      <td>AA</td>\n",
       "      <td>GG</td>\n",
       "      <td>CC</td>\n",
       "      <td>...</td>\n",
       "      <td>TT</td>\n",
       "      <td>AG</td>\n",
       "      <td>GG</td>\n",
       "      <td>AA</td>\n",
       "      <td>AA</td>\n",
       "      <td>CC</td>\n",
       "      <td>AG</td>\n",
       "      <td>TT</td>\n",
       "      <td>TT</td>\n",
       "      <td>GG</td>\n",
       "    </tr>\n",
       "    <tr>\n",
       "      <th>sample3</th>\n",
       "      <td>GG</td>\n",
       "      <td>NA</td>\n",
       "      <td>AA</td>\n",
       "      <td>CC</td>\n",
       "      <td>TT</td>\n",
       "      <td>AA</td>\n",
       "      <td>GG</td>\n",
       "      <td>AA</td>\n",
       "      <td>NA</td>\n",
       "      <td>CC</td>\n",
       "      <td>...</td>\n",
       "      <td>TT</td>\n",
       "      <td>GG</td>\n",
       "      <td>GG</td>\n",
       "      <td>AA</td>\n",
       "      <td>NA</td>\n",
       "      <td>NA</td>\n",
       "      <td>NA</td>\n",
       "      <td>TT</td>\n",
       "      <td>TT</td>\n",
       "      <td>GG</td>\n",
       "    </tr>\n",
       "    <tr>\n",
       "      <th>sample4</th>\n",
       "      <td>GG</td>\n",
       "      <td>NA</td>\n",
       "      <td>AA</td>\n",
       "      <td>CC</td>\n",
       "      <td>TT</td>\n",
       "      <td>AA</td>\n",
       "      <td>GG</td>\n",
       "      <td>AA</td>\n",
       "      <td>GG</td>\n",
       "      <td>CC</td>\n",
       "      <td>...</td>\n",
       "      <td>GT</td>\n",
       "      <td>AG</td>\n",
       "      <td>GG</td>\n",
       "      <td>AA</td>\n",
       "      <td>AA</td>\n",
       "      <td>CC</td>\n",
       "      <td>AG</td>\n",
       "      <td>TT</td>\n",
       "      <td>TT</td>\n",
       "      <td>GG</td>\n",
       "    </tr>\n",
       "    <tr>\n",
       "      <th>sample5</th>\n",
       "      <td>GG</td>\n",
       "      <td>CC</td>\n",
       "      <td>AA</td>\n",
       "      <td>CC</td>\n",
       "      <td>TT</td>\n",
       "      <td>AA</td>\n",
       "      <td>GG</td>\n",
       "      <td>AA</td>\n",
       "      <td>GG</td>\n",
       "      <td>CC</td>\n",
       "      <td>...</td>\n",
       "      <td>TT</td>\n",
       "      <td>GG</td>\n",
       "      <td>GG</td>\n",
       "      <td>AA</td>\n",
       "      <td>AA</td>\n",
       "      <td>CC</td>\n",
       "      <td>GG</td>\n",
       "      <td>TT</td>\n",
       "      <td>TT</td>\n",
       "      <td>GG</td>\n",
       "    </tr>\n",
       "    <tr>\n",
       "      <th>...</th>\n",
       "      <td>...</td>\n",
       "      <td>...</td>\n",
       "      <td>...</td>\n",
       "      <td>...</td>\n",
       "      <td>...</td>\n",
       "      <td>...</td>\n",
       "      <td>...</td>\n",
       "      <td>...</td>\n",
       "      <td>...</td>\n",
       "      <td>...</td>\n",
       "      <td>...</td>\n",
       "      <td>...</td>\n",
       "      <td>...</td>\n",
       "      <td>...</td>\n",
       "      <td>...</td>\n",
       "      <td>...</td>\n",
       "      <td>...</td>\n",
       "      <td>...</td>\n",
       "      <td>...</td>\n",
       "      <td>...</td>\n",
       "      <td>...</td>\n",
       "    </tr>\n",
       "    <tr>\n",
       "      <th>sample9768</th>\n",
       "      <td>GG</td>\n",
       "      <td>CT</td>\n",
       "      <td>AA</td>\n",
       "      <td>CC</td>\n",
       "      <td>TT</td>\n",
       "      <td>AA</td>\n",
       "      <td>GG</td>\n",
       "      <td>AA</td>\n",
       "      <td>AG</td>\n",
       "      <td>CC</td>\n",
       "      <td>...</td>\n",
       "      <td>GT</td>\n",
       "      <td>GG</td>\n",
       "      <td>GG</td>\n",
       "      <td>AA</td>\n",
       "      <td>AA</td>\n",
       "      <td>CC</td>\n",
       "      <td>GG</td>\n",
       "      <td>TT</td>\n",
       "      <td>TT</td>\n",
       "      <td>GG</td>\n",
       "    </tr>\n",
       "    <tr>\n",
       "      <th>sample9769</th>\n",
       "      <td>GG</td>\n",
       "      <td>CT</td>\n",
       "      <td>AA</td>\n",
       "      <td>CC</td>\n",
       "      <td>TT</td>\n",
       "      <td>AA</td>\n",
       "      <td>GG</td>\n",
       "      <td>AA</td>\n",
       "      <td>GG</td>\n",
       "      <td>CT</td>\n",
       "      <td>...</td>\n",
       "      <td>TT</td>\n",
       "      <td>GG</td>\n",
       "      <td>GG</td>\n",
       "      <td>AA</td>\n",
       "      <td>AA</td>\n",
       "      <td>CC</td>\n",
       "      <td>GG</td>\n",
       "      <td>TT</td>\n",
       "      <td>TT</td>\n",
       "      <td>GG</td>\n",
       "    </tr>\n",
       "    <tr>\n",
       "      <th>sample9770</th>\n",
       "      <td>GG</td>\n",
       "      <td>CC</td>\n",
       "      <td>AA</td>\n",
       "      <td>CC</td>\n",
       "      <td>TT</td>\n",
       "      <td>AA</td>\n",
       "      <td>GG</td>\n",
       "      <td>AA</td>\n",
       "      <td>GG</td>\n",
       "      <td>CC</td>\n",
       "      <td>...</td>\n",
       "      <td>TT</td>\n",
       "      <td>GG</td>\n",
       "      <td>GG</td>\n",
       "      <td>AA</td>\n",
       "      <td>AA</td>\n",
       "      <td>CC</td>\n",
       "      <td>GG</td>\n",
       "      <td>TT</td>\n",
       "      <td>TT</td>\n",
       "      <td>GG</td>\n",
       "    </tr>\n",
       "    <tr>\n",
       "      <th>sample9771</th>\n",
       "      <td>GG</td>\n",
       "      <td>CT</td>\n",
       "      <td>AA</td>\n",
       "      <td>CC</td>\n",
       "      <td>TT</td>\n",
       "      <td>AA</td>\n",
       "      <td>GG</td>\n",
       "      <td>AA</td>\n",
       "      <td>GG</td>\n",
       "      <td>CT</td>\n",
       "      <td>...</td>\n",
       "      <td>TT</td>\n",
       "      <td>GG</td>\n",
       "      <td>GG</td>\n",
       "      <td>AA</td>\n",
       "      <td>AA</td>\n",
       "      <td>CC</td>\n",
       "      <td>GG</td>\n",
       "      <td>TT</td>\n",
       "      <td>TT</td>\n",
       "      <td>GG</td>\n",
       "    </tr>\n",
       "    <tr>\n",
       "      <th>sample9772</th>\n",
       "      <td>GG</td>\n",
       "      <td>CT</td>\n",
       "      <td>AC</td>\n",
       "      <td>CC</td>\n",
       "      <td>TT</td>\n",
       "      <td>AA</td>\n",
       "      <td>GG</td>\n",
       "      <td>AA</td>\n",
       "      <td>AA</td>\n",
       "      <td>CC</td>\n",
       "      <td>...</td>\n",
       "      <td>GT</td>\n",
       "      <td>AG</td>\n",
       "      <td>GG</td>\n",
       "      <td>AA</td>\n",
       "      <td>AT</td>\n",
       "      <td>CT</td>\n",
       "      <td>GG</td>\n",
       "      <td>TT</td>\n",
       "      <td>TT</td>\n",
       "      <td>GG</td>\n",
       "    </tr>\n",
       "  </tbody>\n",
       "</table>\n",
       "<p>9772 rows × 100000 columns</p>\n",
       "</div>"
      ],
      "text/plain": [
       "rsid       rs145069787 rs12723953 rs76539137 rs72895585 rs183954195  \\\n",
       "sample_id                                                             \n",
       "sample1             GG         TT         AA         CC          TT   \n",
       "sample2             GG         CT         AA         CC          TT   \n",
       "sample3             GG         NA         AA         CC          TT   \n",
       "sample4             GG         NA         AA         CC          TT   \n",
       "sample5             GG         CC         AA         CC          TT   \n",
       "...                ...        ...        ...        ...         ...   \n",
       "sample9768          GG         CT         AA         CC          TT   \n",
       "sample9769          GG         CT         AA         CC          TT   \n",
       "sample9770          GG         CC         AA         CC          TT   \n",
       "sample9771          GG         CT         AA         CC          TT   \n",
       "sample9772          GG         CT         AC         CC          TT   \n",
       "\n",
       "rsid       rs185007189 rs7556636 rs145966388 rs79421110 rs74070515  ...  \\\n",
       "sample_id                                                           ...   \n",
       "sample1             AA        GG          AA         GG         CC  ...   \n",
       "sample2             AA        GG          AA         GG         CC  ...   \n",
       "sample3             AA        GG          AA         NA         CC  ...   \n",
       "sample4             AA        GG          AA         GG         CC  ...   \n",
       "sample5             AA        GG          AA         GG         CC  ...   \n",
       "...                ...       ...         ...        ...        ...  ...   \n",
       "sample9768          AA        GG          AA         AG         CC  ...   \n",
       "sample9769          AA        GG          AA         GG         CT  ...   \n",
       "sample9770          AA        GG          AA         GG         CC  ...   \n",
       "sample9771          AA        GG          AA         GG         CT  ...   \n",
       "sample9772          AA        GG          AA         AA         CC  ...   \n",
       "\n",
       "rsid       rs1812336 rs12747060 rs115621001 rs72895568 rs2994537 rs67874053  \\\n",
       "sample_id                                                                     \n",
       "sample1           TT         AA          GG         AA        AA         CC   \n",
       "sample2           TT         AG          GG         AA        AA         CC   \n",
       "sample3           TT         GG          GG         AA        NA         NA   \n",
       "sample4           GT         AG          GG         AA        AA         CC   \n",
       "sample5           TT         GG          GG         AA        AA         CC   \n",
       "...              ...        ...         ...        ...       ...        ...   \n",
       "sample9768        GT         GG          GG         AA        AA         CC   \n",
       "sample9769        TT         GG          GG         AA        AA         CC   \n",
       "sample9770        TT         GG          GG         AA        AA         CC   \n",
       "sample9771        TT         GG          GG         AA        AA         CC   \n",
       "sample9772        GT         AG          GG         AA        AT         CT   \n",
       "\n",
       "rsid       rs12728804 rs145501305 rs270725 rs188420889  \n",
       "sample_id                                               \n",
       "sample1            AA          TT       TT          GG  \n",
       "sample2            AG          TT       TT          GG  \n",
       "sample3            NA          TT       TT          GG  \n",
       "sample4            AG          TT       TT          GG  \n",
       "sample5            GG          TT       TT          GG  \n",
       "...               ...         ...      ...         ...  \n",
       "sample9768         GG          TT       TT          GG  \n",
       "sample9769         GG          TT       TT          GG  \n",
       "sample9770         GG          TT       TT          GG  \n",
       "sample9771         GG          TT       TT          GG  \n",
       "sample9772         GG          TT       TT          GG  \n",
       "\n",
       "[9772 rows x 100000 columns]"
      ]
     },
     "execution_count": 192,
     "metadata": {},
     "output_type": "execute_result"
    }
   ],
   "source": [
    "%time all_samples_df_final_transposed = all_samples_df_final.T\n",
    "all_samples_df_final_transposed\n"
   ]
  },
  {
   "cell_type": "code",
   "execution_count": 148,
   "metadata": {
    "execution": {
     "iopub.execute_input": "2021-06-09T17:11:57.491125Z",
     "iopub.status.busy": "2021-06-09T17:11:57.490762Z",
     "iopub.status.idle": "2021-06-09T17:18:38.822462Z",
     "shell.execute_reply": "2021-06-09T17:18:38.821692Z",
     "shell.execute_reply.started": "2021-06-09T17:11:57.491085Z"
    }
   },
   "outputs": [
    {
     "data": {
      "text/plain": [
       "170551438050"
      ]
     },
     "execution_count": 148,
     "metadata": {},
     "output_type": "execute_result"
    }
   ],
   "source": [
    "combined_lines.memory_usage(deep = True).sum()"
   ]
  },
  {
   "cell_type": "code",
   "execution_count": 111,
   "metadata": {
    "execution": {
     "iopub.execute_input": "2021-06-09T15:35:09.272152Z",
     "iopub.status.busy": "2021-06-09T15:35:09.271727Z",
     "iopub.status.idle": "2021-06-09T15:35:58.064343Z",
     "shell.execute_reply": "2021-06-09T15:35:58.062804Z",
     "shell.execute_reply.started": "2021-06-09T15:35:09.272108Z"
    }
   },
   "outputs": [
    {
     "data": {
      "application/vnd.jupyter.widget-view+json": {
       "model_id": "7104857010ec48bd8b965e72b4e2f549",
       "version_major": 2,
       "version_minor": 0
      },
      "text/plain": [
       "0it [00:00, ?it/s]"
      ]
     },
     "metadata": {},
     "output_type": "display_data"
    },
    {
     "name": "stdout",
     "output_type": "stream",
     "text": [
      "found 54\n",
      "found 55\n"
     ]
    },
    {
     "ename": "ParserError",
     "evalue": "Error tokenizing data. C error: Calling read(nbytes) on source failed. Try engine='python'.",
     "output_type": "error",
     "traceback": [
      "\u001b[0;31m---------------------------------------------------------------------------\u001b[0m",
      "\u001b[0;31mParserError\u001b[0m                               Traceback (most recent call last)",
      "\u001b[0;32m<ipython-input-111-9011243eb578>\u001b[0m in \u001b[0;36m<module>\u001b[0;34m\u001b[0m\n\u001b[1;32m      1\u001b[0m \u001b[0mfound_dfs\u001b[0m \u001b[0;34m=\u001b[0m \u001b[0;34m[\u001b[0m\u001b[0;34m]\u001b[0m\u001b[0;34m\u001b[0m\u001b[0;34m\u001b[0m\u001b[0m\n\u001b[1;32m      2\u001b[0m \u001b[0mquery_rsid_set\u001b[0m \u001b[0;34m=\u001b[0m \u001b[0mset\u001b[0m\u001b[0;34m(\u001b[0m\u001b[0mtest_result\u001b[0m\u001b[0;34m.\u001b[0m\u001b[0mrsid\u001b[0m\u001b[0;34m.\u001b[0m\u001b[0mtolist\u001b[0m\u001b[0;34m(\u001b[0m\u001b[0;34m)\u001b[0m\u001b[0;34m)\u001b[0m\u001b[0;34m\u001b[0m\u001b[0;34m\u001b[0m\u001b[0m\n\u001b[0;32m----> 3\u001b[0;31m \u001b[0;32mfor\u001b[0m \u001b[0mdf\u001b[0m \u001b[0;32min\u001b[0m \u001b[0mtqdm\u001b[0m\u001b[0;34m(\u001b[0m\u001b[0mtest_generator\u001b[0m\u001b[0;34m.\u001b[0m\u001b[0mdf\u001b[0m\u001b[0;34m)\u001b[0m\u001b[0;34m:\u001b[0m\u001b[0;34m\u001b[0m\u001b[0;34m\u001b[0m\u001b[0m\n\u001b[0m\u001b[1;32m      4\u001b[0m     \u001b[0mfound_rsids\u001b[0m \u001b[0;34m=\u001b[0m \u001b[0mset\u001b[0m\u001b[0;34m(\u001b[0m\u001b[0mdf\u001b[0m\u001b[0;34m.\u001b[0m\u001b[0mindex\u001b[0m\u001b[0;34m.\u001b[0m\u001b[0mtolist\u001b[0m\u001b[0;34m(\u001b[0m\u001b[0;34m)\u001b[0m\u001b[0;34m)\u001b[0m \u001b[0;34m&\u001b[0m \u001b[0mquery_rsid_set\u001b[0m\u001b[0;34m\u001b[0m\u001b[0;34m\u001b[0m\u001b[0m\n\u001b[1;32m      5\u001b[0m     \u001b[0;32mif\u001b[0m \u001b[0;32mnot\u001b[0m \u001b[0mfound_rsids\u001b[0m\u001b[0;34m:\u001b[0m\u001b[0;34m\u001b[0m\u001b[0;34m\u001b[0m\u001b[0m\n",
      "\u001b[0;32m/lab/corradin_biobank/FOR_AN/OVP/corradin_ovp_utils/.venv/lib/python3.8/site-packages/tqdm/notebook.py\u001b[0m in \u001b[0;36m__iter__\u001b[0;34m(self)\u001b[0m\n\u001b[1;32m    251\u001b[0m     \u001b[0;32mdef\u001b[0m \u001b[0m__iter__\u001b[0m\u001b[0;34m(\u001b[0m\u001b[0mself\u001b[0m\u001b[0;34m)\u001b[0m\u001b[0;34m:\u001b[0m\u001b[0;34m\u001b[0m\u001b[0;34m\u001b[0m\u001b[0m\n\u001b[1;32m    252\u001b[0m         \u001b[0;32mtry\u001b[0m\u001b[0;34m:\u001b[0m\u001b[0;34m\u001b[0m\u001b[0;34m\u001b[0m\u001b[0m\n\u001b[0;32m--> 253\u001b[0;31m             \u001b[0;32mfor\u001b[0m \u001b[0mobj\u001b[0m \u001b[0;32min\u001b[0m \u001b[0msuper\u001b[0m\u001b[0;34m(\u001b[0m\u001b[0mtqdm_notebook\u001b[0m\u001b[0;34m,\u001b[0m \u001b[0mself\u001b[0m\u001b[0;34m)\u001b[0m\u001b[0;34m.\u001b[0m\u001b[0m__iter__\u001b[0m\u001b[0;34m(\u001b[0m\u001b[0;34m)\u001b[0m\u001b[0;34m:\u001b[0m\u001b[0;34m\u001b[0m\u001b[0;34m\u001b[0m\u001b[0m\n\u001b[0m\u001b[1;32m    254\u001b[0m                 \u001b[0;31m# return super(tqdm...) will not catch exception\u001b[0m\u001b[0;34m\u001b[0m\u001b[0;34m\u001b[0m\u001b[0;34m\u001b[0m\u001b[0m\n\u001b[1;32m    255\u001b[0m                 \u001b[0;32myield\u001b[0m \u001b[0mobj\u001b[0m\u001b[0;34m\u001b[0m\u001b[0;34m\u001b[0m\u001b[0m\n",
      "\u001b[0;32m/lab/corradin_biobank/FOR_AN/OVP/corradin_ovp_utils/.venv/lib/python3.8/site-packages/tqdm/std.py\u001b[0m in \u001b[0;36m__iter__\u001b[0;34m(self)\u001b[0m\n\u001b[1;32m   1174\u001b[0m \u001b[0;34m\u001b[0m\u001b[0m\n\u001b[1;32m   1175\u001b[0m         \u001b[0;32mtry\u001b[0m\u001b[0;34m:\u001b[0m\u001b[0;34m\u001b[0m\u001b[0;34m\u001b[0m\u001b[0m\n\u001b[0;32m-> 1176\u001b[0;31m             \u001b[0;32mfor\u001b[0m \u001b[0mobj\u001b[0m \u001b[0;32min\u001b[0m \u001b[0miterable\u001b[0m\u001b[0;34m:\u001b[0m\u001b[0;34m\u001b[0m\u001b[0;34m\u001b[0m\u001b[0m\n\u001b[0m\u001b[1;32m   1177\u001b[0m                 \u001b[0;32myield\u001b[0m \u001b[0mobj\u001b[0m\u001b[0;34m\u001b[0m\u001b[0;34m\u001b[0m\u001b[0m\n\u001b[1;32m   1178\u001b[0m                 \u001b[0;31m# Update and possibly print the progressbar.\u001b[0m\u001b[0;34m\u001b[0m\u001b[0;34m\u001b[0m\u001b[0;34m\u001b[0m\u001b[0m\n",
      "\u001b[0;32m/lab/corradin_biobank/FOR_AN/OVP/corradin_ovp_utils/.venv/lib/python3.8/site-packages/pandas/io/parsers.py\u001b[0m in \u001b[0;36m__next__\u001b[0;34m(self)\u001b[0m\n\u001b[1;32m   1032\u001b[0m     \u001b[0;32mdef\u001b[0m \u001b[0m__next__\u001b[0m\u001b[0;34m(\u001b[0m\u001b[0mself\u001b[0m\u001b[0;34m)\u001b[0m\u001b[0;34m:\u001b[0m\u001b[0;34m\u001b[0m\u001b[0;34m\u001b[0m\u001b[0m\n\u001b[1;32m   1033\u001b[0m         \u001b[0;32mtry\u001b[0m\u001b[0;34m:\u001b[0m\u001b[0;34m\u001b[0m\u001b[0;34m\u001b[0m\u001b[0m\n\u001b[0;32m-> 1034\u001b[0;31m             \u001b[0;32mreturn\u001b[0m \u001b[0mself\u001b[0m\u001b[0;34m.\u001b[0m\u001b[0mget_chunk\u001b[0m\u001b[0;34m(\u001b[0m\u001b[0;34m)\u001b[0m\u001b[0;34m\u001b[0m\u001b[0;34m\u001b[0m\u001b[0m\n\u001b[0m\u001b[1;32m   1035\u001b[0m         \u001b[0;32mexcept\u001b[0m \u001b[0mStopIteration\u001b[0m\u001b[0;34m:\u001b[0m\u001b[0;34m\u001b[0m\u001b[0;34m\u001b[0m\u001b[0m\n\u001b[1;32m   1036\u001b[0m             \u001b[0mself\u001b[0m\u001b[0;34m.\u001b[0m\u001b[0mclose\u001b[0m\u001b[0;34m(\u001b[0m\u001b[0;34m)\u001b[0m\u001b[0;34m\u001b[0m\u001b[0;34m\u001b[0m\u001b[0m\n",
      "\u001b[0;32m/lab/corradin_biobank/FOR_AN/OVP/corradin_ovp_utils/.venv/lib/python3.8/site-packages/pandas/io/parsers.py\u001b[0m in \u001b[0;36mget_chunk\u001b[0;34m(self, size)\u001b[0m\n\u001b[1;32m   1082\u001b[0m                 \u001b[0;32mraise\u001b[0m \u001b[0mStopIteration\u001b[0m\u001b[0;34m\u001b[0m\u001b[0;34m\u001b[0m\u001b[0m\n\u001b[1;32m   1083\u001b[0m             \u001b[0msize\u001b[0m \u001b[0;34m=\u001b[0m \u001b[0mmin\u001b[0m\u001b[0;34m(\u001b[0m\u001b[0msize\u001b[0m\u001b[0;34m,\u001b[0m \u001b[0mself\u001b[0m\u001b[0;34m.\u001b[0m\u001b[0mnrows\u001b[0m \u001b[0;34m-\u001b[0m \u001b[0mself\u001b[0m\u001b[0;34m.\u001b[0m\u001b[0m_currow\u001b[0m\u001b[0;34m)\u001b[0m\u001b[0;34m\u001b[0m\u001b[0;34m\u001b[0m\u001b[0m\n\u001b[0;32m-> 1084\u001b[0;31m         \u001b[0;32mreturn\u001b[0m \u001b[0mself\u001b[0m\u001b[0;34m.\u001b[0m\u001b[0mread\u001b[0m\u001b[0;34m(\u001b[0m\u001b[0mnrows\u001b[0m\u001b[0;34m=\u001b[0m\u001b[0msize\u001b[0m\u001b[0;34m)\u001b[0m\u001b[0;34m\u001b[0m\u001b[0;34m\u001b[0m\u001b[0m\n\u001b[0m\u001b[1;32m   1085\u001b[0m \u001b[0;34m\u001b[0m\u001b[0m\n\u001b[1;32m   1086\u001b[0m     \u001b[0;32mdef\u001b[0m \u001b[0m__enter__\u001b[0m\u001b[0;34m(\u001b[0m\u001b[0mself\u001b[0m\u001b[0;34m)\u001b[0m\u001b[0;34m:\u001b[0m\u001b[0;34m\u001b[0m\u001b[0;34m\u001b[0m\u001b[0m\n",
      "\u001b[0;32m/lab/corradin_biobank/FOR_AN/OVP/corradin_ovp_utils/.venv/lib/python3.8/site-packages/pandas/io/parsers.py\u001b[0m in \u001b[0;36mread\u001b[0;34m(self, nrows)\u001b[0m\n\u001b[1;32m   1055\u001b[0m     \u001b[0;32mdef\u001b[0m \u001b[0mread\u001b[0m\u001b[0;34m(\u001b[0m\u001b[0mself\u001b[0m\u001b[0;34m,\u001b[0m \u001b[0mnrows\u001b[0m\u001b[0;34m=\u001b[0m\u001b[0;32mNone\u001b[0m\u001b[0;34m)\u001b[0m\u001b[0;34m:\u001b[0m\u001b[0;34m\u001b[0m\u001b[0;34m\u001b[0m\u001b[0m\n\u001b[1;32m   1056\u001b[0m         \u001b[0mnrows\u001b[0m \u001b[0;34m=\u001b[0m \u001b[0mvalidate_integer\u001b[0m\u001b[0;34m(\u001b[0m\u001b[0;34m\"nrows\"\u001b[0m\u001b[0;34m,\u001b[0m \u001b[0mnrows\u001b[0m\u001b[0;34m)\u001b[0m\u001b[0;34m\u001b[0m\u001b[0;34m\u001b[0m\u001b[0m\n\u001b[0;32m-> 1057\u001b[0;31m         \u001b[0mindex\u001b[0m\u001b[0;34m,\u001b[0m \u001b[0mcolumns\u001b[0m\u001b[0;34m,\u001b[0m \u001b[0mcol_dict\u001b[0m \u001b[0;34m=\u001b[0m \u001b[0mself\u001b[0m\u001b[0;34m.\u001b[0m\u001b[0m_engine\u001b[0m\u001b[0;34m.\u001b[0m\u001b[0mread\u001b[0m\u001b[0;34m(\u001b[0m\u001b[0mnrows\u001b[0m\u001b[0;34m)\u001b[0m\u001b[0;34m\u001b[0m\u001b[0;34m\u001b[0m\u001b[0m\n\u001b[0m\u001b[1;32m   1058\u001b[0m \u001b[0;34m\u001b[0m\u001b[0m\n\u001b[1;32m   1059\u001b[0m         \u001b[0;32mif\u001b[0m \u001b[0mindex\u001b[0m \u001b[0;32mis\u001b[0m \u001b[0;32mNone\u001b[0m\u001b[0;34m:\u001b[0m\u001b[0;34m\u001b[0m\u001b[0;34m\u001b[0m\u001b[0m\n",
      "\u001b[0;32m/lab/corradin_biobank/FOR_AN/OVP/corradin_ovp_utils/.venv/lib/python3.8/site-packages/pandas/io/parsers.py\u001b[0m in \u001b[0;36mread\u001b[0;34m(self, nrows)\u001b[0m\n\u001b[1;32m   2059\u001b[0m     \u001b[0;32mdef\u001b[0m \u001b[0mread\u001b[0m\u001b[0;34m(\u001b[0m\u001b[0mself\u001b[0m\u001b[0;34m,\u001b[0m \u001b[0mnrows\u001b[0m\u001b[0;34m=\u001b[0m\u001b[0;32mNone\u001b[0m\u001b[0;34m)\u001b[0m\u001b[0;34m:\u001b[0m\u001b[0;34m\u001b[0m\u001b[0;34m\u001b[0m\u001b[0m\n\u001b[1;32m   2060\u001b[0m         \u001b[0;32mtry\u001b[0m\u001b[0;34m:\u001b[0m\u001b[0;34m\u001b[0m\u001b[0;34m\u001b[0m\u001b[0m\n\u001b[0;32m-> 2061\u001b[0;31m             \u001b[0mdata\u001b[0m \u001b[0;34m=\u001b[0m \u001b[0mself\u001b[0m\u001b[0;34m.\u001b[0m\u001b[0m_reader\u001b[0m\u001b[0;34m.\u001b[0m\u001b[0mread\u001b[0m\u001b[0;34m(\u001b[0m\u001b[0mnrows\u001b[0m\u001b[0;34m)\u001b[0m\u001b[0;34m\u001b[0m\u001b[0;34m\u001b[0m\u001b[0m\n\u001b[0m\u001b[1;32m   2062\u001b[0m         \u001b[0;32mexcept\u001b[0m \u001b[0mStopIteration\u001b[0m\u001b[0;34m:\u001b[0m\u001b[0;34m\u001b[0m\u001b[0;34m\u001b[0m\u001b[0m\n\u001b[1;32m   2063\u001b[0m             \u001b[0;32mif\u001b[0m \u001b[0mself\u001b[0m\u001b[0;34m.\u001b[0m\u001b[0m_first_chunk\u001b[0m\u001b[0;34m:\u001b[0m\u001b[0;34m\u001b[0m\u001b[0;34m\u001b[0m\u001b[0m\n",
      "\u001b[0;32mpandas/_libs/parsers.pyx\u001b[0m in \u001b[0;36mpandas._libs.parsers.TextReader.read\u001b[0;34m()\u001b[0m\n",
      "\u001b[0;32mpandas/_libs/parsers.pyx\u001b[0m in \u001b[0;36mpandas._libs.parsers.TextReader._read_low_memory\u001b[0;34m()\u001b[0m\n",
      "\u001b[0;32mpandas/_libs/parsers.pyx\u001b[0m in \u001b[0;36mpandas._libs.parsers.TextReader._read_rows\u001b[0;34m()\u001b[0m\n",
      "\u001b[0;32mpandas/_libs/parsers.pyx\u001b[0m in \u001b[0;36mpandas._libs.parsers.TextReader._tokenize_rows\u001b[0;34m()\u001b[0m\n",
      "\u001b[0;32mpandas/_libs/parsers.pyx\u001b[0m in \u001b[0;36mpandas._libs.parsers.raise_parser_error\u001b[0;34m()\u001b[0m\n",
      "\u001b[0;31mParserError\u001b[0m: Error tokenizing data. C error: Calling read(nbytes) on source failed. Try engine='python'."
     ]
    }
   ],
   "source": [
    "found_dfs = []\n",
    "query_rsid_set = set(test_result.rsid.tolist())\n",
    "for df in tqdm(test_generator.df):\n",
    "    found_rsids = set(df.index.tolist()) & query_rsid_set\n",
    "    if not found_rsids:\n",
    "        continue\n",
    "    else:\n",
    "        filtered_df = df.loc[found_rsids]\n",
    "        found_dfs.append(filtered_df)\n",
    "        print(f\"found {filtered_df.shape[0]}\")"
   ]
  },
  {
   "cell_type": "code",
   "execution_count": 57,
   "metadata": {
    "execution": {
     "iopub.execute_input": "2021-06-08T18:57:18.651361Z",
     "iopub.status.busy": "2021-06-08T18:57:18.650855Z",
     "iopub.status.idle": "2021-06-08T18:57:18.707732Z",
     "shell.execute_reply": "2021-06-08T18:57:18.706819Z",
     "shell.execute_reply.started": "2021-06-08T18:57:18.651302Z"
    }
   },
   "outputs": [
    {
     "ename": "ValueError",
     "evalue": "Invalid file path or buffer object type: <class 'NoneType'>",
     "output_type": "error",
     "traceback": [
      "\u001b[0;31m---------------------------------------------------------------------------\u001b[0m",
      "\u001b[0;31mValueError\u001b[0m                                Traceback (most recent call last)",
      "\u001b[0;32m<ipython-input-57-16d8f9f5c9d6>\u001b[0m in \u001b[0;36m<module>\u001b[0;34m\u001b[0m\n\u001b[0;32m----> 1\u001b[0;31m \u001b[0mbig_gen_file\u001b[0m\u001b[0;34m.\u001b[0m\u001b[0m_sample_list\u001b[0m\u001b[0;34m\u001b[0m\u001b[0;34m\u001b[0m\u001b[0m\n\u001b[0m",
      "\u001b[0;32m<ipython-input-55-30e06bd06d53>\u001b[0m in \u001b[0;36m_sample_list\u001b[0;34m(self)\u001b[0m\n\u001b[1;32m     52\u001b[0m             \u001b[0;32mreturn\u001b[0m \u001b[0mself\u001b[0m\u001b[0;34m.\u001b[0m\u001b[0msample_ids\u001b[0m\u001b[0;34m\u001b[0m\u001b[0;34m\u001b[0m\u001b[0m\n\u001b[1;32m     53\u001b[0m         \u001b[0;32melse\u001b[0m\u001b[0;34m:\u001b[0m\u001b[0;34m\u001b[0m\u001b[0;34m\u001b[0m\u001b[0m\n\u001b[0;32m---> 54\u001b[0;31m             \u001b[0;32mreturn\u001b[0m \u001b[0mlist\u001b[0m\u001b[0;34m(\u001b[0m\u001b[0mset\u001b[0m\u001b[0;34m(\u001b[0m\u001b[0;34m[\u001b[0m\u001b[0mcol\u001b[0m\u001b[0;34m.\u001b[0m\u001b[0msplit\u001b[0m\u001b[0;34m(\u001b[0m\u001b[0;34m\"_\"\u001b[0m\u001b[0;34m)\u001b[0m\u001b[0;34m[\u001b[0m\u001b[0;36m0\u001b[0m\u001b[0;34m]\u001b[0m \u001b[0;32mfor\u001b[0m \u001b[0mcol\u001b[0m \u001b[0;32min\u001b[0m \u001b[0mself\u001b[0m\u001b[0;34m.\u001b[0m\u001b[0msample_cols\u001b[0m\u001b[0;34m]\u001b[0m\u001b[0;34m)\u001b[0m\u001b[0;34m)\u001b[0m\u001b[0;34m\u001b[0m\u001b[0;34m\u001b[0m\u001b[0m\n\u001b[0m\u001b[1;32m     55\u001b[0m \u001b[0;34m\u001b[0m\u001b[0m\n\u001b[1;32m     56\u001b[0m     \u001b[0;34m@\u001b[0m\u001b[0mproperty\u001b[0m\u001b[0;34m\u001b[0m\u001b[0;34m\u001b[0m\u001b[0m\n",
      "\u001b[0;32m<ipython-input-55-30e06bd06d53>\u001b[0m in \u001b[0;36msample_cols\u001b[0;34m(self)\u001b[0m\n\u001b[1;32m     44\u001b[0m     \u001b[0;34m@\u001b[0m\u001b[0mproperty\u001b[0m\u001b[0;34m\u001b[0m\u001b[0;34m\u001b[0m\u001b[0m\n\u001b[1;32m     45\u001b[0m     \u001b[0;32mdef\u001b[0m \u001b[0msample_cols\u001b[0m\u001b[0;34m(\u001b[0m\u001b[0mself\u001b[0m\u001b[0;34m)\u001b[0m\u001b[0;34m:\u001b[0m\u001b[0;34m\u001b[0m\u001b[0;34m\u001b[0m\u001b[0m\n\u001b[0;32m---> 46\u001b[0;31m         \u001b[0mcols\u001b[0m \u001b[0;34m=\u001b[0m \u001b[0;34m[\u001b[0m\u001b[0mcol\u001b[0m \u001b[0;32mfor\u001b[0m \u001b[0mcol\u001b[0m \u001b[0;32min\u001b[0m \u001b[0mself\u001b[0m\u001b[0;34m.\u001b[0m\u001b[0mcolumn_headers\u001b[0m \u001b[0;32mif\u001b[0m \u001b[0mcol\u001b[0m \u001b[0;32mnot\u001b[0m \u001b[0;32min\u001b[0m \u001b[0mset\u001b[0m\u001b[0;34m(\u001b[0m\u001b[0mself\u001b[0m\u001b[0;34m.\u001b[0m\u001b[0minitial_cols\u001b[0m\u001b[0;34m)\u001b[0m\u001b[0;34m]\u001b[0m\u001b[0;34m\u001b[0m\u001b[0;34m\u001b[0m\u001b[0m\n\u001b[0m\u001b[1;32m     47\u001b[0m         \u001b[0;32mreturn\u001b[0m \u001b[0mcols\u001b[0m\u001b[0;34m\u001b[0m\u001b[0;34m\u001b[0m\u001b[0m\n\u001b[1;32m     48\u001b[0m \u001b[0;34m\u001b[0m\u001b[0m\n",
      "\u001b[0;32m<ipython-input-55-30e06bd06d53>\u001b[0m in \u001b[0;36mcolumn_headers\u001b[0;34m(self)\u001b[0m\n\u001b[1;32m     38\u001b[0m     \u001b[0;32mdef\u001b[0m \u001b[0mcolumn_headers\u001b[0m\u001b[0;34m(\u001b[0m\u001b[0mself\u001b[0m\u001b[0;34m)\u001b[0m\u001b[0;34m:\u001b[0m\u001b[0;34m\u001b[0m\u001b[0;34m\u001b[0m\u001b[0m\n\u001b[1;32m     39\u001b[0m         \u001b[0;31m#read the first non-header line\u001b[0m\u001b[0;34m\u001b[0m\u001b[0;34m\u001b[0m\u001b[0;34m\u001b[0m\u001b[0m\n\u001b[0;32m---> 40\u001b[0;31m         \u001b[0mfirst_line_df\u001b[0m \u001b[0;34m=\u001b[0m \u001b[0mnext\u001b[0m\u001b[0;34m(\u001b[0m\u001b[0mself\u001b[0m\u001b[0;34m.\u001b[0m\u001b[0m_load_unprocessed\u001b[0m\u001b[0;34m(\u001b[0m\u001b[0mchunksize\u001b[0m\u001b[0;34m=\u001b[0m\u001b[0;36m1\u001b[0m\u001b[0;34m)\u001b[0m\u001b[0;34m)\u001b[0m\u001b[0;34m\u001b[0m\u001b[0;34m\u001b[0m\u001b[0m\n\u001b[0m\u001b[1;32m     41\u001b[0m         \u001b[0mgenerator\u001b[0m \u001b[0;34m=\u001b[0m \u001b[0mself\u001b[0m\u001b[0;34m.\u001b[0m\u001b[0mcol_name_generator\u001b[0m\u001b[0;34m(\u001b[0m\u001b[0;34m)\u001b[0m\u001b[0;34m\u001b[0m\u001b[0;34m\u001b[0m\u001b[0m\n\u001b[1;32m     42\u001b[0m         \u001b[0;32mreturn\u001b[0m \u001b[0;34m[\u001b[0m\u001b[0mnext\u001b[0m\u001b[0;34m(\u001b[0m\u001b[0mgenerator\u001b[0m\u001b[0;34m)\u001b[0m \u001b[0;32mfor\u001b[0m \u001b[0mcol\u001b[0m \u001b[0;32min\u001b[0m \u001b[0mfirst_line_df\u001b[0m\u001b[0;34m.\u001b[0m\u001b[0mcolumns\u001b[0m\u001b[0;34m]\u001b[0m\u001b[0;34m\u001b[0m\u001b[0;34m\u001b[0m\u001b[0m\n",
      "\u001b[0;32m<ipython-input-55-30e06bd06d53>\u001b[0m in \u001b[0;36m_load_unprocessed\u001b[0;34m(self, **kwargs)\u001b[0m\n\u001b[1;32m     67\u001b[0m     \u001b[0;34m@\u001b[0m\u001b[0mdelegates\u001b[0m\u001b[0;34m(\u001b[0m\u001b[0mpd\u001b[0m\u001b[0;34m.\u001b[0m\u001b[0mread_csv\u001b[0m\u001b[0;34m)\u001b[0m\u001b[0;34m\u001b[0m\u001b[0;34m\u001b[0m\u001b[0m\n\u001b[1;32m     68\u001b[0m     \u001b[0;32mdef\u001b[0m \u001b[0m_load_unprocessed\u001b[0m\u001b[0;34m(\u001b[0m\u001b[0mself\u001b[0m\u001b[0;34m,\u001b[0m \u001b[0;34m**\u001b[0m\u001b[0mkwargs\u001b[0m\u001b[0;34m)\u001b[0m\u001b[0;34m:\u001b[0m\u001b[0;34m\u001b[0m\u001b[0;34m\u001b[0m\u001b[0m\n\u001b[0;32m---> 69\u001b[0;31m         \u001b[0;32mreturn\u001b[0m \u001b[0mpd\u001b[0m\u001b[0;34m.\u001b[0m\u001b[0mread_csv\u001b[0m\u001b[0;34m(\u001b[0m\u001b[0mfilepath_or_buffer\u001b[0m \u001b[0;34m=\u001b[0m \u001b[0mself\u001b[0m\u001b[0;34m.\u001b[0m\u001b[0mcurrent_file_path\u001b[0m\u001b[0;34m,\u001b[0m \u001b[0;34m**\u001b[0m\u001b[0mself\u001b[0m\u001b[0;34m.\u001b[0m\u001b[0mpandas_args\u001b[0m\u001b[0;34m,\u001b[0m \u001b[0;34m**\u001b[0m\u001b[0mkwargs\u001b[0m\u001b[0;34m)\u001b[0m\u001b[0;34m\u001b[0m\u001b[0;34m\u001b[0m\u001b[0m\n\u001b[0m\u001b[1;32m     70\u001b[0m \u001b[0;34m\u001b[0m\u001b[0m\n\u001b[1;32m     71\u001b[0m \u001b[0;34m\u001b[0m\u001b[0m\n",
      "\u001b[0;32m/lab/corradin_biobank/FOR_AN/OVP/corradin_ovp_utils/.venv/lib/python3.8/site-packages/pandas/io/parsers.py\u001b[0m in \u001b[0;36mread_csv\u001b[0;34m(filepath_or_buffer, sep, delimiter, header, names, index_col, usecols, squeeze, prefix, mangle_dupe_cols, dtype, engine, converters, true_values, false_values, skipinitialspace, skiprows, skipfooter, nrows, na_values, keep_default_na, na_filter, verbose, skip_blank_lines, parse_dates, infer_datetime_format, keep_date_col, date_parser, dayfirst, cache_dates, iterator, chunksize, compression, thousands, decimal, lineterminator, quotechar, quoting, doublequote, escapechar, comment, encoding, dialect, error_bad_lines, warn_bad_lines, delim_whitespace, low_memory, memory_map, float_precision, storage_options)\u001b[0m\n\u001b[1;32m    608\u001b[0m     \u001b[0mkwds\u001b[0m\u001b[0;34m.\u001b[0m\u001b[0mupdate\u001b[0m\u001b[0;34m(\u001b[0m\u001b[0mkwds_defaults\u001b[0m\u001b[0;34m)\u001b[0m\u001b[0;34m\u001b[0m\u001b[0;34m\u001b[0m\u001b[0m\n\u001b[1;32m    609\u001b[0m \u001b[0;34m\u001b[0m\u001b[0m\n\u001b[0;32m--> 610\u001b[0;31m     \u001b[0;32mreturn\u001b[0m \u001b[0m_read\u001b[0m\u001b[0;34m(\u001b[0m\u001b[0mfilepath_or_buffer\u001b[0m\u001b[0;34m,\u001b[0m \u001b[0mkwds\u001b[0m\u001b[0;34m)\u001b[0m\u001b[0;34m\u001b[0m\u001b[0;34m\u001b[0m\u001b[0m\n\u001b[0m\u001b[1;32m    611\u001b[0m \u001b[0;34m\u001b[0m\u001b[0m\n\u001b[1;32m    612\u001b[0m \u001b[0;34m\u001b[0m\u001b[0m\n",
      "\u001b[0;32m/lab/corradin_biobank/FOR_AN/OVP/corradin_ovp_utils/.venv/lib/python3.8/site-packages/pandas/io/parsers.py\u001b[0m in \u001b[0;36m_read\u001b[0;34m(filepath_or_buffer, kwds)\u001b[0m\n\u001b[1;32m    460\u001b[0m \u001b[0;34m\u001b[0m\u001b[0m\n\u001b[1;32m    461\u001b[0m     \u001b[0;31m# Create the parser.\u001b[0m\u001b[0;34m\u001b[0m\u001b[0;34m\u001b[0m\u001b[0;34m\u001b[0m\u001b[0m\n\u001b[0;32m--> 462\u001b[0;31m     \u001b[0mparser\u001b[0m \u001b[0;34m=\u001b[0m \u001b[0mTextFileReader\u001b[0m\u001b[0;34m(\u001b[0m\u001b[0mfilepath_or_buffer\u001b[0m\u001b[0;34m,\u001b[0m \u001b[0;34m**\u001b[0m\u001b[0mkwds\u001b[0m\u001b[0;34m)\u001b[0m\u001b[0;34m\u001b[0m\u001b[0;34m\u001b[0m\u001b[0m\n\u001b[0m\u001b[1;32m    463\u001b[0m \u001b[0;34m\u001b[0m\u001b[0m\n\u001b[1;32m    464\u001b[0m     \u001b[0;32mif\u001b[0m \u001b[0mchunksize\u001b[0m \u001b[0;32mor\u001b[0m \u001b[0miterator\u001b[0m\u001b[0;34m:\u001b[0m\u001b[0;34m\u001b[0m\u001b[0;34m\u001b[0m\u001b[0m\n",
      "\u001b[0;32m/lab/corradin_biobank/FOR_AN/OVP/corradin_ovp_utils/.venv/lib/python3.8/site-packages/pandas/io/parsers.py\u001b[0m in \u001b[0;36m__init__\u001b[0;34m(self, f, engine, **kwds)\u001b[0m\n\u001b[1;32m    817\u001b[0m             \u001b[0mself\u001b[0m\u001b[0;34m.\u001b[0m\u001b[0moptions\u001b[0m\u001b[0;34m[\u001b[0m\u001b[0;34m\"has_index_names\"\u001b[0m\u001b[0;34m]\u001b[0m \u001b[0;34m=\u001b[0m \u001b[0mkwds\u001b[0m\u001b[0;34m[\u001b[0m\u001b[0;34m\"has_index_names\"\u001b[0m\u001b[0;34m]\u001b[0m\u001b[0;34m\u001b[0m\u001b[0;34m\u001b[0m\u001b[0m\n\u001b[1;32m    818\u001b[0m \u001b[0;34m\u001b[0m\u001b[0m\n\u001b[0;32m--> 819\u001b[0;31m         \u001b[0mself\u001b[0m\u001b[0;34m.\u001b[0m\u001b[0m_engine\u001b[0m \u001b[0;34m=\u001b[0m \u001b[0mself\u001b[0m\u001b[0;34m.\u001b[0m\u001b[0m_make_engine\u001b[0m\u001b[0;34m(\u001b[0m\u001b[0mself\u001b[0m\u001b[0;34m.\u001b[0m\u001b[0mengine\u001b[0m\u001b[0;34m)\u001b[0m\u001b[0;34m\u001b[0m\u001b[0;34m\u001b[0m\u001b[0m\n\u001b[0m\u001b[1;32m    820\u001b[0m \u001b[0;34m\u001b[0m\u001b[0m\n\u001b[1;32m    821\u001b[0m     \u001b[0;32mdef\u001b[0m \u001b[0mclose\u001b[0m\u001b[0;34m(\u001b[0m\u001b[0mself\u001b[0m\u001b[0;34m)\u001b[0m\u001b[0;34m:\u001b[0m\u001b[0;34m\u001b[0m\u001b[0;34m\u001b[0m\u001b[0m\n",
      "\u001b[0;32m/lab/corradin_biobank/FOR_AN/OVP/corradin_ovp_utils/.venv/lib/python3.8/site-packages/pandas/io/parsers.py\u001b[0m in \u001b[0;36m_make_engine\u001b[0;34m(self, engine)\u001b[0m\n\u001b[1;32m   1048\u001b[0m             )\n\u001b[1;32m   1049\u001b[0m         \u001b[0;31m# error: Too many arguments for \"ParserBase\"\u001b[0m\u001b[0;34m\u001b[0m\u001b[0;34m\u001b[0m\u001b[0;34m\u001b[0m\u001b[0m\n\u001b[0;32m-> 1050\u001b[0;31m         \u001b[0;32mreturn\u001b[0m \u001b[0mmapping\u001b[0m\u001b[0;34m[\u001b[0m\u001b[0mengine\u001b[0m\u001b[0;34m]\u001b[0m\u001b[0;34m(\u001b[0m\u001b[0mself\u001b[0m\u001b[0;34m.\u001b[0m\u001b[0mf\u001b[0m\u001b[0;34m,\u001b[0m \u001b[0;34m**\u001b[0m\u001b[0mself\u001b[0m\u001b[0;34m.\u001b[0m\u001b[0moptions\u001b[0m\u001b[0;34m)\u001b[0m  \u001b[0;31m# type: ignore[call-arg]\u001b[0m\u001b[0;34m\u001b[0m\u001b[0;34m\u001b[0m\u001b[0m\n\u001b[0m\u001b[1;32m   1051\u001b[0m \u001b[0;34m\u001b[0m\u001b[0m\n\u001b[1;32m   1052\u001b[0m     \u001b[0;32mdef\u001b[0m \u001b[0m_failover_to_python\u001b[0m\u001b[0;34m(\u001b[0m\u001b[0mself\u001b[0m\u001b[0;34m)\u001b[0m\u001b[0;34m:\u001b[0m\u001b[0;34m\u001b[0m\u001b[0;34m\u001b[0m\u001b[0m\n",
      "\u001b[0;32m/lab/corradin_biobank/FOR_AN/OVP/corradin_ovp_utils/.venv/lib/python3.8/site-packages/pandas/io/parsers.py\u001b[0m in \u001b[0;36m__init__\u001b[0;34m(self, src, **kwds)\u001b[0m\n\u001b[1;32m   1865\u001b[0m \u001b[0;34m\u001b[0m\u001b[0m\n\u001b[1;32m   1866\u001b[0m         \u001b[0;31m# open handles\u001b[0m\u001b[0;34m\u001b[0m\u001b[0;34m\u001b[0m\u001b[0;34m\u001b[0m\u001b[0m\n\u001b[0;32m-> 1867\u001b[0;31m         \u001b[0mself\u001b[0m\u001b[0;34m.\u001b[0m\u001b[0m_open_handles\u001b[0m\u001b[0;34m(\u001b[0m\u001b[0msrc\u001b[0m\u001b[0;34m,\u001b[0m \u001b[0mkwds\u001b[0m\u001b[0;34m)\u001b[0m\u001b[0;34m\u001b[0m\u001b[0;34m\u001b[0m\u001b[0m\n\u001b[0m\u001b[1;32m   1868\u001b[0m         \u001b[0;32massert\u001b[0m \u001b[0mself\u001b[0m\u001b[0;34m.\u001b[0m\u001b[0mhandles\u001b[0m \u001b[0;32mis\u001b[0m \u001b[0;32mnot\u001b[0m \u001b[0;32mNone\u001b[0m\u001b[0;34m\u001b[0m\u001b[0;34m\u001b[0m\u001b[0m\n\u001b[1;32m   1869\u001b[0m         \u001b[0;32mfor\u001b[0m \u001b[0mkey\u001b[0m \u001b[0;32min\u001b[0m \u001b[0;34m(\u001b[0m\u001b[0;34m\"storage_options\"\u001b[0m\u001b[0;34m,\u001b[0m \u001b[0;34m\"encoding\"\u001b[0m\u001b[0;34m,\u001b[0m \u001b[0;34m\"memory_map\"\u001b[0m\u001b[0;34m,\u001b[0m \u001b[0;34m\"compression\"\u001b[0m\u001b[0;34m)\u001b[0m\u001b[0;34m:\u001b[0m\u001b[0;34m\u001b[0m\u001b[0;34m\u001b[0m\u001b[0m\n",
      "\u001b[0;32m/lab/corradin_biobank/FOR_AN/OVP/corradin_ovp_utils/.venv/lib/python3.8/site-packages/pandas/io/parsers.py\u001b[0m in \u001b[0;36m_open_handles\u001b[0;34m(self, src, kwds)\u001b[0m\n\u001b[1;32m   1360\u001b[0m         \u001b[0mLet\u001b[0m \u001b[0mthe\u001b[0m \u001b[0mreaders\u001b[0m \u001b[0mopen\u001b[0m \u001b[0mIOHanldes\u001b[0m \u001b[0mafter\u001b[0m \u001b[0mthey\u001b[0m \u001b[0mare\u001b[0m \u001b[0mdone\u001b[0m \u001b[0;32mwith\u001b[0m \u001b[0mtheir\u001b[0m \u001b[0mpotential\u001b[0m \u001b[0mraises\u001b[0m\u001b[0;34m.\u001b[0m\u001b[0;34m\u001b[0m\u001b[0;34m\u001b[0m\u001b[0m\n\u001b[1;32m   1361\u001b[0m         \"\"\"\n\u001b[0;32m-> 1362\u001b[0;31m         self.handles = get_handle(\n\u001b[0m\u001b[1;32m   1363\u001b[0m             \u001b[0msrc\u001b[0m\u001b[0;34m,\u001b[0m\u001b[0;34m\u001b[0m\u001b[0;34m\u001b[0m\u001b[0m\n\u001b[1;32m   1364\u001b[0m             \u001b[0;34m\"r\"\u001b[0m\u001b[0;34m,\u001b[0m\u001b[0;34m\u001b[0m\u001b[0;34m\u001b[0m\u001b[0m\n",
      "\u001b[0;32m/lab/corradin_biobank/FOR_AN/OVP/corradin_ovp_utils/.venv/lib/python3.8/site-packages/pandas/io/common.py\u001b[0m in \u001b[0;36mget_handle\u001b[0;34m(path_or_buf, mode, encoding, compression, memory_map, is_text, errors, storage_options)\u001b[0m\n\u001b[1;32m    556\u001b[0m \u001b[0;34m\u001b[0m\u001b[0m\n\u001b[1;32m    557\u001b[0m     \u001b[0;31m# open URLs\u001b[0m\u001b[0;34m\u001b[0m\u001b[0;34m\u001b[0m\u001b[0;34m\u001b[0m\u001b[0m\n\u001b[0;32m--> 558\u001b[0;31m     ioargs = _get_filepath_or_buffer(\n\u001b[0m\u001b[1;32m    559\u001b[0m         \u001b[0mpath_or_buf\u001b[0m\u001b[0;34m,\u001b[0m\u001b[0;34m\u001b[0m\u001b[0;34m\u001b[0m\u001b[0m\n\u001b[1;32m    560\u001b[0m         \u001b[0mencoding\u001b[0m\u001b[0;34m=\u001b[0m\u001b[0mencoding\u001b[0m\u001b[0;34m,\u001b[0m\u001b[0;34m\u001b[0m\u001b[0;34m\u001b[0m\u001b[0m\n",
      "\u001b[0;32m/lab/corradin_biobank/FOR_AN/OVP/corradin_ovp_utils/.venv/lib/python3.8/site-packages/pandas/io/common.py\u001b[0m in \u001b[0;36m_get_filepath_or_buffer\u001b[0;34m(filepath_or_buffer, encoding, compression, mode, storage_options)\u001b[0m\n\u001b[1;32m    369\u001b[0m     \u001b[0;32mif\u001b[0m \u001b[0;32mnot\u001b[0m \u001b[0mis_file_like\u001b[0m\u001b[0;34m(\u001b[0m\u001b[0mfilepath_or_buffer\u001b[0m\u001b[0;34m)\u001b[0m\u001b[0;34m:\u001b[0m\u001b[0;34m\u001b[0m\u001b[0;34m\u001b[0m\u001b[0m\n\u001b[1;32m    370\u001b[0m         \u001b[0mmsg\u001b[0m \u001b[0;34m=\u001b[0m \u001b[0;34mf\"Invalid file path or buffer object type: {type(filepath_or_buffer)}\"\u001b[0m\u001b[0;34m\u001b[0m\u001b[0;34m\u001b[0m\u001b[0m\n\u001b[0;32m--> 371\u001b[0;31m         \u001b[0;32mraise\u001b[0m \u001b[0mValueError\u001b[0m\u001b[0;34m(\u001b[0m\u001b[0mmsg\u001b[0m\u001b[0;34m)\u001b[0m\u001b[0;34m\u001b[0m\u001b[0;34m\u001b[0m\u001b[0m\n\u001b[0m\u001b[1;32m    372\u001b[0m \u001b[0;34m\u001b[0m\u001b[0m\n\u001b[1;32m    373\u001b[0m     return IOArgs(\n",
      "\u001b[0;31mValueError\u001b[0m: Invalid file path or buffer object type: <class 'NoneType'>"
     ]
    }
   ],
   "source": [
    "big_gen_file._sample_list"
   ]
  },
  {
   "cell_type": "code",
   "execution_count": 49,
   "metadata": {
    "execution": {
     "iopub.execute_input": "2021-06-08T18:54:36.724830Z",
     "iopub.status.busy": "2021-06-08T18:54:36.724258Z",
     "iopub.status.idle": "2021-06-08T18:54:36.733735Z",
     "shell.execute_reply": "2021-06-08T18:54:36.732353Z",
     "shell.execute_reply.started": "2021-06-08T18:54:36.724763Z"
    }
   },
   "outputs": [],
   "source": [
    "def test_func(rsid_df): \n",
    "    for sample in big_gen_file._sample_list:\n",
    "        sample_cols = [f\"{sample}_{allele_prob_col_num}\" for allele_prob_col_num in range(1, big_gen_file.prob_n_cols + 1)]\n",
    "        sample_cols_df = rsid_df[sample_cols]\n",
    "        yield SimpleNamespace(sample_id = sample,\n",
    "                              sample_df = sample_cols_df)"
   ]
  },
  {
   "cell_type": "code",
   "execution_count": 51,
   "metadata": {
    "execution": {
     "iopub.execute_input": "2021-06-08T18:54:48.972944Z",
     "iopub.status.busy": "2021-06-08T18:54:48.972474Z",
     "iopub.status.idle": "2021-06-08T18:54:49.333403Z",
     "shell.execute_reply": "2021-06-08T18:54:49.332648Z",
     "shell.execute_reply.started": "2021-06-08T18:54:48.972879Z"
    }
   },
   "outputs": [
    {
     "name": "stderr",
     "output_type": "stream",
     "text": [
      "SettingWithCopyWarning: \n",
      "A value is trying to be set on a copy of a slice from a DataFrame.\n",
      "Try using .loc[row_indexer,col_indexer] = value instead\n",
      "\n",
      "See the caveats in the documentation: https://pandas.pydata.org/pandas-docs/stable/user_guide/indexing.html#returning-a-view-versus-a-copy\n",
      "SettingWithCopyWarning: \n",
      "A value is trying to be set on a copy of a slice from a DataFrame.\n",
      "Try using .loc[row_indexer,col_indexer] = value instead\n",
      "\n",
      "See the caveats in the documentation: https://pandas.pydata.org/pandas-docs/stable/user_guide/indexing.html#returning-a-view-versus-a-copy\n",
      "SettingWithCopyWarning: \n",
      "A value is trying to be set on a copy of a slice from a DataFrame.\n",
      "Try using .loc[row_indexer,col_indexer] = value instead\n",
      "\n",
      "See the caveats in the documentation: https://pandas.pydata.org/pandas-docs/stable/user_guide/indexing.html#returning-a-view-versus-a-copy\n"
     ]
    },
    {
     "data": {
      "text/html": [
       "<div>\n",
       "<style scoped>\n",
       "    .dataframe tbody tr th:only-of-type {\n",
       "        vertical-align: middle;\n",
       "    }\n",
       "\n",
       "    .dataframe tbody tr th {\n",
       "        vertical-align: top;\n",
       "    }\n",
       "\n",
       "    .dataframe thead th {\n",
       "        text-align: right;\n",
       "    }\n",
       "</style>\n",
       "<table border=\"1\" class=\"dataframe\">\n",
       "  <thead>\n",
       "    <tr style=\"text-align: right;\">\n",
       "      <th></th>\n",
       "      <th>homo_ref</th>\n",
       "      <th>het</th>\n",
       "      <th>homo_alt</th>\n",
       "    </tr>\n",
       "    <tr>\n",
       "      <th>rsid</th>\n",
       "      <th></th>\n",
       "      <th></th>\n",
       "      <th></th>\n",
       "    </tr>\n",
       "  </thead>\n",
       "  <tbody>\n",
       "    <tr>\n",
       "      <th>rs145069787</th>\n",
       "      <td>GG</td>\n",
       "      <td>AG</td>\n",
       "      <td>AA</td>\n",
       "    </tr>\n",
       "    <tr>\n",
       "      <th>rs12723953</th>\n",
       "      <td>CC</td>\n",
       "      <td>CT</td>\n",
       "      <td>TT</td>\n",
       "    </tr>\n",
       "    <tr>\n",
       "      <th>rs76539137</th>\n",
       "      <td>AA</td>\n",
       "      <td>AC</td>\n",
       "      <td>CC</td>\n",
       "    </tr>\n",
       "    <tr>\n",
       "      <th>rs72895585</th>\n",
       "      <td>CC</td>\n",
       "      <td>CT</td>\n",
       "      <td>TT</td>\n",
       "    </tr>\n",
       "    <tr>\n",
       "      <th>rs183954195</th>\n",
       "      <td>TT</td>\n",
       "      <td>AT</td>\n",
       "      <td>AA</td>\n",
       "    </tr>\n",
       "    <tr>\n",
       "      <th>...</th>\n",
       "      <td>...</td>\n",
       "      <td>...</td>\n",
       "      <td>...</td>\n",
       "    </tr>\n",
       "    <tr>\n",
       "      <th>rs150084180</th>\n",
       "      <td>TT</td>\n",
       "      <td>AT</td>\n",
       "      <td>AA</td>\n",
       "    </tr>\n",
       "    <tr>\n",
       "      <th>rs72671670</th>\n",
       "      <td>TT</td>\n",
       "      <td>CT</td>\n",
       "      <td>CC</td>\n",
       "    </tr>\n",
       "    <tr>\n",
       "      <th>rs144804148</th>\n",
       "      <td>TT</td>\n",
       "      <td>CT</td>\n",
       "      <td>CC</td>\n",
       "    </tr>\n",
       "    <tr>\n",
       "      <th>rs78101999</th>\n",
       "      <td>TT</td>\n",
       "      <td>CT</td>\n",
       "      <td>CC</td>\n",
       "    </tr>\n",
       "    <tr>\n",
       "      <th>rs79916150</th>\n",
       "      <td>CC</td>\n",
       "      <td>CT</td>\n",
       "      <td>TT</td>\n",
       "    </tr>\n",
       "  </tbody>\n",
       "</table>\n",
       "<p>9482 rows × 3 columns</p>\n",
       "</div>"
      ],
      "text/plain": [
       "            homo_ref het homo_alt\n",
       "rsid                             \n",
       "rs145069787       GG  AG       AA\n",
       "rs12723953        CC  CT       TT\n",
       "rs76539137        AA  AC       CC\n",
       "rs72895585        CC  CT       TT\n",
       "rs183954195       TT  AT       AA\n",
       "...              ...  ..      ...\n",
       "rs150084180       TT  AT       AA\n",
       "rs72671670        TT  CT       CC\n",
       "rs144804148       TT  CT       CC\n",
       "rs78101999        TT  CT       CC\n",
       "rs79916150        CC  CT       TT\n",
       "\n",
       "[9482 rows x 3 columns]"
      ]
     },
     "execution_count": 51,
     "metadata": {},
     "output_type": "execute_result"
    }
   ],
   "source": [
    "geno_df = corradin_ovp_utils.datasets.genetic_file.get_possible_geno_combinations(test_double_checked, big_gen_file.ref_col, big_gen_file.alt_col)\n",
    "geno_df"
   ]
  },
  {
   "cell_type": "code",
   "execution_count": 147,
   "metadata": {
    "execution": {
     "iopub.execute_input": "2021-05-24T21:38:20.992966Z",
     "iopub.status.busy": "2021-05-24T21:38:20.992410Z",
     "iopub.status.idle": "2021-05-24T21:38:21.014596Z",
     "shell.execute_reply": "2021-05-24T21:38:21.013851Z",
     "shell.execute_reply.started": "2021-05-24T21:38:20.992900Z"
    }
   },
   "outputs": [
    {
     "data": {
      "text/html": [
       "<div>\n",
       "<style scoped>\n",
       "    .dataframe tbody tr th:only-of-type {\n",
       "        vertical-align: middle;\n",
       "    }\n",
       "\n",
       "    .dataframe tbody tr th {\n",
       "        vertical-align: top;\n",
       "    }\n",
       "\n",
       "    .dataframe thead th {\n",
       "        text-align: right;\n",
       "    }\n",
       "</style>\n",
       "<table border=\"1\" class=\"dataframe\">\n",
       "  <thead>\n",
       "    <tr style=\"text-align: right;\">\n",
       "      <th></th>\n",
       "      <th>sample1_1</th>\n",
       "      <th>sample1_2</th>\n",
       "      <th>sample1_3</th>\n",
       "    </tr>\n",
       "    <tr>\n",
       "      <th>rsid</th>\n",
       "      <th></th>\n",
       "      <th></th>\n",
       "      <th></th>\n",
       "    </tr>\n",
       "  </thead>\n",
       "  <tbody>\n",
       "    <tr>\n",
       "      <th>rs182679417</th>\n",
       "      <td>1.000</td>\n",
       "      <td>0.000</td>\n",
       "      <td>0.000</td>\n",
       "    </tr>\n",
       "    <tr>\n",
       "      <th>rs141600902</th>\n",
       "      <td>1.000</td>\n",
       "      <td>0.000</td>\n",
       "      <td>0.000</td>\n",
       "    </tr>\n",
       "    <tr>\n",
       "      <th>rs200576390</th>\n",
       "      <td>1.000</td>\n",
       "      <td>0.000</td>\n",
       "      <td>0.000</td>\n",
       "    </tr>\n",
       "    <tr>\n",
       "      <th>rs145969444</th>\n",
       "      <td>1.000</td>\n",
       "      <td>0.000</td>\n",
       "      <td>0.000</td>\n",
       "    </tr>\n",
       "    <tr>\n",
       "      <th>rs184502689</th>\n",
       "      <td>1.000</td>\n",
       "      <td>0.000</td>\n",
       "      <td>0.000</td>\n",
       "    </tr>\n",
       "    <tr>\n",
       "      <th>...</th>\n",
       "      <td>...</td>\n",
       "      <td>...</td>\n",
       "      <td>...</td>\n",
       "    </tr>\n",
       "    <tr>\n",
       "      <th>rs117795588</th>\n",
       "      <td>1.000</td>\n",
       "      <td>0.000</td>\n",
       "      <td>0.000</td>\n",
       "    </tr>\n",
       "    <tr>\n",
       "      <th>rs143237683</th>\n",
       "      <td>1.000</td>\n",
       "      <td>0.000</td>\n",
       "      <td>0.000</td>\n",
       "    </tr>\n",
       "    <tr>\n",
       "      <th>rs141475345</th>\n",
       "      <td>0.264</td>\n",
       "      <td>0.736</td>\n",
       "      <td>0.000</td>\n",
       "    </tr>\n",
       "    <tr>\n",
       "      <th>rs12139639</th>\n",
       "      <td>0.000</td>\n",
       "      <td>0.107</td>\n",
       "      <td>0.892</td>\n",
       "    </tr>\n",
       "    <tr>\n",
       "      <th>rs1935557</th>\n",
       "      <td>0.007</td>\n",
       "      <td>0.992</td>\n",
       "      <td>0.000</td>\n",
       "    </tr>\n",
       "  </tbody>\n",
       "</table>\n",
       "<p>9732 rows × 3 columns</p>\n",
       "</div>"
      ],
      "text/plain": [
       "             sample1_1  sample1_2  sample1_3\n",
       "rsid                                        \n",
       "rs182679417      1.000      0.000      0.000\n",
       "rs141600902      1.000      0.000      0.000\n",
       "rs200576390      1.000      0.000      0.000\n",
       "rs145969444      1.000      0.000      0.000\n",
       "rs184502689      1.000      0.000      0.000\n",
       "...                ...        ...        ...\n",
       "rs117795588      1.000      0.000      0.000\n",
       "rs143237683      1.000      0.000      0.000\n",
       "rs141475345      0.264      0.736      0.000\n",
       "rs12139639       0.000      0.107      0.892\n",
       "rs1935557        0.007      0.992      0.000\n",
       "\n",
       "[9732 rows x 3 columns]"
      ]
     },
     "execution_count": 147,
     "metadata": {},
     "output_type": "execute_result"
    }
   ],
   "source": [
    "sample.sample_df"
   ]
  },
  {
   "cell_type": "code",
   "execution_count": 134,
   "metadata": {
    "execution": {
     "iopub.execute_input": "2021-05-24T21:31:02.972612Z",
     "iopub.status.busy": "2021-05-24T21:31:02.972063Z",
     "iopub.status.idle": "2021-05-24T21:31:02.992436Z",
     "shell.execute_reply": "2021-05-24T21:31:02.991415Z",
     "shell.execute_reply.started": "2021-05-24T21:31:02.972548Z"
    }
   },
   "outputs": [
    {
     "data": {
      "text/plain": [
       "rs150703402    1\n",
       "rs184623073    1\n",
       "rs138555012    1\n",
       "rs139881166    1\n",
       "rs150639980    1\n",
       "              ..\n",
       "rs115567803    1\n",
       "rs199790570    1\n",
       "rs184863209    1\n",
       "rs190308550    1\n",
       "rs12130529     1\n",
       "Name: rsid, Length: 9732, dtype: int64"
      ]
     },
     "execution_count": 134,
     "metadata": {},
     "output_type": "execute_result"
    }
   ],
   "source": [
    "test.index.value_counts()"
   ]
  },
  {
   "cell_type": "code",
   "execution_count": 143,
   "metadata": {
    "execution": {
     "iopub.execute_input": "2021-05-24T21:37:39.521471Z",
     "iopub.status.busy": "2021-05-24T21:37:39.520901Z",
     "iopub.status.idle": "2021-05-24T21:37:39.540199Z",
     "shell.execute_reply": "2021-05-24T21:37:39.539031Z",
     "shell.execute_reply.started": "2021-05-24T21:37:39.521407Z"
    }
   },
   "outputs": [
    {
     "data": {
      "text/plain": [
       "435"
      ]
     },
     "execution_count": 143,
     "metadata": {},
     "output_type": "execute_result"
    }
   ],
   "source": [
    "len(set(sample.sample_df.index) - set(geno_df.index))"
   ]
  },
  {
   "cell_type": "code",
   "execution_count": 142,
   "metadata": {
    "execution": {
     "iopub.execute_input": "2021-05-24T21:37:32.935811Z",
     "iopub.status.busy": "2021-05-24T21:37:32.935247Z",
     "iopub.status.idle": "2021-05-24T21:37:33.127599Z",
     "shell.execute_reply": "2021-05-24T21:37:33.126287Z",
     "shell.execute_reply.started": "2021-05-24T21:37:32.935746Z"
    }
   },
   "outputs": [
    {
     "data": {
      "text/plain": [
       "set()"
      ]
     },
     "execution_count": 142,
     "metadata": {},
     "output_type": "execute_result"
    }
   ],
   "source": [
    "set(sample.sample_df.index) - set(test_result.rsid.unique())"
   ]
  },
  {
   "cell_type": "code",
   "execution_count": 140,
   "metadata": {
    "execution": {
     "iopub.execute_input": "2021-05-24T21:36:45.784193Z",
     "iopub.status.busy": "2021-05-24T21:36:45.783737Z",
     "iopub.status.idle": "2021-05-24T21:36:45.966174Z",
     "shell.execute_reply": "2021-05-24T21:36:45.965221Z",
     "shell.execute_reply.started": "2021-05-24T21:36:45.784141Z"
    }
   },
   "outputs": [
    {
     "data": {
      "text/plain": [
       "190268"
      ]
     },
     "execution_count": 140,
     "metadata": {},
     "output_type": "execute_result"
    }
   ],
   "source": [
    "len(set(test_result.rsid.unique()) - set(sample.sample_df.index))"
   ]
  },
  {
   "cell_type": "code",
   "execution_count": 35,
   "metadata": {
    "execution": {
     "iopub.execute_input": "2021-06-04T13:49:59.895120Z",
     "iopub.status.busy": "2021-06-04T13:49:59.894534Z",
     "iopub.status.idle": "2021-06-04T13:53:35.106393Z",
     "shell.execute_reply": "2021-06-04T13:53:35.100309Z",
     "shell.execute_reply.started": "2021-06-04T13:49:59.895054Z"
    }
   },
   "outputs": [
    {
     "data": {
      "application/vnd.jupyter.widget-view+json": {
       "model_id": "da0bc1374d024987b47373f4a0658f0f",
       "version_major": 2,
       "version_minor": 0
      },
      "text/plain": [
       "0it [00:00, ?it/s]"
      ]
     },
     "metadata": {},
     "output_type": "display_data"
    },
    {
     "ename": "MemoryError",
     "evalue": "Unable to allocate 2.18 GiB for an array with shape (29316, 10000) and data type float64",
     "output_type": "error",
     "traceback": [
      "\u001b[0;31m---------------------------------------------------------------------------\u001b[0m",
      "\u001b[0;31mMemoryError\u001b[0m                               Traceback (most recent call last)",
      "\u001b[0;32m<timed exec>\u001b[0m in \u001b[0;36m<module>\u001b[0;34m\u001b[0m\n",
      "\u001b[0;32m/lab/corradin_biobank/FOR_AN/OVP/corradin_ovp_utils/.venv/lib/python3.8/site-packages/tqdm/notebook.py\u001b[0m in \u001b[0;36m__iter__\u001b[0;34m(self)\u001b[0m\n\u001b[1;32m    251\u001b[0m     \u001b[0;32mdef\u001b[0m \u001b[0m__iter__\u001b[0m\u001b[0;34m(\u001b[0m\u001b[0mself\u001b[0m\u001b[0;34m)\u001b[0m\u001b[0;34m:\u001b[0m\u001b[0;34m\u001b[0m\u001b[0;34m\u001b[0m\u001b[0m\n\u001b[1;32m    252\u001b[0m         \u001b[0;32mtry\u001b[0m\u001b[0;34m:\u001b[0m\u001b[0;34m\u001b[0m\u001b[0;34m\u001b[0m\u001b[0m\n\u001b[0;32m--> 253\u001b[0;31m             \u001b[0;32mfor\u001b[0m \u001b[0mobj\u001b[0m \u001b[0;32min\u001b[0m \u001b[0msuper\u001b[0m\u001b[0;34m(\u001b[0m\u001b[0mtqdm_notebook\u001b[0m\u001b[0;34m,\u001b[0m \u001b[0mself\u001b[0m\u001b[0;34m)\u001b[0m\u001b[0;34m.\u001b[0m\u001b[0m__iter__\u001b[0m\u001b[0;34m(\u001b[0m\u001b[0;34m)\u001b[0m\u001b[0;34m:\u001b[0m\u001b[0;34m\u001b[0m\u001b[0;34m\u001b[0m\u001b[0m\n\u001b[0m\u001b[1;32m    254\u001b[0m                 \u001b[0;31m# return super(tqdm...) will not catch exception\u001b[0m\u001b[0;34m\u001b[0m\u001b[0;34m\u001b[0m\u001b[0;34m\u001b[0m\u001b[0m\n\u001b[1;32m    255\u001b[0m                 \u001b[0;32myield\u001b[0m \u001b[0mobj\u001b[0m\u001b[0;34m\u001b[0m\u001b[0;34m\u001b[0m\u001b[0m\n",
      "\u001b[0;32m/lab/corradin_biobank/FOR_AN/OVP/corradin_ovp_utils/.venv/lib/python3.8/site-packages/tqdm/std.py\u001b[0m in \u001b[0;36m__iter__\u001b[0;34m(self)\u001b[0m\n\u001b[1;32m   1174\u001b[0m \u001b[0;34m\u001b[0m\u001b[0m\n\u001b[1;32m   1175\u001b[0m         \u001b[0;32mtry\u001b[0m\u001b[0;34m:\u001b[0m\u001b[0;34m\u001b[0m\u001b[0;34m\u001b[0m\u001b[0m\n\u001b[0;32m-> 1176\u001b[0;31m             \u001b[0;32mfor\u001b[0m \u001b[0mobj\u001b[0m \u001b[0;32min\u001b[0m \u001b[0miterable\u001b[0m\u001b[0;34m:\u001b[0m\u001b[0;34m\u001b[0m\u001b[0;34m\u001b[0m\u001b[0m\n\u001b[0m\u001b[1;32m   1177\u001b[0m                 \u001b[0;32myield\u001b[0m \u001b[0mobj\u001b[0m\u001b[0;34m\u001b[0m\u001b[0;34m\u001b[0m\u001b[0m\n\u001b[1;32m   1178\u001b[0m                 \u001b[0;31m# Update and possibly print the progressbar.\u001b[0m\u001b[0;34m\u001b[0m\u001b[0;34m\u001b[0m\u001b[0;34m\u001b[0m\u001b[0m\n",
      "\u001b[0;32m/lab/corradin_biobank/FOR_AN/OVP/corradin_ovp_utils/.venv/lib/python3.8/site-packages/pandas/io/parsers.py\u001b[0m in \u001b[0;36m__next__\u001b[0;34m(self)\u001b[0m\n\u001b[1;32m   1032\u001b[0m     \u001b[0;32mdef\u001b[0m \u001b[0m__next__\u001b[0m\u001b[0;34m(\u001b[0m\u001b[0mself\u001b[0m\u001b[0;34m)\u001b[0m\u001b[0;34m:\u001b[0m\u001b[0;34m\u001b[0m\u001b[0;34m\u001b[0m\u001b[0m\n\u001b[1;32m   1033\u001b[0m         \u001b[0;32mtry\u001b[0m\u001b[0;34m:\u001b[0m\u001b[0;34m\u001b[0m\u001b[0;34m\u001b[0m\u001b[0m\n\u001b[0;32m-> 1034\u001b[0;31m             \u001b[0;32mreturn\u001b[0m \u001b[0mself\u001b[0m\u001b[0;34m.\u001b[0m\u001b[0mget_chunk\u001b[0m\u001b[0;34m(\u001b[0m\u001b[0;34m)\u001b[0m\u001b[0;34m\u001b[0m\u001b[0;34m\u001b[0m\u001b[0m\n\u001b[0m\u001b[1;32m   1035\u001b[0m         \u001b[0;32mexcept\u001b[0m \u001b[0mStopIteration\u001b[0m\u001b[0;34m:\u001b[0m\u001b[0;34m\u001b[0m\u001b[0;34m\u001b[0m\u001b[0m\n\u001b[1;32m   1036\u001b[0m             \u001b[0mself\u001b[0m\u001b[0;34m.\u001b[0m\u001b[0mclose\u001b[0m\u001b[0;34m(\u001b[0m\u001b[0;34m)\u001b[0m\u001b[0;34m\u001b[0m\u001b[0;34m\u001b[0m\u001b[0m\n",
      "\u001b[0;32m/lab/corradin_biobank/FOR_AN/OVP/corradin_ovp_utils/.venv/lib/python3.8/site-packages/pandas/io/parsers.py\u001b[0m in \u001b[0;36mget_chunk\u001b[0;34m(self, size)\u001b[0m\n\u001b[1;32m   1082\u001b[0m                 \u001b[0;32mraise\u001b[0m \u001b[0mStopIteration\u001b[0m\u001b[0;34m\u001b[0m\u001b[0;34m\u001b[0m\u001b[0m\n\u001b[1;32m   1083\u001b[0m             \u001b[0msize\u001b[0m \u001b[0;34m=\u001b[0m \u001b[0mmin\u001b[0m\u001b[0;34m(\u001b[0m\u001b[0msize\u001b[0m\u001b[0;34m,\u001b[0m \u001b[0mself\u001b[0m\u001b[0;34m.\u001b[0m\u001b[0mnrows\u001b[0m \u001b[0;34m-\u001b[0m \u001b[0mself\u001b[0m\u001b[0;34m.\u001b[0m\u001b[0m_currow\u001b[0m\u001b[0;34m)\u001b[0m\u001b[0;34m\u001b[0m\u001b[0;34m\u001b[0m\u001b[0m\n\u001b[0;32m-> 1084\u001b[0;31m         \u001b[0;32mreturn\u001b[0m \u001b[0mself\u001b[0m\u001b[0;34m.\u001b[0m\u001b[0mread\u001b[0m\u001b[0;34m(\u001b[0m\u001b[0mnrows\u001b[0m\u001b[0;34m=\u001b[0m\u001b[0msize\u001b[0m\u001b[0;34m)\u001b[0m\u001b[0;34m\u001b[0m\u001b[0;34m\u001b[0m\u001b[0m\n\u001b[0m\u001b[1;32m   1085\u001b[0m \u001b[0;34m\u001b[0m\u001b[0m\n\u001b[1;32m   1086\u001b[0m     \u001b[0;32mdef\u001b[0m \u001b[0m__enter__\u001b[0m\u001b[0;34m(\u001b[0m\u001b[0mself\u001b[0m\u001b[0;34m)\u001b[0m\u001b[0;34m:\u001b[0m\u001b[0;34m\u001b[0m\u001b[0;34m\u001b[0m\u001b[0m\n",
      "\u001b[0;32m/lab/corradin_biobank/FOR_AN/OVP/corradin_ovp_utils/.venv/lib/python3.8/site-packages/pandas/io/parsers.py\u001b[0m in \u001b[0;36mread\u001b[0;34m(self, nrows)\u001b[0m\n\u001b[1;32m   1067\u001b[0m             \u001b[0mnew_rows\u001b[0m \u001b[0;34m=\u001b[0m \u001b[0mlen\u001b[0m\u001b[0;34m(\u001b[0m\u001b[0mindex\u001b[0m\u001b[0;34m)\u001b[0m\u001b[0;34m\u001b[0m\u001b[0;34m\u001b[0m\u001b[0m\n\u001b[1;32m   1068\u001b[0m \u001b[0;34m\u001b[0m\u001b[0m\n\u001b[0;32m-> 1069\u001b[0;31m         \u001b[0mdf\u001b[0m \u001b[0;34m=\u001b[0m \u001b[0mDataFrame\u001b[0m\u001b[0;34m(\u001b[0m\u001b[0mcol_dict\u001b[0m\u001b[0;34m,\u001b[0m \u001b[0mcolumns\u001b[0m\u001b[0;34m=\u001b[0m\u001b[0mcolumns\u001b[0m\u001b[0;34m,\u001b[0m \u001b[0mindex\u001b[0m\u001b[0;34m=\u001b[0m\u001b[0mindex\u001b[0m\u001b[0;34m)\u001b[0m\u001b[0;34m\u001b[0m\u001b[0;34m\u001b[0m\u001b[0m\n\u001b[0m\u001b[1;32m   1070\u001b[0m \u001b[0;34m\u001b[0m\u001b[0m\n\u001b[1;32m   1071\u001b[0m         \u001b[0mself\u001b[0m\u001b[0;34m.\u001b[0m\u001b[0m_currow\u001b[0m \u001b[0;34m+=\u001b[0m \u001b[0mnew_rows\u001b[0m\u001b[0;34m\u001b[0m\u001b[0;34m\u001b[0m\u001b[0m\n",
      "\u001b[0;32m/lab/corradin_biobank/FOR_AN/OVP/corradin_ovp_utils/.venv/lib/python3.8/site-packages/pandas/core/frame.py\u001b[0m in \u001b[0;36m__init__\u001b[0;34m(self, data, index, columns, dtype, copy)\u001b[0m\n\u001b[1;32m    527\u001b[0m \u001b[0;34m\u001b[0m\u001b[0m\n\u001b[1;32m    528\u001b[0m         \u001b[0;32melif\u001b[0m \u001b[0misinstance\u001b[0m\u001b[0;34m(\u001b[0m\u001b[0mdata\u001b[0m\u001b[0;34m,\u001b[0m \u001b[0mdict\u001b[0m\u001b[0;34m)\u001b[0m\u001b[0;34m:\u001b[0m\u001b[0;34m\u001b[0m\u001b[0;34m\u001b[0m\u001b[0m\n\u001b[0;32m--> 529\u001b[0;31m             \u001b[0mmgr\u001b[0m \u001b[0;34m=\u001b[0m \u001b[0minit_dict\u001b[0m\u001b[0;34m(\u001b[0m\u001b[0mdata\u001b[0m\u001b[0;34m,\u001b[0m \u001b[0mindex\u001b[0m\u001b[0;34m,\u001b[0m \u001b[0mcolumns\u001b[0m\u001b[0;34m,\u001b[0m \u001b[0mdtype\u001b[0m\u001b[0;34m=\u001b[0m\u001b[0mdtype\u001b[0m\u001b[0;34m)\u001b[0m\u001b[0;34m\u001b[0m\u001b[0;34m\u001b[0m\u001b[0m\n\u001b[0m\u001b[1;32m    530\u001b[0m         \u001b[0;32melif\u001b[0m \u001b[0misinstance\u001b[0m\u001b[0;34m(\u001b[0m\u001b[0mdata\u001b[0m\u001b[0;34m,\u001b[0m \u001b[0mma\u001b[0m\u001b[0;34m.\u001b[0m\u001b[0mMaskedArray\u001b[0m\u001b[0;34m)\u001b[0m\u001b[0;34m:\u001b[0m\u001b[0;34m\u001b[0m\u001b[0;34m\u001b[0m\u001b[0m\n\u001b[1;32m    531\u001b[0m             \u001b[0;32mimport\u001b[0m \u001b[0mnumpy\u001b[0m\u001b[0;34m.\u001b[0m\u001b[0mma\u001b[0m\u001b[0;34m.\u001b[0m\u001b[0mmrecords\u001b[0m \u001b[0;32mas\u001b[0m \u001b[0mmrecords\u001b[0m\u001b[0;34m\u001b[0m\u001b[0;34m\u001b[0m\u001b[0m\n",
      "\u001b[0;32m/lab/corradin_biobank/FOR_AN/OVP/corradin_ovp_utils/.venv/lib/python3.8/site-packages/pandas/core/internals/construction.py\u001b[0m in \u001b[0;36minit_dict\u001b[0;34m(data, index, columns, dtype)\u001b[0m\n\u001b[1;32m    285\u001b[0m             \u001b[0marr\u001b[0m \u001b[0;32mif\u001b[0m \u001b[0;32mnot\u001b[0m \u001b[0mis_datetime64tz_dtype\u001b[0m\u001b[0;34m(\u001b[0m\u001b[0marr\u001b[0m\u001b[0;34m)\u001b[0m \u001b[0;32melse\u001b[0m \u001b[0marr\u001b[0m\u001b[0;34m.\u001b[0m\u001b[0mcopy\u001b[0m\u001b[0;34m(\u001b[0m\u001b[0;34m)\u001b[0m \u001b[0;32mfor\u001b[0m \u001b[0marr\u001b[0m \u001b[0;32min\u001b[0m \u001b[0marrays\u001b[0m\u001b[0;34m\u001b[0m\u001b[0;34m\u001b[0m\u001b[0m\n\u001b[1;32m    286\u001b[0m         ]\n\u001b[0;32m--> 287\u001b[0;31m     \u001b[0;32mreturn\u001b[0m \u001b[0marrays_to_mgr\u001b[0m\u001b[0;34m(\u001b[0m\u001b[0marrays\u001b[0m\u001b[0;34m,\u001b[0m \u001b[0mdata_names\u001b[0m\u001b[0;34m,\u001b[0m \u001b[0mindex\u001b[0m\u001b[0;34m,\u001b[0m \u001b[0mcolumns\u001b[0m\u001b[0;34m,\u001b[0m \u001b[0mdtype\u001b[0m\u001b[0;34m=\u001b[0m\u001b[0mdtype\u001b[0m\u001b[0;34m)\u001b[0m\u001b[0;34m\u001b[0m\u001b[0;34m\u001b[0m\u001b[0m\n\u001b[0m\u001b[1;32m    288\u001b[0m \u001b[0;34m\u001b[0m\u001b[0m\n\u001b[1;32m    289\u001b[0m \u001b[0;34m\u001b[0m\u001b[0m\n",
      "\u001b[0;32m/lab/corradin_biobank/FOR_AN/OVP/corradin_ovp_utils/.venv/lib/python3.8/site-packages/pandas/core/internals/construction.py\u001b[0m in \u001b[0;36marrays_to_mgr\u001b[0;34m(arrays, arr_names, index, columns, dtype, verify_integrity)\u001b[0m\n\u001b[1;32m     93\u001b[0m     \u001b[0maxes\u001b[0m \u001b[0;34m=\u001b[0m \u001b[0;34m[\u001b[0m\u001b[0mcolumns\u001b[0m\u001b[0;34m,\u001b[0m \u001b[0mindex\u001b[0m\u001b[0;34m]\u001b[0m\u001b[0;34m\u001b[0m\u001b[0;34m\u001b[0m\u001b[0m\n\u001b[1;32m     94\u001b[0m \u001b[0;34m\u001b[0m\u001b[0m\n\u001b[0;32m---> 95\u001b[0;31m     \u001b[0;32mreturn\u001b[0m \u001b[0mcreate_block_manager_from_arrays\u001b[0m\u001b[0;34m(\u001b[0m\u001b[0marrays\u001b[0m\u001b[0;34m,\u001b[0m \u001b[0marr_names\u001b[0m\u001b[0;34m,\u001b[0m \u001b[0maxes\u001b[0m\u001b[0;34m)\u001b[0m\u001b[0;34m\u001b[0m\u001b[0;34m\u001b[0m\u001b[0m\n\u001b[0m\u001b[1;32m     96\u001b[0m \u001b[0;34m\u001b[0m\u001b[0m\n\u001b[1;32m     97\u001b[0m \u001b[0;34m\u001b[0m\u001b[0m\n",
      "\u001b[0;32m/lab/corradin_biobank/FOR_AN/OVP/corradin_ovp_utils/.venv/lib/python3.8/site-packages/pandas/core/internals/managers.py\u001b[0m in \u001b[0;36mcreate_block_manager_from_arrays\u001b[0;34m(arrays, names, axes)\u001b[0m\n\u001b[1;32m   1699\u001b[0m     \u001b[0marrays\u001b[0m \u001b[0;34m=\u001b[0m \u001b[0;34m[\u001b[0m\u001b[0mx\u001b[0m \u001b[0;32mif\u001b[0m \u001b[0;32mnot\u001b[0m \u001b[0misinstance\u001b[0m\u001b[0;34m(\u001b[0m\u001b[0mx\u001b[0m\u001b[0;34m,\u001b[0m \u001b[0mABCPandasArray\u001b[0m\u001b[0;34m)\u001b[0m \u001b[0;32melse\u001b[0m \u001b[0mx\u001b[0m\u001b[0;34m.\u001b[0m\u001b[0mto_numpy\u001b[0m\u001b[0;34m(\u001b[0m\u001b[0;34m)\u001b[0m \u001b[0;32mfor\u001b[0m \u001b[0mx\u001b[0m \u001b[0;32min\u001b[0m \u001b[0marrays\u001b[0m\u001b[0;34m]\u001b[0m\u001b[0;34m\u001b[0m\u001b[0;34m\u001b[0m\u001b[0m\n\u001b[1;32m   1700\u001b[0m     \u001b[0;32mtry\u001b[0m\u001b[0;34m:\u001b[0m\u001b[0;34m\u001b[0m\u001b[0;34m\u001b[0m\u001b[0m\n\u001b[0;32m-> 1701\u001b[0;31m         \u001b[0mblocks\u001b[0m \u001b[0;34m=\u001b[0m \u001b[0m_form_blocks\u001b[0m\u001b[0;34m(\u001b[0m\u001b[0marrays\u001b[0m\u001b[0;34m,\u001b[0m \u001b[0mnames\u001b[0m\u001b[0;34m,\u001b[0m \u001b[0maxes\u001b[0m\u001b[0;34m)\u001b[0m\u001b[0;34m\u001b[0m\u001b[0;34m\u001b[0m\u001b[0m\n\u001b[0m\u001b[1;32m   1702\u001b[0m         \u001b[0mmgr\u001b[0m \u001b[0;34m=\u001b[0m \u001b[0mBlockManager\u001b[0m\u001b[0;34m(\u001b[0m\u001b[0mblocks\u001b[0m\u001b[0;34m,\u001b[0m \u001b[0maxes\u001b[0m\u001b[0;34m)\u001b[0m\u001b[0;34m\u001b[0m\u001b[0;34m\u001b[0m\u001b[0m\n\u001b[1;32m   1703\u001b[0m         \u001b[0mmgr\u001b[0m\u001b[0;34m.\u001b[0m\u001b[0m_consolidate_inplace\u001b[0m\u001b[0;34m(\u001b[0m\u001b[0;34m)\u001b[0m\u001b[0;34m\u001b[0m\u001b[0;34m\u001b[0m\u001b[0m\n",
      "\u001b[0;32m/lab/corradin_biobank/FOR_AN/OVP/corradin_ovp_utils/.venv/lib/python3.8/site-packages/pandas/core/internals/managers.py\u001b[0m in \u001b[0;36m_form_blocks\u001b[0;34m(arrays, names, axes)\u001b[0m\n\u001b[1;32m   1757\u001b[0m     \u001b[0mblocks\u001b[0m\u001b[0;34m:\u001b[0m \u001b[0mList\u001b[0m\u001b[0;34m[\u001b[0m\u001b[0mBlock\u001b[0m\u001b[0;34m]\u001b[0m \u001b[0;34m=\u001b[0m \u001b[0;34m[\u001b[0m\u001b[0;34m]\u001b[0m\u001b[0;34m\u001b[0m\u001b[0;34m\u001b[0m\u001b[0m\n\u001b[1;32m   1758\u001b[0m     \u001b[0;32mif\u001b[0m \u001b[0mlen\u001b[0m\u001b[0;34m(\u001b[0m\u001b[0mitems_dict\u001b[0m\u001b[0;34m[\u001b[0m\u001b[0;34m\"FloatBlock\"\u001b[0m\u001b[0;34m]\u001b[0m\u001b[0;34m)\u001b[0m\u001b[0;34m:\u001b[0m\u001b[0;34m\u001b[0m\u001b[0;34m\u001b[0m\u001b[0m\n\u001b[0;32m-> 1759\u001b[0;31m         \u001b[0mfloat_blocks\u001b[0m \u001b[0;34m=\u001b[0m \u001b[0m_multi_blockify\u001b[0m\u001b[0;34m(\u001b[0m\u001b[0mitems_dict\u001b[0m\u001b[0;34m[\u001b[0m\u001b[0;34m\"FloatBlock\"\u001b[0m\u001b[0;34m]\u001b[0m\u001b[0;34m)\u001b[0m\u001b[0;34m\u001b[0m\u001b[0;34m\u001b[0m\u001b[0m\n\u001b[0m\u001b[1;32m   1760\u001b[0m         \u001b[0mblocks\u001b[0m\u001b[0;34m.\u001b[0m\u001b[0mextend\u001b[0m\u001b[0;34m(\u001b[0m\u001b[0mfloat_blocks\u001b[0m\u001b[0;34m)\u001b[0m\u001b[0;34m\u001b[0m\u001b[0;34m\u001b[0m\u001b[0m\n\u001b[1;32m   1761\u001b[0m \u001b[0;34m\u001b[0m\u001b[0m\n",
      "\u001b[0;32m/lab/corradin_biobank/FOR_AN/OVP/corradin_ovp_utils/.venv/lib/python3.8/site-packages/pandas/core/internals/managers.py\u001b[0m in \u001b[0;36m_multi_blockify\u001b[0;34m(tuples, dtype)\u001b[0m\n\u001b[1;32m   1850\u001b[0m     \u001b[0;32mfor\u001b[0m \u001b[0mdtype\u001b[0m\u001b[0;34m,\u001b[0m \u001b[0mtup_block\u001b[0m \u001b[0;32min\u001b[0m \u001b[0mgrouper\u001b[0m\u001b[0;34m:\u001b[0m\u001b[0;34m\u001b[0m\u001b[0;34m\u001b[0m\u001b[0m\n\u001b[1;32m   1851\u001b[0m \u001b[0;34m\u001b[0m\u001b[0m\n\u001b[0;32m-> 1852\u001b[0;31m         \u001b[0mvalues\u001b[0m\u001b[0;34m,\u001b[0m \u001b[0mplacement\u001b[0m \u001b[0;34m=\u001b[0m \u001b[0m_stack_arrays\u001b[0m\u001b[0;34m(\u001b[0m\u001b[0mlist\u001b[0m\u001b[0;34m(\u001b[0m\u001b[0mtup_block\u001b[0m\u001b[0;34m)\u001b[0m\u001b[0;34m,\u001b[0m \u001b[0mdtype\u001b[0m\u001b[0;34m)\u001b[0m\u001b[0;34m\u001b[0m\u001b[0;34m\u001b[0m\u001b[0m\n\u001b[0m\u001b[1;32m   1853\u001b[0m \u001b[0;34m\u001b[0m\u001b[0m\n\u001b[1;32m   1854\u001b[0m         \u001b[0mblock\u001b[0m \u001b[0;34m=\u001b[0m \u001b[0mmake_block\u001b[0m\u001b[0;34m(\u001b[0m\u001b[0mvalues\u001b[0m\u001b[0;34m,\u001b[0m \u001b[0mplacement\u001b[0m\u001b[0;34m=\u001b[0m\u001b[0mplacement\u001b[0m\u001b[0;34m,\u001b[0m \u001b[0mndim\u001b[0m\u001b[0;34m=\u001b[0m\u001b[0;36m2\u001b[0m\u001b[0;34m)\u001b[0m\u001b[0;34m\u001b[0m\u001b[0;34m\u001b[0m\u001b[0m\n",
      "\u001b[0;32m/lab/corradin_biobank/FOR_AN/OVP/corradin_ovp_utils/.venv/lib/python3.8/site-packages/pandas/core/internals/managers.py\u001b[0m in \u001b[0;36m_stack_arrays\u001b[0;34m(tuples, dtype)\u001b[0m\n\u001b[1;32m   1878\u001b[0m     \u001b[0mshape\u001b[0m \u001b[0;34m=\u001b[0m \u001b[0;34m(\u001b[0m\u001b[0mlen\u001b[0m\u001b[0;34m(\u001b[0m\u001b[0marrays\u001b[0m\u001b[0;34m)\u001b[0m\u001b[0;34m,\u001b[0m\u001b[0;34m)\u001b[0m \u001b[0;34m+\u001b[0m \u001b[0m_shape_compat\u001b[0m\u001b[0;34m(\u001b[0m\u001b[0mfirst\u001b[0m\u001b[0;34m)\u001b[0m\u001b[0;34m\u001b[0m\u001b[0;34m\u001b[0m\u001b[0m\n\u001b[1;32m   1879\u001b[0m \u001b[0;34m\u001b[0m\u001b[0m\n\u001b[0;32m-> 1880\u001b[0;31m     \u001b[0mstacked\u001b[0m \u001b[0;34m=\u001b[0m \u001b[0mnp\u001b[0m\u001b[0;34m.\u001b[0m\u001b[0mempty\u001b[0m\u001b[0;34m(\u001b[0m\u001b[0mshape\u001b[0m\u001b[0;34m,\u001b[0m \u001b[0mdtype\u001b[0m\u001b[0;34m=\u001b[0m\u001b[0mdtype\u001b[0m\u001b[0;34m)\u001b[0m\u001b[0;34m\u001b[0m\u001b[0;34m\u001b[0m\u001b[0m\n\u001b[0m\u001b[1;32m   1881\u001b[0m     \u001b[0;32mfor\u001b[0m \u001b[0mi\u001b[0m\u001b[0;34m,\u001b[0m \u001b[0marr\u001b[0m \u001b[0;32min\u001b[0m \u001b[0menumerate\u001b[0m\u001b[0;34m(\u001b[0m\u001b[0marrays\u001b[0m\u001b[0;34m)\u001b[0m\u001b[0;34m:\u001b[0m\u001b[0;34m\u001b[0m\u001b[0;34m\u001b[0m\u001b[0m\n\u001b[1;32m   1882\u001b[0m         \u001b[0mstacked\u001b[0m\u001b[0;34m[\u001b[0m\u001b[0mi\u001b[0m\u001b[0;34m]\u001b[0m \u001b[0;34m=\u001b[0m \u001b[0m_asarray_compat\u001b[0m\u001b[0;34m(\u001b[0m\u001b[0marr\u001b[0m\u001b[0;34m)\u001b[0m\u001b[0;34m\u001b[0m\u001b[0;34m\u001b[0m\u001b[0m\n",
      "\u001b[0;31mMemoryError\u001b[0m: Unable to allocate 2.18 GiB for an array with shape (29316, 10000) and data type float64"
     ]
    }
   ],
   "source": [
    "%%time\n",
    "\n",
    "test_generator = big_gen_file.load(chrom = 1, skiprows= list(set(rsid_list.index) - found_rsid_set), chunksize=10_000, index_col = big_gen_file.rsid_col)\n",
    "all_SNPs = []\n",
    "for test in tqdm(test_generator):\n",
    "    test = test.query(\"index in @test_result.rsid.unique()\")\n",
    "    geno_df = corradin_ovp_utils.datasets.genetic_file.get_possible_geno_combinations(test, big_gen_file.ref_col, big_gen_file.alt_col)\n",
    "    all_samples_one_SNP_partition_dfs = [triplicate_converter(sample.sample_df, genotype_df= geno_df, sample_id = sample.sample_id).T for sample in tqdm(test_func(test))]\n",
    "    all_SNPs.append(pd.concat(all_samples_one_SNP_partition_dfs))\n",
    "    \n",
    "    break"
   ]
  },
  {
   "cell_type": "code",
   "execution_count": 158,
   "metadata": {
    "execution": {
     "iopub.execute_input": "2021-05-25T14:46:05.713748Z",
     "iopub.status.busy": "2021-05-25T14:46:05.713215Z",
     "iopub.status.idle": "2021-05-25T14:46:05.722110Z",
     "shell.execute_reply": "2021-05-25T14:46:05.720721Z",
     "shell.execute_reply.started": "2021-05-25T14:46:05.713686Z"
    }
   },
   "outputs": [
    {
     "data": {
      "text/plain": [
       "205212"
      ]
     },
     "execution_count": 158,
     "metadata": {},
     "output_type": "execute_result"
    }
   ],
   "source": [
    "len(all_results)"
   ]
  },
  {
   "cell_type": "code",
   "execution_count": 34,
   "metadata": {
    "execution": {
     "iopub.execute_input": "2021-06-04T13:43:06.072086Z",
     "iopub.status.busy": "2021-06-04T13:43:06.071543Z",
     "iopub.status.idle": "2021-06-04T13:43:06.655669Z",
     "shell.execute_reply": "2021-06-04T13:43:06.654476Z",
     "shell.execute_reply.started": "2021-06-04T13:43:06.072021Z"
    }
   },
   "outputs": [
    {
     "data": {
      "text/html": [
       "<div>\n",
       "<style scoped>\n",
       "    .dataframe tbody tr th:only-of-type {\n",
       "        vertical-align: middle;\n",
       "    }\n",
       "\n",
       "    .dataframe tbody tr th {\n",
       "        vertical-align: top;\n",
       "    }\n",
       "\n",
       "    .dataframe thead th {\n",
       "        text-align: right;\n",
       "    }\n",
       "</style>\n",
       "<table border=\"1\" class=\"dataframe\">\n",
       "  <thead>\n",
       "    <tr style=\"text-align: right;\">\n",
       "      <th>rsid</th>\n",
       "      <th>rs145069787</th>\n",
       "      <th>rs12723953</th>\n",
       "      <th>rs76539137</th>\n",
       "      <th>rs72895585</th>\n",
       "      <th>rs183954195</th>\n",
       "      <th>rs185007189</th>\n",
       "      <th>rs7556636</th>\n",
       "      <th>rs145966388</th>\n",
       "      <th>rs79421110</th>\n",
       "      <th>rs74070515</th>\n",
       "      <th>...</th>\n",
       "      <th>rs77074766</th>\n",
       "      <th>rs78929403</th>\n",
       "      <th>rs3738168</th>\n",
       "      <th>rs3820344</th>\n",
       "      <th>rs185497873</th>\n",
       "      <th>rs150084180</th>\n",
       "      <th>rs72671670</th>\n",
       "      <th>rs144804148</th>\n",
       "      <th>rs78101999</th>\n",
       "      <th>rs79916150</th>\n",
       "    </tr>\n",
       "    <tr>\n",
       "      <th>sample_id</th>\n",
       "      <th></th>\n",
       "      <th></th>\n",
       "      <th></th>\n",
       "      <th></th>\n",
       "      <th></th>\n",
       "      <th></th>\n",
       "      <th></th>\n",
       "      <th></th>\n",
       "      <th></th>\n",
       "      <th></th>\n",
       "      <th></th>\n",
       "      <th></th>\n",
       "      <th></th>\n",
       "      <th></th>\n",
       "      <th></th>\n",
       "      <th></th>\n",
       "      <th></th>\n",
       "      <th></th>\n",
       "      <th></th>\n",
       "      <th></th>\n",
       "      <th></th>\n",
       "    </tr>\n",
       "  </thead>\n",
       "  <tbody>\n",
       "    <tr>\n",
       "      <th>sample1007</th>\n",
       "      <td>GG</td>\n",
       "      <td>CC</td>\n",
       "      <td>AA</td>\n",
       "      <td>CC</td>\n",
       "      <td>TT</td>\n",
       "      <td>AA</td>\n",
       "      <td>GG</td>\n",
       "      <td>AA</td>\n",
       "      <td>GG</td>\n",
       "      <td>CC</td>\n",
       "      <td>...</td>\n",
       "      <td>TT</td>\n",
       "      <td>TT</td>\n",
       "      <td>TT</td>\n",
       "      <td>TT</td>\n",
       "      <td>AA</td>\n",
       "      <td>TT</td>\n",
       "      <td>TT</td>\n",
       "      <td>TT</td>\n",
       "      <td>TT</td>\n",
       "      <td>CC</td>\n",
       "    </tr>\n",
       "  </tbody>\n",
       "</table>\n",
       "<p>1 rows × 9482 columns</p>\n",
       "</div>"
      ],
      "text/plain": [
       "rsid       rs145069787 rs12723953 rs76539137 rs72895585 rs183954195  \\\n",
       "sample_id                                                             \n",
       "sample1007          GG         CC         AA         CC          TT   \n",
       "\n",
       "rsid       rs185007189 rs7556636 rs145966388 rs79421110 rs74070515  ...  \\\n",
       "sample_id                                                           ...   \n",
       "sample1007          AA        GG          AA         GG         CC  ...   \n",
       "\n",
       "rsid       rs77074766 rs78929403 rs3738168 rs3820344 rs185497873 rs150084180  \\\n",
       "sample_id                                                                      \n",
       "sample1007         TT         TT        TT        TT          AA          TT   \n",
       "\n",
       "rsid       rs72671670 rs144804148 rs78101999 rs79916150  \n",
       "sample_id                                                \n",
       "sample1007         TT          TT         TT         CC  \n",
       "\n",
       "[1 rows x 9482 columns]"
      ]
     },
     "execution_count": 34,
     "metadata": {},
     "output_type": "execute_result"
    }
   ],
   "source": [
    "all_results[10].T"
   ]
  },
  {
   "cell_type": "code",
   "execution_count": 25,
   "metadata": {
    "execution": {
     "iopub.execute_input": "2021-06-04T13:40:56.625766Z",
     "iopub.status.busy": "2021-06-04T13:40:56.625287Z",
     "iopub.status.idle": "2021-06-04T13:41:10.613474Z",
     "shell.execute_reply": "2021-06-04T13:41:10.611952Z",
     "shell.execute_reply.started": "2021-06-04T13:40:56.625707Z"
    }
   },
   "outputs": [
    {
     "data": {
      "application/vnd.jupyter.widget-view+json": {
       "model_id": "a26894f1ddd145788203c2fb14be4ef2",
       "version_major": 2,
       "version_minor": 0
      },
      "text/plain": [
       "  0%|          | 0/107492 [00:00<?, ?it/s]"
      ]
     },
     "metadata": {},
     "output_type": "display_data"
    },
    {
     "ename": "KeyboardInterrupt",
     "evalue": "",
     "output_type": "error",
     "traceback": [
      "\u001b[0;31m---------------------------------------------------------------------------\u001b[0m",
      "\u001b[0;31mKeyboardInterrupt\u001b[0m                         Traceback (most recent call last)",
      "\u001b[0;32m<ipython-input-25-73c7aebfa580>\u001b[0m in \u001b[0;36m<module>\u001b[0;34m\u001b[0m\n\u001b[0;32m----> 1\u001b[0;31m \u001b[0mall_results\u001b[0m \u001b[0;34m=\u001b[0m \u001b[0;34m[\u001b[0m\u001b[0mresult\u001b[0m\u001b[0;34m.\u001b[0m\u001b[0mT\u001b[0m \u001b[0;32mfor\u001b[0m \u001b[0mresult\u001b[0m \u001b[0;32min\u001b[0m \u001b[0mtqdm\u001b[0m\u001b[0;34m(\u001b[0m\u001b[0mall_results\u001b[0m\u001b[0;34m)\u001b[0m\u001b[0;34m]\u001b[0m\u001b[0;34m\u001b[0m\u001b[0;34m\u001b[0m\u001b[0m\n\u001b[0m",
      "\u001b[0;32m<ipython-input-25-73c7aebfa580>\u001b[0m in \u001b[0;36m<listcomp>\u001b[0;34m(.0)\u001b[0m\n\u001b[0;32m----> 1\u001b[0;31m \u001b[0mall_results\u001b[0m \u001b[0;34m=\u001b[0m \u001b[0;34m[\u001b[0m\u001b[0mresult\u001b[0m\u001b[0;34m.\u001b[0m\u001b[0mT\u001b[0m \u001b[0;32mfor\u001b[0m \u001b[0mresult\u001b[0m \u001b[0;32min\u001b[0m \u001b[0mtqdm\u001b[0m\u001b[0;34m(\u001b[0m\u001b[0mall_results\u001b[0m\u001b[0;34m)\u001b[0m\u001b[0;34m]\u001b[0m\u001b[0;34m\u001b[0m\u001b[0;34m\u001b[0m\u001b[0m\n\u001b[0m",
      "\u001b[0;32m/lab/corradin_biobank/FOR_AN/OVP/corradin_ovp_utils/.venv/lib/python3.8/site-packages/pandas/core/frame.py\u001b[0m in \u001b[0;36mT\u001b[0;34m(self)\u001b[0m\n\u001b[1;32m   2927\u001b[0m     \u001b[0;34m@\u001b[0m\u001b[0mproperty\u001b[0m\u001b[0;34m\u001b[0m\u001b[0;34m\u001b[0m\u001b[0m\n\u001b[1;32m   2928\u001b[0m     \u001b[0;32mdef\u001b[0m \u001b[0mT\u001b[0m\u001b[0;34m(\u001b[0m\u001b[0mself\u001b[0m\u001b[0;34m)\u001b[0m \u001b[0;34m->\u001b[0m \u001b[0mDataFrame\u001b[0m\u001b[0;34m:\u001b[0m\u001b[0;34m\u001b[0m\u001b[0;34m\u001b[0m\u001b[0m\n\u001b[0;32m-> 2929\u001b[0;31m         \u001b[0;32mreturn\u001b[0m \u001b[0mself\u001b[0m\u001b[0;34m.\u001b[0m\u001b[0mtranspose\u001b[0m\u001b[0;34m(\u001b[0m\u001b[0;34m)\u001b[0m\u001b[0;34m\u001b[0m\u001b[0;34m\u001b[0m\u001b[0m\n\u001b[0m\u001b[1;32m   2930\u001b[0m \u001b[0;34m\u001b[0m\u001b[0m\n\u001b[1;32m   2931\u001b[0m     \u001b[0;31m# ----------------------------------------------------------------------\u001b[0m\u001b[0;34m\u001b[0m\u001b[0;34m\u001b[0m\u001b[0;34m\u001b[0m\u001b[0m\n",
      "\u001b[0;32m/lab/corradin_biobank/FOR_AN/OVP/corradin_ovp_utils/.venv/lib/python3.8/site-packages/pandas/core/frame.py\u001b[0m in \u001b[0;36mtranspose\u001b[0;34m(self, copy, *args)\u001b[0m\n\u001b[1;32m   2919\u001b[0m             \u001b[0;32mif\u001b[0m \u001b[0mcopy\u001b[0m\u001b[0;34m:\u001b[0m\u001b[0;34m\u001b[0m\u001b[0;34m\u001b[0m\u001b[0m\n\u001b[1;32m   2920\u001b[0m                 \u001b[0mnew_values\u001b[0m \u001b[0;34m=\u001b[0m \u001b[0mnew_values\u001b[0m\u001b[0;34m.\u001b[0m\u001b[0mcopy\u001b[0m\u001b[0;34m(\u001b[0m\u001b[0;34m)\u001b[0m\u001b[0;34m\u001b[0m\u001b[0;34m\u001b[0m\u001b[0m\n\u001b[0;32m-> 2921\u001b[0;31m             result = self._constructor(\n\u001b[0m\u001b[1;32m   2922\u001b[0m                 \u001b[0mnew_values\u001b[0m\u001b[0;34m,\u001b[0m \u001b[0mindex\u001b[0m\u001b[0;34m=\u001b[0m\u001b[0mself\u001b[0m\u001b[0;34m.\u001b[0m\u001b[0mcolumns\u001b[0m\u001b[0;34m,\u001b[0m \u001b[0mcolumns\u001b[0m\u001b[0;34m=\u001b[0m\u001b[0mself\u001b[0m\u001b[0;34m.\u001b[0m\u001b[0mindex\u001b[0m\u001b[0;34m\u001b[0m\u001b[0;34m\u001b[0m\u001b[0m\n\u001b[1;32m   2923\u001b[0m             )\n",
      "\u001b[0;32m/lab/corradin_biobank/FOR_AN/OVP/corradin_ovp_utils/.venv/lib/python3.8/site-packages/pandas/core/frame.py\u001b[0m in \u001b[0;36m__init__\u001b[0;34m(self, data, index, columns, dtype, copy)\u001b[0m\n\u001b[1;32m    556\u001b[0m                 \u001b[0mmgr\u001b[0m \u001b[0;34m=\u001b[0m \u001b[0minit_dict\u001b[0m\u001b[0;34m(\u001b[0m\u001b[0;34m{\u001b[0m\u001b[0mdata\u001b[0m\u001b[0;34m.\u001b[0m\u001b[0mname\u001b[0m\u001b[0;34m:\u001b[0m \u001b[0mdata\u001b[0m\u001b[0;34m}\u001b[0m\u001b[0;34m,\u001b[0m \u001b[0mindex\u001b[0m\u001b[0;34m,\u001b[0m \u001b[0mcolumns\u001b[0m\u001b[0;34m,\u001b[0m \u001b[0mdtype\u001b[0m\u001b[0;34m=\u001b[0m\u001b[0mdtype\u001b[0m\u001b[0;34m)\u001b[0m\u001b[0;34m\u001b[0m\u001b[0;34m\u001b[0m\u001b[0m\n\u001b[1;32m    557\u001b[0m             \u001b[0;32melse\u001b[0m\u001b[0;34m:\u001b[0m\u001b[0;34m\u001b[0m\u001b[0;34m\u001b[0m\u001b[0m\n\u001b[0;32m--> 558\u001b[0;31m                 \u001b[0mmgr\u001b[0m \u001b[0;34m=\u001b[0m \u001b[0minit_ndarray\u001b[0m\u001b[0;34m(\u001b[0m\u001b[0mdata\u001b[0m\u001b[0;34m,\u001b[0m \u001b[0mindex\u001b[0m\u001b[0;34m,\u001b[0m \u001b[0mcolumns\u001b[0m\u001b[0;34m,\u001b[0m \u001b[0mdtype\u001b[0m\u001b[0;34m=\u001b[0m\u001b[0mdtype\u001b[0m\u001b[0;34m,\u001b[0m \u001b[0mcopy\u001b[0m\u001b[0;34m=\u001b[0m\u001b[0mcopy\u001b[0m\u001b[0;34m)\u001b[0m\u001b[0;34m\u001b[0m\u001b[0;34m\u001b[0m\u001b[0m\n\u001b[0m\u001b[1;32m    559\u001b[0m \u001b[0;34m\u001b[0m\u001b[0m\n\u001b[1;32m    560\u001b[0m         \u001b[0;31m# For data is list-like, or Iterable (will consume into list)\u001b[0m\u001b[0;34m\u001b[0m\u001b[0;34m\u001b[0m\u001b[0;34m\u001b[0m\u001b[0m\n",
      "\u001b[0;32m/lab/corradin_biobank/FOR_AN/OVP/corradin_ovp_utils/.venv/lib/python3.8/site-packages/pandas/core/internals/construction.py\u001b[0m in \u001b[0;36minit_ndarray\u001b[0;34m(values, index, columns, dtype, copy)\u001b[0m\n\u001b[1;32m    225\u001b[0m \u001b[0;34m\u001b[0m\u001b[0m\n\u001b[1;32m    226\u001b[0m             \u001b[0;31m# TODO: What about re-joining object columns?\u001b[0m\u001b[0;34m\u001b[0m\u001b[0;34m\u001b[0m\u001b[0;34m\u001b[0m\u001b[0m\n\u001b[0;32m--> 227\u001b[0;31m             block_values = [\n\u001b[0m\u001b[1;32m    228\u001b[0m                 \u001b[0mmake_block\u001b[0m\u001b[0;34m(\u001b[0m\u001b[0mdvals_list\u001b[0m\u001b[0;34m[\u001b[0m\u001b[0mn\u001b[0m\u001b[0;34m]\u001b[0m\u001b[0;34m,\u001b[0m \u001b[0mplacement\u001b[0m\u001b[0;34m=\u001b[0m\u001b[0;34m[\u001b[0m\u001b[0mn\u001b[0m\u001b[0;34m]\u001b[0m\u001b[0;34m,\u001b[0m \u001b[0mndim\u001b[0m\u001b[0;34m=\u001b[0m\u001b[0;36m2\u001b[0m\u001b[0;34m)\u001b[0m\u001b[0;34m\u001b[0m\u001b[0;34m\u001b[0m\u001b[0m\n\u001b[1;32m    229\u001b[0m                 \u001b[0;32mfor\u001b[0m \u001b[0mn\u001b[0m \u001b[0;32min\u001b[0m \u001b[0mrange\u001b[0m\u001b[0;34m(\u001b[0m\u001b[0mlen\u001b[0m\u001b[0;34m(\u001b[0m\u001b[0mdvals_list\u001b[0m\u001b[0;34m)\u001b[0m\u001b[0;34m)\u001b[0m\u001b[0;34m\u001b[0m\u001b[0;34m\u001b[0m\u001b[0m\n",
      "\u001b[0;32m/lab/corradin_biobank/FOR_AN/OVP/corradin_ovp_utils/.venv/lib/python3.8/site-packages/pandas/core/internals/construction.py\u001b[0m in \u001b[0;36m<listcomp>\u001b[0;34m(.0)\u001b[0m\n\u001b[1;32m    226\u001b[0m             \u001b[0;31m# TODO: What about re-joining object columns?\u001b[0m\u001b[0;34m\u001b[0m\u001b[0;34m\u001b[0m\u001b[0;34m\u001b[0m\u001b[0m\n\u001b[1;32m    227\u001b[0m             block_values = [\n\u001b[0;32m--> 228\u001b[0;31m                 \u001b[0mmake_block\u001b[0m\u001b[0;34m(\u001b[0m\u001b[0mdvals_list\u001b[0m\u001b[0;34m[\u001b[0m\u001b[0mn\u001b[0m\u001b[0;34m]\u001b[0m\u001b[0;34m,\u001b[0m \u001b[0mplacement\u001b[0m\u001b[0;34m=\u001b[0m\u001b[0;34m[\u001b[0m\u001b[0mn\u001b[0m\u001b[0;34m]\u001b[0m\u001b[0;34m,\u001b[0m \u001b[0mndim\u001b[0m\u001b[0;34m=\u001b[0m\u001b[0;36m2\u001b[0m\u001b[0;34m)\u001b[0m\u001b[0;34m\u001b[0m\u001b[0;34m\u001b[0m\u001b[0m\n\u001b[0m\u001b[1;32m    229\u001b[0m                 \u001b[0;32mfor\u001b[0m \u001b[0mn\u001b[0m \u001b[0;32min\u001b[0m \u001b[0mrange\u001b[0m\u001b[0;34m(\u001b[0m\u001b[0mlen\u001b[0m\u001b[0;34m(\u001b[0m\u001b[0mdvals_list\u001b[0m\u001b[0;34m)\u001b[0m\u001b[0;34m)\u001b[0m\u001b[0;34m\u001b[0m\u001b[0;34m\u001b[0m\u001b[0m\n\u001b[1;32m    230\u001b[0m             ]\n",
      "\u001b[0;32m/lab/corradin_biobank/FOR_AN/OVP/corradin_ovp_utils/.venv/lib/python3.8/site-packages/pandas/core/internals/blocks.py\u001b[0m in \u001b[0;36mmake_block\u001b[0;34m(values, placement, klass, ndim, dtype)\u001b[0m\n\u001b[1;32m   2730\u001b[0m         \u001b[0mvalues\u001b[0m \u001b[0;34m=\u001b[0m \u001b[0mDatetimeArray\u001b[0m\u001b[0;34m.\u001b[0m\u001b[0m_simple_new\u001b[0m\u001b[0;34m(\u001b[0m\u001b[0mvalues\u001b[0m\u001b[0;34m,\u001b[0m \u001b[0mdtype\u001b[0m\u001b[0;34m=\u001b[0m\u001b[0mdtype\u001b[0m\u001b[0;34m)\u001b[0m\u001b[0;34m\u001b[0m\u001b[0;34m\u001b[0m\u001b[0m\n\u001b[1;32m   2731\u001b[0m \u001b[0;34m\u001b[0m\u001b[0m\n\u001b[0;32m-> 2732\u001b[0;31m     \u001b[0;32mreturn\u001b[0m \u001b[0mklass\u001b[0m\u001b[0;34m(\u001b[0m\u001b[0mvalues\u001b[0m\u001b[0;34m,\u001b[0m \u001b[0mndim\u001b[0m\u001b[0;34m=\u001b[0m\u001b[0mndim\u001b[0m\u001b[0;34m,\u001b[0m \u001b[0mplacement\u001b[0m\u001b[0;34m=\u001b[0m\u001b[0mplacement\u001b[0m\u001b[0;34m)\u001b[0m\u001b[0;34m\u001b[0m\u001b[0;34m\u001b[0m\u001b[0m\n\u001b[0m\u001b[1;32m   2733\u001b[0m \u001b[0;34m\u001b[0m\u001b[0m\n\u001b[1;32m   2734\u001b[0m \u001b[0;34m\u001b[0m\u001b[0m\n",
      "\u001b[0;32m/lab/corradin_biobank/FOR_AN/OVP/corradin_ovp_utils/.venv/lib/python3.8/site-packages/pandas/core/internals/blocks.py\u001b[0m in \u001b[0;36m__init__\u001b[0;34m(self, values, placement, ndim)\u001b[0m\n\u001b[1;32m    136\u001b[0m         \u001b[0;31m# TODO(EA2D): ndim will be unnecessary with 2D EAs\u001b[0m\u001b[0;34m\u001b[0m\u001b[0;34m\u001b[0m\u001b[0;34m\u001b[0m\u001b[0m\n\u001b[1;32m    137\u001b[0m         \u001b[0mself\u001b[0m\u001b[0;34m.\u001b[0m\u001b[0mndim\u001b[0m \u001b[0;34m=\u001b[0m \u001b[0mself\u001b[0m\u001b[0;34m.\u001b[0m\u001b[0m_check_ndim\u001b[0m\u001b[0;34m(\u001b[0m\u001b[0mvalues\u001b[0m\u001b[0;34m,\u001b[0m \u001b[0mndim\u001b[0m\u001b[0;34m)\u001b[0m\u001b[0;34m\u001b[0m\u001b[0;34m\u001b[0m\u001b[0m\n\u001b[0;32m--> 138\u001b[0;31m         \u001b[0mself\u001b[0m\u001b[0;34m.\u001b[0m\u001b[0mmgr_locs\u001b[0m \u001b[0;34m=\u001b[0m \u001b[0mplacement\u001b[0m\u001b[0;34m\u001b[0m\u001b[0;34m\u001b[0m\u001b[0m\n\u001b[0m\u001b[1;32m    139\u001b[0m         \u001b[0mself\u001b[0m\u001b[0;34m.\u001b[0m\u001b[0mvalues\u001b[0m \u001b[0;34m=\u001b[0m \u001b[0mself\u001b[0m\u001b[0;34m.\u001b[0m\u001b[0m_maybe_coerce_values\u001b[0m\u001b[0;34m(\u001b[0m\u001b[0mvalues\u001b[0m\u001b[0;34m)\u001b[0m\u001b[0;34m\u001b[0m\u001b[0;34m\u001b[0m\u001b[0m\n\u001b[1;32m    140\u001b[0m \u001b[0;34m\u001b[0m\u001b[0m\n",
      "\u001b[0;32m/lab/corradin_biobank/FOR_AN/OVP/corradin_ovp_utils/.venv/lib/python3.8/site-packages/pandas/core/internals/blocks.py\u001b[0m in \u001b[0;36mmgr_locs\u001b[0;34m(self, new_mgr_locs)\u001b[0m\n\u001b[1;32m    270\u001b[0m     \u001b[0;32mdef\u001b[0m \u001b[0mmgr_locs\u001b[0m\u001b[0;34m(\u001b[0m\u001b[0mself\u001b[0m\u001b[0;34m,\u001b[0m \u001b[0mnew_mgr_locs\u001b[0m\u001b[0;34m)\u001b[0m\u001b[0;34m:\u001b[0m\u001b[0;34m\u001b[0m\u001b[0;34m\u001b[0m\u001b[0m\n\u001b[1;32m    271\u001b[0m         \u001b[0;32mif\u001b[0m \u001b[0;32mnot\u001b[0m \u001b[0misinstance\u001b[0m\u001b[0;34m(\u001b[0m\u001b[0mnew_mgr_locs\u001b[0m\u001b[0;34m,\u001b[0m \u001b[0mlibinternals\u001b[0m\u001b[0;34m.\u001b[0m\u001b[0mBlockPlacement\u001b[0m\u001b[0;34m)\u001b[0m\u001b[0;34m:\u001b[0m\u001b[0;34m\u001b[0m\u001b[0;34m\u001b[0m\u001b[0m\n\u001b[0;32m--> 272\u001b[0;31m             \u001b[0mnew_mgr_locs\u001b[0m \u001b[0;34m=\u001b[0m \u001b[0mlibinternals\u001b[0m\u001b[0;34m.\u001b[0m\u001b[0mBlockPlacement\u001b[0m\u001b[0;34m(\u001b[0m\u001b[0mnew_mgr_locs\u001b[0m\u001b[0;34m)\u001b[0m\u001b[0;34m\u001b[0m\u001b[0;34m\u001b[0m\u001b[0m\n\u001b[0m\u001b[1;32m    273\u001b[0m \u001b[0;34m\u001b[0m\u001b[0m\n\u001b[1;32m    274\u001b[0m         \u001b[0mself\u001b[0m\u001b[0;34m.\u001b[0m\u001b[0m_mgr_locs\u001b[0m \u001b[0;34m=\u001b[0m \u001b[0mnew_mgr_locs\u001b[0m\u001b[0;34m\u001b[0m\u001b[0;34m\u001b[0m\u001b[0m\n",
      "\u001b[0;32mpandas/_libs/internals.pyx\u001b[0m in \u001b[0;36mpandas._libs.internals.BlockPlacement.__init__\u001b[0;34m()\u001b[0m\n",
      "\u001b[0;32m/lab/corradin_biobank/FOR_AN/OVP/corradin_ovp_utils/.venv/lib/python3.8/site-packages/numpy/core/_asarray.py\u001b[0m in \u001b[0;36mrequire\u001b[0;34m(a, dtype, requirements)\u001b[0m\n\u001b[1;32m    314\u001b[0m         \u001b[0mrequirements\u001b[0m\u001b[0;34m.\u001b[0m\u001b[0mremove\u001b[0m\u001b[0;34m(\u001b[0m\u001b[0;34m'C'\u001b[0m\u001b[0;34m)\u001b[0m\u001b[0;34m\u001b[0m\u001b[0;34m\u001b[0m\u001b[0m\n\u001b[1;32m    315\u001b[0m \u001b[0;34m\u001b[0m\u001b[0m\n\u001b[0;32m--> 316\u001b[0;31m     \u001b[0marr\u001b[0m \u001b[0;34m=\u001b[0m \u001b[0marray\u001b[0m\u001b[0;34m(\u001b[0m\u001b[0ma\u001b[0m\u001b[0;34m,\u001b[0m \u001b[0mdtype\u001b[0m\u001b[0;34m=\u001b[0m\u001b[0mdtype\u001b[0m\u001b[0;34m,\u001b[0m \u001b[0morder\u001b[0m\u001b[0;34m=\u001b[0m\u001b[0morder\u001b[0m\u001b[0;34m,\u001b[0m \u001b[0mcopy\u001b[0m\u001b[0;34m=\u001b[0m\u001b[0;32mFalse\u001b[0m\u001b[0;34m,\u001b[0m \u001b[0msubok\u001b[0m\u001b[0;34m=\u001b[0m\u001b[0msubok\u001b[0m\u001b[0;34m)\u001b[0m\u001b[0;34m\u001b[0m\u001b[0;34m\u001b[0m\u001b[0m\n\u001b[0m\u001b[1;32m    317\u001b[0m \u001b[0;34m\u001b[0m\u001b[0m\n\u001b[1;32m    318\u001b[0m     \u001b[0;32mfor\u001b[0m \u001b[0mprop\u001b[0m \u001b[0;32min\u001b[0m \u001b[0mrequirements\u001b[0m\u001b[0;34m:\u001b[0m\u001b[0;34m\u001b[0m\u001b[0;34m\u001b[0m\u001b[0m\n",
      "\u001b[0;31mKeyboardInterrupt\u001b[0m: "
     ]
    }
   ],
   "source": [
    "all_results = [result.T for result in tqdm(all_results)]"
   ]
  },
  {
   "cell_type": "code",
   "execution_count": 22,
   "metadata": {
    "execution": {
     "iopub.execute_input": "2021-06-02T19:50:58.478325Z",
     "iopub.status.busy": "2021-06-02T19:50:58.477840Z",
     "iopub.status.idle": "2021-06-02T20:02:04.772447Z",
     "shell.execute_reply": "2021-06-02T20:02:04.770189Z",
     "shell.execute_reply.started": "2021-06-02T19:50:58.478264Z"
    }
   },
   "outputs": [
    {
     "ename": "MemoryError",
     "evalue": "Unable to allocate 7.28 GiB for an array with shape (1, 977200000) and data type object",
     "output_type": "error",
     "traceback": [
      "\u001b[0;31m---------------------------------------------------------------------------\u001b[0m",
      "\u001b[0;31mMemoryError\u001b[0m                               Traceback (most recent call last)",
      "\u001b[0;32m<ipython-input-22-04d20fc0c96b>\u001b[0m in \u001b[0;36m<module>\u001b[0;34m\u001b[0m\n\u001b[0;32m----> 1\u001b[0;31m \u001b[0mpd\u001b[0m\u001b[0;34m.\u001b[0m\u001b[0mconcat\u001b[0m\u001b[0;34m(\u001b[0m\u001b[0mall_results\u001b[0m\u001b[0;34m)\u001b[0m\u001b[0;34m\u001b[0m\u001b[0;34m\u001b[0m\u001b[0m\n\u001b[0m",
      "\u001b[0;32m/lab/corradin_biobank/FOR_AN/OVP/corradin_ovp_utils/.venv/lib/python3.8/site-packages/pandas/core/reshape/concat.py\u001b[0m in \u001b[0;36mconcat\u001b[0;34m(objs, axis, join, ignore_index, keys, levels, names, verify_integrity, sort, copy)\u001b[0m\n\u001b[1;32m    296\u001b[0m     )\n\u001b[1;32m    297\u001b[0m \u001b[0;34m\u001b[0m\u001b[0m\n\u001b[0;32m--> 298\u001b[0;31m     \u001b[0;32mreturn\u001b[0m \u001b[0mop\u001b[0m\u001b[0;34m.\u001b[0m\u001b[0mget_result\u001b[0m\u001b[0;34m(\u001b[0m\u001b[0;34m)\u001b[0m\u001b[0;34m\u001b[0m\u001b[0;34m\u001b[0m\u001b[0m\n\u001b[0m\u001b[1;32m    299\u001b[0m \u001b[0;34m\u001b[0m\u001b[0m\n\u001b[1;32m    300\u001b[0m \u001b[0;34m\u001b[0m\u001b[0m\n",
      "\u001b[0;32m/lab/corradin_biobank/FOR_AN/OVP/corradin_ovp_utils/.venv/lib/python3.8/site-packages/pandas/core/reshape/concat.py\u001b[0m in \u001b[0;36mget_result\u001b[0;34m(self)\u001b[0m\n\u001b[1;32m    518\u001b[0m                 \u001b[0mmgrs_indexers\u001b[0m\u001b[0;34m.\u001b[0m\u001b[0mappend\u001b[0m\u001b[0;34m(\u001b[0m\u001b[0;34m(\u001b[0m\u001b[0mobj\u001b[0m\u001b[0;34m.\u001b[0m\u001b[0m_mgr\u001b[0m\u001b[0;34m,\u001b[0m \u001b[0mindexers\u001b[0m\u001b[0;34m)\u001b[0m\u001b[0;34m)\u001b[0m\u001b[0;34m\u001b[0m\u001b[0;34m\u001b[0m\u001b[0m\n\u001b[1;32m    519\u001b[0m \u001b[0;34m\u001b[0m\u001b[0m\n\u001b[0;32m--> 520\u001b[0;31m             new_data = concatenate_block_managers(\n\u001b[0m\u001b[1;32m    521\u001b[0m                 \u001b[0mmgrs_indexers\u001b[0m\u001b[0;34m,\u001b[0m \u001b[0mself\u001b[0m\u001b[0;34m.\u001b[0m\u001b[0mnew_axes\u001b[0m\u001b[0;34m,\u001b[0m \u001b[0mconcat_axis\u001b[0m\u001b[0;34m=\u001b[0m\u001b[0mself\u001b[0m\u001b[0;34m.\u001b[0m\u001b[0mbm_axis\u001b[0m\u001b[0;34m,\u001b[0m \u001b[0mcopy\u001b[0m\u001b[0;34m=\u001b[0m\u001b[0mself\u001b[0m\u001b[0;34m.\u001b[0m\u001b[0mcopy\u001b[0m\u001b[0;34m\u001b[0m\u001b[0;34m\u001b[0m\u001b[0m\n\u001b[1;32m    522\u001b[0m             )\n",
      "\u001b[0;32m/lab/corradin_biobank/FOR_AN/OVP/corradin_ovp_utils/.venv/lib/python3.8/site-packages/pandas/core/internals/concat.py\u001b[0m in \u001b[0;36mconcatenate_block_managers\u001b[0;34m(mgrs_indexers, axes, concat_axis, copy)\u001b[0m\n\u001b[1;32m     81\u001b[0m         \u001b[0;32melse\u001b[0m\u001b[0;34m:\u001b[0m\u001b[0;34m\u001b[0m\u001b[0;34m\u001b[0m\u001b[0m\n\u001b[1;32m     82\u001b[0m             b = make_block(\n\u001b[0;32m---> 83\u001b[0;31m                 \u001b[0m_concatenate_join_units\u001b[0m\u001b[0;34m(\u001b[0m\u001b[0mjoin_units\u001b[0m\u001b[0;34m,\u001b[0m \u001b[0mconcat_axis\u001b[0m\u001b[0;34m,\u001b[0m \u001b[0mcopy\u001b[0m\u001b[0;34m=\u001b[0m\u001b[0mcopy\u001b[0m\u001b[0;34m)\u001b[0m\u001b[0;34m,\u001b[0m\u001b[0;34m\u001b[0m\u001b[0;34m\u001b[0m\u001b[0m\n\u001b[0m\u001b[1;32m     84\u001b[0m                 \u001b[0mplacement\u001b[0m\u001b[0;34m=\u001b[0m\u001b[0mplacement\u001b[0m\u001b[0;34m,\u001b[0m\u001b[0;34m\u001b[0m\u001b[0;34m\u001b[0m\u001b[0m\n\u001b[1;32m     85\u001b[0m                 \u001b[0mndim\u001b[0m\u001b[0;34m=\u001b[0m\u001b[0mlen\u001b[0m\u001b[0;34m(\u001b[0m\u001b[0maxes\u001b[0m\u001b[0;34m)\u001b[0m\u001b[0;34m,\u001b[0m\u001b[0;34m\u001b[0m\u001b[0;34m\u001b[0m\u001b[0m\n",
      "\u001b[0;32m/lab/corradin_biobank/FOR_AN/OVP/corradin_ovp_utils/.venv/lib/python3.8/site-packages/pandas/core/internals/concat.py\u001b[0m in \u001b[0;36m_concatenate_join_units\u001b[0;34m(join_units, concat_axis, copy)\u001b[0m\n\u001b[1;32m    341\u001b[0m             \u001b[0mconcat_values\u001b[0m \u001b[0;34m=\u001b[0m \u001b[0mnp\u001b[0m\u001b[0;34m.\u001b[0m\u001b[0matleast_2d\u001b[0m\u001b[0;34m(\u001b[0m\u001b[0mconcat_values\u001b[0m\u001b[0;34m)\u001b[0m\u001b[0;34m\u001b[0m\u001b[0;34m\u001b[0m\u001b[0m\n\u001b[1;32m    342\u001b[0m     \u001b[0;32melse\u001b[0m\u001b[0;34m:\u001b[0m\u001b[0;34m\u001b[0m\u001b[0;34m\u001b[0m\u001b[0m\n\u001b[0;32m--> 343\u001b[0;31m         \u001b[0mconcat_values\u001b[0m \u001b[0;34m=\u001b[0m \u001b[0mconcat_compat\u001b[0m\u001b[0;34m(\u001b[0m\u001b[0mto_concat\u001b[0m\u001b[0;34m,\u001b[0m \u001b[0maxis\u001b[0m\u001b[0;34m=\u001b[0m\u001b[0mconcat_axis\u001b[0m\u001b[0;34m)\u001b[0m\u001b[0;34m\u001b[0m\u001b[0;34m\u001b[0m\u001b[0m\n\u001b[0m\u001b[1;32m    344\u001b[0m \u001b[0;34m\u001b[0m\u001b[0m\n\u001b[1;32m    345\u001b[0m     \u001b[0;32mreturn\u001b[0m \u001b[0mconcat_values\u001b[0m\u001b[0;34m\u001b[0m\u001b[0;34m\u001b[0m\u001b[0m\n",
      "\u001b[0;32m/lab/corradin_biobank/FOR_AN/OVP/corradin_ovp_utils/.venv/lib/python3.8/site-packages/pandas/core/dtypes/concat.py\u001b[0m in \u001b[0;36mconcat_compat\u001b[0;34m(to_concat, axis)\u001b[0m\n\u001b[1;32m    169\u001b[0m                 \u001b[0mto_concat\u001b[0m \u001b[0;34m=\u001b[0m \u001b[0;34m[\u001b[0m\u001b[0mx\u001b[0m\u001b[0;34m.\u001b[0m\u001b[0mastype\u001b[0m\u001b[0;34m(\u001b[0m\u001b[0;34m\"object\"\u001b[0m\u001b[0;34m)\u001b[0m \u001b[0;32mfor\u001b[0m \u001b[0mx\u001b[0m \u001b[0;32min\u001b[0m \u001b[0mto_concat\u001b[0m\u001b[0;34m]\u001b[0m\u001b[0;34m\u001b[0m\u001b[0;34m\u001b[0m\u001b[0m\n\u001b[1;32m    170\u001b[0m \u001b[0;34m\u001b[0m\u001b[0m\n\u001b[0;32m--> 171\u001b[0;31m     \u001b[0;32mreturn\u001b[0m \u001b[0mnp\u001b[0m\u001b[0;34m.\u001b[0m\u001b[0mconcatenate\u001b[0m\u001b[0;34m(\u001b[0m\u001b[0mto_concat\u001b[0m\u001b[0;34m,\u001b[0m \u001b[0maxis\u001b[0m\u001b[0;34m=\u001b[0m\u001b[0maxis\u001b[0m\u001b[0;34m)\u001b[0m\u001b[0;34m\u001b[0m\u001b[0;34m\u001b[0m\u001b[0m\n\u001b[0m\u001b[1;32m    172\u001b[0m \u001b[0;34m\u001b[0m\u001b[0m\n\u001b[1;32m    173\u001b[0m \u001b[0;34m\u001b[0m\u001b[0m\n",
      "\u001b[0;32m<__array_function__ internals>\u001b[0m in \u001b[0;36mconcatenate\u001b[0;34m(*args, **kwargs)\u001b[0m\n",
      "\u001b[0;31mMemoryError\u001b[0m: Unable to allocate 7.28 GiB for an array with shape (1, 977200000) and data type object"
     ]
    }
   ],
   "source": [
    "pd.concat(all_results)"
   ]
  },
  {
   "cell_type": "code",
   "execution_count": 127,
   "metadata": {
    "execution": {
     "iopub.execute_input": "2021-05-24T20:50:20.684239Z",
     "iopub.status.busy": "2021-05-24T20:50:20.683827Z",
     "iopub.status.idle": "2021-05-24T21:19:19.172209Z",
     "shell.execute_reply": "2021-05-24T21:19:19.171249Z",
     "shell.execute_reply.started": "2021-05-24T20:50:20.684191Z"
    }
   },
   "outputs": [
    {
     "data": {
      "application/vnd.jupyter.widget-view+json": {
       "model_id": "224843059f24423c83acf1984550d42c",
       "version_major": 2,
       "version_minor": 0
      },
      "text/plain": [
       "0it [00:00, ?it/s]"
      ]
     },
     "metadata": {},
     "output_type": "display_data"
    },
    {
     "ename": "KeyboardInterrupt",
     "evalue": "",
     "output_type": "error",
     "traceback": [
      "\u001b[0;31m---------------------------------------------------------------------------\u001b[0m",
      "\u001b[0;31mKeyboardInterrupt\u001b[0m                         Traceback (most recent call last)",
      "\u001b[0;32m/lab/corradin_biobank/FOR_AN/OVP/corradin_ovp_utils/.venv/lib/python3.8/site-packages/pandas/io/parsers.py\u001b[0m in \u001b[0;36mread\u001b[0;34m(self, nrows)\u001b[0m\n\u001b[1;32m   2060\u001b[0m         \u001b[0;32mtry\u001b[0m\u001b[0;34m:\u001b[0m\u001b[0;34m\u001b[0m\u001b[0;34m\u001b[0m\u001b[0m\n\u001b[0;32m-> 2061\u001b[0;31m             \u001b[0mdata\u001b[0m \u001b[0;34m=\u001b[0m \u001b[0mself\u001b[0m\u001b[0;34m.\u001b[0m\u001b[0m_reader\u001b[0m\u001b[0;34m.\u001b[0m\u001b[0mread\u001b[0m\u001b[0;34m(\u001b[0m\u001b[0mnrows\u001b[0m\u001b[0;34m)\u001b[0m\u001b[0;34m\u001b[0m\u001b[0;34m\u001b[0m\u001b[0m\n\u001b[0m\u001b[1;32m   2062\u001b[0m         \u001b[0;32mexcept\u001b[0m \u001b[0mStopIteration\u001b[0m\u001b[0;34m:\u001b[0m\u001b[0;34m\u001b[0m\u001b[0;34m\u001b[0m\u001b[0m\n",
      "\u001b[0;32mpandas/_libs/parsers.pyx\u001b[0m in \u001b[0;36mpandas._libs.parsers.TextReader.read\u001b[0;34m()\u001b[0m\n",
      "\u001b[0;32mpandas/_libs/parsers.pyx\u001b[0m in \u001b[0;36mpandas._libs.parsers.TextReader._read_low_memory\u001b[0;34m()\u001b[0m\n",
      "\u001b[0;32mpandas/_libs/parsers.pyx\u001b[0m in \u001b[0;36mpandas._libs.parsers._concatenate_chunks\u001b[0;34m()\u001b[0m\n",
      "\u001b[0;32m/lab/corradin_biobank/FOR_AN/OVP/corradin_ovp_utils/.venv/lib/python3.8/site-packages/pandas/core/dtypes/common.py\u001b[0m in \u001b[0;36mis_categorical_dtype\u001b[0;34m(arr_or_dtype)\u001b[0m\n\u001b[1;32m    536\u001b[0m \u001b[0;34m\u001b[0m\u001b[0m\n\u001b[0;32m--> 537\u001b[0;31m \u001b[0;32mdef\u001b[0m \u001b[0mis_categorical_dtype\u001b[0m\u001b[0;34m(\u001b[0m\u001b[0marr_or_dtype\u001b[0m\u001b[0;34m)\u001b[0m \u001b[0;34m->\u001b[0m \u001b[0mbool\u001b[0m\u001b[0;34m:\u001b[0m\u001b[0;34m\u001b[0m\u001b[0;34m\u001b[0m\u001b[0m\n\u001b[0m\u001b[1;32m    538\u001b[0m     \"\"\"\n",
      "\u001b[0;31mKeyboardInterrupt\u001b[0m: ",
      "\nDuring handling of the above exception, another exception occurred:\n",
      "\u001b[0;31mKeyboardInterrupt\u001b[0m                         Traceback (most recent call last)",
      "\u001b[0;32m<ipython-input-127-845b7f2679b9>\u001b[0m in \u001b[0;36m<module>\u001b[0;34m\u001b[0m\n\u001b[0;32m----> 1\u001b[0;31m \u001b[0mall_results\u001b[0m \u001b[0;34m=\u001b[0m \u001b[0;34m[\u001b[0m\u001b[0mtriplicate_converter\u001b[0m\u001b[0;34m(\u001b[0m\u001b[0msample\u001b[0m\u001b[0;34m.\u001b[0m\u001b[0msample_df\u001b[0m\u001b[0;34m,\u001b[0m \u001b[0mgenotype_df\u001b[0m\u001b[0;34m=\u001b[0m \u001b[0mgeno_df\u001b[0m\u001b[0;34m,\u001b[0m \u001b[0msample_id\u001b[0m \u001b[0;34m=\u001b[0m \u001b[0msample\u001b[0m\u001b[0;34m.\u001b[0m\u001b[0msample_id\u001b[0m\u001b[0;34m)\u001b[0m \u001b[0;32mfor\u001b[0m \u001b[0msample\u001b[0m \u001b[0;32min\u001b[0m \u001b[0mtqdm\u001b[0m\u001b[0;34m(\u001b[0m\u001b[0mtest_func\u001b[0m\u001b[0;34m(\u001b[0m\u001b[0mtest\u001b[0m\u001b[0;34m)\u001b[0m\u001b[0;34m)\u001b[0m \u001b[0;32mfor\u001b[0m \u001b[0mtest\u001b[0m \u001b[0;32min\u001b[0m \u001b[0mtest_generator\u001b[0m\u001b[0;34m]\u001b[0m\u001b[0;34m\u001b[0m\u001b[0;34m\u001b[0m\u001b[0m\n\u001b[0m",
      "\u001b[0;32m<ipython-input-127-845b7f2679b9>\u001b[0m in \u001b[0;36m<listcomp>\u001b[0;34m(.0)\u001b[0m\n\u001b[0;32m----> 1\u001b[0;31m \u001b[0mall_results\u001b[0m \u001b[0;34m=\u001b[0m \u001b[0;34m[\u001b[0m\u001b[0mtriplicate_converter\u001b[0m\u001b[0;34m(\u001b[0m\u001b[0msample\u001b[0m\u001b[0;34m.\u001b[0m\u001b[0msample_df\u001b[0m\u001b[0;34m,\u001b[0m \u001b[0mgenotype_df\u001b[0m\u001b[0;34m=\u001b[0m \u001b[0mgeno_df\u001b[0m\u001b[0;34m,\u001b[0m \u001b[0msample_id\u001b[0m \u001b[0;34m=\u001b[0m \u001b[0msample\u001b[0m\u001b[0;34m.\u001b[0m\u001b[0msample_id\u001b[0m\u001b[0;34m)\u001b[0m \u001b[0;32mfor\u001b[0m \u001b[0msample\u001b[0m \u001b[0;32min\u001b[0m \u001b[0mtqdm\u001b[0m\u001b[0;34m(\u001b[0m\u001b[0mtest_func\u001b[0m\u001b[0;34m(\u001b[0m\u001b[0mtest\u001b[0m\u001b[0;34m)\u001b[0m\u001b[0;34m)\u001b[0m \u001b[0;32mfor\u001b[0m \u001b[0mtest\u001b[0m \u001b[0;32min\u001b[0m \u001b[0mtest_generator\u001b[0m\u001b[0;34m]\u001b[0m\u001b[0;34m\u001b[0m\u001b[0;34m\u001b[0m\u001b[0m\n\u001b[0m",
      "\u001b[0;32m/lab/corradin_biobank/FOR_AN/OVP/corradin_ovp_utils/.venv/lib/python3.8/site-packages/pandas/io/parsers.py\u001b[0m in \u001b[0;36m__next__\u001b[0;34m(self)\u001b[0m\n\u001b[1;32m   1032\u001b[0m     \u001b[0;32mdef\u001b[0m \u001b[0m__next__\u001b[0m\u001b[0;34m(\u001b[0m\u001b[0mself\u001b[0m\u001b[0;34m)\u001b[0m\u001b[0;34m:\u001b[0m\u001b[0;34m\u001b[0m\u001b[0;34m\u001b[0m\u001b[0m\n\u001b[1;32m   1033\u001b[0m         \u001b[0;32mtry\u001b[0m\u001b[0;34m:\u001b[0m\u001b[0;34m\u001b[0m\u001b[0;34m\u001b[0m\u001b[0m\n\u001b[0;32m-> 1034\u001b[0;31m             \u001b[0;32mreturn\u001b[0m \u001b[0mself\u001b[0m\u001b[0;34m.\u001b[0m\u001b[0mget_chunk\u001b[0m\u001b[0;34m(\u001b[0m\u001b[0;34m)\u001b[0m\u001b[0;34m\u001b[0m\u001b[0;34m\u001b[0m\u001b[0m\n\u001b[0m\u001b[1;32m   1035\u001b[0m         \u001b[0;32mexcept\u001b[0m \u001b[0mStopIteration\u001b[0m\u001b[0;34m:\u001b[0m\u001b[0;34m\u001b[0m\u001b[0;34m\u001b[0m\u001b[0m\n\u001b[1;32m   1036\u001b[0m             \u001b[0mself\u001b[0m\u001b[0;34m.\u001b[0m\u001b[0mclose\u001b[0m\u001b[0;34m(\u001b[0m\u001b[0;34m)\u001b[0m\u001b[0;34m\u001b[0m\u001b[0;34m\u001b[0m\u001b[0m\n",
      "\u001b[0;32m/lab/corradin_biobank/FOR_AN/OVP/corradin_ovp_utils/.venv/lib/python3.8/site-packages/pandas/io/parsers.py\u001b[0m in \u001b[0;36mget_chunk\u001b[0;34m(self, size)\u001b[0m\n\u001b[1;32m   1082\u001b[0m                 \u001b[0;32mraise\u001b[0m \u001b[0mStopIteration\u001b[0m\u001b[0;34m\u001b[0m\u001b[0;34m\u001b[0m\u001b[0m\n\u001b[1;32m   1083\u001b[0m             \u001b[0msize\u001b[0m \u001b[0;34m=\u001b[0m \u001b[0mmin\u001b[0m\u001b[0;34m(\u001b[0m\u001b[0msize\u001b[0m\u001b[0;34m,\u001b[0m \u001b[0mself\u001b[0m\u001b[0;34m.\u001b[0m\u001b[0mnrows\u001b[0m \u001b[0;34m-\u001b[0m \u001b[0mself\u001b[0m\u001b[0;34m.\u001b[0m\u001b[0m_currow\u001b[0m\u001b[0;34m)\u001b[0m\u001b[0;34m\u001b[0m\u001b[0;34m\u001b[0m\u001b[0m\n\u001b[0;32m-> 1084\u001b[0;31m         \u001b[0;32mreturn\u001b[0m \u001b[0mself\u001b[0m\u001b[0;34m.\u001b[0m\u001b[0mread\u001b[0m\u001b[0;34m(\u001b[0m\u001b[0mnrows\u001b[0m\u001b[0;34m=\u001b[0m\u001b[0msize\u001b[0m\u001b[0;34m)\u001b[0m\u001b[0;34m\u001b[0m\u001b[0;34m\u001b[0m\u001b[0m\n\u001b[0m\u001b[1;32m   1085\u001b[0m \u001b[0;34m\u001b[0m\u001b[0m\n\u001b[1;32m   1086\u001b[0m     \u001b[0;32mdef\u001b[0m \u001b[0m__enter__\u001b[0m\u001b[0;34m(\u001b[0m\u001b[0mself\u001b[0m\u001b[0;34m)\u001b[0m\u001b[0;34m:\u001b[0m\u001b[0;34m\u001b[0m\u001b[0;34m\u001b[0m\u001b[0m\n",
      "\u001b[0;32m/lab/corradin_biobank/FOR_AN/OVP/corradin_ovp_utils/.venv/lib/python3.8/site-packages/pandas/io/parsers.py\u001b[0m in \u001b[0;36mread\u001b[0;34m(self, nrows)\u001b[0m\n\u001b[1;32m   1055\u001b[0m     \u001b[0;32mdef\u001b[0m \u001b[0mread\u001b[0m\u001b[0;34m(\u001b[0m\u001b[0mself\u001b[0m\u001b[0;34m,\u001b[0m \u001b[0mnrows\u001b[0m\u001b[0;34m=\u001b[0m\u001b[0;32mNone\u001b[0m\u001b[0;34m)\u001b[0m\u001b[0;34m:\u001b[0m\u001b[0;34m\u001b[0m\u001b[0;34m\u001b[0m\u001b[0m\n\u001b[1;32m   1056\u001b[0m         \u001b[0mnrows\u001b[0m \u001b[0;34m=\u001b[0m \u001b[0mvalidate_integer\u001b[0m\u001b[0;34m(\u001b[0m\u001b[0;34m\"nrows\"\u001b[0m\u001b[0;34m,\u001b[0m \u001b[0mnrows\u001b[0m\u001b[0;34m)\u001b[0m\u001b[0;34m\u001b[0m\u001b[0;34m\u001b[0m\u001b[0m\n\u001b[0;32m-> 1057\u001b[0;31m         \u001b[0mindex\u001b[0m\u001b[0;34m,\u001b[0m \u001b[0mcolumns\u001b[0m\u001b[0;34m,\u001b[0m \u001b[0mcol_dict\u001b[0m \u001b[0;34m=\u001b[0m \u001b[0mself\u001b[0m\u001b[0;34m.\u001b[0m\u001b[0m_engine\u001b[0m\u001b[0;34m.\u001b[0m\u001b[0mread\u001b[0m\u001b[0;34m(\u001b[0m\u001b[0mnrows\u001b[0m\u001b[0;34m)\u001b[0m\u001b[0;34m\u001b[0m\u001b[0;34m\u001b[0m\u001b[0m\n\u001b[0m\u001b[1;32m   1058\u001b[0m \u001b[0;34m\u001b[0m\u001b[0m\n\u001b[1;32m   1059\u001b[0m         \u001b[0;32mif\u001b[0m \u001b[0mindex\u001b[0m \u001b[0;32mis\u001b[0m \u001b[0;32mNone\u001b[0m\u001b[0;34m:\u001b[0m\u001b[0;34m\u001b[0m\u001b[0;34m\u001b[0m\u001b[0m\n",
      "\u001b[0;32m/lab/corradin_biobank/FOR_AN/OVP/corradin_ovp_utils/.venv/lib/python3.8/site-packages/pandas/io/parsers.py\u001b[0m in \u001b[0;36mread\u001b[0;34m(self, nrows)\u001b[0m\n\u001b[1;32m   2059\u001b[0m     \u001b[0;32mdef\u001b[0m \u001b[0mread\u001b[0m\u001b[0;34m(\u001b[0m\u001b[0mself\u001b[0m\u001b[0;34m,\u001b[0m \u001b[0mnrows\u001b[0m\u001b[0;34m=\u001b[0m\u001b[0;32mNone\u001b[0m\u001b[0;34m)\u001b[0m\u001b[0;34m:\u001b[0m\u001b[0;34m\u001b[0m\u001b[0;34m\u001b[0m\u001b[0m\n\u001b[1;32m   2060\u001b[0m         \u001b[0;32mtry\u001b[0m\u001b[0;34m:\u001b[0m\u001b[0;34m\u001b[0m\u001b[0;34m\u001b[0m\u001b[0m\n\u001b[0;32m-> 2061\u001b[0;31m             \u001b[0mdata\u001b[0m \u001b[0;34m=\u001b[0m \u001b[0mself\u001b[0m\u001b[0;34m.\u001b[0m\u001b[0m_reader\u001b[0m\u001b[0;34m.\u001b[0m\u001b[0mread\u001b[0m\u001b[0;34m(\u001b[0m\u001b[0mnrows\u001b[0m\u001b[0;34m)\u001b[0m\u001b[0;34m\u001b[0m\u001b[0;34m\u001b[0m\u001b[0m\n\u001b[0m\u001b[1;32m   2062\u001b[0m         \u001b[0;32mexcept\u001b[0m \u001b[0mStopIteration\u001b[0m\u001b[0;34m:\u001b[0m\u001b[0;34m\u001b[0m\u001b[0;34m\u001b[0m\u001b[0m\n\u001b[1;32m   2063\u001b[0m             \u001b[0;32mif\u001b[0m \u001b[0mself\u001b[0m\u001b[0;34m.\u001b[0m\u001b[0m_first_chunk\u001b[0m\u001b[0;34m:\u001b[0m\u001b[0;34m\u001b[0m\u001b[0;34m\u001b[0m\u001b[0m\n",
      "\u001b[0;31mKeyboardInterrupt\u001b[0m: "
     ]
    }
   ],
   "source": [
    " [triplicate_converter(sample.sample_df, genotype_df= geno_df, sample_id = sample.sample_id) for sample in tqdm(test_func(test)) ]"
   ]
  },
  {
   "cell_type": "code",
   "execution_count": null,
   "metadata": {},
   "outputs": [],
   "source": [
    "test"
   ]
  },
  {
   "cell_type": "code",
   "execution_count": 90,
   "metadata": {
    "execution": {
     "iopub.execute_input": "2021-05-11T18:16:08.858604Z",
     "iopub.status.busy": "2021-05-11T18:16:08.858181Z",
     "iopub.status.idle": "2021-05-11T18:16:12.174516Z",
     "shell.execute_reply": "2021-05-11T18:16:12.173258Z",
     "shell.execute_reply.started": "2021-05-11T18:16:08.858558Z"
    }
   },
   "outputs": [],
   "source": [
    "test_generator = big_gen_file.load(chrom = 1, skiprows= lambda x : x not in found_rsid_set, chunksize = 10000, index_col = big_gen_file.rsid_col)"
   ]
  },
  {
   "cell_type": "code",
   "execution_count": 75,
   "metadata": {
    "execution": {
     "iopub.execute_input": "2021-05-24T18:36:47.680836Z",
     "iopub.status.busy": "2021-05-24T18:36:47.680269Z",
     "iopub.status.idle": "2021-05-24T18:36:50.542641Z",
     "shell.execute_reply": "2021-05-24T18:36:50.541710Z",
     "shell.execute_reply.started": "2021-05-24T18:36:47.680767Z"
    }
   },
   "outputs": [
    {
     "ename": "ValueError",
     "evalue": "Sample is not large enough to include at least one row of data. Please increase the number of bytes in `sample` in the call to `read_csv`/`read_table`",
     "output_type": "error",
     "traceback": [
      "\u001b[0;31m---------------------------------------------------------------------------\u001b[0m",
      "\u001b[0;31mValueError\u001b[0m                                Traceback (most recent call last)",
      "\u001b[0;32m<ipython-input-75-a067f0479787>\u001b[0m in \u001b[0;36m<module>\u001b[0;34m\u001b[0m\n\u001b[0;32m----> 1\u001b[0;31m \u001b[0mtest_ddf\u001b[0m \u001b[0;34m=\u001b[0m \u001b[0mdd\u001b[0m\u001b[0;34m.\u001b[0m\u001b[0mread_csv\u001b[0m\u001b[0;34m(\u001b[0m\u001b[0;34m'/lab/corradin_dbgap/WTCCC2_all_controls_MS_UC/IMPUTE2_ALL/ALL_MS_impute2_chr22.gen'\u001b[0m\u001b[0;34m,\u001b[0m \u001b[0;34m**\u001b[0m\u001b[0mbig_gen_file\u001b[0m\u001b[0;34m.\u001b[0m\u001b[0mload_args\u001b[0m\u001b[0;34m,\u001b[0m \u001b[0massume_missing\u001b[0m \u001b[0;34m=\u001b[0m \u001b[0;32mTrue\u001b[0m\u001b[0;34m,\u001b[0m \u001b[0mskiprows\u001b[0m\u001b[0;34m=\u001b[0m \u001b[0mlist\u001b[0m\u001b[0;34m(\u001b[0m\u001b[0mset\u001b[0m\u001b[0;34m(\u001b[0m\u001b[0mrsid_list\u001b[0m\u001b[0;34m.\u001b[0m\u001b[0mindex\u001b[0m\u001b[0;34m)\u001b[0m \u001b[0;34m-\u001b[0m \u001b[0mfound_rsid_set\u001b[0m\u001b[0;34m)\u001b[0m\u001b[0;34m,\u001b[0m \u001b[0msample\u001b[0m\u001b[0;34m=\u001b[0m\u001b[0;36m4_000_000\u001b[0m\u001b[0;34m)\u001b[0m\u001b[0;34m\u001b[0m\u001b[0;34m\u001b[0m\u001b[0m\n\u001b[0m\u001b[1;32m      2\u001b[0m \u001b[0mtest_ddf\u001b[0m\u001b[0;34m\u001b[0m\u001b[0;34m\u001b[0m\u001b[0m\n",
      "\u001b[0;32m/lab/corradin_biobank/FOR_AN/OVP/corradin_ovp_utils/.venv/lib/python3.8/site-packages/dask/dataframe/io/csv.py\u001b[0m in \u001b[0;36mread\u001b[0;34m(urlpath, blocksize, lineterminator, compression, sample, enforce, assume_missing, storage_options, include_path_column, **kwargs)\u001b[0m\n\u001b[1;32m    691\u001b[0m         \u001b[0;34m**\u001b[0m\u001b[0mkwargs\u001b[0m\u001b[0;34m,\u001b[0m\u001b[0;34m\u001b[0m\u001b[0;34m\u001b[0m\u001b[0m\n\u001b[1;32m    692\u001b[0m     ):\n\u001b[0;32m--> 693\u001b[0;31m         return read_pandas(\n\u001b[0m\u001b[1;32m    694\u001b[0m             \u001b[0mreader\u001b[0m\u001b[0;34m,\u001b[0m\u001b[0;34m\u001b[0m\u001b[0;34m\u001b[0m\u001b[0m\n\u001b[1;32m    695\u001b[0m             \u001b[0murlpath\u001b[0m\u001b[0;34m,\u001b[0m\u001b[0;34m\u001b[0m\u001b[0;34m\u001b[0m\u001b[0m\n",
      "\u001b[0;32m/lab/corradin_biobank/FOR_AN/OVP/corradin_ovp_utils/.venv/lib/python3.8/site-packages/dask/dataframe/io/csv.py\u001b[0m in \u001b[0;36mread_pandas\u001b[0;34m(reader, urlpath, blocksize, lineterminator, compression, sample, enforce, assume_missing, storage_options, include_path_column, **kwargs)\u001b[0m\n\u001b[1;32m    561\u001b[0m \u001b[0;34m\u001b[0m\u001b[0m\n\u001b[1;32m    562\u001b[0m     \u001b[0;32mif\u001b[0m \u001b[0msample\u001b[0m \u001b[0;32mis\u001b[0m \u001b[0;32mnot\u001b[0m \u001b[0;32mFalse\u001b[0m \u001b[0;32mand\u001b[0m \u001b[0mnparts\u001b[0m \u001b[0;34m<\u001b[0m \u001b[0mlastskiprow\u001b[0m \u001b[0;34m+\u001b[0m \u001b[0mneed\u001b[0m \u001b[0;32mand\u001b[0m \u001b[0mlen\u001b[0m\u001b[0;34m(\u001b[0m\u001b[0mb_sample\u001b[0m\u001b[0;34m)\u001b[0m \u001b[0;34m>=\u001b[0m \u001b[0msample\u001b[0m\u001b[0;34m:\u001b[0m\u001b[0;34m\u001b[0m\u001b[0;34m\u001b[0m\u001b[0m\n\u001b[0;32m--> 563\u001b[0;31m         raise ValueError(\n\u001b[0m\u001b[1;32m    564\u001b[0m             \u001b[0;34m\"Sample is not large enough to include at least one \"\u001b[0m\u001b[0;34m\u001b[0m\u001b[0;34m\u001b[0m\u001b[0m\n\u001b[1;32m    565\u001b[0m             \u001b[0;34m\"row of data. Please increase the number of bytes \"\u001b[0m\u001b[0;34m\u001b[0m\u001b[0;34m\u001b[0m\u001b[0m\n",
      "\u001b[0;31mValueError\u001b[0m: Sample is not large enough to include at least one row of data. Please increase the number of bytes in `sample` in the call to `read_csv`/`read_table`"
     ]
    }
   ],
   "source": [
    "test_ddf = dd.read_csv('/lab/corradin_dbgap/WTCCC2_all_controls_MS_UC/IMPUTE2_ALL/ALL_MS_impute2_chr22.gen', **big_gen_file.load_args, assume_missing = True, skiprows= list(set(rsid_list.index) - found_rsid_set), sample=4_000_000)\n",
    "test_ddf"
   ]
  },
  {
   "cell_type": "code",
   "execution_count": 72,
   "metadata": {
    "execution": {
     "iopub.execute_input": "2021-05-11T17:52:44.791529Z",
     "iopub.status.busy": "2021-05-11T17:52:44.791146Z",
     "iopub.status.idle": "2021-05-11T17:52:44.795950Z",
     "shell.execute_reply": "2021-05-11T17:52:44.794907Z",
     "shell.execute_reply.started": "2021-05-11T17:52:44.791486Z"
    }
   },
   "outputs": [],
   "source": [
    "# all_dfs = []\n",
    "# for df in tqdm(test_generator):\n",
    "#     if df.index.item() in found_rsid_set:\n",
    "#         all_dfs.append(df)"
   ]
  },
  {
   "cell_type": "code",
   "execution_count": 91,
   "metadata": {
    "execution": {
     "iopub.execute_input": "2021-05-11T18:16:13.593346Z",
     "iopub.status.busy": "2021-05-11T18:16:13.592937Z",
     "iopub.status.idle": "2021-05-11T18:21:11.331844Z",
     "shell.execute_reply": "2021-05-11T18:21:11.330826Z",
     "shell.execute_reply.started": "2021-05-11T18:16:13.593297Z"
    }
   },
   "outputs": [
    {
     "data": {
      "application/vnd.jupyter.widget-view+json": {
       "model_id": "2ba354321b324286842a75d3912aa13b",
       "version_major": 2,
       "version_minor": 0
      },
      "text/plain": [
       "0it [00:00, ?it/s]"
      ]
     },
     "metadata": {},
     "output_type": "display_data"
    },
    {
     "name": "stdout",
     "output_type": "stream",
     "text": [
      "CPU times: user 4min 49s, sys: 8.56 s, total: 4min 57s\n",
      "Wall time: 4min 57s\n"
     ]
    }
   ],
   "source": [
    "%%time\n",
    "all_dfs = []\n",
    "for df in tqdm(test_generator):\n",
    "    all_dfs.append(df)\n",
    "    break"
   ]
  },
  {
   "cell_type": "code",
   "execution_count": 86,
   "metadata": {
    "execution": {
     "iopub.execute_input": "2021-05-11T18:15:13.109499Z",
     "iopub.status.busy": "2021-05-11T18:15:13.108797Z",
     "iopub.status.idle": "2021-05-11T18:15:13.205401Z",
     "shell.execute_reply": "2021-05-11T18:15:13.204269Z",
     "shell.execute_reply.started": "2021-05-11T18:15:13.109445Z"
    }
   },
   "outputs": [
    {
     "data": {
      "text/html": [
       "<div>\n",
       "<style scoped>\n",
       "    .dataframe tbody tr th:only-of-type {\n",
       "        vertical-align: middle;\n",
       "    }\n",
       "\n",
       "    .dataframe tbody tr th {\n",
       "        vertical-align: top;\n",
       "    }\n",
       "\n",
       "    .dataframe thead th {\n",
       "        text-align: right;\n",
       "    }\n",
       "</style>\n",
       "<table border=\"1\" class=\"dataframe\">\n",
       "  <thead>\n",
       "    <tr style=\"text-align: right;\">\n",
       "      <th></th>\n",
       "      <th>dashes</th>\n",
       "      <th>position</th>\n",
       "      <th>ref</th>\n",
       "      <th>alt</th>\n",
       "      <th>sample1_1</th>\n",
       "      <th>sample1_2</th>\n",
       "      <th>sample1_3</th>\n",
       "      <th>sample2_1</th>\n",
       "      <th>sample2_2</th>\n",
       "      <th>sample2_3</th>\n",
       "      <th>...</th>\n",
       "      <th>sample9769_3</th>\n",
       "      <th>sample9770_1</th>\n",
       "      <th>sample9770_2</th>\n",
       "      <th>sample9770_3</th>\n",
       "      <th>sample9771_1</th>\n",
       "      <th>sample9771_2</th>\n",
       "      <th>sample9771_3</th>\n",
       "      <th>sample9772_1</th>\n",
       "      <th>sample9772_2</th>\n",
       "      <th>sample9772_3</th>\n",
       "    </tr>\n",
       "    <tr>\n",
       "      <th>rsid</th>\n",
       "      <th></th>\n",
       "      <th></th>\n",
       "      <th></th>\n",
       "      <th></th>\n",
       "      <th></th>\n",
       "      <th></th>\n",
       "      <th></th>\n",
       "      <th></th>\n",
       "      <th></th>\n",
       "      <th></th>\n",
       "      <th></th>\n",
       "      <th></th>\n",
       "      <th></th>\n",
       "      <th></th>\n",
       "      <th></th>\n",
       "      <th></th>\n",
       "      <th></th>\n",
       "      <th></th>\n",
       "      <th></th>\n",
       "      <th></th>\n",
       "      <th></th>\n",
       "    </tr>\n",
       "  </thead>\n",
       "  <tbody>\n",
       "    <tr>\n",
       "      <th>rs140559483</th>\n",
       "      <td>---</td>\n",
       "      <td>45001033</td>\n",
       "      <td>G</td>\n",
       "      <td>A</td>\n",
       "      <td>1.0</td>\n",
       "      <td>0.0</td>\n",
       "      <td>0.0</td>\n",
       "      <td>1.0</td>\n",
       "      <td>0.0</td>\n",
       "      <td>0</td>\n",
       "      <td>...</td>\n",
       "      <td>0.0</td>\n",
       "      <td>1.000</td>\n",
       "      <td>0.000</td>\n",
       "      <td>0.0</td>\n",
       "      <td>1.0</td>\n",
       "      <td>0.0</td>\n",
       "      <td>0.0</td>\n",
       "      <td>1.0</td>\n",
       "      <td>0.0</td>\n",
       "      <td>0.0</td>\n",
       "    </tr>\n",
       "    <tr>\n",
       "      <th>rs111430943</th>\n",
       "      <td>---</td>\n",
       "      <td>45001475</td>\n",
       "      <td>C</td>\n",
       "      <td>T</td>\n",
       "      <td>1.0</td>\n",
       "      <td>0.0</td>\n",
       "      <td>0.0</td>\n",
       "      <td>1.0</td>\n",
       "      <td>0.0</td>\n",
       "      <td>0</td>\n",
       "      <td>...</td>\n",
       "      <td>0.0</td>\n",
       "      <td>1.000</td>\n",
       "      <td>0.000</td>\n",
       "      <td>0.0</td>\n",
       "      <td>1.0</td>\n",
       "      <td>0.0</td>\n",
       "      <td>0.0</td>\n",
       "      <td>1.0</td>\n",
       "      <td>0.0</td>\n",
       "      <td>0.0</td>\n",
       "    </tr>\n",
       "    <tr>\n",
       "      <th>rs150368261</th>\n",
       "      <td>---</td>\n",
       "      <td>45002259</td>\n",
       "      <td>C</td>\n",
       "      <td>T</td>\n",
       "      <td>1.0</td>\n",
       "      <td>0.0</td>\n",
       "      <td>0.0</td>\n",
       "      <td>1.0</td>\n",
       "      <td>0.0</td>\n",
       "      <td>0</td>\n",
       "      <td>...</td>\n",
       "      <td>0.0</td>\n",
       "      <td>1.000</td>\n",
       "      <td>0.000</td>\n",
       "      <td>0.0</td>\n",
       "      <td>1.0</td>\n",
       "      <td>0.0</td>\n",
       "      <td>0.0</td>\n",
       "      <td>1.0</td>\n",
       "      <td>0.0</td>\n",
       "      <td>0.0</td>\n",
       "    </tr>\n",
       "    <tr>\n",
       "      <th>rs147355609</th>\n",
       "      <td>---</td>\n",
       "      <td>45004037</td>\n",
       "      <td>G</td>\n",
       "      <td>A</td>\n",
       "      <td>1.0</td>\n",
       "      <td>0.0</td>\n",
       "      <td>0.0</td>\n",
       "      <td>1.0</td>\n",
       "      <td>0.0</td>\n",
       "      <td>0</td>\n",
       "      <td>...</td>\n",
       "      <td>0.0</td>\n",
       "      <td>0.513</td>\n",
       "      <td>0.487</td>\n",
       "      <td>0.0</td>\n",
       "      <td>1.0</td>\n",
       "      <td>0.0</td>\n",
       "      <td>0.0</td>\n",
       "      <td>1.0</td>\n",
       "      <td>0.0</td>\n",
       "      <td>0.0</td>\n",
       "    </tr>\n",
       "    <tr>\n",
       "      <th>rs75947718</th>\n",
       "      <td>---</td>\n",
       "      <td>45005535</td>\n",
       "      <td>A</td>\n",
       "      <td>G</td>\n",
       "      <td>1.0</td>\n",
       "      <td>0.0</td>\n",
       "      <td>0.0</td>\n",
       "      <td>1.0</td>\n",
       "      <td>0.0</td>\n",
       "      <td>0</td>\n",
       "      <td>...</td>\n",
       "      <td>0.0</td>\n",
       "      <td>1.000</td>\n",
       "      <td>0.000</td>\n",
       "      <td>0.0</td>\n",
       "      <td>1.0</td>\n",
       "      <td>0.0</td>\n",
       "      <td>0.0</td>\n",
       "      <td>1.0</td>\n",
       "      <td>0.0</td>\n",
       "      <td>0.0</td>\n",
       "    </tr>\n",
       "    <tr>\n",
       "      <th>...</th>\n",
       "      <td>...</td>\n",
       "      <td>...</td>\n",
       "      <td>...</td>\n",
       "      <td>...</td>\n",
       "      <td>...</td>\n",
       "      <td>...</td>\n",
       "      <td>...</td>\n",
       "      <td>...</td>\n",
       "      <td>...</td>\n",
       "      <td>...</td>\n",
       "      <td>...</td>\n",
       "      <td>...</td>\n",
       "      <td>...</td>\n",
       "      <td>...</td>\n",
       "      <td>...</td>\n",
       "      <td>...</td>\n",
       "      <td>...</td>\n",
       "      <td>...</td>\n",
       "      <td>...</td>\n",
       "      <td>...</td>\n",
       "      <td>...</td>\n",
       "    </tr>\n",
       "    <tr>\n",
       "      <th>rs116544829</th>\n",
       "      <td>---</td>\n",
       "      <td>46358224</td>\n",
       "      <td>T</td>\n",
       "      <td>A</td>\n",
       "      <td>1.0</td>\n",
       "      <td>0.0</td>\n",
       "      <td>0.0</td>\n",
       "      <td>1.0</td>\n",
       "      <td>0.0</td>\n",
       "      <td>0</td>\n",
       "      <td>...</td>\n",
       "      <td>0.0</td>\n",
       "      <td>1.000</td>\n",
       "      <td>0.000</td>\n",
       "      <td>0.0</td>\n",
       "      <td>1.0</td>\n",
       "      <td>0.0</td>\n",
       "      <td>0.0</td>\n",
       "      <td>1.0</td>\n",
       "      <td>0.0</td>\n",
       "      <td>0.0</td>\n",
       "    </tr>\n",
       "    <tr>\n",
       "      <th>rs116020280</th>\n",
       "      <td>---</td>\n",
       "      <td>46358272</td>\n",
       "      <td>C</td>\n",
       "      <td>T</td>\n",
       "      <td>1.0</td>\n",
       "      <td>0.0</td>\n",
       "      <td>0.0</td>\n",
       "      <td>1.0</td>\n",
       "      <td>0.0</td>\n",
       "      <td>0</td>\n",
       "      <td>...</td>\n",
       "      <td>0.0</td>\n",
       "      <td>1.000</td>\n",
       "      <td>0.000</td>\n",
       "      <td>0.0</td>\n",
       "      <td>1.0</td>\n",
       "      <td>0.0</td>\n",
       "      <td>0.0</td>\n",
       "      <td>1.0</td>\n",
       "      <td>0.0</td>\n",
       "      <td>0.0</td>\n",
       "    </tr>\n",
       "    <tr>\n",
       "      <th>rs191993184</th>\n",
       "      <td>---</td>\n",
       "      <td>46358810</td>\n",
       "      <td>G</td>\n",
       "      <td>C</td>\n",
       "      <td>1.0</td>\n",
       "      <td>0.0</td>\n",
       "      <td>0.0</td>\n",
       "      <td>1.0</td>\n",
       "      <td>0.0</td>\n",
       "      <td>0</td>\n",
       "      <td>...</td>\n",
       "      <td>0.0</td>\n",
       "      <td>0.999</td>\n",
       "      <td>0.001</td>\n",
       "      <td>0.0</td>\n",
       "      <td>1.0</td>\n",
       "      <td>0.0</td>\n",
       "      <td>0.0</td>\n",
       "      <td>1.0</td>\n",
       "      <td>0.0</td>\n",
       "      <td>0.0</td>\n",
       "    </tr>\n",
       "    <tr>\n",
       "      <th>rs140592207</th>\n",
       "      <td>---</td>\n",
       "      <td>46359202</td>\n",
       "      <td>C</td>\n",
       "      <td>T</td>\n",
       "      <td>1.0</td>\n",
       "      <td>0.0</td>\n",
       "      <td>0.0</td>\n",
       "      <td>0.0</td>\n",
       "      <td>1.0</td>\n",
       "      <td>0</td>\n",
       "      <td>...</td>\n",
       "      <td>0.0</td>\n",
       "      <td>1.000</td>\n",
       "      <td>0.000</td>\n",
       "      <td>0.0</td>\n",
       "      <td>1.0</td>\n",
       "      <td>0.0</td>\n",
       "      <td>0.0</td>\n",
       "      <td>1.0</td>\n",
       "      <td>0.0</td>\n",
       "      <td>0.0</td>\n",
       "    </tr>\n",
       "    <tr>\n",
       "      <th>rs10890365</th>\n",
       "      <td>---</td>\n",
       "      <td>46359348</td>\n",
       "      <td>C</td>\n",
       "      <td>T</td>\n",
       "      <td>1.0</td>\n",
       "      <td>0.0</td>\n",
       "      <td>0.0</td>\n",
       "      <td>0.0</td>\n",
       "      <td>1.0</td>\n",
       "      <td>0</td>\n",
       "      <td>...</td>\n",
       "      <td>0.0</td>\n",
       "      <td>1.000</td>\n",
       "      <td>0.000</td>\n",
       "      <td>0.0</td>\n",
       "      <td>0.0</td>\n",
       "      <td>1.0</td>\n",
       "      <td>0.0</td>\n",
       "      <td>0.0</td>\n",
       "      <td>1.0</td>\n",
       "      <td>0.0</td>\n",
       "    </tr>\n",
       "  </tbody>\n",
       "</table>\n",
       "<p>1000 rows × 29320 columns</p>\n",
       "</div>"
      ],
      "text/plain": [
       "            dashes  position ref alt  sample1_1  sample1_2  sample1_3  \\\n",
       "rsid                                                                    \n",
       "rs140559483    ---  45001033   G   A        1.0        0.0        0.0   \n",
       "rs111430943    ---  45001475   C   T        1.0        0.0        0.0   \n",
       "rs150368261    ---  45002259   C   T        1.0        0.0        0.0   \n",
       "rs147355609    ---  45004037   G   A        1.0        0.0        0.0   \n",
       "rs75947718     ---  45005535   A   G        1.0        0.0        0.0   \n",
       "...            ...       ...  ..  ..        ...        ...        ...   \n",
       "rs116544829    ---  46358224   T   A        1.0        0.0        0.0   \n",
       "rs116020280    ---  46358272   C   T        1.0        0.0        0.0   \n",
       "rs191993184    ---  46358810   G   C        1.0        0.0        0.0   \n",
       "rs140592207    ---  46359202   C   T        1.0        0.0        0.0   \n",
       "rs10890365     ---  46359348   C   T        1.0        0.0        0.0   \n",
       "\n",
       "             sample2_1  sample2_2  sample2_3  ...  sample9769_3  sample9770_1  \\\n",
       "rsid                                          ...                               \n",
       "rs140559483        1.0        0.0          0  ...           0.0         1.000   \n",
       "rs111430943        1.0        0.0          0  ...           0.0         1.000   \n",
       "rs150368261        1.0        0.0          0  ...           0.0         1.000   \n",
       "rs147355609        1.0        0.0          0  ...           0.0         0.513   \n",
       "rs75947718         1.0        0.0          0  ...           0.0         1.000   \n",
       "...                ...        ...        ...  ...           ...           ...   \n",
       "rs116544829        1.0        0.0          0  ...           0.0         1.000   \n",
       "rs116020280        1.0        0.0          0  ...           0.0         1.000   \n",
       "rs191993184        1.0        0.0          0  ...           0.0         0.999   \n",
       "rs140592207        0.0        1.0          0  ...           0.0         1.000   \n",
       "rs10890365         0.0        1.0          0  ...           0.0         1.000   \n",
       "\n",
       "             sample9770_2  sample9770_3  sample9771_1  sample9771_2  \\\n",
       "rsid                                                                  \n",
       "rs140559483         0.000           0.0           1.0           0.0   \n",
       "rs111430943         0.000           0.0           1.0           0.0   \n",
       "rs150368261         0.000           0.0           1.0           0.0   \n",
       "rs147355609         0.487           0.0           1.0           0.0   \n",
       "rs75947718          0.000           0.0           1.0           0.0   \n",
       "...                   ...           ...           ...           ...   \n",
       "rs116544829         0.000           0.0           1.0           0.0   \n",
       "rs116020280         0.000           0.0           1.0           0.0   \n",
       "rs191993184         0.001           0.0           1.0           0.0   \n",
       "rs140592207         0.000           0.0           1.0           0.0   \n",
       "rs10890365          0.000           0.0           0.0           1.0   \n",
       "\n",
       "             sample9771_3  sample9772_1  sample9772_2  sample9772_3  \n",
       "rsid                                                                 \n",
       "rs140559483           0.0           1.0           0.0           0.0  \n",
       "rs111430943           0.0           1.0           0.0           0.0  \n",
       "rs150368261           0.0           1.0           0.0           0.0  \n",
       "rs147355609           0.0           1.0           0.0           0.0  \n",
       "rs75947718            0.0           1.0           0.0           0.0  \n",
       "...                   ...           ...           ...           ...  \n",
       "rs116544829           0.0           1.0           0.0           0.0  \n",
       "rs116020280           0.0           1.0           0.0           0.0  \n",
       "rs191993184           0.0           1.0           0.0           0.0  \n",
       "rs140592207           0.0           1.0           0.0           0.0  \n",
       "rs10890365            0.0           0.0           1.0           0.0  \n",
       "\n",
       "[1000 rows x 29320 columns]"
      ]
     },
     "execution_count": 86,
     "metadata": {},
     "output_type": "execute_result"
    }
   ],
   "source": [
    "test_df = all_dfs[0]\n",
    "test_df"
   ]
  },
  {
   "cell_type": "code",
   "execution_count": 45,
   "metadata": {
    "execution": {
     "iopub.execute_input": "2021-05-07T01:34:39.898705Z",
     "iopub.status.busy": "2021-05-07T01:34:39.898229Z",
     "iopub.status.idle": "2021-05-07T01:34:41.484937Z",
     "shell.execute_reply": "2021-05-07T01:34:41.484255Z",
     "shell.execute_reply.started": "2021-05-07T01:34:39.898642Z"
    }
   },
   "outputs": [
    {
     "data": {
      "text/plain": [
       "namespace(sample_df=             sample1_1  sample1_2  sample1_3\n",
       "rsid                                        \n",
       "rs187800412          1          0          0\n",
       "rs172018             0          1          0\n",
       "rs156255             0          0          1\n",
       "rs78861936           1          0          0\n",
       "rs112163323          1          0          0\n",
       "rs117407275          1          0          0\n",
       "rs139974854          1          0          0\n",
       "rs192704760          1          0          0\n",
       "rs270766             0          1          0\n",
       "rs181242035          1          0          0, sample_id='sample1')"
      ]
     },
     "execution_count": 45,
     "metadata": {},
     "output_type": "execute_result"
    }
   ],
   "source": [
    "first_sample = next(test_func(test_df))\n",
    "first_sample"
   ]
  },
  {
   "cell_type": "code",
   "execution_count": 89,
   "metadata": {
    "execution": {
     "iopub.execute_input": "2021-05-11T18:15:42.691352Z",
     "iopub.status.busy": "2021-05-11T18:15:42.690896Z",
     "iopub.status.idle": "2021-05-11T18:15:58.421528Z",
     "shell.execute_reply": "2021-05-11T18:15:58.420111Z",
     "shell.execute_reply.started": "2021-05-11T18:15:42.691299Z"
    }
   },
   "outputs": [
    {
     "data": {
      "application/vnd.jupyter.widget-view+json": {
       "model_id": "cf26540a418a4215899f0568205931d5",
       "version_major": 2,
       "version_minor": 0
      },
      "text/plain": [
       "0it [00:00, ?it/s]"
      ]
     },
     "metadata": {},
     "output_type": "display_data"
    },
    {
     "ename": "KeyboardInterrupt",
     "evalue": "",
     "output_type": "error",
     "traceback": [
      "\u001b[0;31m---------------------------------------------------------------------------\u001b[0m",
      "\u001b[0;31mKeyboardInterrupt\u001b[0m                         Traceback (most recent call last)",
      "\u001b[0;32m<ipython-input-89-ae2085d1967e>\u001b[0m in \u001b[0;36m<module>\u001b[0;34m\u001b[0m\n\u001b[0;32m----> 1\u001b[0;31m \u001b[0;34m[\u001b[0m\u001b[0mtriplicate_converter\u001b[0m\u001b[0;34m(\u001b[0m\u001b[0msample\u001b[0m\u001b[0;34m.\u001b[0m\u001b[0msample_df\u001b[0m\u001b[0;34m,\u001b[0m \u001b[0mgenotype_df\u001b[0m\u001b[0;34m=\u001b[0m \u001b[0mgeno_df\u001b[0m\u001b[0;34m,\u001b[0m \u001b[0msample_id\u001b[0m \u001b[0;34m=\u001b[0m \u001b[0msample\u001b[0m\u001b[0;34m.\u001b[0m\u001b[0msample_id\u001b[0m\u001b[0;34m)\u001b[0m \u001b[0;32mfor\u001b[0m \u001b[0msample\u001b[0m \u001b[0;32min\u001b[0m \u001b[0mtqdm\u001b[0m\u001b[0;34m(\u001b[0m\u001b[0mtest_func\u001b[0m\u001b[0;34m(\u001b[0m\u001b[0mtest_df\u001b[0m\u001b[0;34m)\u001b[0m\u001b[0;34m)\u001b[0m\u001b[0;34m]\u001b[0m\u001b[0;34m\u001b[0m\u001b[0;34m\u001b[0m\u001b[0m\n\u001b[0m",
      "\u001b[0;32m<ipython-input-89-ae2085d1967e>\u001b[0m in \u001b[0;36m<listcomp>\u001b[0;34m(.0)\u001b[0m\n\u001b[0;32m----> 1\u001b[0;31m \u001b[0;34m[\u001b[0m\u001b[0mtriplicate_converter\u001b[0m\u001b[0;34m(\u001b[0m\u001b[0msample\u001b[0m\u001b[0;34m.\u001b[0m\u001b[0msample_df\u001b[0m\u001b[0;34m,\u001b[0m \u001b[0mgenotype_df\u001b[0m\u001b[0;34m=\u001b[0m \u001b[0mgeno_df\u001b[0m\u001b[0;34m,\u001b[0m \u001b[0msample_id\u001b[0m \u001b[0;34m=\u001b[0m \u001b[0msample\u001b[0m\u001b[0;34m.\u001b[0m\u001b[0msample_id\u001b[0m\u001b[0;34m)\u001b[0m \u001b[0;32mfor\u001b[0m \u001b[0msample\u001b[0m \u001b[0;32min\u001b[0m \u001b[0mtqdm\u001b[0m\u001b[0;34m(\u001b[0m\u001b[0mtest_func\u001b[0m\u001b[0;34m(\u001b[0m\u001b[0mtest_df\u001b[0m\u001b[0;34m)\u001b[0m\u001b[0;34m)\u001b[0m\u001b[0;34m]\u001b[0m\u001b[0;34m\u001b[0m\u001b[0;34m\u001b[0m\u001b[0m\n\u001b[0m",
      "\u001b[0;32m<ipython-input-53-6b8565cd2497>\u001b[0m in \u001b[0;36mtriplicate_converter\u001b[0;34m(sample_df, genotype_df, sample_id, high_lim, low_lim, NA_val)\u001b[0m\n\u001b[1;32m      9\u001b[0m         \u001b[0;31m#all_geno = SimpleNamespace(**test_genfile_format.get_genotypes_df().loc[rsid])\u001b[0m\u001b[0;34m\u001b[0m\u001b[0;34m\u001b[0m\u001b[0;34m\u001b[0m\u001b[0m\n\u001b[1;32m     10\u001b[0m \u001b[0;34m\u001b[0m\u001b[0m\n\u001b[0;32m---> 11\u001b[0;31m         \u001b[0mgeno_1\u001b[0m\u001b[0;34m,\u001b[0m \u001b[0mgeno_2\u001b[0m\u001b[0;34m,\u001b[0m \u001b[0mgeno_3\u001b[0m \u001b[0;34m=\u001b[0m \u001b[0;34m[\u001b[0m\u001b[0msample_df\u001b[0m\u001b[0;34m.\u001b[0m\u001b[0mastype\u001b[0m\u001b[0;34m(\u001b[0m\u001b[0mfloat\u001b[0m\u001b[0;34m)\u001b[0m\u001b[0;34m[\u001b[0m\u001b[0mcol\u001b[0m\u001b[0;34m]\u001b[0m \u001b[0;32mfor\u001b[0m \u001b[0mcol\u001b[0m \u001b[0;32min\u001b[0m \u001b[0msample_df\u001b[0m\u001b[0;34m]\u001b[0m\u001b[0;34m\u001b[0m\u001b[0;34m\u001b[0m\u001b[0m\n\u001b[0m\u001b[1;32m     12\u001b[0m         \u001b[0mhomo_ref_cond\u001b[0m \u001b[0;34m=\u001b[0m \u001b[0;34m(\u001b[0m\u001b[0mgeno_1\u001b[0m \u001b[0;34m>=\u001b[0m\u001b[0mhigh_lim\u001b[0m\u001b[0;34m)\u001b[0m \u001b[0;34m&\u001b[0m \u001b[0;34m(\u001b[0m\u001b[0mgeno_2\u001b[0m \u001b[0;34m<\u001b[0m \u001b[0mlow_lim\u001b[0m\u001b[0;34m)\u001b[0m \u001b[0;34m&\u001b[0m \u001b[0;34m(\u001b[0m\u001b[0mgeno_3\u001b[0m \u001b[0;34m<\u001b[0m \u001b[0mlow_lim\u001b[0m\u001b[0;34m)\u001b[0m\u001b[0;34m\u001b[0m\u001b[0;34m\u001b[0m\u001b[0m\n\u001b[1;32m     13\u001b[0m         \u001b[0mhet_cond\u001b[0m \u001b[0;34m=\u001b[0m \u001b[0;34m(\u001b[0m\u001b[0mgeno_2\u001b[0m \u001b[0;34m>=\u001b[0m \u001b[0mhigh_lim\u001b[0m\u001b[0;34m)\u001b[0m \u001b[0;34m&\u001b[0m \u001b[0;34m(\u001b[0m\u001b[0mgeno_1\u001b[0m \u001b[0;34m<\u001b[0m \u001b[0mlow_lim\u001b[0m\u001b[0;34m)\u001b[0m \u001b[0;34m&\u001b[0m \u001b[0;34m(\u001b[0m\u001b[0mgeno_3\u001b[0m \u001b[0;34m<\u001b[0m \u001b[0mlow_lim\u001b[0m\u001b[0;34m)\u001b[0m\u001b[0;34m\u001b[0m\u001b[0;34m\u001b[0m\u001b[0m\n",
      "\u001b[0;32m<ipython-input-53-6b8565cd2497>\u001b[0m in \u001b[0;36m<listcomp>\u001b[0;34m(.0)\u001b[0m\n\u001b[1;32m      9\u001b[0m         \u001b[0;31m#all_geno = SimpleNamespace(**test_genfile_format.get_genotypes_df().loc[rsid])\u001b[0m\u001b[0;34m\u001b[0m\u001b[0;34m\u001b[0m\u001b[0;34m\u001b[0m\u001b[0m\n\u001b[1;32m     10\u001b[0m \u001b[0;34m\u001b[0m\u001b[0m\n\u001b[0;32m---> 11\u001b[0;31m         \u001b[0mgeno_1\u001b[0m\u001b[0;34m,\u001b[0m \u001b[0mgeno_2\u001b[0m\u001b[0;34m,\u001b[0m \u001b[0mgeno_3\u001b[0m \u001b[0;34m=\u001b[0m \u001b[0;34m[\u001b[0m\u001b[0msample_df\u001b[0m\u001b[0;34m.\u001b[0m\u001b[0mastype\u001b[0m\u001b[0;34m(\u001b[0m\u001b[0mfloat\u001b[0m\u001b[0;34m)\u001b[0m\u001b[0;34m[\u001b[0m\u001b[0mcol\u001b[0m\u001b[0;34m]\u001b[0m \u001b[0;32mfor\u001b[0m \u001b[0mcol\u001b[0m \u001b[0;32min\u001b[0m \u001b[0msample_df\u001b[0m\u001b[0;34m]\u001b[0m\u001b[0;34m\u001b[0m\u001b[0;34m\u001b[0m\u001b[0m\n\u001b[0m\u001b[1;32m     12\u001b[0m         \u001b[0mhomo_ref_cond\u001b[0m \u001b[0;34m=\u001b[0m \u001b[0;34m(\u001b[0m\u001b[0mgeno_1\u001b[0m \u001b[0;34m>=\u001b[0m\u001b[0mhigh_lim\u001b[0m\u001b[0;34m)\u001b[0m \u001b[0;34m&\u001b[0m \u001b[0;34m(\u001b[0m\u001b[0mgeno_2\u001b[0m \u001b[0;34m<\u001b[0m \u001b[0mlow_lim\u001b[0m\u001b[0;34m)\u001b[0m \u001b[0;34m&\u001b[0m \u001b[0;34m(\u001b[0m\u001b[0mgeno_3\u001b[0m \u001b[0;34m<\u001b[0m \u001b[0mlow_lim\u001b[0m\u001b[0;34m)\u001b[0m\u001b[0;34m\u001b[0m\u001b[0;34m\u001b[0m\u001b[0m\n\u001b[1;32m     13\u001b[0m         \u001b[0mhet_cond\u001b[0m \u001b[0;34m=\u001b[0m \u001b[0;34m(\u001b[0m\u001b[0mgeno_2\u001b[0m \u001b[0;34m>=\u001b[0m \u001b[0mhigh_lim\u001b[0m\u001b[0;34m)\u001b[0m \u001b[0;34m&\u001b[0m \u001b[0;34m(\u001b[0m\u001b[0mgeno_1\u001b[0m \u001b[0;34m<\u001b[0m \u001b[0mlow_lim\u001b[0m\u001b[0;34m)\u001b[0m \u001b[0;34m&\u001b[0m \u001b[0;34m(\u001b[0m\u001b[0mgeno_3\u001b[0m \u001b[0;34m<\u001b[0m \u001b[0mlow_lim\u001b[0m\u001b[0;34m)\u001b[0m\u001b[0;34m\u001b[0m\u001b[0;34m\u001b[0m\u001b[0m\n",
      "\u001b[0;32m/lab/corradin_biobank/FOR_AN/OVP/corradin_ovp_utils/.venv/lib/python3.8/site-packages/pandas/core/generic.py\u001b[0m in \u001b[0;36mastype\u001b[0;34m(self, dtype, copy, errors)\u001b[0m\n\u001b[1;32m   5872\u001b[0m         \u001b[0;32melse\u001b[0m\u001b[0;34m:\u001b[0m\u001b[0;34m\u001b[0m\u001b[0;34m\u001b[0m\u001b[0m\n\u001b[1;32m   5873\u001b[0m             \u001b[0;31m# else, only a single dtype is given\u001b[0m\u001b[0;34m\u001b[0m\u001b[0;34m\u001b[0m\u001b[0;34m\u001b[0m\u001b[0m\n\u001b[0;32m-> 5874\u001b[0;31m             \u001b[0mnew_data\u001b[0m \u001b[0;34m=\u001b[0m \u001b[0mself\u001b[0m\u001b[0;34m.\u001b[0m\u001b[0m_mgr\u001b[0m\u001b[0;34m.\u001b[0m\u001b[0mastype\u001b[0m\u001b[0;34m(\u001b[0m\u001b[0mdtype\u001b[0m\u001b[0;34m=\u001b[0m\u001b[0mdtype\u001b[0m\u001b[0;34m,\u001b[0m \u001b[0mcopy\u001b[0m\u001b[0;34m=\u001b[0m\u001b[0mcopy\u001b[0m\u001b[0;34m,\u001b[0m \u001b[0merrors\u001b[0m\u001b[0;34m=\u001b[0m\u001b[0merrors\u001b[0m\u001b[0;34m)\u001b[0m\u001b[0;34m\u001b[0m\u001b[0;34m\u001b[0m\u001b[0m\n\u001b[0m\u001b[1;32m   5875\u001b[0m             \u001b[0;32mreturn\u001b[0m \u001b[0mself\u001b[0m\u001b[0;34m.\u001b[0m\u001b[0m_constructor\u001b[0m\u001b[0;34m(\u001b[0m\u001b[0mnew_data\u001b[0m\u001b[0;34m)\u001b[0m\u001b[0;34m.\u001b[0m\u001b[0m__finalize__\u001b[0m\u001b[0;34m(\u001b[0m\u001b[0mself\u001b[0m\u001b[0;34m,\u001b[0m \u001b[0mmethod\u001b[0m\u001b[0;34m=\u001b[0m\u001b[0;34m\"astype\"\u001b[0m\u001b[0;34m)\u001b[0m\u001b[0;34m\u001b[0m\u001b[0;34m\u001b[0m\u001b[0m\n\u001b[1;32m   5876\u001b[0m \u001b[0;34m\u001b[0m\u001b[0m\n",
      "\u001b[0;32m/lab/corradin_biobank/FOR_AN/OVP/corradin_ovp_utils/.venv/lib/python3.8/site-packages/pandas/core/internals/managers.py\u001b[0m in \u001b[0;36mastype\u001b[0;34m(self, dtype, copy, errors)\u001b[0m\n\u001b[1;32m    629\u001b[0m         \u001b[0mself\u001b[0m\u001b[0;34m,\u001b[0m \u001b[0mdtype\u001b[0m\u001b[0;34m,\u001b[0m \u001b[0mcopy\u001b[0m\u001b[0;34m:\u001b[0m \u001b[0mbool\u001b[0m \u001b[0;34m=\u001b[0m \u001b[0;32mFalse\u001b[0m\u001b[0;34m,\u001b[0m \u001b[0merrors\u001b[0m\u001b[0;34m:\u001b[0m \u001b[0mstr\u001b[0m \u001b[0;34m=\u001b[0m \u001b[0;34m\"raise\"\u001b[0m\u001b[0;34m\u001b[0m\u001b[0;34m\u001b[0m\u001b[0m\n\u001b[1;32m    630\u001b[0m     ) -> \"BlockManager\":\n\u001b[0;32m--> 631\u001b[0;31m         \u001b[0;32mreturn\u001b[0m \u001b[0mself\u001b[0m\u001b[0;34m.\u001b[0m\u001b[0mapply\u001b[0m\u001b[0;34m(\u001b[0m\u001b[0;34m\"astype\"\u001b[0m\u001b[0;34m,\u001b[0m \u001b[0mdtype\u001b[0m\u001b[0;34m=\u001b[0m\u001b[0mdtype\u001b[0m\u001b[0;34m,\u001b[0m \u001b[0mcopy\u001b[0m\u001b[0;34m=\u001b[0m\u001b[0mcopy\u001b[0m\u001b[0;34m,\u001b[0m \u001b[0merrors\u001b[0m\u001b[0;34m=\u001b[0m\u001b[0merrors\u001b[0m\u001b[0;34m)\u001b[0m\u001b[0;34m\u001b[0m\u001b[0;34m\u001b[0m\u001b[0m\n\u001b[0m\u001b[1;32m    632\u001b[0m \u001b[0;34m\u001b[0m\u001b[0m\n\u001b[1;32m    633\u001b[0m     def convert(\n",
      "\u001b[0;32m/lab/corradin_biobank/FOR_AN/OVP/corradin_ovp_utils/.venv/lib/python3.8/site-packages/pandas/core/internals/managers.py\u001b[0m in \u001b[0;36mapply\u001b[0;34m(self, f, align_keys, ignore_failures, **kwargs)\u001b[0m\n\u001b[1;32m    425\u001b[0m                     \u001b[0mapplied\u001b[0m \u001b[0;34m=\u001b[0m \u001b[0mb\u001b[0m\u001b[0;34m.\u001b[0m\u001b[0mapply\u001b[0m\u001b[0;34m(\u001b[0m\u001b[0mf\u001b[0m\u001b[0;34m,\u001b[0m \u001b[0;34m**\u001b[0m\u001b[0mkwargs\u001b[0m\u001b[0;34m)\u001b[0m\u001b[0;34m\u001b[0m\u001b[0;34m\u001b[0m\u001b[0m\n\u001b[1;32m    426\u001b[0m                 \u001b[0;32melse\u001b[0m\u001b[0;34m:\u001b[0m\u001b[0;34m\u001b[0m\u001b[0;34m\u001b[0m\u001b[0m\n\u001b[0;32m--> 427\u001b[0;31m                     \u001b[0mapplied\u001b[0m \u001b[0;34m=\u001b[0m \u001b[0mgetattr\u001b[0m\u001b[0;34m(\u001b[0m\u001b[0mb\u001b[0m\u001b[0;34m,\u001b[0m \u001b[0mf\u001b[0m\u001b[0;34m)\u001b[0m\u001b[0;34m(\u001b[0m\u001b[0;34m**\u001b[0m\u001b[0mkwargs\u001b[0m\u001b[0;34m)\u001b[0m\u001b[0;34m\u001b[0m\u001b[0;34m\u001b[0m\u001b[0m\n\u001b[0m\u001b[1;32m    428\u001b[0m             \u001b[0;32mexcept\u001b[0m \u001b[0;34m(\u001b[0m\u001b[0mTypeError\u001b[0m\u001b[0;34m,\u001b[0m \u001b[0mNotImplementedError\u001b[0m\u001b[0;34m)\u001b[0m\u001b[0;34m:\u001b[0m\u001b[0;34m\u001b[0m\u001b[0;34m\u001b[0m\u001b[0m\n\u001b[1;32m    429\u001b[0m                 \u001b[0;32mif\u001b[0m \u001b[0;32mnot\u001b[0m \u001b[0mignore_failures\u001b[0m\u001b[0;34m:\u001b[0m\u001b[0;34m\u001b[0m\u001b[0;34m\u001b[0m\u001b[0m\n",
      "\u001b[0;32m/lab/corradin_biobank/FOR_AN/OVP/corradin_ovp_utils/.venv/lib/python3.8/site-packages/pandas/core/internals/blocks.py\u001b[0m in \u001b[0;36mastype\u001b[0;34m(self, dtype, copy, errors)\u001b[0m\n\u001b[1;32m    638\u001b[0m \u001b[0;34m\u001b[0m\u001b[0m\n\u001b[1;32m    639\u001b[0m         \u001b[0;31m# astype processing\u001b[0m\u001b[0;34m\u001b[0m\u001b[0;34m\u001b[0m\u001b[0;34m\u001b[0m\u001b[0m\n\u001b[0;32m--> 640\u001b[0;31m         \u001b[0;32mif\u001b[0m \u001b[0mis_dtype_equal\u001b[0m\u001b[0;34m(\u001b[0m\u001b[0mself\u001b[0m\u001b[0;34m.\u001b[0m\u001b[0mdtype\u001b[0m\u001b[0;34m,\u001b[0m \u001b[0mdtype\u001b[0m\u001b[0;34m)\u001b[0m\u001b[0;34m:\u001b[0m\u001b[0;34m\u001b[0m\u001b[0;34m\u001b[0m\u001b[0m\n\u001b[0m\u001b[1;32m    641\u001b[0m             \u001b[0;32mif\u001b[0m \u001b[0mcopy\u001b[0m\u001b[0;34m:\u001b[0m\u001b[0;34m\u001b[0m\u001b[0;34m\u001b[0m\u001b[0m\n\u001b[1;32m    642\u001b[0m                 \u001b[0;32mreturn\u001b[0m \u001b[0mself\u001b[0m\u001b[0;34m.\u001b[0m\u001b[0mcopy\u001b[0m\u001b[0;34m(\u001b[0m\u001b[0;34m)\u001b[0m\u001b[0;34m\u001b[0m\u001b[0;34m\u001b[0m\u001b[0m\n",
      "\u001b[0;32m/lab/corradin_biobank/FOR_AN/OVP/corradin_ovp_utils/.venv/lib/python3.8/site-packages/pandas/core/internals/blocks.py\u001b[0m in \u001b[0;36mdtype\u001b[0;34m(self)\u001b[0m\n\u001b[1;32m    345\u001b[0m         \u001b[0;32mreturn\u001b[0m \u001b[0mself\u001b[0m\u001b[0;34m.\u001b[0m\u001b[0mvalues\u001b[0m\u001b[0;34m.\u001b[0m\u001b[0mshape\u001b[0m\u001b[0;34m\u001b[0m\u001b[0;34m\u001b[0m\u001b[0m\n\u001b[1;32m    346\u001b[0m \u001b[0;34m\u001b[0m\u001b[0m\n\u001b[0;32m--> 347\u001b[0;31m     \u001b[0;34m@\u001b[0m\u001b[0mproperty\u001b[0m\u001b[0;34m\u001b[0m\u001b[0;34m\u001b[0m\u001b[0m\n\u001b[0m\u001b[1;32m    348\u001b[0m     \u001b[0;32mdef\u001b[0m \u001b[0mdtype\u001b[0m\u001b[0;34m(\u001b[0m\u001b[0mself\u001b[0m\u001b[0;34m)\u001b[0m\u001b[0;34m:\u001b[0m\u001b[0;34m\u001b[0m\u001b[0;34m\u001b[0m\u001b[0m\n\u001b[1;32m    349\u001b[0m         \u001b[0;32mreturn\u001b[0m \u001b[0mself\u001b[0m\u001b[0;34m.\u001b[0m\u001b[0mvalues\u001b[0m\u001b[0;34m.\u001b[0m\u001b[0mdtype\u001b[0m\u001b[0;34m\u001b[0m\u001b[0;34m\u001b[0m\u001b[0m\n",
      "\u001b[0;31mKeyboardInterrupt\u001b[0m: "
     ]
    }
   ],
   "source": [
    "[triplicate_converter(sample.sample_df, genotype_df= geno_df, sample_id = sample.sample_id) for sample in tqdm(test_func(test_df))]"
   ]
  },
  {
   "cell_type": "code",
   "execution_count": 163,
   "metadata": {
    "execution": {
     "iopub.execute_input": "2021-05-06T00:35:57.991018Z",
     "iopub.status.busy": "2021-05-06T00:35:57.990554Z",
     "iopub.status.idle": "2021-05-06T00:52:40.888651Z",
     "shell.execute_reply": "2021-05-06T00:52:40.886598Z",
     "shell.execute_reply.started": "2021-05-06T00:35:57.990959Z"
    }
   },
   "outputs": [
    {
     "ename": "KeyboardInterrupt",
     "evalue": "",
     "output_type": "error",
     "traceback": [
      "\u001b[0;31m---------------------------------------------------------------------------\u001b[0m",
      "\u001b[0;31mKeyboardInterrupt\u001b[0m                         Traceback (most recent call last)",
      "\u001b[0;32m<ipython-input-163-8da579fe6ca2>\u001b[0m in \u001b[0;36m<module>\u001b[0;34m\u001b[0m\n\u001b[0;32m----> 1\u001b[0;31m \u001b[0mpd\u001b[0m\u001b[0;34m.\u001b[0m\u001b[0mconcat\u001b[0m\u001b[0;34m(\u001b[0m\u001b[0mall_dfs\u001b[0m\u001b[0;34m)\u001b[0m\u001b[0;34m\u001b[0m\u001b[0;34m\u001b[0m\u001b[0m\n\u001b[0m",
      "\u001b[0;32m/lab/corradin_biobank/FOR_AN/OVP/corradin_ovp_utils/.venv/lib/python3.8/site-packages/pandas/core/reshape/concat.py\u001b[0m in \u001b[0;36mconcat\u001b[0;34m(objs, axis, join, ignore_index, keys, levels, names, verify_integrity, sort, copy)\u001b[0m\n\u001b[1;32m    296\u001b[0m     )\n\u001b[1;32m    297\u001b[0m \u001b[0;34m\u001b[0m\u001b[0m\n\u001b[0;32m--> 298\u001b[0;31m     \u001b[0;32mreturn\u001b[0m \u001b[0mop\u001b[0m\u001b[0;34m.\u001b[0m\u001b[0mget_result\u001b[0m\u001b[0;34m(\u001b[0m\u001b[0;34m)\u001b[0m\u001b[0;34m\u001b[0m\u001b[0;34m\u001b[0m\u001b[0m\n\u001b[0m\u001b[1;32m    299\u001b[0m \u001b[0;34m\u001b[0m\u001b[0m\n\u001b[1;32m    300\u001b[0m \u001b[0;34m\u001b[0m\u001b[0m\n",
      "\u001b[0;32m/lab/corradin_biobank/FOR_AN/OVP/corradin_ovp_utils/.venv/lib/python3.8/site-packages/pandas/core/reshape/concat.py\u001b[0m in \u001b[0;36mget_result\u001b[0;34m(self)\u001b[0m\n\u001b[1;32m    518\u001b[0m                 \u001b[0mmgrs_indexers\u001b[0m\u001b[0;34m.\u001b[0m\u001b[0mappend\u001b[0m\u001b[0;34m(\u001b[0m\u001b[0;34m(\u001b[0m\u001b[0mobj\u001b[0m\u001b[0;34m.\u001b[0m\u001b[0m_mgr\u001b[0m\u001b[0;34m,\u001b[0m \u001b[0mindexers\u001b[0m\u001b[0;34m)\u001b[0m\u001b[0;34m)\u001b[0m\u001b[0;34m\u001b[0m\u001b[0;34m\u001b[0m\u001b[0m\n\u001b[1;32m    519\u001b[0m \u001b[0;34m\u001b[0m\u001b[0m\n\u001b[0;32m--> 520\u001b[0;31m             new_data = concatenate_block_managers(\n\u001b[0m\u001b[1;32m    521\u001b[0m                 \u001b[0mmgrs_indexers\u001b[0m\u001b[0;34m,\u001b[0m \u001b[0mself\u001b[0m\u001b[0;34m.\u001b[0m\u001b[0mnew_axes\u001b[0m\u001b[0;34m,\u001b[0m \u001b[0mconcat_axis\u001b[0m\u001b[0;34m=\u001b[0m\u001b[0mself\u001b[0m\u001b[0;34m.\u001b[0m\u001b[0mbm_axis\u001b[0m\u001b[0;34m,\u001b[0m \u001b[0mcopy\u001b[0m\u001b[0;34m=\u001b[0m\u001b[0mself\u001b[0m\u001b[0;34m.\u001b[0m\u001b[0mcopy\u001b[0m\u001b[0;34m\u001b[0m\u001b[0;34m\u001b[0m\u001b[0m\n\u001b[1;32m    522\u001b[0m             )\n",
      "\u001b[0;32m/lab/corradin_biobank/FOR_AN/OVP/corradin_ovp_utils/.venv/lib/python3.8/site-packages/pandas/core/internals/concat.py\u001b[0m in \u001b[0;36mconcatenate_block_managers\u001b[0;34m(mgrs_indexers, axes, concat_axis, copy)\u001b[0m\n\u001b[1;32m     81\u001b[0m         \u001b[0;32melse\u001b[0m\u001b[0;34m:\u001b[0m\u001b[0;34m\u001b[0m\u001b[0;34m\u001b[0m\u001b[0m\n\u001b[1;32m     82\u001b[0m             b = make_block(\n\u001b[0;32m---> 83\u001b[0;31m                 \u001b[0m_concatenate_join_units\u001b[0m\u001b[0;34m(\u001b[0m\u001b[0mjoin_units\u001b[0m\u001b[0;34m,\u001b[0m \u001b[0mconcat_axis\u001b[0m\u001b[0;34m,\u001b[0m \u001b[0mcopy\u001b[0m\u001b[0;34m=\u001b[0m\u001b[0mcopy\u001b[0m\u001b[0;34m)\u001b[0m\u001b[0;34m,\u001b[0m\u001b[0;34m\u001b[0m\u001b[0;34m\u001b[0m\u001b[0m\n\u001b[0m\u001b[1;32m     84\u001b[0m                 \u001b[0mplacement\u001b[0m\u001b[0;34m=\u001b[0m\u001b[0mplacement\u001b[0m\u001b[0;34m,\u001b[0m\u001b[0;34m\u001b[0m\u001b[0;34m\u001b[0m\u001b[0m\n\u001b[1;32m     85\u001b[0m                 \u001b[0mndim\u001b[0m\u001b[0;34m=\u001b[0m\u001b[0mlen\u001b[0m\u001b[0;34m(\u001b[0m\u001b[0maxes\u001b[0m\u001b[0;34m)\u001b[0m\u001b[0;34m,\u001b[0m\u001b[0;34m\u001b[0m\u001b[0;34m\u001b[0m\u001b[0m\n",
      "\u001b[0;32m/lab/corradin_biobank/FOR_AN/OVP/corradin_ovp_utils/.venv/lib/python3.8/site-packages/pandas/core/internals/concat.py\u001b[0m in \u001b[0;36m_concatenate_join_units\u001b[0;34m(join_units, concat_axis, copy)\u001b[0m\n\u001b[1;32m    311\u001b[0m     \u001b[0mempty_dtype\u001b[0m\u001b[0;34m,\u001b[0m \u001b[0mupcasted_na\u001b[0m \u001b[0;34m=\u001b[0m \u001b[0m_get_empty_dtype_and_na\u001b[0m\u001b[0;34m(\u001b[0m\u001b[0mjoin_units\u001b[0m\u001b[0;34m)\u001b[0m\u001b[0;34m\u001b[0m\u001b[0;34m\u001b[0m\u001b[0m\n\u001b[1;32m    312\u001b[0m \u001b[0;34m\u001b[0m\u001b[0m\n\u001b[0;32m--> 313\u001b[0;31m     to_concat = [\n\u001b[0m\u001b[1;32m    314\u001b[0m         \u001b[0mju\u001b[0m\u001b[0;34m.\u001b[0m\u001b[0mget_reindexed_values\u001b[0m\u001b[0;34m(\u001b[0m\u001b[0mempty_dtype\u001b[0m\u001b[0;34m=\u001b[0m\u001b[0mempty_dtype\u001b[0m\u001b[0;34m,\u001b[0m \u001b[0mupcasted_na\u001b[0m\u001b[0;34m=\u001b[0m\u001b[0mupcasted_na\u001b[0m\u001b[0;34m)\u001b[0m\u001b[0;34m\u001b[0m\u001b[0;34m\u001b[0m\u001b[0m\n\u001b[1;32m    315\u001b[0m         \u001b[0;32mfor\u001b[0m \u001b[0mju\u001b[0m \u001b[0;32min\u001b[0m \u001b[0mjoin_units\u001b[0m\u001b[0;34m\u001b[0m\u001b[0;34m\u001b[0m\u001b[0m\n",
      "\u001b[0;32m/lab/corradin_biobank/FOR_AN/OVP/corradin_ovp_utils/.venv/lib/python3.8/site-packages/pandas/core/internals/concat.py\u001b[0m in \u001b[0;36m<listcomp>\u001b[0;34m(.0)\u001b[0m\n\u001b[1;32m    312\u001b[0m \u001b[0;34m\u001b[0m\u001b[0m\n\u001b[1;32m    313\u001b[0m     to_concat = [\n\u001b[0;32m--> 314\u001b[0;31m         \u001b[0mju\u001b[0m\u001b[0;34m.\u001b[0m\u001b[0mget_reindexed_values\u001b[0m\u001b[0;34m(\u001b[0m\u001b[0mempty_dtype\u001b[0m\u001b[0;34m=\u001b[0m\u001b[0mempty_dtype\u001b[0m\u001b[0;34m,\u001b[0m \u001b[0mupcasted_na\u001b[0m\u001b[0;34m=\u001b[0m\u001b[0mupcasted_na\u001b[0m\u001b[0;34m)\u001b[0m\u001b[0;34m\u001b[0m\u001b[0;34m\u001b[0m\u001b[0m\n\u001b[0m\u001b[1;32m    315\u001b[0m         \u001b[0;32mfor\u001b[0m \u001b[0mju\u001b[0m \u001b[0;32min\u001b[0m \u001b[0mjoin_units\u001b[0m\u001b[0;34m\u001b[0m\u001b[0;34m\u001b[0m\u001b[0m\n\u001b[1;32m    316\u001b[0m     ]\n",
      "\u001b[0;32m/lab/corradin_biobank/FOR_AN/OVP/corradin_ovp_utils/.venv/lib/python3.8/site-packages/pandas/core/internals/concat.py\u001b[0m in \u001b[0;36mget_reindexed_values\u001b[0;34m(self, empty_dtype, upcasted_na)\u001b[0m\n\u001b[1;32m    296\u001b[0m         \u001b[0;32melse\u001b[0m\u001b[0;34m:\u001b[0m\u001b[0;34m\u001b[0m\u001b[0;34m\u001b[0m\u001b[0m\n\u001b[1;32m    297\u001b[0m             \u001b[0;32mfor\u001b[0m \u001b[0max\u001b[0m\u001b[0;34m,\u001b[0m \u001b[0mindexer\u001b[0m \u001b[0;32min\u001b[0m \u001b[0mself\u001b[0m\u001b[0;34m.\u001b[0m\u001b[0mindexers\u001b[0m\u001b[0;34m.\u001b[0m\u001b[0mitems\u001b[0m\u001b[0;34m(\u001b[0m\u001b[0;34m)\u001b[0m\u001b[0;34m:\u001b[0m\u001b[0;34m\u001b[0m\u001b[0;34m\u001b[0m\u001b[0m\n\u001b[0;32m--> 298\u001b[0;31m                 \u001b[0mvalues\u001b[0m \u001b[0;34m=\u001b[0m \u001b[0malgos\u001b[0m\u001b[0;34m.\u001b[0m\u001b[0mtake_nd\u001b[0m\u001b[0;34m(\u001b[0m\u001b[0mvalues\u001b[0m\u001b[0;34m,\u001b[0m \u001b[0mindexer\u001b[0m\u001b[0;34m,\u001b[0m \u001b[0maxis\u001b[0m\u001b[0;34m=\u001b[0m\u001b[0max\u001b[0m\u001b[0;34m,\u001b[0m \u001b[0mfill_value\u001b[0m\u001b[0;34m=\u001b[0m\u001b[0mfill_value\u001b[0m\u001b[0;34m)\u001b[0m\u001b[0;34m\u001b[0m\u001b[0;34m\u001b[0m\u001b[0m\n\u001b[0m\u001b[1;32m    299\u001b[0m \u001b[0;34m\u001b[0m\u001b[0m\n\u001b[1;32m    300\u001b[0m         \u001b[0;32mreturn\u001b[0m \u001b[0mvalues\u001b[0m\u001b[0;34m\u001b[0m\u001b[0;34m\u001b[0m\u001b[0m\n",
      "\u001b[0;32m/lab/corradin_biobank/FOR_AN/OVP/corradin_ovp_utils/.venv/lib/python3.8/site-packages/pandas/core/algorithms.py\u001b[0m in \u001b[0;36mtake_nd\u001b[0;34m(arr, indexer, axis, out, fill_value, allow_fill)\u001b[0m\n\u001b[1;32m   1754\u001b[0m             \u001b[0mout\u001b[0m \u001b[0;34m=\u001b[0m \u001b[0mnp\u001b[0m\u001b[0;34m.\u001b[0m\u001b[0mempty\u001b[0m\u001b[0;34m(\u001b[0m\u001b[0mout_shape\u001b[0m\u001b[0;34m,\u001b[0m \u001b[0mdtype\u001b[0m\u001b[0;34m=\u001b[0m\u001b[0mdtype\u001b[0m\u001b[0;34m)\u001b[0m\u001b[0;34m\u001b[0m\u001b[0;34m\u001b[0m\u001b[0m\n\u001b[1;32m   1755\u001b[0m \u001b[0;34m\u001b[0m\u001b[0m\n\u001b[0;32m-> 1756\u001b[0;31m     func = _get_take_nd_function(\n\u001b[0m\u001b[1;32m   1757\u001b[0m         \u001b[0marr\u001b[0m\u001b[0;34m.\u001b[0m\u001b[0mndim\u001b[0m\u001b[0;34m,\u001b[0m \u001b[0marr\u001b[0m\u001b[0;34m.\u001b[0m\u001b[0mdtype\u001b[0m\u001b[0;34m,\u001b[0m \u001b[0mout\u001b[0m\u001b[0;34m.\u001b[0m\u001b[0mdtype\u001b[0m\u001b[0;34m,\u001b[0m \u001b[0maxis\u001b[0m\u001b[0;34m=\u001b[0m\u001b[0maxis\u001b[0m\u001b[0;34m,\u001b[0m \u001b[0mmask_info\u001b[0m\u001b[0;34m=\u001b[0m\u001b[0mmask_info\u001b[0m\u001b[0;34m\u001b[0m\u001b[0;34m\u001b[0m\u001b[0m\n\u001b[1;32m   1758\u001b[0m     )\n",
      "\u001b[0;32m/lab/corradin_biobank/FOR_AN/OVP/corradin_ovp_utils/.venv/lib/python3.8/site-packages/pandas/core/algorithms.py\u001b[0m in \u001b[0;36m_get_take_nd_function\u001b[0;34m(ndim, arr_dtype, out_dtype, axis, mask_info)\u001b[0m\n\u001b[1;32m   1536\u001b[0m ):\n\u001b[1;32m   1537\u001b[0m     \u001b[0;32mif\u001b[0m \u001b[0mndim\u001b[0m \u001b[0;34m<=\u001b[0m \u001b[0;36m2\u001b[0m\u001b[0;34m:\u001b[0m\u001b[0;34m\u001b[0m\u001b[0;34m\u001b[0m\u001b[0m\n\u001b[0;32m-> 1538\u001b[0;31m         \u001b[0mtup\u001b[0m \u001b[0;34m=\u001b[0m \u001b[0;34m(\u001b[0m\u001b[0marr_dtype\u001b[0m\u001b[0;34m.\u001b[0m\u001b[0mname\u001b[0m\u001b[0;34m,\u001b[0m \u001b[0mout_dtype\u001b[0m\u001b[0;34m.\u001b[0m\u001b[0mname\u001b[0m\u001b[0;34m)\u001b[0m\u001b[0;34m\u001b[0m\u001b[0;34m\u001b[0m\u001b[0m\n\u001b[0m\u001b[1;32m   1539\u001b[0m         \u001b[0;32mif\u001b[0m \u001b[0mndim\u001b[0m \u001b[0;34m==\u001b[0m \u001b[0;36m1\u001b[0m\u001b[0;34m:\u001b[0m\u001b[0;34m\u001b[0m\u001b[0;34m\u001b[0m\u001b[0m\n\u001b[1;32m   1540\u001b[0m             \u001b[0mfunc\u001b[0m \u001b[0;34m=\u001b[0m \u001b[0m_take_1d_dict\u001b[0m\u001b[0;34m.\u001b[0m\u001b[0mget\u001b[0m\u001b[0;34m(\u001b[0m\u001b[0mtup\u001b[0m\u001b[0;34m,\u001b[0m \u001b[0;32mNone\u001b[0m\u001b[0;34m)\u001b[0m\u001b[0;34m\u001b[0m\u001b[0;34m\u001b[0m\u001b[0m\n",
      "\u001b[0;32m/lab/corradin_biobank/FOR_AN/OVP/corradin_ovp_utils/.venv/lib/python3.8/site-packages/numpy/core/_dtype.py\u001b[0m in \u001b[0;36m_name_get\u001b[0;34m(dtype)\u001b[0m\n\u001b[1;32m    334\u001b[0m     \u001b[0;31m# append bit counts\u001b[0m\u001b[0;34m\u001b[0m\u001b[0;34m\u001b[0m\u001b[0;34m\u001b[0m\u001b[0m\n\u001b[1;32m    335\u001b[0m     \u001b[0;32mif\u001b[0m \u001b[0m_name_includes_bit_suffix\u001b[0m\u001b[0;34m(\u001b[0m\u001b[0mdtype\u001b[0m\u001b[0;34m)\u001b[0m\u001b[0;34m:\u001b[0m\u001b[0;34m\u001b[0m\u001b[0;34m\u001b[0m\u001b[0m\n\u001b[0;32m--> 336\u001b[0;31m         \u001b[0mname\u001b[0m \u001b[0;34m+=\u001b[0m \u001b[0;34m\"{}\"\u001b[0m\u001b[0;34m.\u001b[0m\u001b[0mformat\u001b[0m\u001b[0;34m(\u001b[0m\u001b[0mdtype\u001b[0m\u001b[0;34m.\u001b[0m\u001b[0mitemsize\u001b[0m \u001b[0;34m*\u001b[0m \u001b[0;36m8\u001b[0m\u001b[0;34m)\u001b[0m\u001b[0;34m\u001b[0m\u001b[0;34m\u001b[0m\u001b[0m\n\u001b[0m\u001b[1;32m    337\u001b[0m \u001b[0;34m\u001b[0m\u001b[0m\n\u001b[1;32m    338\u001b[0m     \u001b[0;31m# append metadata to datetimes\u001b[0m\u001b[0;34m\u001b[0m\u001b[0;34m\u001b[0m\u001b[0;34m\u001b[0m\u001b[0m\n",
      "\u001b[0;31mKeyboardInterrupt\u001b[0m: "
     ]
    }
   ],
   "source": [
    "pd.concat(all_dfs)"
   ]
  },
  {
   "cell_type": "code",
   "execution_count": 103,
   "metadata": {
    "execution": {
     "iopub.execute_input": "2021-05-05T19:28:05.922974Z",
     "iopub.status.busy": "2021-05-05T19:28:05.922408Z",
     "iopub.status.idle": "2021-05-05T19:28:10.563630Z",
     "shell.execute_reply": "2021-05-05T19:28:10.562939Z",
     "shell.execute_reply.started": "2021-05-05T19:28:05.922907Z"
    }
   },
   "outputs": [
    {
     "data": {
      "text/plain": [
       "array([1627547, 1111766,  341437, 1970714, 1105928, 2135379,  240617,\n",
       "        987551, 1623188,  433210, 1739584])"
      ]
     },
     "execution_count": 103,
     "metadata": {},
     "output_type": "execute_result"
    }
   ],
   "source": [
    "index_search(rsid_list.values.flatten(), [\"fake_rsid\"]  + list(rsid_list.sample(10).values.flatten()))"
   ]
  },
  {
   "cell_type": "code",
   "execution_count": null,
   "metadata": {},
   "outputs": [],
   "source": [
    "rsid_list"
   ]
  },
  {
   "cell_type": "code",
   "execution_count": 80,
   "metadata": {
    "execution": {
     "iopub.execute_input": "2021-05-05T15:42:55.531601Z",
     "iopub.status.busy": "2021-05-05T15:42:55.531053Z",
     "iopub.status.idle": "2021-05-05T15:42:57.202000Z",
     "shell.execute_reply": "2021-05-05T15:42:57.201422Z",
     "shell.execute_reply.started": "2021-05-05T15:42:55.531531Z"
    }
   },
   "outputs": [
    {
     "data": {
      "text/plain": [
       "<pandas.io.parsers.TextFileReader at 0x14d08952ab20>"
      ]
     },
     "execution_count": 80,
     "metadata": {},
     "output_type": "execute_result"
    }
   ],
   "source": [
    "big_gen_file_iterator = big_gen_file.load(chrom=22, chunksize=10_000, usecols = [big_gen_file.rsid_col])\n",
    "big_gen_file_iterator"
   ]
  },
  {
   "cell_type": "code",
   "execution_count": 79,
   "metadata": {
    "execution": {
     "iopub.execute_input": "2021-05-05T15:41:05.729111Z",
     "iopub.status.busy": "2021-05-05T15:41:05.728563Z",
     "iopub.status.idle": "2021-05-05T15:42:47.114734Z",
     "shell.execute_reply": "2021-05-05T15:42:47.113485Z",
     "shell.execute_reply.started": "2021-05-05T15:41:05.729040Z"
    }
   },
   "outputs": [
    {
     "ename": "KeyboardInterrupt",
     "evalue": "",
     "output_type": "error",
     "traceback": [
      "\u001b[0;31m---------------------------------------------------------------------------\u001b[0m",
      "\u001b[0;31mKeyboardInterrupt\u001b[0m                         Traceback (most recent call last)",
      "\u001b[0;32m/lab/corradin_biobank/FOR_AN/OVP/corradin_ovp_utils/.venv/lib/python3.8/site-packages/pandas/io/parsers.py\u001b[0m in \u001b[0;36mread\u001b[0;34m(self, nrows)\u001b[0m\n\u001b[1;32m   2055\u001b[0m         \u001b[0;32mtry\u001b[0m\u001b[0;34m:\u001b[0m\u001b[0;34m\u001b[0m\u001b[0;34m\u001b[0m\u001b[0m\n\u001b[0;32m-> 2056\u001b[0;31m             \u001b[0mdata\u001b[0m \u001b[0;34m=\u001b[0m \u001b[0mself\u001b[0m\u001b[0;34m.\u001b[0m\u001b[0m_reader\u001b[0m\u001b[0;34m.\u001b[0m\u001b[0mread\u001b[0m\u001b[0;34m(\u001b[0m\u001b[0mnrows\u001b[0m\u001b[0;34m)\u001b[0m\u001b[0;34m\u001b[0m\u001b[0;34m\u001b[0m\u001b[0m\n\u001b[0m\u001b[1;32m   2057\u001b[0m         \u001b[0;32mexcept\u001b[0m \u001b[0mStopIteration\u001b[0m\u001b[0;34m:\u001b[0m\u001b[0;34m\u001b[0m\u001b[0;34m\u001b[0m\u001b[0m\n",
      "\u001b[0;32mpandas/_libs/parsers.pyx\u001b[0m in \u001b[0;36mpandas._libs.parsers.TextReader.read\u001b[0;34m()\u001b[0m\n",
      "\u001b[0;32mpandas/_libs/parsers.pyx\u001b[0m in \u001b[0;36mpandas._libs.parsers.TextReader._read_low_memory\u001b[0;34m()\u001b[0m\n",
      "\u001b[0;32mpandas/_libs/parsers.pyx\u001b[0m in \u001b[0;36mpandas._libs.parsers.TextReader._read_rows\u001b[0;34m()\u001b[0m\n",
      "\u001b[0;32mpandas/_libs/parsers.pyx\u001b[0m in \u001b[0;36mpandas._libs.parsers.TextReader._convert_column_data\u001b[0;34m()\u001b[0m\n",
      "\u001b[0;32mpandas/_libs/parsers.pyx\u001b[0m in \u001b[0;36mpandas._libs.parsers.TextReader._convert_tokens\u001b[0;34m()\u001b[0m\n",
      "\u001b[0;32mpandas/_libs/parsers.pyx\u001b[0m in \u001b[0;36mpandas._libs.parsers.TextReader._convert_with_dtype\u001b[0;34m()\u001b[0m\n",
      "\u001b[0;32m/lab/corradin_biobank/FOR_AN/OVP/corradin_ovp_utils/.venv/lib/python3.8/site-packages/pandas/core/dtypes/common.py\u001b[0m in \u001b[0;36mis_categorical_dtype\u001b[0;34m(arr_or_dtype)\u001b[0m\n\u001b[1;32m    536\u001b[0m \u001b[0;34m\u001b[0m\u001b[0m\n\u001b[0;32m--> 537\u001b[0;31m \u001b[0;32mdef\u001b[0m \u001b[0mis_categorical_dtype\u001b[0m\u001b[0;34m(\u001b[0m\u001b[0marr_or_dtype\u001b[0m\u001b[0;34m)\u001b[0m \u001b[0;34m->\u001b[0m \u001b[0mbool\u001b[0m\u001b[0;34m:\u001b[0m\u001b[0;34m\u001b[0m\u001b[0;34m\u001b[0m\u001b[0m\n\u001b[0m\u001b[1;32m    538\u001b[0m     \"\"\"\n",
      "\u001b[0;31mKeyboardInterrupt\u001b[0m: ",
      "\nDuring handling of the above exception, another exception occurred:\n",
      "\u001b[0;31mKeyboardInterrupt\u001b[0m                         Traceback (most recent call last)",
      "\u001b[0;32m<ipython-input-79-73a4c3164f55>\u001b[0m in \u001b[0;36m<module>\u001b[0;34m\u001b[0m\n\u001b[0;32m----> 1\u001b[0;31m \u001b[0mnext\u001b[0m\u001b[0;34m(\u001b[0m\u001b[0mbig_gen_file_iterator\u001b[0m\u001b[0;34m)\u001b[0m\u001b[0;31m#.loc[['rs77948203', 'rs1014626']]\u001b[0m\u001b[0;34m\u001b[0m\u001b[0;34m\u001b[0m\u001b[0m\n\u001b[0m",
      "\u001b[0;32m/lab/corradin_biobank/FOR_AN/OVP/corradin_ovp_utils/.venv/lib/python3.8/site-packages/pandas/io/parsers.py\u001b[0m in \u001b[0;36m__next__\u001b[0;34m(self)\u001b[0m\n\u001b[1;32m   1027\u001b[0m     \u001b[0;32mdef\u001b[0m \u001b[0m__next__\u001b[0m\u001b[0;34m(\u001b[0m\u001b[0mself\u001b[0m\u001b[0;34m)\u001b[0m\u001b[0;34m:\u001b[0m\u001b[0;34m\u001b[0m\u001b[0;34m\u001b[0m\u001b[0m\n\u001b[1;32m   1028\u001b[0m         \u001b[0;32mtry\u001b[0m\u001b[0;34m:\u001b[0m\u001b[0;34m\u001b[0m\u001b[0;34m\u001b[0m\u001b[0m\n\u001b[0;32m-> 1029\u001b[0;31m             \u001b[0;32mreturn\u001b[0m \u001b[0mself\u001b[0m\u001b[0;34m.\u001b[0m\u001b[0mget_chunk\u001b[0m\u001b[0;34m(\u001b[0m\u001b[0;34m)\u001b[0m\u001b[0;34m\u001b[0m\u001b[0;34m\u001b[0m\u001b[0m\n\u001b[0m\u001b[1;32m   1030\u001b[0m         \u001b[0;32mexcept\u001b[0m \u001b[0mStopIteration\u001b[0m\u001b[0;34m:\u001b[0m\u001b[0;34m\u001b[0m\u001b[0;34m\u001b[0m\u001b[0m\n\u001b[1;32m   1031\u001b[0m             \u001b[0mself\u001b[0m\u001b[0;34m.\u001b[0m\u001b[0mclose\u001b[0m\u001b[0;34m(\u001b[0m\u001b[0;34m)\u001b[0m\u001b[0;34m\u001b[0m\u001b[0;34m\u001b[0m\u001b[0m\n",
      "\u001b[0;32m/lab/corradin_biobank/FOR_AN/OVP/corradin_ovp_utils/.venv/lib/python3.8/site-packages/pandas/io/parsers.py\u001b[0m in \u001b[0;36mget_chunk\u001b[0;34m(self, size)\u001b[0m\n\u001b[1;32m   1077\u001b[0m                 \u001b[0;32mraise\u001b[0m \u001b[0mStopIteration\u001b[0m\u001b[0;34m\u001b[0m\u001b[0;34m\u001b[0m\u001b[0m\n\u001b[1;32m   1078\u001b[0m             \u001b[0msize\u001b[0m \u001b[0;34m=\u001b[0m \u001b[0mmin\u001b[0m\u001b[0;34m(\u001b[0m\u001b[0msize\u001b[0m\u001b[0;34m,\u001b[0m \u001b[0mself\u001b[0m\u001b[0;34m.\u001b[0m\u001b[0mnrows\u001b[0m \u001b[0;34m-\u001b[0m \u001b[0mself\u001b[0m\u001b[0;34m.\u001b[0m\u001b[0m_currow\u001b[0m\u001b[0;34m)\u001b[0m\u001b[0;34m\u001b[0m\u001b[0;34m\u001b[0m\u001b[0m\n\u001b[0;32m-> 1079\u001b[0;31m         \u001b[0;32mreturn\u001b[0m \u001b[0mself\u001b[0m\u001b[0;34m.\u001b[0m\u001b[0mread\u001b[0m\u001b[0;34m(\u001b[0m\u001b[0mnrows\u001b[0m\u001b[0;34m=\u001b[0m\u001b[0msize\u001b[0m\u001b[0;34m)\u001b[0m\u001b[0;34m\u001b[0m\u001b[0;34m\u001b[0m\u001b[0m\n\u001b[0m\u001b[1;32m   1080\u001b[0m \u001b[0;34m\u001b[0m\u001b[0m\n\u001b[1;32m   1081\u001b[0m     \u001b[0;32mdef\u001b[0m \u001b[0m__enter__\u001b[0m\u001b[0;34m(\u001b[0m\u001b[0mself\u001b[0m\u001b[0;34m)\u001b[0m\u001b[0;34m:\u001b[0m\u001b[0;34m\u001b[0m\u001b[0;34m\u001b[0m\u001b[0m\n",
      "\u001b[0;32m/lab/corradin_biobank/FOR_AN/OVP/corradin_ovp_utils/.venv/lib/python3.8/site-packages/pandas/io/parsers.py\u001b[0m in \u001b[0;36mread\u001b[0;34m(self, nrows)\u001b[0m\n\u001b[1;32m   1050\u001b[0m     \u001b[0;32mdef\u001b[0m \u001b[0mread\u001b[0m\u001b[0;34m(\u001b[0m\u001b[0mself\u001b[0m\u001b[0;34m,\u001b[0m \u001b[0mnrows\u001b[0m\u001b[0;34m=\u001b[0m\u001b[0;32mNone\u001b[0m\u001b[0;34m)\u001b[0m\u001b[0;34m:\u001b[0m\u001b[0;34m\u001b[0m\u001b[0;34m\u001b[0m\u001b[0m\n\u001b[1;32m   1051\u001b[0m         \u001b[0mnrows\u001b[0m \u001b[0;34m=\u001b[0m \u001b[0mvalidate_integer\u001b[0m\u001b[0;34m(\u001b[0m\u001b[0;34m\"nrows\"\u001b[0m\u001b[0;34m,\u001b[0m \u001b[0mnrows\u001b[0m\u001b[0;34m)\u001b[0m\u001b[0;34m\u001b[0m\u001b[0;34m\u001b[0m\u001b[0m\n\u001b[0;32m-> 1052\u001b[0;31m         \u001b[0mindex\u001b[0m\u001b[0;34m,\u001b[0m \u001b[0mcolumns\u001b[0m\u001b[0;34m,\u001b[0m \u001b[0mcol_dict\u001b[0m \u001b[0;34m=\u001b[0m \u001b[0mself\u001b[0m\u001b[0;34m.\u001b[0m\u001b[0m_engine\u001b[0m\u001b[0;34m.\u001b[0m\u001b[0mread\u001b[0m\u001b[0;34m(\u001b[0m\u001b[0mnrows\u001b[0m\u001b[0;34m)\u001b[0m\u001b[0;34m\u001b[0m\u001b[0;34m\u001b[0m\u001b[0m\n\u001b[0m\u001b[1;32m   1053\u001b[0m \u001b[0;34m\u001b[0m\u001b[0m\n\u001b[1;32m   1054\u001b[0m         \u001b[0;32mif\u001b[0m \u001b[0mindex\u001b[0m \u001b[0;32mis\u001b[0m \u001b[0;32mNone\u001b[0m\u001b[0;34m:\u001b[0m\u001b[0;34m\u001b[0m\u001b[0;34m\u001b[0m\u001b[0m\n",
      "\u001b[0;32m/lab/corradin_biobank/FOR_AN/OVP/corradin_ovp_utils/.venv/lib/python3.8/site-packages/pandas/io/parsers.py\u001b[0m in \u001b[0;36mread\u001b[0;34m(self, nrows)\u001b[0m\n\u001b[1;32m   2054\u001b[0m     \u001b[0;32mdef\u001b[0m \u001b[0mread\u001b[0m\u001b[0;34m(\u001b[0m\u001b[0mself\u001b[0m\u001b[0;34m,\u001b[0m \u001b[0mnrows\u001b[0m\u001b[0;34m=\u001b[0m\u001b[0;32mNone\u001b[0m\u001b[0;34m)\u001b[0m\u001b[0;34m:\u001b[0m\u001b[0;34m\u001b[0m\u001b[0;34m\u001b[0m\u001b[0m\n\u001b[1;32m   2055\u001b[0m         \u001b[0;32mtry\u001b[0m\u001b[0;34m:\u001b[0m\u001b[0;34m\u001b[0m\u001b[0;34m\u001b[0m\u001b[0m\n\u001b[0;32m-> 2056\u001b[0;31m             \u001b[0mdata\u001b[0m \u001b[0;34m=\u001b[0m \u001b[0mself\u001b[0m\u001b[0;34m.\u001b[0m\u001b[0m_reader\u001b[0m\u001b[0;34m.\u001b[0m\u001b[0mread\u001b[0m\u001b[0;34m(\u001b[0m\u001b[0mnrows\u001b[0m\u001b[0;34m)\u001b[0m\u001b[0;34m\u001b[0m\u001b[0;34m\u001b[0m\u001b[0m\n\u001b[0m\u001b[1;32m   2057\u001b[0m         \u001b[0;32mexcept\u001b[0m \u001b[0mStopIteration\u001b[0m\u001b[0;34m:\u001b[0m\u001b[0;34m\u001b[0m\u001b[0;34m\u001b[0m\u001b[0m\n\u001b[1;32m   2058\u001b[0m             \u001b[0;32mif\u001b[0m \u001b[0mself\u001b[0m\u001b[0;34m.\u001b[0m\u001b[0m_first_chunk\u001b[0m\u001b[0;34m:\u001b[0m\u001b[0;34m\u001b[0m\u001b[0;34m\u001b[0m\u001b[0m\n",
      "\u001b[0;31mKeyboardInterrupt\u001b[0m: "
     ]
    }
   ],
   "source": [
    "next(big_gen_file_iterator)#.loc[['rs77948203', 'rs1014626']]"
   ]
  },
  {
   "cell_type": "code",
   "execution_count": 26,
   "metadata": {
    "execution": {
     "iopub.execute_input": "2021-05-04T15:48:37.325105Z",
     "iopub.status.busy": "2021-05-04T15:48:37.323883Z",
     "iopub.status.idle": "2021-05-04T15:48:41.166461Z",
     "shell.execute_reply": "2021-05-04T15:48:41.165447Z",
     "shell.execute_reply.started": "2021-05-04T15:48:37.324928Z"
    }
   },
   "outputs": [
    {
     "data": {
      "text/plain": [
       "False"
      ]
     },
     "execution_count": 26,
     "metadata": {},
     "output_type": "execute_result"
    }
   ],
   "source": [
    "big_gen_file.load(chrom=22, nrows =10).empty"
   ]
  },
  {
   "cell_type": "code",
   "execution_count": 33,
   "metadata": {
    "execution": {
     "iopub.execute_input": "2021-05-04T15:55:45.674387Z",
     "iopub.status.busy": "2021-05-04T15:55:45.673961Z",
     "iopub.status.idle": "2021-05-04T15:55:45.681240Z",
     "shell.execute_reply": "2021-05-04T15:55:45.680450Z",
     "shell.execute_reply.started": "2021-05-04T15:55:45.674344Z"
    }
   },
   "outputs": [
    {
     "data": {
      "text/plain": [
       "'rsid'"
      ]
     },
     "execution_count": 33,
     "metadata": {},
     "output_type": "execute_result"
    }
   ],
   "source": [
    "big_gen_file.rsid_col"
   ]
  },
  {
   "cell_type": "code",
   "execution_count": 76,
   "metadata": {
    "execution": {
     "iopub.execute_input": "2021-05-05T15:36:53.442536Z",
     "iopub.status.busy": "2021-05-05T15:36:53.442018Z",
     "iopub.status.idle": "2021-05-05T15:39:14.551215Z",
     "shell.execute_reply": "2021-05-05T15:39:14.550518Z",
     "shell.execute_reply.started": "2021-05-05T15:36:53.442473Z"
    }
   },
   "outputs": [
    {
     "data": {
      "text/html": [
       "<div>\n",
       "<style scoped>\n",
       "    .dataframe tbody tr th:only-of-type {\n",
       "        vertical-align: middle;\n",
       "    }\n",
       "\n",
       "    .dataframe tbody tr th {\n",
       "        vertical-align: top;\n",
       "    }\n",
       "\n",
       "    .dataframe thead th {\n",
       "        text-align: right;\n",
       "    }\n",
       "</style>\n",
       "<table border=\"1\" class=\"dataframe\">\n",
       "  <thead>\n",
       "    <tr style=\"text-align: right;\">\n",
       "      <th></th>\n",
       "      <th>dashes</th>\n",
       "      <th>rsid</th>\n",
       "      <th>position</th>\n",
       "      <th>ref</th>\n",
       "      <th>alt</th>\n",
       "      <th>sample1_1</th>\n",
       "      <th>sample1_2</th>\n",
       "      <th>sample1_3</th>\n",
       "      <th>sample2_1</th>\n",
       "      <th>sample2_2</th>\n",
       "      <th>...</th>\n",
       "      <th>sample9769_3</th>\n",
       "      <th>sample9770_1</th>\n",
       "      <th>sample9770_2</th>\n",
       "      <th>sample9770_3</th>\n",
       "      <th>sample9771_1</th>\n",
       "      <th>sample9771_2</th>\n",
       "      <th>sample9771_3</th>\n",
       "      <th>sample9772_1</th>\n",
       "      <th>sample9772_2</th>\n",
       "      <th>sample9772_3</th>\n",
       "    </tr>\n",
       "  </thead>\n",
       "  <tbody>\n",
       "    <tr>\n",
       "      <th>0</th>\n",
       "      <td>---</td>\n",
       "      <td>rs77948203</td>\n",
       "      <td>21249165</td>\n",
       "      <td>G</td>\n",
       "      <td>A</td>\n",
       "      <td>1</td>\n",
       "      <td>0</td>\n",
       "      <td>0</td>\n",
       "      <td>1</td>\n",
       "      <td>0</td>\n",
       "      <td>...</td>\n",
       "      <td>0</td>\n",
       "      <td>1</td>\n",
       "      <td>0</td>\n",
       "      <td>0</td>\n",
       "      <td>1</td>\n",
       "      <td>0</td>\n",
       "      <td>0</td>\n",
       "      <td>1</td>\n",
       "      <td>0</td>\n",
       "      <td>0</td>\n",
       "    </tr>\n",
       "    <tr>\n",
       "      <th>1</th>\n",
       "      <td>---</td>\n",
       "      <td>rs1014626</td>\n",
       "      <td>21461017</td>\n",
       "      <td>C</td>\n",
       "      <td>T</td>\n",
       "      <td>0</td>\n",
       "      <td>0</td>\n",
       "      <td>1</td>\n",
       "      <td>0</td>\n",
       "      <td>0</td>\n",
       "      <td>...</td>\n",
       "      <td>1</td>\n",
       "      <td>0</td>\n",
       "      <td>0</td>\n",
       "      <td>1</td>\n",
       "      <td>0</td>\n",
       "      <td>0</td>\n",
       "      <td>1</td>\n",
       "      <td>0</td>\n",
       "      <td>0</td>\n",
       "      <td>1</td>\n",
       "    </tr>\n",
       "  </tbody>\n",
       "</table>\n",
       "<p>2 rows × 29321 columns</p>\n",
       "</div>"
      ],
      "text/plain": [
       "  dashes        rsid  position ref alt  sample1_1  sample1_2  sample1_3  \\\n",
       "0    ---  rs77948203  21249165   G   A          1          0          0   \n",
       "1    ---   rs1014626  21461017   C   T          0          0          1   \n",
       "\n",
       "   sample2_1  sample2_2  ...  sample9769_3  sample9770_1  sample9770_2  \\\n",
       "0          1          0  ...             0             1             0   \n",
       "1          0          0  ...             1             0             0   \n",
       "\n",
       "   sample9770_3  sample9771_1  sample9771_2  sample9771_3  sample9772_1  \\\n",
       "0             0             1             0             0             1   \n",
       "1             1             0             0             1             0   \n",
       "\n",
       "   sample9772_2  sample9772_3  \n",
       "0             0             0  \n",
       "1             0             1  \n",
       "\n",
       "[2 rows x 29321 columns]"
      ]
     },
     "execution_count": 76,
     "metadata": {},
     "output_type": "execute_result"
    }
   ],
   "source": [
    "big_gen_file.load(chrom=22,  skiprows = lambda x: x not in pd.concat(all_filtered).index.values)"
   ]
  },
  {
   "cell_type": "code",
   "execution_count": 71,
   "metadata": {
    "execution": {
     "iopub.execute_input": "2021-05-05T15:06:47.673037Z",
     "iopub.status.busy": "2021-05-05T15:06:47.672512Z",
     "iopub.status.idle": "2021-05-05T15:08:28.104133Z",
     "shell.execute_reply": "2021-05-05T15:08:28.103321Z",
     "shell.execute_reply.started": "2021-05-05T15:06:47.672975Z"
    }
   },
   "outputs": [
    {
     "data": {
      "application/vnd.jupyter.widget-view+json": {
       "model_id": "2a96a8a83908405c9e0603215356cf85",
       "version_major": 2,
       "version_minor": 0
      },
      "text/plain": [
       "0it [00:00, ?it/s]"
      ]
     },
     "metadata": {},
     "output_type": "display_data"
    }
   ],
   "source": [
    "all_filtered = []\n",
    "for chunk in tqdm(big_gen_file_iterator):\n",
    "    filtered_df = chunk.query(f\"{big_gen_file.rsid_col} in ['rs77948203', 'rs1014626']\")\n",
    "    if filtered_df.empty:\n",
    "        continue\n",
    "    else:\n",
    "        all_filtered.append(filtered_df)"
   ]
  },
  {
   "cell_type": "code",
   "execution_count": 15,
   "metadata": {
    "execution": {
     "iopub.execute_input": "2021-04-20T15:54:40.650132Z",
     "iopub.status.busy": "2021-04-20T15:54:40.649647Z",
     "iopub.status.idle": "2021-04-20T15:54:50.633001Z",
     "shell.execute_reply": "2021-04-20T15:54:50.631691Z",
     "shell.execute_reply.started": "2021-04-20T15:54:40.650076Z"
    }
   },
   "outputs": [
    {
     "name": "stdout",
     "output_type": "stream",
     "text": [
      "CPU times: user 9.92 s, sys: 128 ms, total: 10 s\n",
      "Wall time: 9.97 s\n"
     ]
    }
   ],
   "source": [
    "%time test = big_gen_file.get_rsid_df(chrom=22, rsid_list=[\"rs77948203\", \"rs9610458\"])"
   ]
  },
  {
   "cell_type": "code",
   "execution_count": null,
   "metadata": {
    "execution": {
     "iopub.execute_input": "2021-04-20T15:55:24.070852Z",
     "iopub.status.busy": "2021-04-20T15:55:24.070369Z"
    }
   },
   "outputs": [
    {
     "name": "stderr",
     "output_type": "stream",
     "text": [
      "ERROR:root:Internal Python error in the inspect module.\n",
      "Below is the traceback from this internal error.\n",
      "\n",
      "ERROR:root:Internal Python error in the inspect module.\n",
      "Below is the traceback from this internal error.\n",
      "\n",
      "ERROR:root:Internal Python error in the inspect module.\n",
      "Below is the traceback from this internal error.\n",
      "\n",
      "ERROR:root:Internal Python error in the inspect module.\n",
      "Below is the traceback from this internal error.\n",
      "\n"
     ]
    }
   ],
   "source": [
    "%time test.compute()"
   ]
  },
  {
   "cell_type": "code",
   "execution_count": 113,
   "metadata": {
    "execution": {
     "iopub.execute_input": "2021-06-08T20:25:03.718772Z",
     "iopub.status.busy": "2021-06-08T20:25:03.718363Z",
     "iopub.status.idle": "2021-06-08T20:25:05.804064Z",
     "shell.execute_reply": "2021-06-08T20:25:05.803193Z",
     "shell.execute_reply.started": "2021-06-08T20:25:03.718727Z"
    }
   },
   "outputs": [
    {
     "data": {
      "text/html": [
       "<div><strong>Dask DataFrame Structure:</strong></div>\n",
       "<div>\n",
       "<style scoped>\n",
       "    .dataframe tbody tr th:only-of-type {\n",
       "        vertical-align: middle;\n",
       "    }\n",
       "\n",
       "    .dataframe tbody tr th {\n",
       "        vertical-align: top;\n",
       "    }\n",
       "\n",
       "    .dataframe thead th {\n",
       "        text-align: right;\n",
       "    }\n",
       "</style>\n",
       "<table border=\"1\" class=\"dataframe\">\n",
       "  <thead>\n",
       "    <tr style=\"text-align: right;\">\n",
       "      <th></th>\n",
       "      <th>rsid</th>\n",
       "    </tr>\n",
       "    <tr>\n",
       "      <th>npartitions=377</th>\n",
       "      <th></th>\n",
       "    </tr>\n",
       "  </thead>\n",
       "  <tbody>\n",
       "    <tr>\n",
       "      <th></th>\n",
       "      <td>object</td>\n",
       "    </tr>\n",
       "    <tr>\n",
       "      <th></th>\n",
       "      <td>...</td>\n",
       "    </tr>\n",
       "    <tr>\n",
       "      <th>...</th>\n",
       "      <td>...</td>\n",
       "    </tr>\n",
       "    <tr>\n",
       "      <th></th>\n",
       "      <td>...</td>\n",
       "    </tr>\n",
       "    <tr>\n",
       "      <th></th>\n",
       "      <td>...</td>\n",
       "    </tr>\n",
       "  </tbody>\n",
       "</table>\n",
       "</div>\n",
       "<div>Dask Name: read-csv, 377 tasks</div>"
      ],
      "text/plain": [
       "Dask DataFrame Structure:\n",
       "                   rsid\n",
       "npartitions=377        \n",
       "                 object\n",
       "                    ...\n",
       "...                 ...\n",
       "                    ...\n",
       "                    ...\n",
       "Dask Name: read-csv, 377 tasks"
      ]
     },
     "execution_count": 113,
     "metadata": {},
     "output_type": "execute_result"
    }
   ],
   "source": [
    "import dask.dataframe as dd\n",
    "dd.read_csv(big_gen_file.file_path.get_full_file_path(22), **big_gen_file.load_args, usecols=[big_gen_file.rsid_col])"
   ]
  },
  {
   "cell_type": "code",
   "execution_count": 8,
   "metadata": {
    "execution": {
     "iopub.execute_input": "2021-06-08T20:37:16.123999Z",
     "iopub.status.busy": "2021-06-08T20:37:16.123576Z",
     "iopub.status.idle": "2021-06-08T20:37:16.511415Z",
     "shell.execute_reply": "2021-06-08T20:37:16.509904Z",
     "shell.execute_reply.started": "2021-06-08T20:37:16.123953Z"
    }
   },
   "outputs": [
    {
     "name": "stdout",
     "output_type": "stream",
     "text": [
      "CPU times: user 5 µs, sys: 2 µs, total: 7 µs\n",
      "Wall time: 14.5 µs\n"
     ]
    },
    {
     "ename": "NameError",
     "evalue": "name 'test_result' is not defined",
     "output_type": "error",
     "traceback": [
      "\u001b[0;31m---------------------------------------------------------------------------\u001b[0m",
      "\u001b[0;31mNameError\u001b[0m                                 Traceback (most recent call last)",
      "\u001b[0;32m<ipython-input-8-dfbbedb4b45e>\u001b[0m in \u001b[0;36m<module>\u001b[0;34m\u001b[0m\n\u001b[1;32m      1\u001b[0m \u001b[0mget_ipython\u001b[0m\u001b[0;34m(\u001b[0m\u001b[0;34m)\u001b[0m\u001b[0;34m.\u001b[0m\u001b[0mrun_line_magic\u001b[0m\u001b[0;34m(\u001b[0m\u001b[0;34m'time'\u001b[0m\u001b[0;34m,\u001b[0m \u001b[0;34m''\u001b[0m\u001b[0;34m)\u001b[0m\u001b[0;34m\u001b[0m\u001b[0;34m\u001b[0m\u001b[0m\n\u001b[0;32m----> 2\u001b[0;31m \u001b[0mneeded_rsids\u001b[0m \u001b[0;34m=\u001b[0m \u001b[0mtest_result\u001b[0m\u001b[0;34m.\u001b[0m\u001b[0mrsid\u001b[0m\u001b[0;34m.\u001b[0m\u001b[0mtolist\u001b[0m\u001b[0;34m(\u001b[0m\u001b[0;34m)\u001b[0m\u001b[0;34m\u001b[0m\u001b[0;34m\u001b[0m\u001b[0m\n\u001b[0m\u001b[1;32m      3\u001b[0m \u001b[0mddf\u001b[0m \u001b[0;34m=\u001b[0m \u001b[0mdd\u001b[0m\u001b[0;34m.\u001b[0m\u001b[0mread_csv\u001b[0m\u001b[0;34m(\u001b[0m\u001b[0mbig_gen_file\u001b[0m\u001b[0;34m.\u001b[0m\u001b[0mfile_path\u001b[0m\u001b[0;34m.\u001b[0m\u001b[0mget_full_file_path\u001b[0m\u001b[0;34m(\u001b[0m\u001b[0;36m22\u001b[0m\u001b[0;34m)\u001b[0m\u001b[0;34m,\u001b[0m \u001b[0;34m**\u001b[0m\u001b[0mbig_gen_file\u001b[0m\u001b[0;34m.\u001b[0m\u001b[0mload_args\u001b[0m\u001b[0;34m,\u001b[0m \u001b[0musecols\u001b[0m\u001b[0;34m=\u001b[0m\u001b[0;34m[\u001b[0m\u001b[0mbig_gen_file\u001b[0m\u001b[0;34m.\u001b[0m\u001b[0mrsid_col\u001b[0m\u001b[0;34m]\u001b[0m\u001b[0;34m)\u001b[0m\u001b[0;34m.\u001b[0m\u001b[0mset_index\u001b[0m\u001b[0;34m(\u001b[0m\u001b[0;34m\"rsid\"\u001b[0m\u001b[0;34m)\u001b[0m\u001b[0;34m\u001b[0m\u001b[0;34m\u001b[0m\u001b[0m\n\u001b[1;32m      4\u001b[0m \u001b[0mddf\u001b[0m\u001b[0;34m\u001b[0m\u001b[0;34m\u001b[0m\u001b[0m\n",
      "\u001b[0;31mNameError\u001b[0m: name 'test_result' is not defined"
     ]
    }
   ],
   "source": [
    "%time \n",
    "needed_rsids = test_result.rsid.tolist()\n",
    "ddf = dd.read_csv(big_gen_file.file_path.get_full_file_path(22), **big_gen_file.load_args, usecols=[big_gen_file.rsid_col]).set_index(\"rsid\")\n",
    "ddf"
   ]
  },
  {
   "cell_type": "code",
   "execution_count": 124,
   "metadata": {
    "execution": {
     "iopub.execute_input": "2021-06-08T20:29:46.193321Z",
     "iopub.status.busy": "2021-06-08T20:29:46.192927Z",
     "iopub.status.idle": "2021-06-08T20:29:46.237986Z",
     "shell.execute_reply": "2021-06-08T20:29:46.236767Z",
     "shell.execute_reply.started": "2021-06-08T20:29:46.193277Z"
    }
   },
   "outputs": [
    {
     "ename": "KeyError",
     "evalue": "'Cannot index with list against unknown division'",
     "output_type": "error",
     "traceback": [
      "\u001b[0;31m---------------------------------------------------------------------------\u001b[0m",
      "\u001b[0;31mKeyError\u001b[0m                                  Traceback (most recent call last)",
      "\u001b[0;32m<ipython-input-124-4be4269c431c>\u001b[0m in \u001b[0;36m<module>\u001b[0;34m\u001b[0m\n\u001b[0;32m----> 1\u001b[0;31m \u001b[0mddf\u001b[0m\u001b[0;34m.\u001b[0m\u001b[0mloc\u001b[0m\u001b[0;34m[\u001b[0m\u001b[0mneeded_rsids\u001b[0m\u001b[0;34m]\u001b[0m\u001b[0;34m\u001b[0m\u001b[0;34m\u001b[0m\u001b[0m\n\u001b[0m",
      "\u001b[0;32m/lab/corradin_biobank/FOR_AN/OVP/corradin_ovp_utils/.venv/lib/python3.8/site-packages/dask/dataframe/indexing.py\u001b[0m in \u001b[0;36m__getitem__\u001b[0;34m(self, key)\u001b[0m\n\u001b[1;32m     97\u001b[0m             \u001b[0miindexer\u001b[0m \u001b[0;34m=\u001b[0m \u001b[0mkey\u001b[0m\u001b[0;34m\u001b[0m\u001b[0;34m\u001b[0m\u001b[0m\n\u001b[1;32m     98\u001b[0m             \u001b[0mcindexer\u001b[0m \u001b[0;34m=\u001b[0m \u001b[0;32mNone\u001b[0m\u001b[0;34m\u001b[0m\u001b[0;34m\u001b[0m\u001b[0m\n\u001b[0;32m---> 99\u001b[0;31m         \u001b[0;32mreturn\u001b[0m \u001b[0mself\u001b[0m\u001b[0;34m.\u001b[0m\u001b[0m_loc\u001b[0m\u001b[0;34m(\u001b[0m\u001b[0miindexer\u001b[0m\u001b[0;34m,\u001b[0m \u001b[0mcindexer\u001b[0m\u001b[0;34m)\u001b[0m\u001b[0;34m\u001b[0m\u001b[0;34m\u001b[0m\u001b[0m\n\u001b[0m\u001b[1;32m    100\u001b[0m \u001b[0;34m\u001b[0m\u001b[0m\n\u001b[1;32m    101\u001b[0m     \u001b[0;32mdef\u001b[0m \u001b[0m_loc\u001b[0m\u001b[0;34m(\u001b[0m\u001b[0mself\u001b[0m\u001b[0;34m,\u001b[0m \u001b[0miindexer\u001b[0m\u001b[0;34m,\u001b[0m \u001b[0mcindexer\u001b[0m\u001b[0;34m)\u001b[0m\u001b[0;34m:\u001b[0m\u001b[0;34m\u001b[0m\u001b[0;34m\u001b[0m\u001b[0m\n",
      "\u001b[0;32m/lab/corradin_biobank/FOR_AN/OVP/corradin_ovp_utils/.venv/lib/python3.8/site-packages/dask/dataframe/indexing.py\u001b[0m in \u001b[0;36m_loc\u001b[0;34m(self, iindexer, cindexer)\u001b[0m\n\u001b[1;32m    123\u001b[0m                 \u001b[0;31m# results in duplicated NaN rows\u001b[0m\u001b[0;34m\u001b[0m\u001b[0;34m\u001b[0m\u001b[0;34m\u001b[0m\u001b[0m\n\u001b[1;32m    124\u001b[0m                 \u001b[0mmsg\u001b[0m \u001b[0;34m=\u001b[0m \u001b[0;34m\"Cannot index with list against unknown division\"\u001b[0m\u001b[0;34m\u001b[0m\u001b[0;34m\u001b[0m\u001b[0m\n\u001b[0;32m--> 125\u001b[0;31m                 \u001b[0;32mraise\u001b[0m \u001b[0mKeyError\u001b[0m\u001b[0;34m(\u001b[0m\u001b[0mmsg\u001b[0m\u001b[0;34m)\u001b[0m\u001b[0;34m\u001b[0m\u001b[0;34m\u001b[0m\u001b[0m\n\u001b[0m\u001b[1;32m    126\u001b[0m             \u001b[0;32melif\u001b[0m \u001b[0;32mnot\u001b[0m \u001b[0misinstance\u001b[0m\u001b[0;34m(\u001b[0m\u001b[0miindexer\u001b[0m\u001b[0;34m,\u001b[0m \u001b[0mslice\u001b[0m\u001b[0;34m)\u001b[0m\u001b[0;34m:\u001b[0m\u001b[0;34m\u001b[0m\u001b[0;34m\u001b[0m\u001b[0m\n\u001b[1;32m    127\u001b[0m                 \u001b[0miindexer\u001b[0m \u001b[0;34m=\u001b[0m \u001b[0mslice\u001b[0m\u001b[0;34m(\u001b[0m\u001b[0miindexer\u001b[0m\u001b[0;34m,\u001b[0m \u001b[0miindexer\u001b[0m\u001b[0;34m)\u001b[0m\u001b[0;34m\u001b[0m\u001b[0;34m\u001b[0m\u001b[0m\n",
      "\u001b[0;31mKeyError\u001b[0m: 'Cannot index with list against unknown division'"
     ]
    }
   ],
   "source": [
    "ddf.loc[needed_rsids]"
   ]
  },
  {
   "cell_type": "code",
   "execution_count": null,
   "metadata": {
    "execution": {
     "iopub.execute_input": "2021-04-20T15:50:59.673915Z",
     "iopub.status.busy": "2021-04-20T15:50:59.673391Z"
    }
   },
   "outputs": [
    {
     "name": "stderr",
     "output_type": "stream",
     "text": [
      "\n",
      "KeyboardInterrupt\n",
      "\n"
     ]
    }
   ],
   "source": [
    "%time test.compute()"
   ]
  },
  {
   "cell_type": "code",
   "execution_count": null,
   "metadata": {},
   "outputs": [],
   "source": [
    "dd.read_csv()"
   ]
  },
  {
   "cell_type": "code",
   "execution_count": 38,
   "metadata": {
    "execution": {
     "iopub.execute_input": "2021-04-05T22:11:16.614059Z",
     "iopub.status.busy": "2021-04-05T22:11:16.613543Z",
     "iopub.status.idle": "2021-04-05T22:11:20.395323Z",
     "shell.execute_reply": "2021-04-05T22:11:20.394160Z",
     "shell.execute_reply.started": "2021-04-05T22:11:16.613994Z"
    }
   },
   "outputs": [
    {
     "ename": "ParserError",
     "evalue": "Error tokenizing data. C error: Calling read(nbytes) on source failed. Try engine='python'.",
     "output_type": "error",
     "traceback": [
      "\u001b[0;31m---------------------------------------------------------------------------\u001b[0m",
      "\u001b[0;31mParserError\u001b[0m                               Traceback (most recent call last)",
      "\u001b[0;32m<ipython-input-38-9aa3317ee5e8>\u001b[0m in \u001b[0;36m<module>\u001b[0;34m\u001b[0m\n\u001b[0;32m----> 1\u001b[0;31m \u001b[0mbig_genetic_file\u001b[0m\u001b[0;34m.\u001b[0m\u001b[0mfiles\u001b[0m\u001b[0;34m.\u001b[0m\u001b[0mcase\u001b[0m\u001b[0;34m.\u001b[0m\u001b[0mget_rsid_df\u001b[0m\u001b[0;34m(\u001b[0m\u001b[0mchrom\u001b[0m\u001b[0;34m=\u001b[0m\u001b[0;36m22\u001b[0m\u001b[0;34m,\u001b[0m \u001b[0mrsid_list\u001b[0m\u001b[0;34m=\u001b[0m\u001b[0;34m[\u001b[0m\u001b[0;34m\"rs77948203\"\u001b[0m\u001b[0;34m,\u001b[0m \u001b[0;34m\"rs9610458\"\u001b[0m\u001b[0;34m]\u001b[0m\u001b[0;34m)\u001b[0m\u001b[0;34m\u001b[0m\u001b[0;34m\u001b[0m\u001b[0m\n\u001b[0m",
      "\u001b[0;32m/lab/corradin_biobank/FOR_AN/OVP/corradin_ovp_utils/corradin_ovp_utils/datasets/genetic_file/Gen.py\u001b[0m in \u001b[0;36mget_rsid_df\u001b[0;34m(self, chrom, rsid_list, **kwargs)\u001b[0m\n\u001b[1;32m    111\u001b[0m     \u001b[0;34m@\u001b[0m\u001b[0mdelegates\u001b[0m\u001b[0;34m(\u001b[0m\u001b[0mpd\u001b[0m\u001b[0;34m.\u001b[0m\u001b[0mread_csv\u001b[0m\u001b[0;34m)\u001b[0m\u001b[0;34m\u001b[0m\u001b[0;34m\u001b[0m\u001b[0m\n\u001b[1;32m    112\u001b[0m     \u001b[0;32mdef\u001b[0m \u001b[0mget_rsid_df\u001b[0m\u001b[0;34m(\u001b[0m\u001b[0mself\u001b[0m\u001b[0;34m,\u001b[0m\u001b[0mchrom\u001b[0m\u001b[0;34m=\u001b[0m\u001b[0;32mNone\u001b[0m\u001b[0;34m,\u001b[0m \u001b[0mrsid_list\u001b[0m\u001b[0;34m=\u001b[0m\u001b[0;32mNone\u001b[0m\u001b[0;34m,\u001b[0m \u001b[0;34m**\u001b[0m\u001b[0mkwargs\u001b[0m\u001b[0;34m)\u001b[0m\u001b[0;34m:\u001b[0m\u001b[0;34m\u001b[0m\u001b[0;34m\u001b[0m\u001b[0m\n\u001b[0;32m--> 113\u001b[0;31m         \u001b[0mrsid_df\u001b[0m \u001b[0;34m=\u001b[0m \u001b[0mself\u001b[0m\u001b[0;34m.\u001b[0m\u001b[0mload\u001b[0m\u001b[0;34m(\u001b[0m\u001b[0mchrom\u001b[0m \u001b[0;34m=\u001b[0m \u001b[0mchrom\u001b[0m\u001b[0;34m,\u001b[0m \u001b[0musecols\u001b[0m \u001b[0;34m=\u001b[0m \u001b[0;34m[\u001b[0m\u001b[0mself\u001b[0m\u001b[0;34m.\u001b[0m\u001b[0mrsid_col\u001b[0m\u001b[0;34m]\u001b[0m\u001b[0;34m)\u001b[0m\u001b[0;34m\u001b[0m\u001b[0;34m\u001b[0m\u001b[0m\n\u001b[0m\u001b[1;32m    114\u001b[0m         \u001b[0;32mif\u001b[0m \u001b[0mrsid_list\u001b[0m \u001b[0;32mis\u001b[0m \u001b[0;32mnot\u001b[0m \u001b[0;32mNone\u001b[0m\u001b[0;34m:\u001b[0m\u001b[0;34m\u001b[0m\u001b[0;34m\u001b[0m\u001b[0m\n\u001b[1;32m    115\u001b[0m             \u001b[0mfound_rsid_df\u001b[0m \u001b[0;34m=\u001b[0m \u001b[0mrsid_df\u001b[0m\u001b[0;34m.\u001b[0m\u001b[0mquery\u001b[0m\u001b[0;34m(\u001b[0m\u001b[0;34mf\"{self.rsid_col} in @rsid_list\"\u001b[0m\u001b[0;34m)\u001b[0m\u001b[0;34m\u001b[0m\u001b[0;34m\u001b[0m\u001b[0m\n",
      "\u001b[0;32m/lab/corradin_biobank/FOR_AN/OVP/corradin_ovp_utils/corradin_ovp_utils/datasets/genetic_file/Gen.py\u001b[0m in \u001b[0;36mload\u001b[0;34m(self, chrom, **kwargs)\u001b[0m\n\u001b[1;32m    104\u001b[0m     \u001b[0;32mdef\u001b[0m \u001b[0mload\u001b[0m\u001b[0;34m(\u001b[0m\u001b[0mself\u001b[0m\u001b[0;34m,\u001b[0m \u001b[0mchrom\u001b[0m\u001b[0;34m=\u001b[0m\u001b[0;32mNone\u001b[0m\u001b[0;34m,\u001b[0m \u001b[0;34m**\u001b[0m\u001b[0mkwargs\u001b[0m\u001b[0;34m)\u001b[0m\u001b[0;34m:\u001b[0m\u001b[0;34m\u001b[0m\u001b[0;34m\u001b[0m\u001b[0m\n\u001b[1;32m    105\u001b[0m         \u001b[0mself\u001b[0m\u001b[0;34m.\u001b[0m\u001b[0mcurrent_file_path\u001b[0m \u001b[0;34m=\u001b[0m \u001b[0mself\u001b[0m\u001b[0;34m.\u001b[0m\u001b[0mget_resolved_file_path\u001b[0m\u001b[0;34m(\u001b[0m\u001b[0mchrom\u001b[0m\u001b[0;34m)\u001b[0m \u001b[0;31m# use another attribute so `load` and `_load_unprocessed` can share\u001b[0m\u001b[0;34m\u001b[0m\u001b[0;34m\u001b[0m\u001b[0m\n\u001b[0;32m--> 106\u001b[0;31m         \u001b[0mdf\u001b[0m \u001b[0;34m=\u001b[0m \u001b[0mpd\u001b[0m\u001b[0;34m.\u001b[0m\u001b[0mread_csv\u001b[0m\u001b[0;34m(\u001b[0m\u001b[0mfilepath_or_buffer\u001b[0m \u001b[0;34m=\u001b[0m \u001b[0mself\u001b[0m\u001b[0;34m.\u001b[0m\u001b[0mcurrent_file_path\u001b[0m\u001b[0;34m,\u001b[0m \u001b[0;34m**\u001b[0m\u001b[0mself\u001b[0m\u001b[0;34m.\u001b[0m\u001b[0mload_args\u001b[0m\u001b[0;34m,\u001b[0m \u001b[0;34m**\u001b[0m\u001b[0mkwargs\u001b[0m\u001b[0;34m)\u001b[0m\u001b[0;34m\u001b[0m\u001b[0;34m\u001b[0m\u001b[0m\n\u001b[0m\u001b[1;32m    107\u001b[0m         \u001b[0;31m#df.columns = self.column_headers\u001b[0m\u001b[0;34m\u001b[0m\u001b[0;34m\u001b[0m\u001b[0;34m\u001b[0m\u001b[0m\n\u001b[1;32m    108\u001b[0m         \u001b[0;32mreturn\u001b[0m \u001b[0mdf\u001b[0m\u001b[0;34m\u001b[0m\u001b[0;34m\u001b[0m\u001b[0m\n",
      "\u001b[0;32m/lab/corradin_biobank/FOR_AN/OVP/corradin_ovp_utils/.venv/lib/python3.8/site-packages/pandas/io/parsers.py\u001b[0m in \u001b[0;36mread_csv\u001b[0;34m(filepath_or_buffer, sep, delimiter, header, names, index_col, usecols, squeeze, prefix, mangle_dupe_cols, dtype, engine, converters, true_values, false_values, skipinitialspace, skiprows, skipfooter, nrows, na_values, keep_default_na, na_filter, verbose, skip_blank_lines, parse_dates, infer_datetime_format, keep_date_col, date_parser, dayfirst, cache_dates, iterator, chunksize, compression, thousands, decimal, lineterminator, quotechar, quoting, doublequote, escapechar, comment, encoding, dialect, error_bad_lines, warn_bad_lines, delim_whitespace, low_memory, memory_map, float_precision, storage_options)\u001b[0m\n\u001b[1;32m    603\u001b[0m     \u001b[0mkwds\u001b[0m\u001b[0;34m.\u001b[0m\u001b[0mupdate\u001b[0m\u001b[0;34m(\u001b[0m\u001b[0mkwds_defaults\u001b[0m\u001b[0;34m)\u001b[0m\u001b[0;34m\u001b[0m\u001b[0;34m\u001b[0m\u001b[0m\n\u001b[1;32m    604\u001b[0m \u001b[0;34m\u001b[0m\u001b[0m\n\u001b[0;32m--> 605\u001b[0;31m     \u001b[0;32mreturn\u001b[0m \u001b[0m_read\u001b[0m\u001b[0;34m(\u001b[0m\u001b[0mfilepath_or_buffer\u001b[0m\u001b[0;34m,\u001b[0m \u001b[0mkwds\u001b[0m\u001b[0;34m)\u001b[0m\u001b[0;34m\u001b[0m\u001b[0;34m\u001b[0m\u001b[0m\n\u001b[0m\u001b[1;32m    606\u001b[0m \u001b[0;34m\u001b[0m\u001b[0m\n\u001b[1;32m    607\u001b[0m \u001b[0;34m\u001b[0m\u001b[0m\n",
      "\u001b[0;32m/lab/corradin_biobank/FOR_AN/OVP/corradin_ovp_utils/.venv/lib/python3.8/site-packages/pandas/io/parsers.py\u001b[0m in \u001b[0;36m_read\u001b[0;34m(filepath_or_buffer, kwds)\u001b[0m\n\u001b[1;32m    461\u001b[0m \u001b[0;34m\u001b[0m\u001b[0m\n\u001b[1;32m    462\u001b[0m     \u001b[0;32mwith\u001b[0m \u001b[0mparser\u001b[0m\u001b[0;34m:\u001b[0m\u001b[0;34m\u001b[0m\u001b[0;34m\u001b[0m\u001b[0m\n\u001b[0;32m--> 463\u001b[0;31m         \u001b[0;32mreturn\u001b[0m \u001b[0mparser\u001b[0m\u001b[0;34m.\u001b[0m\u001b[0mread\u001b[0m\u001b[0;34m(\u001b[0m\u001b[0mnrows\u001b[0m\u001b[0;34m)\u001b[0m\u001b[0;34m\u001b[0m\u001b[0;34m\u001b[0m\u001b[0m\n\u001b[0m\u001b[1;32m    464\u001b[0m \u001b[0;34m\u001b[0m\u001b[0m\n\u001b[1;32m    465\u001b[0m \u001b[0;34m\u001b[0m\u001b[0m\n",
      "\u001b[0;32m/lab/corradin_biobank/FOR_AN/OVP/corradin_ovp_utils/.venv/lib/python3.8/site-packages/pandas/io/parsers.py\u001b[0m in \u001b[0;36mread\u001b[0;34m(self, nrows)\u001b[0m\n\u001b[1;32m   1050\u001b[0m     \u001b[0;32mdef\u001b[0m \u001b[0mread\u001b[0m\u001b[0;34m(\u001b[0m\u001b[0mself\u001b[0m\u001b[0;34m,\u001b[0m \u001b[0mnrows\u001b[0m\u001b[0;34m=\u001b[0m\u001b[0;32mNone\u001b[0m\u001b[0;34m)\u001b[0m\u001b[0;34m:\u001b[0m\u001b[0;34m\u001b[0m\u001b[0;34m\u001b[0m\u001b[0m\n\u001b[1;32m   1051\u001b[0m         \u001b[0mnrows\u001b[0m \u001b[0;34m=\u001b[0m \u001b[0mvalidate_integer\u001b[0m\u001b[0;34m(\u001b[0m\u001b[0;34m\"nrows\"\u001b[0m\u001b[0;34m,\u001b[0m \u001b[0mnrows\u001b[0m\u001b[0;34m)\u001b[0m\u001b[0;34m\u001b[0m\u001b[0;34m\u001b[0m\u001b[0m\n\u001b[0;32m-> 1052\u001b[0;31m         \u001b[0mindex\u001b[0m\u001b[0;34m,\u001b[0m \u001b[0mcolumns\u001b[0m\u001b[0;34m,\u001b[0m \u001b[0mcol_dict\u001b[0m \u001b[0;34m=\u001b[0m \u001b[0mself\u001b[0m\u001b[0;34m.\u001b[0m\u001b[0m_engine\u001b[0m\u001b[0;34m.\u001b[0m\u001b[0mread\u001b[0m\u001b[0;34m(\u001b[0m\u001b[0mnrows\u001b[0m\u001b[0;34m)\u001b[0m\u001b[0;34m\u001b[0m\u001b[0;34m\u001b[0m\u001b[0m\n\u001b[0m\u001b[1;32m   1053\u001b[0m \u001b[0;34m\u001b[0m\u001b[0m\n\u001b[1;32m   1054\u001b[0m         \u001b[0;32mif\u001b[0m \u001b[0mindex\u001b[0m \u001b[0;32mis\u001b[0m \u001b[0;32mNone\u001b[0m\u001b[0;34m:\u001b[0m\u001b[0;34m\u001b[0m\u001b[0;34m\u001b[0m\u001b[0m\n",
      "\u001b[0;32m/lab/corradin_biobank/FOR_AN/OVP/corradin_ovp_utils/.venv/lib/python3.8/site-packages/pandas/io/parsers.py\u001b[0m in \u001b[0;36mread\u001b[0;34m(self, nrows)\u001b[0m\n\u001b[1;32m   2054\u001b[0m     \u001b[0;32mdef\u001b[0m \u001b[0mread\u001b[0m\u001b[0;34m(\u001b[0m\u001b[0mself\u001b[0m\u001b[0;34m,\u001b[0m \u001b[0mnrows\u001b[0m\u001b[0;34m=\u001b[0m\u001b[0;32mNone\u001b[0m\u001b[0;34m)\u001b[0m\u001b[0;34m:\u001b[0m\u001b[0;34m\u001b[0m\u001b[0;34m\u001b[0m\u001b[0m\n\u001b[1;32m   2055\u001b[0m         \u001b[0;32mtry\u001b[0m\u001b[0;34m:\u001b[0m\u001b[0;34m\u001b[0m\u001b[0;34m\u001b[0m\u001b[0m\n\u001b[0;32m-> 2056\u001b[0;31m             \u001b[0mdata\u001b[0m \u001b[0;34m=\u001b[0m \u001b[0mself\u001b[0m\u001b[0;34m.\u001b[0m\u001b[0m_reader\u001b[0m\u001b[0;34m.\u001b[0m\u001b[0mread\u001b[0m\u001b[0;34m(\u001b[0m\u001b[0mnrows\u001b[0m\u001b[0;34m)\u001b[0m\u001b[0;34m\u001b[0m\u001b[0;34m\u001b[0m\u001b[0m\n\u001b[0m\u001b[1;32m   2057\u001b[0m         \u001b[0;32mexcept\u001b[0m \u001b[0mStopIteration\u001b[0m\u001b[0;34m:\u001b[0m\u001b[0;34m\u001b[0m\u001b[0;34m\u001b[0m\u001b[0m\n\u001b[1;32m   2058\u001b[0m             \u001b[0;32mif\u001b[0m \u001b[0mself\u001b[0m\u001b[0;34m.\u001b[0m\u001b[0m_first_chunk\u001b[0m\u001b[0;34m:\u001b[0m\u001b[0;34m\u001b[0m\u001b[0;34m\u001b[0m\u001b[0m\n",
      "\u001b[0;32mpandas/_libs/parsers.pyx\u001b[0m in \u001b[0;36mpandas._libs.parsers.TextReader.read\u001b[0;34m()\u001b[0m\n",
      "\u001b[0;32mpandas/_libs/parsers.pyx\u001b[0m in \u001b[0;36mpandas._libs.parsers.TextReader._read_low_memory\u001b[0;34m()\u001b[0m\n",
      "\u001b[0;32mpandas/_libs/parsers.pyx\u001b[0m in \u001b[0;36mpandas._libs.parsers.TextReader._read_rows\u001b[0;34m()\u001b[0m\n",
      "\u001b[0;32mpandas/_libs/parsers.pyx\u001b[0m in \u001b[0;36mpandas._libs.parsers.TextReader._tokenize_rows\u001b[0;34m()\u001b[0m\n",
      "\u001b[0;32mpandas/_libs/parsers.pyx\u001b[0m in \u001b[0;36mpandas._libs.parsers.raise_parser_error\u001b[0;34m()\u001b[0m\n",
      "\u001b[0;31mParserError\u001b[0m: Error tokenizing data. C error: Calling read(nbytes) on source failed. Try engine='python'."
     ]
    }
   ],
   "source": [
    "big_genetic_file.files.case.get_rsid_df(chrom=22, rsid_list=[\"rs77948203\", \"rs9610458\"])"
   ]
  },
  {
   "cell_type": "code",
   "execution_count": 25,
   "metadata": {
    "execution": {
     "iopub.execute_input": "2021-04-05T22:04:45.343593Z",
     "iopub.status.busy": "2021-04-05T22:04:45.343078Z",
     "iopub.status.idle": "2021-04-05T22:07:13.434272Z",
     "shell.execute_reply": "2021-04-05T22:07:13.432890Z",
     "shell.execute_reply.started": "2021-04-05T22:04:45.343536Z"
    }
   },
   "outputs": [
    {
     "name": "stdout",
     "output_type": "stream",
     "text": [
      "CPU times: user 2min 7s, sys: 8.66 s, total: 2min 16s\n",
      "Wall time: 2min 28s\n"
     ]
    },
    {
     "data": {
      "text/html": [
       "<div>\n",
       "<style scoped>\n",
       "    .dataframe tbody tr th:only-of-type {\n",
       "        vertical-align: middle;\n",
       "    }\n",
       "\n",
       "    .dataframe tbody tr th {\n",
       "        vertical-align: top;\n",
       "    }\n",
       "\n",
       "    .dataframe thead th {\n",
       "        text-align: right;\n",
       "    }\n",
       "</style>\n",
       "<table border=\"1\" class=\"dataframe\">\n",
       "  <thead>\n",
       "    <tr style=\"text-align: right;\">\n",
       "      <th></th>\n",
       "      <th>rsid</th>\n",
       "    </tr>\n",
       "  </thead>\n",
       "  <tbody>\n",
       "    <tr>\n",
       "      <th>0</th>\n",
       "      <td>rs149201999</td>\n",
       "    </tr>\n",
       "    <tr>\n",
       "      <th>1</th>\n",
       "      <td>rs146752890</td>\n",
       "    </tr>\n",
       "    <tr>\n",
       "      <th>2</th>\n",
       "      <td>rs139377059</td>\n",
       "    </tr>\n",
       "    <tr>\n",
       "      <th>3</th>\n",
       "      <td>rs188945759</td>\n",
       "    </tr>\n",
       "    <tr>\n",
       "      <th>4</th>\n",
       "      <td>rs6518357</td>\n",
       "    </tr>\n",
       "    <tr>\n",
       "      <th>...</th>\n",
       "      <td>...</td>\n",
       "    </tr>\n",
       "    <tr>\n",
       "      <th>365639</th>\n",
       "      <td>rs188271599</td>\n",
       "    </tr>\n",
       "    <tr>\n",
       "      <th>365640</th>\n",
       "      <td>rs149733995</td>\n",
       "    </tr>\n",
       "    <tr>\n",
       "      <th>365641</th>\n",
       "      <td>rs143849140</td>\n",
       "    </tr>\n",
       "    <tr>\n",
       "      <th>365642</th>\n",
       "      <td>rs140611932</td>\n",
       "    </tr>\n",
       "    <tr>\n",
       "      <th>365643</th>\n",
       "      <td>rs181833046</td>\n",
       "    </tr>\n",
       "  </tbody>\n",
       "</table>\n",
       "<p>365644 rows × 1 columns</p>\n",
       "</div>"
      ],
      "text/plain": [
       "               rsid\n",
       "0       rs149201999\n",
       "1       rs146752890\n",
       "2       rs139377059\n",
       "3       rs188945759\n",
       "4         rs6518357\n",
       "...             ...\n",
       "365639  rs188271599\n",
       "365640  rs149733995\n",
       "365641  rs143849140\n",
       "365642  rs140611932\n",
       "365643  rs181833046\n",
       "\n",
       "[365644 rows x 1 columns]"
      ]
     },
     "execution_count": 25,
     "metadata": {},
     "output_type": "execute_result"
    }
   ],
   "source": [
    "%time big_genetic_file.files.case.load(chrom= 22, usecols =[big_genetic_file.files.case.rsid_col], chunksize=1000)"
   ]
  },
  {
   "cell_type": "code",
   "execution_count": null,
   "metadata": {},
   "outputs": [],
   "source": []
  }
 ],
 "metadata": {
  "kernelspec": {
   "display_name": "Python 3",
   "language": "python",
   "name": "python3"
  },
  "language_info": {
   "codemirror_mode": {
    "name": "ipython",
    "version": 3
   },
   "file_extension": ".py",
   "mimetype": "text/x-python",
   "name": "python",
   "nbconvert_exporter": "python",
   "pygments_lexer": "ipython3",
   "version": "3.8.7"
  }
 },
 "nbformat": 4,
 "nbformat_minor": 4
}
