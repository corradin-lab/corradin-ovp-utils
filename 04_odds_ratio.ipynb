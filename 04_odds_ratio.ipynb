{
 "cells": [
  {
   "cell_type": "code",
   "execution_count": null,
   "metadata": {},
   "outputs": [],
   "source": [
    "# default_exp odds_ratio"
   ]
  },
  {
   "cell_type": "markdown",
   "metadata": {},
   "source": [
    "# module name here\n",
    "\n",
    "> API details."
   ]
  },
  {
   "cell_type": "code",
   "execution_count": null,
   "metadata": {},
   "outputs": [],
   "source": [
    "#hide\n",
    "from nbdev.showdoc import *\n",
    "import numpy as np\n",
    "from corradin_ovp_utils.catalog import test_data_catalog, conf_test_data_catalog\n",
    "from fastcore.test import ExceptionExpected"
   ]
  },
  {
   "cell_type": "code",
   "execution_count": null,
   "metadata": {},
   "outputs": [
    {
     "name": "stderr",
     "output_type": "stream",
     "text": [
      "/Users/ahoang/Documents/Learning/nbdev_tutorial_2nd_try/.venv/lib/python3.8/site-packages/ipykernel/ipkernel.py:283: DeprecationWarning: `should_run_async` will not call `transform_cell` automatically in the future. Please pass the result to `transformed_cell` argument and any exception that happen during thetransform in `preprocessing_exc_tuple` in IPython 7.17 and above.\n",
      "  and should_run_async(code)\n"
     ]
    }
   ],
   "source": [
    "#export\n",
    "import pandas as pd\n",
    "from typing import Any, Dict, List, Optional, Literal, Union\n",
    "from dataclasses import dataclass"
   ]
  },
  {
   "cell_type": "code",
   "execution_count": null,
   "metadata": {},
   "outputs": [],
   "source": [
    "geno_each_sample = test_data_catalog.load(\"geno_each_sample\")"
   ]
  },
  {
   "cell_type": "code",
   "execution_count": null,
   "metadata": {},
   "outputs": [
    {
     "data": {
      "text/html": [
       "<div>\n",
       "<style scoped>\n",
       "    .dataframe tbody tr th:only-of-type {\n",
       "        vertical-align: middle;\n",
       "    }\n",
       "\n",
       "    .dataframe tbody tr th {\n",
       "        vertical-align: top;\n",
       "    }\n",
       "\n",
       "    .dataframe thead th {\n",
       "        text-align: right;\n",
       "    }\n",
       "</style>\n",
       "<table border=\"1\" class=\"dataframe\">\n",
       "  <thead>\n",
       "    <tr style=\"text-align: right;\">\n",
       "      <th></th>\n",
       "      <th>rs77948203</th>\n",
       "      <th>rs1014626</th>\n",
       "      <th>rs9610458</th>\n",
       "      <th>rs5762201</th>\n",
       "      <th>rs1004237</th>\n",
       "      <th>rs134490</th>\n",
       "      <th>rs4821519</th>\n",
       "      <th>rs1003500</th>\n",
       "      <th>rs5756405</th>\n",
       "    </tr>\n",
       "    <tr>\n",
       "      <th>sample_id</th>\n",
       "      <th></th>\n",
       "      <th></th>\n",
       "      <th></th>\n",
       "      <th></th>\n",
       "      <th></th>\n",
       "      <th></th>\n",
       "      <th></th>\n",
       "      <th></th>\n",
       "      <th></th>\n",
       "    </tr>\n",
       "  </thead>\n",
       "  <tbody>\n",
       "    <tr>\n",
       "      <th>sample1</th>\n",
       "      <td>GG</td>\n",
       "      <td>TT</td>\n",
       "      <td>TT</td>\n",
       "      <td>GG</td>\n",
       "      <td>CC</td>\n",
       "      <td>NaN</td>\n",
       "      <td>GG</td>\n",
       "      <td>CC</td>\n",
       "      <td>AG</td>\n",
       "    </tr>\n",
       "    <tr>\n",
       "      <th>sample10</th>\n",
       "      <td>GG</td>\n",
       "      <td>TT</td>\n",
       "      <td>TT</td>\n",
       "      <td>GG</td>\n",
       "      <td>CC</td>\n",
       "      <td>TT</td>\n",
       "      <td>GG</td>\n",
       "      <td>CC</td>\n",
       "      <td>AG</td>\n",
       "    </tr>\n",
       "    <tr>\n",
       "      <th>sample100</th>\n",
       "      <td>GG</td>\n",
       "      <td>TT</td>\n",
       "      <td>TT</td>\n",
       "      <td>GG</td>\n",
       "      <td>CC</td>\n",
       "      <td>TT</td>\n",
       "      <td>GG</td>\n",
       "      <td>CC</td>\n",
       "      <td>AG</td>\n",
       "    </tr>\n",
       "    <tr>\n",
       "      <th>sample1000</th>\n",
       "      <td>AG</td>\n",
       "      <td>TT</td>\n",
       "      <td>CT</td>\n",
       "      <td>GG</td>\n",
       "      <td>CC</td>\n",
       "      <td>CT</td>\n",
       "      <td>GG</td>\n",
       "      <td>CC</td>\n",
       "      <td>AA</td>\n",
       "    </tr>\n",
       "    <tr>\n",
       "      <th>sample1001</th>\n",
       "      <td>GG</td>\n",
       "      <td>TT</td>\n",
       "      <td>TT</td>\n",
       "      <td>GG</td>\n",
       "      <td>CC</td>\n",
       "      <td>CT</td>\n",
       "      <td>CG</td>\n",
       "      <td>CC</td>\n",
       "      <td>AG</td>\n",
       "    </tr>\n",
       "    <tr>\n",
       "      <th>...</th>\n",
       "      <td>...</td>\n",
       "      <td>...</td>\n",
       "      <td>...</td>\n",
       "      <td>...</td>\n",
       "      <td>...</td>\n",
       "      <td>...</td>\n",
       "      <td>...</td>\n",
       "      <td>...</td>\n",
       "      <td>...</td>\n",
       "    </tr>\n",
       "    <tr>\n",
       "      <th>sample995</th>\n",
       "      <td>GG</td>\n",
       "      <td>TT</td>\n",
       "      <td>CT</td>\n",
       "      <td>GG</td>\n",
       "      <td>CC</td>\n",
       "      <td>CT</td>\n",
       "      <td>CC</td>\n",
       "      <td>CC</td>\n",
       "      <td>AG</td>\n",
       "    </tr>\n",
       "    <tr>\n",
       "      <th>sample996</th>\n",
       "      <td>GG</td>\n",
       "      <td>TT</td>\n",
       "      <td>CT</td>\n",
       "      <td>GG</td>\n",
       "      <td>CC</td>\n",
       "      <td>TT</td>\n",
       "      <td>GG</td>\n",
       "      <td>CC</td>\n",
       "      <td>AG</td>\n",
       "    </tr>\n",
       "    <tr>\n",
       "      <th>sample997</th>\n",
       "      <td>GG</td>\n",
       "      <td>TT</td>\n",
       "      <td>CT</td>\n",
       "      <td>AG</td>\n",
       "      <td>CC</td>\n",
       "      <td>TT</td>\n",
       "      <td>GG</td>\n",
       "      <td>CC</td>\n",
       "      <td>AG</td>\n",
       "    </tr>\n",
       "    <tr>\n",
       "      <th>sample998</th>\n",
       "      <td>GG</td>\n",
       "      <td>TT</td>\n",
       "      <td>CT</td>\n",
       "      <td>GG</td>\n",
       "      <td>CC</td>\n",
       "      <td>TT</td>\n",
       "      <td>GG</td>\n",
       "      <td>CC</td>\n",
       "      <td>AA</td>\n",
       "    </tr>\n",
       "    <tr>\n",
       "      <th>sample999</th>\n",
       "      <td>GG</td>\n",
       "      <td>TT</td>\n",
       "      <td>CT</td>\n",
       "      <td>AG</td>\n",
       "      <td>CC</td>\n",
       "      <td>TT</td>\n",
       "      <td>GG</td>\n",
       "      <td>CC</td>\n",
       "      <td>AG</td>\n",
       "    </tr>\n",
       "  </tbody>\n",
       "</table>\n",
       "<p>9772 rows × 9 columns</p>\n",
       "</div>"
      ],
      "text/plain": [
       "           rs77948203 rs1014626 rs9610458 rs5762201 rs1004237 rs134490  \\\n",
       "sample_id                                                                \n",
       "sample1            GG        TT        TT        GG        CC      NaN   \n",
       "sample10           GG        TT        TT        GG        CC       TT   \n",
       "sample100          GG        TT        TT        GG        CC       TT   \n",
       "sample1000         AG        TT        CT        GG        CC       CT   \n",
       "sample1001         GG        TT        TT        GG        CC       CT   \n",
       "...               ...       ...       ...       ...       ...      ...   \n",
       "sample995          GG        TT        CT        GG        CC       CT   \n",
       "sample996          GG        TT        CT        GG        CC       TT   \n",
       "sample997          GG        TT        CT        AG        CC       TT   \n",
       "sample998          GG        TT        CT        GG        CC       TT   \n",
       "sample999          GG        TT        CT        AG        CC       TT   \n",
       "\n",
       "           rs4821519 rs1003500 rs5756405  \n",
       "sample_id                                 \n",
       "sample1           GG        CC        AG  \n",
       "sample10          GG        CC        AG  \n",
       "sample100         GG        CC        AG  \n",
       "sample1000        GG        CC        AA  \n",
       "sample1001        CG        CC        AG  \n",
       "...              ...       ...       ...  \n",
       "sample995         CC        CC        AG  \n",
       "sample996         GG        CC        AG  \n",
       "sample997         GG        CC        AG  \n",
       "sample998         GG        CC        AA  \n",
       "sample999         GG        CC        AG  \n",
       "\n",
       "[9772 rows x 9 columns]"
      ]
     },
     "execution_count": null,
     "metadata": {},
     "output_type": "execute_result"
    }
   ],
   "source": [
    "geno_each_sample"
   ]
  },
  {
   "cell_type": "code",
   "execution_count": null,
   "metadata": {},
   "outputs": [
    {
     "name": "stderr",
     "output_type": "stream",
     "text": [
      "/Users/ahoang/Documents/Learning/nbdev_tutorial_2nd_try/.venv/lib/python3.8/site-packages/ipykernel/ipkernel.py:283: DeprecationWarning: `should_run_async` will not call `transform_cell` automatically in the future. Please pass the result to `transformed_cell` argument and any exception that happen during thetransform in `preprocessing_exc_tuple` in IPython 7.17 and above.\n",
      "  and should_run_async(code)\n"
     ]
    }
   ],
   "source": [
    "#export\n",
    "\n",
    "@dataclass\n",
    "class RsidComboInfo():\n",
    "    df: pd.DataFrame\n",
    "    rsid_list: List[str]\n",
    "    NA_val: str\n",
    "\n",
    "    def query(self, **rsid_dict):\n",
    "        if not all([rsid in self.rsid_list for rsid in rsid_dict.keys()]):\n",
    "            raise ValueError(\"Some Rsid are not in the dataframe\")\n",
    "        filtered_df = self.df.copy()\n",
    "        for rsid, geno in rsid_dict.items():\n",
    "            filtered_df = filtered_df.query(f\"{rsid} == '{geno}'\")\n",
    "        return filtered_df\n",
    "    \n",
    "    def get_all_genos(self, rsid:str):\n",
    "        return self.df[rsid].unique()\n",
    "    \n",
    "    @property\n",
    "    def total_samples_with_NA(self):\n",
    "        return self.df.unique_samples_count.sum()\n",
    "    \n",
    "    @property\n",
    "    def num_samples_NA(self):\n",
    "        return self.df.loc[(self.df[self.rsid_list] == self.NA_val).any(axis=1)].unique_samples_count.sum()\n",
    "    @property\n",
    "    def total_samples_no_NA(self):\n",
    "        return self.total_samples_with_NA  - self.num_samples_NA\n",
    "    \n",
    "    def __repr__(self):\n",
    "        return f\"{self.__class__}(rsid_list = {self.rsid_list}, NA_val = '{self.NA_val}')\"\n",
    "    \n",
    "def get_geno_combination_df(geno_each_sample_df: pd.DataFrame, rsid_list:List[str], NA_val=\"NA\", as_df= False):\n",
    "    #geno_each_sample_df[[\"rs77948203\", \"rs1014626\", \"rs1004237\"]].reset_index().groupby([\"rs77948203\", \"rs1014626\", \"rs1004237\"])[\"sample_id\"].unique().reset_index()\n",
    "    geno_combination_df = geno_each_sample_df[rsid_list].fillna(NA_val).reset_index().groupby(rsid_list)[\"sample_id\"].agg(**{\"unique_samples_id\":\"unique\", \"unique_samples_count\": \"nunique\"}).reset_index()\n",
    "    if as_df:\n",
    "        return geno_combination_df\n",
    "    else:\n",
    "        info_obj = RsidComboInfo(df= geno_combination_df, rsid_list = rsid_list, NA_val= NA_val)\n",
    "    return info_obj\n",
    "    "
   ]
  },
  {
   "cell_type": "code",
   "execution_count": null,
   "metadata": {},
   "outputs": [
    {
     "data": {
      "text/plain": [
       "<class '__main__.RsidComboInfo'>(rsid_list = ['rs77948203'], NA_val = 'NA')"
      ]
     },
     "execution_count": null,
     "metadata": {},
     "output_type": "execute_result"
    }
   ],
   "source": [
    "test_rsid_info_obj = get_geno_combination_df(geno_each_sample,[\"rs77948203\"])\n",
    "test_rsid_info_obj"
   ]
  },
  {
   "cell_type": "code",
   "execution_count": null,
   "metadata": {},
   "outputs": [
    {
     "data": {
      "text/html": [
       "<div>\n",
       "<style scoped>\n",
       "    .dataframe tbody tr th:only-of-type {\n",
       "        vertical-align: middle;\n",
       "    }\n",
       "\n",
       "    .dataframe tbody tr th {\n",
       "        vertical-align: top;\n",
       "    }\n",
       "\n",
       "    .dataframe thead th {\n",
       "        text-align: right;\n",
       "    }\n",
       "</style>\n",
       "<table border=\"1\" class=\"dataframe\">\n",
       "  <thead>\n",
       "    <tr style=\"text-align: right;\">\n",
       "      <th></th>\n",
       "      <th>rs77948203</th>\n",
       "      <th>unique_samples_id</th>\n",
       "      <th>unique_samples_count</th>\n",
       "    </tr>\n",
       "  </thead>\n",
       "  <tbody>\n",
       "    <tr>\n",
       "      <th>0</th>\n",
       "      <td>AA</td>\n",
       "      <td>[sample1445, sample1545, sample2271, sample237...</td>\n",
       "      <td>46</td>\n",
       "    </tr>\n",
       "    <tr>\n",
       "      <th>1</th>\n",
       "      <td>AG</td>\n",
       "      <td>[sample1000, sample1002, sample1025, sample102...</td>\n",
       "      <td>1227</td>\n",
       "    </tr>\n",
       "    <tr>\n",
       "      <th>2</th>\n",
       "      <td>GG</td>\n",
       "      <td>[sample1, sample10, sample100, sample1001, sam...</td>\n",
       "      <td>8499</td>\n",
       "    </tr>\n",
       "  </tbody>\n",
       "</table>\n",
       "</div>"
      ],
      "text/plain": [
       "  rs77948203                                  unique_samples_id  \\\n",
       "0         AA  [sample1445, sample1545, sample2271, sample237...   \n",
       "1         AG  [sample1000, sample1002, sample1025, sample102...   \n",
       "2         GG  [sample1, sample10, sample100, sample1001, sam...   \n",
       "\n",
       "   unique_samples_count  \n",
       "0                    46  \n",
       "1                  1227  \n",
       "2                  8499  "
      ]
     },
     "execution_count": null,
     "metadata": {},
     "output_type": "execute_result"
    }
   ],
   "source": [
    "test_rsid_info_obj.df"
   ]
  },
  {
   "cell_type": "code",
   "execution_count": null,
   "metadata": {},
   "outputs": [
    {
     "name": "stderr",
     "output_type": "stream",
     "text": [
      "/Users/ahoang/Documents/Learning/nbdev_tutorial_2nd_try/.venv/lib/python3.8/site-packages/ipykernel/ipkernel.py:283: DeprecationWarning: `should_run_async` will not call `transform_cell` automatically in the future. Please pass the result to `transformed_cell` argument and any exception that happen during thetransform in `preprocessing_exc_tuple` in IPython 7.17 and above.\n",
      "  and should_run_async(code)\n"
     ]
    }
   ],
   "source": [
    "assert test_rsid_info_obj.df.equals(geno_each_sample[\"rs77948203\"].fillna(\"NA\").reset_index().groupby(\"rs77948203\")[\"sample_id\"].agg(**{\"unique_samples_id\":\"unique\", \"unique_samples_count\": \"nunique\"}).reset_index())\n",
    "assert test_rsid_info_obj.rsid_list == ['rs77948203']"
   ]
  },
  {
   "cell_type": "markdown",
   "metadata": {},
   "source": [
    "---"
   ]
  },
  {
   "cell_type": "code",
   "execution_count": null,
   "metadata": {},
   "outputs": [
    {
     "data": {
      "text/html": [
       "<div>\n",
       "<style scoped>\n",
       "    .dataframe tbody tr th:only-of-type {\n",
       "        vertical-align: middle;\n",
       "    }\n",
       "\n",
       "    .dataframe tbody tr th {\n",
       "        vertical-align: top;\n",
       "    }\n",
       "\n",
       "    .dataframe thead th {\n",
       "        text-align: right;\n",
       "    }\n",
       "</style>\n",
       "<table border=\"1\" class=\"dataframe\">\n",
       "  <thead>\n",
       "    <tr style=\"text-align: right;\">\n",
       "      <th></th>\n",
       "      <th>rs77948203</th>\n",
       "      <th>unique_samples_id</th>\n",
       "      <th>unique_samples_count</th>\n",
       "    </tr>\n",
       "  </thead>\n",
       "  <tbody>\n",
       "    <tr>\n",
       "      <th>0</th>\n",
       "      <td>AA</td>\n",
       "      <td>[sample1445, sample1545, sample2271, sample237...</td>\n",
       "      <td>46</td>\n",
       "    </tr>\n",
       "  </tbody>\n",
       "</table>\n",
       "</div>"
      ],
      "text/plain": [
       "  rs77948203                                  unique_samples_id  \\\n",
       "0         AA  [sample1445, sample1545, sample2271, sample237...   \n",
       "\n",
       "   unique_samples_count  \n",
       "0                    46  "
      ]
     },
     "execution_count": null,
     "metadata": {},
     "output_type": "execute_result"
    }
   ],
   "source": [
    "get_geno_combination_df(geno_each_sample,[\"rs77948203\"]).query(rs77948203='AA')"
   ]
  },
  {
   "cell_type": "code",
   "execution_count": null,
   "metadata": {},
   "outputs": [
    {
     "data": {
      "text/html": [
       "<div>\n",
       "<style scoped>\n",
       "    .dataframe tbody tr th:only-of-type {\n",
       "        vertical-align: middle;\n",
       "    }\n",
       "\n",
       "    .dataframe tbody tr th {\n",
       "        vertical-align: top;\n",
       "    }\n",
       "\n",
       "    .dataframe thead th {\n",
       "        text-align: right;\n",
       "    }\n",
       "</style>\n",
       "<table border=\"1\" class=\"dataframe\">\n",
       "  <thead>\n",
       "    <tr style=\"text-align: right;\">\n",
       "      <th></th>\n",
       "      <th>rs77948203</th>\n",
       "      <th>rs1014626</th>\n",
       "      <th>unique_samples_id</th>\n",
       "      <th>unique_samples_count</th>\n",
       "    </tr>\n",
       "  </thead>\n",
       "  <tbody>\n",
       "    <tr>\n",
       "      <th>0</th>\n",
       "      <td>AA</td>\n",
       "      <td>TT</td>\n",
       "      <td>[sample1445, sample1545, sample2271, sample237...</td>\n",
       "      <td>46</td>\n",
       "    </tr>\n",
       "    <tr>\n",
       "      <th>1</th>\n",
       "      <td>AG</td>\n",
       "      <td>CT</td>\n",
       "      <td>[sample5663, sample5840]</td>\n",
       "      <td>2</td>\n",
       "    </tr>\n",
       "    <tr>\n",
       "      <th>2</th>\n",
       "      <td>AG</td>\n",
       "      <td>NA</td>\n",
       "      <td>[sample297]</td>\n",
       "      <td>1</td>\n",
       "    </tr>\n",
       "    <tr>\n",
       "      <th>3</th>\n",
       "      <td>AG</td>\n",
       "      <td>TT</td>\n",
       "      <td>[sample1000, sample1002, sample1025, sample102...</td>\n",
       "      <td>1224</td>\n",
       "    </tr>\n",
       "    <tr>\n",
       "      <th>4</th>\n",
       "      <td>GG</td>\n",
       "      <td>CT</td>\n",
       "      <td>[sample1264, sample1359, sample1960, sample220...</td>\n",
       "      <td>26</td>\n",
       "    </tr>\n",
       "    <tr>\n",
       "      <th>5</th>\n",
       "      <td>GG</td>\n",
       "      <td>NA</td>\n",
       "      <td>[sample1378, sample1496, sample2247, sample391...</td>\n",
       "      <td>8</td>\n",
       "    </tr>\n",
       "    <tr>\n",
       "      <th>6</th>\n",
       "      <td>GG</td>\n",
       "      <td>TT</td>\n",
       "      <td>[sample1, sample10, sample100, sample1001, sam...</td>\n",
       "      <td>8465</td>\n",
       "    </tr>\n",
       "  </tbody>\n",
       "</table>\n",
       "</div>"
      ],
      "text/plain": [
       "  rs77948203 rs1014626                                  unique_samples_id  \\\n",
       "0         AA        TT  [sample1445, sample1545, sample2271, sample237...   \n",
       "1         AG        CT                           [sample5663, sample5840]   \n",
       "2         AG        NA                                        [sample297]   \n",
       "3         AG        TT  [sample1000, sample1002, sample1025, sample102...   \n",
       "4         GG        CT  [sample1264, sample1359, sample1960, sample220...   \n",
       "5         GG        NA  [sample1378, sample1496, sample2247, sample391...   \n",
       "6         GG        TT  [sample1, sample10, sample100, sample1001, sam...   \n",
       "\n",
       "   unique_samples_count  \n",
       "0                    46  \n",
       "1                     2  \n",
       "2                     1  \n",
       "3                  1224  \n",
       "4                    26  \n",
       "5                     8  \n",
       "6                  8465  "
      ]
     },
     "execution_count": null,
     "metadata": {},
     "output_type": "execute_result"
    }
   ],
   "source": [
    "get_geno_combination_df(geno_each_sample,[\"rs77948203\", \"rs1014626\"]).df"
   ]
  },
  {
   "cell_type": "markdown",
   "metadata": {},
   "source": [
    "You can query multiple genotypes by passing in keyword arguments or a dictionary"
   ]
  },
  {
   "cell_type": "code",
   "execution_count": null,
   "metadata": {},
   "outputs": [
    {
     "name": "stderr",
     "output_type": "stream",
     "text": [
      "/Users/ahoang/Documents/Learning/nbdev_tutorial_2nd_try/.venv/lib/python3.8/site-packages/ipykernel/ipkernel.py:283: DeprecationWarning: `should_run_async` will not call `transform_cell` automatically in the future. Please pass the result to `transformed_cell` argument and any exception that happen during thetransform in `preprocessing_exc_tuple` in IPython 7.17 and above.\n",
      "  and should_run_async(code)\n"
     ]
    },
    {
     "data": {
      "text/html": [
       "<div>\n",
       "<style scoped>\n",
       "    .dataframe tbody tr th:only-of-type {\n",
       "        vertical-align: middle;\n",
       "    }\n",
       "\n",
       "    .dataframe tbody tr th {\n",
       "        vertical-align: top;\n",
       "    }\n",
       "\n",
       "    .dataframe thead th {\n",
       "        text-align: right;\n",
       "    }\n",
       "</style>\n",
       "<table border=\"1\" class=\"dataframe\">\n",
       "  <thead>\n",
       "    <tr style=\"text-align: right;\">\n",
       "      <th></th>\n",
       "      <th>rs77948203</th>\n",
       "      <th>rs1014626</th>\n",
       "      <th>unique_samples_id</th>\n",
       "      <th>unique_samples_count</th>\n",
       "    </tr>\n",
       "  </thead>\n",
       "  <tbody>\n",
       "    <tr>\n",
       "      <th>3</th>\n",
       "      <td>AG</td>\n",
       "      <td>TT</td>\n",
       "      <td>[sample1000, sample1002, sample1025, sample102...</td>\n",
       "      <td>1224</td>\n",
       "    </tr>\n",
       "  </tbody>\n",
       "</table>\n",
       "</div>"
      ],
      "text/plain": [
       "  rs77948203 rs1014626                                  unique_samples_id  \\\n",
       "3         AG        TT  [sample1000, sample1002, sample1025, sample102...   \n",
       "\n",
       "   unique_samples_count  \n",
       "3                  1224  "
      ]
     },
     "execution_count": null,
     "metadata": {},
     "output_type": "execute_result"
    }
   ],
   "source": [
    "query_result_1 = get_geno_combination_df(geno_each_sample,[\"rs77948203\", \"rs1014626\"]).query(rs77948203= 'AG', rs1014626= 'TT')\n",
    "query_result_1"
   ]
  },
  {
   "cell_type": "code",
   "execution_count": null,
   "metadata": {},
   "outputs": [
    {
     "name": "stderr",
     "output_type": "stream",
     "text": [
      "/Users/ahoang/Documents/Learning/nbdev_tutorial_2nd_try/.venv/lib/python3.8/site-packages/ipykernel/ipkernel.py:283: DeprecationWarning: `should_run_async` will not call `transform_cell` automatically in the future. Please pass the result to `transformed_cell` argument and any exception that happen during thetransform in `preprocessing_exc_tuple` in IPython 7.17 and above.\n",
      "  and should_run_async(code)\n"
     ]
    },
    {
     "data": {
      "text/html": [
       "<div>\n",
       "<style scoped>\n",
       "    .dataframe tbody tr th:only-of-type {\n",
       "        vertical-align: middle;\n",
       "    }\n",
       "\n",
       "    .dataframe tbody tr th {\n",
       "        vertical-align: top;\n",
       "    }\n",
       "\n",
       "    .dataframe thead th {\n",
       "        text-align: right;\n",
       "    }\n",
       "</style>\n",
       "<table border=\"1\" class=\"dataframe\">\n",
       "  <thead>\n",
       "    <tr style=\"text-align: right;\">\n",
       "      <th></th>\n",
       "      <th>rs77948203</th>\n",
       "      <th>rs1014626</th>\n",
       "      <th>unique_samples_id</th>\n",
       "      <th>unique_samples_count</th>\n",
       "    </tr>\n",
       "  </thead>\n",
       "  <tbody>\n",
       "    <tr>\n",
       "      <th>3</th>\n",
       "      <td>AG</td>\n",
       "      <td>TT</td>\n",
       "      <td>[sample1000, sample1002, sample1025, sample102...</td>\n",
       "      <td>1224</td>\n",
       "    </tr>\n",
       "  </tbody>\n",
       "</table>\n",
       "</div>"
      ],
      "text/plain": [
       "  rs77948203 rs1014626                                  unique_samples_id  \\\n",
       "3         AG        TT  [sample1000, sample1002, sample1025, sample102...   \n",
       "\n",
       "   unique_samples_count  \n",
       "3                  1224  "
      ]
     },
     "execution_count": null,
     "metadata": {},
     "output_type": "execute_result"
    }
   ],
   "source": [
    "query_result_2 = get_geno_combination_df(geno_each_sample,[\"rs77948203\", \"rs1014626\"]).query(**{\"rs77948203\": 'AG', \"rs1014626\": 'TT'})\n",
    "query_result_2"
   ]
  },
  {
   "cell_type": "code",
   "execution_count": null,
   "metadata": {},
   "outputs": [
    {
     "name": "stderr",
     "output_type": "stream",
     "text": [
      "/Users/ahoang/Documents/Learning/nbdev_tutorial_2nd_try/.venv/lib/python3.8/site-packages/ipykernel/ipkernel.py:283: DeprecationWarning: `should_run_async` will not call `transform_cell` automatically in the future. Please pass the result to `transformed_cell` argument and any exception that happen during thetransform in `preprocessing_exc_tuple` in IPython 7.17 and above.\n",
      "  and should_run_async(code)\n"
     ]
    }
   ],
   "source": [
    "assert query_result_1.equals(query_result_2)"
   ]
  },
  {
   "cell_type": "markdown",
   "metadata": {},
   "source": [
    "Querying an unknown rsid will lead to an error"
   ]
  },
  {
   "cell_type": "code",
   "execution_count": null,
   "metadata": {},
   "outputs": [],
   "source": [
    "with ExceptionExpected(ex=ValueError, regex = \"Some Rsid are not in the dataframe\"):test_rsid_info_obj.query(rs7794820='AA') #missing the last digit of rsid"
   ]
  },
  {
   "cell_type": "code",
   "execution_count": null,
   "metadata": {},
   "outputs": [
    {
     "name": "stderr",
     "output_type": "stream",
     "text": [
      "/Users/ahoang/Documents/Learning/nbdev_tutorial_2nd_try/.venv/lib/python3.8/site-packages/ipykernel/ipkernel.py:283: DeprecationWarning: `should_run_async` will not call `transform_cell` automatically in the future. Please pass the result to `transformed_cell` argument and any exception that happen during thetransform in `preprocessing_exc_tuple` in IPython 7.17 and above.\n",
      "  and should_run_async(code)\n"
     ]
    },
    {
     "data": {
      "text/plain": [
       "True"
      ]
     },
     "execution_count": null,
     "metadata": {},
     "output_type": "execute_result"
    }
   ],
   "source": [
    "get_geno_combination_df(geno_each_sample,[\"rs77948203\"]).query(rs77948203='NA').empty"
   ]
  },
  {
   "cell_type": "markdown",
   "metadata": {},
   "source": [
    "You can choose to return a simple dataframe, or an object that has enhanced capabilities"
   ]
  },
  {
   "cell_type": "code",
   "execution_count": null,
   "metadata": {},
   "outputs": [
    {
     "data": {
      "text/html": [
       "<div>\n",
       "<style scoped>\n",
       "    .dataframe tbody tr th:only-of-type {\n",
       "        vertical-align: middle;\n",
       "    }\n",
       "\n",
       "    .dataframe tbody tr th {\n",
       "        vertical-align: top;\n",
       "    }\n",
       "\n",
       "    .dataframe thead th {\n",
       "        text-align: right;\n",
       "    }\n",
       "</style>\n",
       "<table border=\"1\" class=\"dataframe\">\n",
       "  <thead>\n",
       "    <tr style=\"text-align: right;\">\n",
       "      <th></th>\n",
       "      <th>rs1014626</th>\n",
       "      <th>unique_samples_id</th>\n",
       "      <th>unique_samples_count</th>\n",
       "    </tr>\n",
       "  </thead>\n",
       "  <tbody>\n",
       "    <tr>\n",
       "      <th>0</th>\n",
       "      <td>CT</td>\n",
       "      <td>[sample1264, sample1359, sample1960, sample220...</td>\n",
       "      <td>28</td>\n",
       "    </tr>\n",
       "    <tr>\n",
       "      <th>1</th>\n",
       "      <td>NA</td>\n",
       "      <td>[sample1378, sample1496, sample2247, sample297...</td>\n",
       "      <td>9</td>\n",
       "    </tr>\n",
       "    <tr>\n",
       "      <th>2</th>\n",
       "      <td>TT</td>\n",
       "      <td>[sample1, sample10, sample100, sample1000, sam...</td>\n",
       "      <td>9735</td>\n",
       "    </tr>\n",
       "  </tbody>\n",
       "</table>\n",
       "</div>"
      ],
      "text/plain": [
       "  rs1014626                                  unique_samples_id  \\\n",
       "0        CT  [sample1264, sample1359, sample1960, sample220...   \n",
       "1        NA  [sample1378, sample1496, sample2247, sample297...   \n",
       "2        TT  [sample1, sample10, sample100, sample1000, sam...   \n",
       "\n",
       "   unique_samples_count  \n",
       "0                    28  \n",
       "1                     9  \n",
       "2                  9735  "
      ]
     },
     "execution_count": null,
     "metadata": {},
     "output_type": "execute_result"
    }
   ],
   "source": [
    "get_geno_combination_df(geno_each_sample,[\"rs1014626\"]).df"
   ]
  },
  {
   "cell_type": "code",
   "execution_count": null,
   "metadata": {},
   "outputs": [
    {
     "data": {
      "text/html": [
       "<div>\n",
       "<style scoped>\n",
       "    .dataframe tbody tr th:only-of-type {\n",
       "        vertical-align: middle;\n",
       "    }\n",
       "\n",
       "    .dataframe tbody tr th {\n",
       "        vertical-align: top;\n",
       "    }\n",
       "\n",
       "    .dataframe thead th {\n",
       "        text-align: right;\n",
       "    }\n",
       "</style>\n",
       "<table border=\"1\" class=\"dataframe\">\n",
       "  <thead>\n",
       "    <tr style=\"text-align: right;\">\n",
       "      <th></th>\n",
       "      <th>rs1014626</th>\n",
       "      <th>unique_samples_id</th>\n",
       "      <th>unique_samples_count</th>\n",
       "    </tr>\n",
       "  </thead>\n",
       "  <tbody>\n",
       "    <tr>\n",
       "      <th>0</th>\n",
       "      <td>CT</td>\n",
       "      <td>[sample1264, sample1359, sample1960, sample220...</td>\n",
       "      <td>28</td>\n",
       "    </tr>\n",
       "    <tr>\n",
       "      <th>1</th>\n",
       "      <td>NA</td>\n",
       "      <td>[sample1378, sample1496, sample2247, sample297...</td>\n",
       "      <td>9</td>\n",
       "    </tr>\n",
       "    <tr>\n",
       "      <th>2</th>\n",
       "      <td>TT</td>\n",
       "      <td>[sample1, sample10, sample100, sample1000, sam...</td>\n",
       "      <td>9735</td>\n",
       "    </tr>\n",
       "  </tbody>\n",
       "</table>\n",
       "</div>"
      ],
      "text/plain": [
       "  rs1014626                                  unique_samples_id  \\\n",
       "0        CT  [sample1264, sample1359, sample1960, sample220...   \n",
       "1        NA  [sample1378, sample1496, sample2247, sample297...   \n",
       "2        TT  [sample1, sample10, sample100, sample1000, sam...   \n",
       "\n",
       "   unique_samples_count  \n",
       "0                    28  \n",
       "1                     9  \n",
       "2                  9735  "
      ]
     },
     "execution_count": null,
     "metadata": {},
     "output_type": "execute_result"
    }
   ],
   "source": [
    "get_geno_combination_df(geno_each_sample,[\"rs1014626\"], as_df = True)"
   ]
  },
  {
   "cell_type": "code",
   "execution_count": null,
   "metadata": {},
   "outputs": [
    {
     "name": "stderr",
     "output_type": "stream",
     "text": [
      "/Users/ahoang/Documents/Learning/nbdev_tutorial_2nd_try/.venv/lib/python3.8/site-packages/ipykernel/ipkernel.py:283: DeprecationWarning: `should_run_async` will not call `transform_cell` automatically in the future. Please pass the result to `transformed_cell` argument and any exception that happen during thetransform in `preprocessing_exc_tuple` in IPython 7.17 and above.\n",
      "  and should_run_async(code)\n"
     ]
    }
   ],
   "source": [
    "assert get_geno_combination_df(geno_each_sample,[\"rs1014626\"]).df.equals(get_geno_combination_df(geno_each_sample,[\"rs1014626\"], as_df = True))"
   ]
  },
  {
   "cell_type": "code",
   "execution_count": null,
   "metadata": {},
   "outputs": [
    {
     "data": {
      "text/html": [
       "<div>\n",
       "<style scoped>\n",
       "    .dataframe tbody tr th:only-of-type {\n",
       "        vertical-align: middle;\n",
       "    }\n",
       "\n",
       "    .dataframe tbody tr th {\n",
       "        vertical-align: top;\n",
       "    }\n",
       "\n",
       "    .dataframe thead th {\n",
       "        text-align: right;\n",
       "    }\n",
       "</style>\n",
       "<table border=\"1\" class=\"dataframe\">\n",
       "  <thead>\n",
       "    <tr style=\"text-align: right;\">\n",
       "      <th></th>\n",
       "      <th>rs77948203</th>\n",
       "      <th>rs1014626</th>\n",
       "      <th>unique_samples_id</th>\n",
       "      <th>unique_samples_count</th>\n",
       "    </tr>\n",
       "  </thead>\n",
       "  <tbody>\n",
       "    <tr>\n",
       "      <th>0</th>\n",
       "      <td>AA</td>\n",
       "      <td>TT</td>\n",
       "      <td>[sample1445, sample1545, sample2271, sample237...</td>\n",
       "      <td>46</td>\n",
       "    </tr>\n",
       "    <tr>\n",
       "      <th>1</th>\n",
       "      <td>AG</td>\n",
       "      <td>CT</td>\n",
       "      <td>[sample5663, sample5840]</td>\n",
       "      <td>2</td>\n",
       "    </tr>\n",
       "    <tr>\n",
       "      <th>2</th>\n",
       "      <td>AG</td>\n",
       "      <td>NA</td>\n",
       "      <td>[sample297]</td>\n",
       "      <td>1</td>\n",
       "    </tr>\n",
       "    <tr>\n",
       "      <th>3</th>\n",
       "      <td>AG</td>\n",
       "      <td>TT</td>\n",
       "      <td>[sample1000, sample1002, sample1025, sample102...</td>\n",
       "      <td>1224</td>\n",
       "    </tr>\n",
       "    <tr>\n",
       "      <th>4</th>\n",
       "      <td>GG</td>\n",
       "      <td>CT</td>\n",
       "      <td>[sample1264, sample1359, sample1960, sample220...</td>\n",
       "      <td>26</td>\n",
       "    </tr>\n",
       "    <tr>\n",
       "      <th>5</th>\n",
       "      <td>GG</td>\n",
       "      <td>NA</td>\n",
       "      <td>[sample1378, sample1496, sample2247, sample391...</td>\n",
       "      <td>8</td>\n",
       "    </tr>\n",
       "    <tr>\n",
       "      <th>6</th>\n",
       "      <td>GG</td>\n",
       "      <td>TT</td>\n",
       "      <td>[sample1, sample10, sample100, sample1001, sam...</td>\n",
       "      <td>8465</td>\n",
       "    </tr>\n",
       "  </tbody>\n",
       "</table>\n",
       "</div>"
      ],
      "text/plain": [
       "  rs77948203 rs1014626                                  unique_samples_id  \\\n",
       "0         AA        TT  [sample1445, sample1545, sample2271, sample237...   \n",
       "1         AG        CT                           [sample5663, sample5840]   \n",
       "2         AG        NA                                        [sample297]   \n",
       "3         AG        TT  [sample1000, sample1002, sample1025, sample102...   \n",
       "4         GG        CT  [sample1264, sample1359, sample1960, sample220...   \n",
       "5         GG        NA  [sample1378, sample1496, sample2247, sample391...   \n",
       "6         GG        TT  [sample1, sample10, sample100, sample1001, sam...   \n",
       "\n",
       "   unique_samples_count  \n",
       "0                    46  \n",
       "1                     2  \n",
       "2                     1  \n",
       "3                  1224  \n",
       "4                    26  \n",
       "5                     8  \n",
       "6                  8465  "
      ]
     },
     "execution_count": null,
     "metadata": {},
     "output_type": "execute_result"
    }
   ],
   "source": [
    "test_geno_combination_df = get_geno_combination_df(geno_each_sample,[\"rs77948203\", \"rs1014626\"])\n",
    "test_geno_combination_df.df"
   ]
  },
  {
   "cell_type": "code",
   "execution_count": null,
   "metadata": {},
   "outputs": [
    {
     "name": "stderr",
     "output_type": "stream",
     "text": [
      "/Users/ahoang/Documents/Learning/nbdev_tutorial_2nd_try/.venv/lib/python3.8/site-packages/ipykernel/ipkernel.py:283: DeprecationWarning: `should_run_async` will not call `transform_cell` automatically in the future. Please pass the result to `transformed_cell` argument and any exception that happen during thetransform in `preprocessing_exc_tuple` in IPython 7.17 and above.\n",
      "  and should_run_async(code)\n"
     ]
    },
    {
     "data": {
      "text/plain": [
       "9"
      ]
     },
     "execution_count": null,
     "metadata": {},
     "output_type": "execute_result"
    }
   ],
   "source": [
    "test_geno_combination_df.num_samples_NA"
   ]
  },
  {
   "cell_type": "code",
   "execution_count": null,
   "metadata": {},
   "outputs": [
    {
     "name": "stderr",
     "output_type": "stream",
     "text": [
      "/Users/ahoang/Documents/Learning/nbdev_tutorial_2nd_try/.venv/lib/python3.8/site-packages/ipykernel/ipkernel.py:283: DeprecationWarning: `should_run_async` will not call `transform_cell` automatically in the future. Please pass the result to `transformed_cell` argument and any exception that happen during thetransform in `preprocessing_exc_tuple` in IPython 7.17 and above.\n",
      "  and should_run_async(code)\n"
     ]
    },
    {
     "data": {
      "text/html": [
       "<div>\n",
       "<style scoped>\n",
       "    .dataframe tbody tr th:only-of-type {\n",
       "        vertical-align: middle;\n",
       "    }\n",
       "\n",
       "    .dataframe tbody tr th {\n",
       "        vertical-align: top;\n",
       "    }\n",
       "\n",
       "    .dataframe thead th {\n",
       "        text-align: right;\n",
       "    }\n",
       "</style>\n",
       "<table border=\"1\" class=\"dataframe\">\n",
       "  <thead>\n",
       "    <tr style=\"text-align: right;\">\n",
       "      <th></th>\n",
       "      <th>rs77948203</th>\n",
       "      <th>rs1014626</th>\n",
       "      <th>unique_samples_id</th>\n",
       "      <th>unique_samples_count</th>\n",
       "    </tr>\n",
       "  </thead>\n",
       "  <tbody>\n",
       "    <tr>\n",
       "      <th>2</th>\n",
       "      <td>AG</td>\n",
       "      <td>NA</td>\n",
       "      <td>[sample297]</td>\n",
       "      <td>1</td>\n",
       "    </tr>\n",
       "    <tr>\n",
       "      <th>5</th>\n",
       "      <td>GG</td>\n",
       "      <td>NA</td>\n",
       "      <td>[sample1378, sample1496, sample2247, sample391...</td>\n",
       "      <td>8</td>\n",
       "    </tr>\n",
       "  </tbody>\n",
       "</table>\n",
       "</div>"
      ],
      "text/plain": [
       "  rs77948203 rs1014626                                  unique_samples_id  \\\n",
       "2         AG        NA                                        [sample297]   \n",
       "5         GG        NA  [sample1378, sample1496, sample2247, sample391...   \n",
       "\n",
       "   unique_samples_count  \n",
       "2                     1  \n",
       "5                     8  "
      ]
     },
     "execution_count": null,
     "metadata": {},
     "output_type": "execute_result"
    }
   ],
   "source": [
    "NA_samples_df = test_geno_combination_df.df.loc[(test_geno_combination_df.df[[\"rs77948203\", \"rs1014626\"]] == \"NA\").any(axis=1)]\n",
    "NA_samples_df"
   ]
  },
  {
   "cell_type": "code",
   "execution_count": null,
   "metadata": {},
   "outputs": [
    {
     "name": "stderr",
     "output_type": "stream",
     "text": [
      "/Users/ahoang/Documents/Learning/nbdev_tutorial_2nd_try/.venv/lib/python3.8/site-packages/ipykernel/ipkernel.py:283: DeprecationWarning: `should_run_async` will not call `transform_cell` automatically in the future. Please pass the result to `transformed_cell` argument and any exception that happen during thetransform in `preprocessing_exc_tuple` in IPython 7.17 and above.\n",
      "  and should_run_async(code)\n"
     ]
    }
   ],
   "source": [
    "assert test_geno_combination_df.num_samples_NA == NA_samples_df[\"unique_samples_count\"].sum() == 9\n",
    "assert test_geno_combination_df.total_samples_with_NA == 9772\n",
    "assert test_geno_combination_df.total_samples_no_NA == 9763"
   ]
  },
  {
   "cell_type": "code",
   "execution_count": null,
   "metadata": {},
   "outputs": [
    {
     "name": "stderr",
     "output_type": "stream",
     "text": [
      "/Users/ahoang/Documents/Learning/nbdev_tutorial_2nd_try/.venv/lib/python3.8/site-packages/ipykernel/ipkernel.py:283: DeprecationWarning: `should_run_async` will not call `transform_cell` automatically in the future. Please pass the result to `transformed_cell` argument and any exception that happen during thetransform in `preprocessing_exc_tuple` in IPython 7.17 and above.\n",
      "  and should_run_async(code)\n"
     ]
    },
    {
     "data": {
      "text/html": [
       "<div>\n",
       "<style scoped>\n",
       "    .dataframe tbody tr th:only-of-type {\n",
       "        vertical-align: middle;\n",
       "    }\n",
       "\n",
       "    .dataframe tbody tr th {\n",
       "        vertical-align: top;\n",
       "    }\n",
       "\n",
       "    .dataframe thead th {\n",
       "        text-align: right;\n",
       "    }\n",
       "</style>\n",
       "<table border=\"1\" class=\"dataframe\">\n",
       "  <thead>\n",
       "    <tr style=\"text-align: right;\">\n",
       "      <th></th>\n",
       "      <th>rs77948203</th>\n",
       "      <th>rs1014626</th>\n",
       "      <th>rs134490</th>\n",
       "      <th>unique_samples_id</th>\n",
       "      <th>unique_samples_count</th>\n",
       "    </tr>\n",
       "  </thead>\n",
       "  <tbody>\n",
       "    <tr>\n",
       "      <th>0</th>\n",
       "      <td>AA</td>\n",
       "      <td>TT</td>\n",
       "      <td>CT</td>\n",
       "      <td>[sample1445, sample1545, sample2271, sample281...</td>\n",
       "      <td>13</td>\n",
       "    </tr>\n",
       "    <tr>\n",
       "      <th>1</th>\n",
       "      <td>AA</td>\n",
       "      <td>TT</td>\n",
       "      <td>NA</td>\n",
       "      <td>[sample525, sample7180, sample926, sample9293]</td>\n",
       "      <td>4</td>\n",
       "    </tr>\n",
       "    <tr>\n",
       "      <th>2</th>\n",
       "      <td>AA</td>\n",
       "      <td>TT</td>\n",
       "      <td>TT</td>\n",
       "      <td>[sample2376, sample2519, sample2963, sample311...</td>\n",
       "      <td>29</td>\n",
       "    </tr>\n",
       "    <tr>\n",
       "      <th>3</th>\n",
       "      <td>AG</td>\n",
       "      <td>CT</td>\n",
       "      <td>CT</td>\n",
       "      <td>[sample5663]</td>\n",
       "      <td>1</td>\n",
       "    </tr>\n",
       "    <tr>\n",
       "      <th>4</th>\n",
       "      <td>AG</td>\n",
       "      <td>CT</td>\n",
       "      <td>NA</td>\n",
       "      <td>[sample5840]</td>\n",
       "      <td>1</td>\n",
       "    </tr>\n",
       "    <tr>\n",
       "      <th>5</th>\n",
       "      <td>AG</td>\n",
       "      <td>NA</td>\n",
       "      <td>CT</td>\n",
       "      <td>[sample297]</td>\n",
       "      <td>1</td>\n",
       "    </tr>\n",
       "    <tr>\n",
       "      <th>6</th>\n",
       "      <td>AG</td>\n",
       "      <td>TT</td>\n",
       "      <td>CC</td>\n",
       "      <td>[sample1747, sample1957, sample2090, sample216...</td>\n",
       "      <td>24</td>\n",
       "    </tr>\n",
       "    <tr>\n",
       "      <th>7</th>\n",
       "      <td>AG</td>\n",
       "      <td>TT</td>\n",
       "      <td>CT</td>\n",
       "      <td>[sample1000, sample1002, sample1040, sample104...</td>\n",
       "      <td>312</td>\n",
       "    </tr>\n",
       "    <tr>\n",
       "      <th>8</th>\n",
       "      <td>AG</td>\n",
       "      <td>TT</td>\n",
       "      <td>NA</td>\n",
       "      <td>[sample1035, sample1094, sample1098, sample110...</td>\n",
       "      <td>157</td>\n",
       "    </tr>\n",
       "    <tr>\n",
       "      <th>9</th>\n",
       "      <td>AG</td>\n",
       "      <td>TT</td>\n",
       "      <td>TT</td>\n",
       "      <td>[sample1025, sample1028, sample1038, sample104...</td>\n",
       "      <td>731</td>\n",
       "    </tr>\n",
       "    <tr>\n",
       "      <th>10</th>\n",
       "      <td>GG</td>\n",
       "      <td>CT</td>\n",
       "      <td>CT</td>\n",
       "      <td>[sample1264, sample1359, sample3998, sample478...</td>\n",
       "      <td>7</td>\n",
       "    </tr>\n",
       "    <tr>\n",
       "      <th>11</th>\n",
       "      <td>GG</td>\n",
       "      <td>CT</td>\n",
       "      <td>NA</td>\n",
       "      <td>[sample4172, sample4600, sample7605, sample878...</td>\n",
       "      <td>5</td>\n",
       "    </tr>\n",
       "    <tr>\n",
       "      <th>12</th>\n",
       "      <td>GG</td>\n",
       "      <td>CT</td>\n",
       "      <td>TT</td>\n",
       "      <td>[sample1960, sample2205, sample2993, sample362...</td>\n",
       "      <td>14</td>\n",
       "    </tr>\n",
       "    <tr>\n",
       "      <th>13</th>\n",
       "      <td>GG</td>\n",
       "      <td>NA</td>\n",
       "      <td>CT</td>\n",
       "      <td>[sample2247, sample6641, sample7737]</td>\n",
       "      <td>3</td>\n",
       "    </tr>\n",
       "    <tr>\n",
       "      <th>14</th>\n",
       "      <td>GG</td>\n",
       "      <td>NA</td>\n",
       "      <td>NA</td>\n",
       "      <td>[sample1496, sample391]</td>\n",
       "      <td>2</td>\n",
       "    </tr>\n",
       "    <tr>\n",
       "      <th>15</th>\n",
       "      <td>GG</td>\n",
       "      <td>NA</td>\n",
       "      <td>TT</td>\n",
       "      <td>[sample1378, sample4893, sample5142]</td>\n",
       "      <td>3</td>\n",
       "    </tr>\n",
       "    <tr>\n",
       "      <th>16</th>\n",
       "      <td>GG</td>\n",
       "      <td>TT</td>\n",
       "      <td>CC</td>\n",
       "      <td>[sample1003, sample1062, sample1311, sample139...</td>\n",
       "      <td>220</td>\n",
       "    </tr>\n",
       "    <tr>\n",
       "      <th>17</th>\n",
       "      <td>GG</td>\n",
       "      <td>TT</td>\n",
       "      <td>CT</td>\n",
       "      <td>[sample1001, sample1005, sample1014, sample102...</td>\n",
       "      <td>1962</td>\n",
       "    </tr>\n",
       "    <tr>\n",
       "      <th>18</th>\n",
       "      <td>GG</td>\n",
       "      <td>TT</td>\n",
       "      <td>NA</td>\n",
       "      <td>[sample1, sample1012, sample1018, sample102, s...</td>\n",
       "      <td>1226</td>\n",
       "    </tr>\n",
       "    <tr>\n",
       "      <th>19</th>\n",
       "      <td>GG</td>\n",
       "      <td>TT</td>\n",
       "      <td>TT</td>\n",
       "      <td>[sample10, sample100, sample1004, sample1006, ...</td>\n",
       "      <td>5057</td>\n",
       "    </tr>\n",
       "  </tbody>\n",
       "</table>\n",
       "</div>"
      ],
      "text/plain": [
       "   rs77948203 rs1014626 rs134490  \\\n",
       "0          AA        TT       CT   \n",
       "1          AA        TT       NA   \n",
       "2          AA        TT       TT   \n",
       "3          AG        CT       CT   \n",
       "4          AG        CT       NA   \n",
       "5          AG        NA       CT   \n",
       "6          AG        TT       CC   \n",
       "7          AG        TT       CT   \n",
       "8          AG        TT       NA   \n",
       "9          AG        TT       TT   \n",
       "10         GG        CT       CT   \n",
       "11         GG        CT       NA   \n",
       "12         GG        CT       TT   \n",
       "13         GG        NA       CT   \n",
       "14         GG        NA       NA   \n",
       "15         GG        NA       TT   \n",
       "16         GG        TT       CC   \n",
       "17         GG        TT       CT   \n",
       "18         GG        TT       NA   \n",
       "19         GG        TT       TT   \n",
       "\n",
       "                                    unique_samples_id  unique_samples_count  \n",
       "0   [sample1445, sample1545, sample2271, sample281...                    13  \n",
       "1      [sample525, sample7180, sample926, sample9293]                     4  \n",
       "2   [sample2376, sample2519, sample2963, sample311...                    29  \n",
       "3                                        [sample5663]                     1  \n",
       "4                                        [sample5840]                     1  \n",
       "5                                         [sample297]                     1  \n",
       "6   [sample1747, sample1957, sample2090, sample216...                    24  \n",
       "7   [sample1000, sample1002, sample1040, sample104...                   312  \n",
       "8   [sample1035, sample1094, sample1098, sample110...                   157  \n",
       "9   [sample1025, sample1028, sample1038, sample104...                   731  \n",
       "10  [sample1264, sample1359, sample3998, sample478...                     7  \n",
       "11  [sample4172, sample4600, sample7605, sample878...                     5  \n",
       "12  [sample1960, sample2205, sample2993, sample362...                    14  \n",
       "13               [sample2247, sample6641, sample7737]                     3  \n",
       "14                            [sample1496, sample391]                     2  \n",
       "15               [sample1378, sample4893, sample5142]                     3  \n",
       "16  [sample1003, sample1062, sample1311, sample139...                   220  \n",
       "17  [sample1001, sample1005, sample1014, sample102...                  1962  \n",
       "18  [sample1, sample1012, sample1018, sample102, s...                  1226  \n",
       "19  [sample10, sample100, sample1004, sample1006, ...                  5057  "
      ]
     },
     "execution_count": null,
     "metadata": {},
     "output_type": "execute_result"
    }
   ],
   "source": [
    "get_geno_combination_df(geno_each_sample,[\"rs77948203\", \"rs1014626\", \"rs134490\"])"
   ]
  }
 ],
 "metadata": {
  "kernelspec": {
   "display_name": "Python 3",
   "language": "python",
   "name": "python3"
  }
 },
 "nbformat": 4,
 "nbformat_minor": 5
}
