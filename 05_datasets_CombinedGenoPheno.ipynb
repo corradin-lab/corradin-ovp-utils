{
 "cells": [
  {
   "cell_type": "code",
   "execution_count": null,
   "metadata": {},
   "outputs": [],
   "source": [
    "# default_exp datasets.CombinedGenoPheno"
   ]
  },
  {
   "cell_type": "markdown",
   "metadata": {},
   "source": [
    "# module name here\n",
    "\n",
    "> API details."
   ]
  },
  {
   "cell_type": "code",
   "execution_count": null,
   "metadata": {},
   "outputs": [],
   "source": [
    "#hide\n",
    "from nbdev.showdoc import *\n",
    "import numpy as np\n",
    "from corradin_ovp_utils.catalog import test_data_catalog, conf_test_data_catalog\n",
    "from corradin_ovp_utils.datasets.genetic_file import triplicate_converter\n",
    "from corradin_ovp_utils.odds_ratio import get_geno_combination_df"
   ]
  },
  {
   "cell_type": "code",
   "execution_count": null,
   "metadata": {},
   "outputs": [],
   "source": [
    "#export\n",
    "from typing import Any, Dict, List, Optional, Literal, Union\n",
    "from pydantic import BaseModel\n",
    "import pandas as pd\n",
    "import corradin_ovp_utils\n",
    "from fastcore.basics import typed\n",
    "from fastcore.dispatch import typedispatch\n",
    "from corradin_ovp_utils.datasets import OVPDataset "
   ]
  },
  {
   "cell_type": "code",
   "execution_count": null,
   "metadata": {},
   "outputs": [],
   "source": [
    "#export\n",
    "class CombinedGenoPheno(BaseModel):\n",
    "    genetic_file_df: pd.DataFrame\n",
    "    sample_file_df: pd.DataFrame\n",
    "        \n",
    "    @classmethod\n",
    "    def init_from_OVPDataset(cls,\n",
    "                             genetic_dataset: OVPDataset.OVPDataset,\n",
    "                             sample_dataset: OVPDataset.OVPDataset,\n",
    "                            rsid_list: List[str],\n",
    "                             chrom=None,\n",
    "                            ):\n",
    "        \n",
    "        genetic_dict = cls.process_datasets(genetic_dataset, sample_dataset)\n",
    "        all_samples_geno_df = [file.get_geno_each_sample(chrom=chrom, rsid_list= rsid_list) for file in genetic_dict.values()]\n",
    "        return pd.concat(all_samples_geno_df)\n",
    "            \n",
    "        \n",
    "    @classmethod\n",
    "    def process_datasets(cls, genetic_dataset: OVPDataset.OVPDataset, sample_dataset: OVPDataset.OVPDataset, ):\n",
    "        combine_genetic_sample_func = cls._process_file_type(genetic_dataset._file_path, sample_dataset._file_path)\n",
    "        genetic_dict = combine_genetic_sample_func(genetic_dataset, sample_dataset)\n",
    "        return genetic_dict\n",
    "    \n",
    "    @typedispatch    \n",
    "    @classmethod\n",
    "    def _process_file_type(cls, genetic_file_schema:OVPDataset.SingleFilePathSchema, sample_file_schema: OVPDataset.SingleFilePathSchema):\n",
    "        return lambda x, y: x\n",
    "    \n",
    "    @typedispatch\n",
    "    @classmethod\n",
    "    def _process_file_type(cls, genetic_file_schema:OVPDataset.MultipleFilePathSchema, sample_file_schema: OVPDataset.MultipleFilePathSchema):\n",
    "        assert genetic_file_schema.__class__ == sample_file_schema.__class__\n",
    "        def combine_genetic_sample_multiple(genetic_dataset, sample_file_dataset):\n",
    "            genetic_dict = genetic_dataset.files.__dict__\n",
    "            sample_dict = sample_file_dataset.files.__dict__\n",
    "            shared_keys = set(genetic_dict.keys()) & set(sample_dict.keys())\n",
    "            \n",
    "            #make sure the two datasets only have shared keys\n",
    "            assert shared_keys == genetic_dict.keys() == sample_dict.keys()\n",
    "            for key in shared_keys:\n",
    "                genetic_dict[key].sample_ids = sample_dict[key].load().index\n",
    "            return genetic_dict\n",
    "        \n",
    "        return combine_genetic_sample_multiple\n",
    "                \n",
    "    class Config:\n",
    "        arbitrary_types_allowed = True"
   ]
  },
  {
   "cell_type": "code",
   "execution_count": null,
   "metadata": {},
   "outputs": [],
   "source": [
    "genetic_file = test_data_catalog.load(\"genetic_file\")\n",
    "sample_file = test_data_catalog.load(\"sample_file\")"
   ]
  },
  {
   "cell_type": "code",
   "execution_count": null,
   "metadata": {},
   "outputs": [
    {
     "name": "stderr",
     "output_type": "stream",
     "text": [
      "/Users/ahoang/Documents/Learning/nbdev_tutorial_2nd_try/.venv/lib/python3.8/site-packages/ipykernel/ipkernel.py:283: DeprecationWarning: `should_run_async` will not call `transform_cell` automatically in the future. Please pass the result to `transformed_cell` argument and any exception that happen during thetransform in `preprocessing_exc_tuple` in IPython 7.17 and above.\n",
      "  and should_run_async(code)\n"
     ]
    },
    {
     "data": {
      "application/vnd.jupyter.widget-view+json": {
       "model_id": "d458966f651c4ad0b118b56a7187ae60",
       "version_major": 2,
       "version_minor": 0
      },
      "text/plain": [
       "0it [00:00, ?it/s]"
      ]
     },
     "metadata": {},
     "output_type": "display_data"
    },
    {
     "data": {
      "application/vnd.jupyter.widget-view+json": {
       "model_id": "2d2dee5e8d5e44a9931092bb6b90347b",
       "version_major": 2,
       "version_minor": 0
      },
      "text/plain": [
       "0it [00:00, ?it/s]"
      ]
     },
     "metadata": {},
     "output_type": "display_data"
    },
    {
     "data": {
      "text/html": [
       "<div>\n",
       "<style scoped>\n",
       "    .dataframe tbody tr th:only-of-type {\n",
       "        vertical-align: middle;\n",
       "    }\n",
       "\n",
       "    .dataframe tbody tr th {\n",
       "        vertical-align: top;\n",
       "    }\n",
       "\n",
       "    .dataframe thead th {\n",
       "        text-align: right;\n",
       "    }\n",
       "</style>\n",
       "<table border=\"1\" class=\"dataframe\">\n",
       "  <thead>\n",
       "    <tr style=\"text-align: right;\">\n",
       "      <th>rsid</th>\n",
       "      <th>rs77948203</th>\n",
       "      <th>rs9610458</th>\n",
       "      <th>rs134490</th>\n",
       "      <th>rs5756405</th>\n",
       "    </tr>\n",
       "    <tr>\n",
       "      <th>sample_id</th>\n",
       "      <th></th>\n",
       "      <th></th>\n",
       "      <th></th>\n",
       "      <th></th>\n",
       "    </tr>\n",
       "  </thead>\n",
       "  <tbody>\n",
       "    <tr>\n",
       "      <th>WTCCCT473540</th>\n",
       "      <td>GG</td>\n",
       "      <td>TT</td>\n",
       "      <td>NA</td>\n",
       "      <td>AG</td>\n",
       "    </tr>\n",
       "    <tr>\n",
       "      <th>WTCCCT473530</th>\n",
       "      <td>GG</td>\n",
       "      <td>TT</td>\n",
       "      <td>TT</td>\n",
       "      <td>AA</td>\n",
       "    </tr>\n",
       "    <tr>\n",
       "      <th>WTCCCT473555</th>\n",
       "      <td>GG</td>\n",
       "      <td>TT</td>\n",
       "      <td>TT</td>\n",
       "      <td>NA</td>\n",
       "    </tr>\n",
       "    <tr>\n",
       "      <th>WTCCCT473426</th>\n",
       "      <td>GG</td>\n",
       "      <td>TT</td>\n",
       "      <td>TT</td>\n",
       "      <td>GG</td>\n",
       "    </tr>\n",
       "    <tr>\n",
       "      <th>WTCCCT473489</th>\n",
       "      <td>GG</td>\n",
       "      <td>CT</td>\n",
       "      <td>NA</td>\n",
       "      <td>AA</td>\n",
       "    </tr>\n",
       "    <tr>\n",
       "      <th>...</th>\n",
       "      <td>...</td>\n",
       "      <td>...</td>\n",
       "      <td>...</td>\n",
       "      <td>...</td>\n",
       "    </tr>\n",
       "    <tr>\n",
       "      <th>WS574632</th>\n",
       "      <td>GG</td>\n",
       "      <td>CT</td>\n",
       "      <td>TT</td>\n",
       "      <td>GG</td>\n",
       "    </tr>\n",
       "    <tr>\n",
       "      <th>WS574661</th>\n",
       "      <td>GG</td>\n",
       "      <td>TT</td>\n",
       "      <td>TT</td>\n",
       "      <td>AA</td>\n",
       "    </tr>\n",
       "    <tr>\n",
       "      <th>BLOOD294452</th>\n",
       "      <td>GG</td>\n",
       "      <td>CT</td>\n",
       "      <td>TT</td>\n",
       "      <td>AG</td>\n",
       "    </tr>\n",
       "    <tr>\n",
       "      <th>WTCCCT511021</th>\n",
       "      <td>GG</td>\n",
       "      <td>CT</td>\n",
       "      <td>TT</td>\n",
       "      <td>AG</td>\n",
       "    </tr>\n",
       "    <tr>\n",
       "      <th>WTCCCT510948</th>\n",
       "      <td>GG</td>\n",
       "      <td>CT</td>\n",
       "      <td>TT</td>\n",
       "      <td>AA</td>\n",
       "    </tr>\n",
       "  </tbody>\n",
       "</table>\n",
       "<p>14947 rows × 4 columns</p>\n",
       "</div>"
      ],
      "text/plain": [
       "rsid         rs77948203 rs9610458 rs134490 rs5756405\n",
       "sample_id                                           \n",
       "WTCCCT473540         GG        TT       NA        AG\n",
       "WTCCCT473530         GG        TT       TT        AA\n",
       "WTCCCT473555         GG        TT       TT        NA\n",
       "WTCCCT473426         GG        TT       TT        GG\n",
       "WTCCCT473489         GG        CT       NA        AA\n",
       "...                 ...       ...      ...       ...\n",
       "WS574632             GG        CT       TT        GG\n",
       "WS574661             GG        TT       TT        AA\n",
       "BLOOD294452          GG        CT       TT        AG\n",
       "WTCCCT511021         GG        CT       TT        AG\n",
       "WTCCCT510948         GG        CT       TT        AA\n",
       "\n",
       "[14947 rows x 4 columns]"
      ]
     },
     "execution_count": null,
     "metadata": {},
     "output_type": "execute_result"
    }
   ],
   "source": [
    "test = CombinedGenoPheno.init_from_OVPDataset(genetic_file, sample_file, rsid_list = [\"rs77948203\", \"rs9610458\", \"rs134490\", \"rs5756405\"])#[\"case\"]\n",
    "test"
   ]
  },
  {
   "cell_type": "code",
   "execution_count": null,
   "metadata": {},
   "outputs": [
    {
     "data": {
      "text/html": [
       "<div>\n",
       "<style scoped>\n",
       "    .dataframe tbody tr th:only-of-type {\n",
       "        vertical-align: middle;\n",
       "    }\n",
       "\n",
       "    .dataframe tbody tr th {\n",
       "        vertical-align: top;\n",
       "    }\n",
       "\n",
       "    .dataframe thead th {\n",
       "        text-align: right;\n",
       "    }\n",
       "</style>\n",
       "<table border=\"1\" class=\"dataframe\">\n",
       "  <thead>\n",
       "    <tr style=\"text-align: right;\">\n",
       "      <th></th>\n",
       "      <th>rs9610458</th>\n",
       "      <th>rs134490</th>\n",
       "      <th>unique_samples_id</th>\n",
       "      <th>unique_samples_count</th>\n",
       "    </tr>\n",
       "  </thead>\n",
       "  <tbody>\n",
       "    <tr>\n",
       "      <th>0</th>\n",
       "      <td>CC</td>\n",
       "      <td>CC</td>\n",
       "      <td>[WTCCCT489620, WTCCCT489645, WTCCCT473287, WTC...</td>\n",
       "      <td>76</td>\n",
       "    </tr>\n",
       "    <tr>\n",
       "      <th>1</th>\n",
       "      <td>CC</td>\n",
       "      <td>CT</td>\n",
       "      <td>[WTCCCT473552, WTCCCT473505, WTCCCT489578, WTC...</td>\n",
       "      <td>724</td>\n",
       "    </tr>\n",
       "    <tr>\n",
       "      <th>2</th>\n",
       "      <td>CC</td>\n",
       "      <td>NA</td>\n",
       "      <td>[WTCCCT489646, WTCCCT489580, WTCCCT488814, WTC...</td>\n",
       "      <td>381</td>\n",
       "    </tr>\n",
       "    <tr>\n",
       "      <th>3</th>\n",
       "      <td>CC</td>\n",
       "      <td>TT</td>\n",
       "      <td>[WTCCCT473500, WTCCCT473539, WTCCCT473521, WTC...</td>\n",
       "      <td>1791</td>\n",
       "    </tr>\n",
       "    <tr>\n",
       "      <th>4</th>\n",
       "      <td>CT</td>\n",
       "      <td>CC</td>\n",
       "      <td>[WTCCCT473297, WTCCCT473230, WTCCCT473244, WTC...</td>\n",
       "      <td>191</td>\n",
       "    </tr>\n",
       "    <tr>\n",
       "      <th>5</th>\n",
       "      <td>CT</td>\n",
       "      <td>CT</td>\n",
       "      <td>[WTCCCT473447, WTCCCT473466, WTCCCT473492, WTC...</td>\n",
       "      <td>1733</td>\n",
       "    </tr>\n",
       "    <tr>\n",
       "      <th>6</th>\n",
       "      <td>CT</td>\n",
       "      <td>NA</td>\n",
       "      <td>[WTCCCT473489, WTCCCT473524, WTCCCT473499, WTC...</td>\n",
       "      <td>959</td>\n",
       "    </tr>\n",
       "    <tr>\n",
       "      <th>7</th>\n",
       "      <td>CT</td>\n",
       "      <td>TT</td>\n",
       "      <td>[WTCCCT473456, WTCCCT473515, WTCCCT473508, WTC...</td>\n",
       "      <td>4226</td>\n",
       "    </tr>\n",
       "    <tr>\n",
       "      <th>8</th>\n",
       "      <td>NA</td>\n",
       "      <td>CC</td>\n",
       "      <td>[WTCCCT473436, WTCCCT469571, WTCCCT443738, WTC...</td>\n",
       "      <td>5</td>\n",
       "    </tr>\n",
       "    <tr>\n",
       "      <th>9</th>\n",
       "      <td>NA</td>\n",
       "      <td>CT</td>\n",
       "      <td>[WTCCCT488883, WTCCCT474387, WTCCCT474448, WTC...</td>\n",
       "      <td>111</td>\n",
       "    </tr>\n",
       "    <tr>\n",
       "      <th>10</th>\n",
       "      <td>NA</td>\n",
       "      <td>NA</td>\n",
       "      <td>[WTCCCT489613, WTCCCT497565, WTCCCT474593, WTC...</td>\n",
       "      <td>69</td>\n",
       "    </tr>\n",
       "    <tr>\n",
       "      <th>11</th>\n",
       "      <td>NA</td>\n",
       "      <td>TT</td>\n",
       "      <td>[WTCCCT473549, WTCCCT489615, WTCCCT489614, WTC...</td>\n",
       "      <td>301</td>\n",
       "    </tr>\n",
       "    <tr>\n",
       "      <th>12</th>\n",
       "      <td>TT</td>\n",
       "      <td>CC</td>\n",
       "      <td>[WTCCCT489604, WTCCCT467785, WTCCCT489030, WTC...</td>\n",
       "      <td>102</td>\n",
       "    </tr>\n",
       "    <tr>\n",
       "      <th>13</th>\n",
       "      <td>TT</td>\n",
       "      <td>CT</td>\n",
       "      <td>[WTCCCT473454, WTCCCT489616, WTCCCT489608, WTC...</td>\n",
       "      <td>1022</td>\n",
       "    </tr>\n",
       "    <tr>\n",
       "      <th>14</th>\n",
       "      <td>TT</td>\n",
       "      <td>NA</td>\n",
       "      <td>[WTCCCT473540, WTCCCT473497, WTCCCT473520, WTC...</td>\n",
       "      <td>634</td>\n",
       "    </tr>\n",
       "    <tr>\n",
       "      <th>15</th>\n",
       "      <td>TT</td>\n",
       "      <td>TT</td>\n",
       "      <td>[WTCCCT473530, WTCCCT473555, WTCCCT473426, WTC...</td>\n",
       "      <td>2622</td>\n",
       "    </tr>\n",
       "  </tbody>\n",
       "</table>\n",
       "</div>"
      ],
      "text/plain": [
       "   rs9610458 rs134490                                  unique_samples_id  \\\n",
       "0         CC       CC  [WTCCCT489620, WTCCCT489645, WTCCCT473287, WTC...   \n",
       "1         CC       CT  [WTCCCT473552, WTCCCT473505, WTCCCT489578, WTC...   \n",
       "2         CC       NA  [WTCCCT489646, WTCCCT489580, WTCCCT488814, WTC...   \n",
       "3         CC       TT  [WTCCCT473500, WTCCCT473539, WTCCCT473521, WTC...   \n",
       "4         CT       CC  [WTCCCT473297, WTCCCT473230, WTCCCT473244, WTC...   \n",
       "5         CT       CT  [WTCCCT473447, WTCCCT473466, WTCCCT473492, WTC...   \n",
       "6         CT       NA  [WTCCCT473489, WTCCCT473524, WTCCCT473499, WTC...   \n",
       "7         CT       TT  [WTCCCT473456, WTCCCT473515, WTCCCT473508, WTC...   \n",
       "8         NA       CC  [WTCCCT473436, WTCCCT469571, WTCCCT443738, WTC...   \n",
       "9         NA       CT  [WTCCCT488883, WTCCCT474387, WTCCCT474448, WTC...   \n",
       "10        NA       NA  [WTCCCT489613, WTCCCT497565, WTCCCT474593, WTC...   \n",
       "11        NA       TT  [WTCCCT473549, WTCCCT489615, WTCCCT489614, WTC...   \n",
       "12        TT       CC  [WTCCCT489604, WTCCCT467785, WTCCCT489030, WTC...   \n",
       "13        TT       CT  [WTCCCT473454, WTCCCT489616, WTCCCT489608, WTC...   \n",
       "14        TT       NA  [WTCCCT473540, WTCCCT473497, WTCCCT473520, WTC...   \n",
       "15        TT       TT  [WTCCCT473530, WTCCCT473555, WTCCCT473426, WTC...   \n",
       "\n",
       "    unique_samples_count  \n",
       "0                     76  \n",
       "1                    724  \n",
       "2                    381  \n",
       "3                   1791  \n",
       "4                    191  \n",
       "5                   1733  \n",
       "6                    959  \n",
       "7                   4226  \n",
       "8                      5  \n",
       "9                    111  \n",
       "10                    69  \n",
       "11                   301  \n",
       "12                   102  \n",
       "13                  1022  \n",
       "14                   634  \n",
       "15                  2622  "
      ]
     },
     "execution_count": null,
     "metadata": {},
     "output_type": "execute_result"
    }
   ],
   "source": [
    "get_geno_combination_df(test, rsid_list=[\"rs9610458\", \"rs134490\"]).df"
   ]
  },
  {
   "cell_type": "code",
   "execution_count": null,
   "metadata": {},
   "outputs": [
    {
     "name": "stderr",
     "output_type": "stream",
     "text": [
      "/Users/ahoang/Documents/Learning/nbdev_tutorial_2nd_try/.venv/lib/python3.8/site-packages/ipykernel/ipkernel.py:283: DeprecationWarning: `should_run_async` will not call `transform_cell` automatically in the future. Please pass the result to `transformed_cell` argument and any exception that happen during thetransform in `preprocessing_exc_tuple` in IPython 7.17 and above.\n",
      "  and should_run_async(code)\n"
     ]
    },
    {
     "data": {
      "text/html": [
       "<div>\n",
       "<style scoped>\n",
       "    .dataframe tbody tr th:only-of-type {\n",
       "        vertical-align: middle;\n",
       "    }\n",
       "\n",
       "    .dataframe tbody tr th {\n",
       "        vertical-align: top;\n",
       "    }\n",
       "\n",
       "    .dataframe thead th {\n",
       "        text-align: right;\n",
       "    }\n",
       "</style>\n",
       "<table border=\"1\" class=\"dataframe\">\n",
       "  <thead>\n",
       "    <tr style=\"text-align: right;\">\n",
       "      <th></th>\n",
       "      <th>rs9610458</th>\n",
       "      <th>rs134490</th>\n",
       "      <th>rs5756405</th>\n",
       "      <th>unique_samples_id</th>\n",
       "      <th>unique_samples_count</th>\n",
       "    </tr>\n",
       "  </thead>\n",
       "  <tbody>\n",
       "    <tr>\n",
       "      <th>0</th>\n",
       "      <td>CC</td>\n",
       "      <td>CC</td>\n",
       "      <td>AA</td>\n",
       "      <td>[WTCCCT489620, WTCCCT505862, WTCCCT467112, WTC...</td>\n",
       "      <td>13</td>\n",
       "    </tr>\n",
       "    <tr>\n",
       "      <th>1</th>\n",
       "      <td>CC</td>\n",
       "      <td>CC</td>\n",
       "      <td>AG</td>\n",
       "      <td>[WTCCCT489645, WTCCCT473287, WTCCCT470000, WTC...</td>\n",
       "      <td>29</td>\n",
       "    </tr>\n",
       "    <tr>\n",
       "      <th>2</th>\n",
       "      <td>CC</td>\n",
       "      <td>CC</td>\n",
       "      <td>GG</td>\n",
       "      <td>[WTCCCT474572, WTCCCT466155, WTCCCT508245, WTC...</td>\n",
       "      <td>33</td>\n",
       "    </tr>\n",
       "    <tr>\n",
       "      <th>3</th>\n",
       "      <td>CC</td>\n",
       "      <td>CC</td>\n",
       "      <td>NA</td>\n",
       "      <td>[WTCCCT473042]</td>\n",
       "      <td>1</td>\n",
       "    </tr>\n",
       "    <tr>\n",
       "      <th>4</th>\n",
       "      <td>CC</td>\n",
       "      <td>CT</td>\n",
       "      <td>AA</td>\n",
       "      <td>[WTCCCT473505, WTCCCT507950, WTCCCT507923, WTC...</td>\n",
       "      <td>156</td>\n",
       "    </tr>\n",
       "    <tr>\n",
       "      <th>...</th>\n",
       "      <td>...</td>\n",
       "      <td>...</td>\n",
       "      <td>...</td>\n",
       "      <td>...</td>\n",
       "      <td>...</td>\n",
       "    </tr>\n",
       "    <tr>\n",
       "      <th>58</th>\n",
       "      <td>TT</td>\n",
       "      <td>NA</td>\n",
       "      <td>NA</td>\n",
       "      <td>[WTCCCT515370, WTCCCT467086, WTCCCT508785, WTC...</td>\n",
       "      <td>15</td>\n",
       "    </tr>\n",
       "    <tr>\n",
       "      <th>59</th>\n",
       "      <td>TT</td>\n",
       "      <td>TT</td>\n",
       "      <td>AA</td>\n",
       "      <td>[WTCCCT473530, WTCCCT473468, WTCCCT473462, WTC...</td>\n",
       "      <td>628</td>\n",
       "    </tr>\n",
       "    <tr>\n",
       "      <th>60</th>\n",
       "      <td>TT</td>\n",
       "      <td>TT</td>\n",
       "      <td>AG</td>\n",
       "      <td>[WTCCCT473435, WTCCCT473522, WTCCCT473537, WTC...</td>\n",
       "      <td>1266</td>\n",
       "    </tr>\n",
       "    <tr>\n",
       "      <th>61</th>\n",
       "      <td>TT</td>\n",
       "      <td>TT</td>\n",
       "      <td>GG</td>\n",
       "      <td>[WTCCCT473426, WTCCCT473527, WTCCCT489641, WTC...</td>\n",
       "      <td>668</td>\n",
       "    </tr>\n",
       "    <tr>\n",
       "      <th>62</th>\n",
       "      <td>TT</td>\n",
       "      <td>TT</td>\n",
       "      <td>NA</td>\n",
       "      <td>[WTCCCT473555, WTCCCT473227, WTCCCT468253, WTC...</td>\n",
       "      <td>60</td>\n",
       "    </tr>\n",
       "  </tbody>\n",
       "</table>\n",
       "<p>63 rows × 5 columns</p>\n",
       "</div>"
      ],
      "text/plain": [
       "   rs9610458 rs134490 rs5756405  \\\n",
       "0         CC       CC        AA   \n",
       "1         CC       CC        AG   \n",
       "2         CC       CC        GG   \n",
       "3         CC       CC        NA   \n",
       "4         CC       CT        AA   \n",
       "..       ...      ...       ...   \n",
       "58        TT       NA        NA   \n",
       "59        TT       TT        AA   \n",
       "60        TT       TT        AG   \n",
       "61        TT       TT        GG   \n",
       "62        TT       TT        NA   \n",
       "\n",
       "                                    unique_samples_id  unique_samples_count  \n",
       "0   [WTCCCT489620, WTCCCT505862, WTCCCT467112, WTC...                    13  \n",
       "1   [WTCCCT489645, WTCCCT473287, WTCCCT470000, WTC...                    29  \n",
       "2   [WTCCCT474572, WTCCCT466155, WTCCCT508245, WTC...                    33  \n",
       "3                                      [WTCCCT473042]                     1  \n",
       "4   [WTCCCT473505, WTCCCT507950, WTCCCT507923, WTC...                   156  \n",
       "..                                                ...                   ...  \n",
       "58  [WTCCCT515370, WTCCCT467086, WTCCCT508785, WTC...                    15  \n",
       "59  [WTCCCT473530, WTCCCT473468, WTCCCT473462, WTC...                   628  \n",
       "60  [WTCCCT473435, WTCCCT473522, WTCCCT473537, WTC...                  1266  \n",
       "61  [WTCCCT473426, WTCCCT473527, WTCCCT489641, WTC...                   668  \n",
       "62  [WTCCCT473555, WTCCCT473227, WTCCCT468253, WTC...                    60  \n",
       "\n",
       "[63 rows x 5 columns]"
      ]
     },
     "execution_count": null,
     "metadata": {},
     "output_type": "execute_result"
    }
   ],
   "source": [
    "get_geno_combination_df(test, rsid_list=[\"rs9610458\", \"rs134490\", \"rs5756405\"]).df"
   ]
  },
  {
   "cell_type": "code",
   "execution_count": null,
   "metadata": {},
   "outputs": [
    {
     "name": "stderr",
     "output_type": "stream",
     "text": [
      "/Users/ahoang/Documents/Learning/nbdev_tutorial_2nd_try/.venv/lib/python3.8/site-packages/ipykernel/ipkernel.py:283: DeprecationWarning: `should_run_async` will not call `transform_cell` automatically in the future. Please pass the result to `transformed_cell` argument and any exception that happen during thetransform in `preprocessing_exc_tuple` in IPython 7.17 and above.\n",
      "  and should_run_async(code)\n"
     ]
    }
   ],
   "source": [
    "test_file = CombinedGenoPheno.process_datasets(genetic_file, sample_file)[\"case\"]"
   ]
  },
  {
   "cell_type": "code",
   "execution_count": null,
   "metadata": {},
   "outputs": [
    {
     "name": "stderr",
     "output_type": "stream",
     "text": [
      "/Users/ahoang/Documents/Learning/nbdev_tutorial_2nd_try/.venv/lib/python3.8/site-packages/ipykernel/ipkernel.py:283: DeprecationWarning: `should_run_async` will not call `transform_cell` automatically in the future. Please pass the result to `transformed_cell` argument and any exception that happen during thetransform in `preprocessing_exc_tuple` in IPython 7.17 and above.\n",
      "  and should_run_async(code)\n"
     ]
    },
    {
     "data": {
      "text/plain": [
       "<nbdev_tutorial.datasets.OVPDataset.OVPDataset at 0x7fe38198fd00>"
      ]
     },
     "execution_count": null,
     "metadata": {},
     "output_type": "execute_result"
    }
   ],
   "source": [
    "genetic_file_split_by_chrom = test_data_catalog.load(\"genetic_file_split_by_chrom\")\n",
    "genetic_file_split_by_chrom\n"
   ]
  },
  {
   "cell_type": "code",
   "execution_count": null,
   "metadata": {},
   "outputs": [
    {
     "name": "stdout",
     "output_type": "stream",
     "text": [
      "<function CombinedGenoPheno._process_file_type.<locals>.combine_genetic_sample_multiple at 0x7fe390909d30>\n"
     ]
    },
    {
     "data": {
      "application/vnd.jupyter.widget-view+json": {
       "model_id": "a7f7cf29623b498e814ffc103e21fa95",
       "version_major": 2,
       "version_minor": 0
      },
      "text/plain": [
       "0it [00:00, ?it/s]"
      ]
     },
     "metadata": {},
     "output_type": "display_data"
    },
    {
     "data": {
      "application/vnd.jupyter.widget-view+json": {
       "model_id": "104a026a77444b07a6c50c23beb3ef4c",
       "version_major": 2,
       "version_minor": 0
      },
      "text/plain": [
       "0it [00:00, ?it/s]"
      ]
     },
     "metadata": {},
     "output_type": "display_data"
    }
   ],
   "source": [
    "test = CombinedGenoPheno.init_from_OVPDataset(genetic_file_split_by_chrom, sample_file, chrom=22, rsid_list = [\"rs77948203\", \"rs9610458\"])#[\"case\"]\n"
   ]
  },
  {
   "cell_type": "code",
   "execution_count": null,
   "metadata": {},
   "outputs": [
    {
     "name": "stderr",
     "output_type": "stream",
     "text": [
      "/Users/ahoang/Documents/Learning/nbdev_tutorial_2nd_try/.venv/lib/python3.8/site-packages/ipykernel/ipkernel.py:283: DeprecationWarning: `should_run_async` will not call `transform_cell` automatically in the future. Please pass the result to `transformed_cell` argument and any exception that happen during thetransform in `preprocessing_exc_tuple` in IPython 7.17 and above.\n",
      "  and should_run_async(code)\n"
     ]
    },
    {
     "data": {
      "text/html": [
       "<div>\n",
       "<style scoped>\n",
       "    .dataframe tbody tr th:only-of-type {\n",
       "        vertical-align: middle;\n",
       "    }\n",
       "\n",
       "    .dataframe tbody tr th {\n",
       "        vertical-align: top;\n",
       "    }\n",
       "\n",
       "    .dataframe thead th {\n",
       "        text-align: right;\n",
       "    }\n",
       "</style>\n",
       "<table border=\"1\" class=\"dataframe\">\n",
       "  <thead>\n",
       "    <tr style=\"text-align: right;\">\n",
       "      <th>rsid</th>\n",
       "      <th>rs77948203</th>\n",
       "      <th>rs9610458</th>\n",
       "    </tr>\n",
       "    <tr>\n",
       "      <th>sample_id</th>\n",
       "      <th></th>\n",
       "      <th></th>\n",
       "    </tr>\n",
       "  </thead>\n",
       "  <tbody>\n",
       "    <tr>\n",
       "      <th>WTCCCT473540</th>\n",
       "      <td>GG</td>\n",
       "      <td>TT</td>\n",
       "    </tr>\n",
       "    <tr>\n",
       "      <th>WTCCCT473530</th>\n",
       "      <td>GG</td>\n",
       "      <td>TT</td>\n",
       "    </tr>\n",
       "    <tr>\n",
       "      <th>WTCCCT473555</th>\n",
       "      <td>GG</td>\n",
       "      <td>TT</td>\n",
       "    </tr>\n",
       "    <tr>\n",
       "      <th>WTCCCT473426</th>\n",
       "      <td>GG</td>\n",
       "      <td>TT</td>\n",
       "    </tr>\n",
       "    <tr>\n",
       "      <th>WTCCCT473489</th>\n",
       "      <td>GG</td>\n",
       "      <td>CT</td>\n",
       "    </tr>\n",
       "    <tr>\n",
       "      <th>...</th>\n",
       "      <td>...</td>\n",
       "      <td>...</td>\n",
       "    </tr>\n",
       "    <tr>\n",
       "      <th>WS574632</th>\n",
       "      <td>GG</td>\n",
       "      <td>CT</td>\n",
       "    </tr>\n",
       "    <tr>\n",
       "      <th>WS574661</th>\n",
       "      <td>GG</td>\n",
       "      <td>TT</td>\n",
       "    </tr>\n",
       "    <tr>\n",
       "      <th>BLOOD294452</th>\n",
       "      <td>GG</td>\n",
       "      <td>CT</td>\n",
       "    </tr>\n",
       "    <tr>\n",
       "      <th>WTCCCT511021</th>\n",
       "      <td>GG</td>\n",
       "      <td>CT</td>\n",
       "    </tr>\n",
       "    <tr>\n",
       "      <th>WTCCCT510948</th>\n",
       "      <td>GG</td>\n",
       "      <td>CT</td>\n",
       "    </tr>\n",
       "  </tbody>\n",
       "</table>\n",
       "<p>14947 rows × 2 columns</p>\n",
       "</div>"
      ],
      "text/plain": [
       "rsid         rs77948203 rs9610458\n",
       "sample_id                        \n",
       "WTCCCT473540         GG        TT\n",
       "WTCCCT473530         GG        TT\n",
       "WTCCCT473555         GG        TT\n",
       "WTCCCT473426         GG        TT\n",
       "WTCCCT473489         GG        CT\n",
       "...                 ...       ...\n",
       "WS574632             GG        CT\n",
       "WS574661             GG        TT\n",
       "BLOOD294452          GG        CT\n",
       "WTCCCT511021         GG        CT\n",
       "WTCCCT510948         GG        CT\n",
       "\n",
       "[14947 rows x 2 columns]"
      ]
     },
     "execution_count": null,
     "metadata": {},
     "output_type": "execute_result"
    }
   ],
   "source": [
    "test"
   ]
  },
  {
   "cell_type": "code",
   "execution_count": null,
   "metadata": {},
   "outputs": [
    {
     "data": {
      "text/plain": [
       "<nbdev_tutorial.datasets.OVPDataset.OVPDataset at 0x7fdf702f4d60>"
      ]
     },
     "execution_count": null,
     "metadata": {},
     "output_type": "execute_result"
    }
   ],
   "source": [
    "genetic_file_split_by_chrom = test_data_catalog.load(\"genetic_file_split_by_chrom\")\n"
   ]
  },
  {
   "cell_type": "code",
   "execution_count": null,
   "metadata": {},
   "outputs": [],
   "source": [
    "genetic_file_single = test_data_catalog.load(\"genetic_file_single\")\n"
   ]
  },
  {
   "cell_type": "code",
   "execution_count": null,
   "metadata": {},
   "outputs": [
    {
     "data": {
      "text/plain": [
       "dict_items([('case', SampleFileFormat(filepath=Path('data/test_data/sample_file/MS_impute2_ALL_sample_out.tsv'), pandas_args={'sep': ' ', 'skiprows': [1]}, sample_id_col='ID_2', cov_cols=['sex'], missing_col='missing')), ('control', SampleFileFormat(filepath=Path('data/test_data/sample_file/ALL_controls_58C_NBS_WTC2_impute2_sample_out.tsv'), pandas_args={'sep': ' ', 'skiprows': [1]}, sample_id_col='ID_2', cov_cols=['sex'], missing_col='missing'))])"
      ]
     },
     "execution_count": null,
     "metadata": {},
     "output_type": "execute_result"
    }
   ],
   "source": [
    "sample_file.files.__dict__.items()"
   ]
  },
  {
   "cell_type": "code",
   "execution_count": null,
   "metadata": {},
   "outputs": [
    {
     "data": {
      "text/plain": [
       "{'case', 'control'}"
      ]
     },
     "execution_count": null,
     "metadata": {},
     "output_type": "execute_result"
    }
   ],
   "source": [
    "for set(genetic_file.files.__dict__.keys()) & set(sample_file.files.__dict__.keys())"
   ]
  },
  {
   "cell_type": "code",
   "execution_count": null,
   "metadata": {},
   "outputs": [
    {
     "data": {
      "text/plain": [
       "{'case': SampleFileFormat(filepath=Path('data/test_data/sample_file/MS_impute2_ALL_sample_out.tsv'), pandas_args={'sep': ' ', 'skiprows': [1]}, sample_id_col='ID_2', cov_cols=['sex'], missing_col='missing'),\n",
       " 'control': SampleFileFormat(filepath=Path('data/test_data/sample_file/ALL_controls_58C_NBS_WTC2_impute2_sample_out.tsv'), pandas_args={'sep': ' ', 'skiprows': [1]}, sample_id_col='ID_2', cov_cols=['sex'], missing_col='missing')}"
      ]
     },
     "execution_count": null,
     "metadata": {},
     "output_type": "execute_result"
    }
   ],
   "source": [
    "vars(genetic_file.files)\n"
   ]
  },
  {
   "cell_type": "code",
   "execution_count": null,
   "metadata": {},
   "outputs": [
    {
     "data": {
      "text/plain": [
       "{'case': SampleFileFormat(filepath=Path('data/test_data/sample_file/MS_impute2_ALL_sample_out.tsv'), pandas_args={'sep': ' ', 'skiprows': [1]}, sample_id_col='ID_2', cov_cols=['sex'], missing_col='missing'),\n",
       " 'control': SampleFileFormat(filepath=Path('data/test_data/sample_file/ALL_controls_58C_NBS_WTC2_impute2_sample_out.tsv'), pandas_args={'sep': ' ', 'skiprows': [1]}, sample_id_col='ID_2', cov_cols=['sex'], missing_col='missing')}"
      ]
     },
     "execution_count": null,
     "metadata": {},
     "output_type": "execute_result"
    }
   ],
   "source": [
    "vars(sample_file.files)"
   ]
  }
 ],
 "metadata": {
  "kernelspec": {
   "display_name": "Python 3",
   "language": "python",
   "name": "python3"
  }
 },
 "nbformat": 4,
 "nbformat_minor": 5
}
