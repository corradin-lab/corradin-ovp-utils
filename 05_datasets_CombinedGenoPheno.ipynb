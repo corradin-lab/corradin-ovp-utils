{
 "cells": [
  {
   "cell_type": "code",
   "execution_count": null,
   "id": "composite-coordinator",
   "metadata": {},
   "outputs": [],
   "source": [
    "# default_exp datasets.CombinedGenoPheno"
   ]
  },
  {
   "cell_type": "markdown",
   "id": "determined-junior",
   "metadata": {},
   "source": [
    "# Combining Genotype and Phenotype files\n",
    "\n",
    "> API details."
   ]
  },
  {
   "cell_type": "code",
   "execution_count": null,
   "id": "square-kingdom",
   "metadata": {},
   "outputs": [],
   "source": [
    "#hide\n",
    "from nbdev.showdoc import *\n",
    "import numpy as np\n",
    "from corradin_ovp_utils.catalog import test_data_catalog, conf_test_data_catalog, get_catalog\n",
    "from corradin_ovp_utils.datasets.genetic_file import triplicate_converter\n",
    "from corradin_ovp_utils.odds_ratio import get_geno_combination_df\n",
    "from fastcore.test import ExceptionExpected\n",
    "import nbdev"
   ]
  },
  {
   "cell_type": "code",
   "execution_count": null,
   "id": "familiar-aberdeen",
   "metadata": {},
   "outputs": [],
   "source": [
    "#export\n",
    "from typing import Any, Dict, List, Optional, Literal, Union\n",
    "from pydantic import BaseModel\n",
    "import pandas as pd\n",
    "import corradin_ovp_utils\n",
    "from fastcore.basics import typed, basic_repr\n",
    "from fastcore.dispatch import typedispatch\n",
    "from corradin_ovp_utils.datasets import OVPDataset\n",
    "from corradin_ovp_utils.datasets.genetic_file import GeneticFileFormat\n",
    "from corradin_ovp_utils.datasets.schemas import SingleFilePathSchema, MultipleFilePathSchema\n",
    "import copy"
   ]
  },
  {
   "cell_type": "code",
   "execution_count": null,
   "id": "raised-membership",
   "metadata": {},
   "outputs": [],
   "source": [
    "#export\n",
    "class CombinedGenoPheno(BaseModel):\n",
    "    #genetic_file_df: pd.DataFrame\n",
    "    #sample_file_df: pd.DataFrame\n",
    "    all_samples_geno_df: pd.DataFrame\n",
    "    all_geno_df: pd.DataFrame\n",
    "    sample_dict: Dict[str, pd.DataFrame]\n",
    "    genetic_files_dict: Dict[str, GeneticFileFormat]\n",
    "        \n",
    "    __repr__ = basic_repr(\"num_snps,num_samples\")\n",
    "    \n",
    "    @property\n",
    "    def num_snps(self):\n",
    "        return len(self.all_samples_geno_df.columns)\n",
    "    \n",
    "    @property\n",
    "    def num_samples(self):\n",
    "        return {key: value.shape[0] for key, value in self.sample_dict.items()}\n",
    "    \n",
    "    def get_geno_each_sample_subset(self, key):\n",
    "        subset_df = self.all_samples_geno_df.loc[self.sample_dict[key].index]\n",
    "        return subset_df\n",
    "    \n",
    "    @property\n",
    "    def sample_subsets(self):\n",
    "        return list(self.sample_dict.keys())\n",
    "    \n",
    "    @classmethod\n",
    "    def init_from_OVPDataset(cls,\n",
    "                             genetic_dataset: OVPDataset.OVPDataset,\n",
    "                             sample_dataset: OVPDataset.OVPDataset,\n",
    "                            rsid_dict: Dict[int,List[str]],\n",
    "                             id_col_list=[\"rsid\"],\n",
    "                             batch_size: int =1_000,\n",
    "                             excluded_sample_ids : List[str] = []\n",
    "                            ):\n",
    "        \n",
    "        genetic_files_dict, sample_dict_loaded = cls.process_datasets(genetic_dataset, sample_dataset, excluded_sample_ids = excluded_sample_ids)\n",
    "        all_samples_geno_df, all_geno_df, *extra_info = zip(*[genetic_file.get_geno_each_sample(rsid_dict, id_col_list=id_col_list, batch_size=1_000, excluded_sample_ids= excluded_sample_ids) for key, genetic_file in genetic_files_dict.items()])\n",
    "        \n",
    "        return CombinedGenoPheno(all_samples_geno_df = pd.concat(all_samples_geno_df), sample_dict= sample_dict_loaded, genetic_files_dict= genetic_files_dict, all_geno_df = all_geno_df[0])\n",
    "            \n",
    "    \n",
    "\n",
    "    @classmethod\n",
    "    def process_datasets(cls, genetic_dataset: OVPDataset.OVPDataset, sample_dataset: OVPDataset.OVPDataset, excluded_sample_ids:List[str]=[]):\n",
    "        combine_genetic_sample_func = cls._process_file_type(genetic_dataset._file_path, sample_dataset._file_path)\n",
    "        genetic_dict, sample_dict_loaded = combine_genetic_sample_func(genetic_dataset, sample_dataset, excluded_sample_ids= excluded_sample_ids)\n",
    "        return genetic_dict, sample_dict_loaded\n",
    "    \n",
    "    \n",
    "#     @typedispatch    \n",
    "#     @classmethod\n",
    "#     def _process_file_type(cls, genetic_file_schema: SingleFilePathSchema, sample_file_schema: SingleFilePathSchema):\n",
    "#         return lambda genetic, sample: genetic\n",
    "    \n",
    "    \n",
    "#     @typedispatch\n",
    "    @classmethod\n",
    "    def _process_file_type(cls, genetic_file_schema: MultipleFilePathSchema,\n",
    "                           sample_file_schema: MultipleFilePathSchema):\n",
    "        assert genetic_file_schema.__class__ == sample_file_schema.__class__\n",
    "        def combine_genetic_sample_multiple(genetic_dataset, sample_file_dataset, excluded_sample_ids:List[str]):\n",
    "            genetic_dict = copy.deepcopy(vars(genetic_dataset.files))\n",
    "            sample_dict = copy.deepcopy(vars(sample_file_dataset.files))\n",
    "            shared_keys = set(genetic_dict.keys()) & set(sample_dict.keys())\n",
    "            sample_dict_loaded = {}\n",
    "            \n",
    "            #make sure the two datasets only have shared keys\n",
    "            assert set(genetic_dict.keys()) == set(sample_dict.keys())\n",
    "            for key in shared_keys:\n",
    "                sample_file_loaded = sample_dict[key].load(with_missing_samples = True)\n",
    "                genetic_dict[key].sample_ids = list(sample_file_loaded.index)\n",
    "                genetic_dict[key].sample_file = sample_dict[key].file_path.get_full_file_path()\n",
    "                sample_dict_loaded[key] = sample_dict[key].load(with_missing_samples = False).query(\"index not in @excluded_sample_ids\")\n",
    "            \n",
    "            return genetic_dict, sample_dict_loaded\n",
    "        \n",
    "        return combine_genetic_sample_multiple\n",
    "                \n",
    "    class Config:\n",
    "        arbitrary_types_allowed = True"
   ]
  },
  {
   "cell_type": "code",
   "execution_count": null,
   "id": "inside-fantasy",
   "metadata": {},
   "outputs": [],
   "source": [
    "genetic_file = test_data_catalog.load(\"genetic_file\")\n",
    "sample_file = test_data_catalog.load(\"sample_file\")"
   ]
  },
  {
   "cell_type": "code",
   "execution_count": null,
   "id": "communist-chick",
   "metadata": {},
   "outputs": [
    {
     "data": {
      "text/plain": [
       "{'case': GenFileFormat(file_path=SingleFilePathSchema(folder='data/test_data/gen_file', full_file_name='test_CASE_MS_chr22.gen', file_name='test_CASE_MS_chr22', extension='gen', split_by_chromosome=None, chrom_num=22)),\n",
       " 'control': GenFileFormat(file_path=SingleFilePathSchema(folder='data/test_data/gen_file', full_file_name='test_CONTROL_MS_chr22.gen', file_name='test_CONTROL_MS_chr22', extension='gen', split_by_chromosome=None, chrom_num=22))}"
      ]
     },
     "execution_count": null,
     "metadata": {},
     "output_type": "execute_result"
    }
   ],
   "source": [
    "vars(genetic_file.files)\n"
   ]
  },
  {
   "cell_type": "code",
   "execution_count": null,
   "id": "domestic-layout",
   "metadata": {},
   "outputs": [
    {
     "data": {
      "text/plain": [
       "{'case': SampleFileFormat(file_path=SingleFilePathSchema(folder='data/test_data/sample_file', full_file_name='MS_impute2_ALL_sample_out.tsv', file_name='MS_impute2_ALL_sample_out', extension='tsv', split_by_chromosome=None, chrom_num=None), pandas_args={'sep': ' ', 'skiprows': [1]}, sample_id_col='ID_2', cov_cols=['sex'], missing_col='missing'),\n",
       " 'control': SampleFileFormat(file_path=SingleFilePathSchema(folder='data/test_data/sample_file', full_file_name='ALL_controls_58C_NBS_WTC2_impute2_sample_out.tsv', file_name='ALL_controls_58C_NBS_WTC2_impute2_sample_out', extension='tsv', split_by_chromosome=None, chrom_num=None), pandas_args={'sep': ' ', 'skiprows': [1]}, sample_id_col='ID_2', cov_cols=['sex'], missing_col='missing')}"
      ]
     },
     "execution_count": null,
     "metadata": {},
     "output_type": "execute_result"
    }
   ],
   "source": [
    "vars(sample_file.files)"
   ]
  },
  {
   "cell_type": "code",
   "execution_count": null,
   "id": "raising-software",
   "metadata": {},
   "outputs": [],
   "source": [
    "geno_dict, sample_dict = CombinedGenoPheno.process_datasets(genetic_file, sample_file)"
   ]
  },
  {
   "cell_type": "code",
   "execution_count": null,
   "id": "ready-oracle",
   "metadata": {},
   "outputs": [
    {
     "data": {
      "text/plain": [
       "GenFileFormat(file_path=SingleFilePathSchema(folder='data/test_data/gen_file', full_file_name='test_CASE_MS_chr22.gen', file_name='test_CASE_MS_chr22', extension='gen', split_by_chromosome=None, chrom_num=22))"
      ]
     },
     "execution_count": null,
     "metadata": {},
     "output_type": "execute_result"
    }
   ],
   "source": [
    "test_file = geno_dict[\"case\"]\n",
    "test_file"
   ]
  },
  {
   "cell_type": "code",
   "execution_count": null,
   "id": "genuine-stretch",
   "metadata": {},
   "outputs": [
    {
     "data": {
      "text/plain": [
       "GenFileObject(chrom=22, file_path=Path('data/test_data/gen_file/test_CASE_MS_chr22.gen'))"
      ]
     },
     "execution_count": null,
     "metadata": {},
     "output_type": "execute_result"
    }
   ],
   "source": [
    "test_file_chrom22 = test_file.load(chrom=22)\n",
    "test_file_chrom22"
   ]
  },
  {
   "cell_type": "code",
   "execution_count": null,
   "id": "advance-sussex",
   "metadata": {},
   "outputs": [
    {
     "data": {
      "text/html": [
       "<div>\n",
       "<style scoped>\n",
       "    .dataframe tbody tr th:only-of-type {\n",
       "        vertical-align: middle;\n",
       "    }\n",
       "\n",
       "    .dataframe tbody tr th {\n",
       "        vertical-align: top;\n",
       "    }\n",
       "\n",
       "    .dataframe thead tr th {\n",
       "        text-align: left;\n",
       "    }\n",
       "</style>\n",
       "<table border=\"1\" class=\"dataframe\">\n",
       "  <thead>\n",
       "    <tr>\n",
       "      <th></th>\n",
       "      <th>dashes</th>\n",
       "      <th>rsid</th>\n",
       "      <th>position</th>\n",
       "      <th>alleleA</th>\n",
       "      <th>alleleB</th>\n",
       "      <th colspan=\"3\" halign=\"left\">WTCCCT473540</th>\n",
       "      <th colspan=\"2\" halign=\"left\">WTCCCT473530</th>\n",
       "      <th>...</th>\n",
       "      <th>WTCCCT473479</th>\n",
       "      <th colspan=\"3\" halign=\"left\">WTCCCT473432</th>\n",
       "      <th colspan=\"3\" halign=\"left\">WTCCCT473465</th>\n",
       "      <th colspan=\"3\" halign=\"left\">WTCCCT473421</th>\n",
       "    </tr>\n",
       "    <tr>\n",
       "      <th></th>\n",
       "      <th></th>\n",
       "      <th></th>\n",
       "      <th></th>\n",
       "      <th></th>\n",
       "      <th></th>\n",
       "      <th>AA</th>\n",
       "      <th>AB</th>\n",
       "      <th>BB</th>\n",
       "      <th>AA</th>\n",
       "      <th>AB</th>\n",
       "      <th>...</th>\n",
       "      <th>BB</th>\n",
       "      <th>AA</th>\n",
       "      <th>AB</th>\n",
       "      <th>BB</th>\n",
       "      <th>AA</th>\n",
       "      <th>AB</th>\n",
       "      <th>BB</th>\n",
       "      <th>AA</th>\n",
       "      <th>AB</th>\n",
       "      <th>BB</th>\n",
       "    </tr>\n",
       "  </thead>\n",
       "  <tbody>\n",
       "    <tr>\n",
       "      <th>0</th>\n",
       "      <td>---</td>\n",
       "      <td>rs77948203</td>\n",
       "      <td>21249165</td>\n",
       "      <td>G</td>\n",
       "      <td>A</td>\n",
       "      <td>1</td>\n",
       "      <td>0.000</td>\n",
       "      <td>0.000</td>\n",
       "      <td>1</td>\n",
       "      <td>0.000</td>\n",
       "      <td>...</td>\n",
       "      <td>0</td>\n",
       "      <td>1</td>\n",
       "      <td>0</td>\n",
       "      <td>0</td>\n",
       "      <td>1</td>\n",
       "      <td>0.000</td>\n",
       "      <td>0.000</td>\n",
       "      <td>1</td>\n",
       "      <td>0</td>\n",
       "      <td>0</td>\n",
       "    </tr>\n",
       "    <tr>\n",
       "      <th>1</th>\n",
       "      <td>---</td>\n",
       "      <td>rs1014626</td>\n",
       "      <td>21461017</td>\n",
       "      <td>C</td>\n",
       "      <td>T</td>\n",
       "      <td>0</td>\n",
       "      <td>0.000</td>\n",
       "      <td>1.000</td>\n",
       "      <td>0</td>\n",
       "      <td>0.000</td>\n",
       "      <td>...</td>\n",
       "      <td>1</td>\n",
       "      <td>0</td>\n",
       "      <td>0</td>\n",
       "      <td>1</td>\n",
       "      <td>0</td>\n",
       "      <td>0.000</td>\n",
       "      <td>1.000</td>\n",
       "      <td>0</td>\n",
       "      <td>0</td>\n",
       "      <td>1</td>\n",
       "    </tr>\n",
       "    <tr>\n",
       "      <th>2</th>\n",
       "      <td>---</td>\n",
       "      <td>rs9610458</td>\n",
       "      <td>22205353</td>\n",
       "      <td>C</td>\n",
       "      <td>T</td>\n",
       "      <td>0</td>\n",
       "      <td>0.000</td>\n",
       "      <td>1.000</td>\n",
       "      <td>0</td>\n",
       "      <td>0.000</td>\n",
       "      <td>...</td>\n",
       "      <td>0</td>\n",
       "      <td>0</td>\n",
       "      <td>1</td>\n",
       "      <td>0</td>\n",
       "      <td>0</td>\n",
       "      <td>1.000</td>\n",
       "      <td>0.000</td>\n",
       "      <td>0</td>\n",
       "      <td>0</td>\n",
       "      <td>1</td>\n",
       "    </tr>\n",
       "    <tr>\n",
       "      <th>3</th>\n",
       "      <td>---</td>\n",
       "      <td>rs5762201</td>\n",
       "      <td>27888455</td>\n",
       "      <td>A</td>\n",
       "      <td>G</td>\n",
       "      <td>0</td>\n",
       "      <td>0.000</td>\n",
       "      <td>1.000</td>\n",
       "      <td>0</td>\n",
       "      <td>0.012</td>\n",
       "      <td>...</td>\n",
       "      <td>1</td>\n",
       "      <td>0</td>\n",
       "      <td>0</td>\n",
       "      <td>1</td>\n",
       "      <td>0</td>\n",
       "      <td>0.000</td>\n",
       "      <td>1.000</td>\n",
       "      <td>0</td>\n",
       "      <td>0</td>\n",
       "      <td>1</td>\n",
       "    </tr>\n",
       "    <tr>\n",
       "      <th>4</th>\n",
       "      <td>---</td>\n",
       "      <td>rs1004237</td>\n",
       "      <td>28068501</td>\n",
       "      <td>C</td>\n",
       "      <td>T</td>\n",
       "      <td>1</td>\n",
       "      <td>0.000</td>\n",
       "      <td>0.000</td>\n",
       "      <td>1</td>\n",
       "      <td>0.000</td>\n",
       "      <td>...</td>\n",
       "      <td>0</td>\n",
       "      <td>1</td>\n",
       "      <td>0</td>\n",
       "      <td>0</td>\n",
       "      <td>1</td>\n",
       "      <td>0.000</td>\n",
       "      <td>0.000</td>\n",
       "      <td>1</td>\n",
       "      <td>0</td>\n",
       "      <td>0</td>\n",
       "    </tr>\n",
       "    <tr>\n",
       "      <th>5</th>\n",
       "      <td>---</td>\n",
       "      <td>rs134490</td>\n",
       "      <td>28730175</td>\n",
       "      <td>C</td>\n",
       "      <td>T</td>\n",
       "      <td>0</td>\n",
       "      <td>0.232</td>\n",
       "      <td>0.768</td>\n",
       "      <td>0</td>\n",
       "      <td>0.014</td>\n",
       "      <td>...</td>\n",
       "      <td>0</td>\n",
       "      <td>0</td>\n",
       "      <td>1</td>\n",
       "      <td>0</td>\n",
       "      <td>0</td>\n",
       "      <td>0.356</td>\n",
       "      <td>0.644</td>\n",
       "      <td>0</td>\n",
       "      <td>0</td>\n",
       "      <td>1</td>\n",
       "    </tr>\n",
       "    <tr>\n",
       "      <th>6</th>\n",
       "      <td>---</td>\n",
       "      <td>rs4821519</td>\n",
       "      <td>37102100</td>\n",
       "      <td>G</td>\n",
       "      <td>C</td>\n",
       "      <td>1</td>\n",
       "      <td>0.000</td>\n",
       "      <td>0.000</td>\n",
       "      <td>0</td>\n",
       "      <td>1.000</td>\n",
       "      <td>...</td>\n",
       "      <td>0</td>\n",
       "      <td>1</td>\n",
       "      <td>0</td>\n",
       "      <td>0</td>\n",
       "      <td>1</td>\n",
       "      <td>0.000</td>\n",
       "      <td>0.000</td>\n",
       "      <td>1</td>\n",
       "      <td>0</td>\n",
       "      <td>0</td>\n",
       "    </tr>\n",
       "    <tr>\n",
       "      <th>7</th>\n",
       "      <td>---</td>\n",
       "      <td>rs1003500</td>\n",
       "      <td>37262769</td>\n",
       "      <td>C</td>\n",
       "      <td>T</td>\n",
       "      <td>1</td>\n",
       "      <td>0.000</td>\n",
       "      <td>0.000</td>\n",
       "      <td>1</td>\n",
       "      <td>0.000</td>\n",
       "      <td>...</td>\n",
       "      <td>0</td>\n",
       "      <td>1</td>\n",
       "      <td>0</td>\n",
       "      <td>0</td>\n",
       "      <td>1</td>\n",
       "      <td>0.000</td>\n",
       "      <td>0.000</td>\n",
       "      <td>1</td>\n",
       "      <td>0</td>\n",
       "      <td>0</td>\n",
       "    </tr>\n",
       "    <tr>\n",
       "      <th>8</th>\n",
       "      <td>---</td>\n",
       "      <td>rs5756405</td>\n",
       "      <td>37310954</td>\n",
       "      <td>A</td>\n",
       "      <td>G</td>\n",
       "      <td>0</td>\n",
       "      <td>1.000</td>\n",
       "      <td>0.000</td>\n",
       "      <td>1</td>\n",
       "      <td>0.000</td>\n",
       "      <td>...</td>\n",
       "      <td>1</td>\n",
       "      <td>0</td>\n",
       "      <td>1</td>\n",
       "      <td>0</td>\n",
       "      <td>1</td>\n",
       "      <td>0.000</td>\n",
       "      <td>0.000</td>\n",
       "      <td>0</td>\n",
       "      <td>1</td>\n",
       "      <td>0</td>\n",
       "    </tr>\n",
       "  </tbody>\n",
       "</table>\n",
       "<p>9 rows × 29321 columns</p>\n",
       "</div>"
      ],
      "text/plain": [
       "  dashes        rsid  position alleleA alleleB WTCCCT473540                \\\n",
       "                                                         AA     AB     BB   \n",
       "0    ---  rs77948203  21249165       G       A            1  0.000  0.000   \n",
       "1    ---   rs1014626  21461017       C       T            0  0.000  1.000   \n",
       "2    ---   rs9610458  22205353       C       T            0  0.000  1.000   \n",
       "3    ---   rs5762201  27888455       A       G            0  0.000  1.000   \n",
       "4    ---   rs1004237  28068501       C       T            1  0.000  0.000   \n",
       "5    ---    rs134490  28730175       C       T            0  0.232  0.768   \n",
       "6    ---   rs4821519  37102100       G       C            1  0.000  0.000   \n",
       "7    ---   rs1003500  37262769       C       T            1  0.000  0.000   \n",
       "8    ---   rs5756405  37310954       A       G            0  1.000  0.000   \n",
       "\n",
       "  WTCCCT473530         ... WTCCCT473479 WTCCCT473432       WTCCCT473465  \\\n",
       "            AA     AB  ...           BB           AA AB BB           AA   \n",
       "0            1  0.000  ...            0            1  0  0            1   \n",
       "1            0  0.000  ...            1            0  0  1            0   \n",
       "2            0  0.000  ...            0            0  1  0            0   \n",
       "3            0  0.012  ...            1            0  0  1            0   \n",
       "4            1  0.000  ...            0            1  0  0            1   \n",
       "5            0  0.014  ...            0            0  1  0            0   \n",
       "6            0  1.000  ...            0            1  0  0            1   \n",
       "7            1  0.000  ...            0            1  0  0            1   \n",
       "8            1  0.000  ...            1            0  1  0            1   \n",
       "\n",
       "                WTCCCT473421        \n",
       "      AB     BB           AA AB BB  \n",
       "0  0.000  0.000            1  0  0  \n",
       "1  0.000  1.000            0  0  1  \n",
       "2  1.000  0.000            0  0  1  \n",
       "3  0.000  1.000            0  0  1  \n",
       "4  0.000  0.000            1  0  0  \n",
       "5  0.356  0.644            0  0  1  \n",
       "6  0.000  0.000            1  0  0  \n",
       "7  0.000  0.000            1  0  0  \n",
       "8  0.000  0.000            0  1  0  \n",
       "\n",
       "[9 rows x 29321 columns]"
      ]
     },
     "execution_count": null,
     "metadata": {},
     "output_type": "execute_result"
    }
   ],
   "source": [
    "test_file_chrom22.load_df()"
   ]
  },
  {
   "cell_type": "code",
   "execution_count": null,
   "id": "national-contents",
   "metadata": {},
   "outputs": [],
   "source": [
    "with ExceptionExpected(ex=MemoryError, regex = \"is too big, input limit is 10K.\"): test_file_chrom22.load_df(size_limit=10_000)"
   ]
  },
  {
   "cell_type": "code",
   "execution_count": null,
   "id": "promotional-aluminum",
   "metadata": {},
   "outputs": [
    {
     "name": "stdout",
     "output_type": "stream",
     "text": [
      "reading genetic file and collecting found SNPs for file data/test_data/gen_file/test_CASE_MS_chr22.gen\n"
     ]
    },
    {
     "data": {
      "application/vnd.jupyter.widget-view+json": {
       "model_id": "3eeaadcc20bd4e0cad8d6a64fe3385f9",
       "version_major": 2,
       "version_minor": 0
      },
      "text/plain": [
       "0it [00:00, ?it/s]"
      ]
     },
     "metadata": {},
     "output_type": "display_data"
    },
    {
     "name": "stdout",
     "output_type": "stream",
     "text": [
      "processing last batch\n"
     ]
    },
    {
     "data": {
      "application/vnd.jupyter.widget-view+json": {
       "model_id": "315d1cf107a54281aef81d5caf74209d",
       "version_major": 2,
       "version_minor": 0
      },
      "text/plain": [
       "0it [00:00, ?it/s]"
      ]
     },
     "metadata": {},
     "output_type": "display_data"
    },
    {
     "name": "stdout",
     "output_type": "stream",
     "text": [
      "reading genetic file and collecting found SNPs for file data/test_data/gen_file/test_CONTROL_MS_chr22.gen\n"
     ]
    },
    {
     "data": {
      "application/vnd.jupyter.widget-view+json": {
       "model_id": "e69064efb98f4c05a18ccfc9cc1c2a78",
       "version_major": 2,
       "version_minor": 0
      },
      "text/plain": [
       "0it [00:00, ?it/s]"
      ]
     },
     "metadata": {},
     "output_type": "display_data"
    },
    {
     "name": "stdout",
     "output_type": "stream",
     "text": [
      "processing last batch\n"
     ]
    },
    {
     "data": {
      "application/vnd.jupyter.widget-view+json": {
       "model_id": "1757d525f5cf46e59852caa7252fb04c",
       "version_major": 2,
       "version_minor": 0
      },
      "text/plain": [
       "0it [00:00, ?it/s]"
      ]
     },
     "metadata": {},
     "output_type": "display_data"
    },
    {
     "data": {
      "text/plain": [
       "CombinedGenoPheno(num_snps=4, num_samples={'case': 9772, 'control': 5175})"
      ]
     },
     "execution_count": null,
     "metadata": {},
     "output_type": "execute_result"
    }
   ],
   "source": [
    "test = CombinedGenoPheno.init_from_OVPDataset(genetic_file, sample_file, rsid_dict = {22: [\"rs77948203\", \"rs9610458\", \"rs134490\", \"rs5756405\"]})#[\"case\"]\n",
    "test"
   ]
  },
  {
   "cell_type": "code",
   "execution_count": null,
   "id": "aquatic-austin",
   "metadata": {},
   "outputs": [
    {
     "data": {
      "text/plain": [
       "{'case': GenFileFormat(file_path=SingleFilePathSchema(folder='data/test_data/gen_file', full_file_name='test_CASE_MS_chr22.gen', file_name='test_CASE_MS_chr22', extension='gen', split_by_chromosome=None, chrom_num=22)),\n",
       " 'control': GenFileFormat(file_path=SingleFilePathSchema(folder='data/test_data/gen_file', full_file_name='test_CONTROL_MS_chr22.gen', file_name='test_CONTROL_MS_chr22', extension='gen', split_by_chromosome=None, chrom_num=22))}"
      ]
     },
     "execution_count": null,
     "metadata": {},
     "output_type": "execute_result"
    }
   ],
   "source": [
    "test.genetic_files_dict"
   ]
  },
  {
   "cell_type": "code",
   "execution_count": null,
   "id": "adaptive-pierre",
   "metadata": {},
   "outputs": [
    {
     "data": {
      "text/plain": [
       "{'case': GenFileFormat(file_path=SingleFilePathSchema(folder='data/test_data/gen_file', full_file_name='test_CASE_MS_chr22.gen', file_name='test_CASE_MS_chr22', extension='gen', split_by_chromosome=None, chrom_num=22)),\n",
       " 'control': GenFileFormat(file_path=SingleFilePathSchema(folder='data/test_data/gen_file', full_file_name='test_CONTROL_MS_chr22.gen', file_name='test_CONTROL_MS_chr22', extension='gen', split_by_chromosome=None, chrom_num=22))}"
      ]
     },
     "execution_count": null,
     "metadata": {},
     "output_type": "execute_result"
    }
   ],
   "source": [
    "test.genetic_files_dict"
   ]
  },
  {
   "cell_type": "code",
   "execution_count": null,
   "id": "surprised-letters",
   "metadata": {},
   "outputs": [
    {
     "data": {
      "text/html": [
       "<div>\n",
       "<style scoped>\n",
       "    .dataframe tbody tr th:only-of-type {\n",
       "        vertical-align: middle;\n",
       "    }\n",
       "\n",
       "    .dataframe tbody tr th {\n",
       "        vertical-align: top;\n",
       "    }\n",
       "\n",
       "    .dataframe thead th {\n",
       "        text-align: right;\n",
       "    }\n",
       "</style>\n",
       "<table border=\"1\" class=\"dataframe\">\n",
       "  <thead>\n",
       "    <tr style=\"text-align: right;\">\n",
       "      <th>first</th>\n",
       "      <th>alleleA</th>\n",
       "      <th>alleleB</th>\n",
       "      <th>AA</th>\n",
       "      <th>AB</th>\n",
       "      <th>BB</th>\n",
       "    </tr>\n",
       "    <tr>\n",
       "      <th>id_col</th>\n",
       "      <th></th>\n",
       "      <th></th>\n",
       "      <th></th>\n",
       "      <th></th>\n",
       "      <th></th>\n",
       "    </tr>\n",
       "  </thead>\n",
       "  <tbody>\n",
       "    <tr>\n",
       "      <th>rs77948203</th>\n",
       "      <td>G</td>\n",
       "      <td>A</td>\n",
       "      <td>GG</td>\n",
       "      <td>AG</td>\n",
       "      <td>AA</td>\n",
       "    </tr>\n",
       "    <tr>\n",
       "      <th>rs9610458</th>\n",
       "      <td>C</td>\n",
       "      <td>T</td>\n",
       "      <td>CC</td>\n",
       "      <td>CT</td>\n",
       "      <td>TT</td>\n",
       "    </tr>\n",
       "    <tr>\n",
       "      <th>rs134490</th>\n",
       "      <td>C</td>\n",
       "      <td>T</td>\n",
       "      <td>CC</td>\n",
       "      <td>CT</td>\n",
       "      <td>TT</td>\n",
       "    </tr>\n",
       "    <tr>\n",
       "      <th>rs5756405</th>\n",
       "      <td>A</td>\n",
       "      <td>G</td>\n",
       "      <td>AA</td>\n",
       "      <td>AG</td>\n",
       "      <td>GG</td>\n",
       "    </tr>\n",
       "  </tbody>\n",
       "</table>\n",
       "</div>"
      ],
      "text/plain": [
       "first      alleleA alleleB  AA  AB  BB\n",
       "id_col                                \n",
       "rs77948203       G       A  GG  AG  AA\n",
       "rs9610458        C       T  CC  CT  TT\n",
       "rs134490         C       T  CC  CT  TT\n",
       "rs5756405        A       G  AA  AG  GG"
      ]
     },
     "execution_count": null,
     "metadata": {},
     "output_type": "execute_result"
    }
   ],
   "source": [
    "test.all_geno_df"
   ]
  },
  {
   "cell_type": "code",
   "execution_count": null,
   "id": "logical-steal",
   "metadata": {},
   "outputs": [
    {
     "data": {
      "text/html": [
       "<div>\n",
       "<style scoped>\n",
       "    .dataframe tbody tr th:only-of-type {\n",
       "        vertical-align: middle;\n",
       "    }\n",
       "\n",
       "    .dataframe tbody tr th {\n",
       "        vertical-align: top;\n",
       "    }\n",
       "\n",
       "    .dataframe thead th {\n",
       "        text-align: right;\n",
       "    }\n",
       "</style>\n",
       "<table border=\"1\" class=\"dataframe\">\n",
       "  <thead>\n",
       "    <tr style=\"text-align: right;\">\n",
       "      <th>id_col</th>\n",
       "      <th>rs77948203</th>\n",
       "      <th>rs9610458</th>\n",
       "      <th>rs134490</th>\n",
       "      <th>rs5756405</th>\n",
       "    </tr>\n",
       "    <tr>\n",
       "      <th>sample_id</th>\n",
       "      <th></th>\n",
       "      <th></th>\n",
       "      <th></th>\n",
       "      <th></th>\n",
       "    </tr>\n",
       "  </thead>\n",
       "  <tbody>\n",
       "    <tr>\n",
       "      <th>WTCCCT473540</th>\n",
       "      <td>GG</td>\n",
       "      <td>TT</td>\n",
       "      <td>NA</td>\n",
       "      <td>AG</td>\n",
       "    </tr>\n",
       "    <tr>\n",
       "      <th>WTCCCT473530</th>\n",
       "      <td>GG</td>\n",
       "      <td>TT</td>\n",
       "      <td>TT</td>\n",
       "      <td>AA</td>\n",
       "    </tr>\n",
       "    <tr>\n",
       "      <th>WTCCCT473555</th>\n",
       "      <td>GG</td>\n",
       "      <td>TT</td>\n",
       "      <td>TT</td>\n",
       "      <td>NA</td>\n",
       "    </tr>\n",
       "    <tr>\n",
       "      <th>WTCCCT473426</th>\n",
       "      <td>GG</td>\n",
       "      <td>TT</td>\n",
       "      <td>TT</td>\n",
       "      <td>GG</td>\n",
       "    </tr>\n",
       "    <tr>\n",
       "      <th>WTCCCT473489</th>\n",
       "      <td>GG</td>\n",
       "      <td>CT</td>\n",
       "      <td>NA</td>\n",
       "      <td>AA</td>\n",
       "    </tr>\n",
       "    <tr>\n",
       "      <th>...</th>\n",
       "      <td>...</td>\n",
       "      <td>...</td>\n",
       "      <td>...</td>\n",
       "      <td>...</td>\n",
       "    </tr>\n",
       "    <tr>\n",
       "      <th>WS574632</th>\n",
       "      <td>GG</td>\n",
       "      <td>CT</td>\n",
       "      <td>TT</td>\n",
       "      <td>GG</td>\n",
       "    </tr>\n",
       "    <tr>\n",
       "      <th>WS574661</th>\n",
       "      <td>GG</td>\n",
       "      <td>TT</td>\n",
       "      <td>TT</td>\n",
       "      <td>AA</td>\n",
       "    </tr>\n",
       "    <tr>\n",
       "      <th>BLOOD294452</th>\n",
       "      <td>GG</td>\n",
       "      <td>CT</td>\n",
       "      <td>TT</td>\n",
       "      <td>AG</td>\n",
       "    </tr>\n",
       "    <tr>\n",
       "      <th>WTCCCT511021</th>\n",
       "      <td>GG</td>\n",
       "      <td>CT</td>\n",
       "      <td>TT</td>\n",
       "      <td>AG</td>\n",
       "    </tr>\n",
       "    <tr>\n",
       "      <th>WTCCCT510948</th>\n",
       "      <td>GG</td>\n",
       "      <td>CT</td>\n",
       "      <td>TT</td>\n",
       "      <td>AA</td>\n",
       "    </tr>\n",
       "  </tbody>\n",
       "</table>\n",
       "<p>14947 rows × 4 columns</p>\n",
       "</div>"
      ],
      "text/plain": [
       "id_col       rs77948203 rs9610458 rs134490 rs5756405\n",
       "sample_id                                           \n",
       "WTCCCT473540         GG        TT       NA        AG\n",
       "WTCCCT473530         GG        TT       TT        AA\n",
       "WTCCCT473555         GG        TT       TT        NA\n",
       "WTCCCT473426         GG        TT       TT        GG\n",
       "WTCCCT473489         GG        CT       NA        AA\n",
       "...                 ...       ...      ...       ...\n",
       "WS574632             GG        CT       TT        GG\n",
       "WS574661             GG        TT       TT        AA\n",
       "BLOOD294452          GG        CT       TT        AG\n",
       "WTCCCT511021         GG        CT       TT        AG\n",
       "WTCCCT510948         GG        CT       TT        AA\n",
       "\n",
       "[14947 rows x 4 columns]"
      ]
     },
     "execution_count": null,
     "metadata": {},
     "output_type": "execute_result"
    }
   ],
   "source": [
    "test.all_samples_geno_df"
   ]
  },
  {
   "cell_type": "code",
   "execution_count": null,
   "id": "ordered-newark",
   "metadata": {},
   "outputs": [
    {
     "data": {
      "text/html": [
       "<div>\n",
       "<style scoped>\n",
       "    .dataframe tbody tr th:only-of-type {\n",
       "        vertical-align: middle;\n",
       "    }\n",
       "\n",
       "    .dataframe tbody tr th {\n",
       "        vertical-align: top;\n",
       "    }\n",
       "\n",
       "    .dataframe thead th {\n",
       "        text-align: right;\n",
       "    }\n",
       "</style>\n",
       "<table border=\"1\" class=\"dataframe\">\n",
       "  <thead>\n",
       "    <tr style=\"text-align: right;\">\n",
       "      <th>id_col</th>\n",
       "      <th>rs77948203</th>\n",
       "      <th>rs9610458</th>\n",
       "      <th>rs134490</th>\n",
       "      <th>rs5756405</th>\n",
       "    </tr>\n",
       "    <tr>\n",
       "      <th>sample_id</th>\n",
       "      <th></th>\n",
       "      <th></th>\n",
       "      <th></th>\n",
       "      <th></th>\n",
       "    </tr>\n",
       "  </thead>\n",
       "  <tbody>\n",
       "    <tr>\n",
       "      <th>WTCCCT473540</th>\n",
       "      <td>GG</td>\n",
       "      <td>TT</td>\n",
       "      <td>NA</td>\n",
       "      <td>AG</td>\n",
       "    </tr>\n",
       "    <tr>\n",
       "      <th>WTCCCT473530</th>\n",
       "      <td>GG</td>\n",
       "      <td>TT</td>\n",
       "      <td>TT</td>\n",
       "      <td>AA</td>\n",
       "    </tr>\n",
       "    <tr>\n",
       "      <th>WTCCCT473555</th>\n",
       "      <td>GG</td>\n",
       "      <td>TT</td>\n",
       "      <td>TT</td>\n",
       "      <td>NA</td>\n",
       "    </tr>\n",
       "    <tr>\n",
       "      <th>WTCCCT473426</th>\n",
       "      <td>GG</td>\n",
       "      <td>TT</td>\n",
       "      <td>TT</td>\n",
       "      <td>GG</td>\n",
       "    </tr>\n",
       "    <tr>\n",
       "      <th>WTCCCT473489</th>\n",
       "      <td>GG</td>\n",
       "      <td>CT</td>\n",
       "      <td>NA</td>\n",
       "      <td>AA</td>\n",
       "    </tr>\n",
       "    <tr>\n",
       "      <th>...</th>\n",
       "      <td>...</td>\n",
       "      <td>...</td>\n",
       "      <td>...</td>\n",
       "      <td>...</td>\n",
       "    </tr>\n",
       "    <tr>\n",
       "      <th>WTCCCT473455</th>\n",
       "      <td>GG</td>\n",
       "      <td>TT</td>\n",
       "      <td>TT</td>\n",
       "      <td>AG</td>\n",
       "    </tr>\n",
       "    <tr>\n",
       "      <th>WTCCCT473479</th>\n",
       "      <td>GG</td>\n",
       "      <td>CT</td>\n",
       "      <td>CT</td>\n",
       "      <td>GG</td>\n",
       "    </tr>\n",
       "    <tr>\n",
       "      <th>WTCCCT473432</th>\n",
       "      <td>GG</td>\n",
       "      <td>CT</td>\n",
       "      <td>CT</td>\n",
       "      <td>AG</td>\n",
       "    </tr>\n",
       "    <tr>\n",
       "      <th>WTCCCT473465</th>\n",
       "      <td>GG</td>\n",
       "      <td>CT</td>\n",
       "      <td>NA</td>\n",
       "      <td>AA</td>\n",
       "    </tr>\n",
       "    <tr>\n",
       "      <th>WTCCCT473421</th>\n",
       "      <td>GG</td>\n",
       "      <td>TT</td>\n",
       "      <td>TT</td>\n",
       "      <td>AG</td>\n",
       "    </tr>\n",
       "  </tbody>\n",
       "</table>\n",
       "<p>9772 rows × 4 columns</p>\n",
       "</div>"
      ],
      "text/plain": [
       "id_col       rs77948203 rs9610458 rs134490 rs5756405\n",
       "sample_id                                           \n",
       "WTCCCT473540         GG        TT       NA        AG\n",
       "WTCCCT473530         GG        TT       TT        AA\n",
       "WTCCCT473555         GG        TT       TT        NA\n",
       "WTCCCT473426         GG        TT       TT        GG\n",
       "WTCCCT473489         GG        CT       NA        AA\n",
       "...                 ...       ...      ...       ...\n",
       "WTCCCT473455         GG        TT       TT        AG\n",
       "WTCCCT473479         GG        CT       CT        GG\n",
       "WTCCCT473432         GG        CT       CT        AG\n",
       "WTCCCT473465         GG        CT       NA        AA\n",
       "WTCCCT473421         GG        TT       TT        AG\n",
       "\n",
       "[9772 rows x 4 columns]"
      ]
     },
     "execution_count": null,
     "metadata": {},
     "output_type": "execute_result"
    }
   ],
   "source": [
    "test.get_geno_each_sample_subset(\"case\")"
   ]
  },
  {
   "cell_type": "code",
   "execution_count": null,
   "id": "proud-essence",
   "metadata": {},
   "outputs": [
    {
     "data": {
      "text/html": [
       "<div>\n",
       "<style scoped>\n",
       "    .dataframe tbody tr th:only-of-type {\n",
       "        vertical-align: middle;\n",
       "    }\n",
       "\n",
       "    .dataframe tbody tr th {\n",
       "        vertical-align: top;\n",
       "    }\n",
       "\n",
       "    .dataframe thead th {\n",
       "        text-align: right;\n",
       "    }\n",
       "</style>\n",
       "<table border=\"1\" class=\"dataframe\">\n",
       "  <thead>\n",
       "    <tr style=\"text-align: right;\">\n",
       "      <th>id_col</th>\n",
       "      <th>rs77948203</th>\n",
       "      <th>rs9610458</th>\n",
       "      <th>rs134490</th>\n",
       "      <th>rs5756405</th>\n",
       "    </tr>\n",
       "    <tr>\n",
       "      <th>sample_id</th>\n",
       "      <th></th>\n",
       "      <th></th>\n",
       "      <th></th>\n",
       "      <th></th>\n",
       "    </tr>\n",
       "  </thead>\n",
       "  <tbody>\n",
       "    <tr>\n",
       "      <th>WTCCCT443025</th>\n",
       "      <td>GG</td>\n",
       "      <td>TT</td>\n",
       "      <td>CT</td>\n",
       "      <td>AG</td>\n",
       "    </tr>\n",
       "    <tr>\n",
       "      <th>WTCCCT443065</th>\n",
       "      <td>GG</td>\n",
       "      <td>CT</td>\n",
       "      <td>CT</td>\n",
       "      <td>AG</td>\n",
       "    </tr>\n",
       "    <tr>\n",
       "      <th>WTCCCT443063</th>\n",
       "      <td>GG</td>\n",
       "      <td>TT</td>\n",
       "      <td>CC</td>\n",
       "      <td>GG</td>\n",
       "    </tr>\n",
       "    <tr>\n",
       "      <th>WTCCCT443026</th>\n",
       "      <td>GG</td>\n",
       "      <td>CC</td>\n",
       "      <td>CT</td>\n",
       "      <td>AG</td>\n",
       "    </tr>\n",
       "    <tr>\n",
       "      <th>WTCCCT443066</th>\n",
       "      <td>GG</td>\n",
       "      <td>CT</td>\n",
       "      <td>TT</td>\n",
       "      <td>GG</td>\n",
       "    </tr>\n",
       "    <tr>\n",
       "      <th>...</th>\n",
       "      <td>...</td>\n",
       "      <td>...</td>\n",
       "      <td>...</td>\n",
       "      <td>...</td>\n",
       "    </tr>\n",
       "    <tr>\n",
       "      <th>WS574632</th>\n",
       "      <td>GG</td>\n",
       "      <td>CT</td>\n",
       "      <td>TT</td>\n",
       "      <td>GG</td>\n",
       "    </tr>\n",
       "    <tr>\n",
       "      <th>WS574661</th>\n",
       "      <td>GG</td>\n",
       "      <td>TT</td>\n",
       "      <td>TT</td>\n",
       "      <td>AA</td>\n",
       "    </tr>\n",
       "    <tr>\n",
       "      <th>BLOOD294452</th>\n",
       "      <td>GG</td>\n",
       "      <td>CT</td>\n",
       "      <td>TT</td>\n",
       "      <td>AG</td>\n",
       "    </tr>\n",
       "    <tr>\n",
       "      <th>WTCCCT511021</th>\n",
       "      <td>GG</td>\n",
       "      <td>CT</td>\n",
       "      <td>TT</td>\n",
       "      <td>AG</td>\n",
       "    </tr>\n",
       "    <tr>\n",
       "      <th>WTCCCT510948</th>\n",
       "      <td>GG</td>\n",
       "      <td>CT</td>\n",
       "      <td>TT</td>\n",
       "      <td>AA</td>\n",
       "    </tr>\n",
       "  </tbody>\n",
       "</table>\n",
       "<p>5175 rows × 4 columns</p>\n",
       "</div>"
      ],
      "text/plain": [
       "id_col       rs77948203 rs9610458 rs134490 rs5756405\n",
       "sample_id                                           \n",
       "WTCCCT443025         GG        TT       CT        AG\n",
       "WTCCCT443065         GG        CT       CT        AG\n",
       "WTCCCT443063         GG        TT       CC        GG\n",
       "WTCCCT443026         GG        CC       CT        AG\n",
       "WTCCCT443066         GG        CT       TT        GG\n",
       "...                 ...       ...      ...       ...\n",
       "WS574632             GG        CT       TT        GG\n",
       "WS574661             GG        TT       TT        AA\n",
       "BLOOD294452          GG        CT       TT        AG\n",
       "WTCCCT511021         GG        CT       TT        AG\n",
       "WTCCCT510948         GG        CT       TT        AA\n",
       "\n",
       "[5175 rows x 4 columns]"
      ]
     },
     "execution_count": null,
     "metadata": {},
     "output_type": "execute_result"
    }
   ],
   "source": [
    "test.get_geno_each_sample_subset(\"control\")"
   ]
  },
  {
   "cell_type": "code",
   "execution_count": null,
   "id": "vocal-reservoir",
   "metadata": {},
   "outputs": [
    {
     "data": {
      "text/plain": [
       "{'case':                     ID_1  missing  sex  case\n",
       " sample_id                                   \n",
       " WTCCCT473540   95300_D10        0    2     1\n",
       " WTCCCT473530   95300_D11        0    1     1\n",
       " WTCCCT473555   95300_D12        0    1     1\n",
       " WTCCCT473426   95300_E01        0    2     1\n",
       " WTCCCT473489   95300_E02        0    1     1\n",
       " ...                  ...      ...  ...   ...\n",
       " WTCCCT473455  116733_C03        0    1     1\n",
       " WTCCCT473479  116733_D03        0    2     1\n",
       " WTCCCT473432  116733_E03        0    2     1\n",
       " WTCCCT473465  116733_F02        0    1     1\n",
       " WTCCCT473421  116733_F03        0    1     1\n",
       " \n",
       " [9772 rows x 4 columns],\n",
       " 'control':                     ID_1  missing   plate  sex  case\n",
       " sample_id                                           \n",
       " WTCCCT443025   74717_A02        0   74717    2     0\n",
       " WTCCCT443065   74717_A05        0   74717    2     0\n",
       " WTCCCT443063   74717_A06        0   74717    2     0\n",
       " WTCCCT443026   74717_B02        0   74717    2     0\n",
       " WTCCCT443066   74717_B05        0   74717    2     0\n",
       " ...                  ...      ...     ...  ...   ...\n",
       " WS574632      101916_C07        0  101916    1     0\n",
       " WS574661      101916_D07        0  101916    1     0\n",
       " BLOOD294452   101806_F08        0  101806    1     0\n",
       " WTCCCT511021  101816_D11        0  101816    2     0\n",
       " WTCCCT510948  101816_F10        0  101816    1     0\n",
       " \n",
       " [5175 rows x 5 columns]}"
      ]
     },
     "execution_count": null,
     "metadata": {},
     "output_type": "execute_result"
    }
   ],
   "source": [
    "test.sample_dict"
   ]
  },
  {
   "cell_type": "code",
   "execution_count": null,
   "id": "leading-strengthening",
   "metadata": {},
   "outputs": [
    {
     "data": {
      "text/html": [
       "<div>\n",
       "<style scoped>\n",
       "    .dataframe tbody tr th:only-of-type {\n",
       "        vertical-align: middle;\n",
       "    }\n",
       "\n",
       "    .dataframe tbody tr th {\n",
       "        vertical-align: top;\n",
       "    }\n",
       "\n",
       "    .dataframe thead th {\n",
       "        text-align: right;\n",
       "    }\n",
       "</style>\n",
       "<table border=\"1\" class=\"dataframe\">\n",
       "  <thead>\n",
       "    <tr style=\"text-align: right;\">\n",
       "      <th></th>\n",
       "      <th>rs9610458</th>\n",
       "      <th>rs134490</th>\n",
       "      <th>unique_samples_id</th>\n",
       "      <th>unique_samples_count</th>\n",
       "    </tr>\n",
       "  </thead>\n",
       "  <tbody>\n",
       "    <tr>\n",
       "      <th>0</th>\n",
       "      <td>CC</td>\n",
       "      <td>CC</td>\n",
       "      <td>[WTCCCT489620, WTCCCT489645, WTCCCT473287, WTC...</td>\n",
       "      <td>76</td>\n",
       "    </tr>\n",
       "    <tr>\n",
       "      <th>1</th>\n",
       "      <td>CC</td>\n",
       "      <td>CT</td>\n",
       "      <td>[WTCCCT473552, WTCCCT473505, WTCCCT489578, WTC...</td>\n",
       "      <td>724</td>\n",
       "    </tr>\n",
       "    <tr>\n",
       "      <th>2</th>\n",
       "      <td>CC</td>\n",
       "      <td>NA</td>\n",
       "      <td>[WTCCCT489646, WTCCCT489580, WTCCCT488814, WTC...</td>\n",
       "      <td>381</td>\n",
       "    </tr>\n",
       "    <tr>\n",
       "      <th>3</th>\n",
       "      <td>CC</td>\n",
       "      <td>TT</td>\n",
       "      <td>[WTCCCT473500, WTCCCT473539, WTCCCT473521, WTC...</td>\n",
       "      <td>1791</td>\n",
       "    </tr>\n",
       "    <tr>\n",
       "      <th>4</th>\n",
       "      <td>CT</td>\n",
       "      <td>CC</td>\n",
       "      <td>[WTCCCT473297, WTCCCT473230, WTCCCT473244, WTC...</td>\n",
       "      <td>191</td>\n",
       "    </tr>\n",
       "    <tr>\n",
       "      <th>5</th>\n",
       "      <td>CT</td>\n",
       "      <td>CT</td>\n",
       "      <td>[WTCCCT473447, WTCCCT473466, WTCCCT473492, WTC...</td>\n",
       "      <td>1733</td>\n",
       "    </tr>\n",
       "    <tr>\n",
       "      <th>6</th>\n",
       "      <td>CT</td>\n",
       "      <td>NA</td>\n",
       "      <td>[WTCCCT473489, WTCCCT473524, WTCCCT473499, WTC...</td>\n",
       "      <td>959</td>\n",
       "    </tr>\n",
       "    <tr>\n",
       "      <th>7</th>\n",
       "      <td>CT</td>\n",
       "      <td>TT</td>\n",
       "      <td>[WTCCCT473456, WTCCCT473515, WTCCCT473508, WTC...</td>\n",
       "      <td>4226</td>\n",
       "    </tr>\n",
       "    <tr>\n",
       "      <th>8</th>\n",
       "      <td>NA</td>\n",
       "      <td>CC</td>\n",
       "      <td>[WTCCCT473436, WTCCCT469571, WTCCCT443738, WTC...</td>\n",
       "      <td>5</td>\n",
       "    </tr>\n",
       "    <tr>\n",
       "      <th>9</th>\n",
       "      <td>NA</td>\n",
       "      <td>CT</td>\n",
       "      <td>[WTCCCT488883, WTCCCT474387, WTCCCT474448, WTC...</td>\n",
       "      <td>111</td>\n",
       "    </tr>\n",
       "    <tr>\n",
       "      <th>10</th>\n",
       "      <td>NA</td>\n",
       "      <td>NA</td>\n",
       "      <td>[WTCCCT489613, WTCCCT497565, WTCCCT474593, WTC...</td>\n",
       "      <td>69</td>\n",
       "    </tr>\n",
       "    <tr>\n",
       "      <th>11</th>\n",
       "      <td>NA</td>\n",
       "      <td>TT</td>\n",
       "      <td>[WTCCCT473549, WTCCCT489615, WTCCCT489614, WTC...</td>\n",
       "      <td>301</td>\n",
       "    </tr>\n",
       "    <tr>\n",
       "      <th>12</th>\n",
       "      <td>TT</td>\n",
       "      <td>CC</td>\n",
       "      <td>[WTCCCT489604, WTCCCT467785, WTCCCT489030, WTC...</td>\n",
       "      <td>102</td>\n",
       "    </tr>\n",
       "    <tr>\n",
       "      <th>13</th>\n",
       "      <td>TT</td>\n",
       "      <td>CT</td>\n",
       "      <td>[WTCCCT473454, WTCCCT489616, WTCCCT489608, WTC...</td>\n",
       "      <td>1022</td>\n",
       "    </tr>\n",
       "    <tr>\n",
       "      <th>14</th>\n",
       "      <td>TT</td>\n",
       "      <td>NA</td>\n",
       "      <td>[WTCCCT473540, WTCCCT473497, WTCCCT473520, WTC...</td>\n",
       "      <td>634</td>\n",
       "    </tr>\n",
       "    <tr>\n",
       "      <th>15</th>\n",
       "      <td>TT</td>\n",
       "      <td>TT</td>\n",
       "      <td>[WTCCCT473530, WTCCCT473555, WTCCCT473426, WTC...</td>\n",
       "      <td>2622</td>\n",
       "    </tr>\n",
       "  </tbody>\n",
       "</table>\n",
       "</div>"
      ],
      "text/plain": [
       "   rs9610458 rs134490                                  unique_samples_id  \\\n",
       "0         CC       CC  [WTCCCT489620, WTCCCT489645, WTCCCT473287, WTC...   \n",
       "1         CC       CT  [WTCCCT473552, WTCCCT473505, WTCCCT489578, WTC...   \n",
       "2         CC       NA  [WTCCCT489646, WTCCCT489580, WTCCCT488814, WTC...   \n",
       "3         CC       TT  [WTCCCT473500, WTCCCT473539, WTCCCT473521, WTC...   \n",
       "4         CT       CC  [WTCCCT473297, WTCCCT473230, WTCCCT473244, WTC...   \n",
       "5         CT       CT  [WTCCCT473447, WTCCCT473466, WTCCCT473492, WTC...   \n",
       "6         CT       NA  [WTCCCT473489, WTCCCT473524, WTCCCT473499, WTC...   \n",
       "7         CT       TT  [WTCCCT473456, WTCCCT473515, WTCCCT473508, WTC...   \n",
       "8         NA       CC  [WTCCCT473436, WTCCCT469571, WTCCCT443738, WTC...   \n",
       "9         NA       CT  [WTCCCT488883, WTCCCT474387, WTCCCT474448, WTC...   \n",
       "10        NA       NA  [WTCCCT489613, WTCCCT497565, WTCCCT474593, WTC...   \n",
       "11        NA       TT  [WTCCCT473549, WTCCCT489615, WTCCCT489614, WTC...   \n",
       "12        TT       CC  [WTCCCT489604, WTCCCT467785, WTCCCT489030, WTC...   \n",
       "13        TT       CT  [WTCCCT473454, WTCCCT489616, WTCCCT489608, WTC...   \n",
       "14        TT       NA  [WTCCCT473540, WTCCCT473497, WTCCCT473520, WTC...   \n",
       "15        TT       TT  [WTCCCT473530, WTCCCT473555, WTCCCT473426, WTC...   \n",
       "\n",
       "    unique_samples_count  \n",
       "0                     76  \n",
       "1                    724  \n",
       "2                    381  \n",
       "3                   1791  \n",
       "4                    191  \n",
       "5                   1733  \n",
       "6                    959  \n",
       "7                   4226  \n",
       "8                      5  \n",
       "9                    111  \n",
       "10                    69  \n",
       "11                   301  \n",
       "12                   102  \n",
       "13                  1022  \n",
       "14                   634  \n",
       "15                  2622  "
      ]
     },
     "execution_count": null,
     "metadata": {},
     "output_type": "execute_result"
    }
   ],
   "source": [
    "get_geno_combination_df(test.all_samples_geno_df, rsid_list=[\"rs9610458\", \"rs134490\"]).df"
   ]
  },
  {
   "cell_type": "code",
   "execution_count": null,
   "id": "sitting-announcement",
   "metadata": {},
   "outputs": [
    {
     "data": {
      "text/html": [
       "<div>\n",
       "<style scoped>\n",
       "    .dataframe tbody tr th:only-of-type {\n",
       "        vertical-align: middle;\n",
       "    }\n",
       "\n",
       "    .dataframe tbody tr th {\n",
       "        vertical-align: top;\n",
       "    }\n",
       "\n",
       "    .dataframe thead th {\n",
       "        text-align: right;\n",
       "    }\n",
       "</style>\n",
       "<table border=\"1\" class=\"dataframe\">\n",
       "  <thead>\n",
       "    <tr style=\"text-align: right;\">\n",
       "      <th></th>\n",
       "      <th>rs9610458</th>\n",
       "      <th>rs134490</th>\n",
       "      <th>rs5756405</th>\n",
       "      <th>unique_samples_id</th>\n",
       "      <th>unique_samples_count</th>\n",
       "    </tr>\n",
       "  </thead>\n",
       "  <tbody>\n",
       "    <tr>\n",
       "      <th>0</th>\n",
       "      <td>CC</td>\n",
       "      <td>CC</td>\n",
       "      <td>AA</td>\n",
       "      <td>[WTCCCT489620, WTCCCT505862, WTCCCT467112, WTC...</td>\n",
       "      <td>13</td>\n",
       "    </tr>\n",
       "    <tr>\n",
       "      <th>1</th>\n",
       "      <td>CC</td>\n",
       "      <td>CC</td>\n",
       "      <td>AG</td>\n",
       "      <td>[WTCCCT489645, WTCCCT473287, WTCCCT470000, WTC...</td>\n",
       "      <td>29</td>\n",
       "    </tr>\n",
       "    <tr>\n",
       "      <th>2</th>\n",
       "      <td>CC</td>\n",
       "      <td>CC</td>\n",
       "      <td>GG</td>\n",
       "      <td>[WTCCCT474572, WTCCCT466155, WTCCCT508245, WTC...</td>\n",
       "      <td>33</td>\n",
       "    </tr>\n",
       "    <tr>\n",
       "      <th>3</th>\n",
       "      <td>CC</td>\n",
       "      <td>CC</td>\n",
       "      <td>NA</td>\n",
       "      <td>[WTCCCT473042]</td>\n",
       "      <td>1</td>\n",
       "    </tr>\n",
       "    <tr>\n",
       "      <th>4</th>\n",
       "      <td>CC</td>\n",
       "      <td>CT</td>\n",
       "      <td>AA</td>\n",
       "      <td>[WTCCCT473505, WTCCCT507950, WTCCCT507923, WTC...</td>\n",
       "      <td>156</td>\n",
       "    </tr>\n",
       "    <tr>\n",
       "      <th>...</th>\n",
       "      <td>...</td>\n",
       "      <td>...</td>\n",
       "      <td>...</td>\n",
       "      <td>...</td>\n",
       "      <td>...</td>\n",
       "    </tr>\n",
       "    <tr>\n",
       "      <th>58</th>\n",
       "      <td>TT</td>\n",
       "      <td>NA</td>\n",
       "      <td>NA</td>\n",
       "      <td>[WTCCCT515370, WTCCCT467086, WTCCCT508785, WTC...</td>\n",
       "      <td>15</td>\n",
       "    </tr>\n",
       "    <tr>\n",
       "      <th>59</th>\n",
       "      <td>TT</td>\n",
       "      <td>TT</td>\n",
       "      <td>AA</td>\n",
       "      <td>[WTCCCT473530, WTCCCT473468, WTCCCT473462, WTC...</td>\n",
       "      <td>628</td>\n",
       "    </tr>\n",
       "    <tr>\n",
       "      <th>60</th>\n",
       "      <td>TT</td>\n",
       "      <td>TT</td>\n",
       "      <td>AG</td>\n",
       "      <td>[WTCCCT473435, WTCCCT473522, WTCCCT473537, WTC...</td>\n",
       "      <td>1266</td>\n",
       "    </tr>\n",
       "    <tr>\n",
       "      <th>61</th>\n",
       "      <td>TT</td>\n",
       "      <td>TT</td>\n",
       "      <td>GG</td>\n",
       "      <td>[WTCCCT473426, WTCCCT473527, WTCCCT489641, WTC...</td>\n",
       "      <td>668</td>\n",
       "    </tr>\n",
       "    <tr>\n",
       "      <th>62</th>\n",
       "      <td>TT</td>\n",
       "      <td>TT</td>\n",
       "      <td>NA</td>\n",
       "      <td>[WTCCCT473555, WTCCCT473227, WTCCCT468253, WTC...</td>\n",
       "      <td>60</td>\n",
       "    </tr>\n",
       "  </tbody>\n",
       "</table>\n",
       "<p>63 rows × 5 columns</p>\n",
       "</div>"
      ],
      "text/plain": [
       "   rs9610458 rs134490 rs5756405  \\\n",
       "0         CC       CC        AA   \n",
       "1         CC       CC        AG   \n",
       "2         CC       CC        GG   \n",
       "3         CC       CC        NA   \n",
       "4         CC       CT        AA   \n",
       "..       ...      ...       ...   \n",
       "58        TT       NA        NA   \n",
       "59        TT       TT        AA   \n",
       "60        TT       TT        AG   \n",
       "61        TT       TT        GG   \n",
       "62        TT       TT        NA   \n",
       "\n",
       "                                    unique_samples_id  unique_samples_count  \n",
       "0   [WTCCCT489620, WTCCCT505862, WTCCCT467112, WTC...                    13  \n",
       "1   [WTCCCT489645, WTCCCT473287, WTCCCT470000, WTC...                    29  \n",
       "2   [WTCCCT474572, WTCCCT466155, WTCCCT508245, WTC...                    33  \n",
       "3                                      [WTCCCT473042]                     1  \n",
       "4   [WTCCCT473505, WTCCCT507950, WTCCCT507923, WTC...                   156  \n",
       "..                                                ...                   ...  \n",
       "58  [WTCCCT515370, WTCCCT467086, WTCCCT508785, WTC...                    15  \n",
       "59  [WTCCCT473530, WTCCCT473468, WTCCCT473462, WTC...                   628  \n",
       "60  [WTCCCT473435, WTCCCT473522, WTCCCT473537, WTC...                  1266  \n",
       "61  [WTCCCT473426, WTCCCT473527, WTCCCT489641, WTC...                   668  \n",
       "62  [WTCCCT473555, WTCCCT473227, WTCCCT468253, WTC...                    60  \n",
       "\n",
       "[63 rows x 5 columns]"
      ]
     },
     "execution_count": null,
     "metadata": {},
     "output_type": "execute_result"
    }
   ],
   "source": [
    "get_geno_combination_df(test.all_samples_geno_df, rsid_list=[\"rs9610458\", \"rs134490\", \"rs5756405\"]).df"
   ]
  },
  {
   "cell_type": "code",
   "execution_count": null,
   "id": "animated-raise",
   "metadata": {},
   "outputs": [],
   "source": [
    "geno_dict, sample_dict= CombinedGenoPheno.process_datasets(genetic_file, sample_file)\n",
    "test_file = geno_dict[\"case\"]"
   ]
  },
  {
   "cell_type": "markdown",
   "id": "common-classic",
   "metadata": {},
   "source": [
    "---"
   ]
  },
  {
   "cell_type": "markdown",
   "id": "engaging-forest",
   "metadata": {},
   "source": [
    "### Testing genetic file split by chromosome"
   ]
  },
  {
   "cell_type": "code",
   "execution_count": null,
   "id": "protective-affect",
   "metadata": {},
   "outputs": [
    {
     "data": {
      "text/plain": [
       "<corradin_ovp_utils.datasets.OVPDataset.OVPDataset at 0x150c1cb70100>"
      ]
     },
     "execution_count": null,
     "metadata": {},
     "output_type": "execute_result"
    }
   ],
   "source": [
    "genetic_file_split_by_chrom = test_data_catalog.load(\"genetic_file_split_by_chrom\")\n",
    "genetic_file_split_by_chrom\n"
   ]
  },
  {
   "cell_type": "code",
   "execution_count": null,
   "id": "brief-mountain",
   "metadata": {},
   "outputs": [
    {
     "name": "stdout",
     "output_type": "stream",
     "text": [
      "Cannot find file data/test_data/gen_file/test_CASE_MS_chr1.gen\n",
      "Cannot find file data/test_data/gen_file/test_CASE_MS_chr2.gen\n",
      "Cannot find file data/test_data/gen_file/test_CASE_MS_chr3.gen\n",
      "Cannot find file data/test_data/gen_file/test_CASE_MS_chr4.gen\n",
      "Cannot find file data/test_data/gen_file/test_CASE_MS_chr5.gen\n",
      "Cannot find file data/test_data/gen_file/test_CASE_MS_chr6.gen\n",
      "Cannot find file data/test_data/gen_file/test_CASE_MS_chr7.gen\n",
      "Cannot find file data/test_data/gen_file/test_CASE_MS_chr8.gen\n",
      "Cannot find file data/test_data/gen_file/test_CASE_MS_chr9.gen\n",
      "Cannot find file data/test_data/gen_file/test_CASE_MS_chr10.gen\n",
      "Cannot find file data/test_data/gen_file/test_CASE_MS_chr11.gen\n",
      "Cannot find file data/test_data/gen_file/test_CASE_MS_chr12.gen\n",
      "Cannot find file data/test_data/gen_file/test_CASE_MS_chr13.gen\n",
      "Cannot find file data/test_data/gen_file/test_CASE_MS_chr14.gen\n",
      "Cannot find file data/test_data/gen_file/test_CASE_MS_chr15.gen\n",
      "Cannot find file data/test_data/gen_file/test_CASE_MS_chr16.gen\n",
      "Cannot find file data/test_data/gen_file/test_CASE_MS_chr17.gen\n",
      "Cannot find file data/test_data/gen_file/test_CASE_MS_chr18.gen\n",
      "Cannot find file data/test_data/gen_file/test_CASE_MS_chr19.gen\n",
      "Cannot find file data/test_data/gen_file/test_CASE_MS_chr20.gen\n",
      "Cannot find file data/test_data/gen_file/test_CASE_MS_chr21.gen\n",
      "reading genetic file and collecting found SNPs\n"
     ]
    },
    {
     "data": {
      "application/vnd.jupyter.widget-view+json": {
       "model_id": "5084647da43f41e3972518381cf455a9",
       "version_major": 2,
       "version_minor": 0
      },
      "text/plain": [
       "0it [00:00, ?it/s]"
      ]
     },
     "metadata": {},
     "output_type": "display_data"
    },
    {
     "name": "stdout",
     "output_type": "stream",
     "text": [
      "processing last batch\n"
     ]
    },
    {
     "data": {
      "application/vnd.jupyter.widget-view+json": {
       "model_id": "1f4c61bd3c8641119d048110278ac5e4",
       "version_major": 2,
       "version_minor": 0
      },
      "text/plain": [
       "0it [00:00, ?it/s]"
      ]
     },
     "metadata": {},
     "output_type": "display_data"
    },
    {
     "name": "stdout",
     "output_type": "stream",
     "text": [
      "Cannot find file data/test_data/gen_file/test_CONTROL_MS_chr1.gen\n",
      "Cannot find file data/test_data/gen_file/test_CONTROL_MS_chr2.gen\n",
      "Cannot find file data/test_data/gen_file/test_CONTROL_MS_chr3.gen\n",
      "Cannot find file data/test_data/gen_file/test_CONTROL_MS_chr4.gen\n",
      "Cannot find file data/test_data/gen_file/test_CONTROL_MS_chr5.gen\n",
      "Cannot find file data/test_data/gen_file/test_CONTROL_MS_chr6.gen\n",
      "Cannot find file data/test_data/gen_file/test_CONTROL_MS_chr7.gen\n",
      "Cannot find file data/test_data/gen_file/test_CONTROL_MS_chr8.gen\n",
      "Cannot find file data/test_data/gen_file/test_CONTROL_MS_chr9.gen\n",
      "Cannot find file data/test_data/gen_file/test_CONTROL_MS_chr10.gen\n",
      "Cannot find file data/test_data/gen_file/test_CONTROL_MS_chr11.gen\n",
      "Cannot find file data/test_data/gen_file/test_CONTROL_MS_chr12.gen\n",
      "Cannot find file data/test_data/gen_file/test_CONTROL_MS_chr13.gen\n",
      "Cannot find file data/test_data/gen_file/test_CONTROL_MS_chr14.gen\n",
      "Cannot find file data/test_data/gen_file/test_CONTROL_MS_chr15.gen\n",
      "Cannot find file data/test_data/gen_file/test_CONTROL_MS_chr16.gen\n",
      "Cannot find file data/test_data/gen_file/test_CONTROL_MS_chr17.gen\n",
      "Cannot find file data/test_data/gen_file/test_CONTROL_MS_chr18.gen\n",
      "Cannot find file data/test_data/gen_file/test_CONTROL_MS_chr19.gen\n",
      "Cannot find file data/test_data/gen_file/test_CONTROL_MS_chr20.gen\n",
      "Cannot find file data/test_data/gen_file/test_CONTROL_MS_chr21.gen\n",
      "reading genetic file and collecting found SNPs\n"
     ]
    },
    {
     "data": {
      "application/vnd.jupyter.widget-view+json": {
       "model_id": "adc2aee0e6bb4086b3e27285ace3c8b4",
       "version_major": 2,
       "version_minor": 0
      },
      "text/plain": [
       "0it [00:00, ?it/s]"
      ]
     },
     "metadata": {},
     "output_type": "display_data"
    },
    {
     "name": "stdout",
     "output_type": "stream",
     "text": [
      "processing last batch\n"
     ]
    },
    {
     "data": {
      "application/vnd.jupyter.widget-view+json": {
       "model_id": "ef8de383c2fc405cbc6f619127faf9c7",
       "version_major": 2,
       "version_minor": 0
      },
      "text/plain": [
       "0it [00:00, ?it/s]"
      ]
     },
     "metadata": {},
     "output_type": "display_data"
    }
   ],
   "source": [
    "test_split_by_chrom = CombinedGenoPheno.init_from_OVPDataset(genetic_file_split_by_chrom, sample_file, rsid_dict = {22: [\"rs77948203\", \"rs9610458\"]})#[\"case\"]\n"
   ]
  },
  {
   "cell_type": "markdown",
   "id": "acquired-timer",
   "metadata": {},
   "source": [
    "Test case where we query from a chromosome that we have no file for"
   ]
  },
  {
   "cell_type": "code",
   "execution_count": null,
   "id": "seventh-harmony",
   "metadata": {},
   "outputs": [
    {
     "name": "stdout",
     "output_type": "stream",
     "text": [
      "Cannot find file data/test_data/gen_file/test_CASE_MS_chr1.gen\n",
      "Cannot find file data/test_data/gen_file/test_CASE_MS_chr2.gen\n",
      "Cannot find file data/test_data/gen_file/test_CASE_MS_chr3.gen\n",
      "Cannot find file data/test_data/gen_file/test_CASE_MS_chr4.gen\n",
      "Cannot find file data/test_data/gen_file/test_CASE_MS_chr5.gen\n",
      "Cannot find file data/test_data/gen_file/test_CASE_MS_chr6.gen\n",
      "Cannot find file data/test_data/gen_file/test_CASE_MS_chr7.gen\n",
      "Cannot find file data/test_data/gen_file/test_CASE_MS_chr8.gen\n",
      "Cannot find file data/test_data/gen_file/test_CASE_MS_chr9.gen\n",
      "Cannot find file data/test_data/gen_file/test_CASE_MS_chr10.gen\n",
      "Cannot find file data/test_data/gen_file/test_CASE_MS_chr11.gen\n",
      "Cannot find file data/test_data/gen_file/test_CASE_MS_chr12.gen\n",
      "Cannot find file data/test_data/gen_file/test_CASE_MS_chr13.gen\n",
      "Cannot find file data/test_data/gen_file/test_CASE_MS_chr14.gen\n",
      "Cannot find file data/test_data/gen_file/test_CASE_MS_chr15.gen\n",
      "Cannot find file data/test_data/gen_file/test_CASE_MS_chr16.gen\n",
      "Cannot find file data/test_data/gen_file/test_CASE_MS_chr17.gen\n",
      "Cannot find file data/test_data/gen_file/test_CASE_MS_chr18.gen\n",
      "Cannot find file data/test_data/gen_file/test_CASE_MS_chr19.gen\n",
      "Cannot find file data/test_data/gen_file/test_CASE_MS_chr20.gen\n",
      "Cannot find file data/test_data/gen_file/test_CASE_MS_chr21.gen\n"
     ]
    }
   ],
   "source": [
    "with nbdev_test.ExceptionExpected(ex=AttributeError, regex=\"'NoneType' object has no attribute 'get_geno_each_sample'\"): CombinedGenoPheno.init_from_OVPDataset(genetic_file_split_by_chrom, sample_file, rsid_dict = {21: [\"rs77948203\", \"rs9610458\"]})"
   ]
  },
  {
   "cell_type": "code",
   "execution_count": null,
   "id": "exclusive-arctic",
   "metadata": {},
   "outputs": [
    {
     "data": {
      "text/plain": [
       "CombinedGenoPheno(num_snps=2, num_samples={'case': 9772, 'control': 5175})"
      ]
     },
     "execution_count": null,
     "metadata": {},
     "output_type": "execute_result"
    }
   ],
   "source": [
    "test_split_by_chrom"
   ]
  },
  {
   "cell_type": "markdown",
   "id": "quick-mandate",
   "metadata": {},
   "source": [
    "---"
   ]
  },
  {
   "cell_type": "code",
   "execution_count": null,
   "id": "bright-appendix",
   "metadata": {},
   "outputs": [],
   "source": [
    "genetic_file_single = test_data_catalog.load(\"genetic_file_single\")\n",
    "sample_file_single = test_data_catalog.load(\"sample_file_single\")"
   ]
  },
  {
   "cell_type": "code",
   "execution_count": null,
   "id": "durable-integer",
   "metadata": {},
   "outputs": [
    {
     "data": {
      "text/plain": [
       "({'single_file': GenFileFormat(file_path=SingleFilePathSchema(folder='data/test_data/gen_file', full_file_name='test_CASE_MS_chr22.gen', file_name='test_CASE_MS_chr22', extension='gen', split_by_chromosome=None, chrom_num=22))},\n",
       " {'single_file':                     ID_1  missing  sex  case\n",
       "  ID_2                                        \n",
       "  WTCCCT473540   95300_D10        0    2     1\n",
       "  WTCCCT473530   95300_D11        0    1     1\n",
       "  WTCCCT473555   95300_D12        0    1     1\n",
       "  WTCCCT473426   95300_E01        0    2     1\n",
       "  WTCCCT473489   95300_E02        0    1     1\n",
       "  ...                  ...      ...  ...   ...\n",
       "  WTCCCT473455  116733_C03        0    1     1\n",
       "  WTCCCT473479  116733_D03        0    2     1\n",
       "  WTCCCT473432  116733_E03        0    2     1\n",
       "  WTCCCT473465  116733_F02        0    1     1\n",
       "  WTCCCT473421  116733_F03        0    1     1\n",
       "  \n",
       "  [9772 rows x 4 columns]})"
      ]
     },
     "execution_count": null,
     "metadata": {},
     "output_type": "execute_result"
    }
   ],
   "source": [
    "CombinedGenoPheno.process_datasets(genetic_file_single, sample_file_single)"
   ]
  },
  {
   "cell_type": "code",
   "execution_count": null,
   "id": "intimate-tokyo",
   "metadata": {},
   "outputs": [
    {
     "name": "stdout",
     "output_type": "stream",
     "text": [
      "reading genetic file and collecting found SNPs\n"
     ]
    },
    {
     "data": {
      "application/vnd.jupyter.widget-view+json": {
       "model_id": "5aa465353f1c45f2b0ae2aef4961227e",
       "version_major": 2,
       "version_minor": 0
      },
      "text/plain": [
       "0it [00:00, ?it/s]"
      ]
     },
     "metadata": {},
     "output_type": "display_data"
    },
    {
     "name": "stdout",
     "output_type": "stream",
     "text": [
      "processing last batch\n"
     ]
    },
    {
     "data": {
      "application/vnd.jupyter.widget-view+json": {
       "model_id": "02b44674f4e0435dbc0fcf35a964860d",
       "version_major": 2,
       "version_minor": 0
      },
      "text/plain": [
       "0it [00:00, ?it/s]"
      ]
     },
     "metadata": {},
     "output_type": "display_data"
    },
    {
     "data": {
      "text/plain": [
       "CombinedGenoPheno(num_snps=4, num_samples={'single_file': 9772})"
      ]
     },
     "execution_count": null,
     "metadata": {},
     "output_type": "execute_result"
    }
   ],
   "source": [
    "test_single_file = CombinedGenoPheno.init_from_OVPDataset(genetic_file_single, sample_file_single, rsid_dict = {22: [\"rs77948203\", \"rs9610458\", \"rs134490\", \"rs5756405\"]}, )\n",
    "test_single_file"
   ]
  },
  {
   "cell_type": "code",
   "execution_count": null,
   "id": "close-capital",
   "metadata": {},
   "outputs": [
    {
     "data": {
      "text/html": [
       "<div>\n",
       "<style scoped>\n",
       "    .dataframe tbody tr th:only-of-type {\n",
       "        vertical-align: middle;\n",
       "    }\n",
       "\n",
       "    .dataframe tbody tr th {\n",
       "        vertical-align: top;\n",
       "    }\n",
       "\n",
       "    .dataframe thead th {\n",
       "        text-align: right;\n",
       "    }\n",
       "</style>\n",
       "<table border=\"1\" class=\"dataframe\">\n",
       "  <thead>\n",
       "    <tr style=\"text-align: right;\">\n",
       "      <th>id_col</th>\n",
       "      <th>rs77948203</th>\n",
       "      <th>rs9610458</th>\n",
       "      <th>rs134490</th>\n",
       "      <th>rs5756405</th>\n",
       "    </tr>\n",
       "    <tr>\n",
       "      <th>sample_id</th>\n",
       "      <th></th>\n",
       "      <th></th>\n",
       "      <th></th>\n",
       "      <th></th>\n",
       "    </tr>\n",
       "  </thead>\n",
       "  <tbody>\n",
       "    <tr>\n",
       "      <th>WTCCCT473540</th>\n",
       "      <td>GG</td>\n",
       "      <td>TT</td>\n",
       "      <td>NA</td>\n",
       "      <td>AG</td>\n",
       "    </tr>\n",
       "    <tr>\n",
       "      <th>WTCCCT473530</th>\n",
       "      <td>GG</td>\n",
       "      <td>TT</td>\n",
       "      <td>TT</td>\n",
       "      <td>AA</td>\n",
       "    </tr>\n",
       "    <tr>\n",
       "      <th>WTCCCT473555</th>\n",
       "      <td>GG</td>\n",
       "      <td>TT</td>\n",
       "      <td>TT</td>\n",
       "      <td>NA</td>\n",
       "    </tr>\n",
       "    <tr>\n",
       "      <th>WTCCCT473426</th>\n",
       "      <td>GG</td>\n",
       "      <td>TT</td>\n",
       "      <td>TT</td>\n",
       "      <td>GG</td>\n",
       "    </tr>\n",
       "    <tr>\n",
       "      <th>WTCCCT473489</th>\n",
       "      <td>GG</td>\n",
       "      <td>CT</td>\n",
       "      <td>NA</td>\n",
       "      <td>AA</td>\n",
       "    </tr>\n",
       "    <tr>\n",
       "      <th>...</th>\n",
       "      <td>...</td>\n",
       "      <td>...</td>\n",
       "      <td>...</td>\n",
       "      <td>...</td>\n",
       "    </tr>\n",
       "    <tr>\n",
       "      <th>WTCCCT473455</th>\n",
       "      <td>GG</td>\n",
       "      <td>TT</td>\n",
       "      <td>TT</td>\n",
       "      <td>AG</td>\n",
       "    </tr>\n",
       "    <tr>\n",
       "      <th>WTCCCT473479</th>\n",
       "      <td>GG</td>\n",
       "      <td>CT</td>\n",
       "      <td>CT</td>\n",
       "      <td>GG</td>\n",
       "    </tr>\n",
       "    <tr>\n",
       "      <th>WTCCCT473432</th>\n",
       "      <td>GG</td>\n",
       "      <td>CT</td>\n",
       "      <td>CT</td>\n",
       "      <td>AG</td>\n",
       "    </tr>\n",
       "    <tr>\n",
       "      <th>WTCCCT473465</th>\n",
       "      <td>GG</td>\n",
       "      <td>CT</td>\n",
       "      <td>NA</td>\n",
       "      <td>AA</td>\n",
       "    </tr>\n",
       "    <tr>\n",
       "      <th>WTCCCT473421</th>\n",
       "      <td>GG</td>\n",
       "      <td>TT</td>\n",
       "      <td>TT</td>\n",
       "      <td>AG</td>\n",
       "    </tr>\n",
       "  </tbody>\n",
       "</table>\n",
       "<p>9772 rows × 4 columns</p>\n",
       "</div>"
      ],
      "text/plain": [
       "id_col       rs77948203 rs9610458 rs134490 rs5756405\n",
       "sample_id                                           \n",
       "WTCCCT473540         GG        TT       NA        AG\n",
       "WTCCCT473530         GG        TT       TT        AA\n",
       "WTCCCT473555         GG        TT       TT        NA\n",
       "WTCCCT473426         GG        TT       TT        GG\n",
       "WTCCCT473489         GG        CT       NA        AA\n",
       "...                 ...       ...      ...       ...\n",
       "WTCCCT473455         GG        TT       TT        AG\n",
       "WTCCCT473479         GG        CT       CT        GG\n",
       "WTCCCT473432         GG        CT       CT        AG\n",
       "WTCCCT473465         GG        CT       NA        AA\n",
       "WTCCCT473421         GG        TT       TT        AG\n",
       "\n",
       "[9772 rows x 4 columns]"
      ]
     },
     "execution_count": null,
     "metadata": {},
     "output_type": "execute_result"
    }
   ],
   "source": [
    "test_single_file.all_samples_geno_df"
   ]
  },
  {
   "cell_type": "code",
   "execution_count": null,
   "id": "amateur-printer",
   "metadata": {},
   "outputs": [
    {
     "data": {
      "text/html": [
       "<div>\n",
       "<style scoped>\n",
       "    .dataframe tbody tr th:only-of-type {\n",
       "        vertical-align: middle;\n",
       "    }\n",
       "\n",
       "    .dataframe tbody tr th {\n",
       "        vertical-align: top;\n",
       "    }\n",
       "\n",
       "    .dataframe thead th {\n",
       "        text-align: right;\n",
       "    }\n",
       "</style>\n",
       "<table border=\"1\" class=\"dataframe\">\n",
       "  <thead>\n",
       "    <tr style=\"text-align: right;\">\n",
       "      <th>id_col</th>\n",
       "      <th>rs77948203</th>\n",
       "      <th>rs9610458</th>\n",
       "      <th>rs134490</th>\n",
       "      <th>rs5756405</th>\n",
       "    </tr>\n",
       "    <tr>\n",
       "      <th>ID_2</th>\n",
       "      <th></th>\n",
       "      <th></th>\n",
       "      <th></th>\n",
       "      <th></th>\n",
       "    </tr>\n",
       "  </thead>\n",
       "  <tbody>\n",
       "    <tr>\n",
       "      <th>WTCCCT473540</th>\n",
       "      <td>GG</td>\n",
       "      <td>TT</td>\n",
       "      <td>NA</td>\n",
       "      <td>AG</td>\n",
       "    </tr>\n",
       "    <tr>\n",
       "      <th>WTCCCT473530</th>\n",
       "      <td>GG</td>\n",
       "      <td>TT</td>\n",
       "      <td>TT</td>\n",
       "      <td>AA</td>\n",
       "    </tr>\n",
       "    <tr>\n",
       "      <th>WTCCCT473555</th>\n",
       "      <td>GG</td>\n",
       "      <td>TT</td>\n",
       "      <td>TT</td>\n",
       "      <td>NA</td>\n",
       "    </tr>\n",
       "    <tr>\n",
       "      <th>WTCCCT473426</th>\n",
       "      <td>GG</td>\n",
       "      <td>TT</td>\n",
       "      <td>TT</td>\n",
       "      <td>GG</td>\n",
       "    </tr>\n",
       "    <tr>\n",
       "      <th>WTCCCT473489</th>\n",
       "      <td>GG</td>\n",
       "      <td>CT</td>\n",
       "      <td>NA</td>\n",
       "      <td>AA</td>\n",
       "    </tr>\n",
       "    <tr>\n",
       "      <th>...</th>\n",
       "      <td>...</td>\n",
       "      <td>...</td>\n",
       "      <td>...</td>\n",
       "      <td>...</td>\n",
       "    </tr>\n",
       "    <tr>\n",
       "      <th>WTCCCT473455</th>\n",
       "      <td>GG</td>\n",
       "      <td>TT</td>\n",
       "      <td>TT</td>\n",
       "      <td>AG</td>\n",
       "    </tr>\n",
       "    <tr>\n",
       "      <th>WTCCCT473479</th>\n",
       "      <td>GG</td>\n",
       "      <td>CT</td>\n",
       "      <td>CT</td>\n",
       "      <td>GG</td>\n",
       "    </tr>\n",
       "    <tr>\n",
       "      <th>WTCCCT473432</th>\n",
       "      <td>GG</td>\n",
       "      <td>CT</td>\n",
       "      <td>CT</td>\n",
       "      <td>AG</td>\n",
       "    </tr>\n",
       "    <tr>\n",
       "      <th>WTCCCT473465</th>\n",
       "      <td>GG</td>\n",
       "      <td>CT</td>\n",
       "      <td>NA</td>\n",
       "      <td>AA</td>\n",
       "    </tr>\n",
       "    <tr>\n",
       "      <th>WTCCCT473421</th>\n",
       "      <td>GG</td>\n",
       "      <td>TT</td>\n",
       "      <td>TT</td>\n",
       "      <td>AG</td>\n",
       "    </tr>\n",
       "  </tbody>\n",
       "</table>\n",
       "<p>9772 rows × 4 columns</p>\n",
       "</div>"
      ],
      "text/plain": [
       "id_col       rs77948203 rs9610458 rs134490 rs5756405\n",
       "ID_2                                                \n",
       "WTCCCT473540         GG        TT       NA        AG\n",
       "WTCCCT473530         GG        TT       TT        AA\n",
       "WTCCCT473555         GG        TT       TT        NA\n",
       "WTCCCT473426         GG        TT       TT        GG\n",
       "WTCCCT473489         GG        CT       NA        AA\n",
       "...                 ...       ...      ...       ...\n",
       "WTCCCT473455         GG        TT       TT        AG\n",
       "WTCCCT473479         GG        CT       CT        GG\n",
       "WTCCCT473432         GG        CT       CT        AG\n",
       "WTCCCT473465         GG        CT       NA        AA\n",
       "WTCCCT473421         GG        TT       TT        AG\n",
       "\n",
       "[9772 rows x 4 columns]"
      ]
     },
     "execution_count": null,
     "metadata": {},
     "output_type": "execute_result"
    }
   ],
   "source": [
    "test_single_file.get_geno_each_sample_subset(\"single_file\")"
   ]
  },
  {
   "cell_type": "markdown",
   "id": "virgin-naples",
   "metadata": {},
   "source": [
    "### Testing a mix of rsids and position"
   ]
  },
  {
   "cell_type": "code",
   "execution_count": null,
   "id": "colonial-mention",
   "metadata": {},
   "outputs": [
    {
     "name": "stdout",
     "output_type": "stream",
     "text": [
      "reading genetic file and collecting found SNPs\n"
     ]
    },
    {
     "data": {
      "application/vnd.jupyter.widget-view+json": {
       "model_id": "0d260de7fe1541c6a9d528899d9764e6",
       "version_major": 2,
       "version_minor": 0
      },
      "text/plain": [
       "0it [00:00, ?it/s]"
      ]
     },
     "metadata": {},
     "output_type": "display_data"
    },
    {
     "name": "stdout",
     "output_type": "stream",
     "text": [
      "processing last batch\n"
     ]
    },
    {
     "data": {
      "application/vnd.jupyter.widget-view+json": {
       "model_id": "fe89a0de34614b6697981f232db93646",
       "version_major": 2,
       "version_minor": 0
      },
      "text/plain": [
       "0it [00:00, ?it/s]"
      ]
     },
     "metadata": {},
     "output_type": "display_data"
    },
    {
     "name": "stdout",
     "output_type": "stream",
     "text": [
      "reading genetic file and collecting found SNPs\n"
     ]
    },
    {
     "data": {
      "application/vnd.jupyter.widget-view+json": {
       "model_id": "8b3f00b152f745caa4cb29b4ee9c598c",
       "version_major": 2,
       "version_minor": 0
      },
      "text/plain": [
       "0it [00:00, ?it/s]"
      ]
     },
     "metadata": {},
     "output_type": "display_data"
    },
    {
     "name": "stdout",
     "output_type": "stream",
     "text": [
      "processing last batch\n"
     ]
    },
    {
     "data": {
      "application/vnd.jupyter.widget-view+json": {
       "model_id": "5ebb523949a147f995df8b4eb43fc324",
       "version_major": 2,
       "version_minor": 0
      },
      "text/plain": [
       "0it [00:00, ?it/s]"
      ]
     },
     "metadata": {},
     "output_type": "display_data"
    },
    {
     "data": {
      "text/plain": [
       "CombinedGenoPheno(num_snps=2, num_samples={'case': 9772, 'control': 5175})"
      ]
     },
     "execution_count": null,
     "metadata": {},
     "output_type": "execute_result"
    }
   ],
   "source": [
    "test_position_and_rsid = CombinedGenoPheno.init_from_OVPDataset(genetic_file, sample_file,\n",
    "                                                                rsid_dict = {22: [\"rs77948203\", \"21461017\"]},\n",
    "                                                                id_col_list = [\"rsid\", \"position\"] )#[\"case\"]\n",
    "test_position_and_rsid"
   ]
  },
  {
   "cell_type": "code",
   "execution_count": null,
   "id": "dense-bulgaria",
   "metadata": {},
   "outputs": [
    {
     "data": {
      "text/html": [
       "<div>\n",
       "<style scoped>\n",
       "    .dataframe tbody tr th:only-of-type {\n",
       "        vertical-align: middle;\n",
       "    }\n",
       "\n",
       "    .dataframe tbody tr th {\n",
       "        vertical-align: top;\n",
       "    }\n",
       "\n",
       "    .dataframe thead th {\n",
       "        text-align: right;\n",
       "    }\n",
       "</style>\n",
       "<table border=\"1\" class=\"dataframe\">\n",
       "  <thead>\n",
       "    <tr style=\"text-align: right;\">\n",
       "      <th>id_col</th>\n",
       "      <th>rs77948203</th>\n",
       "      <th>21461017</th>\n",
       "    </tr>\n",
       "    <tr>\n",
       "      <th>sample_id</th>\n",
       "      <th></th>\n",
       "      <th></th>\n",
       "    </tr>\n",
       "  </thead>\n",
       "  <tbody>\n",
       "    <tr>\n",
       "      <th>WTCCCT473540</th>\n",
       "      <td>GG</td>\n",
       "      <td>TT</td>\n",
       "    </tr>\n",
       "    <tr>\n",
       "      <th>WTCCCT473530</th>\n",
       "      <td>GG</td>\n",
       "      <td>TT</td>\n",
       "    </tr>\n",
       "    <tr>\n",
       "      <th>WTCCCT473555</th>\n",
       "      <td>GG</td>\n",
       "      <td>TT</td>\n",
       "    </tr>\n",
       "    <tr>\n",
       "      <th>WTCCCT473426</th>\n",
       "      <td>GG</td>\n",
       "      <td>TT</td>\n",
       "    </tr>\n",
       "    <tr>\n",
       "      <th>WTCCCT473489</th>\n",
       "      <td>GG</td>\n",
       "      <td>TT</td>\n",
       "    </tr>\n",
       "    <tr>\n",
       "      <th>...</th>\n",
       "      <td>...</td>\n",
       "      <td>...</td>\n",
       "    </tr>\n",
       "    <tr>\n",
       "      <th>WS574632</th>\n",
       "      <td>GG</td>\n",
       "      <td>TT</td>\n",
       "    </tr>\n",
       "    <tr>\n",
       "      <th>WS574661</th>\n",
       "      <td>GG</td>\n",
       "      <td>TT</td>\n",
       "    </tr>\n",
       "    <tr>\n",
       "      <th>BLOOD294452</th>\n",
       "      <td>GG</td>\n",
       "      <td>TT</td>\n",
       "    </tr>\n",
       "    <tr>\n",
       "      <th>WTCCCT511021</th>\n",
       "      <td>GG</td>\n",
       "      <td>TT</td>\n",
       "    </tr>\n",
       "    <tr>\n",
       "      <th>WTCCCT510948</th>\n",
       "      <td>GG</td>\n",
       "      <td>TT</td>\n",
       "    </tr>\n",
       "  </tbody>\n",
       "</table>\n",
       "<p>14947 rows × 2 columns</p>\n",
       "</div>"
      ],
      "text/plain": [
       "id_col       rs77948203 21461017\n",
       "sample_id                       \n",
       "WTCCCT473540         GG       TT\n",
       "WTCCCT473530         GG       TT\n",
       "WTCCCT473555         GG       TT\n",
       "WTCCCT473426         GG       TT\n",
       "WTCCCT473489         GG       TT\n",
       "...                 ...      ...\n",
       "WS574632             GG       TT\n",
       "WS574661             GG       TT\n",
       "BLOOD294452          GG       TT\n",
       "WTCCCT511021         GG       TT\n",
       "WTCCCT510948         GG       TT\n",
       "\n",
       "[14947 rows x 2 columns]"
      ]
     },
     "execution_count": null,
     "metadata": {},
     "output_type": "execute_result"
    }
   ],
   "source": [
    "test_position_and_rsid.all_samples_geno_df"
   ]
  },
  {
   "cell_type": "code",
   "execution_count": null,
   "id": "enhanced-tuner",
   "metadata": {},
   "outputs": [],
   "source": [
    "nbdev.test_eq(test_position_and_rsid.all_samples_geno_df.shape[1],2)"
   ]
  },
  {
   "cell_type": "markdown",
   "id": "4fb3e3b8-5fa7-4dce-9f9a-d2031504c5e2",
   "metadata": {},
   "source": [
    "---"
   ]
  },
  {
   "cell_type": "markdown",
   "id": "c3983c73-41f5-4c7e-b2bf-d7022872cd51",
   "metadata": {},
   "source": [
    "### Testing with BGEN"
   ]
  },
  {
   "cell_type": "code",
   "execution_count": null,
   "id": "31a8e8b9-3548-48fb-8f86-4cec52ce3dec",
   "metadata": {},
   "outputs": [
    {
     "data": {
      "text/plain": [
       "['MS_genetic_file_split_by_chrom',\n",
       " 'MS_sample_file',\n",
       " 'UKB_genetic_file_bgen_split_by_chrom',\n",
       " 'UKB_sample_file_basic_March_27_2021',\n",
       " 'test_UKB_sample_file_with_pheno_col',\n",
       " 'test_MS_genetic_file_split_by_chrom',\n",
       " 'genetic_file_bgen',\n",
       " 'test_MS_sample_file']"
      ]
     },
     "execution_count": null,
     "metadata": {},
     "output_type": "execute_result"
    }
   ],
   "source": [
    "bgen_catalog = get_catalog(env=\"cluster\", patterns = ['catalog*', 'catalog*/*/','catalog*/*/*'])\n",
    "bgen_catalog = bgen_catalog.reload()\n",
    "bgen_catalog.list()"
   ]
  },
  {
   "cell_type": "code",
   "execution_count": null,
   "id": "d52c1b3e-9be6-44d8-b2fe-8d24eee814a9",
   "metadata": {},
   "outputs": [],
   "source": [
    "genetic_file_bgen = bgen_catalog.load(\"genetic_file_bgen\")\n",
    "sample_file_bgen = bgen_catalog.load(\"test_UKB_sample_file_with_pheno_col\")"
   ]
  },
  {
   "cell_type": "code",
   "execution_count": null,
   "id": "0c63f409-e3f5-4a77-b449-dade8ea86a32",
   "metadata": {},
   "outputs": [
    {
     "data": {
      "text/plain": [
       "namespace(single_file=BgenFileFormat(file_path=SingleFilePathSchema(folder='/lab/corradin_biobank/Raw_UKB_downloads/BGEN/', full_file_name='ukb_imp_chr{chrom_num}_v3.bgen', file_name='ukb_imp_chr{chrom_num}_v3', extension='bgen', split_by_chromosome=True, chrom_num=None)))"
      ]
     },
     "execution_count": null,
     "metadata": {},
     "output_type": "execute_result"
    }
   ],
   "source": [
    "genetic_file_bgen.files"
   ]
  },
  {
   "cell_type": "code",
   "execution_count": null,
   "id": "ce66b41c-f500-49c6-9c25-913c8732e25b",
   "metadata": {},
   "outputs": [
    {
     "data": {
      "text/plain": [
       "namespace(single_file=SampleFileFormat(file_path=SingleFilePathSchema(folder='/lab/corradin_biobank/Raw_UKB_downloads/sample_files/', full_file_name='ukb45624_imp_chr21_v3_s487275.sample', file_name='ukb45624_imp_chr21_v3_s487275', extension='sample', split_by_chromosome=None, chrom_num=None), pandas_args={'sep': ' ', 'skiprows': [1]}, sample_id_col='ID_2', cov_cols=['sex'], pheno_col_file_info='data/test_data/pheno_col/UKB_risk_taking_2040_pheno_col.tsv|f.eid', ignore_neg_id_samples=True, missing_col=None))"
      ]
     },
     "execution_count": null,
     "metadata": {},
     "output_type": "execute_result"
    }
   ],
   "source": [
    "sample_file_bgen.files"
   ]
  },
  {
   "cell_type": "code",
   "execution_count": null,
   "id": "bb18f976-bfe5-42c6-b3cf-a62b1bb6245a",
   "metadata": {},
   "outputs": [
    {
     "data": {
      "text/plain": [
       "BgenFileFormat(file_path=SingleFilePathSchema(folder='/lab/corradin_biobank/Raw_UKB_downloads/BGEN/', full_file_name='ukb_imp_chr{chrom_num}_v3.bgen', file_name='ukb_imp_chr{chrom_num}_v3', extension='bgen', split_by_chromosome=True, chrom_num=None))"
      ]
     },
     "execution_count": null,
     "metadata": {},
     "output_type": "execute_result"
    }
   ],
   "source": [
    "genetic_file_bgen.files.single_file"
   ]
  },
  {
   "cell_type": "code",
   "execution_count": null,
   "id": "8e6a058f-cff4-41af-819b-67036ac83449",
   "metadata": {},
   "outputs": [
    {
     "data": {
      "text/plain": [
       "SampleFileFormat(file_path=SingleFilePathSchema(folder='/lab/corradin_biobank/Raw_UKB_downloads/sample_files/', full_file_name='ukb45624_imp_chr21_v3_s487275.sample', file_name='ukb45624_imp_chr21_v3_s487275', extension='sample', split_by_chromosome=None, chrom_num=None), pandas_args={'sep': ' ', 'skiprows': [1]}, sample_id_col='ID_2', cov_cols=['sex'], pheno_col_file_info='data/test_data/pheno_col/UKB_risk_taking_2040_pheno_col.tsv|f.eid', ignore_neg_id_samples=True, missing_col=None)"
      ]
     },
     "execution_count": null,
     "metadata": {},
     "output_type": "execute_result"
    }
   ],
   "source": [
    "sample_file_bgen.files.single_file"
   ]
  },
  {
   "cell_type": "code",
   "execution_count": null,
   "id": "2a28664d-16c4-4c36-b532-7c346f71de0a",
   "metadata": {},
   "outputs": [
    {
     "name": "stderr",
     "output_type": "stream",
     "text": [
      "WARNING:root:Initialize dictionary of genetic files for 1 chromosomes, this might take a while\n"
     ]
    },
    {
     "name": "stdout",
     "output_type": "stream",
     "text": [
      "Loading chromosome 22\n"
     ]
    },
    {
     "name": "stderr",
     "output_type": "stream",
     "text": [
      "WARNING:root:Loading 4 SNPs for chromosome 22, 487409 people\n",
      "WARNING:root:\n",
      "Found variants: 4/4\n",
      " Not found: 0/4.\n",
      " Percent found 100%\n"
     ]
    },
    {
     "name": "stdout",
     "output_type": "stream",
     "text": [
      "reading -- time=0:00:00.00, thread 1 of 4, part 1 of 1\n"
     ]
    }
   ],
   "source": [
    "test_combine_geno_pheno_bgen = CombinedGenoPheno.init_from_OVPDataset(genetic_file_bgen, sample_file_bgen, rsid_dict = {22: [\"rs77948203\", \"rs9610458\", \"rs134490\", \"rs5756405\"]})\n"
   ]
  },
  {
   "cell_type": "code",
   "execution_count": null,
   "id": "6e91d67d-e519-4b73-9bce-78e15e34ca73",
   "metadata": {},
   "outputs": [
    {
     "data": {
      "text/plain": [
       "{'single_file':                ID_1  missing  sex  case  missing_col_generated\n",
       " -134         -134.0      0.0  0.0   NaN                      1\n",
       " -133         -133.0      0.0  0.0   NaN                      1\n",
       " -132         -132.0      0.0  0.0   NaN                      1\n",
       " -131         -131.0      0.0  0.0   NaN                      1\n",
       " -130         -130.0      0.0  0.0   NaN                      1\n",
       " ...             ...      ...  ...   ...                    ...\n",
       "  5873167  5873167.0      0.0  2.0   1.0                      0\n",
       "  5873175  5873175.0      0.0  1.0   1.0                      0\n",
       "  5873180  5873180.0      0.0  2.0   1.0                      0\n",
       "  5873199  5873199.0      0.0  2.0   0.0                      0\n",
       "  5873208  5873208.0      0.0  1.0   NaN                      1\n",
       " \n",
       " [487440 rows x 5 columns]}"
      ]
     },
     "execution_count": null,
     "metadata": {},
     "output_type": "execute_result"
    }
   ],
   "source": [
    "test_combine_geno_pheno_bgen.sample_dict"
   ]
  },
  {
   "cell_type": "code",
   "execution_count": null,
   "id": "9b4f77fb-f84f-4bb3-8982-83611a655bf1",
   "metadata": {},
   "outputs": [],
   "source": []
  }
 ],
 "metadata": {
  "kernelspec": {
   "display_name": "Python 3",
   "language": "python",
   "name": "python3"
  }
 },
 "nbformat": 4,
 "nbformat_minor": 5
}
