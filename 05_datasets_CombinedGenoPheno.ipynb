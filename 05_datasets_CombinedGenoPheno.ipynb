{
 "cells": [
  {
   "cell_type": "code",
   "execution_count": 1,
   "id": "composite-coordinator",
   "metadata": {
    "execution": {
     "iopub.execute_input": "2021-12-31T00:07:09.868165Z",
     "iopub.status.busy": "2021-12-31T00:07:09.867274Z",
     "iopub.status.idle": "2021-12-31T00:07:09.878302Z",
     "shell.execute_reply": "2021-12-31T00:07:09.877531Z",
     "shell.execute_reply.started": "2021-12-31T00:07:09.867669Z"
    },
    "tags": []
   },
   "outputs": [],
   "source": [
    "# default_exp datasets.CombinedGenoPheno"
   ]
  },
  {
   "cell_type": "markdown",
   "id": "determined-junior",
   "metadata": {},
   "source": [
    "# Combining Genotype and Phenotype files\n",
    "\n",
    "> API details."
   ]
  },
  {
   "cell_type": "code",
   "execution_count": 2,
   "id": "square-kingdom",
   "metadata": {
    "execution": {
     "iopub.execute_input": "2021-11-03T19:13:15.954457Z",
     "iopub.status.busy": "2021-11-03T19:13:15.953963Z",
     "iopub.status.idle": "2021-11-03T19:13:19.079958Z",
     "shell.execute_reply": "2021-11-03T19:13:19.078856Z",
     "shell.execute_reply.started": "2021-11-03T19:13:15.954397Z"
    },
    "tags": []
   },
   "outputs": [],
   "source": [
    "#hide\n",
    "from nbdev.showdoc import *\n",
    "import numpy as np\n",
    "from corradin_ovp_utils.catalog import test_data_catalog, conf_test_data_catalog, get_catalog\n",
    "from corradin_ovp_utils.datasets.genetic_file import triplicate_converter\n",
    "from corradin_ovp_utils.odds_ratio import get_geno_combination_df\n",
    "from fastcore.test import ExceptionExpected\n",
    "import nbdev"
   ]
  },
  {
   "cell_type": "code",
   "execution_count": null,
   "id": "familiar-aberdeen",
   "metadata": {
    "execution": {
     "iopub.status.busy": "2021-11-02T14:00:32.819159Z",
     "iopub.status.idle": "2021-11-02T14:00:32.819484Z",
     "shell.execute_reply": "2021-11-02T14:00:32.819324Z"
    },
    "tags": []
   },
   "outputs": [],
   "source": [
    "#export\n",
    "from typing import Any, Dict, List, Optional, Literal, Union\n",
    "from pydantic import BaseModel\n",
    "import pandas as pd\n",
    "import corradin_ovp_utils\n",
    "from fastcore.basics import typed, basic_repr\n",
    "from fastcore.dispatch import typedispatch\n",
    "from corradin_ovp_utils.datasets import OVPDataset\n",
    "from corradin_ovp_utils.datasets.genetic_file import GeneticFileFormat\n",
    "from corradin_ovp_utils.datasets.schemas import SingleFilePathSchema, MultipleFilePathSchema\n",
    "import copy"
   ]
  },
  {
   "cell_type": "code",
   "execution_count": null,
   "id": "raised-membership",
   "metadata": {
    "execution": {
     "iopub.status.busy": "2021-11-02T14:00:32.820315Z",
     "iopub.status.idle": "2021-11-02T14:00:32.820637Z",
     "shell.execute_reply": "2021-11-02T14:00:32.820478Z"
    },
    "tags": []
   },
   "outputs": [],
   "source": [
    "#export\n",
    "class CombinedGenoPheno(BaseModel):\n",
    "    #genetic_file_df: pd.DataFrame\n",
    "    #sample_file_df: pd.DataFrame\n",
    "    all_samples_geno_df: pd.DataFrame\n",
    "    all_geno_df: pd.DataFrame\n",
    "    sample_dict: Dict[str, pd.DataFrame]\n",
    "    genetic_files_dict: Dict[str, GeneticFileFormat]\n",
    "        \n",
    "    __repr__ = basic_repr(\"num_snps,num_samples\")\n",
    "    \n",
    "    @property\n",
    "    def num_snps(self):\n",
    "        return len(self.all_samples_geno_df.columns)\n",
    "    \n",
    "    @property\n",
    "    def num_samples(self):\n",
    "        return {key: value.shape[0] for key, value in self.sample_dict.items()}\n",
    "    \n",
    "    def get_geno_each_sample_subset(self, key):\n",
    "        subset_df = self.all_samples_geno_df.loc[self.sample_dict[key].index]\n",
    "        return subset_df\n",
    "    \n",
    "    @property\n",
    "    def sample_subsets(self):\n",
    "        return list(self.sample_dict.keys())\n",
    "    \n",
    "    @classmethod\n",
    "    def init_from_OVPDataset(cls,\n",
    "                             genetic_dataset: OVPDataset.OVPDataset,\n",
    "                             sample_dataset: OVPDataset.OVPDataset,\n",
    "                            rsid_dict: Dict[int,List[str]],\n",
    "                             id_col_list=[\"rsid\"],\n",
    "                             batch_size: int =1_000,\n",
    "                             excluded_sample_ids : List[str] = []\n",
    "                            ):\n",
    "        \n",
    "        genetic_files_dict, sample_dict_loaded = cls.process_datasets(genetic_dataset, sample_dataset, excluded_sample_ids = excluded_sample_ids)\n",
    "        all_samples_geno_df, all_geno_df, *extra_info = zip(*[genetic_file.get_geno_each_sample(rsid_dict, id_col_list=id_col_list, batch_size=1_000, excluded_sample_ids= excluded_sample_ids) for key, genetic_file in genetic_files_dict.items()])\n",
    "        \n",
    "        return CombinedGenoPheno(all_samples_geno_df = pd.concat(all_samples_geno_df), sample_dict= sample_dict_loaded, genetic_files_dict= genetic_files_dict, all_geno_df = all_geno_df[0])\n",
    "            \n",
    "    \n",
    "\n",
    "    @classmethod\n",
    "    def process_datasets(cls, genetic_dataset: OVPDataset.OVPDataset, sample_dataset: OVPDataset.OVPDataset, excluded_sample_ids:List[str]=[]):\n",
    "        combine_genetic_sample_func = cls._process_file_type(genetic_dataset._file_path, sample_dataset._file_path)\n",
    "        genetic_dict, sample_dict_loaded = combine_genetic_sample_func(genetic_dataset, sample_dataset, excluded_sample_ids= excluded_sample_ids)\n",
    "        return genetic_dict, sample_dict_loaded\n",
    "    \n",
    "    \n",
    "#     @typedispatch    \n",
    "#     @classmethod\n",
    "#     def _process_file_type(cls, genetic_file_schema: SingleFilePathSchema, sample_file_schema: SingleFilePathSchema):\n",
    "#         return lambda genetic, sample: genetic\n",
    "    \n",
    "    \n",
    "#     @typedispatch\n",
    "    @classmethod\n",
    "    def _process_file_type(cls, genetic_file_schema: MultipleFilePathSchema,\n",
    "                           sample_file_schema: MultipleFilePathSchema):\n",
    "        assert genetic_file_schema.__class__ == sample_file_schema.__class__\n",
    "        def combine_genetic_sample_multiple(genetic_dataset, sample_file_dataset, excluded_sample_ids:List[str]):\n",
    "            genetic_dict = copy.deepcopy(vars(genetic_dataset.files))\n",
    "            sample_dict = copy.deepcopy(vars(sample_file_dataset.files))\n",
    "            shared_keys = set(genetic_dict.keys()) & set(sample_dict.keys())\n",
    "            sample_dict_loaded = {}\n",
    "            \n",
    "            #make sure the two datasets only have shared keys\n",
    "            assert set(genetic_dict.keys()) == set(sample_dict.keys())\n",
    "            for key in shared_keys:\n",
    "                sample_file_loaded = sample_dict[key].load(with_missing_samples = True)\n",
    "                genetic_dict[key].sample_ids = list(sample_file_loaded.index)\n",
    "                genetic_dict[key].sample_file = sample_dict[key].file_path.get_full_file_path()\n",
    "                sample_dict_loaded[key] = sample_dict[key].load(with_missing_samples = False).query(\"index not in @excluded_sample_ids\")\n",
    "            \n",
    "            return genetic_dict, sample_dict_loaded\n",
    "        \n",
    "        return combine_genetic_sample_multiple\n",
    "                \n",
    "    class Config:\n",
    "        arbitrary_types_allowed = True"
   ]
  },
  {
   "cell_type": "code",
   "execution_count": null,
   "id": "inside-fantasy",
   "metadata": {
    "execution": {
     "iopub.status.busy": "2021-11-02T14:00:32.821551Z",
     "iopub.status.idle": "2021-11-02T14:00:32.821927Z",
     "shell.execute_reply": "2021-11-02T14:00:32.821765Z"
    },
    "tags": []
   },
   "outputs": [],
   "source": [
    "genetic_file = test_data_catalog.load(\"genetic_file\")\n",
    "sample_file = test_data_catalog.load(\"sample_file\")"
   ]
  },
  {
   "cell_type": "code",
   "execution_count": 6,
   "id": "communist-chick",
   "metadata": {
    "execution": {
     "iopub.execute_input": "2021-09-02T14:10:37.092814Z",
     "iopub.status.busy": "2021-09-02T14:10:37.092363Z",
     "iopub.status.idle": "2021-09-02T14:10:37.109169Z",
     "shell.execute_reply": "2021-09-02T14:10:37.108450Z",
     "shell.execute_reply.started": "2021-09-02T14:10:37.092754Z"
    },
    "tags": []
   },
   "outputs": [
    {
     "data": {
      "text/plain": [
       "{'case': GenFileFormat(file_path=SingleFilePathSchema(folder='data/test_data/gen_file', full_file_name='test_CASE_MS_chr22.gen', file_name='test_CASE_MS_chr22', extension='gen', split_by_chromosome=None, chrom_num=22)),\n",
       " 'control': GenFileFormat(file_path=SingleFilePathSchema(folder='data/test_data/gen_file', full_file_name='test_CONTROL_MS_chr22.gen', file_name='test_CONTROL_MS_chr22', extension='gen', split_by_chromosome=None, chrom_num=22))}"
      ]
     },
     "execution_count": 6,
     "metadata": {},
     "output_type": "execute_result"
    }
   ],
   "source": [
    "vars(genetic_file.files)\n"
   ]
  },
  {
   "cell_type": "code",
   "execution_count": 7,
   "id": "domestic-layout",
   "metadata": {
    "execution": {
     "iopub.execute_input": "2021-09-02T14:10:37.686234Z",
     "iopub.status.busy": "2021-09-02T14:10:37.685782Z",
     "iopub.status.idle": "2021-09-02T14:10:37.693926Z",
     "shell.execute_reply": "2021-09-02T14:10:37.692880Z",
     "shell.execute_reply.started": "2021-09-02T14:10:37.686175Z"
    },
    "tags": []
   },
   "outputs": [
    {
     "data": {
      "text/plain": [
       "{'case': SampleFileFormat(file_path=SingleFilePathSchema(folder='data/test_data/sample_file', full_file_name='MS_impute2_ALL_sample_out.tsv', file_name='MS_impute2_ALL_sample_out', extension='tsv', split_by_chromosome=None, chrom_num=None), pandas_args={'sep': ' ', 'skiprows': [1]}, sample_id_col='ID_2', cov_cols=['sex'], missing_col='missing'),\n",
       " 'control': SampleFileFormat(file_path=SingleFilePathSchema(folder='data/test_data/sample_file', full_file_name='ALL_controls_58C_NBS_WTC2_impute2_sample_out.tsv', file_name='ALL_controls_58C_NBS_WTC2_impute2_sample_out', extension='tsv', split_by_chromosome=None, chrom_num=None), pandas_args={'sep': ' ', 'skiprows': [1]}, sample_id_col='ID_2', cov_cols=['sex'], missing_col='missing')}"
      ]
     },
     "execution_count": 7,
     "metadata": {},
     "output_type": "execute_result"
    }
   ],
   "source": [
    "vars(sample_file.files)"
   ]
  },
  {
   "cell_type": "code",
   "execution_count": 8,
   "id": "raising-software",
   "metadata": {
    "execution": {
     "iopub.execute_input": "2021-09-02T14:10:38.992032Z",
     "iopub.status.busy": "2021-09-02T14:10:38.991468Z",
     "iopub.status.idle": "2021-09-02T14:10:39.056480Z",
     "shell.execute_reply": "2021-09-02T14:10:39.055815Z",
     "shell.execute_reply.started": "2021-09-02T14:10:38.991968Z"
    },
    "tags": []
   },
   "outputs": [],
   "source": [
    "geno_dict, sample_dict = CombinedGenoPheno.process_datasets(genetic_file, sample_file)"
   ]
  },
  {
   "cell_type": "code",
   "execution_count": 9,
   "id": "ready-oracle",
   "metadata": {
    "execution": {
     "iopub.execute_input": "2021-09-02T14:10:39.240546Z",
     "iopub.status.busy": "2021-09-02T14:10:39.240095Z",
     "iopub.status.idle": "2021-09-02T14:10:39.248783Z",
     "shell.execute_reply": "2021-09-02T14:10:39.247604Z",
     "shell.execute_reply.started": "2021-09-02T14:10:39.240488Z"
    },
    "tags": []
   },
   "outputs": [
    {
     "data": {
      "text/plain": [
       "GenFileFormat(file_path=SingleFilePathSchema(folder='data/test_data/gen_file', full_file_name='test_CASE_MS_chr22.gen', file_name='test_CASE_MS_chr22', extension='gen', split_by_chromosome=None, chrom_num=22))"
      ]
     },
     "execution_count": 9,
     "metadata": {},
     "output_type": "execute_result"
    }
   ],
   "source": [
    "test_file = geno_dict[\"case\"]\n",
    "test_file"
   ]
  },
  {
   "cell_type": "code",
   "execution_count": 10,
   "id": "genuine-stretch",
   "metadata": {
    "execution": {
     "iopub.execute_input": "2021-09-02T14:10:39.371190Z",
     "iopub.status.busy": "2021-09-02T14:10:39.370768Z",
     "iopub.status.idle": "2021-09-02T14:10:43.870899Z",
     "shell.execute_reply": "2021-09-02T14:10:43.870164Z",
     "shell.execute_reply.started": "2021-09-02T14:10:39.371136Z"
    },
    "tags": []
   },
   "outputs": [
    {
     "data": {
      "text/plain": [
       "GenFileObject(chrom=22, file_path=Path('data/test_data/gen_file/test_CASE_MS_chr22.gen'))"
      ]
     },
     "execution_count": 10,
     "metadata": {},
     "output_type": "execute_result"
    }
   ],
   "source": [
    "test_file_chrom22 = test_file.load(chrom=22)\n",
    "test_file_chrom22"
   ]
  },
  {
   "cell_type": "code",
   "execution_count": 11,
   "id": "advance-sussex",
   "metadata": {
    "execution": {
     "iopub.execute_input": "2021-09-02T14:10:43.872376Z",
     "iopub.status.busy": "2021-09-02T14:10:43.872177Z",
     "iopub.status.idle": "2021-09-02T14:10:45.657310Z",
     "shell.execute_reply": "2021-09-02T14:10:45.656536Z",
     "shell.execute_reply.started": "2021-09-02T14:10:43.872351Z"
    },
    "tags": []
   },
   "outputs": [
    {
     "data": {
      "text/html": [
       "<div>\n",
       "<style scoped>\n",
       "    .dataframe tbody tr th:only-of-type {\n",
       "        vertical-align: middle;\n",
       "    }\n",
       "\n",
       "    .dataframe tbody tr th {\n",
       "        vertical-align: top;\n",
       "    }\n",
       "\n",
       "    .dataframe thead tr th {\n",
       "        text-align: left;\n",
       "    }\n",
       "</style>\n",
       "<table border=\"1\" class=\"dataframe\">\n",
       "  <thead>\n",
       "    <tr>\n",
       "      <th></th>\n",
       "      <th>dashes</th>\n",
       "      <th>rsid</th>\n",
       "      <th>position</th>\n",
       "      <th>alleleA</th>\n",
       "      <th>alleleB</th>\n",
       "      <th colspan=\"3\" halign=\"left\">WTCCCT473540</th>\n",
       "      <th colspan=\"2\" halign=\"left\">WTCCCT473530</th>\n",
       "      <th>...</th>\n",
       "      <th>WTCCCT473479</th>\n",
       "      <th colspan=\"3\" halign=\"left\">WTCCCT473432</th>\n",
       "      <th colspan=\"3\" halign=\"left\">WTCCCT473465</th>\n",
       "      <th colspan=\"3\" halign=\"left\">WTCCCT473421</th>\n",
       "    </tr>\n",
       "    <tr>\n",
       "      <th></th>\n",
       "      <th></th>\n",
       "      <th></th>\n",
       "      <th></th>\n",
       "      <th></th>\n",
       "      <th></th>\n",
       "      <th>AA</th>\n",
       "      <th>AB</th>\n",
       "      <th>BB</th>\n",
       "      <th>AA</th>\n",
       "      <th>AB</th>\n",
       "      <th>...</th>\n",
       "      <th>BB</th>\n",
       "      <th>AA</th>\n",
       "      <th>AB</th>\n",
       "      <th>BB</th>\n",
       "      <th>AA</th>\n",
       "      <th>AB</th>\n",
       "      <th>BB</th>\n",
       "      <th>AA</th>\n",
       "      <th>AB</th>\n",
       "      <th>BB</th>\n",
       "    </tr>\n",
       "  </thead>\n",
       "  <tbody>\n",
       "    <tr>\n",
       "      <th>0</th>\n",
       "      <td>---</td>\n",
       "      <td>rs77948203</td>\n",
       "      <td>21249165</td>\n",
       "      <td>G</td>\n",
       "      <td>A</td>\n",
       "      <td>1</td>\n",
       "      <td>0.000</td>\n",
       "      <td>0.000</td>\n",
       "      <td>1</td>\n",
       "      <td>0.000</td>\n",
       "      <td>...</td>\n",
       "      <td>0</td>\n",
       "      <td>1</td>\n",
       "      <td>0</td>\n",
       "      <td>0</td>\n",
       "      <td>1</td>\n",
       "      <td>0.000</td>\n",
       "      <td>0.000</td>\n",
       "      <td>1</td>\n",
       "      <td>0</td>\n",
       "      <td>0</td>\n",
       "    </tr>\n",
       "    <tr>\n",
       "      <th>1</th>\n",
       "      <td>---</td>\n",
       "      <td>rs1014626</td>\n",
       "      <td>21461017</td>\n",
       "      <td>C</td>\n",
       "      <td>T</td>\n",
       "      <td>0</td>\n",
       "      <td>0.000</td>\n",
       "      <td>1.000</td>\n",
       "      <td>0</td>\n",
       "      <td>0.000</td>\n",
       "      <td>...</td>\n",
       "      <td>1</td>\n",
       "      <td>0</td>\n",
       "      <td>0</td>\n",
       "      <td>1</td>\n",
       "      <td>0</td>\n",
       "      <td>0.000</td>\n",
       "      <td>1.000</td>\n",
       "      <td>0</td>\n",
       "      <td>0</td>\n",
       "      <td>1</td>\n",
       "    </tr>\n",
       "    <tr>\n",
       "      <th>2</th>\n",
       "      <td>---</td>\n",
       "      <td>rs9610458</td>\n",
       "      <td>22205353</td>\n",
       "      <td>C</td>\n",
       "      <td>T</td>\n",
       "      <td>0</td>\n",
       "      <td>0.000</td>\n",
       "      <td>1.000</td>\n",
       "      <td>0</td>\n",
       "      <td>0.000</td>\n",
       "      <td>...</td>\n",
       "      <td>0</td>\n",
       "      <td>0</td>\n",
       "      <td>1</td>\n",
       "      <td>0</td>\n",
       "      <td>0</td>\n",
       "      <td>1.000</td>\n",
       "      <td>0.000</td>\n",
       "      <td>0</td>\n",
       "      <td>0</td>\n",
       "      <td>1</td>\n",
       "    </tr>\n",
       "    <tr>\n",
       "      <th>3</th>\n",
       "      <td>---</td>\n",
       "      <td>rs5762201</td>\n",
       "      <td>27888455</td>\n",
       "      <td>A</td>\n",
       "      <td>G</td>\n",
       "      <td>0</td>\n",
       "      <td>0.000</td>\n",
       "      <td>1.000</td>\n",
       "      <td>0</td>\n",
       "      <td>0.012</td>\n",
       "      <td>...</td>\n",
       "      <td>1</td>\n",
       "      <td>0</td>\n",
       "      <td>0</td>\n",
       "      <td>1</td>\n",
       "      <td>0</td>\n",
       "      <td>0.000</td>\n",
       "      <td>1.000</td>\n",
       "      <td>0</td>\n",
       "      <td>0</td>\n",
       "      <td>1</td>\n",
       "    </tr>\n",
       "    <tr>\n",
       "      <th>4</th>\n",
       "      <td>---</td>\n",
       "      <td>rs1004237</td>\n",
       "      <td>28068501</td>\n",
       "      <td>C</td>\n",
       "      <td>T</td>\n",
       "      <td>1</td>\n",
       "      <td>0.000</td>\n",
       "      <td>0.000</td>\n",
       "      <td>1</td>\n",
       "      <td>0.000</td>\n",
       "      <td>...</td>\n",
       "      <td>0</td>\n",
       "      <td>1</td>\n",
       "      <td>0</td>\n",
       "      <td>0</td>\n",
       "      <td>1</td>\n",
       "      <td>0.000</td>\n",
       "      <td>0.000</td>\n",
       "      <td>1</td>\n",
       "      <td>0</td>\n",
       "      <td>0</td>\n",
       "    </tr>\n",
       "    <tr>\n",
       "      <th>5</th>\n",
       "      <td>---</td>\n",
       "      <td>rs134490</td>\n",
       "      <td>28730175</td>\n",
       "      <td>C</td>\n",
       "      <td>T</td>\n",
       "      <td>0</td>\n",
       "      <td>0.232</td>\n",
       "      <td>0.768</td>\n",
       "      <td>0</td>\n",
       "      <td>0.014</td>\n",
       "      <td>...</td>\n",
       "      <td>0</td>\n",
       "      <td>0</td>\n",
       "      <td>1</td>\n",
       "      <td>0</td>\n",
       "      <td>0</td>\n",
       "      <td>0.356</td>\n",
       "      <td>0.644</td>\n",
       "      <td>0</td>\n",
       "      <td>0</td>\n",
       "      <td>1</td>\n",
       "    </tr>\n",
       "    <tr>\n",
       "      <th>6</th>\n",
       "      <td>---</td>\n",
       "      <td>rs4821519</td>\n",
       "      <td>37102100</td>\n",
       "      <td>G</td>\n",
       "      <td>C</td>\n",
       "      <td>1</td>\n",
       "      <td>0.000</td>\n",
       "      <td>0.000</td>\n",
       "      <td>0</td>\n",
       "      <td>1.000</td>\n",
       "      <td>...</td>\n",
       "      <td>0</td>\n",
       "      <td>1</td>\n",
       "      <td>0</td>\n",
       "      <td>0</td>\n",
       "      <td>1</td>\n",
       "      <td>0.000</td>\n",
       "      <td>0.000</td>\n",
       "      <td>1</td>\n",
       "      <td>0</td>\n",
       "      <td>0</td>\n",
       "    </tr>\n",
       "    <tr>\n",
       "      <th>7</th>\n",
       "      <td>---</td>\n",
       "      <td>rs1003500</td>\n",
       "      <td>37262769</td>\n",
       "      <td>C</td>\n",
       "      <td>T</td>\n",
       "      <td>1</td>\n",
       "      <td>0.000</td>\n",
       "      <td>0.000</td>\n",
       "      <td>1</td>\n",
       "      <td>0.000</td>\n",
       "      <td>...</td>\n",
       "      <td>0</td>\n",
       "      <td>1</td>\n",
       "      <td>0</td>\n",
       "      <td>0</td>\n",
       "      <td>1</td>\n",
       "      <td>0.000</td>\n",
       "      <td>0.000</td>\n",
       "      <td>1</td>\n",
       "      <td>0</td>\n",
       "      <td>0</td>\n",
       "    </tr>\n",
       "    <tr>\n",
       "      <th>8</th>\n",
       "      <td>---</td>\n",
       "      <td>rs5756405</td>\n",
       "      <td>37310954</td>\n",
       "      <td>A</td>\n",
       "      <td>G</td>\n",
       "      <td>0</td>\n",
       "      <td>1.000</td>\n",
       "      <td>0.000</td>\n",
       "      <td>1</td>\n",
       "      <td>0.000</td>\n",
       "      <td>...</td>\n",
       "      <td>1</td>\n",
       "      <td>0</td>\n",
       "      <td>1</td>\n",
       "      <td>0</td>\n",
       "      <td>1</td>\n",
       "      <td>0.000</td>\n",
       "      <td>0.000</td>\n",
       "      <td>0</td>\n",
       "      <td>1</td>\n",
       "      <td>0</td>\n",
       "    </tr>\n",
       "  </tbody>\n",
       "</table>\n",
       "<p>9 rows × 29321 columns</p>\n",
       "</div>"
      ],
      "text/plain": [
       "  dashes        rsid  position alleleA alleleB WTCCCT473540                \\\n",
       "                                                         AA     AB     BB   \n",
       "0    ---  rs77948203  21249165       G       A            1  0.000  0.000   \n",
       "1    ---   rs1014626  21461017       C       T            0  0.000  1.000   \n",
       "2    ---   rs9610458  22205353       C       T            0  0.000  1.000   \n",
       "3    ---   rs5762201  27888455       A       G            0  0.000  1.000   \n",
       "4    ---   rs1004237  28068501       C       T            1  0.000  0.000   \n",
       "5    ---    rs134490  28730175       C       T            0  0.232  0.768   \n",
       "6    ---   rs4821519  37102100       G       C            1  0.000  0.000   \n",
       "7    ---   rs1003500  37262769       C       T            1  0.000  0.000   \n",
       "8    ---   rs5756405  37310954       A       G            0  1.000  0.000   \n",
       "\n",
       "  WTCCCT473530         ... WTCCCT473479 WTCCCT473432       WTCCCT473465  \\\n",
       "            AA     AB  ...           BB           AA AB BB           AA   \n",
       "0            1  0.000  ...            0            1  0  0            1   \n",
       "1            0  0.000  ...            1            0  0  1            0   \n",
       "2            0  0.000  ...            0            0  1  0            0   \n",
       "3            0  0.012  ...            1            0  0  1            0   \n",
       "4            1  0.000  ...            0            1  0  0            1   \n",
       "5            0  0.014  ...            0            0  1  0            0   \n",
       "6            0  1.000  ...            0            1  0  0            1   \n",
       "7            1  0.000  ...            0            1  0  0            1   \n",
       "8            1  0.000  ...            1            0  1  0            1   \n",
       "\n",
       "                WTCCCT473421        \n",
       "      AB     BB           AA AB BB  \n",
       "0  0.000  0.000            1  0  0  \n",
       "1  0.000  1.000            0  0  1  \n",
       "2  1.000  0.000            0  0  1  \n",
       "3  0.000  1.000            0  0  1  \n",
       "4  0.000  0.000            1  0  0  \n",
       "5  0.356  0.644            0  0  1  \n",
       "6  0.000  0.000            1  0  0  \n",
       "7  0.000  0.000            1  0  0  \n",
       "8  0.000  0.000            0  1  0  \n",
       "\n",
       "[9 rows x 29321 columns]"
      ]
     },
     "execution_count": 11,
     "metadata": {},
     "output_type": "execute_result"
    }
   ],
   "source": [
    "test_file_chrom22.load_df()"
   ]
  },
  {
   "cell_type": "code",
   "execution_count": 12,
   "id": "national-contents",
   "metadata": {
    "execution": {
     "iopub.execute_input": "2021-09-02T14:10:45.659351Z",
     "iopub.status.busy": "2021-09-02T14:10:45.659155Z",
     "iopub.status.idle": "2021-09-02T14:10:45.663416Z",
     "shell.execute_reply": "2021-09-02T14:10:45.662735Z",
     "shell.execute_reply.started": "2021-09-02T14:10:45.659326Z"
    },
    "tags": []
   },
   "outputs": [],
   "source": [
    "with ExceptionExpected(ex=MemoryError, regex = \"is too big, input limit is 10K.\"): test_file_chrom22.load_df(size_limit=10_000)"
   ]
  },
  {
   "cell_type": "code",
   "execution_count": 13,
   "id": "promotional-aluminum",
   "metadata": {
    "execution": {
     "iopub.execute_input": "2021-09-02T14:10:45.664661Z",
     "iopub.status.busy": "2021-09-02T14:10:45.664466Z",
     "iopub.status.idle": "2021-09-02T14:11:49.374261Z",
     "shell.execute_reply": "2021-09-02T14:11:49.373568Z",
     "shell.execute_reply.started": "2021-09-02T14:10:45.664637Z"
    },
    "tags": []
   },
   "outputs": [
    {
     "name": "stdout",
     "output_type": "stream",
     "text": [
      "reading genetic file and collecting found SNPs for file data/test_data/gen_file/test_CASE_MS_chr22.gen\n"
     ]
    },
    {
     "data": {
      "application/vnd.jupyter.widget-view+json": {
       "model_id": "3eeaadcc20bd4e0cad8d6a64fe3385f9",
       "version_major": 2,
       "version_minor": 0
      },
      "text/plain": [
       "0it [00:00, ?it/s]"
      ]
     },
     "metadata": {},
     "output_type": "display_data"
    },
    {
     "name": "stdout",
     "output_type": "stream",
     "text": [
      "processing last batch\n"
     ]
    },
    {
     "data": {
      "application/vnd.jupyter.widget-view+json": {
       "model_id": "315d1cf107a54281aef81d5caf74209d",
       "version_major": 2,
       "version_minor": 0
      },
      "text/plain": [
       "0it [00:00, ?it/s]"
      ]
     },
     "metadata": {},
     "output_type": "display_data"
    },
    {
     "name": "stdout",
     "output_type": "stream",
     "text": [
      "reading genetic file and collecting found SNPs for file data/test_data/gen_file/test_CONTROL_MS_chr22.gen\n"
     ]
    },
    {
     "data": {
      "application/vnd.jupyter.widget-view+json": {
       "model_id": "e69064efb98f4c05a18ccfc9cc1c2a78",
       "version_major": 2,
       "version_minor": 0
      },
      "text/plain": [
       "0it [00:00, ?it/s]"
      ]
     },
     "metadata": {},
     "output_type": "display_data"
    },
    {
     "name": "stdout",
     "output_type": "stream",
     "text": [
      "processing last batch\n"
     ]
    },
    {
     "data": {
      "application/vnd.jupyter.widget-view+json": {
       "model_id": "1757d525f5cf46e59852caa7252fb04c",
       "version_major": 2,
       "version_minor": 0
      },
      "text/plain": [
       "0it [00:00, ?it/s]"
      ]
     },
     "metadata": {},
     "output_type": "display_data"
    },
    {
     "data": {
      "text/plain": [
       "CombinedGenoPheno(num_snps=4, num_samples={'case': 9772, 'control': 5175})"
      ]
     },
     "execution_count": 13,
     "metadata": {},
     "output_type": "execute_result"
    }
   ],
   "source": [
    "test = CombinedGenoPheno.init_from_OVPDataset(genetic_file, sample_file, rsid_dict = {22: [\"rs77948203\", \"rs9610458\", \"rs134490\", \"rs5756405\"]})#[\"case\"]\n",
    "test"
   ]
  },
  {
   "cell_type": "code",
   "execution_count": 14,
   "id": "aquatic-austin",
   "metadata": {
    "execution": {
     "iopub.execute_input": "2021-09-02T14:11:49.375521Z",
     "iopub.status.busy": "2021-09-02T14:11:49.375346Z",
     "iopub.status.idle": "2021-09-02T14:11:49.381221Z",
     "shell.execute_reply": "2021-09-02T14:11:49.380342Z",
     "shell.execute_reply.started": "2021-09-02T14:11:49.375498Z"
    },
    "tags": []
   },
   "outputs": [
    {
     "data": {
      "text/plain": [
       "{'case': GenFileFormat(file_path=SingleFilePathSchema(folder='data/test_data/gen_file', full_file_name='test_CASE_MS_chr22.gen', file_name='test_CASE_MS_chr22', extension='gen', split_by_chromosome=None, chrom_num=22)),\n",
       " 'control': GenFileFormat(file_path=SingleFilePathSchema(folder='data/test_data/gen_file', full_file_name='test_CONTROL_MS_chr22.gen', file_name='test_CONTROL_MS_chr22', extension='gen', split_by_chromosome=None, chrom_num=22))}"
      ]
     },
     "execution_count": 14,
     "metadata": {},
     "output_type": "execute_result"
    }
   ],
   "source": [
    "test.genetic_files_dict"
   ]
  },
  {
   "cell_type": "code",
   "execution_count": 15,
   "id": "adaptive-pierre",
   "metadata": {
    "execution": {
     "iopub.execute_input": "2021-09-02T14:11:49.382298Z",
     "iopub.status.busy": "2021-09-02T14:11:49.382125Z",
     "iopub.status.idle": "2021-09-02T14:11:49.392568Z",
     "shell.execute_reply": "2021-09-02T14:11:49.391570Z",
     "shell.execute_reply.started": "2021-09-02T14:11:49.382276Z"
    },
    "tags": []
   },
   "outputs": [
    {
     "data": {
      "text/plain": [
       "{'case': GenFileFormat(file_path=SingleFilePathSchema(folder='data/test_data/gen_file', full_file_name='test_CASE_MS_chr22.gen', file_name='test_CASE_MS_chr22', extension='gen', split_by_chromosome=None, chrom_num=22)),\n",
       " 'control': GenFileFormat(file_path=SingleFilePathSchema(folder='data/test_data/gen_file', full_file_name='test_CONTROL_MS_chr22.gen', file_name='test_CONTROL_MS_chr22', extension='gen', split_by_chromosome=None, chrom_num=22))}"
      ]
     },
     "execution_count": 15,
     "metadata": {},
     "output_type": "execute_result"
    }
   ],
   "source": [
    "test.genetic_files_dict"
   ]
  },
  {
   "cell_type": "code",
   "execution_count": 16,
   "id": "surprised-letters",
   "metadata": {
    "execution": {
     "iopub.execute_input": "2021-09-02T14:11:49.393933Z",
     "iopub.status.busy": "2021-09-02T14:11:49.393710Z",
     "iopub.status.idle": "2021-09-02T14:11:49.412842Z",
     "shell.execute_reply": "2021-09-02T14:11:49.411817Z",
     "shell.execute_reply.started": "2021-09-02T14:11:49.393903Z"
    },
    "tags": []
   },
   "outputs": [
    {
     "data": {
      "text/html": [
       "<div>\n",
       "<style scoped>\n",
       "    .dataframe tbody tr th:only-of-type {\n",
       "        vertical-align: middle;\n",
       "    }\n",
       "\n",
       "    .dataframe tbody tr th {\n",
       "        vertical-align: top;\n",
       "    }\n",
       "\n",
       "    .dataframe thead th {\n",
       "        text-align: right;\n",
       "    }\n",
       "</style>\n",
       "<table border=\"1\" class=\"dataframe\">\n",
       "  <thead>\n",
       "    <tr style=\"text-align: right;\">\n",
       "      <th>first</th>\n",
       "      <th>alleleA</th>\n",
       "      <th>alleleB</th>\n",
       "      <th>AA</th>\n",
       "      <th>AB</th>\n",
       "      <th>BB</th>\n",
       "    </tr>\n",
       "    <tr>\n",
       "      <th>id_col</th>\n",
       "      <th></th>\n",
       "      <th></th>\n",
       "      <th></th>\n",
       "      <th></th>\n",
       "      <th></th>\n",
       "    </tr>\n",
       "  </thead>\n",
       "  <tbody>\n",
       "    <tr>\n",
       "      <th>rs77948203</th>\n",
       "      <td>G</td>\n",
       "      <td>A</td>\n",
       "      <td>GG</td>\n",
       "      <td>AG</td>\n",
       "      <td>AA</td>\n",
       "    </tr>\n",
       "    <tr>\n",
       "      <th>rs9610458</th>\n",
       "      <td>C</td>\n",
       "      <td>T</td>\n",
       "      <td>CC</td>\n",
       "      <td>CT</td>\n",
       "      <td>TT</td>\n",
       "    </tr>\n",
       "    <tr>\n",
       "      <th>rs134490</th>\n",
       "      <td>C</td>\n",
       "      <td>T</td>\n",
       "      <td>CC</td>\n",
       "      <td>CT</td>\n",
       "      <td>TT</td>\n",
       "    </tr>\n",
       "    <tr>\n",
       "      <th>rs5756405</th>\n",
       "      <td>A</td>\n",
       "      <td>G</td>\n",
       "      <td>AA</td>\n",
       "      <td>AG</td>\n",
       "      <td>GG</td>\n",
       "    </tr>\n",
       "  </tbody>\n",
       "</table>\n",
       "</div>"
      ],
      "text/plain": [
       "first      alleleA alleleB  AA  AB  BB\n",
       "id_col                                \n",
       "rs77948203       G       A  GG  AG  AA\n",
       "rs9610458        C       T  CC  CT  TT\n",
       "rs134490         C       T  CC  CT  TT\n",
       "rs5756405        A       G  AA  AG  GG"
      ]
     },
     "execution_count": 16,
     "metadata": {},
     "output_type": "execute_result"
    }
   ],
   "source": [
    "test.all_geno_df"
   ]
  },
  {
   "cell_type": "code",
   "execution_count": 17,
   "id": "logical-steal",
   "metadata": {
    "execution": {
     "iopub.execute_input": "2021-09-02T14:11:49.414685Z",
     "iopub.status.busy": "2021-09-02T14:11:49.414519Z",
     "iopub.status.idle": "2021-09-02T14:11:49.427722Z",
     "shell.execute_reply": "2021-09-02T14:11:49.426995Z",
     "shell.execute_reply.started": "2021-09-02T14:11:49.414663Z"
    },
    "tags": []
   },
   "outputs": [
    {
     "data": {
      "text/html": [
       "<div>\n",
       "<style scoped>\n",
       "    .dataframe tbody tr th:only-of-type {\n",
       "        vertical-align: middle;\n",
       "    }\n",
       "\n",
       "    .dataframe tbody tr th {\n",
       "        vertical-align: top;\n",
       "    }\n",
       "\n",
       "    .dataframe thead th {\n",
       "        text-align: right;\n",
       "    }\n",
       "</style>\n",
       "<table border=\"1\" class=\"dataframe\">\n",
       "  <thead>\n",
       "    <tr style=\"text-align: right;\">\n",
       "      <th>id_col</th>\n",
       "      <th>rs77948203</th>\n",
       "      <th>rs9610458</th>\n",
       "      <th>rs134490</th>\n",
       "      <th>rs5756405</th>\n",
       "    </tr>\n",
       "    <tr>\n",
       "      <th>sample_id</th>\n",
       "      <th></th>\n",
       "      <th></th>\n",
       "      <th></th>\n",
       "      <th></th>\n",
       "    </tr>\n",
       "  </thead>\n",
       "  <tbody>\n",
       "    <tr>\n",
       "      <th>WTCCCT473540</th>\n",
       "      <td>GG</td>\n",
       "      <td>TT</td>\n",
       "      <td>NA</td>\n",
       "      <td>AG</td>\n",
       "    </tr>\n",
       "    <tr>\n",
       "      <th>WTCCCT473530</th>\n",
       "      <td>GG</td>\n",
       "      <td>TT</td>\n",
       "      <td>TT</td>\n",
       "      <td>AA</td>\n",
       "    </tr>\n",
       "    <tr>\n",
       "      <th>WTCCCT473555</th>\n",
       "      <td>GG</td>\n",
       "      <td>TT</td>\n",
       "      <td>TT</td>\n",
       "      <td>NA</td>\n",
       "    </tr>\n",
       "    <tr>\n",
       "      <th>WTCCCT473426</th>\n",
       "      <td>GG</td>\n",
       "      <td>TT</td>\n",
       "      <td>TT</td>\n",
       "      <td>GG</td>\n",
       "    </tr>\n",
       "    <tr>\n",
       "      <th>WTCCCT473489</th>\n",
       "      <td>GG</td>\n",
       "      <td>CT</td>\n",
       "      <td>NA</td>\n",
       "      <td>AA</td>\n",
       "    </tr>\n",
       "    <tr>\n",
       "      <th>...</th>\n",
       "      <td>...</td>\n",
       "      <td>...</td>\n",
       "      <td>...</td>\n",
       "      <td>...</td>\n",
       "    </tr>\n",
       "    <tr>\n",
       "      <th>WS574632</th>\n",
       "      <td>GG</td>\n",
       "      <td>CT</td>\n",
       "      <td>TT</td>\n",
       "      <td>GG</td>\n",
       "    </tr>\n",
       "    <tr>\n",
       "      <th>WS574661</th>\n",
       "      <td>GG</td>\n",
       "      <td>TT</td>\n",
       "      <td>TT</td>\n",
       "      <td>AA</td>\n",
       "    </tr>\n",
       "    <tr>\n",
       "      <th>BLOOD294452</th>\n",
       "      <td>GG</td>\n",
       "      <td>CT</td>\n",
       "      <td>TT</td>\n",
       "      <td>AG</td>\n",
       "    </tr>\n",
       "    <tr>\n",
       "      <th>WTCCCT511021</th>\n",
       "      <td>GG</td>\n",
       "      <td>CT</td>\n",
       "      <td>TT</td>\n",
       "      <td>AG</td>\n",
       "    </tr>\n",
       "    <tr>\n",
       "      <th>WTCCCT510948</th>\n",
       "      <td>GG</td>\n",
       "      <td>CT</td>\n",
       "      <td>TT</td>\n",
       "      <td>AA</td>\n",
       "    </tr>\n",
       "  </tbody>\n",
       "</table>\n",
       "<p>14947 rows × 4 columns</p>\n",
       "</div>"
      ],
      "text/plain": [
       "id_col       rs77948203 rs9610458 rs134490 rs5756405\n",
       "sample_id                                           \n",
       "WTCCCT473540         GG        TT       NA        AG\n",
       "WTCCCT473530         GG        TT       TT        AA\n",
       "WTCCCT473555         GG        TT       TT        NA\n",
       "WTCCCT473426         GG        TT       TT        GG\n",
       "WTCCCT473489         GG        CT       NA        AA\n",
       "...                 ...       ...      ...       ...\n",
       "WS574632             GG        CT       TT        GG\n",
       "WS574661             GG        TT       TT        AA\n",
       "BLOOD294452          GG        CT       TT        AG\n",
       "WTCCCT511021         GG        CT       TT        AG\n",
       "WTCCCT510948         GG        CT       TT        AA\n",
       "\n",
       "[14947 rows x 4 columns]"
      ]
     },
     "execution_count": 17,
     "metadata": {},
     "output_type": "execute_result"
    }
   ],
   "source": [
    "test.all_samples_geno_df"
   ]
  },
  {
   "cell_type": "code",
   "execution_count": 18,
   "id": "ordered-newark",
   "metadata": {
    "execution": {
     "iopub.execute_input": "2021-09-02T14:11:49.429007Z",
     "iopub.status.busy": "2021-09-02T14:11:49.428832Z",
     "iopub.status.idle": "2021-09-02T14:11:49.452771Z",
     "shell.execute_reply": "2021-09-02T14:11:49.452029Z",
     "shell.execute_reply.started": "2021-09-02T14:11:49.428984Z"
    },
    "tags": []
   },
   "outputs": [
    {
     "data": {
      "text/html": [
       "<div>\n",
       "<style scoped>\n",
       "    .dataframe tbody tr th:only-of-type {\n",
       "        vertical-align: middle;\n",
       "    }\n",
       "\n",
       "    .dataframe tbody tr th {\n",
       "        vertical-align: top;\n",
       "    }\n",
       "\n",
       "    .dataframe thead th {\n",
       "        text-align: right;\n",
       "    }\n",
       "</style>\n",
       "<table border=\"1\" class=\"dataframe\">\n",
       "  <thead>\n",
       "    <tr style=\"text-align: right;\">\n",
       "      <th>id_col</th>\n",
       "      <th>rs77948203</th>\n",
       "      <th>rs9610458</th>\n",
       "      <th>rs134490</th>\n",
       "      <th>rs5756405</th>\n",
       "    </tr>\n",
       "    <tr>\n",
       "      <th>sample_id</th>\n",
       "      <th></th>\n",
       "      <th></th>\n",
       "      <th></th>\n",
       "      <th></th>\n",
       "    </tr>\n",
       "  </thead>\n",
       "  <tbody>\n",
       "    <tr>\n",
       "      <th>WTCCCT473540</th>\n",
       "      <td>GG</td>\n",
       "      <td>TT</td>\n",
       "      <td>NA</td>\n",
       "      <td>AG</td>\n",
       "    </tr>\n",
       "    <tr>\n",
       "      <th>WTCCCT473530</th>\n",
       "      <td>GG</td>\n",
       "      <td>TT</td>\n",
       "      <td>TT</td>\n",
       "      <td>AA</td>\n",
       "    </tr>\n",
       "    <tr>\n",
       "      <th>WTCCCT473555</th>\n",
       "      <td>GG</td>\n",
       "      <td>TT</td>\n",
       "      <td>TT</td>\n",
       "      <td>NA</td>\n",
       "    </tr>\n",
       "    <tr>\n",
       "      <th>WTCCCT473426</th>\n",
       "      <td>GG</td>\n",
       "      <td>TT</td>\n",
       "      <td>TT</td>\n",
       "      <td>GG</td>\n",
       "    </tr>\n",
       "    <tr>\n",
       "      <th>WTCCCT473489</th>\n",
       "      <td>GG</td>\n",
       "      <td>CT</td>\n",
       "      <td>NA</td>\n",
       "      <td>AA</td>\n",
       "    </tr>\n",
       "    <tr>\n",
       "      <th>...</th>\n",
       "      <td>...</td>\n",
       "      <td>...</td>\n",
       "      <td>...</td>\n",
       "      <td>...</td>\n",
       "    </tr>\n",
       "    <tr>\n",
       "      <th>WTCCCT473455</th>\n",
       "      <td>GG</td>\n",
       "      <td>TT</td>\n",
       "      <td>TT</td>\n",
       "      <td>AG</td>\n",
       "    </tr>\n",
       "    <tr>\n",
       "      <th>WTCCCT473479</th>\n",
       "      <td>GG</td>\n",
       "      <td>CT</td>\n",
       "      <td>CT</td>\n",
       "      <td>GG</td>\n",
       "    </tr>\n",
       "    <tr>\n",
       "      <th>WTCCCT473432</th>\n",
       "      <td>GG</td>\n",
       "      <td>CT</td>\n",
       "      <td>CT</td>\n",
       "      <td>AG</td>\n",
       "    </tr>\n",
       "    <tr>\n",
       "      <th>WTCCCT473465</th>\n",
       "      <td>GG</td>\n",
       "      <td>CT</td>\n",
       "      <td>NA</td>\n",
       "      <td>AA</td>\n",
       "    </tr>\n",
       "    <tr>\n",
       "      <th>WTCCCT473421</th>\n",
       "      <td>GG</td>\n",
       "      <td>TT</td>\n",
       "      <td>TT</td>\n",
       "      <td>AG</td>\n",
       "    </tr>\n",
       "  </tbody>\n",
       "</table>\n",
       "<p>9772 rows × 4 columns</p>\n",
       "</div>"
      ],
      "text/plain": [
       "id_col       rs77948203 rs9610458 rs134490 rs5756405\n",
       "sample_id                                           \n",
       "WTCCCT473540         GG        TT       NA        AG\n",
       "WTCCCT473530         GG        TT       TT        AA\n",
       "WTCCCT473555         GG        TT       TT        NA\n",
       "WTCCCT473426         GG        TT       TT        GG\n",
       "WTCCCT473489         GG        CT       NA        AA\n",
       "...                 ...       ...      ...       ...\n",
       "WTCCCT473455         GG        TT       TT        AG\n",
       "WTCCCT473479         GG        CT       CT        GG\n",
       "WTCCCT473432         GG        CT       CT        AG\n",
       "WTCCCT473465         GG        CT       NA        AA\n",
       "WTCCCT473421         GG        TT       TT        AG\n",
       "\n",
       "[9772 rows x 4 columns]"
      ]
     },
     "execution_count": 18,
     "metadata": {},
     "output_type": "execute_result"
    }
   ],
   "source": [
    "test.get_geno_each_sample_subset(\"case\")"
   ]
  },
  {
   "cell_type": "code",
   "execution_count": 19,
   "id": "proud-essence",
   "metadata": {
    "execution": {
     "iopub.execute_input": "2021-09-02T14:11:49.453687Z",
     "iopub.status.busy": "2021-09-02T14:11:49.453530Z",
     "iopub.status.idle": "2021-09-02T14:11:49.468016Z",
     "shell.execute_reply": "2021-09-02T14:11:49.467050Z",
     "shell.execute_reply.started": "2021-09-02T14:11:49.453666Z"
    },
    "tags": []
   },
   "outputs": [
    {
     "data": {
      "text/html": [
       "<div>\n",
       "<style scoped>\n",
       "    .dataframe tbody tr th:only-of-type {\n",
       "        vertical-align: middle;\n",
       "    }\n",
       "\n",
       "    .dataframe tbody tr th {\n",
       "        vertical-align: top;\n",
       "    }\n",
       "\n",
       "    .dataframe thead th {\n",
       "        text-align: right;\n",
       "    }\n",
       "</style>\n",
       "<table border=\"1\" class=\"dataframe\">\n",
       "  <thead>\n",
       "    <tr style=\"text-align: right;\">\n",
       "      <th>id_col</th>\n",
       "      <th>rs77948203</th>\n",
       "      <th>rs9610458</th>\n",
       "      <th>rs134490</th>\n",
       "      <th>rs5756405</th>\n",
       "    </tr>\n",
       "    <tr>\n",
       "      <th>sample_id</th>\n",
       "      <th></th>\n",
       "      <th></th>\n",
       "      <th></th>\n",
       "      <th></th>\n",
       "    </tr>\n",
       "  </thead>\n",
       "  <tbody>\n",
       "    <tr>\n",
       "      <th>WTCCCT443025</th>\n",
       "      <td>GG</td>\n",
       "      <td>TT</td>\n",
       "      <td>CT</td>\n",
       "      <td>AG</td>\n",
       "    </tr>\n",
       "    <tr>\n",
       "      <th>WTCCCT443065</th>\n",
       "      <td>GG</td>\n",
       "      <td>CT</td>\n",
       "      <td>CT</td>\n",
       "      <td>AG</td>\n",
       "    </tr>\n",
       "    <tr>\n",
       "      <th>WTCCCT443063</th>\n",
       "      <td>GG</td>\n",
       "      <td>TT</td>\n",
       "      <td>CC</td>\n",
       "      <td>GG</td>\n",
       "    </tr>\n",
       "    <tr>\n",
       "      <th>WTCCCT443026</th>\n",
       "      <td>GG</td>\n",
       "      <td>CC</td>\n",
       "      <td>CT</td>\n",
       "      <td>AG</td>\n",
       "    </tr>\n",
       "    <tr>\n",
       "      <th>WTCCCT443066</th>\n",
       "      <td>GG</td>\n",
       "      <td>CT</td>\n",
       "      <td>TT</td>\n",
       "      <td>GG</td>\n",
       "    </tr>\n",
       "    <tr>\n",
       "      <th>...</th>\n",
       "      <td>...</td>\n",
       "      <td>...</td>\n",
       "      <td>...</td>\n",
       "      <td>...</td>\n",
       "    </tr>\n",
       "    <tr>\n",
       "      <th>WS574632</th>\n",
       "      <td>GG</td>\n",
       "      <td>CT</td>\n",
       "      <td>TT</td>\n",
       "      <td>GG</td>\n",
       "    </tr>\n",
       "    <tr>\n",
       "      <th>WS574661</th>\n",
       "      <td>GG</td>\n",
       "      <td>TT</td>\n",
       "      <td>TT</td>\n",
       "      <td>AA</td>\n",
       "    </tr>\n",
       "    <tr>\n",
       "      <th>BLOOD294452</th>\n",
       "      <td>GG</td>\n",
       "      <td>CT</td>\n",
       "      <td>TT</td>\n",
       "      <td>AG</td>\n",
       "    </tr>\n",
       "    <tr>\n",
       "      <th>WTCCCT511021</th>\n",
       "      <td>GG</td>\n",
       "      <td>CT</td>\n",
       "      <td>TT</td>\n",
       "      <td>AG</td>\n",
       "    </tr>\n",
       "    <tr>\n",
       "      <th>WTCCCT510948</th>\n",
       "      <td>GG</td>\n",
       "      <td>CT</td>\n",
       "      <td>TT</td>\n",
       "      <td>AA</td>\n",
       "    </tr>\n",
       "  </tbody>\n",
       "</table>\n",
       "<p>5175 rows × 4 columns</p>\n",
       "</div>"
      ],
      "text/plain": [
       "id_col       rs77948203 rs9610458 rs134490 rs5756405\n",
       "sample_id                                           \n",
       "WTCCCT443025         GG        TT       CT        AG\n",
       "WTCCCT443065         GG        CT       CT        AG\n",
       "WTCCCT443063         GG        TT       CC        GG\n",
       "WTCCCT443026         GG        CC       CT        AG\n",
       "WTCCCT443066         GG        CT       TT        GG\n",
       "...                 ...       ...      ...       ...\n",
       "WS574632             GG        CT       TT        GG\n",
       "WS574661             GG        TT       TT        AA\n",
       "BLOOD294452          GG        CT       TT        AG\n",
       "WTCCCT511021         GG        CT       TT        AG\n",
       "WTCCCT510948         GG        CT       TT        AA\n",
       "\n",
       "[5175 rows x 4 columns]"
      ]
     },
     "execution_count": 19,
     "metadata": {},
     "output_type": "execute_result"
    }
   ],
   "source": [
    "test.get_geno_each_sample_subset(\"control\")"
   ]
  },
  {
   "cell_type": "code",
   "execution_count": 20,
   "id": "vocal-reservoir",
   "metadata": {
    "execution": {
     "iopub.execute_input": "2021-09-02T14:11:49.468859Z",
     "iopub.status.busy": "2021-09-02T14:11:49.468694Z",
     "iopub.status.idle": "2021-09-02T14:11:49.486371Z",
     "shell.execute_reply": "2021-09-02T14:11:49.485357Z",
     "shell.execute_reply.started": "2021-09-02T14:11:49.468837Z"
    },
    "tags": []
   },
   "outputs": [
    {
     "data": {
      "text/plain": [
       "{'case':                     ID_1  missing  sex  case\n",
       " sample_id                                   \n",
       " WTCCCT473540   95300_D10        0    2     1\n",
       " WTCCCT473530   95300_D11        0    1     1\n",
       " WTCCCT473555   95300_D12        0    1     1\n",
       " WTCCCT473426   95300_E01        0    2     1\n",
       " WTCCCT473489   95300_E02        0    1     1\n",
       " ...                  ...      ...  ...   ...\n",
       " WTCCCT473455  116733_C03        0    1     1\n",
       " WTCCCT473479  116733_D03        0    2     1\n",
       " WTCCCT473432  116733_E03        0    2     1\n",
       " WTCCCT473465  116733_F02        0    1     1\n",
       " WTCCCT473421  116733_F03        0    1     1\n",
       " \n",
       " [9772 rows x 4 columns],\n",
       " 'control':                     ID_1  missing   plate  sex  case\n",
       " sample_id                                           \n",
       " WTCCCT443025   74717_A02        0   74717    2     0\n",
       " WTCCCT443065   74717_A05        0   74717    2     0\n",
       " WTCCCT443063   74717_A06        0   74717    2     0\n",
       " WTCCCT443026   74717_B02        0   74717    2     0\n",
       " WTCCCT443066   74717_B05        0   74717    2     0\n",
       " ...                  ...      ...     ...  ...   ...\n",
       " WS574632      101916_C07        0  101916    1     0\n",
       " WS574661      101916_D07        0  101916    1     0\n",
       " BLOOD294452   101806_F08        0  101806    1     0\n",
       " WTCCCT511021  101816_D11        0  101816    2     0\n",
       " WTCCCT510948  101816_F10        0  101816    1     0\n",
       " \n",
       " [5175 rows x 5 columns]}"
      ]
     },
     "execution_count": 20,
     "metadata": {},
     "output_type": "execute_result"
    }
   ],
   "source": [
    "test.sample_dict"
   ]
  },
  {
   "cell_type": "code",
   "execution_count": 21,
   "id": "leading-strengthening",
   "metadata": {
    "execution": {
     "iopub.execute_input": "2021-09-02T14:11:49.487658Z",
     "iopub.status.busy": "2021-09-02T14:11:49.487498Z",
     "iopub.status.idle": "2021-09-02T14:11:49.529847Z",
     "shell.execute_reply": "2021-09-02T14:11:49.528943Z",
     "shell.execute_reply.started": "2021-09-02T14:11:49.487636Z"
    },
    "tags": []
   },
   "outputs": [
    {
     "data": {
      "text/html": [
       "<div>\n",
       "<style scoped>\n",
       "    .dataframe tbody tr th:only-of-type {\n",
       "        vertical-align: middle;\n",
       "    }\n",
       "\n",
       "    .dataframe tbody tr th {\n",
       "        vertical-align: top;\n",
       "    }\n",
       "\n",
       "    .dataframe thead th {\n",
       "        text-align: right;\n",
       "    }\n",
       "</style>\n",
       "<table border=\"1\" class=\"dataframe\">\n",
       "  <thead>\n",
       "    <tr style=\"text-align: right;\">\n",
       "      <th></th>\n",
       "      <th>rs9610458</th>\n",
       "      <th>rs134490</th>\n",
       "      <th>unique_samples_id</th>\n",
       "      <th>unique_samples_count</th>\n",
       "    </tr>\n",
       "  </thead>\n",
       "  <tbody>\n",
       "    <tr>\n",
       "      <th>0</th>\n",
       "      <td>CC</td>\n",
       "      <td>CC</td>\n",
       "      <td>[WTCCCT489620, WTCCCT489645, WTCCCT473287, WTC...</td>\n",
       "      <td>76</td>\n",
       "    </tr>\n",
       "    <tr>\n",
       "      <th>1</th>\n",
       "      <td>CC</td>\n",
       "      <td>CT</td>\n",
       "      <td>[WTCCCT473552, WTCCCT473505, WTCCCT489578, WTC...</td>\n",
       "      <td>724</td>\n",
       "    </tr>\n",
       "    <tr>\n",
       "      <th>2</th>\n",
       "      <td>CC</td>\n",
       "      <td>NA</td>\n",
       "      <td>[WTCCCT489646, WTCCCT489580, WTCCCT488814, WTC...</td>\n",
       "      <td>381</td>\n",
       "    </tr>\n",
       "    <tr>\n",
       "      <th>3</th>\n",
       "      <td>CC</td>\n",
       "      <td>TT</td>\n",
       "      <td>[WTCCCT473500, WTCCCT473539, WTCCCT473521, WTC...</td>\n",
       "      <td>1791</td>\n",
       "    </tr>\n",
       "    <tr>\n",
       "      <th>4</th>\n",
       "      <td>CT</td>\n",
       "      <td>CC</td>\n",
       "      <td>[WTCCCT473297, WTCCCT473230, WTCCCT473244, WTC...</td>\n",
       "      <td>191</td>\n",
       "    </tr>\n",
       "    <tr>\n",
       "      <th>5</th>\n",
       "      <td>CT</td>\n",
       "      <td>CT</td>\n",
       "      <td>[WTCCCT473447, WTCCCT473466, WTCCCT473492, WTC...</td>\n",
       "      <td>1733</td>\n",
       "    </tr>\n",
       "    <tr>\n",
       "      <th>6</th>\n",
       "      <td>CT</td>\n",
       "      <td>NA</td>\n",
       "      <td>[WTCCCT473489, WTCCCT473524, WTCCCT473499, WTC...</td>\n",
       "      <td>959</td>\n",
       "    </tr>\n",
       "    <tr>\n",
       "      <th>7</th>\n",
       "      <td>CT</td>\n",
       "      <td>TT</td>\n",
       "      <td>[WTCCCT473456, WTCCCT473515, WTCCCT473508, WTC...</td>\n",
       "      <td>4226</td>\n",
       "    </tr>\n",
       "    <tr>\n",
       "      <th>8</th>\n",
       "      <td>NA</td>\n",
       "      <td>CC</td>\n",
       "      <td>[WTCCCT473436, WTCCCT469571, WTCCCT443738, WTC...</td>\n",
       "      <td>5</td>\n",
       "    </tr>\n",
       "    <tr>\n",
       "      <th>9</th>\n",
       "      <td>NA</td>\n",
       "      <td>CT</td>\n",
       "      <td>[WTCCCT488883, WTCCCT474387, WTCCCT474448, WTC...</td>\n",
       "      <td>111</td>\n",
       "    </tr>\n",
       "    <tr>\n",
       "      <th>10</th>\n",
       "      <td>NA</td>\n",
       "      <td>NA</td>\n",
       "      <td>[WTCCCT489613, WTCCCT497565, WTCCCT474593, WTC...</td>\n",
       "      <td>69</td>\n",
       "    </tr>\n",
       "    <tr>\n",
       "      <th>11</th>\n",
       "      <td>NA</td>\n",
       "      <td>TT</td>\n",
       "      <td>[WTCCCT473549, WTCCCT489615, WTCCCT489614, WTC...</td>\n",
       "      <td>301</td>\n",
       "    </tr>\n",
       "    <tr>\n",
       "      <th>12</th>\n",
       "      <td>TT</td>\n",
       "      <td>CC</td>\n",
       "      <td>[WTCCCT489604, WTCCCT467785, WTCCCT489030, WTC...</td>\n",
       "      <td>102</td>\n",
       "    </tr>\n",
       "    <tr>\n",
       "      <th>13</th>\n",
       "      <td>TT</td>\n",
       "      <td>CT</td>\n",
       "      <td>[WTCCCT473454, WTCCCT489616, WTCCCT489608, WTC...</td>\n",
       "      <td>1022</td>\n",
       "    </tr>\n",
       "    <tr>\n",
       "      <th>14</th>\n",
       "      <td>TT</td>\n",
       "      <td>NA</td>\n",
       "      <td>[WTCCCT473540, WTCCCT473497, WTCCCT473520, WTC...</td>\n",
       "      <td>634</td>\n",
       "    </tr>\n",
       "    <tr>\n",
       "      <th>15</th>\n",
       "      <td>TT</td>\n",
       "      <td>TT</td>\n",
       "      <td>[WTCCCT473530, WTCCCT473555, WTCCCT473426, WTC...</td>\n",
       "      <td>2622</td>\n",
       "    </tr>\n",
       "  </tbody>\n",
       "</table>\n",
       "</div>"
      ],
      "text/plain": [
       "   rs9610458 rs134490                                  unique_samples_id  \\\n",
       "0         CC       CC  [WTCCCT489620, WTCCCT489645, WTCCCT473287, WTC...   \n",
       "1         CC       CT  [WTCCCT473552, WTCCCT473505, WTCCCT489578, WTC...   \n",
       "2         CC       NA  [WTCCCT489646, WTCCCT489580, WTCCCT488814, WTC...   \n",
       "3         CC       TT  [WTCCCT473500, WTCCCT473539, WTCCCT473521, WTC...   \n",
       "4         CT       CC  [WTCCCT473297, WTCCCT473230, WTCCCT473244, WTC...   \n",
       "5         CT       CT  [WTCCCT473447, WTCCCT473466, WTCCCT473492, WTC...   \n",
       "6         CT       NA  [WTCCCT473489, WTCCCT473524, WTCCCT473499, WTC...   \n",
       "7         CT       TT  [WTCCCT473456, WTCCCT473515, WTCCCT473508, WTC...   \n",
       "8         NA       CC  [WTCCCT473436, WTCCCT469571, WTCCCT443738, WTC...   \n",
       "9         NA       CT  [WTCCCT488883, WTCCCT474387, WTCCCT474448, WTC...   \n",
       "10        NA       NA  [WTCCCT489613, WTCCCT497565, WTCCCT474593, WTC...   \n",
       "11        NA       TT  [WTCCCT473549, WTCCCT489615, WTCCCT489614, WTC...   \n",
       "12        TT       CC  [WTCCCT489604, WTCCCT467785, WTCCCT489030, WTC...   \n",
       "13        TT       CT  [WTCCCT473454, WTCCCT489616, WTCCCT489608, WTC...   \n",
       "14        TT       NA  [WTCCCT473540, WTCCCT473497, WTCCCT473520, WTC...   \n",
       "15        TT       TT  [WTCCCT473530, WTCCCT473555, WTCCCT473426, WTC...   \n",
       "\n",
       "    unique_samples_count  \n",
       "0                     76  \n",
       "1                    724  \n",
       "2                    381  \n",
       "3                   1791  \n",
       "4                    191  \n",
       "5                   1733  \n",
       "6                    959  \n",
       "7                   4226  \n",
       "8                      5  \n",
       "9                    111  \n",
       "10                    69  \n",
       "11                   301  \n",
       "12                   102  \n",
       "13                  1022  \n",
       "14                   634  \n",
       "15                  2622  "
      ]
     },
     "execution_count": 21,
     "metadata": {},
     "output_type": "execute_result"
    }
   ],
   "source": [
    "get_geno_combination_df(test.all_samples_geno_df, rsid_list=[\"rs9610458\", \"rs134490\"]).df"
   ]
  },
  {
   "cell_type": "code",
   "execution_count": 22,
   "id": "sitting-announcement",
   "metadata": {
    "execution": {
     "iopub.execute_input": "2021-09-02T14:11:49.530827Z",
     "iopub.status.busy": "2021-09-02T14:11:49.530670Z",
     "iopub.status.idle": "2021-09-02T14:11:49.573414Z",
     "shell.execute_reply": "2021-09-02T14:11:49.572524Z",
     "shell.execute_reply.started": "2021-09-02T14:11:49.530807Z"
    },
    "tags": []
   },
   "outputs": [
    {
     "data": {
      "text/html": [
       "<div>\n",
       "<style scoped>\n",
       "    .dataframe tbody tr th:only-of-type {\n",
       "        vertical-align: middle;\n",
       "    }\n",
       "\n",
       "    .dataframe tbody tr th {\n",
       "        vertical-align: top;\n",
       "    }\n",
       "\n",
       "    .dataframe thead th {\n",
       "        text-align: right;\n",
       "    }\n",
       "</style>\n",
       "<table border=\"1\" class=\"dataframe\">\n",
       "  <thead>\n",
       "    <tr style=\"text-align: right;\">\n",
       "      <th></th>\n",
       "      <th>rs9610458</th>\n",
       "      <th>rs134490</th>\n",
       "      <th>rs5756405</th>\n",
       "      <th>unique_samples_id</th>\n",
       "      <th>unique_samples_count</th>\n",
       "    </tr>\n",
       "  </thead>\n",
       "  <tbody>\n",
       "    <tr>\n",
       "      <th>0</th>\n",
       "      <td>CC</td>\n",
       "      <td>CC</td>\n",
       "      <td>AA</td>\n",
       "      <td>[WTCCCT489620, WTCCCT505862, WTCCCT467112, WTC...</td>\n",
       "      <td>13</td>\n",
       "    </tr>\n",
       "    <tr>\n",
       "      <th>1</th>\n",
       "      <td>CC</td>\n",
       "      <td>CC</td>\n",
       "      <td>AG</td>\n",
       "      <td>[WTCCCT489645, WTCCCT473287, WTCCCT470000, WTC...</td>\n",
       "      <td>29</td>\n",
       "    </tr>\n",
       "    <tr>\n",
       "      <th>2</th>\n",
       "      <td>CC</td>\n",
       "      <td>CC</td>\n",
       "      <td>GG</td>\n",
       "      <td>[WTCCCT474572, WTCCCT466155, WTCCCT508245, WTC...</td>\n",
       "      <td>33</td>\n",
       "    </tr>\n",
       "    <tr>\n",
       "      <th>3</th>\n",
       "      <td>CC</td>\n",
       "      <td>CC</td>\n",
       "      <td>NA</td>\n",
       "      <td>[WTCCCT473042]</td>\n",
       "      <td>1</td>\n",
       "    </tr>\n",
       "    <tr>\n",
       "      <th>4</th>\n",
       "      <td>CC</td>\n",
       "      <td>CT</td>\n",
       "      <td>AA</td>\n",
       "      <td>[WTCCCT473505, WTCCCT507950, WTCCCT507923, WTC...</td>\n",
       "      <td>156</td>\n",
       "    </tr>\n",
       "    <tr>\n",
       "      <th>...</th>\n",
       "      <td>...</td>\n",
       "      <td>...</td>\n",
       "      <td>...</td>\n",
       "      <td>...</td>\n",
       "      <td>...</td>\n",
       "    </tr>\n",
       "    <tr>\n",
       "      <th>58</th>\n",
       "      <td>TT</td>\n",
       "      <td>NA</td>\n",
       "      <td>NA</td>\n",
       "      <td>[WTCCCT515370, WTCCCT467086, WTCCCT508785, WTC...</td>\n",
       "      <td>15</td>\n",
       "    </tr>\n",
       "    <tr>\n",
       "      <th>59</th>\n",
       "      <td>TT</td>\n",
       "      <td>TT</td>\n",
       "      <td>AA</td>\n",
       "      <td>[WTCCCT473530, WTCCCT473468, WTCCCT473462, WTC...</td>\n",
       "      <td>628</td>\n",
       "    </tr>\n",
       "    <tr>\n",
       "      <th>60</th>\n",
       "      <td>TT</td>\n",
       "      <td>TT</td>\n",
       "      <td>AG</td>\n",
       "      <td>[WTCCCT473435, WTCCCT473522, WTCCCT473537, WTC...</td>\n",
       "      <td>1266</td>\n",
       "    </tr>\n",
       "    <tr>\n",
       "      <th>61</th>\n",
       "      <td>TT</td>\n",
       "      <td>TT</td>\n",
       "      <td>GG</td>\n",
       "      <td>[WTCCCT473426, WTCCCT473527, WTCCCT489641, WTC...</td>\n",
       "      <td>668</td>\n",
       "    </tr>\n",
       "    <tr>\n",
       "      <th>62</th>\n",
       "      <td>TT</td>\n",
       "      <td>TT</td>\n",
       "      <td>NA</td>\n",
       "      <td>[WTCCCT473555, WTCCCT473227, WTCCCT468253, WTC...</td>\n",
       "      <td>60</td>\n",
       "    </tr>\n",
       "  </tbody>\n",
       "</table>\n",
       "<p>63 rows × 5 columns</p>\n",
       "</div>"
      ],
      "text/plain": [
       "   rs9610458 rs134490 rs5756405  \\\n",
       "0         CC       CC        AA   \n",
       "1         CC       CC        AG   \n",
       "2         CC       CC        GG   \n",
       "3         CC       CC        NA   \n",
       "4         CC       CT        AA   \n",
       "..       ...      ...       ...   \n",
       "58        TT       NA        NA   \n",
       "59        TT       TT        AA   \n",
       "60        TT       TT        AG   \n",
       "61        TT       TT        GG   \n",
       "62        TT       TT        NA   \n",
       "\n",
       "                                    unique_samples_id  unique_samples_count  \n",
       "0   [WTCCCT489620, WTCCCT505862, WTCCCT467112, WTC...                    13  \n",
       "1   [WTCCCT489645, WTCCCT473287, WTCCCT470000, WTC...                    29  \n",
       "2   [WTCCCT474572, WTCCCT466155, WTCCCT508245, WTC...                    33  \n",
       "3                                      [WTCCCT473042]                     1  \n",
       "4   [WTCCCT473505, WTCCCT507950, WTCCCT507923, WTC...                   156  \n",
       "..                                                ...                   ...  \n",
       "58  [WTCCCT515370, WTCCCT467086, WTCCCT508785, WTC...                    15  \n",
       "59  [WTCCCT473530, WTCCCT473468, WTCCCT473462, WTC...                   628  \n",
       "60  [WTCCCT473435, WTCCCT473522, WTCCCT473537, WTC...                  1266  \n",
       "61  [WTCCCT473426, WTCCCT473527, WTCCCT489641, WTC...                   668  \n",
       "62  [WTCCCT473555, WTCCCT473227, WTCCCT468253, WTC...                    60  \n",
       "\n",
       "[63 rows x 5 columns]"
      ]
     },
     "execution_count": 22,
     "metadata": {},
     "output_type": "execute_result"
    }
   ],
   "source": [
    "get_geno_combination_df(test.all_samples_geno_df, rsid_list=[\"rs9610458\", \"rs134490\", \"rs5756405\"]).df"
   ]
  },
  {
   "cell_type": "code",
   "execution_count": 23,
   "id": "animated-raise",
   "metadata": {
    "execution": {
     "iopub.execute_input": "2021-09-02T14:11:49.574464Z",
     "iopub.status.busy": "2021-09-02T14:11:49.574304Z",
     "iopub.status.idle": "2021-09-02T14:11:49.604863Z",
     "shell.execute_reply": "2021-09-02T14:11:49.603885Z",
     "shell.execute_reply.started": "2021-09-02T14:11:49.574444Z"
    },
    "tags": []
   },
   "outputs": [],
   "source": [
    "geno_dict, sample_dict= CombinedGenoPheno.process_datasets(genetic_file, sample_file)\n",
    "test_file = geno_dict[\"case\"]"
   ]
  },
  {
   "cell_type": "markdown",
   "id": "common-classic",
   "metadata": {},
   "source": [
    "---"
   ]
  },
  {
   "cell_type": "markdown",
   "id": "engaging-forest",
   "metadata": {},
   "source": [
    "### Testing genetic file split by chromosome"
   ]
  },
  {
   "cell_type": "code",
   "execution_count": 24,
   "id": "protective-affect",
   "metadata": {
    "execution": {
     "iopub.execute_input": "2021-09-02T14:11:49.605842Z",
     "iopub.status.busy": "2021-09-02T14:11:49.605684Z",
     "iopub.status.idle": "2021-09-02T14:11:49.610932Z",
     "shell.execute_reply": "2021-09-02T14:11:49.610198Z",
     "shell.execute_reply.started": "2021-09-02T14:11:49.605821Z"
    },
    "tags": []
   },
   "outputs": [
    {
     "data": {
      "text/plain": [
       "<corradin_ovp_utils.datasets.OVPDataset.OVPDataset at 0x150c1cb70100>"
      ]
     },
     "execution_count": 24,
     "metadata": {},
     "output_type": "execute_result"
    }
   ],
   "source": [
    "genetic_file_split_by_chrom = test_data_catalog.load(\"genetic_file_split_by_chrom\")\n",
    "genetic_file_split_by_chrom\n"
   ]
  },
  {
   "cell_type": "code",
   "execution_count": 25,
   "id": "brief-mountain",
   "metadata": {
    "execution": {
     "iopub.execute_input": "2021-06-22T01:52:03.971175Z",
     "iopub.status.busy": "2021-06-22T01:52:03.970954Z",
     "iopub.status.idle": "2021-06-22T01:53:18.972111Z",
     "shell.execute_reply": "2021-06-22T01:53:18.971375Z",
     "shell.execute_reply.started": "2021-06-22T01:52:03.971147Z"
    }
   },
   "outputs": [
    {
     "name": "stdout",
     "output_type": "stream",
     "text": [
      "Cannot find file data/test_data/gen_file/test_CASE_MS_chr1.gen\n",
      "Cannot find file data/test_data/gen_file/test_CASE_MS_chr2.gen\n",
      "Cannot find file data/test_data/gen_file/test_CASE_MS_chr3.gen\n",
      "Cannot find file data/test_data/gen_file/test_CASE_MS_chr4.gen\n",
      "Cannot find file data/test_data/gen_file/test_CASE_MS_chr5.gen\n",
      "Cannot find file data/test_data/gen_file/test_CASE_MS_chr6.gen\n",
      "Cannot find file data/test_data/gen_file/test_CASE_MS_chr7.gen\n",
      "Cannot find file data/test_data/gen_file/test_CASE_MS_chr8.gen\n",
      "Cannot find file data/test_data/gen_file/test_CASE_MS_chr9.gen\n",
      "Cannot find file data/test_data/gen_file/test_CASE_MS_chr10.gen\n",
      "Cannot find file data/test_data/gen_file/test_CASE_MS_chr11.gen\n",
      "Cannot find file data/test_data/gen_file/test_CASE_MS_chr12.gen\n",
      "Cannot find file data/test_data/gen_file/test_CASE_MS_chr13.gen\n",
      "Cannot find file data/test_data/gen_file/test_CASE_MS_chr14.gen\n",
      "Cannot find file data/test_data/gen_file/test_CASE_MS_chr15.gen\n",
      "Cannot find file data/test_data/gen_file/test_CASE_MS_chr16.gen\n",
      "Cannot find file data/test_data/gen_file/test_CASE_MS_chr17.gen\n",
      "Cannot find file data/test_data/gen_file/test_CASE_MS_chr18.gen\n",
      "Cannot find file data/test_data/gen_file/test_CASE_MS_chr19.gen\n",
      "Cannot find file data/test_data/gen_file/test_CASE_MS_chr20.gen\n",
      "Cannot find file data/test_data/gen_file/test_CASE_MS_chr21.gen\n",
      "reading genetic file and collecting found SNPs\n"
     ]
    },
    {
     "data": {
      "application/vnd.jupyter.widget-view+json": {
       "model_id": "5084647da43f41e3972518381cf455a9",
       "version_major": 2,
       "version_minor": 0
      },
      "text/plain": [
       "0it [00:00, ?it/s]"
      ]
     },
     "metadata": {},
     "output_type": "display_data"
    },
    {
     "name": "stdout",
     "output_type": "stream",
     "text": [
      "processing last batch\n"
     ]
    },
    {
     "data": {
      "application/vnd.jupyter.widget-view+json": {
       "model_id": "1f4c61bd3c8641119d048110278ac5e4",
       "version_major": 2,
       "version_minor": 0
      },
      "text/plain": [
       "0it [00:00, ?it/s]"
      ]
     },
     "metadata": {},
     "output_type": "display_data"
    },
    {
     "name": "stdout",
     "output_type": "stream",
     "text": [
      "Cannot find file data/test_data/gen_file/test_CONTROL_MS_chr1.gen\n",
      "Cannot find file data/test_data/gen_file/test_CONTROL_MS_chr2.gen\n",
      "Cannot find file data/test_data/gen_file/test_CONTROL_MS_chr3.gen\n",
      "Cannot find file data/test_data/gen_file/test_CONTROL_MS_chr4.gen\n",
      "Cannot find file data/test_data/gen_file/test_CONTROL_MS_chr5.gen\n",
      "Cannot find file data/test_data/gen_file/test_CONTROL_MS_chr6.gen\n",
      "Cannot find file data/test_data/gen_file/test_CONTROL_MS_chr7.gen\n",
      "Cannot find file data/test_data/gen_file/test_CONTROL_MS_chr8.gen\n",
      "Cannot find file data/test_data/gen_file/test_CONTROL_MS_chr9.gen\n",
      "Cannot find file data/test_data/gen_file/test_CONTROL_MS_chr10.gen\n",
      "Cannot find file data/test_data/gen_file/test_CONTROL_MS_chr11.gen\n",
      "Cannot find file data/test_data/gen_file/test_CONTROL_MS_chr12.gen\n",
      "Cannot find file data/test_data/gen_file/test_CONTROL_MS_chr13.gen\n",
      "Cannot find file data/test_data/gen_file/test_CONTROL_MS_chr14.gen\n",
      "Cannot find file data/test_data/gen_file/test_CONTROL_MS_chr15.gen\n",
      "Cannot find file data/test_data/gen_file/test_CONTROL_MS_chr16.gen\n",
      "Cannot find file data/test_data/gen_file/test_CONTROL_MS_chr17.gen\n",
      "Cannot find file data/test_data/gen_file/test_CONTROL_MS_chr18.gen\n",
      "Cannot find file data/test_data/gen_file/test_CONTROL_MS_chr19.gen\n",
      "Cannot find file data/test_data/gen_file/test_CONTROL_MS_chr20.gen\n",
      "Cannot find file data/test_data/gen_file/test_CONTROL_MS_chr21.gen\n",
      "reading genetic file and collecting found SNPs\n"
     ]
    },
    {
     "data": {
      "application/vnd.jupyter.widget-view+json": {
       "model_id": "adc2aee0e6bb4086b3e27285ace3c8b4",
       "version_major": 2,
       "version_minor": 0
      },
      "text/plain": [
       "0it [00:00, ?it/s]"
      ]
     },
     "metadata": {},
     "output_type": "display_data"
    },
    {
     "name": "stdout",
     "output_type": "stream",
     "text": [
      "processing last batch\n"
     ]
    },
    {
     "data": {
      "application/vnd.jupyter.widget-view+json": {
       "model_id": "ef8de383c2fc405cbc6f619127faf9c7",
       "version_major": 2,
       "version_minor": 0
      },
      "text/plain": [
       "0it [00:00, ?it/s]"
      ]
     },
     "metadata": {},
     "output_type": "display_data"
    }
   ],
   "source": [
    "test_split_by_chrom = CombinedGenoPheno.init_from_OVPDataset(genetic_file_split_by_chrom, sample_file, rsid_dict = {22: [\"rs77948203\", \"rs9610458\"]})#[\"case\"]\n"
   ]
  },
  {
   "cell_type": "markdown",
   "id": "acquired-timer",
   "metadata": {},
   "source": [
    "Test case where we query from a chromosome that we have no file for"
   ]
  },
  {
   "cell_type": "code",
   "execution_count": 26,
   "id": "seventh-harmony",
   "metadata": {
    "execution": {
     "iopub.execute_input": "2021-06-22T02:02:57.128546Z",
     "iopub.status.busy": "2021-06-22T02:02:57.127974Z",
     "iopub.status.idle": "2021-06-22T02:03:00.853048Z",
     "shell.execute_reply": "2021-06-22T02:03:00.851943Z",
     "shell.execute_reply.started": "2021-06-22T02:02:57.128460Z"
    }
   },
   "outputs": [
    {
     "name": "stdout",
     "output_type": "stream",
     "text": [
      "Cannot find file data/test_data/gen_file/test_CASE_MS_chr1.gen\n",
      "Cannot find file data/test_data/gen_file/test_CASE_MS_chr2.gen\n",
      "Cannot find file data/test_data/gen_file/test_CASE_MS_chr3.gen\n",
      "Cannot find file data/test_data/gen_file/test_CASE_MS_chr4.gen\n",
      "Cannot find file data/test_data/gen_file/test_CASE_MS_chr5.gen\n",
      "Cannot find file data/test_data/gen_file/test_CASE_MS_chr6.gen\n",
      "Cannot find file data/test_data/gen_file/test_CASE_MS_chr7.gen\n",
      "Cannot find file data/test_data/gen_file/test_CASE_MS_chr8.gen\n",
      "Cannot find file data/test_data/gen_file/test_CASE_MS_chr9.gen\n",
      "Cannot find file data/test_data/gen_file/test_CASE_MS_chr10.gen\n",
      "Cannot find file data/test_data/gen_file/test_CASE_MS_chr11.gen\n",
      "Cannot find file data/test_data/gen_file/test_CASE_MS_chr12.gen\n",
      "Cannot find file data/test_data/gen_file/test_CASE_MS_chr13.gen\n",
      "Cannot find file data/test_data/gen_file/test_CASE_MS_chr14.gen\n",
      "Cannot find file data/test_data/gen_file/test_CASE_MS_chr15.gen\n",
      "Cannot find file data/test_data/gen_file/test_CASE_MS_chr16.gen\n",
      "Cannot find file data/test_data/gen_file/test_CASE_MS_chr17.gen\n",
      "Cannot find file data/test_data/gen_file/test_CASE_MS_chr18.gen\n",
      "Cannot find file data/test_data/gen_file/test_CASE_MS_chr19.gen\n",
      "Cannot find file data/test_data/gen_file/test_CASE_MS_chr20.gen\n",
      "Cannot find file data/test_data/gen_file/test_CASE_MS_chr21.gen\n"
     ]
    }
   ],
   "source": [
    "with nbdev_test.ExceptionExpected(ex=AttributeError, regex=\"'NoneType' object has no attribute 'get_geno_each_sample'\"): CombinedGenoPheno.init_from_OVPDataset(genetic_file_split_by_chrom, sample_file, rsid_dict = {21: [\"rs77948203\", \"rs9610458\"]})"
   ]
  },
  {
   "cell_type": "code",
   "execution_count": 27,
   "id": "exclusive-arctic",
   "metadata": {
    "execution": {
     "iopub.execute_input": "2021-06-22T02:04:10.178724Z",
     "iopub.status.busy": "2021-06-22T02:04:10.178176Z",
     "iopub.status.idle": "2021-06-22T02:04:10.186944Z",
     "shell.execute_reply": "2021-06-22T02:04:10.185730Z",
     "shell.execute_reply.started": "2021-06-22T02:04:10.178659Z"
    }
   },
   "outputs": [
    {
     "data": {
      "text/plain": [
       "CombinedGenoPheno(num_snps=2, num_samples={'case': 9772, 'control': 5175})"
      ]
     },
     "execution_count": 27,
     "metadata": {},
     "output_type": "execute_result"
    }
   ],
   "source": [
    "test_split_by_chrom"
   ]
  },
  {
   "cell_type": "markdown",
   "id": "quick-mandate",
   "metadata": {},
   "source": [
    "---"
   ]
  },
  {
   "cell_type": "code",
   "execution_count": 5,
   "id": "bright-appendix",
   "metadata": {
    "execution": {
     "iopub.execute_input": "2021-06-22T02:21:43.542684Z",
     "iopub.status.busy": "2021-06-22T02:21:43.542220Z",
     "iopub.status.idle": "2021-06-22T02:21:43.549291Z",
     "shell.execute_reply": "2021-06-22T02:21:43.547898Z",
     "shell.execute_reply.started": "2021-06-22T02:21:43.542623Z"
    }
   },
   "outputs": [],
   "source": [
    "genetic_file_single = test_data_catalog.load(\"genetic_file_single\")\n",
    "sample_file_single = test_data_catalog.load(\"sample_file_single\")"
   ]
  },
  {
   "cell_type": "code",
   "execution_count": 10,
   "id": "durable-integer",
   "metadata": {
    "execution": {
     "iopub.execute_input": "2021-06-22T02:22:53.019166Z",
     "iopub.status.busy": "2021-06-22T02:22:53.018683Z",
     "iopub.status.idle": "2021-06-22T02:22:53.065091Z",
     "shell.execute_reply": "2021-06-22T02:22:53.063928Z",
     "shell.execute_reply.started": "2021-06-22T02:22:53.019105Z"
    }
   },
   "outputs": [
    {
     "data": {
      "text/plain": [
       "({'single_file': GenFileFormat(file_path=SingleFilePathSchema(folder='data/test_data/gen_file', full_file_name='test_CASE_MS_chr22.gen', file_name='test_CASE_MS_chr22', extension='gen', split_by_chromosome=None, chrom_num=22))},\n",
       " {'single_file':                     ID_1  missing  sex  case\n",
       "  ID_2                                        \n",
       "  WTCCCT473540   95300_D10        0    2     1\n",
       "  WTCCCT473530   95300_D11        0    1     1\n",
       "  WTCCCT473555   95300_D12        0    1     1\n",
       "  WTCCCT473426   95300_E01        0    2     1\n",
       "  WTCCCT473489   95300_E02        0    1     1\n",
       "  ...                  ...      ...  ...   ...\n",
       "  WTCCCT473455  116733_C03        0    1     1\n",
       "  WTCCCT473479  116733_D03        0    2     1\n",
       "  WTCCCT473432  116733_E03        0    2     1\n",
       "  WTCCCT473465  116733_F02        0    1     1\n",
       "  WTCCCT473421  116733_F03        0    1     1\n",
       "  \n",
       "  [9772 rows x 4 columns]})"
      ]
     },
     "execution_count": 10,
     "metadata": {},
     "output_type": "execute_result"
    }
   ],
   "source": [
    "CombinedGenoPheno.process_datasets(genetic_file_single, sample_file_single)"
   ]
  },
  {
   "cell_type": "code",
   "execution_count": 12,
   "id": "intimate-tokyo",
   "metadata": {
    "execution": {
     "iopub.execute_input": "2021-06-22T02:23:54.451738Z",
     "iopub.status.busy": "2021-06-22T02:23:54.451262Z",
     "iopub.status.idle": "2021-06-22T02:24:35.904671Z",
     "shell.execute_reply": "2021-06-22T02:24:35.904147Z",
     "shell.execute_reply.started": "2021-06-22T02:23:54.451676Z"
    }
   },
   "outputs": [
    {
     "name": "stdout",
     "output_type": "stream",
     "text": [
      "reading genetic file and collecting found SNPs\n"
     ]
    },
    {
     "data": {
      "application/vnd.jupyter.widget-view+json": {
       "model_id": "5aa465353f1c45f2b0ae2aef4961227e",
       "version_major": 2,
       "version_minor": 0
      },
      "text/plain": [
       "0it [00:00, ?it/s]"
      ]
     },
     "metadata": {},
     "output_type": "display_data"
    },
    {
     "name": "stdout",
     "output_type": "stream",
     "text": [
      "processing last batch\n"
     ]
    },
    {
     "data": {
      "application/vnd.jupyter.widget-view+json": {
       "model_id": "02b44674f4e0435dbc0fcf35a964860d",
       "version_major": 2,
       "version_minor": 0
      },
      "text/plain": [
       "0it [00:00, ?it/s]"
      ]
     },
     "metadata": {},
     "output_type": "display_data"
    },
    {
     "data": {
      "text/plain": [
       "CombinedGenoPheno(num_snps=4, num_samples={'single_file': 9772})"
      ]
     },
     "execution_count": 12,
     "metadata": {},
     "output_type": "execute_result"
    }
   ],
   "source": [
    "test_single_file = CombinedGenoPheno.init_from_OVPDataset(genetic_file_single, sample_file_single, rsid_dict = {22: [\"rs77948203\", \"rs9610458\", \"rs134490\", \"rs5756405\"]}, )\n",
    "test_single_file"
   ]
  },
  {
   "cell_type": "code",
   "execution_count": 14,
   "id": "close-capital",
   "metadata": {
    "execution": {
     "iopub.execute_input": "2021-06-22T02:25:15.589548Z",
     "iopub.status.busy": "2021-06-22T02:25:15.589020Z",
     "iopub.status.idle": "2021-06-22T02:25:15.617010Z",
     "shell.execute_reply": "2021-06-22T02:25:15.616251Z",
     "shell.execute_reply.started": "2021-06-22T02:25:15.589466Z"
    }
   },
   "outputs": [
    {
     "data": {
      "text/html": [
       "<div>\n",
       "<style scoped>\n",
       "    .dataframe tbody tr th:only-of-type {\n",
       "        vertical-align: middle;\n",
       "    }\n",
       "\n",
       "    .dataframe tbody tr th {\n",
       "        vertical-align: top;\n",
       "    }\n",
       "\n",
       "    .dataframe thead th {\n",
       "        text-align: right;\n",
       "    }\n",
       "</style>\n",
       "<table border=\"1\" class=\"dataframe\">\n",
       "  <thead>\n",
       "    <tr style=\"text-align: right;\">\n",
       "      <th>id_col</th>\n",
       "      <th>rs77948203</th>\n",
       "      <th>rs9610458</th>\n",
       "      <th>rs134490</th>\n",
       "      <th>rs5756405</th>\n",
       "    </tr>\n",
       "    <tr>\n",
       "      <th>sample_id</th>\n",
       "      <th></th>\n",
       "      <th></th>\n",
       "      <th></th>\n",
       "      <th></th>\n",
       "    </tr>\n",
       "  </thead>\n",
       "  <tbody>\n",
       "    <tr>\n",
       "      <th>WTCCCT473540</th>\n",
       "      <td>GG</td>\n",
       "      <td>TT</td>\n",
       "      <td>NA</td>\n",
       "      <td>AG</td>\n",
       "    </tr>\n",
       "    <tr>\n",
       "      <th>WTCCCT473530</th>\n",
       "      <td>GG</td>\n",
       "      <td>TT</td>\n",
       "      <td>TT</td>\n",
       "      <td>AA</td>\n",
       "    </tr>\n",
       "    <tr>\n",
       "      <th>WTCCCT473555</th>\n",
       "      <td>GG</td>\n",
       "      <td>TT</td>\n",
       "      <td>TT</td>\n",
       "      <td>NA</td>\n",
       "    </tr>\n",
       "    <tr>\n",
       "      <th>WTCCCT473426</th>\n",
       "      <td>GG</td>\n",
       "      <td>TT</td>\n",
       "      <td>TT</td>\n",
       "      <td>GG</td>\n",
       "    </tr>\n",
       "    <tr>\n",
       "      <th>WTCCCT473489</th>\n",
       "      <td>GG</td>\n",
       "      <td>CT</td>\n",
       "      <td>NA</td>\n",
       "      <td>AA</td>\n",
       "    </tr>\n",
       "    <tr>\n",
       "      <th>...</th>\n",
       "      <td>...</td>\n",
       "      <td>...</td>\n",
       "      <td>...</td>\n",
       "      <td>...</td>\n",
       "    </tr>\n",
       "    <tr>\n",
       "      <th>WTCCCT473455</th>\n",
       "      <td>GG</td>\n",
       "      <td>TT</td>\n",
       "      <td>TT</td>\n",
       "      <td>AG</td>\n",
       "    </tr>\n",
       "    <tr>\n",
       "      <th>WTCCCT473479</th>\n",
       "      <td>GG</td>\n",
       "      <td>CT</td>\n",
       "      <td>CT</td>\n",
       "      <td>GG</td>\n",
       "    </tr>\n",
       "    <tr>\n",
       "      <th>WTCCCT473432</th>\n",
       "      <td>GG</td>\n",
       "      <td>CT</td>\n",
       "      <td>CT</td>\n",
       "      <td>AG</td>\n",
       "    </tr>\n",
       "    <tr>\n",
       "      <th>WTCCCT473465</th>\n",
       "      <td>GG</td>\n",
       "      <td>CT</td>\n",
       "      <td>NA</td>\n",
       "      <td>AA</td>\n",
       "    </tr>\n",
       "    <tr>\n",
       "      <th>WTCCCT473421</th>\n",
       "      <td>GG</td>\n",
       "      <td>TT</td>\n",
       "      <td>TT</td>\n",
       "      <td>AG</td>\n",
       "    </tr>\n",
       "  </tbody>\n",
       "</table>\n",
       "<p>9772 rows × 4 columns</p>\n",
       "</div>"
      ],
      "text/plain": [
       "id_col       rs77948203 rs9610458 rs134490 rs5756405\n",
       "sample_id                                           \n",
       "WTCCCT473540         GG        TT       NA        AG\n",
       "WTCCCT473530         GG        TT       TT        AA\n",
       "WTCCCT473555         GG        TT       TT        NA\n",
       "WTCCCT473426         GG        TT       TT        GG\n",
       "WTCCCT473489         GG        CT       NA        AA\n",
       "...                 ...       ...      ...       ...\n",
       "WTCCCT473455         GG        TT       TT        AG\n",
       "WTCCCT473479         GG        CT       CT        GG\n",
       "WTCCCT473432         GG        CT       CT        AG\n",
       "WTCCCT473465         GG        CT       NA        AA\n",
       "WTCCCT473421         GG        TT       TT        AG\n",
       "\n",
       "[9772 rows x 4 columns]"
      ]
     },
     "execution_count": 14,
     "metadata": {},
     "output_type": "execute_result"
    }
   ],
   "source": [
    "test_single_file.all_samples_geno_df"
   ]
  },
  {
   "cell_type": "code",
   "execution_count": 16,
   "id": "amateur-printer",
   "metadata": {
    "execution": {
     "iopub.execute_input": "2021-06-22T02:26:42.571400Z",
     "iopub.status.busy": "2021-06-22T02:26:42.570902Z",
     "iopub.status.idle": "2021-06-22T02:26:42.606733Z",
     "shell.execute_reply": "2021-06-22T02:26:42.605539Z",
     "shell.execute_reply.started": "2021-06-22T02:26:42.571335Z"
    }
   },
   "outputs": [
    {
     "data": {
      "text/html": [
       "<div>\n",
       "<style scoped>\n",
       "    .dataframe tbody tr th:only-of-type {\n",
       "        vertical-align: middle;\n",
       "    }\n",
       "\n",
       "    .dataframe tbody tr th {\n",
       "        vertical-align: top;\n",
       "    }\n",
       "\n",
       "    .dataframe thead th {\n",
       "        text-align: right;\n",
       "    }\n",
       "</style>\n",
       "<table border=\"1\" class=\"dataframe\">\n",
       "  <thead>\n",
       "    <tr style=\"text-align: right;\">\n",
       "      <th>id_col</th>\n",
       "      <th>rs77948203</th>\n",
       "      <th>rs9610458</th>\n",
       "      <th>rs134490</th>\n",
       "      <th>rs5756405</th>\n",
       "    </tr>\n",
       "    <tr>\n",
       "      <th>ID_2</th>\n",
       "      <th></th>\n",
       "      <th></th>\n",
       "      <th></th>\n",
       "      <th></th>\n",
       "    </tr>\n",
       "  </thead>\n",
       "  <tbody>\n",
       "    <tr>\n",
       "      <th>WTCCCT473540</th>\n",
       "      <td>GG</td>\n",
       "      <td>TT</td>\n",
       "      <td>NA</td>\n",
       "      <td>AG</td>\n",
       "    </tr>\n",
       "    <tr>\n",
       "      <th>WTCCCT473530</th>\n",
       "      <td>GG</td>\n",
       "      <td>TT</td>\n",
       "      <td>TT</td>\n",
       "      <td>AA</td>\n",
       "    </tr>\n",
       "    <tr>\n",
       "      <th>WTCCCT473555</th>\n",
       "      <td>GG</td>\n",
       "      <td>TT</td>\n",
       "      <td>TT</td>\n",
       "      <td>NA</td>\n",
       "    </tr>\n",
       "    <tr>\n",
       "      <th>WTCCCT473426</th>\n",
       "      <td>GG</td>\n",
       "      <td>TT</td>\n",
       "      <td>TT</td>\n",
       "      <td>GG</td>\n",
       "    </tr>\n",
       "    <tr>\n",
       "      <th>WTCCCT473489</th>\n",
       "      <td>GG</td>\n",
       "      <td>CT</td>\n",
       "      <td>NA</td>\n",
       "      <td>AA</td>\n",
       "    </tr>\n",
       "    <tr>\n",
       "      <th>...</th>\n",
       "      <td>...</td>\n",
       "      <td>...</td>\n",
       "      <td>...</td>\n",
       "      <td>...</td>\n",
       "    </tr>\n",
       "    <tr>\n",
       "      <th>WTCCCT473455</th>\n",
       "      <td>GG</td>\n",
       "      <td>TT</td>\n",
       "      <td>TT</td>\n",
       "      <td>AG</td>\n",
       "    </tr>\n",
       "    <tr>\n",
       "      <th>WTCCCT473479</th>\n",
       "      <td>GG</td>\n",
       "      <td>CT</td>\n",
       "      <td>CT</td>\n",
       "      <td>GG</td>\n",
       "    </tr>\n",
       "    <tr>\n",
       "      <th>WTCCCT473432</th>\n",
       "      <td>GG</td>\n",
       "      <td>CT</td>\n",
       "      <td>CT</td>\n",
       "      <td>AG</td>\n",
       "    </tr>\n",
       "    <tr>\n",
       "      <th>WTCCCT473465</th>\n",
       "      <td>GG</td>\n",
       "      <td>CT</td>\n",
       "      <td>NA</td>\n",
       "      <td>AA</td>\n",
       "    </tr>\n",
       "    <tr>\n",
       "      <th>WTCCCT473421</th>\n",
       "      <td>GG</td>\n",
       "      <td>TT</td>\n",
       "      <td>TT</td>\n",
       "      <td>AG</td>\n",
       "    </tr>\n",
       "  </tbody>\n",
       "</table>\n",
       "<p>9772 rows × 4 columns</p>\n",
       "</div>"
      ],
      "text/plain": [
       "id_col       rs77948203 rs9610458 rs134490 rs5756405\n",
       "ID_2                                                \n",
       "WTCCCT473540         GG        TT       NA        AG\n",
       "WTCCCT473530         GG        TT       TT        AA\n",
       "WTCCCT473555         GG        TT       TT        NA\n",
       "WTCCCT473426         GG        TT       TT        GG\n",
       "WTCCCT473489         GG        CT       NA        AA\n",
       "...                 ...       ...      ...       ...\n",
       "WTCCCT473455         GG        TT       TT        AG\n",
       "WTCCCT473479         GG        CT       CT        GG\n",
       "WTCCCT473432         GG        CT       CT        AG\n",
       "WTCCCT473465         GG        CT       NA        AA\n",
       "WTCCCT473421         GG        TT       TT        AG\n",
       "\n",
       "[9772 rows x 4 columns]"
      ]
     },
     "execution_count": 16,
     "metadata": {},
     "output_type": "execute_result"
    }
   ],
   "source": [
    "test_single_file.get_geno_each_sample_subset(\"single_file\")"
   ]
  },
  {
   "cell_type": "markdown",
   "id": "virgin-naples",
   "metadata": {},
   "source": [
    "### Testing a mix of rsids and position"
   ]
  },
  {
   "cell_type": "code",
   "execution_count": 18,
   "id": "colonial-mention",
   "metadata": {
    "execution": {
     "iopub.execute_input": "2021-06-22T06:16:44.363618Z",
     "iopub.status.busy": "2021-06-22T06:16:44.363046Z",
     "iopub.status.idle": "2021-06-22T06:17:48.519665Z",
     "shell.execute_reply": "2021-06-22T06:17:48.518969Z",
     "shell.execute_reply.started": "2021-06-22T06:16:44.363550Z"
    }
   },
   "outputs": [
    {
     "name": "stdout",
     "output_type": "stream",
     "text": [
      "reading genetic file and collecting found SNPs\n"
     ]
    },
    {
     "data": {
      "application/vnd.jupyter.widget-view+json": {
       "model_id": "0d260de7fe1541c6a9d528899d9764e6",
       "version_major": 2,
       "version_minor": 0
      },
      "text/plain": [
       "0it [00:00, ?it/s]"
      ]
     },
     "metadata": {},
     "output_type": "display_data"
    },
    {
     "name": "stdout",
     "output_type": "stream",
     "text": [
      "processing last batch\n"
     ]
    },
    {
     "data": {
      "application/vnd.jupyter.widget-view+json": {
       "model_id": "fe89a0de34614b6697981f232db93646",
       "version_major": 2,
       "version_minor": 0
      },
      "text/plain": [
       "0it [00:00, ?it/s]"
      ]
     },
     "metadata": {},
     "output_type": "display_data"
    },
    {
     "name": "stdout",
     "output_type": "stream",
     "text": [
      "reading genetic file and collecting found SNPs\n"
     ]
    },
    {
     "data": {
      "application/vnd.jupyter.widget-view+json": {
       "model_id": "8b3f00b152f745caa4cb29b4ee9c598c",
       "version_major": 2,
       "version_minor": 0
      },
      "text/plain": [
       "0it [00:00, ?it/s]"
      ]
     },
     "metadata": {},
     "output_type": "display_data"
    },
    {
     "name": "stdout",
     "output_type": "stream",
     "text": [
      "processing last batch\n"
     ]
    },
    {
     "data": {
      "application/vnd.jupyter.widget-view+json": {
       "model_id": "5ebb523949a147f995df8b4eb43fc324",
       "version_major": 2,
       "version_minor": 0
      },
      "text/plain": [
       "0it [00:00, ?it/s]"
      ]
     },
     "metadata": {},
     "output_type": "display_data"
    },
    {
     "data": {
      "text/plain": [
       "CombinedGenoPheno(num_snps=2, num_samples={'case': 9772, 'control': 5175})"
      ]
     },
     "execution_count": 18,
     "metadata": {},
     "output_type": "execute_result"
    }
   ],
   "source": [
    "test_position_and_rsid = CombinedGenoPheno.init_from_OVPDataset(genetic_file, sample_file,\n",
    "                                                                rsid_dict = {22: [\"rs77948203\", \"21461017\"]},\n",
    "                                                                id_col_list = [\"rsid\", \"position\"] )#[\"case\"]\n",
    "test_position_and_rsid"
   ]
  },
  {
   "cell_type": "code",
   "execution_count": 20,
   "id": "dense-bulgaria",
   "metadata": {
    "execution": {
     "iopub.execute_input": "2021-06-22T06:20:18.779652Z",
     "iopub.status.busy": "2021-06-22T06:20:18.779141Z",
     "iopub.status.idle": "2021-06-22T06:20:18.802505Z",
     "shell.execute_reply": "2021-06-22T06:20:18.801513Z",
     "shell.execute_reply.started": "2021-06-22T06:20:18.779582Z"
    }
   },
   "outputs": [
    {
     "data": {
      "text/html": [
       "<div>\n",
       "<style scoped>\n",
       "    .dataframe tbody tr th:only-of-type {\n",
       "        vertical-align: middle;\n",
       "    }\n",
       "\n",
       "    .dataframe tbody tr th {\n",
       "        vertical-align: top;\n",
       "    }\n",
       "\n",
       "    .dataframe thead th {\n",
       "        text-align: right;\n",
       "    }\n",
       "</style>\n",
       "<table border=\"1\" class=\"dataframe\">\n",
       "  <thead>\n",
       "    <tr style=\"text-align: right;\">\n",
       "      <th>id_col</th>\n",
       "      <th>rs77948203</th>\n",
       "      <th>21461017</th>\n",
       "    </tr>\n",
       "    <tr>\n",
       "      <th>sample_id</th>\n",
       "      <th></th>\n",
       "      <th></th>\n",
       "    </tr>\n",
       "  </thead>\n",
       "  <tbody>\n",
       "    <tr>\n",
       "      <th>WTCCCT473540</th>\n",
       "      <td>GG</td>\n",
       "      <td>TT</td>\n",
       "    </tr>\n",
       "    <tr>\n",
       "      <th>WTCCCT473530</th>\n",
       "      <td>GG</td>\n",
       "      <td>TT</td>\n",
       "    </tr>\n",
       "    <tr>\n",
       "      <th>WTCCCT473555</th>\n",
       "      <td>GG</td>\n",
       "      <td>TT</td>\n",
       "    </tr>\n",
       "    <tr>\n",
       "      <th>WTCCCT473426</th>\n",
       "      <td>GG</td>\n",
       "      <td>TT</td>\n",
       "    </tr>\n",
       "    <tr>\n",
       "      <th>WTCCCT473489</th>\n",
       "      <td>GG</td>\n",
       "      <td>TT</td>\n",
       "    </tr>\n",
       "    <tr>\n",
       "      <th>...</th>\n",
       "      <td>...</td>\n",
       "      <td>...</td>\n",
       "    </tr>\n",
       "    <tr>\n",
       "      <th>WS574632</th>\n",
       "      <td>GG</td>\n",
       "      <td>TT</td>\n",
       "    </tr>\n",
       "    <tr>\n",
       "      <th>WS574661</th>\n",
       "      <td>GG</td>\n",
       "      <td>TT</td>\n",
       "    </tr>\n",
       "    <tr>\n",
       "      <th>BLOOD294452</th>\n",
       "      <td>GG</td>\n",
       "      <td>TT</td>\n",
       "    </tr>\n",
       "    <tr>\n",
       "      <th>WTCCCT511021</th>\n",
       "      <td>GG</td>\n",
       "      <td>TT</td>\n",
       "    </tr>\n",
       "    <tr>\n",
       "      <th>WTCCCT510948</th>\n",
       "      <td>GG</td>\n",
       "      <td>TT</td>\n",
       "    </tr>\n",
       "  </tbody>\n",
       "</table>\n",
       "<p>14947 rows × 2 columns</p>\n",
       "</div>"
      ],
      "text/plain": [
       "id_col       rs77948203 21461017\n",
       "sample_id                       \n",
       "WTCCCT473540         GG       TT\n",
       "WTCCCT473530         GG       TT\n",
       "WTCCCT473555         GG       TT\n",
       "WTCCCT473426         GG       TT\n",
       "WTCCCT473489         GG       TT\n",
       "...                 ...      ...\n",
       "WS574632             GG       TT\n",
       "WS574661             GG       TT\n",
       "BLOOD294452          GG       TT\n",
       "WTCCCT511021         GG       TT\n",
       "WTCCCT510948         GG       TT\n",
       "\n",
       "[14947 rows x 2 columns]"
      ]
     },
     "execution_count": 20,
     "metadata": {},
     "output_type": "execute_result"
    }
   ],
   "source": [
    "test_position_and_rsid.all_samples_geno_df"
   ]
  },
  {
   "cell_type": "code",
   "execution_count": 26,
   "id": "enhanced-tuner",
   "metadata": {
    "execution": {
     "iopub.execute_input": "2021-06-22T06:22:00.850780Z",
     "iopub.status.busy": "2021-06-22T06:22:00.850293Z",
     "iopub.status.idle": "2021-06-22T06:22:00.857311Z",
     "shell.execute_reply": "2021-06-22T06:22:00.855875Z",
     "shell.execute_reply.started": "2021-06-22T06:22:00.850719Z"
    }
   },
   "outputs": [],
   "source": [
    "nbdev.test_eq(test_position_and_rsid.all_samples_geno_df.shape[1],2)"
   ]
  },
  {
   "cell_type": "markdown",
   "id": "4fb3e3b8-5fa7-4dce-9f9a-d2031504c5e2",
   "metadata": {},
   "source": [
    "---"
   ]
  },
  {
   "cell_type": "markdown",
   "id": "c3983c73-41f5-4c7e-b2bf-d7022872cd51",
   "metadata": {
    "tags": []
   },
   "source": [
    "### Testing with BGEN"
   ]
  },
  {
   "cell_type": "code",
   "execution_count": 16,
   "id": "31a8e8b9-3548-48fb-8f86-4cec52ce3dec",
   "metadata": {
    "execution": {
     "iopub.execute_input": "2021-11-02T13:19:16.861768Z",
     "iopub.status.busy": "2021-11-02T13:19:16.861284Z",
     "iopub.status.idle": "2021-11-02T13:19:16.952944Z",
     "shell.execute_reply": "2021-11-02T13:19:16.951726Z",
     "shell.execute_reply.started": "2021-11-02T13:19:16.861705Z"
    },
    "tags": []
   },
   "outputs": [
    {
     "data": {
      "text/plain": [
       "['MS_genetic_file_split_by_chrom',\n",
       " 'MS_sample_file',\n",
       " 'UKB_genetic_file_bgen_split_by_chrom',\n",
       " 'UKB_sample_file_basic_March_27_2021',\n",
       " 'test_UKB_sample_file_with_pheno_col',\n",
       " 'test_MS_genetic_file_split_by_chrom',\n",
       " 'genetic_file_bgen',\n",
       " 'test_MS_sample_file']"
      ]
     },
     "execution_count": 16,
     "metadata": {},
     "output_type": "execute_result"
    }
   ],
   "source": [
    "bgen_catalog = get_catalog(env=\"cluster\", patterns = ['catalog*', 'catalog*/*/','catalog*/*/*'])\n",
    "bgen_catalog = bgen_catalog.reload()\n",
    "bgen_catalog.list()"
   ]
  },
  {
   "cell_type": "code",
   "execution_count": 17,
   "id": "d52c1b3e-9be6-44d8-b2fe-8d24eee814a9",
   "metadata": {
    "execution": {
     "iopub.execute_input": "2021-11-02T13:21:04.474889Z",
     "iopub.status.busy": "2021-11-02T13:21:04.474352Z",
     "iopub.status.idle": "2021-11-02T13:21:04.481109Z",
     "shell.execute_reply": "2021-11-02T13:21:04.480037Z",
     "shell.execute_reply.started": "2021-11-02T13:21:04.474828Z"
    },
    "tags": []
   },
   "outputs": [],
   "source": [
    "genetic_file_bgen = bgen_catalog.load(\"genetic_file_bgen\")\n",
    "sample_file_bgen = bgen_catalog.load(\"test_UKB_sample_file_with_pheno_col\")"
   ]
  },
  {
   "cell_type": "code",
   "execution_count": 18,
   "id": "0c63f409-e3f5-4a77-b449-dade8ea86a32",
   "metadata": {
    "execution": {
     "iopub.execute_input": "2021-11-02T13:21:04.928223Z",
     "iopub.status.busy": "2021-11-02T13:21:04.927721Z",
     "iopub.status.idle": "2021-11-02T13:21:04.936958Z",
     "shell.execute_reply": "2021-11-02T13:21:04.935428Z",
     "shell.execute_reply.started": "2021-11-02T13:21:04.928162Z"
    },
    "tags": []
   },
   "outputs": [
    {
     "data": {
      "text/plain": [
       "namespace(single_file=BgenFileFormat(file_path=SingleFilePathSchema(folder='/lab/corradin_biobank/Raw_UKB_downloads/BGEN/', full_file_name='ukb_imp_chr{chrom_num}_v3.bgen', file_name='ukb_imp_chr{chrom_num}_v3', extension='bgen', split_by_chromosome=True, chrom_num=None)))"
      ]
     },
     "execution_count": 18,
     "metadata": {},
     "output_type": "execute_result"
    }
   ],
   "source": [
    "genetic_file_bgen.files"
   ]
  },
  {
   "cell_type": "code",
   "execution_count": 19,
   "id": "ce66b41c-f500-49c6-9c25-913c8732e25b",
   "metadata": {
    "execution": {
     "iopub.execute_input": "2021-11-02T13:21:05.492777Z",
     "iopub.status.busy": "2021-11-02T13:21:05.492336Z",
     "iopub.status.idle": "2021-11-02T13:21:05.500528Z",
     "shell.execute_reply": "2021-11-02T13:21:05.499314Z",
     "shell.execute_reply.started": "2021-11-02T13:21:05.492718Z"
    },
    "tags": []
   },
   "outputs": [
    {
     "data": {
      "text/plain": [
       "namespace(single_file=SampleFileFormat(file_path=SingleFilePathSchema(folder='/lab/corradin_biobank/Raw_UKB_downloads/sample_files/', full_file_name='ukb45624_imp_chr21_v3_s487275.sample', file_name='ukb45624_imp_chr21_v3_s487275', extension='sample', split_by_chromosome=None, chrom_num=None), pandas_args={'sep': ' ', 'skiprows': [1]}, sample_id_col='ID_2', cov_cols=['sex'], pheno_col_file_info='data/test_data/pheno_col/UKB_risk_taking_2040_pheno_col.tsv|f.eid', ignore_neg_id_samples=True, missing_col=None))"
      ]
     },
     "execution_count": 19,
     "metadata": {},
     "output_type": "execute_result"
    }
   ],
   "source": [
    "sample_file_bgen.files"
   ]
  },
  {
   "cell_type": "code",
   "execution_count": 20,
   "id": "bb18f976-bfe5-42c6-b3cf-a62b1bb6245a",
   "metadata": {
    "execution": {
     "iopub.execute_input": "2021-11-02T13:21:05.998787Z",
     "iopub.status.busy": "2021-11-02T13:21:05.998357Z",
     "iopub.status.idle": "2021-11-02T13:21:06.006597Z",
     "shell.execute_reply": "2021-11-02T13:21:06.005492Z",
     "shell.execute_reply.started": "2021-11-02T13:21:05.998729Z"
    },
    "tags": []
   },
   "outputs": [
    {
     "data": {
      "text/plain": [
       "BgenFileFormat(file_path=SingleFilePathSchema(folder='/lab/corradin_biobank/Raw_UKB_downloads/BGEN/', full_file_name='ukb_imp_chr{chrom_num}_v3.bgen', file_name='ukb_imp_chr{chrom_num}_v3', extension='bgen', split_by_chromosome=True, chrom_num=None))"
      ]
     },
     "execution_count": 20,
     "metadata": {},
     "output_type": "execute_result"
    }
   ],
   "source": [
    "genetic_file_bgen.files.single_file"
   ]
  },
  {
   "cell_type": "code",
   "execution_count": 21,
   "id": "8e6a058f-cff4-41af-819b-67036ac83449",
   "metadata": {
    "execution": {
     "iopub.execute_input": "2021-11-02T13:21:06.793275Z",
     "iopub.status.busy": "2021-11-02T13:21:06.792829Z",
     "iopub.status.idle": "2021-11-02T13:21:06.801393Z",
     "shell.execute_reply": "2021-11-02T13:21:06.800071Z",
     "shell.execute_reply.started": "2021-11-02T13:21:06.793216Z"
    },
    "tags": []
   },
   "outputs": [
    {
     "data": {
      "text/plain": [
       "SampleFileFormat(file_path=SingleFilePathSchema(folder='/lab/corradin_biobank/Raw_UKB_downloads/sample_files/', full_file_name='ukb45624_imp_chr21_v3_s487275.sample', file_name='ukb45624_imp_chr21_v3_s487275', extension='sample', split_by_chromosome=None, chrom_num=None), pandas_args={'sep': ' ', 'skiprows': [1]}, sample_id_col='ID_2', cov_cols=['sex'], pheno_col_file_info='data/test_data/pheno_col/UKB_risk_taking_2040_pheno_col.tsv|f.eid', ignore_neg_id_samples=True, missing_col=None)"
      ]
     },
     "execution_count": 21,
     "metadata": {},
     "output_type": "execute_result"
    }
   ],
   "source": [
    "sample_file_bgen.files.single_file"
   ]
  },
  {
   "cell_type": "code",
   "execution_count": 22,
   "id": "2a28664d-16c4-4c36-b532-7c346f71de0a",
   "metadata": {
    "execution": {
     "iopub.execute_input": "2021-11-02T13:21:08.323407Z",
     "iopub.status.busy": "2021-11-02T13:21:08.322956Z",
     "iopub.status.idle": "2021-11-02T13:22:36.679963Z",
     "shell.execute_reply": "2021-11-02T13:22:36.678574Z",
     "shell.execute_reply.started": "2021-11-02T13:21:08.323348Z"
    },
    "tags": []
   },
   "outputs": [
    {
     "name": "stderr",
     "output_type": "stream",
     "text": [
      "WARNING:root:Initialize dictionary of genetic files for 1 chromosomes, this might take a while\n"
     ]
    },
    {
     "name": "stdout",
     "output_type": "stream",
     "text": [
      "Loading chromosome 22\n"
     ]
    },
    {
     "name": "stderr",
     "output_type": "stream",
     "text": [
      "WARNING:root:Loading 4 SNPs for chromosome 22, 487409 people\n",
      "WARNING:root:\n",
      "Found variants: 4/4\n",
      " Not found: 0/4.\n",
      " Percent found 100%\n"
     ]
    },
    {
     "name": "stdout",
     "output_type": "stream",
     "text": [
      "reading -- time=0:00:00.00, thread 1 of 4, part 1 of 1\n"
     ]
    }
   ],
   "source": [
    "test_combine_geno_pheno_bgen = CombinedGenoPheno.init_from_OVPDataset(genetic_file_bgen, sample_file_bgen, rsid_dict = {22: [\"rs77948203\", \"rs9610458\", \"rs134490\", \"rs5756405\"]})\n"
   ]
  },
  {
   "cell_type": "code",
   "execution_count": 24,
   "id": "6e91d67d-e519-4b73-9bce-78e15e34ca73",
   "metadata": {
    "execution": {
     "iopub.execute_input": "2021-11-02T13:23:49.214960Z",
     "iopub.status.busy": "2021-11-02T13:23:49.214497Z",
     "iopub.status.idle": "2021-11-02T13:23:49.234962Z",
     "shell.execute_reply": "2021-11-02T13:23:49.234084Z",
     "shell.execute_reply.started": "2021-11-02T13:23:49.214895Z"
    },
    "tags": []
   },
   "outputs": [
    {
     "data": {
      "text/plain": [
       "{'single_file':                ID_1  missing  sex  case  missing_col_generated\n",
       " -134         -134.0      0.0  0.0   NaN                      1\n",
       " -133         -133.0      0.0  0.0   NaN                      1\n",
       " -132         -132.0      0.0  0.0   NaN                      1\n",
       " -131         -131.0      0.0  0.0   NaN                      1\n",
       " -130         -130.0      0.0  0.0   NaN                      1\n",
       " ...             ...      ...  ...   ...                    ...\n",
       "  5873167  5873167.0      0.0  2.0   1.0                      0\n",
       "  5873175  5873175.0      0.0  1.0   1.0                      0\n",
       "  5873180  5873180.0      0.0  2.0   1.0                      0\n",
       "  5873199  5873199.0      0.0  2.0   0.0                      0\n",
       "  5873208  5873208.0      0.0  1.0   NaN                      1\n",
       " \n",
       " [487440 rows x 5 columns]}"
      ]
     },
     "execution_count": 24,
     "metadata": {},
     "output_type": "execute_result"
    }
   ],
   "source": [
    "test_combine_geno_pheno_bgen.sample_dict"
   ]
  },
  {
   "cell_type": "code",
   "execution_count": null,
   "id": "9b4f77fb-f84f-4bb3-8982-83611a655bf1",
   "metadata": {},
   "outputs": [],
   "source": []
  }
 ],
 "metadata": {
  "kernelspec": {
   "display_name": "Python 3",
   "language": "python",
   "name": "python3"
  },
  "language_info": {
   "codemirror_mode": {
    "name": "ipython",
    "version": 3
   },
   "file_extension": ".py",
   "mimetype": "text/x-python",
   "name": "python",
   "nbconvert_exporter": "python",
   "pygments_lexer": "ipython3",
   "version": "3.8.7"
  }
 },
 "nbformat": 4,
 "nbformat_minor": 5
}
