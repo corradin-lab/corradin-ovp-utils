{
 "cells": [
  {
   "cell_type": "code",
   "execution_count": 1,
   "id": "continuous-screw",
   "metadata": {
    "execution": {
     "iopub.execute_input": "2021-04-05T13:23:21.270580Z",
     "iopub.status.busy": "2021-04-05T13:23:21.269960Z",
     "iopub.status.idle": "2021-04-05T13:23:21.277014Z",
     "shell.execute_reply": "2021-04-05T13:23:21.275809Z",
     "shell.execute_reply.started": "2021-04-05T13:23:21.270420Z"
    }
   },
   "outputs": [],
   "source": [
    "# default_exp datasets.utils"
   ]
  },
  {
   "cell_type": "markdown",
   "id": "false-malaysia",
   "metadata": {},
   "source": [
    "# Utilities\n",
    "\n",
    "> API details."
   ]
  },
  {
   "cell_type": "code",
   "execution_count": 2,
   "id": "drawn-inspiration",
   "metadata": {
    "execution": {
     "iopub.execute_input": "2021-04-05T13:23:21.906916Z",
     "iopub.status.busy": "2021-04-05T13:23:21.906417Z",
     "iopub.status.idle": "2021-04-05T13:23:23.725800Z",
     "shell.execute_reply": "2021-04-05T13:23:23.725078Z",
     "shell.execute_reply.started": "2021-04-05T13:23:21.906859Z"
    }
   },
   "outputs": [],
   "source": [
    "#hide\n",
    "from nbdev.showdoc import *\n",
    "import pandas as pd\n",
    "import numpy as np\n",
    "from corradin_ovp_utils.catalog import test_data_catalog, conf_test_data_catalog\n",
    "%load_ext autoreload\n",
    "%autoreload 1"
   ]
  },
  {
   "cell_type": "code",
   "execution_count": 3,
   "id": "american-mother",
   "metadata": {
    "execution": {
     "iopub.execute_input": "2021-04-05T13:23:23.727135Z",
     "iopub.status.busy": "2021-04-05T13:23:23.726952Z",
     "iopub.status.idle": "2021-04-05T13:23:23.747451Z",
     "shell.execute_reply": "2021-04-05T13:23:23.746662Z",
     "shell.execute_reply.started": "2021-04-05T13:23:23.727108Z"
    }
   },
   "outputs": [],
   "source": [
    "#export\n",
    "from typing import Any, Dict, List, Optional, Literal, Union\n",
    "from pydantic import BaseModel\n",
    "import corradin_ovp_utils\n",
    "from fastcore.basics import typed\n",
    "from fastcore.dispatch import typedispatch"
   ]
  },
  {
   "cell_type": "code",
   "execution_count": null,
   "id": "breeding-anthony",
   "metadata": {},
   "outputs": [],
   "source": [
    "#export\n",
    "\n",
    "class MissingAttributeError(Exception):\n",
    "    pass\n",
    "\n",
    "def requires(*required_attrs):        \n",
    "    def wrapper(method):\n",
    "\n",
    "        @functools.wraps(method)\n",
    "        def inner_wrapper(self, *args, **kargs):\n",
    "            if not all(hasattr(self, attr) for attr in required_attrs):\n",
    "                raise MissingAttributeError()\n",
    "            return method(self, *args, **kargs)\n",
    "\n",
    "        return inner_wrapper\n",
    "    return wrapper\n",
    "\n",
    "\n",
    "from contextlib import contextmanager\n",
    "import os\n",
    "\n",
    "@contextmanager\n",
    "def cd(newdir):\n",
    "    prevdir = os.getcwd()\n",
    "    os.chdir(os.path.expanduser(newdir))\n",
    "    try:\n",
    "        yield\n",
    "    finally:\n",
    "        os.chdir(prevdir)"
   ]
  },
  {
   "cell_type": "code",
   "execution_count": null,
   "id": "stylish-angle",
   "metadata": {},
   "outputs": [],
   "source": [
    "genetic_file = test_data_catalog.load(\"genetic_file\")\n",
    "sample_file = test_data_catalog.load(\"sample_file\")"
   ]
  },
  {
   "cell_type": "code",
   "execution_count": null,
   "id": "rolled-badge",
   "metadata": {},
   "outputs": [
    {
     "data": {
      "text/plain": [
       "{'case': {1: Path('data/test_data/gen_file/test_CASE_MS_chr1.gen'),\n",
       "  2: Path('data/test_data/gen_file/test_CASE_MS_chr2.gen'),\n",
       "  3: Path('data/test_data/gen_file/test_CASE_MS_chr3.gen'),\n",
       "  4: Path('data/test_data/gen_file/test_CASE_MS_chr4.gen'),\n",
       "  5: Path('data/test_data/gen_file/test_CASE_MS_chr5.gen'),\n",
       "  6: Path('data/test_data/gen_file/test_CASE_MS_chr6.gen'),\n",
       "  7: Path('data/test_data/gen_file/test_CASE_MS_chr7.gen'),\n",
       "  8: Path('data/test_data/gen_file/test_CASE_MS_chr8.gen'),\n",
       "  9: Path('data/test_data/gen_file/test_CASE_MS_chr9.gen'),\n",
       "  10: Path('data/test_data/gen_file/test_CASE_MS_chr10.gen'),\n",
       "  11: Path('data/test_data/gen_file/test_CASE_MS_chr11.gen'),\n",
       "  12: Path('data/test_data/gen_file/test_CASE_MS_chr12.gen'),\n",
       "  13: Path('data/test_data/gen_file/test_CASE_MS_chr13.gen'),\n",
       "  14: Path('data/test_data/gen_file/test_CASE_MS_chr14.gen'),\n",
       "  15: Path('data/test_data/gen_file/test_CASE_MS_chr15.gen'),\n",
       "  16: Path('data/test_data/gen_file/test_CASE_MS_chr16.gen'),\n",
       "  17: Path('data/test_data/gen_file/test_CASE_MS_chr17.gen'),\n",
       "  18: Path('data/test_data/gen_file/test_CASE_MS_chr18.gen'),\n",
       "  19: Path('data/test_data/gen_file/test_CASE_MS_chr19.gen'),\n",
       "  20: Path('data/test_data/gen_file/test_CASE_MS_chr20.gen'),\n",
       "  21: Path('data/test_data/gen_file/test_CASE_MS_chr21.gen'),\n",
       "  22: Path('data/test_data/gen_file/test_CASE_MS_chr22.gen')},\n",
       " 'control': {1: Path('data/test_data/gen_file/test_CONTROL_MS_chr1.gen'),\n",
       "  2: Path('data/test_data/gen_file/test_CONTROL_MS_chr2.gen'),\n",
       "  3: Path('data/test_data/gen_file/test_CONTROL_MS_chr3.gen'),\n",
       "  4: Path('data/test_data/gen_file/test_CONTROL_MS_chr4.gen'),\n",
       "  5: Path('data/test_data/gen_file/test_CONTROL_MS_chr5.gen'),\n",
       "  6: Path('data/test_data/gen_file/test_CONTROL_MS_chr6.gen'),\n",
       "  7: Path('data/test_data/gen_file/test_CONTROL_MS_chr7.gen'),\n",
       "  8: Path('data/test_data/gen_file/test_CONTROL_MS_chr8.gen'),\n",
       "  9: Path('data/test_data/gen_file/test_CONTROL_MS_chr9.gen'),\n",
       "  10: Path('data/test_data/gen_file/test_CONTROL_MS_chr10.gen'),\n",
       "  11: Path('data/test_data/gen_file/test_CONTROL_MS_chr11.gen'),\n",
       "  12: Path('data/test_data/gen_file/test_CONTROL_MS_chr12.gen'),\n",
       "  13: Path('data/test_data/gen_file/test_CONTROL_MS_chr13.gen'),\n",
       "  14: Path('data/test_data/gen_file/test_CONTROL_MS_chr14.gen'),\n",
       "  15: Path('data/test_data/gen_file/test_CONTROL_MS_chr15.gen'),\n",
       "  16: Path('data/test_data/gen_file/test_CONTROL_MS_chr16.gen'),\n",
       "  17: Path('data/test_data/gen_file/test_CONTROL_MS_chr17.gen'),\n",
       "  18: Path('data/test_data/gen_file/test_CONTROL_MS_chr18.gen'),\n",
       "  19: Path('data/test_data/gen_file/test_CONTROL_MS_chr19.gen'),\n",
       "  20: Path('data/test_data/gen_file/test_CONTROL_MS_chr20.gen'),\n",
       "  21: Path('data/test_data/gen_file/test_CONTROL_MS_chr21.gen'),\n",
       "  22: Path('data/test_data/gen_file/test_CONTROL_MS_chr22.gen')}}"
      ]
     },
     "execution_count": null,
     "metadata": {},
     "output_type": "execute_result"
    }
   ],
   "source": [
    "test_data_catalog.load(\"genetic_file_split_by_chrom\")._file_path.full_file_path"
   ]
  },
  {
   "cell_type": "code",
   "execution_count": null,
   "id": "palestinian-rings",
   "metadata": {},
   "outputs": [
    {
     "data": {
      "text/plain": [
       "{'case': SampleFileFormat(filepath=Path('data/test_data/sample_file/MS_impute2_ALL_sample_out.tsv'), pandas_args={'sep': ' ', 'skiprows': [1]}, sample_id_col='ID_2', cov_cols=['sex'], missing_col='missing'),\n",
       " 'control': SampleFileFormat(filepath=Path('data/test_data/sample_file/ALL_controls_58C_NBS_WTC2_impute2_sample_out.tsv'), pandas_args={'sep': ' ', 'skiprows': [1]}, sample_id_col='ID_2', cov_cols=['sex'], missing_col='missing')}"
      ]
     },
     "execution_count": null,
     "metadata": {},
     "output_type": "execute_result"
    }
   ],
   "source": [
    "vars(sample_file.files)"
   ]
  },
  {
   "cell_type": "code",
   "execution_count": null,
   "id": "modern-stations",
   "metadata": {},
   "outputs": [
    {
     "data": {
      "text/plain": [
       "CaseControlFilePathSchema(case=SingleFilePathSchema(folder='data/test_data/sample_file', full_file_name='MS_impute2_ALL_sample_out.tsv', file_name='MS_impute2_ALL_sample_out', extension='tsv', split_by_chromosome=None), control=SingleFilePathSchema(folder='data/test_data/sample_file', full_file_name='ALL_controls_58C_NBS_WTC2_impute2_sample_out.tsv', file_name='ALL_controls_58C_NBS_WTC2_impute2_sample_out', extension='tsv', split_by_chromosome=None))"
      ]
     },
     "execution_count": null,
     "metadata": {},
     "output_type": "execute_result"
    }
   ],
   "source": [
    "sample_file._file_path"
   ]
  },
  {
   "cell_type": "code",
   "execution_count": null,
   "id": "macro-fifteen",
   "metadata": {},
   "outputs": [],
   "source": [
    "sample_file.files"
   ]
  },
  {
   "cell_type": "code",
   "execution_count": null,
   "id": "phantom-cleaners",
   "metadata": {},
   "outputs": [],
   "source": [
    "genetic_file.files.__dict__[\"case\"].sample_ids"
   ]
  },
  {
   "cell_type": "code",
   "execution_count": null,
   "id": "polish-cartoon",
   "metadata": {},
   "outputs": [],
   "source": [
    "genetic_file.files.case.sample_ids = sample_file.files.case.load().index\n"
   ]
  },
  {
   "cell_type": "code",
   "execution_count": null,
   "id": "second-academy",
   "metadata": {},
   "outputs": [
    {
     "data": {
      "text/plain": [
       "Index(['WTCCCT473540', 'WTCCCT473530', 'WTCCCT473555', 'WTCCCT473426',\n",
       "       'WTCCCT473489', 'WTCCCT473456', 'WTCCCT473435', 'WTCCCT473522',\n",
       "       'WTCCCT473500', 'WTCCCT473537',\n",
       "       ...\n",
       "       'WTCCCT466427', 'WTCCCT449701', 'WTCCCT449713', 'WTCCCT449725',\n",
       "       'WTCCCT473041', 'WTCCCT473455', 'WTCCCT473479', 'WTCCCT473432',\n",
       "       'WTCCCT473465', 'WTCCCT473421'],\n",
       "      dtype='object', name='ID_2', length=9772)"
      ]
     },
     "execution_count": null,
     "metadata": {},
     "output_type": "execute_result"
    }
   ],
   "source": [
    "genetic_file.files.case.sample_ids"
   ]
  },
  {
   "cell_type": "code",
   "execution_count": null,
   "id": "atlantic-import",
   "metadata": {},
   "outputs": [
    {
     "data": {
      "text/html": [
       "<div>\n",
       "<style scoped>\n",
       "    .dataframe tbody tr th:only-of-type {\n",
       "        vertical-align: middle;\n",
       "    }\n",
       "\n",
       "    .dataframe tbody tr th {\n",
       "        vertical-align: top;\n",
       "    }\n",
       "\n",
       "    .dataframe thead th {\n",
       "        text-align: right;\n",
       "    }\n",
       "</style>\n",
       "<table border=\"1\" class=\"dataframe\">\n",
       "  <thead>\n",
       "    <tr style=\"text-align: right;\">\n",
       "      <th></th>\n",
       "      <th>dashes</th>\n",
       "      <th>rsid</th>\n",
       "      <th>position</th>\n",
       "      <th>ref</th>\n",
       "      <th>alt</th>\n",
       "      <th>WTCCCT473540_1</th>\n",
       "      <th>WTCCCT473540_2</th>\n",
       "      <th>WTCCCT473540_3</th>\n",
       "      <th>WTCCCT473530_1</th>\n",
       "      <th>WTCCCT473530_2</th>\n",
       "      <th>...</th>\n",
       "      <th>WTCCCT473479_3</th>\n",
       "      <th>WTCCCT473432_1</th>\n",
       "      <th>WTCCCT473432_2</th>\n",
       "      <th>WTCCCT473432_3</th>\n",
       "      <th>WTCCCT473465_1</th>\n",
       "      <th>WTCCCT473465_2</th>\n",
       "      <th>WTCCCT473465_3</th>\n",
       "      <th>WTCCCT473421_1</th>\n",
       "      <th>WTCCCT473421_2</th>\n",
       "      <th>WTCCCT473421_3</th>\n",
       "    </tr>\n",
       "  </thead>\n",
       "  <tbody>\n",
       "    <tr>\n",
       "      <th>0</th>\n",
       "      <td>---</td>\n",
       "      <td>rs77948203</td>\n",
       "      <td>21249165</td>\n",
       "      <td>G</td>\n",
       "      <td>A</td>\n",
       "      <td>1</td>\n",
       "      <td>0.000</td>\n",
       "      <td>0.000</td>\n",
       "      <td>1</td>\n",
       "      <td>0.000</td>\n",
       "      <td>...</td>\n",
       "      <td>0</td>\n",
       "      <td>1</td>\n",
       "      <td>0</td>\n",
       "      <td>0</td>\n",
       "      <td>1</td>\n",
       "      <td>0.000</td>\n",
       "      <td>0.000</td>\n",
       "      <td>1</td>\n",
       "      <td>0</td>\n",
       "      <td>0</td>\n",
       "    </tr>\n",
       "    <tr>\n",
       "      <th>1</th>\n",
       "      <td>---</td>\n",
       "      <td>rs1014626</td>\n",
       "      <td>21461017</td>\n",
       "      <td>C</td>\n",
       "      <td>T</td>\n",
       "      <td>0</td>\n",
       "      <td>0.000</td>\n",
       "      <td>1.000</td>\n",
       "      <td>0</td>\n",
       "      <td>0.000</td>\n",
       "      <td>...</td>\n",
       "      <td>1</td>\n",
       "      <td>0</td>\n",
       "      <td>0</td>\n",
       "      <td>1</td>\n",
       "      <td>0</td>\n",
       "      <td>0.000</td>\n",
       "      <td>1.000</td>\n",
       "      <td>0</td>\n",
       "      <td>0</td>\n",
       "      <td>1</td>\n",
       "    </tr>\n",
       "    <tr>\n",
       "      <th>2</th>\n",
       "      <td>---</td>\n",
       "      <td>rs134490</td>\n",
       "      <td>28730175</td>\n",
       "      <td>C</td>\n",
       "      <td>T</td>\n",
       "      <td>0</td>\n",
       "      <td>0.232</td>\n",
       "      <td>0.768</td>\n",
       "      <td>0</td>\n",
       "      <td>0.014</td>\n",
       "      <td>...</td>\n",
       "      <td>0</td>\n",
       "      <td>0</td>\n",
       "      <td>1</td>\n",
       "      <td>0</td>\n",
       "      <td>0</td>\n",
       "      <td>0.356</td>\n",
       "      <td>0.644</td>\n",
       "      <td>0</td>\n",
       "      <td>0</td>\n",
       "      <td>1</td>\n",
       "    </tr>\n",
       "  </tbody>\n",
       "</table>\n",
       "<p>3 rows × 29321 columns</p>\n",
       "</div>"
      ],
      "text/plain": [
       "  dashes        rsid  position ref alt  WTCCCT473540_1  WTCCCT473540_2  \\\n",
       "0    ---  rs77948203  21249165   G   A               1           0.000   \n",
       "1    ---   rs1014626  21461017   C   T               0           0.000   \n",
       "2    ---    rs134490  28730175   C   T               0           0.232   \n",
       "\n",
       "   WTCCCT473540_3  WTCCCT473530_1  WTCCCT473530_2  ...  WTCCCT473479_3  \\\n",
       "0           0.000               1           0.000  ...               0   \n",
       "1           1.000               0           0.000  ...               1   \n",
       "2           0.768               0           0.014  ...               0   \n",
       "\n",
       "   WTCCCT473432_1  WTCCCT473432_2  WTCCCT473432_3  WTCCCT473465_1  \\\n",
       "0               1               0               0               1   \n",
       "1               0               0               1               0   \n",
       "2               0               1               0               0   \n",
       "\n",
       "   WTCCCT473465_2  WTCCCT473465_3  WTCCCT473421_1  WTCCCT473421_2  \\\n",
       "0           0.000           0.000               1               0   \n",
       "1           0.000           1.000               0               0   \n",
       "2           0.356           0.644               0               0   \n",
       "\n",
       "   WTCCCT473421_3  \n",
       "0               0  \n",
       "1               1  \n",
       "2               1  \n",
       "\n",
       "[3 rows x 29321 columns]"
      ]
     },
     "execution_count": null,
     "metadata": {},
     "output_type": "execute_result"
    }
   ],
   "source": [
    "genetic_file.files.case.get_rsid_df(rsid_list=[\"rs77948203\", \"rs1014626\", \"rs134490\"])"
   ]
  },
  {
   "cell_type": "code",
   "execution_count": null,
   "id": "mediterranean-liberty",
   "metadata": {},
   "outputs": [
    {
     "data": {
      "text/plain": [
       "Index(['WTCCCT473540', 'WTCCCT473530', 'WTCCCT473555', 'WTCCCT473426',\n",
       "       'WTCCCT473489', 'WTCCCT473456', 'WTCCCT473435', 'WTCCCT473522',\n",
       "       'WTCCCT473500', 'WTCCCT473537',\n",
       "       ...\n",
       "       'WTCCCT466427', 'WTCCCT449701', 'WTCCCT449713', 'WTCCCT449725',\n",
       "       'WTCCCT473041', 'WTCCCT473455', 'WTCCCT473479', 'WTCCCT473432',\n",
       "       'WTCCCT473465', 'WTCCCT473421'],\n",
       "      dtype='object', name='ID_2', length=9772)"
      ]
     },
     "execution_count": null,
     "metadata": {},
     "output_type": "execute_result"
    }
   ],
   "source": [
    "sample_file.files.case.load().index"
   ]
  }
 ],
 "metadata": {
  "kernelspec": {
   "display_name": "Python 3",
   "language": "python",
   "name": "python3"
  },
  "language_info": {
   "codemirror_mode": {
    "name": "ipython",
    "version": 3
   },
   "file_extension": ".py",
   "mimetype": "text/x-python",
   "name": "python",
   "nbconvert_exporter": "python",
   "pygments_lexer": "ipython3",
   "version": "3.8.7"
  }
 },
 "nbformat": 4,
 "nbformat_minor": 5
}
