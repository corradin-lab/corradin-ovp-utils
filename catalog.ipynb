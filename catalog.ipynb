{
 "cells": [
  {
   "cell_type": "code",
   "execution_count": null,
   "id": "brown-specification",
   "metadata": {},
   "outputs": [],
   "source": [
    "# default_exp catalog"
   ]
  },
  {
   "cell_type": "markdown",
   "id": "supported-process",
   "metadata": {},
   "source": [
    "# module name here\n",
    "\n",
    "> API details."
   ]
  },
  {
   "cell_type": "code",
   "execution_count": null,
   "id": "killing-inflation",
   "metadata": {},
   "outputs": [],
   "source": [
    "#hide\n",
    "\n",
    "from nbdev.showdoc import *"
   ]
  },
  {
   "cell_type": "code",
   "execution_count": null,
   "id": "amino-virus",
   "metadata": {},
   "outputs": [],
   "source": [
    "#export\n",
    "\n",
    "from kedro.config import ConfigLoader\n",
    "from kedro.io import DataCatalog\n"
   ]
  },
  {
   "cell_type": "code",
   "execution_count": null,
   "id": "persistent-today",
   "metadata": {},
   "outputs": [],
   "source": [
    "#export\n",
    "conf_loader = ConfigLoader(\"conf/base\")\n",
    "conf_test_data_catalog = conf_loader.get(\"catalog*.yaml\", \"catalog*/*.yaml\")\n",
    "test_data_catalog = DataCatalog.from_config(conf_test_data_catalog)\n"
   ]
  },
  {
   "cell_type": "markdown",
   "id": "serial-knight",
   "metadata": {},
   "source": [
    "The following datasets are available to test this package"
   ]
  },
  {
   "cell_type": "code",
   "execution_count": null,
   "id": "pursuant-tobacco",
   "metadata": {},
   "outputs": [
    {
     "data": {
      "text/plain": [
       "['genetic_file',\n",
       " 'genetic_file_common_folder',\n",
       " 'genetic_file_single',\n",
       " 'sample_file',\n",
       " 'geno_each_sample',\n",
       " 'case_geno_each_sample',\n",
       " 'control_geno_each_sample']"
      ]
     },
     "execution_count": null,
     "metadata": {},
     "output_type": "execute_result"
    }
   ],
   "source": [
    "test_data_catalog.list()"
   ]
  },
  {
   "cell_type": "code",
   "execution_count": null,
   "id": "chemical-fishing",
   "metadata": {},
   "outputs": [
    {
     "data": {
      "text/plain": [
       "{'case': Path('data/test_data/gen_file/test_CASE_MS_chr22.gen'),\n",
       " 'control': Path('data/test_data/gen_file/test_CONTROL_MS_chr22.gen')}"
      ]
     },
     "execution_count": null,
     "metadata": {},
     "output_type": "execute_result"
    }
   ],
   "source": [
    "test_data_catalog.load(\"genetic_file_common_folder\").full_file_path"
   ]
  }
 ],
 "metadata": {
  "kernelspec": {
   "display_name": "Python 3",
   "language": "python",
   "name": "python3"
  }
 },
 "nbformat": 4,
 "nbformat_minor": 5
}
