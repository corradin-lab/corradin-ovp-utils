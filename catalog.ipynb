{
 "cells": [
  {
   "cell_type": "code",
   "execution_count": null,
   "id": "improved-conference",
   "metadata": {},
   "outputs": [],
   "source": [
    "# default_exp catalog"
   ]
  },
  {
   "cell_type": "markdown",
   "id": "regional-doubt",
   "metadata": {},
   "source": [
    "# Data Catalog\n",
    "\n",
    "> API details."
   ]
  },
  {
   "cell_type": "code",
   "execution_count": null,
   "id": "appointed-community",
   "metadata": {},
   "outputs": [],
   "source": [
    "#hide\n",
    "\n",
    "from nbdev.showdoc import *\n",
    "import sys"
   ]
  },
  {
   "cell_type": "code",
   "execution_count": null,
   "id": "peripheral-greeting",
   "metadata": {},
   "outputs": [],
   "source": [
    "#export\n",
    "\n",
    "from kedro.config import ConfigLoader\n",
    "from kedro.io import DataCatalog\n",
    "from fastcore.meta import delegates"
   ]
  },
  {
   "cell_type": "code",
   "execution_count": null,
   "id": "clear-chapter",
   "metadata": {},
   "outputs": [],
   "source": [
    "#export \n",
    "\n",
    "from functools import wraps\n",
    "from contextlib import contextmanager\n",
    "\n",
    "@contextmanager\n",
    "def cd(newdir):\n",
    "    prevdir = os.getcwd()\n",
    "    os.chdir(os.path.expanduser(newdir))\n",
    "    try:\n",
    "        yield\n",
    "    finally:\n",
    "        os.chdir(prevdir)\n",
    "\n",
    "def change_cwd_dir(new_dir):\n",
    "    def decorator(func):\n",
    "        @wraps(func)\n",
    "        def wrapped_func(*args, **kwargs):\n",
    "            with cd(new_dir):\n",
    "                func_result = func(*args, **kwargs)\n",
    "            return func_result\n",
    "        return wrapped_func\n",
    "    return decorator\n",
    "        \n",
    "    "
   ]
  },
  {
   "cell_type": "code",
   "execution_count": null,
   "id": "radio-script",
   "metadata": {},
   "outputs": [],
   "source": [
    "#export\n",
    "\n",
    "from kedro.config import ConfigLoader\n",
    "from kedro.io import DataCatalog\n",
    "import os\n",
    "from pathlib import Path\n",
    "\n",
    "package_outer_folder = Path(__file__).parents[1]\n",
    "catalog_folder = Path(__file__).parents[0]\n",
    "\n",
    "@change_cwd_dir(new_dir = catalog_folder)\n",
    "def get_config(env=\"base\", patterns=['catalog*', 'catalog*/*/','catalog*/*/*']):\n",
    "    # Initialise a ConfigLoader\n",
    "    conf_loader = ConfigLoader(f\"conf/{env}\")\n",
    "    yaml_patterns = [f\"{pattern}.yaml\" for pattern in patterns]\n",
    "    yml_patterns = [f\"{pattern}.yml\" for pattern in patterns]\n",
    "    \n",
    "    all_patterns = yml_patterns + yaml_patterns\n",
    "    # Load the data catalog configuration from catalog.yml\n",
    "    conf= conf_loader.get(*all_patterns)\n",
    "    \n",
    "    return conf\n",
    "\n",
    "\n",
    "@change_cwd_dir(new_dir = catalog_folder)\n",
    "def get_catalog(env=\"base\", patterns=['catalog*', 'catalog*/*/','catalog*/*/*']):\n",
    "    conf_catalog = get_config(env=env, patterns = patterns)\n",
    "\n",
    "    # Create the DataCatalog instance from the configuration\n",
    "    catalog = DataCatalog.from_config(conf_catalog)\n",
    "    catalog.load = change_cwd_dir(catalog_folder)(catalog.load)\n",
    "    catalog.env = env\n",
    "    catalog.patterns = patterns\n",
    "    catalog.reload = reload.__get__(catalog)\n",
    "    return catalog\n",
    "\n",
    "def reload_catalog(catalog):\n",
    "    return get_catalog(catalog.env, catalog.patterns)\n",
    "\n",
    "def reload(self):\n",
    "    return reload_catalog(self)\n",
    "\n",
    "test_patterns = [\"test_catalog*/*\", \"test_catalog\"]\n",
    "conf_test_data_catalog = get_config(patterns = test_patterns)\n",
    "test_data_catalog = get_catalog(patterns = test_patterns)\n",
    "#test_parameters = get_config(\"base\", [\"parameters*.yml\",\"parameters*.yaml\", \"parameters*/*.yml\", \"parameters*/*.yaml\"])\n",
    "\n"
   ]
  },
  {
   "cell_type": "code",
   "execution_count": null,
   "id": "fatty-meeting",
   "metadata": {},
   "outputs": [],
   "source": [
    "#export\n",
    "test_patterns = [\"test_catalog*/*\", \"test_catalog*\"]\n",
    "conf_test_data_catalog = get_config(patterns = test_patterns)\n",
    "test_data_catalog = get_catalog(patterns = test_patterns)\n",
    "#test_data_catalog_cluster = get_catalog(patterns = test_patterns, env = \"cluster\")"
   ]
  },
  {
   "cell_type": "markdown",
   "id": "loving-capacity",
   "metadata": {},
   "source": [
    "The following datasets are available to test this package"
   ]
  },
  {
   "cell_type": "code",
   "execution_count": null,
   "id": "resistant-tumor",
   "metadata": {},
   "outputs": [],
   "source": [
    "test_data_catalog.list()"
   ]
  }
 ],
 "metadata": {
  "kernelspec": {
   "display_name": "Python 3",
   "language": "python",
   "name": "python3"
  }
 },
 "nbformat": 4,
 "nbformat_minor": 5
}
