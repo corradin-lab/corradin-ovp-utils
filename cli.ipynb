{
 "cells": [
  {
   "cell_type": "code",
   "execution_count": null,
   "id": "7d33597a-a9dd-4119-b137-0176dc7cf29b",
   "metadata": {},
   "outputs": [],
   "source": [
    "#default_exp cli"
   ]
  },
  {
   "cell_type": "code",
   "execution_count": null,
   "id": "9fe7803e-0058-42b0-823f-21ffc3ed4c21",
   "metadata": {},
   "outputs": [],
   "source": [
    "#export\n",
    "\n",
    "from fastcore.script import *\n",
    "from fastcore.basics import partialler\n",
    "import hydra\n",
    "from omegaconf import DictConfig, OmegaConf, errors\n",
    "#from corradin_ovp_utils.prefect_flows.step1 import get_config_task\n",
    "from typing import List\n",
    "from pathlib import Path\n",
    "import logging\n",
    "from rich.logging import RichHandler\n",
    "from prefect.cli.run import run as prefect_run\n",
    "from prefect.tasks.shell import ShellTask\n",
    "from prefect.tasks.prefect import create_flow_run\n",
    "import click\n",
    "log = logging.getLogger(__name__)\n",
    "import sys\n",
    "import os\n"
   ]
  },
  {
   "cell_type": "code",
   "execution_count": null,
   "id": "06c53b64-775f-4475-a2b0-c52f3e201be2",
   "metadata": {},
   "outputs": [
    {
     "name": "stdout",
     "output_type": "stream",
     "text": [
      "Looking up flow metadata...\u001b[0m\u001b[32m Done\u001b[0m\n",
      "Creating run for flow 'OVP_step1_hydra'...\u001b[0m\u001b[32m Done\u001b[0m\n",
      "└── Name: feathered-quetzal\n",
      "└── UUID: f8a3f141-8bee-4d34-962f-d96dc343b63c\n",
      "└── Labels: ['agentless-run-bc46800c']\n",
      "└── Parameters: {'config_path': '/lab/corradin_biobank/FOR_AN/OVP/corradin_ovp_utils/corradin_ovp_utils/conf/example_prefect_step1_filled_conf.yaml'}\n",
      "└── Context: {}\n",
      "└── URL: https://cloud.prefect.io/corradin-lab-mit/flow-run/f8a3f141-8bee-4d34-962f-d96dc343b63c\u001b[0m\n",
      "Executing flow run...\u001b[0m\n",
      "└── 18:59:08 | INFO    | Creating subprocess to execute flow run...\n",
      "\u001b[32mFlow run succeeded!\u001b[0m\n"
     ]
    }
   ],
   "source": [
    "test = prefect_run([\"--project\", \"ovp_dev\", \"--name\", \"OVP_step1_hydra\", \"--execute\"],standalone_mode = False)"
   ]
  },
  {
   "cell_type": "code",
   "execution_count": null,
   "id": "8dc30fbf-17b1-4a30-8030-305249f8b246",
   "metadata": {},
   "outputs": [],
   "source": [
    "#export\n",
    "def get_full_path_str(original_working_dir, path):\n",
    "    #if the path is already an absolute path, we just have to check if path exist\n",
    "    unchanged_path = Path(path)\n",
    "    \n",
    "    if unchanged_path.is_absolute():\n",
    "        absolute_path_to_test = unchanged_path\n",
    "    else:\n",
    "        absolute_path_to_test = original_working_dir/unchanged_path\n",
    "   \n",
    "    try:\n",
    "        assert absolute_path_to_test.exists() == True\n",
    "    except:\n",
    "        log.exception(f\"Path does not exist: {absolute_path_to_test}\")\n",
    "        raise RuntimeError\n",
    "    return absolute_path_to_test.as_posix()\n",
    "\n",
    "def rmtree(f: Path):\n",
    "    if f.is_file():\n",
    "        f.unlink()\n",
    "    else:\n",
    "        for child in f.iterdir():\n",
    "            rmtree(child)\n",
    "        nfs_files = [file for file in f.iterdir() if file.stem.startswith(\".nfs\")]\n",
    "        for file in nfs_files:\n",
    "            file.unlink()\n",
    "        f.rmdir()\n",
    "        \n",
    "OmegaConf.register_new_resolver(\"file\", lambda file_path_with_extension: Path(file_path_with_extension).stem, replace=True)\n",
    "OmegaConf.register_new_resolver(\"dataset_initial\", lambda dataset_full_name: dataset_full_name.split(\"_\")[0], replace=True)\n",
    "OmegaConf.register_new_resolver(\"dir\", get_full_path_str, replace=True)"
   ]
  },
  {
   "cell_type": "code",
   "execution_count": null,
   "id": "128f74af-d4ab-4dfc-9461-dadbfd9c0faa",
   "metadata": {},
   "outputs": [
    {
     "data": {
      "text/plain": [
       "True"
      ]
     },
     "execution_count": null,
     "metadata": {},
     "output_type": "execute_result"
    }
   ],
   "source": [
    "Path('/lab/corradin_biobank/FOR_AN/OVP/corradin_ovp_utils/new_pipeline_results/outputs/MS/MS/test_MS_chr22/demo/2021-12-15/07-01-50/.nfs0000001702a1419400000211').stem.startswith(\".nfs\")"
   ]
  },
  {
   "cell_type": "code",
   "execution_count": null,
   "id": "f87dcf48-9227-4e81-9a13-b51f29047b15",
   "metadata": {},
   "outputs": [],
   "source": [
    "#export\n",
    "shell_task = ShellTask(\"pwd\", stream_output=True)\n"
   ]
  },
  {
   "cell_type": "code",
   "execution_count": null,
   "id": "619853fc-85ff-4e0a-a1b0-6693f959e78f",
   "metadata": {},
   "outputs": [
    {
     "name": "stderr",
     "output_type": "stream",
     "text": [
      "usage: ipykernel_launcher.py [--help] [--hydra-help] [--version]\n",
      "                             [--cfg {job,hydra,all}] [--resolve]\n",
      "                             [--package PACKAGE] [--run] [--multirun]\n",
      "                             [--shell-completion] [--config-path CONFIG_PATH]\n",
      "                             [--config-name CONFIG_NAME]\n",
      "                             [--config-dir CONFIG_DIR]\n",
      "                             [--info [{all,config,defaults,defaults-tree,plugins,searchpath}]]\n",
      "                             [overrides [overrides ...]]\n",
      "ipykernel_launcher.py: error: unrecognized arguments: -f\n"
     ]
    },
    {
     "ename": "SystemExit",
     "evalue": "2",
     "output_type": "error",
     "traceback": [
      "An exception has occurred, use %tb to see the full traceback.\n",
      "\u001b[0;31mSystemExit\u001b[0m\u001b[0;31m:\u001b[0m 2\n"
     ]
    }
   ],
   "source": [
    "#export\n",
    "\n",
    "def abort_and_cleanup(result_path):\n",
    "    logging.info(\"[bold red] Aborting and cleaning up...[/]\")\n",
    "    ShellTask().run(command = \"rm -rf {result_path}\")\n",
    "    logging.info(\"[bold red] Done [/]\")\n",
    "    \n",
    "    \n",
    "def run_ovp_pipeline(cfg) -> None:\n",
    "    log.info(\"[bold red blink] Starting OVP pipeline [/]\")\n",
    "    #logging.info(f\"All configurations\\n {OmegaConf.to_yaml(cfg)}\")\n",
    "    cfg_output_section = cfg.run.output\n",
    "    logging.info(f\"Output folder path = {cfg_output_section.output_folder_dir_full_path}\")\n",
    "    logging.info(f\"Result path = {cfg_output_section.result_path}\")\n",
    "    logging.info(f\"Full result path = {cfg_output_section.dir}\")\n",
    "    shell_task.run()\n",
    "    logging.info(f\"Pairs file absolute path: {cfg.run.input.pairs_file_full_path}\")\n",
    "    logging.info(f\"Dataset: {cfg.dataset.name}\")\n",
    "    logging.info(f\"All configurations: {OmegaConf.to_yaml(OmegaConf.to_object(cfg))}\")\n",
    "    logging.info(f\"Run name: {cfg.run.run_name}\")\n",
    "    logging.info(f\"Output folder: {cfg.output_folder_dir}. If this is not what you want then change the 'output_folder_dir' argument\")\n",
    "    \n",
    "    if cfg.interactive:\n",
    "        try:\n",
    "            logging.info(\"[bold red] Check if all the configurations are correct. Press Enter to continue, Ctrl + C to quit and clean up[/]\")\n",
    "            input()\n",
    "        except KeyboardInterrupt:\n",
    "            cfg_output_section = cfg.run.output\n",
    "           \n",
    "            try:\n",
    "                sys.exit(0)\n",
    "            except SystemExit:\n",
    "                os._exit(0)\n",
    "           \n",
    "    \n",
    "    OmegaConf.save(OmegaConf.to_object(cfg), \".hydra/config_filled.yaml\")\n",
    "    \n",
    "    step1_command = [\"--project\", \"ovp_dev\",\n",
    "                     \"--name\", \"OVP_step1_hydra\",\n",
    "                     \"--param\", \"config_path=.hydra/config_filled.yaml\",\n",
    "                     \"--run-name\", f\"step1_{cfg.run.run_name}\" ]\n",
    "    \n",
    "    if cfg.run.submit == False:\n",
    "        step1_command.append(\"--execute\")\n",
    "        \n",
    "    prefect_run(step1_command,standalone_mode = False)\n",
    "    \n",
    "@hydra.main(config_path=\"conf/hydra_conf\", config_name=\"config\")\n",
    "def run_ovp_pipeline_static(cfg):\n",
    "    try:\n",
    "        run_ovp_pipeline(cfg)\n",
    "    except errors.MissingMandatoryValue:\n",
    "        result_path = Path(cfg_output_section.dir)\n",
    "        logging.info(f\"[bold red] Removing directory {result_path.as_posix()}[/]\")\n",
    "   \n",
    "        \n",
    "if __name__ == \"__main__\":\n",
    "    run_ovp_pipeline_static()\n",
    "    \n",
    "# @call_parse\n",
    "# def run_ovp_pipeline_dynamic(config_path:str,     # Path to config\n",
    "#         # pairs_file: str,       # TSV pairs file, contain columns [GWAS_id, outside_id, GWAS_chrom, outside_chrom] in that order\n",
    "#         # overrides: List,       # overrides to the config\n",
    "#         ): \n",
    "#     \"Run the pipeline from scratch\"\n",
    "#     # cfg = get_config_task.run(pairs_file = pairs_file, config_path = config_path, overrides = overrides)\n",
    "#     # print(cfg)\n",
    "#     # print(OmegaConf.to_object(cfg))\n",
    "#     hydra_main_func_templated = hydra.main(config_path = config_path, config_name = \"config\")\n",
    "#     run_pipeline = hydra_main_func_templated(run_ovp_pipeline)\n",
    "#     run_pipeline()"
   ]
  },
  {
   "cell_type": "code",
   "execution_count": null,
   "id": "d7fb13fd-0ede-4186-9b82-88b7e8ba714d",
   "metadata": {},
   "outputs": [
    {
     "name": "stderr",
     "output_type": "stream",
     "text": [
      "usage: ipykernel_launcher.py [--help] [--hydra-help] [--version]\n",
      "                             [--cfg {job,hydra,all}] [--resolve]\n",
      "                             [--package PACKAGE] [--run] [--multirun]\n",
      "                             [--shell-completion] [--config-path CONFIG_PATH]\n",
      "                             [--config-name CONFIG_NAME]\n",
      "                             [--config-dir CONFIG_DIR]\n",
      "                             [--info [{all,config,defaults,defaults-tree,plugins,searchpath}]]\n",
      "                             [overrides [overrides ...]]\n",
      "ipykernel_launcher.py: error: unrecognized arguments: -f\n"
     ]
    },
    {
     "ename": "SystemExit",
     "evalue": "2",
     "output_type": "error",
     "traceback": [
      "An exception has occurred, use %tb to see the full traceback.\n",
      "\u001b[0;31mSystemExit\u001b[0m\u001b[0;31m:\u001b[0m 2\n"
     ]
    },
    {
     "name": "stderr",
     "output_type": "stream",
     "text": [
      "/lab/corradin_biobank/FOR_AN/OVP/corradin_ovp_utils/.venv/lib/python3.8/site-packages/IPython/core/interactiveshell.py:3327: UserWarning: To exit: use 'exit', 'quit', or Ctrl-D.\n",
      "  warn(\"To exit: use 'exit', 'quit', or Ctrl-D.\", stacklevel=1)\n"
     ]
    }
   ],
   "source": [
    "run_ovp_pipeline_static()"
   ]
  },
  {
   "cell_type": "code",
   "execution_count": null,
   "id": "889bba57-22b0-4c26-8a0c-c2617c3c449c",
   "metadata": {},
   "outputs": [],
   "source": []
  }
 ],
 "metadata": {
  "kernelspec": {
   "display_name": "Python 3",
   "language": "python",
   "name": "python3"
  }
 },
 "nbformat": 4,
 "nbformat_minor": 5
}
