{
 "cells": [
  {
   "cell_type": "code",
   "execution_count": null,
   "id": "designing-nutrition",
   "metadata": {},
   "outputs": [],
   "source": [
    "#default_exp datasets.genetic_file.Bgen"
   ]
  },
  {
   "cell_type": "code",
   "execution_count": null,
   "id": "aboriginal-launch",
   "metadata": {},
   "outputs": [],
   "source": [
    "#hide\n",
    "from nbdev.showdoc import *\n",
    "import pandas as pd\n",
    "from corradin_ovp_utils.catalog import test_data_catalog, conf_test_data_catalog\n",
    "from corradin_ovp_utils.datasets.schemas import SingleFilePathSchema\n",
    "import combinatorial_gwas\n",
    "from fastcore.test import ExceptionExpected"
   ]
  },
  {
   "cell_type": "code",
   "execution_count": null,
   "id": "possible-quick",
   "metadata": {},
   "outputs": [],
   "source": [
    "#export\n",
    "from corradin_ovp_utils.datasets.genetic_file import GeneticFileFormat, GeneticFileFormatInterfaceAPI, get_geno_one_snp, get_possible_geno_combinations\n",
    "from typing import Any, Dict, List, Optional, Literal, Union, Protocol\n",
    "from pydantic import BaseModel, PrivateAttr\n",
    "import pandas as pd\n",
    "from bgen_reader import open_bgen, read_bgen\n",
    "from bgen_reader._bgen2 import open_bgen as open_bgen_file_type\n",
    "import dask.dataframe as dd\n",
    "from dask.delayed import Delayed\n",
    "from fastcore.meta import delegates\n",
    "import numpy as np\n",
    "import logging\n",
    "from collections import defaultdict"
   ]
  },
  {
   "cell_type": "code",
   "execution_count": null,
   "id": "technical-symbol",
   "metadata": {},
   "outputs": [],
   "source": [
    "#export\n",
    "def index_search(list_to_search, query_list):\n",
    "    sorter = np.argsort(list_to_search)\n",
    "    index = sorter[np.searchsorted(list_to_search, query_list, sorter=sorter)]\n",
    "    return index\n",
    "\n",
    "# class BgenFileObject(BaseModel):\n",
    "#     variants: dd.DataFrame\n",
    "#     samples: pd.Series\n",
    "#     genotype: List[Delayed]\n",
    "#     bgen_reader_obj: open_bgen\n",
    "    \n",
    "#     class Config:\n",
    "#         arbitrary_types_allowed = True\n",
    "    \n",
    "#     def __repr__(self):\n",
    "#         return str(self.__class__) + f\" {self.samples.shape[0]} samples\"\n",
    "    \n",
    "#     def get_variant_index(self,rsids=None):\n",
    "#         variant_index = np.argwhere(np.isin(self.bgen_reader_obj.rsids, rsids)).reshape(-1,) if rsids is not None else None\n",
    "#         return variant_index\n",
    "    \n",
    "#     def get_sample_index(self, sample_ids=None):\n",
    "#         sample_index = np.argwhere(np.isin(self.samples.values, sample_ids)).reshape(-1,) if sample_ids is not None else None\n",
    "#         return sample_index\n",
    "    \n",
    "#     def get_probs(self, sample_ids=None, rsids=None):\n",
    "#         variant_index = self.get_variant_index(rsids)\n",
    "#         sample_index = self.get_sample_index(sample_ids)\n",
    "#         return self.bgen_reader_obj.read((sample_index, variant_index))\n",
    "    \n",
    "    \n",
    "#     def get_geno_each_sample(self, probs, prob_to_geno_func:Literal[\"max\", \"stringent\"]= \"stringent\", high_lim=0.9, low_lim=0.3, NA_val=np.nan):\n",
    "#         if prob_to_geno_func == \"max\":\n",
    "#             geno = np.nanargmax(probs, axis=2).astype(float)\n",
    "            \n",
    "#         elif prob_to_geno_func == \"stringent\":\n",
    "#             geno = np.apply_along_axis(get_geno_one_snp, axis=2, arr=probs, high_lim=high_lim, low_lim=low_lim, NA_val=NA_val)\n",
    "        \n",
    "#         return geno\n",
    "            \n",
    "        \n",
    "#     def get_allele_ids(self, rsids = None, variant_index = None):\n",
    "#         if variant_index is None:\n",
    "#             variant_index = self.get_variant_index(rsids)\n",
    "#         df = pd.DataFrame([allele_str.split(\",\") for allele_str in self.bgen_reader_obj.allele_ids[variant_index]], columns = [\"allele_1\", \"allele_2\"])\n",
    "        \n",
    "#         if rsids is not None:\n",
    "#             df.index = rsids\n",
    "#         return df\n",
    "    \n",
    "#     def get_variant_combinations(self, rsids = None, variant_index = None):\n",
    "#         if variant_index is None:\n",
    "#             variant_index = np.argwhere(np.isin(self.bgen_reader_obj.rsids, rsids)).reshape(-1,) if rsids is not None else None\n",
    "#         geno_df = self.get_allele_ids(rsids, variant_index)\n",
    "#         geno_df = get_possible_geno_combinations(geno_df, \"allele_1\", \"allele_2\")\n",
    "#         return geno_df\n",
    "            \n",
    "#     #def get_genotypes_df(self, rsid_list: List = None, **kwargs):\n",
    "\n",
    "\n",
    "class BgenFileObject():\n",
    "#     variants: dd.DataFrame\n",
    "#     samples: pd.Series\n",
    "#     genotype: List[Delayed]\n",
    "\n",
    "    bgen_reader_obj: open_bgen\n",
    "    \n",
    "    def __init__(self, bgen_reader_obj):\n",
    "        self.bgen_reader_obj = bgen_reader_obj\n",
    "        self.samples = np.vstack(np.char.split(self.bgen_reader_obj.samples, sep = \" \"))[:,0]\n",
    "    \n",
    "    #to do: use fastcore \"delegate\" function\n",
    "    @property\n",
    "    def ids(self):\n",
    "        return self.bgen_reader_obj.ids\n",
    "    \n",
    "    @property\n",
    "    def rsids(self):\n",
    "        return self.bgen_reader_obj.rsids\n",
    "    \n",
    "    def __repr__(self):\n",
    "        return str(self.__class__) + f\" {self.samples.shape[0]} samples\"\n",
    "    \n",
    "    def get_variant_index(self,ids=None, id_type = \"rsid\"):\n",
    "        if id_type == \"id\":\n",
    "            variant_index = index_search(self.ids, ids) if ids is not None else None\n",
    "        elif id_type == \"rsid\":\n",
    "            variant_index = index_search(self.rsids, ids) if ids is not None else None\n",
    "        return variant_index\n",
    "    \n",
    "    def get_sample_index(self, sample_ids=None):\n",
    "        sample_index = index_search(self.samples, sample_ids) if sample_ids is not None else None\n",
    "        return sample_index\n",
    "    \n",
    "    def get_probs(self, samples_index=None, variants_index = None):#get_probs(self, sample_ids=None, variant_ids=None):\n",
    "        # variant_index = self.get_variant_index(variant_ids)\n",
    "        # sample_index = self.get_sample_index(sample_ids)\n",
    "        \n",
    "        return self.bgen_reader_obj.read((samples_index, variants_index))\n",
    "    \n",
    "    \n",
    "    def get_all_geno_df(self, variant_ids, variants_index):\n",
    "        all_geno_df = pd.DataFrame({\"id_col\": variant_ids, \"raw_alleles\":self.bgen_reader_obj.allele_ids[variants_index]}).set_index(\"id_col\")\n",
    "        all_geno_df[[\"alleleA\", \"alleleB\"]] = all_geno_df[\"raw_alleles\"].str.split(\",\", expand = True)\n",
    "        all_geno_df = get_possible_geno_combinations(all_geno_df, allele_1_col=\"alleleA\", allele_2_col= \"alleleB\")\n",
    "        return all_geno_df\n",
    "\n",
    "    def get_geno_each_sample(self,\n",
    "                             sample_ids=None,\n",
    "                             variant_ids=None,\n",
    "                             variant_id_type=\"rsid\",\n",
    "                             prob_to_geno_func:Union[\"max\", \"stringent\"]= \"stringent\",\n",
    "                             high_lim=0.9,\n",
    "                             low_lim=0.3,\n",
    "                             NA_val=np.nan,\n",
    "                             geno_format: Literal[\"raw\", \"ohe\", \"str\"]= \"raw\",\n",
    "                             **kwargs):\n",
    "        num_variants_to_search = len(variant_ids)\n",
    "        variants_index = self.get_variant_index(ids = variant_ids, id_type= variant_id_type)\n",
    "        \n",
    "        if variant_id_type not in [\"id\", \"rsid\", \"ids\", \"rsids\"]:\n",
    "            raise ValueError\n",
    "        if variant_id_type in [\"id\", \"rsid\"]:\n",
    "            variant_id_type += \"s\"\n",
    "            \n",
    "        #confirming that we have the correct variants by reindexing\n",
    "        list_of_variants_in_file_specific_id_type = getattr(self.bgen_reader_obj, variant_id_type)\n",
    "        confirmed_correct_variants_bool_mask = (list_of_variants_in_file_specific_id_type[variants_index]) == np.array(variant_ids)\n",
    "        \n",
    "        \n",
    "        confirmed_correct_variants_index = variants_index[confirmed_correct_variants_bool_mask]\n",
    "        found_variants = np.array(variant_ids)[confirmed_correct_variants_bool_mask]\n",
    "        #assert all(self.bgen_reader_obj.rsids[variants_index] == variant_ids)\n",
    "        not_found_variants = np.array(variant_ids)[~confirmed_correct_variants_bool_mask]\n",
    "        \n",
    "        logging.warning(f\"\\nFound variants: {found_variants.shape[0]}/{num_variants_to_search}\\n Not found: {not_found_variants.shape[0]}/{num_variants_to_search}.\\n Percent found {round((found_variants.shape[0]/num_variants_to_search) *100)}%\")\n",
    "        \n",
    "        samples_index = self.get_sample_index(sample_ids = sample_ids)\n",
    "        probs = self.get_probs(samples_index=samples_index, variants_index = confirmed_correct_variants_index)\n",
    "        \n",
    "        if prob_to_geno_func == \"max\":\n",
    "            geno = np.nanargmax(probs, axis=2).astype(float)\n",
    "   \n",
    "        elif prob_to_geno_func == \"stringent\":\n",
    "            geno = np.apply_along_axis(get_geno_one_snp, axis=2, arr=probs, high_lim=high_lim, low_lim=low_lim, NA_val=NA_val)\n",
    "        \n",
    "        \n",
    "\n",
    "        geno_no_nan = np.nan_to_num(geno, nan=3).astype(int)\n",
    "        all_geno_df = self.get_all_geno_df(variant_ids = found_variants, variants_index = confirmed_correct_variants_index)\n",
    "        \n",
    "        if geno_format == \"ohe\":\n",
    "            geno_final = np.identity(4)[geno_no_nan]\n",
    "        elif geno_format == \"str\":\n",
    "            geno_final = self.process_raw_geno_data(raw_genos_matrix = geno, all_geno_df = all_geno_df, variant_ids = found_variants)\n",
    "        else:\n",
    "            geno_final = geno\n",
    "        return geno_final, all_geno_df, found_variants, not_found_variants\n",
    "    \n",
    "\n",
    "    def process_raw_geno_data(self, raw_genos_matrix, all_geno_df, variant_ids):\n",
    "        \n",
    "        genos_str = np.select([raw_genos_matrix == 0,\n",
    "                               raw_genos_matrix ==1,\n",
    "                               raw_genos_matrix == 2],\n",
    "                              choicelist=[all_geno_df[\"AA\"], all_geno_df[\"AB\"], all_geno_df[\"BB\"]],\n",
    "                              default = np.nan)\n",
    "        \n",
    "        all_samples_df = pd.DataFrame(genos_str, columns = variant_ids, index = self.samples)\n",
    "        all_samples_df.index.name = \"sample_id\"\n",
    "        return all_samples_df\n",
    "        \n",
    "    def get_allele_ids(self, rsids = None, variant_index = None):\n",
    "        if variant_index is None:\n",
    "            variant_index = self.get_variant_index(rsids)\n",
    "        df = pd.DataFrame([allele_str.split(\",\") for allele_str in self.bgen_reader_obj.allele_ids[variant_index]], columns = [\"allele_1\", \"allele_2\"])\n",
    "        \n",
    "        if rsids is not None:\n",
    "            df.index = rsids\n",
    "        return df\n",
    "    \n",
    "    def get_variant_combinations(self, rsids = None, variant_index = None):\n",
    "        if variant_index is None:\n",
    "            variant_index = self.get_variant_index(rsids).reshape(-1,) if rsids is not None else None\n",
    "        geno_df = self.get_allele_ids(rsids, variant_index)\n",
    "        geno_df = get_possible_geno_combinations(geno_df, \"allele_1\", \"allele_2\")\n",
    "        return geno_df\n",
    "    \n",
    "    \n",
    "    \n",
    "class BgenFileFormat(GeneticFileFormat, GeneticFileFormatInterfaceAPI):\n",
    "    _all_chrom_dict: Dict[int, open_bgen_file_type] = PrivateAttr()\n",
    "    # = PrivateAttr()\n",
    "        \n",
    "    class Config:\n",
    "        arbitrary_types_allowed = True\n",
    "        \n",
    "    def __init__(self, **data):\n",
    "        super().__init__(**data)\n",
    "        self._all_chrom_dict = None #{chrom_number : self.load_one_chrom(chrom_number) for chrom_number in range(1,23)}\n",
    "        self.sample_ids = None #self._all_chrom_dict[1].samples\n",
    "        \n",
    "    @property\n",
    "    def _samples_int(self):\n",
    "        return self.sample_ids.astype(int)\n",
    "    \n",
    "    def get_geno_matrix_specific_chrom(self, *, chrom, chrom_specific_variant_ids, sample_id_subset, variant_id_type):\n",
    "        logging.warning(f\"Loading {len(chrom_specific_variant_ids)} SNPs with id type '{variant_id_type}' for chromosome {chrom}, {len(sample_id_subset)} people\")\n",
    "        all_samples_df_specific_chrom, all_geno_df_specific_chrom, found_variants, not_found_variants = self._all_chrom_dict[chrom].get_geno_each_sample(prob_to_geno_func = \"stringent\",\n",
    "                                                                                         sample_ids=sample_id_subset,\n",
    "                                                                                         variant_ids=chrom_specific_variant_ids,\n",
    "                                                                                         variant_id_type= variant_id_type,\n",
    "                                                                                         geno_format = \"str\")\n",
    "        return  all_samples_df_specific_chrom, all_geno_df_specific_chrom, found_variants, not_found_variants\n",
    "    \n",
    "    #TODO: accomodate different types of SNP id\n",
    "    def get_geno_each_sample(self, rsid_dict:Dict[int, List[str]], id_col_list: List[str] = [], batch_size=1_000, excluded_sample_ids: List[str] =[]): \n",
    "        if self._all_chrom_dict is None or self.sample_ids is None:\n",
    "            chromosomes_needed = list(rsid_dict.keys())\n",
    "            logging.warning(f\"Initialize dictionary of genetic files for {len(chromosomes_needed)} chromosomes, this might take a while\")\n",
    "            self._all_chrom_dict = {chrom_number : self.load_one_chrom(chrom_number) for chrom_number in rsid_dict.keys()}\n",
    "            self.sample_ids = self._all_chrom_dict[chromosomes_needed[0]].samples\n",
    "        all_samples_df_list = []\n",
    "        all_geno_df_list = []\n",
    "        found_variants_dict= defaultdict(list)\n",
    "        not_found_variants_dict=defaultdict(list)\n",
    "        \n",
    "        sample_id_subset = list(set(self.sample_ids) - set(excluded_sample_ids))\n",
    "        \n",
    "        #print(sample_id_subset)\n",
    "        for chrom, chrom_specific_variant_ids in rsid_dict.items():\n",
    "            rsids_list = list(set([variant_id for variant_id in chrom_specific_variant_ids if variant_id.startswith(\"rs\")]))\n",
    "            if rsids_list:\n",
    "                all_samples_df_specific_chrom, all_geno_df_specific_chrom, found_variants_specific_chrom, not_found_variants_specific_chrom = self.get_geno_matrix_specific_chrom(chrom = chrom,\n",
    "                                                                                                                chrom_specific_variant_ids= rsids_list,\n",
    "                                                                                                                sample_id_subset= sample_id_subset,\n",
    "                                                                                                                variant_id_type = \"rsid\")\n",
    "\n",
    "                all_samples_df_list.append(all_samples_df_specific_chrom)\n",
    "                all_geno_df_list.append(all_geno_df_specific_chrom)\n",
    "                found_variants_dict[chrom].append(found_variants_specific_chrom)\n",
    "                not_found_variants_dict[chrom].append(not_found_variants_specific_chrom)\n",
    "            \n",
    "            ids_list = [id_str for id_str in (set(chrom_specific_variant_ids) - set(rsids_list)) if self.check_if_id(id_str)]\n",
    "            if ids_list:\n",
    "                all_samples_df_specific_chrom, all_geno_df_specific_chrom = self.get_geno_matrix_specific_chrom(chrom = chrom,\n",
    "                                                                                                                chrom_specific_variant_ids= ids_list,\n",
    "                                                                                                                sample_id_subset= sample_id_subset,\n",
    "                                                                                                                variant_id_type = \"id\")\n",
    "\n",
    "                all_samples_df_list.append(all_samples_df_specific_chrom)\n",
    "                all_geno_df_list.append(all_geno_df_specific_chrom)\n",
    "                found_variants_dict[chrom].append(found_variants_specific_chrom)\n",
    "                not_found_variants_dict[chrom].append(not_found_variants_specific_chrom)\n",
    "        \n",
    "        not_found_variants_sum_dict = {chrom: len(variant_list) for chrom, variant_list in not_found_variants_dict.items()}\n",
    "        found_variants_sum_dict = {chrom: len(variant_list) for chrom, variant_list in found_variants_dict.items()}\n",
    "        \n",
    "        total_variants_found = sum([sum_each_chrom for sum_each_chrom in found_variants_sum_dict.values()])\n",
    "        total_variants_not_found = sum([sum_each_chrom for sum_each_chrom in not_found_variants_sum_dict.values()])\n",
    "        logging.warning(f\"Number of found variants per chromosome: {found_variants_sum_dict}\")\n",
    "        logging.warning(f\"Number of not found variants per chromosome: {not_found_variants_sum_dict}\")\n",
    "        \n",
    "        return pd.concat(all_samples_df_list), pd.concat(all_geno_df_list)\n",
    "        \n",
    "        \n",
    "    def check_if_id(self, variant_string):\n",
    "        chrom, rest = variant_string.split(\":\")\n",
    "        if 1 <= chrom <= 22 and len(rest.split(\"_\")) == 3:\n",
    "            return True\n",
    "        else:\n",
    "            return False\n",
    "    \n",
    "    @delegates(read_bgen)\n",
    "    def load_one_chrom(self, chrom=None, **kwargs):\n",
    "        file_path = self.get_resolved_file_path(chrom=chrom)\n",
    "        print(f\"Loading chromosome {chrom}\")\n",
    "        open_bgen_obj = open_bgen(file_path, samples_filepath= self.sample_file, allow_complex = False)\n",
    "        return BgenFileObject(bgen_reader_obj = open_bgen_obj)\n"
   ]
  },
  {
   "cell_type": "code",
   "execution_count": null,
   "id": "b92555e8-ec05-42de-84ab-2f628b06d05f",
   "metadata": {},
   "outputs": [],
   "source": [
    "test_file_path = SingleFilePathSchema(folder = \"/lab/corradin_biobank/Raw_UKB_downloads/BGEN/\",\n",
    "                     full_file_name = \"ukb_imp_chr{chrom_num}_v3.bgen\", split_by_chromosome= True)"
   ]
  },
  {
   "cell_type": "code",
   "execution_count": null,
   "id": "9173c35a-71d1-4341-a4aa-8f6d9e3b99ae",
   "metadata": {},
   "outputs": [
    {
     "name": "stdout",
     "output_type": "stream",
     "text": [
      "Loading chromosome 22\n"
     ]
    }
   ],
   "source": [
    "test_bgen_file_class_instance = BgenFileFormat( file_path = test_file_path,\n",
    "                                               sample_file = \"/lab/corradin_biobank/Raw_UKB_downloads/sample_files/ukb45624_imp_chr9_v3_s487320.sample\")\n",
    "test_bgen_file_chrom_22 = test_bgen_file_class_instance.load_one_chrom(22)"
   ]
  },
  {
   "cell_type": "code",
   "execution_count": null,
   "id": "dd04209f-e5b4-4159-b07f-56e9d4b9ce80",
   "metadata": {},
   "outputs": [
    {
     "name": "stderr",
     "output_type": "stream",
     "text": [
      "WARNING:root:\n",
      "Found variants: 3/3\n",
      " Not found: 0/3.\n",
      " Percent found 100%\n"
     ]
    },
    {
     "name": "stdout",
     "output_type": "stream",
     "text": [
      "reading -- time=0:00:00.00, thread 1 of 3, part 1 of 1\n"
     ]
    },
    {
     "data": {
      "text/plain": [
       "(array([[ 0.,  0., nan],\n",
       "        [ 0.,  0.,  0.],\n",
       "        [ 0.,  0.,  0.],\n",
       "        ...,\n",
       "        [ 0.,  0.,  0.],\n",
       "        [ 0.,  0.,  0.],\n",
       "        [ 0.,  0., nan]]),                 alleleA alleleB  AA  AB  BB\n",
       " id_col                                     \n",
       " 22:16050075_A_G       A       G  AA  AG  GG\n",
       " 22:16050213_C_T       C       T  CC  CT  TT\n",
       " 22:16212580_G_A       G       A  GG  AG  AA, array(['22:16050075_A_G', '22:16050213_C_T', '22:16212580_G_A'],\n",
       "       dtype='<U15'), array([], dtype='<U15'))"
      ]
     },
     "execution_count": null,
     "metadata": {},
     "output_type": "execute_result"
    }
   ],
   "source": [
    "test_bgen_file_chrom_22.get_geno_each_sample(variant_id_type=\"id\", variant_ids=['22:16050075_A_G', '22:16050213_C_T', '22:16212580_G_A'] )"
   ]
  },
  {
   "cell_type": "code",
   "execution_count": null,
   "id": "3d8388df-6409-4266-bef0-4f5d408734f2",
   "metadata": {},
   "outputs": [],
   "source": [
    "test_variants_id_type = ['22:16050075_A_G', '22:16050213_C_T', '22:16212580_G_A']\n",
    "test_variant_index = test_bgen_file_chrom_22.get_variant_index(ids = test_variants_id_type, id_type= \"id\")\n",
    "test_variants_backcheck_id = test_bgen_file_chrom_22.ids[test_variant_index]\n",
    "assert np.array_equal(test_variant_index, np.array([0, 2, 2000]))\n",
    "assert all(test_variants_backcheck_id == test_variants_id_type)"
   ]
  },
  {
   "cell_type": "code",
   "execution_count": null,
   "id": "9bbf9ced-7daa-4cca-88dd-e7d418326ab3",
   "metadata": {},
   "outputs": [],
   "source": [
    "test_variants_rsid_type = [\"rs77948203\", \"rs9610458\", \"rs134490\", \"rs5756405\"]\n",
    "test_variant_index = test_bgen_file_chrom_22.get_variant_index(test_variants_rsid_type)\n",
    "assert all(test_bgen_file_chrom_22.rsids[test_variant_index] == test_variants_rsid_type)"
   ]
  },
  {
   "cell_type": "code",
   "execution_count": null,
   "id": "7390258d-2e0c-4d52-b7bf-d64846c82d48",
   "metadata": {},
   "outputs": [
    {
     "name": "stderr",
     "output_type": "stream",
     "text": [
      "WARNING:root:Initialize dictionary of genetic files for 1 chromosomes, this might take a while\n"
     ]
    },
    {
     "name": "stdout",
     "output_type": "stream",
     "text": [
      "Loading chromosome 22\n"
     ]
    },
    {
     "name": "stderr",
     "output_type": "stream",
     "text": [
      "WARNING:root:Loading 4 SNPs with id type 'rsid' for chromosome 22, 487409 people\n",
      "WARNING:root:\n",
      "Found variants: 4/4\n",
      " Not found: 0/4.\n",
      " Percent found 100%\n"
     ]
    },
    {
     "name": "stdout",
     "output_type": "stream",
     "text": [
      "reading -- time=0:00:00.00, thread 1 of 4, part 1 of 1\n"
     ]
    },
    {
     "ename": "TypeError",
     "evalue": "'<=' not supported between instances of 'int' and 'str'",
     "output_type": "error",
     "traceback": [
      "\u001b[0;31m---------------------------------------------------------------------------\u001b[0m",
      "\u001b[0;31mTypeError\u001b[0m                                 Traceback (most recent call last)",
      "\u001b[0;32m<ipython-input-29-d12dc2e6ac7d>\u001b[0m in \u001b[0;36m<module>\u001b[0;34m\u001b[0m\n\u001b[1;32m      1\u001b[0m \u001b[0mtest_variants_mixed\u001b[0m \u001b[0;34m=\u001b[0m \u001b[0mtest_variants_id_type\u001b[0m \u001b[0;34m+\u001b[0m \u001b[0mtest_variants_rsid_type\u001b[0m\u001b[0;34m\u001b[0m\u001b[0;34m\u001b[0m\u001b[0m\n\u001b[0;32m----> 2\u001b[0;31m \u001b[0mtest_variants_mixed_genos\u001b[0m \u001b[0;34m=\u001b[0m \u001b[0mtest_bgen_file_class_instance\u001b[0m\u001b[0;34m.\u001b[0m\u001b[0mget_geno_each_sample\u001b[0m\u001b[0;34m(\u001b[0m\u001b[0mrsid_dict\u001b[0m\u001b[0;34m=\u001b[0m \u001b[0;34m{\u001b[0m\u001b[0;36m22\u001b[0m\u001b[0;34m:\u001b[0m \u001b[0mtest_variants_mixed\u001b[0m\u001b[0;34m}\u001b[0m\u001b[0;34m)\u001b[0m\u001b[0;34m\u001b[0m\u001b[0;34m\u001b[0m\u001b[0m\n\u001b[0m",
      "\u001b[0;32m<ipython-input-24-54767488a40e>\u001b[0m in \u001b[0;36mget_geno_each_sample\u001b[0;34m(self, rsid_dict, id_col_list, batch_size, excluded_sample_ids)\u001b[0m\n\u001b[1;32m    242\u001b[0m             \u001b[0mnot_found_variants_dict\u001b[0m\u001b[0;34m[\u001b[0m\u001b[0mchrom\u001b[0m\u001b[0;34m]\u001b[0m\u001b[0;34m.\u001b[0m\u001b[0mappend\u001b[0m\u001b[0;34m(\u001b[0m\u001b[0mnot_found_variants_specific_chrom\u001b[0m\u001b[0;34m)\u001b[0m\u001b[0;34m\u001b[0m\u001b[0;34m\u001b[0m\u001b[0m\n\u001b[1;32m    243\u001b[0m \u001b[0;34m\u001b[0m\u001b[0m\n\u001b[0;32m--> 244\u001b[0;31m             \u001b[0mids_list\u001b[0m \u001b[0;34m=\u001b[0m \u001b[0;34m[\u001b[0m\u001b[0mid_str\u001b[0m \u001b[0;32mfor\u001b[0m \u001b[0mid_str\u001b[0m \u001b[0;32min\u001b[0m \u001b[0;34m(\u001b[0m\u001b[0mset\u001b[0m\u001b[0;34m(\u001b[0m\u001b[0mchrom_specific_variant_ids\u001b[0m\u001b[0;34m)\u001b[0m \u001b[0;34m-\u001b[0m \u001b[0mset\u001b[0m\u001b[0;34m(\u001b[0m\u001b[0mrsids_list\u001b[0m\u001b[0;34m)\u001b[0m\u001b[0;34m)\u001b[0m \u001b[0;32mif\u001b[0m \u001b[0mself\u001b[0m\u001b[0;34m.\u001b[0m\u001b[0mcheck_if_id\u001b[0m\u001b[0;34m(\u001b[0m\u001b[0mid_str\u001b[0m\u001b[0;34m)\u001b[0m\u001b[0;34m]\u001b[0m\u001b[0;34m\u001b[0m\u001b[0;34m\u001b[0m\u001b[0m\n\u001b[0m\u001b[1;32m    245\u001b[0m             all_samples_df_specific_chrom, all_geno_df_specific_chrom = self.get_geno_matrix_specific_chrom(chrom = chrom,\n\u001b[1;32m    246\u001b[0m                                                                                                             \u001b[0mchrom_specific_variant_ids\u001b[0m\u001b[0;34m=\u001b[0m \u001b[0mids_list\u001b[0m\u001b[0;34m,\u001b[0m\u001b[0;34m\u001b[0m\u001b[0;34m\u001b[0m\u001b[0m\n",
      "\u001b[0;32m<ipython-input-24-54767488a40e>\u001b[0m in \u001b[0;36m<listcomp>\u001b[0;34m(.0)\u001b[0m\n\u001b[1;32m    242\u001b[0m             \u001b[0mnot_found_variants_dict\u001b[0m\u001b[0;34m[\u001b[0m\u001b[0mchrom\u001b[0m\u001b[0;34m]\u001b[0m\u001b[0;34m.\u001b[0m\u001b[0mappend\u001b[0m\u001b[0;34m(\u001b[0m\u001b[0mnot_found_variants_specific_chrom\u001b[0m\u001b[0;34m)\u001b[0m\u001b[0;34m\u001b[0m\u001b[0;34m\u001b[0m\u001b[0m\n\u001b[1;32m    243\u001b[0m \u001b[0;34m\u001b[0m\u001b[0m\n\u001b[0;32m--> 244\u001b[0;31m             \u001b[0mids_list\u001b[0m \u001b[0;34m=\u001b[0m \u001b[0;34m[\u001b[0m\u001b[0mid_str\u001b[0m \u001b[0;32mfor\u001b[0m \u001b[0mid_str\u001b[0m \u001b[0;32min\u001b[0m \u001b[0;34m(\u001b[0m\u001b[0mset\u001b[0m\u001b[0;34m(\u001b[0m\u001b[0mchrom_specific_variant_ids\u001b[0m\u001b[0;34m)\u001b[0m \u001b[0;34m-\u001b[0m \u001b[0mset\u001b[0m\u001b[0;34m(\u001b[0m\u001b[0mrsids_list\u001b[0m\u001b[0;34m)\u001b[0m\u001b[0;34m)\u001b[0m \u001b[0;32mif\u001b[0m \u001b[0mself\u001b[0m\u001b[0;34m.\u001b[0m\u001b[0mcheck_if_id\u001b[0m\u001b[0;34m(\u001b[0m\u001b[0mid_str\u001b[0m\u001b[0;34m)\u001b[0m\u001b[0;34m]\u001b[0m\u001b[0;34m\u001b[0m\u001b[0;34m\u001b[0m\u001b[0m\n\u001b[0m\u001b[1;32m    245\u001b[0m             all_samples_df_specific_chrom, all_geno_df_specific_chrom = self.get_geno_matrix_specific_chrom(chrom = chrom,\n\u001b[1;32m    246\u001b[0m                                                                                                             \u001b[0mchrom_specific_variant_ids\u001b[0m\u001b[0;34m=\u001b[0m \u001b[0mids_list\u001b[0m\u001b[0;34m,\u001b[0m\u001b[0;34m\u001b[0m\u001b[0;34m\u001b[0m\u001b[0m\n",
      "\u001b[0;32m<ipython-input-24-54767488a40e>\u001b[0m in \u001b[0;36mcheck_if_id\u001b[0;34m(self, variant_string)\u001b[0m\n\u001b[1;32m    266\u001b[0m     \u001b[0;32mdef\u001b[0m \u001b[0mcheck_if_id\u001b[0m\u001b[0;34m(\u001b[0m\u001b[0mself\u001b[0m\u001b[0;34m,\u001b[0m \u001b[0mvariant_string\u001b[0m\u001b[0;34m)\u001b[0m\u001b[0;34m:\u001b[0m\u001b[0;34m\u001b[0m\u001b[0;34m\u001b[0m\u001b[0m\n\u001b[1;32m    267\u001b[0m         \u001b[0mchrom\u001b[0m\u001b[0;34m,\u001b[0m \u001b[0mrest\u001b[0m \u001b[0;34m=\u001b[0m \u001b[0mvariant_string\u001b[0m\u001b[0;34m.\u001b[0m\u001b[0msplit\u001b[0m\u001b[0;34m(\u001b[0m\u001b[0;34m\":\"\u001b[0m\u001b[0;34m)\u001b[0m\u001b[0;34m\u001b[0m\u001b[0;34m\u001b[0m\u001b[0m\n\u001b[0;32m--> 268\u001b[0;31m         \u001b[0;32mif\u001b[0m \u001b[0;36m1\u001b[0m \u001b[0;34m<=\u001b[0m \u001b[0mchrom\u001b[0m \u001b[0;34m<=\u001b[0m \u001b[0;36m22\u001b[0m \u001b[0;32mand\u001b[0m \u001b[0mlen\u001b[0m\u001b[0;34m(\u001b[0m\u001b[0mrest\u001b[0m\u001b[0;34m.\u001b[0m\u001b[0msplit\u001b[0m\u001b[0;34m(\u001b[0m\u001b[0;34m\"_\"\u001b[0m\u001b[0;34m)\u001b[0m\u001b[0;34m)\u001b[0m \u001b[0;34m==\u001b[0m \u001b[0;36m3\u001b[0m\u001b[0;34m:\u001b[0m\u001b[0;34m\u001b[0m\u001b[0;34m\u001b[0m\u001b[0m\n\u001b[0m\u001b[1;32m    269\u001b[0m             \u001b[0;32mreturn\u001b[0m \u001b[0;32mTrue\u001b[0m\u001b[0;34m\u001b[0m\u001b[0;34m\u001b[0m\u001b[0m\n\u001b[1;32m    270\u001b[0m         \u001b[0;32melse\u001b[0m\u001b[0;34m:\u001b[0m\u001b[0;34m\u001b[0m\u001b[0;34m\u001b[0m\u001b[0m\n",
      "\u001b[0;31mTypeError\u001b[0m: '<=' not supported between instances of 'int' and 'str'"
     ]
    }
   ],
   "source": [
    "test_variants_mixed = test_variants_id_type + test_variants_rsid_type\n",
    "test_variants_mixed_genos = test_bgen_file_class_instance.get_geno_each_sample(rsid_dict= {22: test_variants_mixed})\n"
   ]
  },
  {
   "cell_type": "code",
   "execution_count": null,
   "id": "d8a4e72b-7dbb-4411-8d39-3abc9af48663",
   "metadata": {},
   "outputs": [
    {
     "name": "stdout",
     "output_type": "stream",
     "text": [
      "['rs1014626', 'rs10853845', 'rs4560284', 'rs79963419', 'rs2331964', 'rs183032559', 'rs134490', 'rs202193982', 'rs77948203', 'rs5762201', 'rs201338837', 'rs4821519', 'rs2253675', 'rs5756405', 'rs9610458', 'rs1003500', 'rs145985218', 'rs229502', 'rs1004237']\n",
      "19\n"
     ]
    }
   ],
   "source": [
    "test_variants_big = \\\n",
    "list(set([\"rs10853845\",\n",
    "\"rs2253675\",\n",
    "\"rs2331964\",\n",
    "\"rs10853845\",\n",
    "\"rs10853845\",\n",
    "\"rs10853845\",\n",
    "\"rs134490\",\n",
    "\"rs134490\",\n",
    "\"rs4560284\",\n",
    "\"rs134490\",\n",
    "\"rs5756405\",\n",
    "\"rs9610458\",\n",
    "\"rs134490\",\n",
    "\"rs5756405\",\n",
    "\"rs9610458\",\n",
    "\"rs201338837\",\n",
    "\"rs201338837\",\n",
    "\"rs201338837\",\n",
    "\"rs229502\",\n",
    "\"rs183032559\",\n",
    "\"rs79963419\",\n",
    "\"rs145985218\",\n",
    "\"rs202193982\",\n",
    "\"rs201338837\",\n",
    "\"rs1004237\",\n",
    "\"rs1003500\",\n",
    "\"rs1014626\",\n",
    "\"rs5762201\",\n",
    "\"rs4821519\",\n",
    "\"rs77948203\",]))\n",
    "print(test_variants_big)\n",
    "print(len(test_variants_big))"
   ]
  },
  {
   "cell_type": "code",
   "execution_count": null,
   "id": "5bfb8dce-8b0b-4411-9964-5101b21b6119",
   "metadata": {},
   "outputs": [
    {
     "name": "stdout",
     "output_type": "stream",
     "text": [
      "['rs1014626' 'rs79963419' 'rs183032559' 'rs134490' 'rs202193982'\n",
      " 'rs77948203' 'rs5762201' 'rs4821519' 'rs5756405' 'rs9610458' 'rs1003500'\n",
      " 'rs229502' 'rs1004237']\n",
      "13\n"
     ]
    }
   ],
   "source": [
    "test_variants_index_big = test_bgen_file_chrom_22.get_variant_index(test_variants_big)\n",
    "test_all_rsids_single_chrom = test_bgen_file_chrom_22.rsids\n",
    "test_confirmed_variants_bool_mask = (test_all_rsids_single_chrom[test_variants_index_big]) == np.array(test_variants_big)\n",
    "test_confirmed_variants = np.array(test_variants_big)[test_confirmed_variants_bool_mask]\n",
    "print(test_confirmed_variants)\n",
    "print(len(test_confirmed_variants))"
   ]
  },
  {
   "cell_type": "code",
   "execution_count": null,
   "id": "d3c5d68f-3158-4ee5-a300-74151c715b3e",
   "metadata": {},
   "outputs": [
    {
     "name": "stderr",
     "output_type": "stream",
     "text": [
      "WARNING:root:Initialize dictionary of genetic files for 1 chromosomes, this might take a while\n"
     ]
    },
    {
     "name": "stdout",
     "output_type": "stream",
     "text": [
      "Loading chromosome 22\n"
     ]
    },
    {
     "name": "stderr",
     "output_type": "stream",
     "text": [
      "WARNING:root:Loading 1 SNPs for chromosome 22, 487409 people\n",
      "WARNING:root:\n",
      "Found variants: 1/1\n",
      " Not found: 0/1.\n",
      " Percent found 100%\n"
     ]
    },
    {
     "name": "stdout",
     "output_type": "stream",
     "text": [
      "reading -- time=0:00:00.00, thread 1 of 1, part 1 of 1\n"
     ]
    },
    {
     "name": "stderr",
     "output_type": "stream",
     "text": [
      "WARNING:root:Loading 1 SNPs for chromosome 22, 487409 people\n",
      "WARNING:root:\n",
      "Found variants: 1/1\n",
      " Not found: 0/1.\n",
      " Percent found 100%\n"
     ]
    },
    {
     "name": "stdout",
     "output_type": "stream",
     "text": [
      "reading -- time=0:00:00.00, thread 1 of 1, part 1 of 1\n"
     ]
    },
    {
     "name": "stderr",
     "output_type": "stream",
     "text": [
      "WARNING:root:Loading 1 SNPs for chromosome 22, 487409 people\n",
      "WARNING:root:\n",
      "Found variants: 1/1\n",
      " Not found: 0/1.\n",
      " Percent found 100%\n"
     ]
    },
    {
     "name": "stdout",
     "output_type": "stream",
     "text": [
      "reading -- time=0:00:00.00, thread 1 of 1, part 1 of 1\n"
     ]
    },
    {
     "name": "stderr",
     "output_type": "stream",
     "text": [
      "WARNING:root:Loading 1 SNPs for chromosome 22, 487409 people\n",
      "WARNING:root:\n",
      "Found variants: 1/1\n",
      " Not found: 0/1.\n",
      " Percent found 100%\n"
     ]
    },
    {
     "name": "stdout",
     "output_type": "stream",
     "text": [
      "reading -- time=0:00:00.00, thread 1 of 1, part 1 of 1\n"
     ]
    },
    {
     "name": "stderr",
     "output_type": "stream",
     "text": [
      "WARNING:root:Loading 1 SNPs for chromosome 22, 487409 people\n",
      "WARNING:root:\n",
      "Found variants: 1/1\n",
      " Not found: 0/1.\n",
      " Percent found 100%\n"
     ]
    },
    {
     "name": "stdout",
     "output_type": "stream",
     "text": [
      "reading -- time=0:00:00.00, thread 1 of 1, part 1 of 1\n"
     ]
    },
    {
     "name": "stderr",
     "output_type": "stream",
     "text": [
      "WARNING:root:Loading 1 SNPs for chromosome 22, 487409 people\n",
      "WARNING:root:\n",
      "Found variants: 1/1\n",
      " Not found: 0/1.\n",
      " Percent found 100%\n"
     ]
    },
    {
     "name": "stdout",
     "output_type": "stream",
     "text": [
      "reading -- time=0:00:00.00, thread 1 of 1, part 1 of 1\n"
     ]
    },
    {
     "name": "stderr",
     "output_type": "stream",
     "text": [
      "WARNING:root:Loading 1 SNPs for chromosome 22, 487409 people\n",
      "WARNING:root:\n",
      "Found variants: 1/1\n",
      " Not found: 0/1.\n",
      " Percent found 100%\n"
     ]
    },
    {
     "name": "stdout",
     "output_type": "stream",
     "text": [
      "reading -- time=0:00:00.00, thread 1 of 1, part 1 of 1\n"
     ]
    },
    {
     "name": "stderr",
     "output_type": "stream",
     "text": [
      "WARNING:root:Loading 1 SNPs for chromosome 22, 487409 people\n",
      "WARNING:root:\n",
      "Found variants: 1/1\n",
      " Not found: 0/1.\n",
      " Percent found 100%\n"
     ]
    },
    {
     "name": "stdout",
     "output_type": "stream",
     "text": [
      "reading -- time=0:00:00.00, thread 1 of 1, part 1 of 1\n",
      "21.6 s ± 182 ms per loop (mean ± std. dev. of 7 runs, 1 loop each)\n"
     ]
    }
   ],
   "source": [
    "\n",
    "%timeit test_genos = test_bgen_file_class_instance.get_geno_each_sample(rsid_dict = {22: [test_variants[0]]})"
   ]
  },
  {
   "cell_type": "code",
   "execution_count": null,
   "id": "b96d33af-985d-4aaa-af40-ccb4dffa9e1f",
   "metadata": {},
   "outputs": [
    {
     "name": "stderr",
     "output_type": "stream",
     "text": [
      "WARNING:root:Initialize dictionary of genetic files for 1 chromosomes, this might take a while\n"
     ]
    },
    {
     "name": "stdout",
     "output_type": "stream",
     "text": [
      "Loading chromosome 22\n"
     ]
    },
    {
     "name": "stderr",
     "output_type": "stream",
     "text": [
      "WARNING:root:Loading 19 SNPs for chromosome 22, 487409 people\n",
      "WARNING:root:\n",
      "Found variants: 13/19\n",
      " Not found: 6/19.\n",
      " Percent found 68%\n"
     ]
    },
    {
     "name": "stdout",
     "output_type": "stream",
     "text": [
      "reading -- time=0:00:00.00, thread 1 of 13, part 1 of 1\n"
     ]
    }
   ],
   "source": [
    "test_genos = test_bgen_file_class_instance.get_geno_each_sample(rsid_dict = {22: test_variants_big})"
   ]
  },
  {
   "cell_type": "code",
   "execution_count": null,
   "id": "af49543b-88bf-42b4-b946-cf27295787b3",
   "metadata": {},
   "outputs": [
    {
     "data": {
      "text/plain": [
       "(          rs1004237 rs134490 rs1014626 rs77948203 rs4821519 rs202193982  \\\n",
       " sample_id                                                                 \n",
       " 5542886          CC       TT        TT         GG        GG          GG   \n",
       " 5137974          CC       TT        TT         GG        GG          GG   \n",
       " 3758348          CC       TT        TT         GG        GG          GG   \n",
       " 1391800          CC       CT        TT         GG        GG          GG   \n",
       " 3165331          CC       TT        TT         GG        GG          GG   \n",
       " ...             ...      ...       ...        ...       ...         ...   \n",
       " 5512806          CC       CT        TT         AA        GG          GG   \n",
       " 5548469          CC       TT        TT         GG        GG          GG   \n",
       " 2956972          CC       TT        TT         GG        GG          GG   \n",
       " 5229561          CC       TT        TT         AG        GG          GG   \n",
       " 3665101          CC       TT        TT         GG        GG          GG   \n",
       " \n",
       "           rs79963419 rs1003500 rs5762201 rs183032559 rs5756405 rs229502  \\\n",
       " sample_id                                                                 \n",
       " 5542886           GG        CC        GG          TT        AA       CC   \n",
       " 5137974           GG        CC        GG          TT        AG       CC   \n",
       " 3758348           GG        CC        GG          TT        GG       CC   \n",
       " 1391800           GG        CC        GG          TT        AG       CC   \n",
       " 3165331           GG        CC        GG          TT        AA       CC   \n",
       " ...              ...       ...       ...         ...       ...      ...   \n",
       " 5512806           GG        CC        GG          TT        AA       CC   \n",
       " 5548469           GG        CC        GG          TT        AG       CC   \n",
       " 2956972           GG        CC        GG          TT        GG       CC   \n",
       " 5229561           GG        CC        GG          TT        GG       CC   \n",
       " 3665101           GG        CC        GG          TT        AG       CC   \n",
       " \n",
       "           rs9610458  \n",
       " sample_id            \n",
       " 5542886          TT  \n",
       " 5137974          CC  \n",
       " 3758348          CT  \n",
       " 1391800          TT  \n",
       " 3165331          CT  \n",
       " ...             ...  \n",
       " 5512806          CT  \n",
       " 5548469          CC  \n",
       " 2956972          CT  \n",
       " 5229561          CT  \n",
       " 3665101          TT  \n",
       " \n",
       " [487409 rows x 13 columns],             alleleA alleleB  AA    AB      BB\n",
       " id_col                                       \n",
       " rs1004237         C       T  CC    CT      TT\n",
       " rs134490          C       T  CC    CT      TT\n",
       " rs1014626         C       T  CC    CT      TT\n",
       " rs77948203        G       A  GG    AG      AA\n",
       " rs4821519         G       C  GG    CG      CC\n",
       " rs202193982       G     GCT  GG  GGCT  GCTGCT\n",
       " rs79963419        G       C  GG    CG      CC\n",
       " rs1003500         C       T  CC    CT      TT\n",
       " rs5762201         A       G  AA    AG      GG\n",
       " rs183032559       T       G  TT    GT      GG\n",
       " rs5756405         A       G  AA    AG      GG\n",
       " rs229502          T       C  TT    CT      CC\n",
       " rs9610458         C       T  CC    CT      TT)"
      ]
     },
     "execution_count": null,
     "metadata": {},
     "output_type": "execute_result"
    }
   ],
   "source": [
    "test_genos#[22]#.shape"
   ]
  },
  {
   "cell_type": "code",
   "execution_count": null,
   "id": "5d10588d-2d71-499d-b097-01edd8360025",
   "metadata": {},
   "outputs": [
    {
     "data": {
      "text/html": [
       "<div>\n",
       "<style scoped>\n",
       "    .dataframe tbody tr th:only-of-type {\n",
       "        vertical-align: middle;\n",
       "    }\n",
       "\n",
       "    .dataframe tbody tr th {\n",
       "        vertical-align: top;\n",
       "    }\n",
       "\n",
       "    .dataframe thead th {\n",
       "        text-align: right;\n",
       "    }\n",
       "</style>\n",
       "<table border=\"1\" class=\"dataframe\">\n",
       "  <thead>\n",
       "    <tr style=\"text-align: right;\">\n",
       "      <th></th>\n",
       "      <th>alleleA</th>\n",
       "      <th>alleleB</th>\n",
       "      <th>AA</th>\n",
       "      <th>AB</th>\n",
       "      <th>BB</th>\n",
       "    </tr>\n",
       "    <tr>\n",
       "      <th>id_col</th>\n",
       "      <th></th>\n",
       "      <th></th>\n",
       "      <th></th>\n",
       "      <th></th>\n",
       "      <th></th>\n",
       "    </tr>\n",
       "  </thead>\n",
       "  <tbody>\n",
       "    <tr>\n",
       "      <th>rs77948203</th>\n",
       "      <td>G</td>\n",
       "      <td>A</td>\n",
       "      <td>GG</td>\n",
       "      <td>AG</td>\n",
       "      <td>AA</td>\n",
       "    </tr>\n",
       "    <tr>\n",
       "      <th>rs9610458</th>\n",
       "      <td>C</td>\n",
       "      <td>T</td>\n",
       "      <td>CC</td>\n",
       "      <td>CT</td>\n",
       "      <td>TT</td>\n",
       "    </tr>\n",
       "    <tr>\n",
       "      <th>rs134490</th>\n",
       "      <td>C</td>\n",
       "      <td>T</td>\n",
       "      <td>CC</td>\n",
       "      <td>CT</td>\n",
       "      <td>TT</td>\n",
       "    </tr>\n",
       "    <tr>\n",
       "      <th>rs5756405</th>\n",
       "      <td>A</td>\n",
       "      <td>G</td>\n",
       "      <td>AA</td>\n",
       "      <td>AG</td>\n",
       "      <td>GG</td>\n",
       "    </tr>\n",
       "  </tbody>\n",
       "</table>\n",
       "</div>"
      ],
      "text/plain": [
       "           alleleA alleleB  AA  AB  BB\n",
       "id_col                                \n",
       "rs77948203       G       A  GG  AG  AA\n",
       "rs9610458        C       T  CC  CT  TT\n",
       "rs134490         C       T  CC  CT  TT\n",
       "rs5756405        A       G  AA  AG  GG"
      ]
     },
     "execution_count": null,
     "metadata": {},
     "output_type": "execute_result"
    }
   ],
   "source": [
    "all_geno_df = pd.DataFrame({\"id_col\": test_variants , \"raw_alleles\":test.bgen_reader_obj.allele_ids[test_variant_index]}).set_index(\"id_col\")\n",
    "all_geno_df[[\"alleleA\", \"alleleB\"]] = all_geno_df[\"raw_alleles\"].str.split(\",\", expand = True)\n",
    "all_geno_df = get_possible_geno_combinations(all_geno_df, allele_1_col=\"alleleA\", allele_2_col= \"alleleB\")\n",
    "all_geno_df"
   ]
  },
  {
   "cell_type": "code",
   "execution_count": null,
   "id": "37d63e39-dda1-4a2a-b84d-5ab93c899c6f",
   "metadata": {},
   "outputs": [
    {
     "data": {
      "text/plain": [
       "array([['GG', 'TT', 'TT', 'AA'],\n",
       "       ['GG', 'CC', 'TT', 'AG'],\n",
       "       ['GG', 'CT', 'TT', 'GG'],\n",
       "       ...,\n",
       "       ['GG', 'CT', 'TT', 'GG'],\n",
       "       ['AG', 'CT', 'TT', 'GG'],\n",
       "       ['GG', 'TT', 'TT', 'AG']], dtype=object)"
      ]
     },
     "execution_count": null,
     "metadata": {},
     "output_type": "execute_result"
    }
   ],
   "source": [
    "test_genos_str = np.select([test_genos[22] == 0, test_genos[22] ==1, test_genos[22] == 2], choicelist=[all_geno_df[\"AA\"], all_geno_df[\"AB\"], all_geno_df[\"BB\"]], default = np.nan)\n",
    "test_genos_str"
   ]
  },
  {
   "cell_type": "code",
   "execution_count": null,
   "id": "5f5dae03-7ba7-4f15-a020-7e4ab7a2cd9f",
   "metadata": {},
   "outputs": [
    {
     "data": {
      "text/html": [
       "<div>\n",
       "<style scoped>\n",
       "    .dataframe tbody tr th:only-of-type {\n",
       "        vertical-align: middle;\n",
       "    }\n",
       "\n",
       "    .dataframe tbody tr th {\n",
       "        vertical-align: top;\n",
       "    }\n",
       "\n",
       "    .dataframe thead th {\n",
       "        text-align: right;\n",
       "    }\n",
       "</style>\n",
       "<table border=\"1\" class=\"dataframe\">\n",
       "  <thead>\n",
       "    <tr style=\"text-align: right;\">\n",
       "      <th></th>\n",
       "      <th>rs77948203</th>\n",
       "      <th>rs9610458</th>\n",
       "      <th>rs134490</th>\n",
       "      <th>rs5756405</th>\n",
       "    </tr>\n",
       "  </thead>\n",
       "  <tbody>\n",
       "    <tr>\n",
       "      <th>5542886</th>\n",
       "      <td>GG</td>\n",
       "      <td>TT</td>\n",
       "      <td>TT</td>\n",
       "      <td>AA</td>\n",
       "    </tr>\n",
       "    <tr>\n",
       "      <th>5137974</th>\n",
       "      <td>GG</td>\n",
       "      <td>CC</td>\n",
       "      <td>TT</td>\n",
       "      <td>AG</td>\n",
       "    </tr>\n",
       "    <tr>\n",
       "      <th>3758348</th>\n",
       "      <td>GG</td>\n",
       "      <td>CT</td>\n",
       "      <td>TT</td>\n",
       "      <td>GG</td>\n",
       "    </tr>\n",
       "    <tr>\n",
       "      <th>1391800</th>\n",
       "      <td>GG</td>\n",
       "      <td>TT</td>\n",
       "      <td>CT</td>\n",
       "      <td>AG</td>\n",
       "    </tr>\n",
       "    <tr>\n",
       "      <th>3165331</th>\n",
       "      <td>GG</td>\n",
       "      <td>CT</td>\n",
       "      <td>TT</td>\n",
       "      <td>AA</td>\n",
       "    </tr>\n",
       "    <tr>\n",
       "      <th>...</th>\n",
       "      <td>...</td>\n",
       "      <td>...</td>\n",
       "      <td>...</td>\n",
       "      <td>...</td>\n",
       "    </tr>\n",
       "    <tr>\n",
       "      <th>5512806</th>\n",
       "      <td>AA</td>\n",
       "      <td>CT</td>\n",
       "      <td>CT</td>\n",
       "      <td>AA</td>\n",
       "    </tr>\n",
       "    <tr>\n",
       "      <th>5548469</th>\n",
       "      <td>GG</td>\n",
       "      <td>CC</td>\n",
       "      <td>TT</td>\n",
       "      <td>AG</td>\n",
       "    </tr>\n",
       "    <tr>\n",
       "      <th>2956972</th>\n",
       "      <td>GG</td>\n",
       "      <td>CT</td>\n",
       "      <td>TT</td>\n",
       "      <td>GG</td>\n",
       "    </tr>\n",
       "    <tr>\n",
       "      <th>5229561</th>\n",
       "      <td>AG</td>\n",
       "      <td>CT</td>\n",
       "      <td>TT</td>\n",
       "      <td>GG</td>\n",
       "    </tr>\n",
       "    <tr>\n",
       "      <th>3665101</th>\n",
       "      <td>GG</td>\n",
       "      <td>TT</td>\n",
       "      <td>TT</td>\n",
       "      <td>AG</td>\n",
       "    </tr>\n",
       "  </tbody>\n",
       "</table>\n",
       "<p>487409 rows × 4 columns</p>\n",
       "</div>"
      ],
      "text/plain": [
       "        rs77948203 rs9610458 rs134490 rs5756405\n",
       "5542886         GG        TT       TT        AA\n",
       "5137974         GG        CC       TT        AG\n",
       "3758348         GG        CT       TT        GG\n",
       "1391800         GG        TT       CT        AG\n",
       "3165331         GG        CT       TT        AA\n",
       "...            ...       ...      ...       ...\n",
       "5512806         AA        CT       CT        AA\n",
       "5548469         GG        CC       TT        AG\n",
       "2956972         GG        CT       TT        GG\n",
       "5229561         AG        CT       TT        GG\n",
       "3665101         GG        TT       TT        AG\n",
       "\n",
       "[487409 rows x 4 columns]"
      ]
     },
     "execution_count": null,
     "metadata": {},
     "output_type": "execute_result"
    }
   ],
   "source": [
    "all_samples_df = pd.DataFrame(test_genos_str, columns = test_variants, index = test.samples)\n",
    "all_samples_df"
   ]
  },
  {
   "cell_type": "code",
   "execution_count": null,
   "id": "5a0c136d-87d7-472a-8a43-01fe6122fe44",
   "metadata": {},
   "outputs": [
    {
     "data": {
      "text/plain": [
       "(487409, 4)"
      ]
     },
     "execution_count": null,
     "metadata": {},
     "output_type": "execute_result"
    }
   ],
   "source": [
    "test_genos_str.shape"
   ]
  },
  {
   "cell_type": "markdown",
   "id": "af11293d-cac6-451f-a9b2-e5adcf40ceb1",
   "metadata": {},
   "source": [
    "---"
   ]
  },
  {
   "cell_type": "markdown",
   "id": "597eb90a-9c25-42c5-b691-6cbc3c6804c0",
   "metadata": {},
   "source": [
    "---"
   ]
  },
  {
   "cell_type": "code",
   "execution_count": null,
   "id": "4629c94a-e349-449c-86f1-9f5f78491e9d",
   "metadata": {},
   "outputs": [
    {
     "data": {
      "text/plain": [
       "Path('/lab/corradin_biobank/Raw_UKB_downloads/BGEN/ukb_imp_chr2_v3.bgen')"
      ]
     },
     "execution_count": null,
     "metadata": {},
     "output_type": "execute_result"
    }
   ],
   "source": [
    "test = test_data_catalog.load(\"genetic_file_bgen\").files.single_file\n",
    "test.get_resolved_file_path(2)"
   ]
  },
  {
   "cell_type": "code",
   "execution_count": null,
   "id": "weighted-pressing",
   "metadata": {},
   "outputs": [
    {
     "name": "stdout",
     "output_type": "stream",
     "text": [
      "Loading chromosome 22\n"
     ]
    }
   ],
   "source": [
    "test_bgen_file_format = test_data_catalog.load(\"genetic_file_bgen\").files.single_file\n",
    "test_bgen_file_obj = test_bgen_file_format.load_one_chrom(chrom=22)"
   ]
  },
  {
   "cell_type": "code",
   "execution_count": null,
   "id": "c13ee551-9f2d-4707-afe4-8913b31fc227",
   "metadata": {},
   "outputs": [
    {
     "data": {
      "text/plain": [
       "array(['5542886', '5137974', '3758348', ..., '2956972', '5229561',\n",
       "       '3665101'], dtype='<U7')"
      ]
     },
     "execution_count": null,
     "metadata": {},
     "output_type": "execute_result"
    }
   ],
   "source": [
    "test_bgen_file_obj.samples"
   ]
  },
  {
   "cell_type": "code",
   "execution_count": null,
   "id": "166f5fc4-f7c1-4c58-8036-3f4c191a70ad",
   "metadata": {},
   "outputs": [
    {
     "data": {
      "text/plain": [
       "{'bgen_reader_obj': <bgen_reader._bgen2.open_bgen at 0x14f7c2053970>,\n",
       " 'samples': array(['5542886', '5137974', '3758348', ..., '2956972', '5229561',\n",
       "        '3665101'], dtype='<U7')}"
      ]
     },
     "execution_count": null,
     "metadata": {},
     "output_type": "execute_result"
    }
   ],
   "source": [
    "vars(test_bgen_file_obj)"
   ]
  },
  {
   "cell_type": "code",
   "execution_count": null,
   "id": "helpful-front",
   "metadata": {},
   "outputs": [],
   "source": [
    "#redo this to rapidly change and reload the BgenFileObject code inside same file\n",
    "test_bgen_file_obj = BgenFileObject(**{key: val for key, val in vars(test_bgen_file_obj).items() if key not in [\"samples\"]})"
   ]
  },
  {
   "cell_type": "code",
   "execution_count": null,
   "id": "pregnant-titanium",
   "metadata": {},
   "outputs": [
    {
     "data": {
      "text/plain": [
       "array([   0,    2, 2000])"
      ]
     },
     "execution_count": null,
     "metadata": {},
     "output_type": "execute_result"
    }
   ],
   "source": [
    "test_bgen_file_obj.get_variant_index(ids = ['22:16050075_A_G', '22:16050213_C_T', '22:16212580_G_A'], id_type= \"id\")"
   ]
  },
  {
   "cell_type": "code",
   "execution_count": null,
   "id": "collaborative-calculator",
   "metadata": {},
   "outputs": [
    {
     "data": {
      "text/plain": [
       "array([      0,       1, 4066772, 4066773])"
      ]
     },
     "execution_count": null,
     "metadata": {},
     "output_type": "execute_result"
    }
   ],
   "source": [
    "variant_index = np.argwhere(np.isin(test_bgen_file_obj.bgen_reader_obj.rsids, ['9:10163_CT_C', '9:10273_AAC_A', '9:141146683_C_G', '9:141148854_G_A'])).reshape(-1,)\n",
    "variant_index"
   ]
  },
  {
   "cell_type": "code",
   "execution_count": null,
   "id": "binding-journalist",
   "metadata": {},
   "outputs": [
    {
     "data": {
      "text/plain": [
       "array([0, 1, 2])"
      ]
     },
     "execution_count": null,
     "metadata": {},
     "output_type": "execute_result"
    }
   ],
   "source": [
    "sample_index = np.argwhere(np.isin(test_bgen_file_obj.samples.values, ['5542886', '5137974', '3758348'])).reshape(-1,)\n",
    "sample_index"
   ]
  },
  {
   "cell_type": "code",
   "execution_count": null,
   "id": "secondary-consolidation",
   "metadata": {},
   "outputs": [
    {
     "name": "stdout",
     "output_type": "stream",
     "text": [
      "reading -- time=0:00:00.00, thread 1 of 4, part 1 of 1\n"
     ]
    },
    {
     "data": {
      "text/plain": [
       "array([[[1.        , 0.        , 0.        ],\n",
       "        [1.        , 0.        , 0.        ],\n",
       "        [0.97647059, 0.02352941, 0.        ],\n",
       "        [1.        , 0.        , 0.        ]],\n",
       "\n",
       "       [[1.        , 0.        , 0.        ],\n",
       "        [1.        , 0.        , 0.        ],\n",
       "        [0.98039216, 0.01960784, 0.        ],\n",
       "        [1.        , 0.        , 0.        ]],\n",
       "\n",
       "       [[1.        , 0.        , 0.        ],\n",
       "        [1.        , 0.        , 0.        ],\n",
       "        [0.30588235, 0.69411765, 0.        ],\n",
       "        [1.        , 0.        , 0.        ]]])"
      ]
     },
     "execution_count": null,
     "metadata": {},
     "output_type": "execute_result"
    }
   ],
   "source": [
    "test_probs = test_bgen_file_obj.get_probs(sample_ids = ['5542886', '5137974', '3758348'], \n",
    "                                          rsids = ['9:10163_CT_C', '9:10273_AAC_A', '9:141146683_C_G', '9:141148854_G_A'])\n",
    "test_probs"
   ]
  },
  {
   "cell_type": "code",
   "execution_count": null,
   "id": "local-details",
   "metadata": {},
   "outputs": [
    {
     "name": "stdout",
     "output_type": "stream",
     "text": [
      "reading -- time=0:15:52.81, thread 1 of 48, part 20,834 of 20,834\n"
     ]
    }
   ],
   "source": [
    "test_probs = test_bgen_file_obj.get_probs(sample_ids =['5542886'] , rsids = test_bgen_file_obj.bgen_reader_obj.rsids[:1_000_000])"
   ]
  },
  {
   "cell_type": "code",
   "execution_count": null,
   "id": "hollow-nitrogen",
   "metadata": {},
   "outputs": [
    {
     "data": {
      "text/plain": [
       "288"
      ]
     },
     "execution_count": null,
     "metadata": {},
     "output_type": "execute_result"
    }
   ],
   "source": [
    "test_probs.nbytes"
   ]
  },
  {
   "cell_type": "code",
   "execution_count": null,
   "id": "increased-module",
   "metadata": {},
   "outputs": [
    {
     "data": {
      "text/plain": [
       "array([[ 0.,  0.,  0.,  0.],\n",
       "       [ 0.,  0.,  0.,  0.],\n",
       "       [ 0.,  0., nan,  0.]])"
      ]
     },
     "execution_count": null,
     "metadata": {},
     "output_type": "execute_result"
    }
   ],
   "source": [
    "test_geno = test_bgen_file_obj.get_geno_each_sample(test_probs)\n",
    "test_geno"
   ]
  },
  {
   "cell_type": "code",
   "execution_count": null,
   "id": "adverse-jacket",
   "metadata": {},
   "outputs": [
    {
     "data": {
      "text/html": [
       "<div>\n",
       "<style scoped>\n",
       "    .dataframe tbody tr th:only-of-type {\n",
       "        vertical-align: middle;\n",
       "    }\n",
       "\n",
       "    .dataframe tbody tr th {\n",
       "        vertical-align: top;\n",
       "    }\n",
       "\n",
       "    .dataframe thead th {\n",
       "        text-align: right;\n",
       "    }\n",
       "</style>\n",
       "<table border=\"1\" class=\"dataframe\">\n",
       "  <thead>\n",
       "    <tr style=\"text-align: right;\">\n",
       "      <th></th>\n",
       "      <th>allele_1</th>\n",
       "      <th>allele_2</th>\n",
       "    </tr>\n",
       "  </thead>\n",
       "  <tbody>\n",
       "    <tr>\n",
       "      <th>9:10163_CT_C</th>\n",
       "      <td>CT</td>\n",
       "      <td>C</td>\n",
       "    </tr>\n",
       "    <tr>\n",
       "      <th>9:10273_AAC_A</th>\n",
       "      <td>AAC</td>\n",
       "      <td>A</td>\n",
       "    </tr>\n",
       "    <tr>\n",
       "      <th>9:141146683_C_G</th>\n",
       "      <td>C</td>\n",
       "      <td>G</td>\n",
       "    </tr>\n",
       "    <tr>\n",
       "      <th>9:141148854_G_A</th>\n",
       "      <td>G</td>\n",
       "      <td>A</td>\n",
       "    </tr>\n",
       "  </tbody>\n",
       "</table>\n",
       "</div>"
      ],
      "text/plain": [
       "                allele_1 allele_2\n",
       "9:10163_CT_C          CT        C\n",
       "9:10273_AAC_A        AAC        A\n",
       "9:141146683_C_G        C        G\n",
       "9:141148854_G_A        G        A"
      ]
     },
     "execution_count": null,
     "metadata": {},
     "output_type": "execute_result"
    }
   ],
   "source": [
    "test_geno_df = test_bgen_file_obj.get_allele_ids(rsids=['9:10163_CT_C', '9:10273_AAC_A', '9:141146683_C_G', '9:141148854_G_A'])\n",
    "test_geno_df"
   ]
  },
  {
   "cell_type": "code",
   "execution_count": null,
   "id": "designed-store",
   "metadata": {},
   "outputs": [
    {
     "data": {
      "text/html": [
       "<div>\n",
       "<style scoped>\n",
       "    .dataframe tbody tr th:only-of-type {\n",
       "        vertical-align: middle;\n",
       "    }\n",
       "\n",
       "    .dataframe tbody tr th {\n",
       "        vertical-align: top;\n",
       "    }\n",
       "\n",
       "    .dataframe thead th {\n",
       "        text-align: right;\n",
       "    }\n",
       "</style>\n",
       "<table border=\"1\" class=\"dataframe\">\n",
       "  <thead>\n",
       "    <tr style=\"text-align: right;\">\n",
       "      <th></th>\n",
       "      <th>allele_1</th>\n",
       "      <th>allele_2</th>\n",
       "      <th>homo_1</th>\n",
       "      <th>het</th>\n",
       "      <th>homo_2</th>\n",
       "    </tr>\n",
       "  </thead>\n",
       "  <tbody>\n",
       "    <tr>\n",
       "      <th>9:10163_CT_C</th>\n",
       "      <td>CT</td>\n",
       "      <td>C</td>\n",
       "      <td>CT/CT</td>\n",
       "      <td>C/CT</td>\n",
       "      <td>C/C</td>\n",
       "    </tr>\n",
       "    <tr>\n",
       "      <th>9:10273_AAC_A</th>\n",
       "      <td>AAC</td>\n",
       "      <td>A</td>\n",
       "      <td>AAC/AAC</td>\n",
       "      <td>A/AAC</td>\n",
       "      <td>A/A</td>\n",
       "    </tr>\n",
       "    <tr>\n",
       "      <th>9:141146683_C_G</th>\n",
       "      <td>C</td>\n",
       "      <td>G</td>\n",
       "      <td>C/C</td>\n",
       "      <td>C/G</td>\n",
       "      <td>G/G</td>\n",
       "    </tr>\n",
       "    <tr>\n",
       "      <th>9:141148854_G_A</th>\n",
       "      <td>G</td>\n",
       "      <td>A</td>\n",
       "      <td>G/G</td>\n",
       "      <td>A/G</td>\n",
       "      <td>A/A</td>\n",
       "    </tr>\n",
       "  </tbody>\n",
       "</table>\n",
       "</div>"
      ],
      "text/plain": [
       "                allele_1 allele_2   homo_1    het homo_2\n",
       "9:10163_CT_C          CT        C    CT/CT   C/CT    C/C\n",
       "9:10273_AAC_A        AAC        A  AAC/AAC  A/AAC    A/A\n",
       "9:141146683_C_G        C        G      C/C    C/G    G/G\n",
       "9:141148854_G_A        G        A      G/G    A/G    A/A"
      ]
     },
     "execution_count": null,
     "metadata": {},
     "output_type": "execute_result"
    }
   ],
   "source": [
    "test_bgen_file_obj.get_variant_combinations(rsids=['9:10163_CT_C', '9:10273_AAC_A', '9:141146683_C_G', '9:141148854_G_A'])"
   ]
  },
  {
   "cell_type": "code",
   "execution_count": null,
   "id": "weekly-intermediate",
   "metadata": {},
   "outputs": [],
   "source": [
    "test_bgen_file_obj"
   ]
  },
  {
   "cell_type": "code",
   "execution_count": null,
   "id": "dedicated-alberta",
   "metadata": {},
   "outputs": [
    {
     "name": "stderr",
     "output_type": "stream",
     "text": [
      "/lab/corradin_biobank/FOR_AN/OVP/corradin_ovp_utils/.venv/lib/python3.8/site-packages/dask/dataframe/core.py:6558: UserWarning: Insufficient elements for `head`. 5 elements requested, only 0 elements available. Try passing larger `npartitions` to `head`.\n",
      "  warnings.warn(msg.format(n, len(r)))\n"
     ]
    },
    {
     "data": {
      "text/html": [
       "<div>\n",
       "<style scoped>\n",
       "    .dataframe tbody tr th:only-of-type {\n",
       "        vertical-align: middle;\n",
       "    }\n",
       "\n",
       "    .dataframe tbody tr th {\n",
       "        vertical-align: top;\n",
       "    }\n",
       "\n",
       "    .dataframe thead th {\n",
       "        text-align: right;\n",
       "    }\n",
       "</style>\n",
       "<table border=\"1\" class=\"dataframe\">\n",
       "  <thead>\n",
       "    <tr style=\"text-align: right;\">\n",
       "      <th></th>\n",
       "      <th>id</th>\n",
       "      <th>rsid</th>\n",
       "      <th>chrom</th>\n",
       "      <th>pos</th>\n",
       "      <th>nalleles</th>\n",
       "      <th>allele_ids</th>\n",
       "      <th>vaddr</th>\n",
       "    </tr>\n",
       "  </thead>\n",
       "  <tbody>\n",
       "  </tbody>\n",
       "</table>\n",
       "</div>"
      ],
      "text/plain": [
       "Empty DataFrame\n",
       "Columns: [id, rsid, chrom, pos, nalleles, allele_ids, vaddr]\n",
       "Index: []"
      ]
     },
     "execution_count": null,
     "metadata": {},
     "output_type": "execute_result"
    }
   ],
   "source": [
    "test_bgen_file_obj.variants.query(\"nalleles !=2\").head(npartitions = -1)"
   ]
  },
  {
   "cell_type": "code",
   "execution_count": null,
   "id": "meaning-egyptian",
   "metadata": {},
   "outputs": [
    {
     "data": {
      "text/plain": [
       "memmap(['9:10163_CT_C', '9:10273_AAC_A', 'rs535827433', ...,\n",
       "        '9:141146445_T_TA', '9:141146683_C_G', '9:141148854_G_A'],\n",
       "       dtype='<U151')"
      ]
     },
     "execution_count": null,
     "metadata": {},
     "output_type": "execute_result"
    }
   ],
   "source": [
    "test_bgen_file_obj.bgen_reader_obj.rsids"
   ]
  },
  {
   "cell_type": "code",
   "execution_count": null,
   "id": "accomplished-disease",
   "metadata": {},
   "outputs": [
    {
     "name": "stdout",
     "output_type": "stream",
     "text": [
      "reading -- time=0:00:00.00, thread 1 of 4, part 1 of 1\n"
     ]
    },
    {
     "data": {
      "text/plain": [
       "(1, 4, 3)"
      ]
     },
     "execution_count": null,
     "metadata": {},
     "output_type": "execute_result"
    }
   ],
   "source": [
    "test_bgen_file_obj.get_probs(['5542886'], ['9:10163_CT_C', '9:10273_AAC_A', '9:141146683_C_G', '9:141148854_G_A']).shape"
   ]
  },
  {
   "cell_type": "code",
   "execution_count": null,
   "id": "executive-causing",
   "metadata": {},
   "outputs": [
    {
     "name": "stdout",
     "output_type": "stream",
     "text": [
      "reading -- time=0:00:00.00, thread 1 of 4, part 1 of 1\n"
     ]
    },
    {
     "data": {
      "text/plain": [
       "array([[[1.        , 0.        , 0.        ],\n",
       "        [1.        , 0.        , 0.        ],\n",
       "        [0.97647059, 0.02352941, 0.        ],\n",
       "        [1.        , 0.        , 0.        ]],\n",
       "\n",
       "       [[1.        , 0.        , 0.        ],\n",
       "        [1.        , 0.        , 0.        ],\n",
       "        [0.98039216, 0.01960784, 0.        ],\n",
       "        [1.        , 0.        , 0.        ]],\n",
       "\n",
       "       [[0.99215686, 0.00784314, 0.        ],\n",
       "        [1.        , 0.        , 0.        ],\n",
       "        [0.89411765, 0.10588235, 0.        ],\n",
       "        [1.        , 0.        , 0.        ]],\n",
       "\n",
       "       [[1.        , 0.        , 0.        ],\n",
       "        [1.        , 0.        , 0.        ],\n",
       "        [0.85098039, 0.14901961, 0.        ],\n",
       "        [1.        , 0.        , 0.        ]]])"
      ]
     },
     "execution_count": null,
     "metadata": {},
     "output_type": "execute_result"
    }
   ],
   "source": [
    "test_arr = test_bgen_file_obj.get_probs(['5542886', '5137974', \"1391800\"], ['9:10163_CT_C', '9:10273_AAC_A', '9:141146683_C_G', '9:141148854_G_A'])\n",
    "test_arr"
   ]
  },
  {
   "cell_type": "code",
   "execution_count": null,
   "id": "genuine-angle",
   "metadata": {},
   "outputs": [
    {
     "data": {
      "text/plain": [
       "memmap(['CT,C', 'AAC,A', 'T,C', ..., 'T,TA', 'C,G', 'G,A'], dtype='<U414')"
      ]
     },
     "execution_count": null,
     "metadata": {},
     "output_type": "execute_result"
    }
   ],
   "source": [
    "test_bgen_file_obj.bgen_reader_obj.allele_ids"
   ]
  },
  {
   "cell_type": "code",
   "execution_count": null,
   "id": "reported-douglas",
   "metadata": {},
   "outputs": [
    {
     "data": {
      "text/plain": [
       "array(['CT,C', 'AAC,A', 'C,G', 'G,A'], dtype='<U414')"
      ]
     },
     "execution_count": null,
     "metadata": {},
     "output_type": "execute_result"
    }
   ],
   "source": [
    "test_bgen_file_obj.bgen_reader_obj.allele_ids[variant_index]"
   ]
  },
  {
   "cell_type": "code",
   "execution_count": null,
   "id": "sonic-nickel",
   "metadata": {},
   "outputs": [
    {
     "data": {
      "text/html": [
       "<div>\n",
       "<style scoped>\n",
       "    .dataframe tbody tr th:only-of-type {\n",
       "        vertical-align: middle;\n",
       "    }\n",
       "\n",
       "    .dataframe tbody tr th {\n",
       "        vertical-align: top;\n",
       "    }\n",
       "\n",
       "    .dataframe thead th {\n",
       "        text-align: right;\n",
       "    }\n",
       "</style>\n",
       "<table border=\"1\" class=\"dataframe\">\n",
       "  <thead>\n",
       "    <tr style=\"text-align: right;\">\n",
       "      <th></th>\n",
       "      <th>allele_1</th>\n",
       "      <th>allele_2</th>\n",
       "    </tr>\n",
       "  </thead>\n",
       "  <tbody>\n",
       "    <tr>\n",
       "      <th>0</th>\n",
       "      <td>CT</td>\n",
       "      <td>C</td>\n",
       "    </tr>\n",
       "    <tr>\n",
       "      <th>1</th>\n",
       "      <td>AAC</td>\n",
       "      <td>A</td>\n",
       "    </tr>\n",
       "    <tr>\n",
       "      <th>2</th>\n",
       "      <td>C</td>\n",
       "      <td>G</td>\n",
       "    </tr>\n",
       "    <tr>\n",
       "      <th>3</th>\n",
       "      <td>G</td>\n",
       "      <td>A</td>\n",
       "    </tr>\n",
       "  </tbody>\n",
       "</table>\n",
       "</div>"
      ],
      "text/plain": [
       "  allele_1 allele_2\n",
       "0       CT        C\n",
       "1      AAC        A\n",
       "2        C        G\n",
       "3        G        A"
      ]
     },
     "execution_count": null,
     "metadata": {},
     "output_type": "execute_result"
    }
   ],
   "source": [
    "pd.DataFrame([allele_str.split(\",\") for allele_str in test_bgen_file_obj.bgen_reader_obj.allele_ids[variant_index]], columns = [\"allele_1\", \"allele_2\"])"
   ]
  },
  {
   "cell_type": "code",
   "execution_count": null,
   "id": "spiritual-brunei",
   "metadata": {},
   "outputs": [
    {
     "name": "stdout",
     "output_type": "stream",
     "text": [
      "[1. 0. 0.]\n",
      "[1. 0. 0.]\n",
      "[0.97647059 0.02352941 0.        ]\n",
      "[1. 0. 0.]\n",
      "[1. 0. 0.]\n",
      "[1. 0. 0.]\n",
      "[0.98039216 0.01960784 0.        ]\n",
      "[1. 0. 0.]\n"
     ]
    },
    {
     "data": {
      "text/plain": [
       "array([[None, None, None, None],\n",
       "       [None, None, None, None]], dtype=object)"
      ]
     },
     "execution_count": null,
     "metadata": {},
     "output_type": "execute_result"
    }
   ],
   "source": [
    "np.apply_along_axis(lambda x: print(x), 2, test_arr)"
   ]
  },
  {
   "cell_type": "code",
   "execution_count": null,
   "id": "toxic-damages",
   "metadata": {},
   "outputs": [
    {
     "data": {
      "text/plain": [
       "(2, 4)"
      ]
     },
     "execution_count": null,
     "metadata": {},
     "output_type": "execute_result"
    }
   ],
   "source": [
    "np.argmax(test_arr, axis=2).shape"
   ]
  },
  {
   "cell_type": "code",
   "execution_count": null,
   "id": "standing-anniversary",
   "metadata": {},
   "outputs": [
    {
     "data": {
      "text/plain": [
       "array([[0, 0, 0, 0],\n",
       "       [0, 0, 0, 0]])"
      ]
     },
     "execution_count": null,
     "metadata": {},
     "output_type": "execute_result"
    }
   ],
   "source": [
    "np.argmax(test_arr, axis=2)"
   ]
  },
  {
   "cell_type": "code",
   "execution_count": null,
   "id": "dynamic-staff",
   "metadata": {},
   "outputs": [
    {
     "data": {
      "text/plain": [
       "array([[[1., 0., 0.],\n",
       "        [1., 0., 0.],\n",
       "        [1., 0., 0.],\n",
       "        [1., 0., 0.]],\n",
       "\n",
       "       [[1., 0., 0.],\n",
       "        [1., 0., 0.],\n",
       "        [1., 0., 0.],\n",
       "        [1., 0., 0.]]])"
      ]
     },
     "execution_count": null,
     "metadata": {},
     "output_type": "execute_result"
    }
   ],
   "source": [
    "np.identity(3)[np.argmax(test_arr, axis=2)]"
   ]
  },
  {
   "cell_type": "code",
   "execution_count": null,
   "id": "widespread-bleeding",
   "metadata": {},
   "outputs": [
    {
     "data": {
      "text/plain": [
       "array([[0, 0, 0, 0],\n",
       "       [0, 0, 0, 0]])"
      ]
     },
     "execution_count": null,
     "metadata": {},
     "output_type": "execute_result"
    }
   ],
   "source": [
    "np.argmax(test_arr, axis=2)"
   ]
  },
  {
   "cell_type": "code",
   "execution_count": null,
   "id": "reliable-peninsula",
   "metadata": {},
   "outputs": [],
   "source": [
    "np.apply_along_axis(np.argmax)"
   ]
  },
  {
   "cell_type": "code",
   "execution_count": null,
   "id": "undefined-chicago",
   "metadata": {},
   "outputs": [],
   "source": [
    "np.apply_over_axes()"
   ]
  },
  {
   "cell_type": "code",
   "execution_count": null,
   "id": "engaging-europe",
   "metadata": {},
   "outputs": [
    {
     "name": "stdout",
     "output_type": "stream",
     "text": [
      "reading -- time=0:00:00.00, thread 1 of 4, part 1 of 1\n"
     ]
    },
    {
     "data": {
      "text/plain": [
       "array([[1.        , 1.        , 0.97647059, 1.        ],\n",
       "       [1.        , 1.        , 0.98039216, 1.        ]])"
      ]
     },
     "execution_count": null,
     "metadata": {},
     "output_type": "execute_result"
    }
   ],
   "source": [
    "test_bgen_file_obj.get_probs(['5542886', '5137974'], ['9:10163_CT_C', '9:10273_AAC_A', '9:141146683_C_G', '9:141148854_G_A'])[:,:,0]"
   ]
  },
  {
   "cell_type": "code",
   "execution_count": null,
   "id": "steady-swiss",
   "metadata": {},
   "outputs": [],
   "source": [
    "np.apply()"
   ]
  },
  {
   "cell_type": "code",
   "execution_count": null,
   "id": "textile-bradford",
   "metadata": {},
   "outputs": [
    {
     "data": {
      "text/plain": [
       "0         5542886\n",
       "1         5137974\n",
       "2         3758348\n",
       "3         1391800\n",
       "4         3165331\n",
       "           ...   \n",
       "487404    5512806\n",
       "487405    5548469\n",
       "487406    2956972\n",
       "487407    5229561\n",
       "487408    3665101\n",
       "Name: id, Length: 487409, dtype: object"
      ]
     },
     "execution_count": null,
     "metadata": {},
     "output_type": "execute_result"
    }
   ],
   "source": [
    "test_bgen_file_obj.samples"
   ]
  },
  {
   "cell_type": "code",
   "execution_count": null,
   "id": "sharing-protein",
   "metadata": {},
   "outputs": [
    {
     "data": {
      "text/plain": [
       "memmap(['CT,C', 'AAC,A', 'T,C', ..., 'T,TA', 'C,G', 'G,A'], dtype='<U414')"
      ]
     },
     "execution_count": null,
     "metadata": {},
     "output_type": "execute_result"
    }
   ],
   "source": [
    "test_bgen_file_obj.bgen_reader_obj.allele_ids"
   ]
  },
  {
   "cell_type": "code",
   "execution_count": null,
   "id": "ambient-indianapolis",
   "metadata": {},
   "outputs": [
    {
     "name": "stdout",
     "output_type": "stream",
     "text": [
      "reading -- time=0:00:00.00, thread 1 of 4, part 1 of 1\n"
     ]
    },
    {
     "data": {
      "text/plain": [
       "(3, 4, 3)"
      ]
     },
     "execution_count": null,
     "metadata": {},
     "output_type": "execute_result"
    }
   ],
   "source": [
    "test_bgen_file_obj.bgen_reader_obj.read((sample_index, variant_index))"
   ]
  },
  {
   "cell_type": "code",
   "execution_count": null,
   "id": "acute-mouse",
   "metadata": {},
   "outputs": [
    {
     "name": "stdout",
     "output_type": "stream",
     "text": [
      "reading -- time=0:00:00.00, thread 1 of 4, part 1 of 1\n"
     ]
    },
    {
     "data": {
      "text/plain": [
       "(487409, 4, 3)"
      ]
     },
     "execution_count": null,
     "metadata": {},
     "output_type": "execute_result"
    }
   ],
   "source": [
    "test_bgen_file_obj.bgen_reader_obj.read(variant_index).shape"
   ]
  },
  {
   "cell_type": "code",
   "execution_count": null,
   "id": "emotional-arrival",
   "metadata": {},
   "outputs": [
    {
     "data": {
      "text/plain": [
       "4066774"
      ]
     },
     "execution_count": null,
     "metadata": {},
     "output_type": "execute_result"
    }
   ],
   "source": [
    "test_bgen_file_obj.variants.shape[0].compute()"
   ]
  },
  {
   "cell_type": "code",
   "execution_count": null,
   "id": "confidential-chess",
   "metadata": {},
   "outputs": [
    {
     "data": {
      "text/plain": [
       "{'type': 'corradin_ovp_utils.datasets.OVPDataset.OVPDataset',\n",
       " 'file_format': 'genetic_file.Bgen.BgenFileFormat',\n",
       " 'file_type': 'OVPDataset.SingleFilePathSchema',\n",
       " 'file_path': {'folder': '/lab/corradin_biobank/Raw_UKB_downloads/BGEN/',\n",
       "  'split_by_chromosome': True,\n",
       "  'full_file_name': 'ukb_imp_chr{chrom_num}_v3.bgen'},\n",
       " 'load_args': {'sample_file': '/lab/corradin_biobank/Raw_UKB_downloads/sample_files/ukb45624_imp_chr9_v3_s487320.sample'}}"
      ]
     },
     "execution_count": null,
     "metadata": {},
     "output_type": "execute_result"
    }
   ],
   "source": [
    "conf_test_data_catalog[\"genetic_file_bgen\"]"
   ]
  },
  {
   "cell_type": "code",
   "execution_count": null,
   "id": "incorrect-stick",
   "metadata": {},
   "outputs": [
    {
     "name": "stdout",
     "output_type": "stream",
     "text": [
      "Sample IDs are read from /lab/corradin_biobank/Raw_UKB_downloads/sample_files/ukb45624_imp_chr9_v3_s487320.sample.\n"
     ]
    },
    {
     "name": "stderr",
     "output_type": "stream",
     "text": [
      "Mapping genotypes:   1%|          | 27635/4066774 [00:02<06:12, 10830.68it/s]"
     ]
    },
    {
     "ename": "KeyboardInterrupt",
     "evalue": "",
     "output_type": "error",
     "traceback": [
      "\u001b[0;31m---------------------------------------------------------------------------\u001b[0m",
      "\u001b[0;31mKeyboardInterrupt\u001b[0m                         Traceback (most recent call last)",
      "\u001b[0;32m<ipython-input-15-b47621f139b9>\u001b[0m in \u001b[0;36m<module>\u001b[0;34m\u001b[0m\n\u001b[0;32m----> 1\u001b[0;31m \u001b[0mread_bgen\u001b[0m\u001b[0;34m(\u001b[0m\u001b[0;34m\"/lab/corradin_biobank/Raw_UKB_downloads/BGEN/ukb_imp_chr9_v3.bgen\"\u001b[0m\u001b[0;34m,\u001b[0m \u001b[0msamples_filepath\u001b[0m\u001b[0;34m=\u001b[0m\u001b[0;34m\"/lab/corradin_biobank/Raw_UKB_downloads/sample_files/ukb45624_imp_chr9_v3_s487320.sample\"\u001b[0m\u001b[0;34m)\u001b[0m\u001b[0;34m\u001b[0m\u001b[0;34m\u001b[0m\u001b[0m\n\u001b[0m",
      "\u001b[0;32m/lab/corradin_biobank/FOR_AN/OVP/corradin_ovp_utils/.venv/lib/python3.8/site-packages/bgen_reader/_reader.py\u001b[0m in \u001b[0;36mread_bgen\u001b[0;34m(filepath, metafile_filepath, samples_filepath, verbose)\u001b[0m\n\u001b[1;32m    116\u001b[0m             )\n\u001b[1;32m    117\u001b[0m \u001b[0;34m\u001b[0m\u001b[0m\n\u001b[0;32m--> 118\u001b[0;31m         \u001b[0mgenotype\u001b[0m \u001b[0;34m=\u001b[0m \u001b[0mcreate_genotypes\u001b[0m\u001b[0;34m(\u001b[0m\u001b[0mbgen\u001b[0m\u001b[0;34m,\u001b[0m \u001b[0mmetafile_filepath\u001b[0m\u001b[0;34m,\u001b[0m \u001b[0mverbose\u001b[0m\u001b[0;34m)\u001b[0m\u001b[0;34m\u001b[0m\u001b[0;34m\u001b[0m\u001b[0m\n\u001b[0m\u001b[1;32m    119\u001b[0m \u001b[0;34m\u001b[0m\u001b[0m\n\u001b[1;32m    120\u001b[0m     \u001b[0;32mreturn\u001b[0m \u001b[0mdict\u001b[0m\u001b[0;34m(\u001b[0m\u001b[0mvariants\u001b[0m\u001b[0;34m=\u001b[0m\u001b[0mvariants\u001b[0m\u001b[0;34m,\u001b[0m \u001b[0msamples\u001b[0m\u001b[0;34m=\u001b[0m\u001b[0msamples\u001b[0m\u001b[0;34m,\u001b[0m \u001b[0mgenotype\u001b[0m\u001b[0;34m=\u001b[0m\u001b[0mgenotype\u001b[0m\u001b[0;34m)\u001b[0m\u001b[0;34m\u001b[0m\u001b[0;34m\u001b[0m\u001b[0m\n",
      "\u001b[0;32m/lab/corradin_biobank/FOR_AN/OVP/corradin_ovp_utils/.venv/lib/python3.8/site-packages/bgen_reader/_genotype.py\u001b[0m in \u001b[0;36mcreate_genotypes\u001b[0;34m(bgen, metafile_filepath, verbose)\u001b[0m\n\u001b[1;32m     13\u001b[0m \u001b[0;34m\u001b[0m\u001b[0m\n\u001b[1;32m     14\u001b[0m     \u001b[0mdesc\u001b[0m \u001b[0;34m=\u001b[0m \u001b[0;34m\"Mapping genotypes\"\u001b[0m\u001b[0;34m\u001b[0m\u001b[0;34m\u001b[0m\u001b[0m\n\u001b[0;32m---> 15\u001b[0;31m     return [\n\u001b[0m\u001b[1;32m     16\u001b[0m         \u001b[0m_get_read_genotype\u001b[0m\u001b[0;34m(\u001b[0m\u001b[0mbgen\u001b[0m\u001b[0;34m,\u001b[0m \u001b[0mmetafile_filepath\u001b[0m\u001b[0;34m)\u001b[0m\u001b[0;34m(\u001b[0m\u001b[0mi\u001b[0m\u001b[0;34m,\u001b[0m \u001b[0mdask_key_name\u001b[0m\u001b[0;34m=\u001b[0m\u001b[0mstr\u001b[0m\u001b[0;34m(\u001b[0m\u001b[0mi\u001b[0m\u001b[0;34m)\u001b[0m\u001b[0;34m)\u001b[0m\u001b[0;34m\u001b[0m\u001b[0;34m\u001b[0m\u001b[0m\n\u001b[1;32m     17\u001b[0m         \u001b[0;32mfor\u001b[0m \u001b[0mi\u001b[0m \u001b[0;32min\u001b[0m \u001b[0mtrange\u001b[0m\u001b[0;34m(\u001b[0m\u001b[0mnvariants\u001b[0m\u001b[0;34m,\u001b[0m \u001b[0mdesc\u001b[0m\u001b[0;34m=\u001b[0m\u001b[0mdesc\u001b[0m\u001b[0;34m,\u001b[0m \u001b[0mdisable\u001b[0m\u001b[0;34m=\u001b[0m\u001b[0;32mnot\u001b[0m \u001b[0mverbose\u001b[0m\u001b[0;34m)\u001b[0m\u001b[0;34m\u001b[0m\u001b[0;34m\u001b[0m\u001b[0m\n",
      "\u001b[0;32m/lab/corradin_biobank/FOR_AN/OVP/corradin_ovp_utils/.venv/lib/python3.8/site-packages/bgen_reader/_genotype.py\u001b[0m in \u001b[0;36m<listcomp>\u001b[0;34m(.0)\u001b[0m\n\u001b[1;32m     14\u001b[0m     \u001b[0mdesc\u001b[0m \u001b[0;34m=\u001b[0m \u001b[0;34m\"Mapping genotypes\"\u001b[0m\u001b[0;34m\u001b[0m\u001b[0;34m\u001b[0m\u001b[0m\n\u001b[1;32m     15\u001b[0m     return [\n\u001b[0;32m---> 16\u001b[0;31m         \u001b[0m_get_read_genotype\u001b[0m\u001b[0;34m(\u001b[0m\u001b[0mbgen\u001b[0m\u001b[0;34m,\u001b[0m \u001b[0mmetafile_filepath\u001b[0m\u001b[0;34m)\u001b[0m\u001b[0;34m(\u001b[0m\u001b[0mi\u001b[0m\u001b[0;34m,\u001b[0m \u001b[0mdask_key_name\u001b[0m\u001b[0;34m=\u001b[0m\u001b[0mstr\u001b[0m\u001b[0;34m(\u001b[0m\u001b[0mi\u001b[0m\u001b[0;34m)\u001b[0m\u001b[0;34m)\u001b[0m\u001b[0;34m\u001b[0m\u001b[0;34m\u001b[0m\u001b[0m\n\u001b[0m\u001b[1;32m     17\u001b[0m         \u001b[0;32mfor\u001b[0m \u001b[0mi\u001b[0m \u001b[0;32min\u001b[0m \u001b[0mtrange\u001b[0m\u001b[0;34m(\u001b[0m\u001b[0mnvariants\u001b[0m\u001b[0;34m,\u001b[0m \u001b[0mdesc\u001b[0m\u001b[0;34m=\u001b[0m\u001b[0mdesc\u001b[0m\u001b[0;34m,\u001b[0m \u001b[0mdisable\u001b[0m\u001b[0;34m=\u001b[0m\u001b[0;32mnot\u001b[0m \u001b[0mverbose\u001b[0m\u001b[0;34m)\u001b[0m\u001b[0;34m\u001b[0m\u001b[0;34m\u001b[0m\u001b[0m\n\u001b[1;32m     18\u001b[0m     ]\n",
      "\u001b[0;32m/lab/corradin_biobank/FOR_AN/OVP/corradin_ovp_utils/.venv/lib/python3.8/site-packages/dask/delayed.py\u001b[0m in \u001b[0;36m__call__\u001b[0;34m(self, *args, **kwargs)\u001b[0m\n\u001b[1;32m    638\u001b[0m \u001b[0;34m\u001b[0m\u001b[0m\n\u001b[1;32m    639\u001b[0m     \u001b[0;32mdef\u001b[0m \u001b[0m__call__\u001b[0m\u001b[0;34m(\u001b[0m\u001b[0mself\u001b[0m\u001b[0;34m,\u001b[0m \u001b[0;34m*\u001b[0m\u001b[0margs\u001b[0m\u001b[0;34m,\u001b[0m \u001b[0;34m**\u001b[0m\u001b[0mkwargs\u001b[0m\u001b[0;34m)\u001b[0m\u001b[0;34m:\u001b[0m\u001b[0;34m\u001b[0m\u001b[0;34m\u001b[0m\u001b[0m\n\u001b[0;32m--> 640\u001b[0;31m         return call_function(\n\u001b[0m\u001b[1;32m    641\u001b[0m             \u001b[0mself\u001b[0m\u001b[0;34m.\u001b[0m\u001b[0m_obj\u001b[0m\u001b[0;34m,\u001b[0m \u001b[0mself\u001b[0m\u001b[0;34m.\u001b[0m\u001b[0m_key\u001b[0m\u001b[0;34m,\u001b[0m \u001b[0margs\u001b[0m\u001b[0;34m,\u001b[0m \u001b[0mkwargs\u001b[0m\u001b[0;34m,\u001b[0m \u001b[0mpure\u001b[0m\u001b[0;34m=\u001b[0m\u001b[0mself\u001b[0m\u001b[0;34m.\u001b[0m\u001b[0m_pure\u001b[0m\u001b[0;34m,\u001b[0m \u001b[0mnout\u001b[0m\u001b[0;34m=\u001b[0m\u001b[0mself\u001b[0m\u001b[0;34m.\u001b[0m\u001b[0m_nout\u001b[0m\u001b[0;34m\u001b[0m\u001b[0;34m\u001b[0m\u001b[0m\n\u001b[1;32m    642\u001b[0m         )\n",
      "\u001b[0;32m/lab/corradin_biobank/FOR_AN/OVP/corradin_ovp_utils/.venv/lib/python3.8/site-packages/dask/delayed.py\u001b[0m in \u001b[0;36mcall_function\u001b[0;34m(func, func_token, args, kwargs, pure, nout)\u001b[0m\n\u001b[1;32m    605\u001b[0m         \u001b[0mname\u001b[0m \u001b[0;34m=\u001b[0m \u001b[0mdask_key_name\u001b[0m\u001b[0;34m\u001b[0m\u001b[0;34m\u001b[0m\u001b[0m\n\u001b[1;32m    606\u001b[0m \u001b[0;34m\u001b[0m\u001b[0m\n\u001b[0;32m--> 607\u001b[0;31m     \u001b[0margs2\u001b[0m\u001b[0;34m,\u001b[0m \u001b[0mcollections\u001b[0m \u001b[0;34m=\u001b[0m \u001b[0munzip\u001b[0m\u001b[0;34m(\u001b[0m\u001b[0mmap\u001b[0m\u001b[0;34m(\u001b[0m\u001b[0munpack_collections\u001b[0m\u001b[0;34m,\u001b[0m \u001b[0margs\u001b[0m\u001b[0;34m)\u001b[0m\u001b[0;34m,\u001b[0m \u001b[0;36m2\u001b[0m\u001b[0;34m)\u001b[0m\u001b[0;34m\u001b[0m\u001b[0;34m\u001b[0m\u001b[0m\n\u001b[0m\u001b[1;32m    608\u001b[0m     \u001b[0mcollections\u001b[0m \u001b[0;34m=\u001b[0m \u001b[0mlist\u001b[0m\u001b[0;34m(\u001b[0m\u001b[0mconcat\u001b[0m\u001b[0;34m(\u001b[0m\u001b[0mcollections\u001b[0m\u001b[0;34m)\u001b[0m\u001b[0;34m)\u001b[0m\u001b[0;34m\u001b[0m\u001b[0;34m\u001b[0m\u001b[0m\n\u001b[1;32m    609\u001b[0m \u001b[0;34m\u001b[0m\u001b[0m\n",
      "\u001b[0;32m/lab/corradin_biobank/FOR_AN/OVP/corradin_ovp_utils/.venv/lib/python3.8/site-packages/dask/delayed.py\u001b[0m in \u001b[0;36munzip\u001b[0;34m(ls, nout)\u001b[0m\n\u001b[1;32m     23\u001b[0m \u001b[0;32mdef\u001b[0m \u001b[0munzip\u001b[0m\u001b[0;34m(\u001b[0m\u001b[0mls\u001b[0m\u001b[0;34m,\u001b[0m \u001b[0mnout\u001b[0m\u001b[0;34m)\u001b[0m\u001b[0;34m:\u001b[0m\u001b[0;34m\u001b[0m\u001b[0;34m\u001b[0m\u001b[0m\n\u001b[1;32m     24\u001b[0m     \u001b[0;34m\"\"\"Unzip a list of lists into ``nout`` outputs.\"\"\"\u001b[0m\u001b[0;34m\u001b[0m\u001b[0;34m\u001b[0m\u001b[0m\n\u001b[0;32m---> 25\u001b[0;31m     \u001b[0mout\u001b[0m \u001b[0;34m=\u001b[0m \u001b[0mlist\u001b[0m\u001b[0;34m(\u001b[0m\u001b[0mzip\u001b[0m\u001b[0;34m(\u001b[0m\u001b[0;34m*\u001b[0m\u001b[0mls\u001b[0m\u001b[0;34m)\u001b[0m\u001b[0;34m)\u001b[0m\u001b[0;34m\u001b[0m\u001b[0;34m\u001b[0m\u001b[0m\n\u001b[0m\u001b[1;32m     26\u001b[0m     \u001b[0;32mif\u001b[0m \u001b[0;32mnot\u001b[0m \u001b[0mout\u001b[0m\u001b[0;34m:\u001b[0m\u001b[0;34m\u001b[0m\u001b[0;34m\u001b[0m\u001b[0m\n\u001b[1;32m     27\u001b[0m         \u001b[0mout\u001b[0m \u001b[0;34m=\u001b[0m \u001b[0;34m[\u001b[0m\u001b[0;34m(\u001b[0m\u001b[0;34m)\u001b[0m\u001b[0;34m]\u001b[0m \u001b[0;34m*\u001b[0m \u001b[0mnout\u001b[0m\u001b[0;34m\u001b[0m\u001b[0;34m\u001b[0m\u001b[0m\n",
      "\u001b[0;32m/lab/corradin_biobank/FOR_AN/OVP/corradin_ovp_utils/.venv/lib/python3.8/site-packages/dask/delayed.py\u001b[0m in \u001b[0;36munpack_collections\u001b[0;34m(expr)\u001b[0m\n\u001b[1;32m     40\u001b[0m \u001b[0;34m\u001b[0m\u001b[0m\n\u001b[1;32m     41\u001b[0m \u001b[0;34m\u001b[0m\u001b[0m\n\u001b[0;32m---> 42\u001b[0;31m \u001b[0;32mdef\u001b[0m \u001b[0munpack_collections\u001b[0m\u001b[0;34m(\u001b[0m\u001b[0mexpr\u001b[0m\u001b[0;34m)\u001b[0m\u001b[0;34m:\u001b[0m\u001b[0;34m\u001b[0m\u001b[0;34m\u001b[0m\u001b[0m\n\u001b[0m\u001b[1;32m     43\u001b[0m     \"\"\"Normalize a python object and merge all sub-graphs.\n\u001b[1;32m     44\u001b[0m \u001b[0;34m\u001b[0m\u001b[0m\n",
      "\u001b[0;31mKeyboardInterrupt\u001b[0m: "
     ]
    },
    {
     "name": "stderr",
     "output_type": "stream",
     "text": [
      "Mapping genotypes:   1%|          | 27635/4066774 [00:21<06:12, 10830.68it/s]"
     ]
    }
   ],
   "source": [
    "read_bgen(\"/lab/corradin_biobank/Raw_UKB_downloads/BGEN/ukb_imp_chr9_v3.bgen\", samples_filepath=\"/lab/corradin_biobank/Raw_UKB_downloads/sample_files/ukb45624_imp_chr9_v3_s487320.sample\")"
   ]
  },
  {
   "cell_type": "code",
   "execution_count": null,
   "id": "least-cambodia",
   "metadata": {},
   "outputs": [],
   "source": [
    "test_bgen_obj = open_bgen(\"/lab/corradin_biobank/Raw_UKB_downloads/BGEN/ukb_imp_chr9_v3.bgen\", samples_filepath=\"/lab/corradin_biobank/Raw_UKB_downloads/sample_files/ukb45624_imp_chr9_v3_s487320.sample\")"
   ]
  },
  {
   "cell_type": "code",
   "execution_count": null,
   "id": "featured-muscle",
   "metadata": {},
   "outputs": [
    {
     "name": "stdout",
     "output_type": "stream",
     "text": [
      "Sample IDs are read from /lab/corradin_biobank/Raw_UKB_downloads/sample_files/ukb45624_imp_chr9_v3_s487320.sample.\n"
     ]
    },
    {
     "name": "stderr",
     "output_type": "stream",
     "text": [
      "Mapping genotypes: 100%|██████████| 4066774/4066774 [08:30<00:00, 7972.36it/s] \n"
     ]
    }
   ],
   "source": [
    "test_bgen_obj = read_bgen(\"/lab/corradin_biobank/Raw_UKB_downloads/BGEN/ukb_imp_chr9_v3.bgen\", samples_filepath=\"/lab/corradin_biobank/Raw_UKB_downloads/sample_files/ukb45624_imp_chr9_v3_s487320.sample\")"
   ]
  },
  {
   "cell_type": "code",
   "execution_count": null,
   "id": "apart-supervision",
   "metadata": {},
   "outputs": [
    {
     "data": {
      "text/plain": [
       "bgen_reader._bgen2.open_bgen"
      ]
     },
     "execution_count": null,
     "metadata": {},
     "output_type": "execute_result"
    }
   ],
   "source": [
    "type(test_bgen_obj)"
   ]
  },
  {
   "cell_type": "code",
   "execution_count": null,
   "id": "fifteen-colors",
   "metadata": {},
   "outputs": [
    {
     "data": {
      "text/plain": [
       "dask.dataframe.core.DataFrame"
      ]
     },
     "execution_count": null,
     "metadata": {},
     "output_type": "execute_result"
    }
   ],
   "source": [
    "dd.DataFrame"
   ]
  },
  {
   "cell_type": "code",
   "execution_count": null,
   "id": "bottom-preview",
   "metadata": {},
   "outputs": [
    {
     "data": {
      "text/plain": [
       "pandas.core.series.Series"
      ]
     },
     "execution_count": null,
     "metadata": {},
     "output_type": "execute_result"
    }
   ],
   "source": [
    "type(test_bgen_obj[\"samples\"])"
   ]
  },
  {
   "cell_type": "code",
   "execution_count": null,
   "id": "upset-graduation",
   "metadata": {},
   "outputs": [
    {
     "data": {
      "text/plain": [
       "dask.delayed.Delayed"
      ]
     },
     "execution_count": null,
     "metadata": {},
     "output_type": "execute_result"
    }
   ],
   "source": [
    "type(test_bgen_obj[\"genotype\"][0])#[\"variants\"][\"id\"].compute()"
   ]
  },
  {
   "cell_type": "code",
   "execution_count": null,
   "id": "numeric-michael",
   "metadata": {},
   "outputs": [
    {
     "data": {
      "text/plain": [
       "array([[1.        , 0.        , 0.        ],\n",
       "       [1.        , 0.        , 0.        ],\n",
       "       [1.        , 0.        , 0.        ],\n",
       "       ...,\n",
       "       [0.98823529, 0.01176471, 0.        ],\n",
       "       [1.        , 0.        , 0.        ],\n",
       "       [1.        , 0.        , 0.        ]])"
      ]
     },
     "execution_count": null,
     "metadata": {},
     "output_type": "execute_result"
    }
   ],
   "source": [
    "test_bgen_obj[\"genotype\"][0].compute()[\"probs\"]"
   ]
  },
  {
   "cell_type": "code",
   "execution_count": null,
   "id": "fallen-static",
   "metadata": {},
   "outputs": [],
   "source": [
    "test = test_bgen_file_format.load(chrom=9)#.ids"
   ]
  },
  {
   "cell_type": "code",
   "execution_count": null,
   "id": "democratic-exercise",
   "metadata": {},
   "outputs": [
    {
     "ename": "ValueError",
     "evalue": "The truth value of an array with more than one element is ambiguous. Use a.any() or a.all()",
     "output_type": "error",
     "traceback": [
      "\u001b[0;31m---------------------------------------------------------------------------\u001b[0m",
      "\u001b[0;31mValueError\u001b[0m                                Traceback (most recent call last)",
      "\u001b[0;32m<ipython-input-43-07a9146e2981>\u001b[0m in \u001b[0;36m<module>\u001b[0;34m\u001b[0m\n\u001b[0;32m----> 1\u001b[0;31m \u001b[0mnp\u001b[0m\u001b[0;34m.\u001b[0m\u001b[0mwhere\u001b[0m\u001b[0;34m(\u001b[0m\u001b[0mtest\u001b[0m\u001b[0;34m.\u001b[0m\u001b[0mids\u001b[0m \u001b[0;32min\u001b[0m \u001b[0;34m[\u001b[0m\u001b[0;34m'9:10163_CT_C'\u001b[0m\u001b[0;34m,\u001b[0m \u001b[0;34m'9:10273_AAC_A'\u001b[0m\u001b[0;34m,\u001b[0m \u001b[0;34m'9:10327_T_C'\u001b[0m\u001b[0;34m]\u001b[0m\u001b[0;34m)\u001b[0m\u001b[0;34m\u001b[0m\u001b[0;34m\u001b[0m\u001b[0m\n\u001b[0m",
      "\u001b[0;31mValueError\u001b[0m: The truth value of an array with more than one element is ambiguous. Use a.any() or a.all()"
     ]
    }
   ],
   "source": [
    "np.where(test.ids in ['9:10163_CT_C', '9:10273_AAC_A', '9:10327_T_C'])"
   ]
  },
  {
   "cell_type": "code",
   "execution_count": null,
   "id": "particular-forth",
   "metadata": {},
   "outputs": [
    {
     "data": {
      "text/plain": [
       "BgenFileFormat(filepath={1: Path('/lab/corradin_biobank/Raw_UKB_downloads/BGEN/ukb_imp_chr1_v3.bgen'), 2: Path('/lab/corradin_biobank/Raw_UKB_downloads/BGEN/ukb_imp_chr2_v3.bgen'), 3: Path('/lab/corradin_biobank/Raw_UKB_downloads/BGEN/ukb_imp_chr3_v3.bgen'), 4: Path('/lab/corradin_biobank/Raw_UKB_downloads/BGEN/ukb_imp_chr4_v3.bgen'), 5: Path('/lab/corradin_biobank/Raw_UKB_downloads/BGEN/ukb_imp_chr5_v3.bgen'), 6: Path('/lab/corradin_biobank/Raw_UKB_downloads/BGEN/ukb_imp_chr6_v3.bgen'), 7: Path('/lab/corradin_biobank/Raw_UKB_downloads/BGEN/ukb_imp_chr7_v3.bgen'), 8: Path('/lab/corradin_biobank/Raw_UKB_downloads/BGEN/ukb_imp_chr8_v3.bgen'), 9: Path('/lab/corradin_biobank/Raw_UKB_downloads/BGEN/ukb_imp_chr9_v3.bgen'), 10: Path('/lab/corradin_biobank/Raw_UKB_downloads/BGEN/ukb_imp_chr10_v3.bgen'), 11: Path('/lab/corradin_biobank/Raw_UKB_downloads/BGEN/ukb_imp_chr11_v3.bgen'), 12: Path('/lab/corradin_biobank/Raw_UKB_downloads/BGEN/ukb_imp_chr12_v3.bgen'), 13: Path('/lab/corradin_biobank/Raw_UKB_downloads/BGEN/ukb_imp_chr13_v3.bgen'), 14: Path('/lab/corradin_biobank/Raw_UKB_downloads/BGEN/ukb_imp_chr14_v3.bgen'), 15: Path('/lab/corradin_biobank/Raw_UKB_downloads/BGEN/ukb_imp_chr15_v3.bgen'), 16: Path('/lab/corradin_biobank/Raw_UKB_downloads/BGEN/ukb_imp_chr16_v3.bgen'), 17: Path('/lab/corradin_biobank/Raw_UKB_downloads/BGEN/ukb_imp_chr17_v3.bgen'), 18: Path('/lab/corradin_biobank/Raw_UKB_downloads/BGEN/ukb_imp_chr18_v3.bgen'), 19: Path('/lab/corradin_biobank/Raw_UKB_downloads/BGEN/ukb_imp_chr19_v3.bgen'), 20: Path('/lab/corradin_biobank/Raw_UKB_downloads/BGEN/ukb_imp_chr20_v3.bgen'), 21: Path('/lab/corradin_biobank/Raw_UKB_downloads/BGEN/ukb_imp_chr21_v3.bgen'), 22: Path('/lab/corradin_biobank/Raw_UKB_downloads/BGEN/ukb_imp_chr22_v3.bgen')}, sample_file='/lab/corradin_biobank/Raw_UKB_downloads/sample_files/ukb45624_imp_chr9_v3_s487320.sample')"
      ]
     },
     "execution_count": null,
     "metadata": {},
     "output_type": "execute_result"
    }
   ],
   "source": [
    "test_data_catalog.load(\"genetic_file_bgen\").files.single_file"
   ]
  }
 ],
 "metadata": {
  "kernelspec": {
   "display_name": "Python 3",
   "language": "python",
   "name": "python3"
  }
 },
 "nbformat": 4,
 "nbformat_minor": 5
}
