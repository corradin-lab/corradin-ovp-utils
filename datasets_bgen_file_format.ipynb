{
 "cells": [
  {
   "cell_type": "code",
   "execution_count": 1,
   "id": "designing-nutrition",
   "metadata": {
    "execution": {
     "iopub.execute_input": "2021-12-14T17:57:07.638518Z",
     "iopub.status.busy": "2021-12-14T17:57:07.637901Z",
     "iopub.status.idle": "2021-12-14T17:57:07.645340Z",
     "shell.execute_reply": "2021-12-14T17:57:07.643972Z",
     "shell.execute_reply.started": "2021-12-14T17:57:07.638354Z"
    },
    "tags": []
   },
   "outputs": [],
   "source": [
    "#default_exp datasets.genetic_file.Bgen"
   ]
  },
  {
   "cell_type": "code",
   "execution_count": 2,
   "id": "aboriginal-launch",
   "metadata": {
    "execution": {
     "iopub.execute_input": "2021-12-14T17:57:08.298669Z",
     "iopub.status.busy": "2021-12-14T17:57:08.298166Z",
     "iopub.status.idle": "2021-12-14T17:57:10.816088Z",
     "shell.execute_reply": "2021-12-14T17:57:10.815313Z",
     "shell.execute_reply.started": "2021-12-14T17:57:08.298609Z"
    },
    "tags": []
   },
   "outputs": [],
   "source": [
    "#hide\n",
    "from nbdev.showdoc import *\n",
    "import pandas as pd\n",
    "from corradin_ovp_utils.catalog import test_data_catalog, conf_test_data_catalog\n",
    "from corradin_ovp_utils.datasets.schemas import SingleFilePathSchema\n",
    "import combinatorial_gwas\n",
    "from fastcore.test import ExceptionExpected"
   ]
  },
  {
   "cell_type": "code",
   "execution_count": 3,
   "id": "possible-quick",
   "metadata": {
    "execution": {
     "iopub.execute_input": "2021-12-14T17:57:10.817932Z",
     "iopub.status.busy": "2021-12-14T17:57:10.817700Z",
     "iopub.status.idle": "2021-12-14T17:57:10.823546Z",
     "shell.execute_reply": "2021-12-14T17:57:10.822839Z",
     "shell.execute_reply.started": "2021-12-14T17:57:10.817899Z"
    },
    "tags": []
   },
   "outputs": [],
   "source": [
    "#export\n",
    "from corradin_ovp_utils.datasets.genetic_file import GeneticFileFormat, GeneticFileFormatInterfaceAPI, get_geno_one_snp, get_possible_geno_combinations\n",
    "from typing import Any, Dict, List, Optional, Literal, Union, Protocol\n",
    "from pydantic import BaseModel, PrivateAttr\n",
    "import pandas as pd\n",
    "from bgen_reader import open_bgen, read_bgen\n",
    "from bgen_reader._bgen2 import open_bgen as open_bgen_file_type\n",
    "import dask.dataframe as dd\n",
    "from dask.delayed import Delayed\n",
    "from fastcore.meta import delegates\n",
    "import numpy as np\n",
    "import logging\n",
    "from collections import defaultdict"
   ]
  },
  {
   "cell_type": "code",
   "execution_count": 24,
   "id": "technical-symbol",
   "metadata": {
    "execution": {
     "iopub.execute_input": "2021-12-14T18:09:56.715526Z",
     "iopub.status.busy": "2021-12-14T18:09:56.714961Z",
     "iopub.status.idle": "2021-12-14T18:09:56.819024Z",
     "shell.execute_reply": "2021-12-14T18:09:56.817689Z",
     "shell.execute_reply.started": "2021-12-14T18:09:56.715456Z"
    },
    "tags": []
   },
   "outputs": [],
   "source": [
    "#export\n",
    "def index_search(list_to_search, query_list):\n",
    "    sorter = np.argsort(list_to_search)\n",
    "    index = sorter[np.searchsorted(list_to_search, query_list, sorter=sorter)]\n",
    "    return index\n",
    "\n",
    "# class BgenFileObject(BaseModel):\n",
    "#     variants: dd.DataFrame\n",
    "#     samples: pd.Series\n",
    "#     genotype: List[Delayed]\n",
    "#     bgen_reader_obj: open_bgen\n",
    "    \n",
    "#     class Config:\n",
    "#         arbitrary_types_allowed = True\n",
    "    \n",
    "#     def __repr__(self):\n",
    "#         return str(self.__class__) + f\" {self.samples.shape[0]} samples\"\n",
    "    \n",
    "#     def get_variant_index(self,rsids=None):\n",
    "#         variant_index = np.argwhere(np.isin(self.bgen_reader_obj.rsids, rsids)).reshape(-1,) if rsids is not None else None\n",
    "#         return variant_index\n",
    "    \n",
    "#     def get_sample_index(self, sample_ids=None):\n",
    "#         sample_index = np.argwhere(np.isin(self.samples.values, sample_ids)).reshape(-1,) if sample_ids is not None else None\n",
    "#         return sample_index\n",
    "    \n",
    "#     def get_probs(self, sample_ids=None, rsids=None):\n",
    "#         variant_index = self.get_variant_index(rsids)\n",
    "#         sample_index = self.get_sample_index(sample_ids)\n",
    "#         return self.bgen_reader_obj.read((sample_index, variant_index))\n",
    "    \n",
    "    \n",
    "#     def get_geno_each_sample(self, probs, prob_to_geno_func:Literal[\"max\", \"stringent\"]= \"stringent\", high_lim=0.9, low_lim=0.3, NA_val=np.nan):\n",
    "#         if prob_to_geno_func == \"max\":\n",
    "#             geno = np.nanargmax(probs, axis=2).astype(float)\n",
    "            \n",
    "#         elif prob_to_geno_func == \"stringent\":\n",
    "#             geno = np.apply_along_axis(get_geno_one_snp, axis=2, arr=probs, high_lim=high_lim, low_lim=low_lim, NA_val=NA_val)\n",
    "        \n",
    "#         return geno\n",
    "            \n",
    "        \n",
    "#     def get_allele_ids(self, rsids = None, variant_index = None):\n",
    "#         if variant_index is None:\n",
    "#             variant_index = self.get_variant_index(rsids)\n",
    "#         df = pd.DataFrame([allele_str.split(\",\") for allele_str in self.bgen_reader_obj.allele_ids[variant_index]], columns = [\"allele_1\", \"allele_2\"])\n",
    "        \n",
    "#         if rsids is not None:\n",
    "#             df.index = rsids\n",
    "#         return df\n",
    "    \n",
    "#     def get_variant_combinations(self, rsids = None, variant_index = None):\n",
    "#         if variant_index is None:\n",
    "#             variant_index = np.argwhere(np.isin(self.bgen_reader_obj.rsids, rsids)).reshape(-1,) if rsids is not None else None\n",
    "#         geno_df = self.get_allele_ids(rsids, variant_index)\n",
    "#         geno_df = get_possible_geno_combinations(geno_df, \"allele_1\", \"allele_2\")\n",
    "#         return geno_df\n",
    "            \n",
    "#     #def get_genotypes_df(self, rsid_list: List = None, **kwargs):\n",
    "\n",
    "\n",
    "class BgenFileObject():\n",
    "#     variants: dd.DataFrame\n",
    "#     samples: pd.Series\n",
    "#     genotype: List[Delayed]\n",
    "\n",
    "    bgen_reader_obj: open_bgen\n",
    "    \n",
    "    def __init__(self, bgen_reader_obj):\n",
    "        self.bgen_reader_obj = bgen_reader_obj\n",
    "        self.samples = np.vstack(np.char.split(self.bgen_reader_obj.samples, sep = \" \"))[:,0]\n",
    "    \n",
    "    #to do: use fastcore \"delegate\" function\n",
    "    @property\n",
    "    def ids(self):\n",
    "        return self.bgen_reader_obj.ids\n",
    "    \n",
    "    @property\n",
    "    def rsids(self):\n",
    "        return self.bgen_reader_obj.rsids\n",
    "    \n",
    "    def __repr__(self):\n",
    "        return str(self.__class__) + f\" {self.samples.shape[0]} samples\"\n",
    "    \n",
    "    def get_variant_index(self,ids=None, id_type = \"rsid\"):\n",
    "        if id_type == \"id\":\n",
    "            variant_index = index_search(self.ids, ids) if ids is not None else None\n",
    "        elif id_type == \"rsid\":\n",
    "            variant_index = index_search(self.rsids, ids) if ids is not None else None\n",
    "        return variant_index\n",
    "    \n",
    "    def get_sample_index(self, sample_ids=None):\n",
    "        sample_index = index_search(self.samples, sample_ids) if sample_ids is not None else None\n",
    "        return sample_index\n",
    "    \n",
    "    def get_probs(self, samples_index=None, variants_index = None):#get_probs(self, sample_ids=None, variant_ids=None):\n",
    "        # variant_index = self.get_variant_index(variant_ids)\n",
    "        # sample_index = self.get_sample_index(sample_ids)\n",
    "        \n",
    "        return self.bgen_reader_obj.read((samples_index, variants_index))\n",
    "    \n",
    "    \n",
    "    def get_all_geno_df(self, variant_ids, variants_index):\n",
    "        all_geno_df = pd.DataFrame({\"id_col\": variant_ids, \"raw_alleles\":self.bgen_reader_obj.allele_ids[variants_index]}).set_index(\"id_col\")\n",
    "        all_geno_df[[\"alleleA\", \"alleleB\"]] = all_geno_df[\"raw_alleles\"].str.split(\",\", expand = True)\n",
    "        all_geno_df = get_possible_geno_combinations(all_geno_df, allele_1_col=\"alleleA\", allele_2_col= \"alleleB\")\n",
    "        return all_geno_df\n",
    "\n",
    "    def get_geno_each_sample(self,\n",
    "                             sample_ids=None,\n",
    "                             variant_ids=None,\n",
    "                             variant_id_type=\"rsid\",\n",
    "                             prob_to_geno_func:Union[\"max\", \"stringent\"]= \"stringent\",\n",
    "                             high_lim=0.9,\n",
    "                             low_lim=0.3,\n",
    "                             NA_val=np.nan,\n",
    "                             geno_format: Literal[\"raw\", \"ohe\", \"str\"]= \"raw\",\n",
    "                             **kwargs):\n",
    "        num_variants_to_search = len(variant_ids)\n",
    "        variants_index = self.get_variant_index(ids = variant_ids, id_type= variant_id_type)\n",
    "        \n",
    "        if variant_id_type not in [\"id\", \"rsid\", \"ids\", \"rsids\"]:\n",
    "            raise ValueError\n",
    "        if variant_id_type in [\"id\", \"rsid\"]:\n",
    "            variant_id_type += \"s\"\n",
    "            \n",
    "        #confirming that we have the correct variants by reindexing\n",
    "        list_of_variants_in_file_specific_id_type = getattr(self.bgen_reader_obj, variant_id_type)\n",
    "        confirmed_correct_variants_bool_mask = (list_of_variants_in_file_specific_id_type[variants_index]) == np.array(variant_ids)\n",
    "        \n",
    "        \n",
    "        confirmed_correct_variants_index = variants_index[confirmed_correct_variants_bool_mask]\n",
    "        found_variants = np.array(variant_ids)[confirmed_correct_variants_bool_mask]\n",
    "        #assert all(self.bgen_reader_obj.rsids[variants_index] == variant_ids)\n",
    "        not_found_variants = np.array(variant_ids)[~confirmed_correct_variants_bool_mask]\n",
    "        \n",
    "        logging.warning(f\"\\nFound variants: {found_variants.shape[0]}/{num_variants_to_search}\\n Not found: {not_found_variants.shape[0]}/{num_variants_to_search}.\\n Percent found {round((found_variants.shape[0]/num_variants_to_search) *100)}%\")\n",
    "        \n",
    "        samples_index = self.get_sample_index(sample_ids = sample_ids)\n",
    "        probs = self.get_probs(samples_index=samples_index, variants_index = confirmed_correct_variants_index)\n",
    "        \n",
    "        if prob_to_geno_func == \"max\":\n",
    "            geno = np.nanargmax(probs, axis=2).astype(float)\n",
    "   \n",
    "        elif prob_to_geno_func == \"stringent\":\n",
    "            geno = np.apply_along_axis(get_geno_one_snp, axis=2, arr=probs, high_lim=high_lim, low_lim=low_lim, NA_val=NA_val)\n",
    "        \n",
    "        \n",
    "\n",
    "        geno_no_nan = np.nan_to_num(geno, nan=3).astype(int)\n",
    "        all_geno_df = self.get_all_geno_df(variant_ids = found_variants, variants_index = confirmed_correct_variants_index)\n",
    "        \n",
    "        if geno_format == \"ohe\":\n",
    "            geno_final = np.identity(4)[geno_no_nan]\n",
    "        elif geno_format == \"str\":\n",
    "            geno_final = self.process_raw_geno_data(raw_genos_matrix = geno, all_geno_df = all_geno_df, variant_ids = found_variants)\n",
    "        else:\n",
    "            geno_final = geno\n",
    "        return geno_final, all_geno_df, found_variants, not_found_variants\n",
    "    \n",
    "\n",
    "    def process_raw_geno_data(self, raw_genos_matrix, all_geno_df, variant_ids):\n",
    "        \n",
    "        genos_str = np.select([raw_genos_matrix == 0,\n",
    "                               raw_genos_matrix ==1,\n",
    "                               raw_genos_matrix == 2],\n",
    "                              choicelist=[all_geno_df[\"AA\"], all_geno_df[\"AB\"], all_geno_df[\"BB\"]],\n",
    "                              default = np.nan)\n",
    "        \n",
    "        all_samples_df = pd.DataFrame(genos_str, columns = variant_ids, index = self.samples)\n",
    "        all_samples_df.index.name = \"sample_id\"\n",
    "        return all_samples_df\n",
    "        \n",
    "    def get_allele_ids(self, rsids = None, variant_index = None):\n",
    "        if variant_index is None:\n",
    "            variant_index = self.get_variant_index(rsids)\n",
    "        df = pd.DataFrame([allele_str.split(\",\") for allele_str in self.bgen_reader_obj.allele_ids[variant_index]], columns = [\"allele_1\", \"allele_2\"])\n",
    "        \n",
    "        if rsids is not None:\n",
    "            df.index = rsids\n",
    "        return df\n",
    "    \n",
    "    def get_variant_combinations(self, rsids = None, variant_index = None):\n",
    "        if variant_index is None:\n",
    "            variant_index = self.get_variant_index(rsids).reshape(-1,) if rsids is not None else None\n",
    "        geno_df = self.get_allele_ids(rsids, variant_index)\n",
    "        geno_df = get_possible_geno_combinations(geno_df, \"allele_1\", \"allele_2\")\n",
    "        return geno_df\n",
    "    \n",
    "    \n",
    "    \n",
    "class BgenFileFormat(GeneticFileFormat, GeneticFileFormatInterfaceAPI):\n",
    "    _all_chrom_dict: Dict[int, open_bgen_file_type] = PrivateAttr()\n",
    "    # = PrivateAttr()\n",
    "        \n",
    "    class Config:\n",
    "        arbitrary_types_allowed = True\n",
    "        \n",
    "    def __init__(self, **data):\n",
    "        super().__init__(**data)\n",
    "        self._all_chrom_dict = None #{chrom_number : self.load_one_chrom(chrom_number) for chrom_number in range(1,23)}\n",
    "        self.sample_ids = None #self._all_chrom_dict[1].samples\n",
    "        \n",
    "    @property\n",
    "    def _samples_int(self):\n",
    "        return self.sample_ids.astype(int)\n",
    "    \n",
    "    def get_geno_matrix_specific_chrom(self, *, chrom, chrom_specific_variant_ids, sample_id_subset, variant_id_type):\n",
    "        logging.warning(f\"Loading {len(chrom_specific_variant_ids)} SNPs with id type '{variant_id_type}' for chromosome {chrom}, {len(sample_id_subset)} people\")\n",
    "        all_samples_df_specific_chrom, all_geno_df_specific_chrom, found_variants, not_found_variants = self._all_chrom_dict[chrom].get_geno_each_sample(prob_to_geno_func = \"stringent\",\n",
    "                                                                                         sample_ids=sample_id_subset,\n",
    "                                                                                         variant_ids=chrom_specific_variant_ids,\n",
    "                                                                                         variant_id_type= variant_id_type,\n",
    "                                                                                         geno_format = \"str\")\n",
    "        return  all_samples_df_specific_chrom, all_geno_df_specific_chrom, found_variants, not_found_variants\n",
    "    \n",
    "    #TODO: accomodate different types of SNP id\n",
    "    def get_geno_each_sample(self, rsid_dict:Dict[int, List[str]], id_col_list: List[str] = [], batch_size=1_000, excluded_sample_ids: List[str] =[]): \n",
    "        if self._all_chrom_dict is None or self.sample_ids is None:\n",
    "            chromosomes_needed = list(rsid_dict.keys())\n",
    "            logging.warning(f\"Initialize dictionary of genetic files for {len(chromosomes_needed)} chromosomes, this might take a while\")\n",
    "            self._all_chrom_dict = {chrom_number : self.load_one_chrom(chrom_number) for chrom_number in rsid_dict.keys()}\n",
    "            self.sample_ids = self._all_chrom_dict[chromosomes_needed[0]].samples\n",
    "        all_samples_df_list = []\n",
    "        all_geno_df_list = []\n",
    "        found_variants_dict= defaultdict(list)\n",
    "        not_found_variants_dict=defaultdict(list)\n",
    "        \n",
    "        sample_id_subset = list(set(self.sample_ids) - set(excluded_sample_ids))\n",
    "        \n",
    "        #print(sample_id_subset)\n",
    "        for chrom, chrom_specific_variant_ids in rsid_dict.items():\n",
    "            rsids_list = list(set([variant_id for variant_id in chrom_specific_variant_ids if variant_id.startswith(\"rs\")]))\n",
    "            if rsids_list:\n",
    "                all_samples_df_specific_chrom, all_geno_df_specific_chrom, found_variants_specific_chrom, not_found_variants_specific_chrom = self.get_geno_matrix_specific_chrom(chrom = chrom,\n",
    "                                                                                                                chrom_specific_variant_ids= rsids_list,\n",
    "                                                                                                                sample_id_subset= sample_id_subset,\n",
    "                                                                                                                variant_id_type = \"rsid\")\n",
    "\n",
    "                all_samples_df_list.append(all_samples_df_specific_chrom)\n",
    "                all_geno_df_list.append(all_geno_df_specific_chrom)\n",
    "                found_variants_dict[chrom].append(found_variants_specific_chrom)\n",
    "                not_found_variants_dict[chrom].append(not_found_variants_specific_chrom)\n",
    "            \n",
    "            ids_list = [id_str for id_str in (set(chrom_specific_variant_ids) - set(rsids_list)) if self.check_if_id(id_str)]\n",
    "            if ids_list:\n",
    "                all_samples_df_specific_chrom, all_geno_df_specific_chrom = self.get_geno_matrix_specific_chrom(chrom = chrom,\n",
    "                                                                                                                chrom_specific_variant_ids= ids_list,\n",
    "                                                                                                                sample_id_subset= sample_id_subset,\n",
    "                                                                                                                variant_id_type = \"id\")\n",
    "\n",
    "                all_samples_df_list.append(all_samples_df_specific_chrom)\n",
    "                all_geno_df_list.append(all_geno_df_specific_chrom)\n",
    "                found_variants_dict[chrom].append(found_variants_specific_chrom)\n",
    "                not_found_variants_dict[chrom].append(not_found_variants_specific_chrom)\n",
    "        \n",
    "        not_found_variants_sum_dict = {chrom: len(variant_list) for chrom, variant_list in not_found_variants_dict.items()}\n",
    "        found_variants_sum_dict = {chrom: len(variant_list) for chrom, variant_list in found_variants_dict.items()}\n",
    "        \n",
    "        total_variants_found = sum([sum_each_chrom for sum_each_chrom in found_variants_sum_dict.values()])\n",
    "        total_variants_not_found = sum([sum_each_chrom for sum_each_chrom in not_found_variants_sum_dict.values()])\n",
    "        logging.warning(f\"Number of found variants per chromosome: {found_variants_sum_dict}\")\n",
    "        logging.warning(f\"Number of not found variants per chromosome: {not_found_variants_sum_dict}\")\n",
    "        \n",
    "        return pd.concat(all_samples_df_list), pd.concat(all_geno_df_list)\n",
    "        \n",
    "        \n",
    "    def check_if_id(self, variant_string):\n",
    "        chrom, rest = variant_string.split(\":\")\n",
    "        if 1 <= chrom <= 22 and len(rest.split(\"_\")) == 3:\n",
    "            return True\n",
    "        else:\n",
    "            return False\n",
    "    \n",
    "    @delegates(read_bgen)\n",
    "    def load_one_chrom(self, chrom=None, **kwargs):\n",
    "        file_path = self.get_resolved_file_path(chrom=chrom)\n",
    "        print(f\"Loading chromosome {chrom}\")\n",
    "        open_bgen_obj = open_bgen(file_path, samples_filepath= self.sample_file, allow_complex = False)\n",
    "        return BgenFileObject(bgen_reader_obj = open_bgen_obj)\n"
   ]
  },
  {
   "cell_type": "code",
   "execution_count": 27,
   "id": "b92555e8-ec05-42de-84ab-2f628b06d05f",
   "metadata": {
    "execution": {
     "iopub.execute_input": "2021-12-14T18:10:22.367530Z",
     "iopub.status.busy": "2021-12-14T18:10:22.366974Z",
     "iopub.status.idle": "2021-12-14T18:10:22.374446Z",
     "shell.execute_reply": "2021-12-14T18:10:22.373146Z",
     "shell.execute_reply.started": "2021-12-14T18:10:22.367466Z"
    },
    "tags": []
   },
   "outputs": [],
   "source": [
    "test_file_path = SingleFilePathSchema(folder = \"/lab/corradin_biobank/Raw_UKB_downloads/BGEN/\",\n",
    "                     full_file_name = \"ukb_imp_chr{chrom_num}_v3.bgen\", split_by_chromosome= True)"
   ]
  },
  {
   "cell_type": "code",
   "execution_count": 28,
   "id": "9173c35a-71d1-4341-a4aa-8f6d9e3b99ae",
   "metadata": {
    "execution": {
     "iopub.execute_input": "2021-12-14T18:10:22.919971Z",
     "iopub.status.busy": "2021-12-14T18:10:22.919471Z",
     "iopub.status.idle": "2021-12-14T18:10:26.337313Z",
     "shell.execute_reply": "2021-12-14T18:10:26.336331Z",
     "shell.execute_reply.started": "2021-12-14T18:10:22.919909Z"
    },
    "tags": []
   },
   "outputs": [
    {
     "name": "stdout",
     "output_type": "stream",
     "text": [
      "Loading chromosome 22\n"
     ]
    }
   ],
   "source": [
    "test_bgen_file_class_instance = BgenFileFormat( file_path = test_file_path,\n",
    "                                               sample_file = \"/lab/corradin_biobank/Raw_UKB_downloads/sample_files/ukb45624_imp_chr9_v3_s487320.sample\")\n",
    "test_bgen_file_chrom_22 = test_bgen_file_class_instance.load_one_chrom(22)"
   ]
  },
  {
   "cell_type": "code",
   "execution_count": 7,
   "id": "dd04209f-e5b4-4159-b07f-56e9d4b9ce80",
   "metadata": {
    "collapsed": true,
    "execution": {
     "iopub.execute_input": "2021-12-14T17:57:22.020389Z",
     "iopub.status.busy": "2021-12-14T17:57:22.019835Z",
     "iopub.status.idle": "2021-12-14T17:58:25.922047Z",
     "shell.execute_reply": "2021-12-14T17:58:25.921168Z",
     "shell.execute_reply.started": "2021-12-14T17:57:22.020319Z"
    },
    "jupyter": {
     "outputs_hidden": true
    },
    "tags": []
   },
   "outputs": [
    {
     "name": "stderr",
     "output_type": "stream",
     "text": [
      "WARNING:root:\n",
      "Found variants: 3/3\n",
      " Not found: 0/3.\n",
      " Percent found 100%\n"
     ]
    },
    {
     "name": "stdout",
     "output_type": "stream",
     "text": [
      "reading -- time=0:00:00.00, thread 1 of 3, part 1 of 1\n"
     ]
    },
    {
     "data": {
      "text/plain": [
       "(array([[ 0.,  0., nan],\n",
       "        [ 0.,  0.,  0.],\n",
       "        [ 0.,  0.,  0.],\n",
       "        ...,\n",
       "        [ 0.,  0.,  0.],\n",
       "        [ 0.,  0.,  0.],\n",
       "        [ 0.,  0., nan]]),                 alleleA alleleB  AA  AB  BB\n",
       " id_col                                     \n",
       " 22:16050075_A_G       A       G  AA  AG  GG\n",
       " 22:16050213_C_T       C       T  CC  CT  TT\n",
       " 22:16212580_G_A       G       A  GG  AG  AA, array(['22:16050075_A_G', '22:16050213_C_T', '22:16212580_G_A'],\n",
       "       dtype='<U15'), array([], dtype='<U15'))"
      ]
     },
     "execution_count": 7,
     "metadata": {},
     "output_type": "execute_result"
    }
   ],
   "source": [
    "test_bgen_file_chrom_22.get_geno_each_sample(variant_id_type=\"id\", variant_ids=['22:16050075_A_G', '22:16050213_C_T', '22:16212580_G_A'] )"
   ]
  },
  {
   "cell_type": "code",
   "execution_count": 13,
   "id": "3d8388df-6409-4266-bef0-4f5d408734f2",
   "metadata": {
    "execution": {
     "iopub.execute_input": "2021-12-14T17:59:02.356912Z",
     "iopub.status.busy": "2021-12-14T17:59:02.356392Z",
     "iopub.status.idle": "2021-12-14T17:59:05.494723Z",
     "shell.execute_reply": "2021-12-14T17:59:05.493676Z",
     "shell.execute_reply.started": "2021-12-14T17:59:02.356847Z"
    },
    "tags": []
   },
   "outputs": [],
   "source": [
    "test_variants_id_type = ['22:16050075_A_G', '22:16050213_C_T', '22:16212580_G_A']\n",
    "test_variant_index = test_bgen_file_chrom_22.get_variant_index(ids = test_variants_id_type, id_type= \"id\")\n",
    "test_variants_backcheck_id = test_bgen_file_chrom_22.ids[test_variant_index]\n",
    "assert np.array_equal(test_variant_index, np.array([0, 2, 2000]))\n",
    "assert all(test_variants_backcheck_id == test_variants_id_type)"
   ]
  },
  {
   "cell_type": "code",
   "execution_count": 14,
   "id": "9bbf9ced-7daa-4cca-88dd-e7d418326ab3",
   "metadata": {
    "execution": {
     "iopub.execute_input": "2021-12-14T17:59:06.360166Z",
     "iopub.status.busy": "2021-12-14T17:59:06.359678Z",
     "iopub.status.idle": "2021-12-14T17:59:09.285123Z",
     "shell.execute_reply": "2021-12-14T17:59:09.284046Z",
     "shell.execute_reply.started": "2021-12-14T17:59:06.360103Z"
    },
    "tags": []
   },
   "outputs": [],
   "source": [
    "test_variants_rsid_type = [\"rs77948203\", \"rs9610458\", \"rs134490\", \"rs5756405\"]\n",
    "test_variant_index = test_bgen_file_chrom_22.get_variant_index(test_variants_rsid_type)\n",
    "assert all(test_bgen_file_chrom_22.rsids[test_variant_index] == test_variants_rsid_type)"
   ]
  },
  {
   "cell_type": "code",
   "execution_count": 29,
   "id": "7390258d-2e0c-4d52-b7bf-d64846c82d48",
   "metadata": {
    "collapsed": true,
    "execution": {
     "iopub.execute_input": "2021-12-14T18:10:26.951971Z",
     "iopub.status.busy": "2021-12-14T18:10:26.951452Z",
     "iopub.status.idle": "2021-12-14T18:11:43.449112Z",
     "shell.execute_reply": "2021-12-14T18:11:43.448141Z",
     "shell.execute_reply.started": "2021-12-14T18:10:26.951907Z"
    },
    "jupyter": {
     "outputs_hidden": true
    },
    "tags": []
   },
   "outputs": [
    {
     "name": "stderr",
     "output_type": "stream",
     "text": [
      "WARNING:root:Initialize dictionary of genetic files for 1 chromosomes, this might take a while\n"
     ]
    },
    {
     "name": "stdout",
     "output_type": "stream",
     "text": [
      "Loading chromosome 22\n"
     ]
    },
    {
     "name": "stderr",
     "output_type": "stream",
     "text": [
      "WARNING:root:Loading 4 SNPs with id type 'rsid' for chromosome 22, 487409 people\n",
      "WARNING:root:\n",
      "Found variants: 4/4\n",
      " Not found: 0/4.\n",
      " Percent found 100%\n"
     ]
    },
    {
     "name": "stdout",
     "output_type": "stream",
     "text": [
      "reading -- time=0:00:00.00, thread 1 of 4, part 1 of 1\n"
     ]
    },
    {
     "ename": "TypeError",
     "evalue": "'<=' not supported between instances of 'int' and 'str'",
     "output_type": "error",
     "traceback": [
      "\u001b[0;31m---------------------------------------------------------------------------\u001b[0m",
      "\u001b[0;31mTypeError\u001b[0m                                 Traceback (most recent call last)",
      "\u001b[0;32m<ipython-input-29-d12dc2e6ac7d>\u001b[0m in \u001b[0;36m<module>\u001b[0;34m\u001b[0m\n\u001b[1;32m      1\u001b[0m \u001b[0mtest_variants_mixed\u001b[0m \u001b[0;34m=\u001b[0m \u001b[0mtest_variants_id_type\u001b[0m \u001b[0;34m+\u001b[0m \u001b[0mtest_variants_rsid_type\u001b[0m\u001b[0;34m\u001b[0m\u001b[0;34m\u001b[0m\u001b[0m\n\u001b[0;32m----> 2\u001b[0;31m \u001b[0mtest_variants_mixed_genos\u001b[0m \u001b[0;34m=\u001b[0m \u001b[0mtest_bgen_file_class_instance\u001b[0m\u001b[0;34m.\u001b[0m\u001b[0mget_geno_each_sample\u001b[0m\u001b[0;34m(\u001b[0m\u001b[0mrsid_dict\u001b[0m\u001b[0;34m=\u001b[0m \u001b[0;34m{\u001b[0m\u001b[0;36m22\u001b[0m\u001b[0;34m:\u001b[0m \u001b[0mtest_variants_mixed\u001b[0m\u001b[0;34m}\u001b[0m\u001b[0;34m)\u001b[0m\u001b[0;34m\u001b[0m\u001b[0;34m\u001b[0m\u001b[0m\n\u001b[0m",
      "\u001b[0;32m<ipython-input-24-54767488a40e>\u001b[0m in \u001b[0;36mget_geno_each_sample\u001b[0;34m(self, rsid_dict, id_col_list, batch_size, excluded_sample_ids)\u001b[0m\n\u001b[1;32m    242\u001b[0m             \u001b[0mnot_found_variants_dict\u001b[0m\u001b[0;34m[\u001b[0m\u001b[0mchrom\u001b[0m\u001b[0;34m]\u001b[0m\u001b[0;34m.\u001b[0m\u001b[0mappend\u001b[0m\u001b[0;34m(\u001b[0m\u001b[0mnot_found_variants_specific_chrom\u001b[0m\u001b[0;34m)\u001b[0m\u001b[0;34m\u001b[0m\u001b[0;34m\u001b[0m\u001b[0m\n\u001b[1;32m    243\u001b[0m \u001b[0;34m\u001b[0m\u001b[0m\n\u001b[0;32m--> 244\u001b[0;31m             \u001b[0mids_list\u001b[0m \u001b[0;34m=\u001b[0m \u001b[0;34m[\u001b[0m\u001b[0mid_str\u001b[0m \u001b[0;32mfor\u001b[0m \u001b[0mid_str\u001b[0m \u001b[0;32min\u001b[0m \u001b[0;34m(\u001b[0m\u001b[0mset\u001b[0m\u001b[0;34m(\u001b[0m\u001b[0mchrom_specific_variant_ids\u001b[0m\u001b[0;34m)\u001b[0m \u001b[0;34m-\u001b[0m \u001b[0mset\u001b[0m\u001b[0;34m(\u001b[0m\u001b[0mrsids_list\u001b[0m\u001b[0;34m)\u001b[0m\u001b[0;34m)\u001b[0m \u001b[0;32mif\u001b[0m \u001b[0mself\u001b[0m\u001b[0;34m.\u001b[0m\u001b[0mcheck_if_id\u001b[0m\u001b[0;34m(\u001b[0m\u001b[0mid_str\u001b[0m\u001b[0;34m)\u001b[0m\u001b[0;34m]\u001b[0m\u001b[0;34m\u001b[0m\u001b[0;34m\u001b[0m\u001b[0m\n\u001b[0m\u001b[1;32m    245\u001b[0m             all_samples_df_specific_chrom, all_geno_df_specific_chrom = self.get_geno_matrix_specific_chrom(chrom = chrom,\n\u001b[1;32m    246\u001b[0m                                                                                                             \u001b[0mchrom_specific_variant_ids\u001b[0m\u001b[0;34m=\u001b[0m \u001b[0mids_list\u001b[0m\u001b[0;34m,\u001b[0m\u001b[0;34m\u001b[0m\u001b[0;34m\u001b[0m\u001b[0m\n",
      "\u001b[0;32m<ipython-input-24-54767488a40e>\u001b[0m in \u001b[0;36m<listcomp>\u001b[0;34m(.0)\u001b[0m\n\u001b[1;32m    242\u001b[0m             \u001b[0mnot_found_variants_dict\u001b[0m\u001b[0;34m[\u001b[0m\u001b[0mchrom\u001b[0m\u001b[0;34m]\u001b[0m\u001b[0;34m.\u001b[0m\u001b[0mappend\u001b[0m\u001b[0;34m(\u001b[0m\u001b[0mnot_found_variants_specific_chrom\u001b[0m\u001b[0;34m)\u001b[0m\u001b[0;34m\u001b[0m\u001b[0;34m\u001b[0m\u001b[0m\n\u001b[1;32m    243\u001b[0m \u001b[0;34m\u001b[0m\u001b[0m\n\u001b[0;32m--> 244\u001b[0;31m             \u001b[0mids_list\u001b[0m \u001b[0;34m=\u001b[0m \u001b[0;34m[\u001b[0m\u001b[0mid_str\u001b[0m \u001b[0;32mfor\u001b[0m \u001b[0mid_str\u001b[0m \u001b[0;32min\u001b[0m \u001b[0;34m(\u001b[0m\u001b[0mset\u001b[0m\u001b[0;34m(\u001b[0m\u001b[0mchrom_specific_variant_ids\u001b[0m\u001b[0;34m)\u001b[0m \u001b[0;34m-\u001b[0m \u001b[0mset\u001b[0m\u001b[0;34m(\u001b[0m\u001b[0mrsids_list\u001b[0m\u001b[0;34m)\u001b[0m\u001b[0;34m)\u001b[0m \u001b[0;32mif\u001b[0m \u001b[0mself\u001b[0m\u001b[0;34m.\u001b[0m\u001b[0mcheck_if_id\u001b[0m\u001b[0;34m(\u001b[0m\u001b[0mid_str\u001b[0m\u001b[0;34m)\u001b[0m\u001b[0;34m]\u001b[0m\u001b[0;34m\u001b[0m\u001b[0;34m\u001b[0m\u001b[0m\n\u001b[0m\u001b[1;32m    245\u001b[0m             all_samples_df_specific_chrom, all_geno_df_specific_chrom = self.get_geno_matrix_specific_chrom(chrom = chrom,\n\u001b[1;32m    246\u001b[0m                                                                                                             \u001b[0mchrom_specific_variant_ids\u001b[0m\u001b[0;34m=\u001b[0m \u001b[0mids_list\u001b[0m\u001b[0;34m,\u001b[0m\u001b[0;34m\u001b[0m\u001b[0;34m\u001b[0m\u001b[0m\n",
      "\u001b[0;32m<ipython-input-24-54767488a40e>\u001b[0m in \u001b[0;36mcheck_if_id\u001b[0;34m(self, variant_string)\u001b[0m\n\u001b[1;32m    266\u001b[0m     \u001b[0;32mdef\u001b[0m \u001b[0mcheck_if_id\u001b[0m\u001b[0;34m(\u001b[0m\u001b[0mself\u001b[0m\u001b[0;34m,\u001b[0m \u001b[0mvariant_string\u001b[0m\u001b[0;34m)\u001b[0m\u001b[0;34m:\u001b[0m\u001b[0;34m\u001b[0m\u001b[0;34m\u001b[0m\u001b[0m\n\u001b[1;32m    267\u001b[0m         \u001b[0mchrom\u001b[0m\u001b[0;34m,\u001b[0m \u001b[0mrest\u001b[0m \u001b[0;34m=\u001b[0m \u001b[0mvariant_string\u001b[0m\u001b[0;34m.\u001b[0m\u001b[0msplit\u001b[0m\u001b[0;34m(\u001b[0m\u001b[0;34m\":\"\u001b[0m\u001b[0;34m)\u001b[0m\u001b[0;34m\u001b[0m\u001b[0;34m\u001b[0m\u001b[0m\n\u001b[0;32m--> 268\u001b[0;31m         \u001b[0;32mif\u001b[0m \u001b[0;36m1\u001b[0m \u001b[0;34m<=\u001b[0m \u001b[0mchrom\u001b[0m \u001b[0;34m<=\u001b[0m \u001b[0;36m22\u001b[0m \u001b[0;32mand\u001b[0m \u001b[0mlen\u001b[0m\u001b[0;34m(\u001b[0m\u001b[0mrest\u001b[0m\u001b[0;34m.\u001b[0m\u001b[0msplit\u001b[0m\u001b[0;34m(\u001b[0m\u001b[0;34m\"_\"\u001b[0m\u001b[0;34m)\u001b[0m\u001b[0;34m)\u001b[0m \u001b[0;34m==\u001b[0m \u001b[0;36m3\u001b[0m\u001b[0;34m:\u001b[0m\u001b[0;34m\u001b[0m\u001b[0;34m\u001b[0m\u001b[0m\n\u001b[0m\u001b[1;32m    269\u001b[0m             \u001b[0;32mreturn\u001b[0m \u001b[0;32mTrue\u001b[0m\u001b[0;34m\u001b[0m\u001b[0;34m\u001b[0m\u001b[0m\n\u001b[1;32m    270\u001b[0m         \u001b[0;32melse\u001b[0m\u001b[0;34m:\u001b[0m\u001b[0;34m\u001b[0m\u001b[0;34m\u001b[0m\u001b[0m\n",
      "\u001b[0;31mTypeError\u001b[0m: '<=' not supported between instances of 'int' and 'str'"
     ]
    }
   ],
   "source": [
    "test_variants_mixed = test_variants_id_type + test_variants_rsid_type\n",
    "test_variants_mixed_genos = test_bgen_file_class_instance.get_geno_each_sample(rsid_dict= {22: test_variants_mixed})\n"
   ]
  },
  {
   "cell_type": "code",
   "execution_count": 17,
   "id": "d8a4e72b-7dbb-4411-8d39-3abc9af48663",
   "metadata": {
    "execution": {
     "iopub.execute_input": "2021-12-14T13:47:40.412211Z",
     "iopub.status.busy": "2021-12-14T13:47:40.411666Z",
     "iopub.status.idle": "2021-12-14T13:47:40.422770Z",
     "shell.execute_reply": "2021-12-14T13:47:40.421886Z",
     "shell.execute_reply.started": "2021-12-14T13:47:40.412149Z"
    },
    "tags": []
   },
   "outputs": [
    {
     "name": "stdout",
     "output_type": "stream",
     "text": [
      "['rs1014626', 'rs10853845', 'rs4560284', 'rs79963419', 'rs2331964', 'rs183032559', 'rs134490', 'rs202193982', 'rs77948203', 'rs5762201', 'rs201338837', 'rs4821519', 'rs2253675', 'rs5756405', 'rs9610458', 'rs1003500', 'rs145985218', 'rs229502', 'rs1004237']\n",
      "19\n"
     ]
    }
   ],
   "source": [
    "test_variants_big = \\\n",
    "list(set([\"rs10853845\",\n",
    "\"rs2253675\",\n",
    "\"rs2331964\",\n",
    "\"rs10853845\",\n",
    "\"rs10853845\",\n",
    "\"rs10853845\",\n",
    "\"rs134490\",\n",
    "\"rs134490\",\n",
    "\"rs4560284\",\n",
    "\"rs134490\",\n",
    "\"rs5756405\",\n",
    "\"rs9610458\",\n",
    "\"rs134490\",\n",
    "\"rs5756405\",\n",
    "\"rs9610458\",\n",
    "\"rs201338837\",\n",
    "\"rs201338837\",\n",
    "\"rs201338837\",\n",
    "\"rs229502\",\n",
    "\"rs183032559\",\n",
    "\"rs79963419\",\n",
    "\"rs145985218\",\n",
    "\"rs202193982\",\n",
    "\"rs201338837\",\n",
    "\"rs1004237\",\n",
    "\"rs1003500\",\n",
    "\"rs1014626\",\n",
    "\"rs5762201\",\n",
    "\"rs4821519\",\n",
    "\"rs77948203\",]))\n",
    "print(test_variants_big)\n",
    "print(len(test_variants_big))"
   ]
  },
  {
   "cell_type": "code",
   "execution_count": 18,
   "id": "5bfb8dce-8b0b-4411-9964-5101b21b6119",
   "metadata": {
    "execution": {
     "iopub.execute_input": "2021-12-14T13:47:41.946582Z",
     "iopub.status.busy": "2021-12-14T13:47:41.946058Z",
     "iopub.status.idle": "2021-12-14T13:47:44.303822Z",
     "shell.execute_reply": "2021-12-14T13:47:44.302772Z",
     "shell.execute_reply.started": "2021-12-14T13:47:41.946521Z"
    },
    "tags": []
   },
   "outputs": [
    {
     "name": "stdout",
     "output_type": "stream",
     "text": [
      "['rs1014626' 'rs79963419' 'rs183032559' 'rs134490' 'rs202193982'\n",
      " 'rs77948203' 'rs5762201' 'rs4821519' 'rs5756405' 'rs9610458' 'rs1003500'\n",
      " 'rs229502' 'rs1004237']\n",
      "13\n"
     ]
    }
   ],
   "source": [
    "test_variants_index_big = test_bgen_file_chrom_22.get_variant_index(test_variants_big)\n",
    "test_all_rsids_single_chrom = test_bgen_file_chrom_22.rsids\n",
    "test_confirmed_variants_bool_mask = (test_all_rsids_single_chrom[test_variants_index_big]) == np.array(test_variants_big)\n",
    "test_confirmed_variants = np.array(test_variants_big)[test_confirmed_variants_bool_mask]\n",
    "print(test_confirmed_variants)\n",
    "print(len(test_confirmed_variants))"
   ]
  },
  {
   "cell_type": "code",
   "execution_count": 19,
   "id": "d3c5d68f-3158-4ee5-a300-74151c715b3e",
   "metadata": {
    "collapsed": true,
    "execution": {
     "iopub.execute_input": "2021-12-14T13:48:11.122682Z",
     "iopub.status.busy": "2021-12-14T13:48:11.122107Z",
     "iopub.status.idle": "2021-12-14T13:51:06.891247Z",
     "shell.execute_reply": "2021-12-14T13:51:06.890360Z",
     "shell.execute_reply.started": "2021-12-14T13:48:11.122616Z"
    },
    "jupyter": {
     "outputs_hidden": true
    },
    "tags": []
   },
   "outputs": [
    {
     "name": "stderr",
     "output_type": "stream",
     "text": [
      "WARNING:root:Initialize dictionary of genetic files for 1 chromosomes, this might take a while\n"
     ]
    },
    {
     "name": "stdout",
     "output_type": "stream",
     "text": [
      "Loading chromosome 22\n"
     ]
    },
    {
     "name": "stderr",
     "output_type": "stream",
     "text": [
      "WARNING:root:Loading 1 SNPs for chromosome 22, 487409 people\n",
      "WARNING:root:\n",
      "Found variants: 1/1\n",
      " Not found: 0/1.\n",
      " Percent found 100%\n"
     ]
    },
    {
     "name": "stdout",
     "output_type": "stream",
     "text": [
      "reading -- time=0:00:00.00, thread 1 of 1, part 1 of 1\n"
     ]
    },
    {
     "name": "stderr",
     "output_type": "stream",
     "text": [
      "WARNING:root:Loading 1 SNPs for chromosome 22, 487409 people\n",
      "WARNING:root:\n",
      "Found variants: 1/1\n",
      " Not found: 0/1.\n",
      " Percent found 100%\n"
     ]
    },
    {
     "name": "stdout",
     "output_type": "stream",
     "text": [
      "reading -- time=0:00:00.00, thread 1 of 1, part 1 of 1\n"
     ]
    },
    {
     "name": "stderr",
     "output_type": "stream",
     "text": [
      "WARNING:root:Loading 1 SNPs for chromosome 22, 487409 people\n",
      "WARNING:root:\n",
      "Found variants: 1/1\n",
      " Not found: 0/1.\n",
      " Percent found 100%\n"
     ]
    },
    {
     "name": "stdout",
     "output_type": "stream",
     "text": [
      "reading -- time=0:00:00.00, thread 1 of 1, part 1 of 1\n"
     ]
    },
    {
     "name": "stderr",
     "output_type": "stream",
     "text": [
      "WARNING:root:Loading 1 SNPs for chromosome 22, 487409 people\n",
      "WARNING:root:\n",
      "Found variants: 1/1\n",
      " Not found: 0/1.\n",
      " Percent found 100%\n"
     ]
    },
    {
     "name": "stdout",
     "output_type": "stream",
     "text": [
      "reading -- time=0:00:00.00, thread 1 of 1, part 1 of 1\n"
     ]
    },
    {
     "name": "stderr",
     "output_type": "stream",
     "text": [
      "WARNING:root:Loading 1 SNPs for chromosome 22, 487409 people\n",
      "WARNING:root:\n",
      "Found variants: 1/1\n",
      " Not found: 0/1.\n",
      " Percent found 100%\n"
     ]
    },
    {
     "name": "stdout",
     "output_type": "stream",
     "text": [
      "reading -- time=0:00:00.00, thread 1 of 1, part 1 of 1\n"
     ]
    },
    {
     "name": "stderr",
     "output_type": "stream",
     "text": [
      "WARNING:root:Loading 1 SNPs for chromosome 22, 487409 people\n",
      "WARNING:root:\n",
      "Found variants: 1/1\n",
      " Not found: 0/1.\n",
      " Percent found 100%\n"
     ]
    },
    {
     "name": "stdout",
     "output_type": "stream",
     "text": [
      "reading -- time=0:00:00.00, thread 1 of 1, part 1 of 1\n"
     ]
    },
    {
     "name": "stderr",
     "output_type": "stream",
     "text": [
      "WARNING:root:Loading 1 SNPs for chromosome 22, 487409 people\n",
      "WARNING:root:\n",
      "Found variants: 1/1\n",
      " Not found: 0/1.\n",
      " Percent found 100%\n"
     ]
    },
    {
     "name": "stdout",
     "output_type": "stream",
     "text": [
      "reading -- time=0:00:00.00, thread 1 of 1, part 1 of 1\n"
     ]
    },
    {
     "name": "stderr",
     "output_type": "stream",
     "text": [
      "WARNING:root:Loading 1 SNPs for chromosome 22, 487409 people\n",
      "WARNING:root:\n",
      "Found variants: 1/1\n",
      " Not found: 0/1.\n",
      " Percent found 100%\n"
     ]
    },
    {
     "name": "stdout",
     "output_type": "stream",
     "text": [
      "reading -- time=0:00:00.00, thread 1 of 1, part 1 of 1\n",
      "21.6 s ± 182 ms per loop (mean ± std. dev. of 7 runs, 1 loop each)\n"
     ]
    }
   ],
   "source": [
    "\n",
    "%timeit test_genos = test_bgen_file_class_instance.get_geno_each_sample(rsid_dict = {22: [test_variants[0]]})"
   ]
  },
  {
   "cell_type": "code",
   "execution_count": 226,
   "id": "b96d33af-985d-4aaa-af40-ccb4dffa9e1f",
   "metadata": {
    "execution": {
     "iopub.execute_input": "2021-10-16T00:42:33.615179Z",
     "iopub.status.busy": "2021-10-16T00:42:33.614658Z",
     "iopub.status.idle": "2021-10-16T00:46:22.125046Z",
     "shell.execute_reply": "2021-10-16T00:46:22.123964Z",
     "shell.execute_reply.started": "2021-10-16T00:42:33.615113Z"
    },
    "tags": []
   },
   "outputs": [
    {
     "name": "stderr",
     "output_type": "stream",
     "text": [
      "WARNING:root:Initialize dictionary of genetic files for 1 chromosomes, this might take a while\n"
     ]
    },
    {
     "name": "stdout",
     "output_type": "stream",
     "text": [
      "Loading chromosome 22\n"
     ]
    },
    {
     "name": "stderr",
     "output_type": "stream",
     "text": [
      "WARNING:root:Loading 19 SNPs for chromosome 22, 487409 people\n",
      "WARNING:root:\n",
      "Found variants: 13/19\n",
      " Not found: 6/19.\n",
      " Percent found 68%\n"
     ]
    },
    {
     "name": "stdout",
     "output_type": "stream",
     "text": [
      "reading -- time=0:00:00.00, thread 1 of 13, part 1 of 1\n"
     ]
    }
   ],
   "source": [
    "test_genos = test_bgen_file_class_instance.get_geno_each_sample(rsid_dict = {22: test_variants_big})"
   ]
  },
  {
   "cell_type": "code",
   "execution_count": 227,
   "id": "af49543b-88bf-42b4-b946-cf27295787b3",
   "metadata": {
    "collapsed": true,
    "execution": {
     "iopub.execute_input": "2021-10-21T21:05:04.442580Z",
     "iopub.status.busy": "2021-10-21T21:05:04.441978Z",
     "iopub.status.idle": "2021-10-21T21:05:04.472018Z",
     "shell.execute_reply": "2021-10-21T21:05:04.470920Z",
     "shell.execute_reply.started": "2021-10-21T21:05:04.442504Z"
    },
    "jupyter": {
     "outputs_hidden": true
    },
    "tags": []
   },
   "outputs": [
    {
     "data": {
      "text/plain": [
       "(          rs1004237 rs134490 rs1014626 rs77948203 rs4821519 rs202193982  \\\n",
       " sample_id                                                                 \n",
       " 5542886          CC       TT        TT         GG        GG          GG   \n",
       " 5137974          CC       TT        TT         GG        GG          GG   \n",
       " 3758348          CC       TT        TT         GG        GG          GG   \n",
       " 1391800          CC       CT        TT         GG        GG          GG   \n",
       " 3165331          CC       TT        TT         GG        GG          GG   \n",
       " ...             ...      ...       ...        ...       ...         ...   \n",
       " 5512806          CC       CT        TT         AA        GG          GG   \n",
       " 5548469          CC       TT        TT         GG        GG          GG   \n",
       " 2956972          CC       TT        TT         GG        GG          GG   \n",
       " 5229561          CC       TT        TT         AG        GG          GG   \n",
       " 3665101          CC       TT        TT         GG        GG          GG   \n",
       " \n",
       "           rs79963419 rs1003500 rs5762201 rs183032559 rs5756405 rs229502  \\\n",
       " sample_id                                                                 \n",
       " 5542886           GG        CC        GG          TT        AA       CC   \n",
       " 5137974           GG        CC        GG          TT        AG       CC   \n",
       " 3758348           GG        CC        GG          TT        GG       CC   \n",
       " 1391800           GG        CC        GG          TT        AG       CC   \n",
       " 3165331           GG        CC        GG          TT        AA       CC   \n",
       " ...              ...       ...       ...         ...       ...      ...   \n",
       " 5512806           GG        CC        GG          TT        AA       CC   \n",
       " 5548469           GG        CC        GG          TT        AG       CC   \n",
       " 2956972           GG        CC        GG          TT        GG       CC   \n",
       " 5229561           GG        CC        GG          TT        GG       CC   \n",
       " 3665101           GG        CC        GG          TT        AG       CC   \n",
       " \n",
       "           rs9610458  \n",
       " sample_id            \n",
       " 5542886          TT  \n",
       " 5137974          CC  \n",
       " 3758348          CT  \n",
       " 1391800          TT  \n",
       " 3165331          CT  \n",
       " ...             ...  \n",
       " 5512806          CT  \n",
       " 5548469          CC  \n",
       " 2956972          CT  \n",
       " 5229561          CT  \n",
       " 3665101          TT  \n",
       " \n",
       " [487409 rows x 13 columns],             alleleA alleleB  AA    AB      BB\n",
       " id_col                                       \n",
       " rs1004237         C       T  CC    CT      TT\n",
       " rs134490          C       T  CC    CT      TT\n",
       " rs1014626         C       T  CC    CT      TT\n",
       " rs77948203        G       A  GG    AG      AA\n",
       " rs4821519         G       C  GG    CG      CC\n",
       " rs202193982       G     GCT  GG  GGCT  GCTGCT\n",
       " rs79963419        G       C  GG    CG      CC\n",
       " rs1003500         C       T  CC    CT      TT\n",
       " rs5762201         A       G  AA    AG      GG\n",
       " rs183032559       T       G  TT    GT      GG\n",
       " rs5756405         A       G  AA    AG      GG\n",
       " rs229502          T       C  TT    CT      CC\n",
       " rs9610458         C       T  CC    CT      TT)"
      ]
     },
     "execution_count": 227,
     "metadata": {},
     "output_type": "execute_result"
    }
   ],
   "source": [
    "test_genos#[22]#.shape"
   ]
  },
  {
   "cell_type": "code",
   "execution_count": 76,
   "id": "5d10588d-2d71-499d-b097-01edd8360025",
   "metadata": {
    "execution": {
     "iopub.execute_input": "2021-09-29T15:05:47.035583Z",
     "iopub.status.busy": "2021-09-29T15:05:47.035012Z",
     "iopub.status.idle": "2021-09-29T15:05:47.076707Z",
     "shell.execute_reply": "2021-09-29T15:05:47.075602Z",
     "shell.execute_reply.started": "2021-09-29T15:05:47.035516Z"
    },
    "tags": []
   },
   "outputs": [
    {
     "data": {
      "text/html": [
       "<div>\n",
       "<style scoped>\n",
       "    .dataframe tbody tr th:only-of-type {\n",
       "        vertical-align: middle;\n",
       "    }\n",
       "\n",
       "    .dataframe tbody tr th {\n",
       "        vertical-align: top;\n",
       "    }\n",
       "\n",
       "    .dataframe thead th {\n",
       "        text-align: right;\n",
       "    }\n",
       "</style>\n",
       "<table border=\"1\" class=\"dataframe\">\n",
       "  <thead>\n",
       "    <tr style=\"text-align: right;\">\n",
       "      <th></th>\n",
       "      <th>alleleA</th>\n",
       "      <th>alleleB</th>\n",
       "      <th>AA</th>\n",
       "      <th>AB</th>\n",
       "      <th>BB</th>\n",
       "    </tr>\n",
       "    <tr>\n",
       "      <th>id_col</th>\n",
       "      <th></th>\n",
       "      <th></th>\n",
       "      <th></th>\n",
       "      <th></th>\n",
       "      <th></th>\n",
       "    </tr>\n",
       "  </thead>\n",
       "  <tbody>\n",
       "    <tr>\n",
       "      <th>rs77948203</th>\n",
       "      <td>G</td>\n",
       "      <td>A</td>\n",
       "      <td>GG</td>\n",
       "      <td>AG</td>\n",
       "      <td>AA</td>\n",
       "    </tr>\n",
       "    <tr>\n",
       "      <th>rs9610458</th>\n",
       "      <td>C</td>\n",
       "      <td>T</td>\n",
       "      <td>CC</td>\n",
       "      <td>CT</td>\n",
       "      <td>TT</td>\n",
       "    </tr>\n",
       "    <tr>\n",
       "      <th>rs134490</th>\n",
       "      <td>C</td>\n",
       "      <td>T</td>\n",
       "      <td>CC</td>\n",
       "      <td>CT</td>\n",
       "      <td>TT</td>\n",
       "    </tr>\n",
       "    <tr>\n",
       "      <th>rs5756405</th>\n",
       "      <td>A</td>\n",
       "      <td>G</td>\n",
       "      <td>AA</td>\n",
       "      <td>AG</td>\n",
       "      <td>GG</td>\n",
       "    </tr>\n",
       "  </tbody>\n",
       "</table>\n",
       "</div>"
      ],
      "text/plain": [
       "           alleleA alleleB  AA  AB  BB\n",
       "id_col                                \n",
       "rs77948203       G       A  GG  AG  AA\n",
       "rs9610458        C       T  CC  CT  TT\n",
       "rs134490         C       T  CC  CT  TT\n",
       "rs5756405        A       G  AA  AG  GG"
      ]
     },
     "execution_count": 76,
     "metadata": {},
     "output_type": "execute_result"
    }
   ],
   "source": [
    "all_geno_df = pd.DataFrame({\"id_col\": test_variants , \"raw_alleles\":test.bgen_reader_obj.allele_ids[test_variant_index]}).set_index(\"id_col\")\n",
    "all_geno_df[[\"alleleA\", \"alleleB\"]] = all_geno_df[\"raw_alleles\"].str.split(\",\", expand = True)\n",
    "all_geno_df = get_possible_geno_combinations(all_geno_df, allele_1_col=\"alleleA\", allele_2_col= \"alleleB\")\n",
    "all_geno_df"
   ]
  },
  {
   "cell_type": "code",
   "execution_count": 79,
   "id": "37d63e39-dda1-4a2a-b84d-5ab93c899c6f",
   "metadata": {
    "execution": {
     "iopub.execute_input": "2021-09-29T15:11:18.575530Z",
     "iopub.status.busy": "2021-09-29T15:11:18.574930Z",
     "iopub.status.idle": "2021-09-29T15:11:18.808781Z",
     "shell.execute_reply": "2021-09-29T15:11:18.807476Z",
     "shell.execute_reply.started": "2021-09-29T15:11:18.575441Z"
    },
    "tags": []
   },
   "outputs": [
    {
     "data": {
      "text/plain": [
       "array([['GG', 'TT', 'TT', 'AA'],\n",
       "       ['GG', 'CC', 'TT', 'AG'],\n",
       "       ['GG', 'CT', 'TT', 'GG'],\n",
       "       ...,\n",
       "       ['GG', 'CT', 'TT', 'GG'],\n",
       "       ['AG', 'CT', 'TT', 'GG'],\n",
       "       ['GG', 'TT', 'TT', 'AG']], dtype=object)"
      ]
     },
     "execution_count": 79,
     "metadata": {},
     "output_type": "execute_result"
    }
   ],
   "source": [
    "test_genos_str = np.select([test_genos[22] == 0, test_genos[22] ==1, test_genos[22] == 2], choicelist=[all_geno_df[\"AA\"], all_geno_df[\"AB\"], all_geno_df[\"BB\"]], default = np.nan)\n",
    "test_genos_str"
   ]
  },
  {
   "cell_type": "code",
   "execution_count": 85,
   "id": "5f5dae03-7ba7-4f15-a020-7e4ab7a2cd9f",
   "metadata": {
    "execution": {
     "iopub.execute_input": "2021-09-29T15:22:55.491894Z",
     "iopub.status.busy": "2021-09-29T15:22:55.491303Z",
     "iopub.status.idle": "2021-09-29T15:22:55.666994Z",
     "shell.execute_reply": "2021-09-29T15:22:55.665829Z",
     "shell.execute_reply.started": "2021-09-29T15:22:55.491803Z"
    },
    "tags": []
   },
   "outputs": [
    {
     "data": {
      "text/html": [
       "<div>\n",
       "<style scoped>\n",
       "    .dataframe tbody tr th:only-of-type {\n",
       "        vertical-align: middle;\n",
       "    }\n",
       "\n",
       "    .dataframe tbody tr th {\n",
       "        vertical-align: top;\n",
       "    }\n",
       "\n",
       "    .dataframe thead th {\n",
       "        text-align: right;\n",
       "    }\n",
       "</style>\n",
       "<table border=\"1\" class=\"dataframe\">\n",
       "  <thead>\n",
       "    <tr style=\"text-align: right;\">\n",
       "      <th></th>\n",
       "      <th>rs77948203</th>\n",
       "      <th>rs9610458</th>\n",
       "      <th>rs134490</th>\n",
       "      <th>rs5756405</th>\n",
       "    </tr>\n",
       "  </thead>\n",
       "  <tbody>\n",
       "    <tr>\n",
       "      <th>5542886</th>\n",
       "      <td>GG</td>\n",
       "      <td>TT</td>\n",
       "      <td>TT</td>\n",
       "      <td>AA</td>\n",
       "    </tr>\n",
       "    <tr>\n",
       "      <th>5137974</th>\n",
       "      <td>GG</td>\n",
       "      <td>CC</td>\n",
       "      <td>TT</td>\n",
       "      <td>AG</td>\n",
       "    </tr>\n",
       "    <tr>\n",
       "      <th>3758348</th>\n",
       "      <td>GG</td>\n",
       "      <td>CT</td>\n",
       "      <td>TT</td>\n",
       "      <td>GG</td>\n",
       "    </tr>\n",
       "    <tr>\n",
       "      <th>1391800</th>\n",
       "      <td>GG</td>\n",
       "      <td>TT</td>\n",
       "      <td>CT</td>\n",
       "      <td>AG</td>\n",
       "    </tr>\n",
       "    <tr>\n",
       "      <th>3165331</th>\n",
       "      <td>GG</td>\n",
       "      <td>CT</td>\n",
       "      <td>TT</td>\n",
       "      <td>AA</td>\n",
       "    </tr>\n",
       "    <tr>\n",
       "      <th>...</th>\n",
       "      <td>...</td>\n",
       "      <td>...</td>\n",
       "      <td>...</td>\n",
       "      <td>...</td>\n",
       "    </tr>\n",
       "    <tr>\n",
       "      <th>5512806</th>\n",
       "      <td>AA</td>\n",
       "      <td>CT</td>\n",
       "      <td>CT</td>\n",
       "      <td>AA</td>\n",
       "    </tr>\n",
       "    <tr>\n",
       "      <th>5548469</th>\n",
       "      <td>GG</td>\n",
       "      <td>CC</td>\n",
       "      <td>TT</td>\n",
       "      <td>AG</td>\n",
       "    </tr>\n",
       "    <tr>\n",
       "      <th>2956972</th>\n",
       "      <td>GG</td>\n",
       "      <td>CT</td>\n",
       "      <td>TT</td>\n",
       "      <td>GG</td>\n",
       "    </tr>\n",
       "    <tr>\n",
       "      <th>5229561</th>\n",
       "      <td>AG</td>\n",
       "      <td>CT</td>\n",
       "      <td>TT</td>\n",
       "      <td>GG</td>\n",
       "    </tr>\n",
       "    <tr>\n",
       "      <th>3665101</th>\n",
       "      <td>GG</td>\n",
       "      <td>TT</td>\n",
       "      <td>TT</td>\n",
       "      <td>AG</td>\n",
       "    </tr>\n",
       "  </tbody>\n",
       "</table>\n",
       "<p>487409 rows × 4 columns</p>\n",
       "</div>"
      ],
      "text/plain": [
       "        rs77948203 rs9610458 rs134490 rs5756405\n",
       "5542886         GG        TT       TT        AA\n",
       "5137974         GG        CC       TT        AG\n",
       "3758348         GG        CT       TT        GG\n",
       "1391800         GG        TT       CT        AG\n",
       "3165331         GG        CT       TT        AA\n",
       "...            ...       ...      ...       ...\n",
       "5512806         AA        CT       CT        AA\n",
       "5548469         GG        CC       TT        AG\n",
       "2956972         GG        CT       TT        GG\n",
       "5229561         AG        CT       TT        GG\n",
       "3665101         GG        TT       TT        AG\n",
       "\n",
       "[487409 rows x 4 columns]"
      ]
     },
     "execution_count": 85,
     "metadata": {},
     "output_type": "execute_result"
    }
   ],
   "source": [
    "all_samples_df = pd.DataFrame(test_genos_str, columns = test_variants, index = test.samples)\n",
    "all_samples_df"
   ]
  },
  {
   "cell_type": "code",
   "execution_count": 81,
   "id": "5a0c136d-87d7-472a-8a43-01fe6122fe44",
   "metadata": {
    "execution": {
     "iopub.execute_input": "2021-09-29T15:17:01.030328Z",
     "iopub.status.busy": "2021-09-29T15:17:01.029761Z",
     "iopub.status.idle": "2021-09-29T15:17:01.039690Z",
     "shell.execute_reply": "2021-09-29T15:17:01.038399Z",
     "shell.execute_reply.started": "2021-09-29T15:17:01.030260Z"
    },
    "tags": []
   },
   "outputs": [
    {
     "data": {
      "text/plain": [
       "(487409, 4)"
      ]
     },
     "execution_count": 81,
     "metadata": {},
     "output_type": "execute_result"
    }
   ],
   "source": [
    "test_genos_str.shape"
   ]
  },
  {
   "cell_type": "markdown",
   "id": "af11293d-cac6-451f-a9b2-e5adcf40ceb1",
   "metadata": {},
   "source": [
    "---"
   ]
  },
  {
   "cell_type": "markdown",
   "id": "597eb90a-9c25-42c5-b691-6cbc3c6804c0",
   "metadata": {},
   "source": [
    "---"
   ]
  },
  {
   "cell_type": "code",
   "execution_count": 38,
   "id": "4629c94a-e349-449c-86f1-9f5f78491e9d",
   "metadata": {
    "execution": {
     "iopub.execute_input": "2021-12-14T14:41:36.402917Z",
     "iopub.status.busy": "2021-12-14T14:41:36.402395Z",
     "iopub.status.idle": "2021-12-14T14:41:36.414167Z",
     "shell.execute_reply": "2021-12-14T14:41:36.412896Z",
     "shell.execute_reply.started": "2021-12-14T14:41:36.402857Z"
    },
    "tags": []
   },
   "outputs": [
    {
     "data": {
      "text/plain": [
       "Path('/lab/corradin_biobank/Raw_UKB_downloads/BGEN/ukb_imp_chr2_v3.bgen')"
      ]
     },
     "execution_count": 38,
     "metadata": {},
     "output_type": "execute_result"
    }
   ],
   "source": [
    "test = test_data_catalog.load(\"genetic_file_bgen\").files.single_file\n",
    "test.get_resolved_file_path(2)"
   ]
  },
  {
   "cell_type": "code",
   "execution_count": 41,
   "id": "weighted-pressing",
   "metadata": {
    "execution": {
     "iopub.execute_input": "2021-12-14T14:42:28.343697Z",
     "iopub.status.busy": "2021-12-14T14:42:28.343186Z",
     "iopub.status.idle": "2021-12-14T14:42:32.422049Z",
     "shell.execute_reply": "2021-12-14T14:42:32.420963Z",
     "shell.execute_reply.started": "2021-12-14T14:42:28.343624Z"
    },
    "tags": []
   },
   "outputs": [
    {
     "name": "stdout",
     "output_type": "stream",
     "text": [
      "Loading chromosome 22\n"
     ]
    }
   ],
   "source": [
    "test_bgen_file_format = test_data_catalog.load(\"genetic_file_bgen\").files.single_file\n",
    "test_bgen_file_obj = test_bgen_file_format.load_one_chrom(chrom=22)"
   ]
  },
  {
   "cell_type": "code",
   "execution_count": 43,
   "id": "c13ee551-9f2d-4707-afe4-8913b31fc227",
   "metadata": {
    "execution": {
     "iopub.execute_input": "2021-12-14T14:43:50.304973Z",
     "iopub.status.busy": "2021-12-14T14:43:50.304486Z",
     "iopub.status.idle": "2021-12-14T14:43:50.313686Z",
     "shell.execute_reply": "2021-12-14T14:43:50.312640Z",
     "shell.execute_reply.started": "2021-12-14T14:43:50.304909Z"
    }
   },
   "outputs": [
    {
     "data": {
      "text/plain": [
       "array(['5542886', '5137974', '3758348', ..., '2956972', '5229561',\n",
       "       '3665101'], dtype='<U7')"
      ]
     },
     "execution_count": 43,
     "metadata": {},
     "output_type": "execute_result"
    }
   ],
   "source": [
    "test_bgen_file_obj.samples"
   ]
  },
  {
   "cell_type": "code",
   "execution_count": 44,
   "id": "166f5fc4-f7c1-4c58-8036-3f4c191a70ad",
   "metadata": {
    "execution": {
     "iopub.execute_input": "2021-12-14T14:44:56.003356Z",
     "iopub.status.busy": "2021-12-14T14:44:56.002844Z",
     "iopub.status.idle": "2021-12-14T14:44:56.011560Z",
     "shell.execute_reply": "2021-12-14T14:44:56.010758Z",
     "shell.execute_reply.started": "2021-12-14T14:44:56.003297Z"
    }
   },
   "outputs": [
    {
     "data": {
      "text/plain": [
       "{'bgen_reader_obj': <bgen_reader._bgen2.open_bgen at 0x14f7c2053970>,\n",
       " 'samples': array(['5542886', '5137974', '3758348', ..., '2956972', '5229561',\n",
       "        '3665101'], dtype='<U7')}"
      ]
     },
     "execution_count": 44,
     "metadata": {},
     "output_type": "execute_result"
    }
   ],
   "source": [
    "vars(test_bgen_file_obj)"
   ]
  },
  {
   "cell_type": "code",
   "execution_count": 45,
   "id": "helpful-front",
   "metadata": {
    "execution": {
     "iopub.execute_input": "2021-12-14T14:52:43.568673Z",
     "iopub.status.busy": "2021-12-14T14:52:43.568140Z",
     "iopub.status.idle": "2021-12-14T14:52:47.032776Z",
     "shell.execute_reply": "2021-12-14T14:52:47.031857Z",
     "shell.execute_reply.started": "2021-12-14T14:52:43.568611Z"
    },
    "tags": []
   },
   "outputs": [],
   "source": [
    "#redo this to rapidly change and reload the BgenFileObject code inside same file\n",
    "test_bgen_file_obj = BgenFileObject(**{key: val for key, val in vars(test_bgen_file_obj).items() if key not in [\"samples\"]})"
   ]
  },
  {
   "cell_type": "code",
   "execution_count": 47,
   "id": "pregnant-titanium",
   "metadata": {
    "execution": {
     "iopub.execute_input": "2021-12-14T15:03:45.577468Z",
     "iopub.status.busy": "2021-12-14T15:03:45.577037Z",
     "iopub.status.idle": "2021-12-14T15:03:48.674001Z",
     "shell.execute_reply": "2021-12-14T15:03:48.672891Z",
     "shell.execute_reply.started": "2021-12-14T15:03:45.577418Z"
    },
    "tags": []
   },
   "outputs": [
    {
     "data": {
      "text/plain": [
       "array([   0,    2, 2000])"
      ]
     },
     "execution_count": 47,
     "metadata": {},
     "output_type": "execute_result"
    }
   ],
   "source": [
    "test_bgen_file_obj.get_variant_index(ids = ['22:16050075_A_G', '22:16050213_C_T', '22:16212580_G_A'], id_type= \"id\")"
   ]
  },
  {
   "cell_type": "code",
   "execution_count": 9,
   "id": "collaborative-calculator",
   "metadata": {
    "execution": {
     "iopub.execute_input": "2021-04-03T18:52:08.513609Z",
     "iopub.status.busy": "2021-04-03T18:52:08.513125Z",
     "iopub.status.idle": "2021-04-03T18:52:13.109936Z",
     "shell.execute_reply": "2021-04-03T18:52:13.109055Z",
     "shell.execute_reply.started": "2021-04-03T18:52:08.513546Z"
    }
   },
   "outputs": [
    {
     "data": {
      "text/plain": [
       "array([      0,       1, 4066772, 4066773])"
      ]
     },
     "execution_count": 9,
     "metadata": {},
     "output_type": "execute_result"
    }
   ],
   "source": [
    "variant_index = np.argwhere(np.isin(test_bgen_file_obj.bgen_reader_obj.rsids, ['9:10163_CT_C', '9:10273_AAC_A', '9:141146683_C_G', '9:141148854_G_A'])).reshape(-1,)\n",
    "variant_index"
   ]
  },
  {
   "cell_type": "code",
   "execution_count": 10,
   "id": "binding-journalist",
   "metadata": {
    "execution": {
     "iopub.execute_input": "2021-04-03T18:52:32.865051Z",
     "iopub.status.busy": "2021-04-03T18:52:32.864477Z",
     "iopub.status.idle": "2021-04-03T18:52:32.929392Z",
     "shell.execute_reply": "2021-04-03T18:52:32.928356Z",
     "shell.execute_reply.started": "2021-04-03T18:52:32.864979Z"
    }
   },
   "outputs": [
    {
     "data": {
      "text/plain": [
       "array([0, 1, 2])"
      ]
     },
     "execution_count": 10,
     "metadata": {},
     "output_type": "execute_result"
    }
   ],
   "source": [
    "sample_index = np.argwhere(np.isin(test_bgen_file_obj.samples.values, ['5542886', '5137974', '3758348'])).reshape(-1,)\n",
    "sample_index"
   ]
  },
  {
   "cell_type": "code",
   "execution_count": 40,
   "id": "secondary-consolidation",
   "metadata": {
    "execution": {
     "iopub.execute_input": "2021-04-05T22:32:07.922601Z",
     "iopub.status.busy": "2021-04-05T22:32:07.922239Z",
     "iopub.status.idle": "2021-04-05T22:32:12.053041Z",
     "shell.execute_reply": "2021-04-05T22:32:12.051730Z",
     "shell.execute_reply.started": "2021-04-05T22:32:07.922566Z"
    }
   },
   "outputs": [
    {
     "name": "stdout",
     "output_type": "stream",
     "text": [
      "reading -- time=0:00:00.00, thread 1 of 4, part 1 of 1\n"
     ]
    },
    {
     "data": {
      "text/plain": [
       "array([[[1.        , 0.        , 0.        ],\n",
       "        [1.        , 0.        , 0.        ],\n",
       "        [0.97647059, 0.02352941, 0.        ],\n",
       "        [1.        , 0.        , 0.        ]],\n",
       "\n",
       "       [[1.        , 0.        , 0.        ],\n",
       "        [1.        , 0.        , 0.        ],\n",
       "        [0.98039216, 0.01960784, 0.        ],\n",
       "        [1.        , 0.        , 0.        ]],\n",
       "\n",
       "       [[1.        , 0.        , 0.        ],\n",
       "        [1.        , 0.        , 0.        ],\n",
       "        [0.30588235, 0.69411765, 0.        ],\n",
       "        [1.        , 0.        , 0.        ]]])"
      ]
     },
     "execution_count": 40,
     "metadata": {},
     "output_type": "execute_result"
    }
   ],
   "source": [
    "test_probs = test_bgen_file_obj.get_probs(sample_ids = ['5542886', '5137974', '3758348'], \n",
    "                                          rsids = ['9:10163_CT_C', '9:10273_AAC_A', '9:141146683_C_G', '9:141148854_G_A'])\n",
    "test_probs"
   ]
  },
  {
   "cell_type": "code",
   "execution_count": 29,
   "id": "local-details",
   "metadata": {
    "execution": {
     "iopub.execute_input": "2021-04-05T21:29:30.265055Z",
     "iopub.status.busy": "2021-04-05T21:29:30.264751Z",
     "iopub.status.idle": "2021-04-05T21:45:43.275711Z",
     "shell.execute_reply": "2021-04-05T21:45:43.274476Z",
     "shell.execute_reply.started": "2021-04-05T21:29:30.265025Z"
    }
   },
   "outputs": [
    {
     "name": "stdout",
     "output_type": "stream",
     "text": [
      "reading -- time=0:15:52.81, thread 1 of 48, part 20,834 of 20,834\n"
     ]
    }
   ],
   "source": [
    "test_probs = test_bgen_file_obj.get_probs(sample_ids =['5542886'] , rsids = test_bgen_file_obj.bgen_reader_obj.rsids[:1_000_000])"
   ]
  },
  {
   "cell_type": "code",
   "execution_count": 41,
   "id": "hollow-nitrogen",
   "metadata": {
    "execution": {
     "iopub.execute_input": "2021-04-05T22:32:20.529720Z",
     "iopub.status.busy": "2021-04-05T22:32:20.529159Z",
     "iopub.status.idle": "2021-04-05T22:32:20.538444Z",
     "shell.execute_reply": "2021-04-05T22:32:20.537450Z",
     "shell.execute_reply.started": "2021-04-05T22:32:20.529654Z"
    }
   },
   "outputs": [
    {
     "data": {
      "text/plain": [
       "288"
      ]
     },
     "execution_count": 41,
     "metadata": {},
     "output_type": "execute_result"
    }
   ],
   "source": [
    "test_probs.nbytes"
   ]
  },
  {
   "cell_type": "code",
   "execution_count": 47,
   "id": "increased-module",
   "metadata": {
    "execution": {
     "iopub.execute_input": "2021-04-02T13:55:34.083285Z",
     "iopub.status.busy": "2021-04-02T13:55:34.078741Z",
     "iopub.status.idle": "2021-04-02T13:55:34.093974Z",
     "shell.execute_reply": "2021-04-02T13:55:34.092744Z",
     "shell.execute_reply.started": "2021-04-02T13:55:34.083209Z"
    }
   },
   "outputs": [
    {
     "data": {
      "text/plain": [
       "array([[ 0.,  0.,  0.,  0.],\n",
       "       [ 0.,  0.,  0.,  0.],\n",
       "       [ 0.,  0., nan,  0.]])"
      ]
     },
     "execution_count": 47,
     "metadata": {},
     "output_type": "execute_result"
    }
   ],
   "source": [
    "test_geno = test_bgen_file_obj.get_geno_each_sample(test_probs)\n",
    "test_geno"
   ]
  },
  {
   "cell_type": "code",
   "execution_count": 197,
   "id": "adverse-jacket",
   "metadata": {
    "execution": {
     "iopub.execute_input": "2021-04-02T12:04:44.172422Z",
     "iopub.status.busy": "2021-04-02T12:04:44.171939Z",
     "iopub.status.idle": "2021-04-02T12:04:45.766829Z",
     "shell.execute_reply": "2021-04-02T12:04:45.765670Z",
     "shell.execute_reply.started": "2021-04-02T12:04:44.172368Z"
    }
   },
   "outputs": [
    {
     "data": {
      "text/html": [
       "<div>\n",
       "<style scoped>\n",
       "    .dataframe tbody tr th:only-of-type {\n",
       "        vertical-align: middle;\n",
       "    }\n",
       "\n",
       "    .dataframe tbody tr th {\n",
       "        vertical-align: top;\n",
       "    }\n",
       "\n",
       "    .dataframe thead th {\n",
       "        text-align: right;\n",
       "    }\n",
       "</style>\n",
       "<table border=\"1\" class=\"dataframe\">\n",
       "  <thead>\n",
       "    <tr style=\"text-align: right;\">\n",
       "      <th></th>\n",
       "      <th>allele_1</th>\n",
       "      <th>allele_2</th>\n",
       "    </tr>\n",
       "  </thead>\n",
       "  <tbody>\n",
       "    <tr>\n",
       "      <th>9:10163_CT_C</th>\n",
       "      <td>CT</td>\n",
       "      <td>C</td>\n",
       "    </tr>\n",
       "    <tr>\n",
       "      <th>9:10273_AAC_A</th>\n",
       "      <td>AAC</td>\n",
       "      <td>A</td>\n",
       "    </tr>\n",
       "    <tr>\n",
       "      <th>9:141146683_C_G</th>\n",
       "      <td>C</td>\n",
       "      <td>G</td>\n",
       "    </tr>\n",
       "    <tr>\n",
       "      <th>9:141148854_G_A</th>\n",
       "      <td>G</td>\n",
       "      <td>A</td>\n",
       "    </tr>\n",
       "  </tbody>\n",
       "</table>\n",
       "</div>"
      ],
      "text/plain": [
       "                allele_1 allele_2\n",
       "9:10163_CT_C          CT        C\n",
       "9:10273_AAC_A        AAC        A\n",
       "9:141146683_C_G        C        G\n",
       "9:141148854_G_A        G        A"
      ]
     },
     "execution_count": 197,
     "metadata": {},
     "output_type": "execute_result"
    }
   ],
   "source": [
    "test_geno_df = test_bgen_file_obj.get_allele_ids(rsids=['9:10163_CT_C', '9:10273_AAC_A', '9:141146683_C_G', '9:141148854_G_A'])\n",
    "test_geno_df"
   ]
  },
  {
   "cell_type": "code",
   "execution_count": 198,
   "id": "designed-store",
   "metadata": {
    "execution": {
     "iopub.execute_input": "2021-04-02T12:05:20.299437Z",
     "iopub.status.busy": "2021-04-02T12:05:20.298930Z",
     "iopub.status.idle": "2021-04-02T12:05:21.501872Z",
     "shell.execute_reply": "2021-04-02T12:05:21.500983Z",
     "shell.execute_reply.started": "2021-04-02T12:05:20.299375Z"
    }
   },
   "outputs": [
    {
     "data": {
      "text/html": [
       "<div>\n",
       "<style scoped>\n",
       "    .dataframe tbody tr th:only-of-type {\n",
       "        vertical-align: middle;\n",
       "    }\n",
       "\n",
       "    .dataframe tbody tr th {\n",
       "        vertical-align: top;\n",
       "    }\n",
       "\n",
       "    .dataframe thead th {\n",
       "        text-align: right;\n",
       "    }\n",
       "</style>\n",
       "<table border=\"1\" class=\"dataframe\">\n",
       "  <thead>\n",
       "    <tr style=\"text-align: right;\">\n",
       "      <th></th>\n",
       "      <th>allele_1</th>\n",
       "      <th>allele_2</th>\n",
       "      <th>homo_1</th>\n",
       "      <th>het</th>\n",
       "      <th>homo_2</th>\n",
       "    </tr>\n",
       "  </thead>\n",
       "  <tbody>\n",
       "    <tr>\n",
       "      <th>9:10163_CT_C</th>\n",
       "      <td>CT</td>\n",
       "      <td>C</td>\n",
       "      <td>CT/CT</td>\n",
       "      <td>C/CT</td>\n",
       "      <td>C/C</td>\n",
       "    </tr>\n",
       "    <tr>\n",
       "      <th>9:10273_AAC_A</th>\n",
       "      <td>AAC</td>\n",
       "      <td>A</td>\n",
       "      <td>AAC/AAC</td>\n",
       "      <td>A/AAC</td>\n",
       "      <td>A/A</td>\n",
       "    </tr>\n",
       "    <tr>\n",
       "      <th>9:141146683_C_G</th>\n",
       "      <td>C</td>\n",
       "      <td>G</td>\n",
       "      <td>C/C</td>\n",
       "      <td>C/G</td>\n",
       "      <td>G/G</td>\n",
       "    </tr>\n",
       "    <tr>\n",
       "      <th>9:141148854_G_A</th>\n",
       "      <td>G</td>\n",
       "      <td>A</td>\n",
       "      <td>G/G</td>\n",
       "      <td>A/G</td>\n",
       "      <td>A/A</td>\n",
       "    </tr>\n",
       "  </tbody>\n",
       "</table>\n",
       "</div>"
      ],
      "text/plain": [
       "                allele_1 allele_2   homo_1    het homo_2\n",
       "9:10163_CT_C          CT        C    CT/CT   C/CT    C/C\n",
       "9:10273_AAC_A        AAC        A  AAC/AAC  A/AAC    A/A\n",
       "9:141146683_C_G        C        G      C/C    C/G    G/G\n",
       "9:141148854_G_A        G        A      G/G    A/G    A/A"
      ]
     },
     "execution_count": 198,
     "metadata": {},
     "output_type": "execute_result"
    }
   ],
   "source": [
    "test_bgen_file_obj.get_variant_combinations(rsids=['9:10163_CT_C', '9:10273_AAC_A', '9:141146683_C_G', '9:141148854_G_A'])"
   ]
  },
  {
   "cell_type": "code",
   "execution_count": null,
   "id": "weekly-intermediate",
   "metadata": {},
   "outputs": [],
   "source": [
    "test_bgen_file_obj"
   ]
  },
  {
   "cell_type": "code",
   "execution_count": 96,
   "id": "dedicated-alberta",
   "metadata": {
    "execution": {
     "iopub.execute_input": "2021-04-02T02:16:14.332582Z",
     "iopub.status.busy": "2021-04-02T02:16:14.332125Z",
     "iopub.status.idle": "2021-04-02T02:17:11.354943Z",
     "shell.execute_reply": "2021-04-02T02:17:11.353663Z",
     "shell.execute_reply.started": "2021-04-02T02:16:14.332531Z"
    }
   },
   "outputs": [
    {
     "name": "stderr",
     "output_type": "stream",
     "text": [
      "/lab/corradin_biobank/FOR_AN/OVP/corradin_ovp_utils/.venv/lib/python3.8/site-packages/dask/dataframe/core.py:6558: UserWarning: Insufficient elements for `head`. 5 elements requested, only 0 elements available. Try passing larger `npartitions` to `head`.\n",
      "  warnings.warn(msg.format(n, len(r)))\n"
     ]
    },
    {
     "data": {
      "text/html": [
       "<div>\n",
       "<style scoped>\n",
       "    .dataframe tbody tr th:only-of-type {\n",
       "        vertical-align: middle;\n",
       "    }\n",
       "\n",
       "    .dataframe tbody tr th {\n",
       "        vertical-align: top;\n",
       "    }\n",
       "\n",
       "    .dataframe thead th {\n",
       "        text-align: right;\n",
       "    }\n",
       "</style>\n",
       "<table border=\"1\" class=\"dataframe\">\n",
       "  <thead>\n",
       "    <tr style=\"text-align: right;\">\n",
       "      <th></th>\n",
       "      <th>id</th>\n",
       "      <th>rsid</th>\n",
       "      <th>chrom</th>\n",
       "      <th>pos</th>\n",
       "      <th>nalleles</th>\n",
       "      <th>allele_ids</th>\n",
       "      <th>vaddr</th>\n",
       "    </tr>\n",
       "  </thead>\n",
       "  <tbody>\n",
       "  </tbody>\n",
       "</table>\n",
       "</div>"
      ],
      "text/plain": [
       "Empty DataFrame\n",
       "Columns: [id, rsid, chrom, pos, nalleles, allele_ids, vaddr]\n",
       "Index: []"
      ]
     },
     "execution_count": 96,
     "metadata": {},
     "output_type": "execute_result"
    }
   ],
   "source": [
    "test_bgen_file_obj.variants.query(\"nalleles !=2\").head(npartitions = -1)"
   ]
  },
  {
   "cell_type": "code",
   "execution_count": 124,
   "id": "meaning-egyptian",
   "metadata": {
    "execution": {
     "iopub.execute_input": "2021-04-02T02:53:04.399409Z",
     "iopub.status.busy": "2021-04-02T02:53:04.398940Z",
     "iopub.status.idle": "2021-04-02T02:53:04.408586Z",
     "shell.execute_reply": "2021-04-02T02:53:04.407526Z",
     "shell.execute_reply.started": "2021-04-02T02:53:04.399359Z"
    }
   },
   "outputs": [
    {
     "data": {
      "text/plain": [
       "memmap(['9:10163_CT_C', '9:10273_AAC_A', 'rs535827433', ...,\n",
       "        '9:141146445_T_TA', '9:141146683_C_G', '9:141148854_G_A'],\n",
       "       dtype='<U151')"
      ]
     },
     "execution_count": 124,
     "metadata": {},
     "output_type": "execute_result"
    }
   ],
   "source": [
    "test_bgen_file_obj.bgen_reader_obj.rsids"
   ]
  },
  {
   "cell_type": "code",
   "execution_count": 73,
   "id": "accomplished-disease",
   "metadata": {
    "execution": {
     "iopub.execute_input": "2021-04-02T01:24:03.355281Z",
     "iopub.status.busy": "2021-04-02T01:24:03.354810Z",
     "iopub.status.idle": "2021-04-02T01:24:05.796316Z",
     "shell.execute_reply": "2021-04-02T01:24:05.795041Z",
     "shell.execute_reply.started": "2021-04-02T01:24:03.355230Z"
    }
   },
   "outputs": [
    {
     "name": "stdout",
     "output_type": "stream",
     "text": [
      "reading -- time=0:00:00.00, thread 1 of 4, part 1 of 1\n"
     ]
    },
    {
     "data": {
      "text/plain": [
       "(1, 4, 3)"
      ]
     },
     "execution_count": 73,
     "metadata": {},
     "output_type": "execute_result"
    }
   ],
   "source": [
    "test_bgen_file_obj.get_probs(['5542886'], ['9:10163_CT_C', '9:10273_AAC_A', '9:141146683_C_G', '9:141148854_G_A']).shape"
   ]
  },
  {
   "cell_type": "code",
   "execution_count": 123,
   "id": "executive-causing",
   "metadata": {
    "execution": {
     "iopub.execute_input": "2021-04-02T02:52:39.548982Z",
     "iopub.status.busy": "2021-04-02T02:52:39.548509Z",
     "iopub.status.idle": "2021-04-02T02:52:41.023827Z",
     "shell.execute_reply": "2021-04-02T02:52:41.022598Z",
     "shell.execute_reply.started": "2021-04-02T02:52:39.548922Z"
    }
   },
   "outputs": [
    {
     "name": "stdout",
     "output_type": "stream",
     "text": [
      "reading -- time=0:00:00.00, thread 1 of 4, part 1 of 1\n"
     ]
    },
    {
     "data": {
      "text/plain": [
       "array([[[1.        , 0.        , 0.        ],\n",
       "        [1.        , 0.        , 0.        ],\n",
       "        [0.97647059, 0.02352941, 0.        ],\n",
       "        [1.        , 0.        , 0.        ]],\n",
       "\n",
       "       [[1.        , 0.        , 0.        ],\n",
       "        [1.        , 0.        , 0.        ],\n",
       "        [0.98039216, 0.01960784, 0.        ],\n",
       "        [1.        , 0.        , 0.        ]],\n",
       "\n",
       "       [[0.99215686, 0.00784314, 0.        ],\n",
       "        [1.        , 0.        , 0.        ],\n",
       "        [0.89411765, 0.10588235, 0.        ],\n",
       "        [1.        , 0.        , 0.        ]],\n",
       "\n",
       "       [[1.        , 0.        , 0.        ],\n",
       "        [1.        , 0.        , 0.        ],\n",
       "        [0.85098039, 0.14901961, 0.        ],\n",
       "        [1.        , 0.        , 0.        ]]])"
      ]
     },
     "execution_count": 123,
     "metadata": {},
     "output_type": "execute_result"
    }
   ],
   "source": [
    "test_arr = test_bgen_file_obj.get_probs(['5542886', '5137974', \"1391800\"], ['9:10163_CT_C', '9:10273_AAC_A', '9:141146683_C_G', '9:141148854_G_A'])\n",
    "test_arr"
   ]
  },
  {
   "cell_type": "code",
   "execution_count": 125,
   "id": "genuine-angle",
   "metadata": {
    "execution": {
     "iopub.execute_input": "2021-04-02T03:11:04.574710Z",
     "iopub.status.busy": "2021-04-02T03:11:04.573940Z",
     "iopub.status.idle": "2021-04-02T03:11:04.582127Z",
     "shell.execute_reply": "2021-04-02T03:11:04.581003Z",
     "shell.execute_reply.started": "2021-04-02T03:11:04.574657Z"
    }
   },
   "outputs": [
    {
     "data": {
      "text/plain": [
       "memmap(['CT,C', 'AAC,A', 'T,C', ..., 'T,TA', 'C,G', 'G,A'], dtype='<U414')"
      ]
     },
     "execution_count": 125,
     "metadata": {},
     "output_type": "execute_result"
    }
   ],
   "source": [
    "test_bgen_file_obj.bgen_reader_obj.allele_ids"
   ]
  },
  {
   "cell_type": "code",
   "execution_count": 126,
   "id": "reported-douglas",
   "metadata": {
    "execution": {
     "iopub.execute_input": "2021-04-02T10:56:08.487158Z",
     "iopub.status.busy": "2021-04-02T10:56:08.486683Z",
     "iopub.status.idle": "2021-04-02T10:56:08.497983Z",
     "shell.execute_reply": "2021-04-02T10:56:08.496601Z",
     "shell.execute_reply.started": "2021-04-02T10:56:08.487107Z"
    }
   },
   "outputs": [
    {
     "data": {
      "text/plain": [
       "array(['CT,C', 'AAC,A', 'C,G', 'G,A'], dtype='<U414')"
      ]
     },
     "execution_count": 126,
     "metadata": {},
     "output_type": "execute_result"
    }
   ],
   "source": [
    "test_bgen_file_obj.bgen_reader_obj.allele_ids[variant_index]"
   ]
  },
  {
   "cell_type": "code",
   "execution_count": 136,
   "id": "sonic-nickel",
   "metadata": {
    "execution": {
     "iopub.execute_input": "2021-04-02T11:34:34.813751Z",
     "iopub.status.busy": "2021-04-02T11:34:34.812972Z",
     "iopub.status.idle": "2021-04-02T11:34:34.832656Z",
     "shell.execute_reply": "2021-04-02T11:34:34.831394Z",
     "shell.execute_reply.started": "2021-04-02T11:34:34.813698Z"
    }
   },
   "outputs": [
    {
     "data": {
      "text/html": [
       "<div>\n",
       "<style scoped>\n",
       "    .dataframe tbody tr th:only-of-type {\n",
       "        vertical-align: middle;\n",
       "    }\n",
       "\n",
       "    .dataframe tbody tr th {\n",
       "        vertical-align: top;\n",
       "    }\n",
       "\n",
       "    .dataframe thead th {\n",
       "        text-align: right;\n",
       "    }\n",
       "</style>\n",
       "<table border=\"1\" class=\"dataframe\">\n",
       "  <thead>\n",
       "    <tr style=\"text-align: right;\">\n",
       "      <th></th>\n",
       "      <th>allele_1</th>\n",
       "      <th>allele_2</th>\n",
       "    </tr>\n",
       "  </thead>\n",
       "  <tbody>\n",
       "    <tr>\n",
       "      <th>0</th>\n",
       "      <td>CT</td>\n",
       "      <td>C</td>\n",
       "    </tr>\n",
       "    <tr>\n",
       "      <th>1</th>\n",
       "      <td>AAC</td>\n",
       "      <td>A</td>\n",
       "    </tr>\n",
       "    <tr>\n",
       "      <th>2</th>\n",
       "      <td>C</td>\n",
       "      <td>G</td>\n",
       "    </tr>\n",
       "    <tr>\n",
       "      <th>3</th>\n",
       "      <td>G</td>\n",
       "      <td>A</td>\n",
       "    </tr>\n",
       "  </tbody>\n",
       "</table>\n",
       "</div>"
      ],
      "text/plain": [
       "  allele_1 allele_2\n",
       "0       CT        C\n",
       "1      AAC        A\n",
       "2        C        G\n",
       "3        G        A"
      ]
     },
     "execution_count": 136,
     "metadata": {},
     "output_type": "execute_result"
    }
   ],
   "source": [
    "pd.DataFrame([allele_str.split(\",\") for allele_str in test_bgen_file_obj.bgen_reader_obj.allele_ids[variant_index]], columns = [\"allele_1\", \"allele_2\"])"
   ]
  },
  {
   "cell_type": "code",
   "execution_count": 93,
   "id": "spiritual-brunei",
   "metadata": {
    "execution": {
     "iopub.execute_input": "2021-04-02T02:02:25.109289Z",
     "iopub.status.busy": "2021-04-02T02:02:25.108514Z",
     "iopub.status.idle": "2021-04-02T02:02:25.126520Z",
     "shell.execute_reply": "2021-04-02T02:02:25.125397Z",
     "shell.execute_reply.started": "2021-04-02T02:02:25.109238Z"
    }
   },
   "outputs": [
    {
     "name": "stdout",
     "output_type": "stream",
     "text": [
      "[1. 0. 0.]\n",
      "[1. 0. 0.]\n",
      "[0.97647059 0.02352941 0.        ]\n",
      "[1. 0. 0.]\n",
      "[1. 0. 0.]\n",
      "[1. 0. 0.]\n",
      "[0.98039216 0.01960784 0.        ]\n",
      "[1. 0. 0.]\n"
     ]
    },
    {
     "data": {
      "text/plain": [
       "array([[None, None, None, None],\n",
       "       [None, None, None, None]], dtype=object)"
      ]
     },
     "execution_count": 93,
     "metadata": {},
     "output_type": "execute_result"
    }
   ],
   "source": [
    "np.apply_along_axis(lambda x: print(x), 2, test_arr)"
   ]
  },
  {
   "cell_type": "code",
   "execution_count": 116,
   "id": "toxic-damages",
   "metadata": {
    "execution": {
     "iopub.execute_input": "2021-04-02T02:44:14.484842Z",
     "iopub.status.busy": "2021-04-02T02:44:14.484397Z",
     "iopub.status.idle": "2021-04-02T02:44:14.492685Z",
     "shell.execute_reply": "2021-04-02T02:44:14.491475Z",
     "shell.execute_reply.started": "2021-04-02T02:44:14.484793Z"
    }
   },
   "outputs": [
    {
     "data": {
      "text/plain": [
       "(2, 4)"
      ]
     },
     "execution_count": 116,
     "metadata": {},
     "output_type": "execute_result"
    }
   ],
   "source": [
    "np.argmax(test_arr, axis=2).shape"
   ]
  },
  {
   "cell_type": "code",
   "execution_count": 121,
   "id": "standing-anniversary",
   "metadata": {
    "execution": {
     "iopub.execute_input": "2021-04-02T02:51:46.606461Z",
     "iopub.status.busy": "2021-04-02T02:51:46.606016Z",
     "iopub.status.idle": "2021-04-02T02:51:46.617089Z",
     "shell.execute_reply": "2021-04-02T02:51:46.615977Z",
     "shell.execute_reply.started": "2021-04-02T02:51:46.606412Z"
    }
   },
   "outputs": [
    {
     "data": {
      "text/plain": [
       "array([[0, 0, 0, 0],\n",
       "       [0, 0, 0, 0]])"
      ]
     },
     "execution_count": 121,
     "metadata": {},
     "output_type": "execute_result"
    }
   ],
   "source": [
    "np.argmax(test_arr, axis=2)"
   ]
  },
  {
   "cell_type": "code",
   "execution_count": 120,
   "id": "dynamic-staff",
   "metadata": {
    "execution": {
     "iopub.execute_input": "2021-04-02T02:51:36.274831Z",
     "iopub.status.busy": "2021-04-02T02:51:36.273967Z",
     "iopub.status.idle": "2021-04-02T02:51:36.284764Z",
     "shell.execute_reply": "2021-04-02T02:51:36.283653Z",
     "shell.execute_reply.started": "2021-04-02T02:51:36.274777Z"
    }
   },
   "outputs": [
    {
     "data": {
      "text/plain": [
       "array([[[1., 0., 0.],\n",
       "        [1., 0., 0.],\n",
       "        [1., 0., 0.],\n",
       "        [1., 0., 0.]],\n",
       "\n",
       "       [[1., 0., 0.],\n",
       "        [1., 0., 0.],\n",
       "        [1., 0., 0.],\n",
       "        [1., 0., 0.]]])"
      ]
     },
     "execution_count": 120,
     "metadata": {},
     "output_type": "execute_result"
    }
   ],
   "source": [
    "np.identity(3)[np.argmax(test_arr, axis=2)]"
   ]
  },
  {
   "cell_type": "code",
   "execution_count": 91,
   "id": "widespread-bleeding",
   "metadata": {
    "execution": {
     "iopub.execute_input": "2021-04-02T01:48:50.161931Z",
     "iopub.status.busy": "2021-04-02T01:48:50.161135Z",
     "iopub.status.idle": "2021-04-02T01:48:50.169577Z",
     "shell.execute_reply": "2021-04-02T01:48:50.168450Z",
     "shell.execute_reply.started": "2021-04-02T01:48:50.161879Z"
    }
   },
   "outputs": [
    {
     "data": {
      "text/plain": [
       "array([[0, 0, 0, 0],\n",
       "       [0, 0, 0, 0]])"
      ]
     },
     "execution_count": 91,
     "metadata": {},
     "output_type": "execute_result"
    }
   ],
   "source": [
    "np.argmax(test_arr, axis=2)"
   ]
  },
  {
   "cell_type": "code",
   "execution_count": null,
   "id": "reliable-peninsula",
   "metadata": {},
   "outputs": [],
   "source": [
    "np.apply_along_axis(np.argmax)"
   ]
  },
  {
   "cell_type": "code",
   "execution_count": null,
   "id": "undefined-chicago",
   "metadata": {},
   "outputs": [],
   "source": [
    "np.apply_over_axes()"
   ]
  },
  {
   "cell_type": "code",
   "execution_count": 86,
   "id": "engaging-europe",
   "metadata": {
    "execution": {
     "iopub.execute_input": "2021-04-02T01:33:51.142094Z",
     "iopub.status.busy": "2021-04-02T01:33:51.141613Z",
     "iopub.status.idle": "2021-04-02T01:33:53.030163Z",
     "shell.execute_reply": "2021-04-02T01:33:53.029128Z",
     "shell.execute_reply.started": "2021-04-02T01:33:51.142036Z"
    }
   },
   "outputs": [
    {
     "name": "stdout",
     "output_type": "stream",
     "text": [
      "reading -- time=0:00:00.00, thread 1 of 4, part 1 of 1\n"
     ]
    },
    {
     "data": {
      "text/plain": [
       "array([[1.        , 1.        , 0.97647059, 1.        ],\n",
       "       [1.        , 1.        , 0.98039216, 1.        ]])"
      ]
     },
     "execution_count": 86,
     "metadata": {},
     "output_type": "execute_result"
    }
   ],
   "source": [
    "test_bgen_file_obj.get_probs(['5542886', '5137974'], ['9:10163_CT_C', '9:10273_AAC_A', '9:141146683_C_G', '9:141148854_G_A'])[:,:,0]"
   ]
  },
  {
   "cell_type": "code",
   "execution_count": null,
   "id": "steady-swiss",
   "metadata": {},
   "outputs": [],
   "source": [
    "np.apply()"
   ]
  },
  {
   "cell_type": "code",
   "execution_count": 82,
   "id": "textile-bradford",
   "metadata": {
    "execution": {
     "iopub.execute_input": "2021-04-02T01:32:46.805438Z",
     "iopub.status.busy": "2021-04-02T01:32:46.804968Z",
     "iopub.status.idle": "2021-04-02T01:32:46.817730Z",
     "shell.execute_reply": "2021-04-02T01:32:46.816469Z",
     "shell.execute_reply.started": "2021-04-02T01:32:46.805380Z"
    }
   },
   "outputs": [
    {
     "data": {
      "text/plain": [
       "0         5542886\n",
       "1         5137974\n",
       "2         3758348\n",
       "3         1391800\n",
       "4         3165331\n",
       "           ...   \n",
       "487404    5512806\n",
       "487405    5548469\n",
       "487406    2956972\n",
       "487407    5229561\n",
       "487408    3665101\n",
       "Name: id, Length: 487409, dtype: object"
      ]
     },
     "execution_count": 82,
     "metadata": {},
     "output_type": "execute_result"
    }
   ],
   "source": [
    "test_bgen_file_obj.samples"
   ]
  },
  {
   "cell_type": "code",
   "execution_count": 57,
   "id": "sharing-protein",
   "metadata": {
    "execution": {
     "iopub.execute_input": "2021-04-02T00:04:10.613744Z",
     "iopub.status.busy": "2021-04-02T00:04:10.612107Z",
     "iopub.status.idle": "2021-04-02T00:04:10.688208Z",
     "shell.execute_reply": "2021-04-02T00:04:10.687013Z",
     "shell.execute_reply.started": "2021-04-02T00:04:10.613214Z"
    }
   },
   "outputs": [
    {
     "data": {
      "text/plain": [
       "memmap(['CT,C', 'AAC,A', 'T,C', ..., 'T,TA', 'C,G', 'G,A'], dtype='<U414')"
      ]
     },
     "execution_count": 57,
     "metadata": {},
     "output_type": "execute_result"
    }
   ],
   "source": [
    "test_bgen_file_obj.bgen_reader_obj.allele_ids"
   ]
  },
  {
   "cell_type": "code",
   "execution_count": 65,
   "id": "ambient-indianapolis",
   "metadata": {
    "execution": {
     "iopub.execute_input": "2021-04-02T00:10:30.897976Z",
     "iopub.status.busy": "2021-04-02T00:10:30.897229Z",
     "iopub.status.idle": "2021-04-02T00:10:31.005548Z",
     "shell.execute_reply": "2021-04-02T00:10:31.004335Z",
     "shell.execute_reply.started": "2021-04-02T00:10:30.897926Z"
    }
   },
   "outputs": [
    {
     "name": "stdout",
     "output_type": "stream",
     "text": [
      "reading -- time=0:00:00.00, thread 1 of 4, part 1 of 1\n"
     ]
    },
    {
     "data": {
      "text/plain": [
       "(3, 4, 3)"
      ]
     },
     "execution_count": 65,
     "metadata": {},
     "output_type": "execute_result"
    }
   ],
   "source": [
    "test_bgen_file_obj.bgen_reader_obj.read((sample_index, variant_index))"
   ]
  },
  {
   "cell_type": "code",
   "execution_count": 36,
   "id": "acute-mouse",
   "metadata": {
    "execution": {
     "iopub.execute_input": "2021-03-30T15:53:21.382853Z",
     "iopub.status.busy": "2021-03-30T15:53:21.382530Z",
     "iopub.status.idle": "2021-03-30T15:53:21.460429Z",
     "shell.execute_reply": "2021-03-30T15:53:21.459696Z",
     "shell.execute_reply.started": "2021-03-30T15:53:21.382814Z"
    }
   },
   "outputs": [
    {
     "name": "stdout",
     "output_type": "stream",
     "text": [
      "reading -- time=0:00:00.00, thread 1 of 4, part 1 of 1\n"
     ]
    },
    {
     "data": {
      "text/plain": [
       "(487409, 4, 3)"
      ]
     },
     "execution_count": 36,
     "metadata": {},
     "output_type": "execute_result"
    }
   ],
   "source": [
    "test_bgen_file_obj.bgen_reader_obj.read(variant_index).shape"
   ]
  },
  {
   "cell_type": "code",
   "execution_count": 21,
   "id": "emotional-arrival",
   "metadata": {
    "execution": {
     "iopub.execute_input": "2021-03-28T18:42:18.367255Z",
     "iopub.status.busy": "2021-03-28T18:42:18.366602Z",
     "iopub.status.idle": "2021-03-28T18:43:01.556598Z",
     "shell.execute_reply": "2021-03-28T18:43:01.555617Z",
     "shell.execute_reply.started": "2021-03-28T18:42:18.367174Z"
    }
   },
   "outputs": [
    {
     "data": {
      "text/plain": [
       "4066774"
      ]
     },
     "execution_count": 21,
     "metadata": {},
     "output_type": "execute_result"
    }
   ],
   "source": [
    "test_bgen_file_obj.variants.shape[0].compute()"
   ]
  },
  {
   "cell_type": "code",
   "execution_count": 11,
   "id": "confidential-chess",
   "metadata": {
    "execution": {
     "iopub.execute_input": "2021-03-28T18:26:53.947295Z",
     "iopub.status.busy": "2021-03-28T18:26:53.946688Z",
     "iopub.status.idle": "2021-03-28T18:26:53.958110Z",
     "shell.execute_reply": "2021-03-28T18:26:53.956278Z",
     "shell.execute_reply.started": "2021-03-28T18:26:53.947222Z"
    }
   },
   "outputs": [
    {
     "data": {
      "text/plain": [
       "{'type': 'corradin_ovp_utils.datasets.OVPDataset.OVPDataset',\n",
       " 'file_format': 'genetic_file.Bgen.BgenFileFormat',\n",
       " 'file_type': 'OVPDataset.SingleFilePathSchema',\n",
       " 'file_path': {'folder': '/lab/corradin_biobank/Raw_UKB_downloads/BGEN/',\n",
       "  'split_by_chromosome': True,\n",
       "  'full_file_name': 'ukb_imp_chr{chrom_num}_v3.bgen'},\n",
       " 'load_args': {'sample_file': '/lab/corradin_biobank/Raw_UKB_downloads/sample_files/ukb45624_imp_chr9_v3_s487320.sample'}}"
      ]
     },
     "execution_count": 11,
     "metadata": {},
     "output_type": "execute_result"
    }
   ],
   "source": [
    "conf_test_data_catalog[\"genetic_file_bgen\"]"
   ]
  },
  {
   "cell_type": "code",
   "execution_count": 15,
   "id": "incorrect-stick",
   "metadata": {
    "collapsed": true,
    "execution": {
     "iopub.execute_input": "2021-03-28T01:04:27.174311Z",
     "iopub.status.busy": "2021-03-28T01:04:27.173692Z",
     "iopub.status.idle": "2021-03-28T01:04:31.078049Z",
     "shell.execute_reply": "2021-03-28T01:04:31.076854Z",
     "shell.execute_reply.started": "2021-03-28T01:04:27.174217Z"
    },
    "jupyter": {
     "outputs_hidden": true
    }
   },
   "outputs": [
    {
     "name": "stdout",
     "output_type": "stream",
     "text": [
      "Sample IDs are read from /lab/corradin_biobank/Raw_UKB_downloads/sample_files/ukb45624_imp_chr9_v3_s487320.sample.\n"
     ]
    },
    {
     "name": "stderr",
     "output_type": "stream",
     "text": [
      "Mapping genotypes:   1%|          | 27635/4066774 [00:02<06:12, 10830.68it/s]"
     ]
    },
    {
     "ename": "KeyboardInterrupt",
     "evalue": "",
     "output_type": "error",
     "traceback": [
      "\u001b[0;31m---------------------------------------------------------------------------\u001b[0m",
      "\u001b[0;31mKeyboardInterrupt\u001b[0m                         Traceback (most recent call last)",
      "\u001b[0;32m<ipython-input-15-b47621f139b9>\u001b[0m in \u001b[0;36m<module>\u001b[0;34m\u001b[0m\n\u001b[0;32m----> 1\u001b[0;31m \u001b[0mread_bgen\u001b[0m\u001b[0;34m(\u001b[0m\u001b[0;34m\"/lab/corradin_biobank/Raw_UKB_downloads/BGEN/ukb_imp_chr9_v3.bgen\"\u001b[0m\u001b[0;34m,\u001b[0m \u001b[0msamples_filepath\u001b[0m\u001b[0;34m=\u001b[0m\u001b[0;34m\"/lab/corradin_biobank/Raw_UKB_downloads/sample_files/ukb45624_imp_chr9_v3_s487320.sample\"\u001b[0m\u001b[0;34m)\u001b[0m\u001b[0;34m\u001b[0m\u001b[0;34m\u001b[0m\u001b[0m\n\u001b[0m",
      "\u001b[0;32m/lab/corradin_biobank/FOR_AN/OVP/corradin_ovp_utils/.venv/lib/python3.8/site-packages/bgen_reader/_reader.py\u001b[0m in \u001b[0;36mread_bgen\u001b[0;34m(filepath, metafile_filepath, samples_filepath, verbose)\u001b[0m\n\u001b[1;32m    116\u001b[0m             )\n\u001b[1;32m    117\u001b[0m \u001b[0;34m\u001b[0m\u001b[0m\n\u001b[0;32m--> 118\u001b[0;31m         \u001b[0mgenotype\u001b[0m \u001b[0;34m=\u001b[0m \u001b[0mcreate_genotypes\u001b[0m\u001b[0;34m(\u001b[0m\u001b[0mbgen\u001b[0m\u001b[0;34m,\u001b[0m \u001b[0mmetafile_filepath\u001b[0m\u001b[0;34m,\u001b[0m \u001b[0mverbose\u001b[0m\u001b[0;34m)\u001b[0m\u001b[0;34m\u001b[0m\u001b[0;34m\u001b[0m\u001b[0m\n\u001b[0m\u001b[1;32m    119\u001b[0m \u001b[0;34m\u001b[0m\u001b[0m\n\u001b[1;32m    120\u001b[0m     \u001b[0;32mreturn\u001b[0m \u001b[0mdict\u001b[0m\u001b[0;34m(\u001b[0m\u001b[0mvariants\u001b[0m\u001b[0;34m=\u001b[0m\u001b[0mvariants\u001b[0m\u001b[0;34m,\u001b[0m \u001b[0msamples\u001b[0m\u001b[0;34m=\u001b[0m\u001b[0msamples\u001b[0m\u001b[0;34m,\u001b[0m \u001b[0mgenotype\u001b[0m\u001b[0;34m=\u001b[0m\u001b[0mgenotype\u001b[0m\u001b[0;34m)\u001b[0m\u001b[0;34m\u001b[0m\u001b[0;34m\u001b[0m\u001b[0m\n",
      "\u001b[0;32m/lab/corradin_biobank/FOR_AN/OVP/corradin_ovp_utils/.venv/lib/python3.8/site-packages/bgen_reader/_genotype.py\u001b[0m in \u001b[0;36mcreate_genotypes\u001b[0;34m(bgen, metafile_filepath, verbose)\u001b[0m\n\u001b[1;32m     13\u001b[0m \u001b[0;34m\u001b[0m\u001b[0m\n\u001b[1;32m     14\u001b[0m     \u001b[0mdesc\u001b[0m \u001b[0;34m=\u001b[0m \u001b[0;34m\"Mapping genotypes\"\u001b[0m\u001b[0;34m\u001b[0m\u001b[0;34m\u001b[0m\u001b[0m\n\u001b[0;32m---> 15\u001b[0;31m     return [\n\u001b[0m\u001b[1;32m     16\u001b[0m         \u001b[0m_get_read_genotype\u001b[0m\u001b[0;34m(\u001b[0m\u001b[0mbgen\u001b[0m\u001b[0;34m,\u001b[0m \u001b[0mmetafile_filepath\u001b[0m\u001b[0;34m)\u001b[0m\u001b[0;34m(\u001b[0m\u001b[0mi\u001b[0m\u001b[0;34m,\u001b[0m \u001b[0mdask_key_name\u001b[0m\u001b[0;34m=\u001b[0m\u001b[0mstr\u001b[0m\u001b[0;34m(\u001b[0m\u001b[0mi\u001b[0m\u001b[0;34m)\u001b[0m\u001b[0;34m)\u001b[0m\u001b[0;34m\u001b[0m\u001b[0;34m\u001b[0m\u001b[0m\n\u001b[1;32m     17\u001b[0m         \u001b[0;32mfor\u001b[0m \u001b[0mi\u001b[0m \u001b[0;32min\u001b[0m \u001b[0mtrange\u001b[0m\u001b[0;34m(\u001b[0m\u001b[0mnvariants\u001b[0m\u001b[0;34m,\u001b[0m \u001b[0mdesc\u001b[0m\u001b[0;34m=\u001b[0m\u001b[0mdesc\u001b[0m\u001b[0;34m,\u001b[0m \u001b[0mdisable\u001b[0m\u001b[0;34m=\u001b[0m\u001b[0;32mnot\u001b[0m \u001b[0mverbose\u001b[0m\u001b[0;34m)\u001b[0m\u001b[0;34m\u001b[0m\u001b[0;34m\u001b[0m\u001b[0m\n",
      "\u001b[0;32m/lab/corradin_biobank/FOR_AN/OVP/corradin_ovp_utils/.venv/lib/python3.8/site-packages/bgen_reader/_genotype.py\u001b[0m in \u001b[0;36m<listcomp>\u001b[0;34m(.0)\u001b[0m\n\u001b[1;32m     14\u001b[0m     \u001b[0mdesc\u001b[0m \u001b[0;34m=\u001b[0m \u001b[0;34m\"Mapping genotypes\"\u001b[0m\u001b[0;34m\u001b[0m\u001b[0;34m\u001b[0m\u001b[0m\n\u001b[1;32m     15\u001b[0m     return [\n\u001b[0;32m---> 16\u001b[0;31m         \u001b[0m_get_read_genotype\u001b[0m\u001b[0;34m(\u001b[0m\u001b[0mbgen\u001b[0m\u001b[0;34m,\u001b[0m \u001b[0mmetafile_filepath\u001b[0m\u001b[0;34m)\u001b[0m\u001b[0;34m(\u001b[0m\u001b[0mi\u001b[0m\u001b[0;34m,\u001b[0m \u001b[0mdask_key_name\u001b[0m\u001b[0;34m=\u001b[0m\u001b[0mstr\u001b[0m\u001b[0;34m(\u001b[0m\u001b[0mi\u001b[0m\u001b[0;34m)\u001b[0m\u001b[0;34m)\u001b[0m\u001b[0;34m\u001b[0m\u001b[0;34m\u001b[0m\u001b[0m\n\u001b[0m\u001b[1;32m     17\u001b[0m         \u001b[0;32mfor\u001b[0m \u001b[0mi\u001b[0m \u001b[0;32min\u001b[0m \u001b[0mtrange\u001b[0m\u001b[0;34m(\u001b[0m\u001b[0mnvariants\u001b[0m\u001b[0;34m,\u001b[0m \u001b[0mdesc\u001b[0m\u001b[0;34m=\u001b[0m\u001b[0mdesc\u001b[0m\u001b[0;34m,\u001b[0m \u001b[0mdisable\u001b[0m\u001b[0;34m=\u001b[0m\u001b[0;32mnot\u001b[0m \u001b[0mverbose\u001b[0m\u001b[0;34m)\u001b[0m\u001b[0;34m\u001b[0m\u001b[0;34m\u001b[0m\u001b[0m\n\u001b[1;32m     18\u001b[0m     ]\n",
      "\u001b[0;32m/lab/corradin_biobank/FOR_AN/OVP/corradin_ovp_utils/.venv/lib/python3.8/site-packages/dask/delayed.py\u001b[0m in \u001b[0;36m__call__\u001b[0;34m(self, *args, **kwargs)\u001b[0m\n\u001b[1;32m    638\u001b[0m \u001b[0;34m\u001b[0m\u001b[0m\n\u001b[1;32m    639\u001b[0m     \u001b[0;32mdef\u001b[0m \u001b[0m__call__\u001b[0m\u001b[0;34m(\u001b[0m\u001b[0mself\u001b[0m\u001b[0;34m,\u001b[0m \u001b[0;34m*\u001b[0m\u001b[0margs\u001b[0m\u001b[0;34m,\u001b[0m \u001b[0;34m**\u001b[0m\u001b[0mkwargs\u001b[0m\u001b[0;34m)\u001b[0m\u001b[0;34m:\u001b[0m\u001b[0;34m\u001b[0m\u001b[0;34m\u001b[0m\u001b[0m\n\u001b[0;32m--> 640\u001b[0;31m         return call_function(\n\u001b[0m\u001b[1;32m    641\u001b[0m             \u001b[0mself\u001b[0m\u001b[0;34m.\u001b[0m\u001b[0m_obj\u001b[0m\u001b[0;34m,\u001b[0m \u001b[0mself\u001b[0m\u001b[0;34m.\u001b[0m\u001b[0m_key\u001b[0m\u001b[0;34m,\u001b[0m \u001b[0margs\u001b[0m\u001b[0;34m,\u001b[0m \u001b[0mkwargs\u001b[0m\u001b[0;34m,\u001b[0m \u001b[0mpure\u001b[0m\u001b[0;34m=\u001b[0m\u001b[0mself\u001b[0m\u001b[0;34m.\u001b[0m\u001b[0m_pure\u001b[0m\u001b[0;34m,\u001b[0m \u001b[0mnout\u001b[0m\u001b[0;34m=\u001b[0m\u001b[0mself\u001b[0m\u001b[0;34m.\u001b[0m\u001b[0m_nout\u001b[0m\u001b[0;34m\u001b[0m\u001b[0;34m\u001b[0m\u001b[0m\n\u001b[1;32m    642\u001b[0m         )\n",
      "\u001b[0;32m/lab/corradin_biobank/FOR_AN/OVP/corradin_ovp_utils/.venv/lib/python3.8/site-packages/dask/delayed.py\u001b[0m in \u001b[0;36mcall_function\u001b[0;34m(func, func_token, args, kwargs, pure, nout)\u001b[0m\n\u001b[1;32m    605\u001b[0m         \u001b[0mname\u001b[0m \u001b[0;34m=\u001b[0m \u001b[0mdask_key_name\u001b[0m\u001b[0;34m\u001b[0m\u001b[0;34m\u001b[0m\u001b[0m\n\u001b[1;32m    606\u001b[0m \u001b[0;34m\u001b[0m\u001b[0m\n\u001b[0;32m--> 607\u001b[0;31m     \u001b[0margs2\u001b[0m\u001b[0;34m,\u001b[0m \u001b[0mcollections\u001b[0m \u001b[0;34m=\u001b[0m \u001b[0munzip\u001b[0m\u001b[0;34m(\u001b[0m\u001b[0mmap\u001b[0m\u001b[0;34m(\u001b[0m\u001b[0munpack_collections\u001b[0m\u001b[0;34m,\u001b[0m \u001b[0margs\u001b[0m\u001b[0;34m)\u001b[0m\u001b[0;34m,\u001b[0m \u001b[0;36m2\u001b[0m\u001b[0;34m)\u001b[0m\u001b[0;34m\u001b[0m\u001b[0;34m\u001b[0m\u001b[0m\n\u001b[0m\u001b[1;32m    608\u001b[0m     \u001b[0mcollections\u001b[0m \u001b[0;34m=\u001b[0m \u001b[0mlist\u001b[0m\u001b[0;34m(\u001b[0m\u001b[0mconcat\u001b[0m\u001b[0;34m(\u001b[0m\u001b[0mcollections\u001b[0m\u001b[0;34m)\u001b[0m\u001b[0;34m)\u001b[0m\u001b[0;34m\u001b[0m\u001b[0;34m\u001b[0m\u001b[0m\n\u001b[1;32m    609\u001b[0m \u001b[0;34m\u001b[0m\u001b[0m\n",
      "\u001b[0;32m/lab/corradin_biobank/FOR_AN/OVP/corradin_ovp_utils/.venv/lib/python3.8/site-packages/dask/delayed.py\u001b[0m in \u001b[0;36munzip\u001b[0;34m(ls, nout)\u001b[0m\n\u001b[1;32m     23\u001b[0m \u001b[0;32mdef\u001b[0m \u001b[0munzip\u001b[0m\u001b[0;34m(\u001b[0m\u001b[0mls\u001b[0m\u001b[0;34m,\u001b[0m \u001b[0mnout\u001b[0m\u001b[0;34m)\u001b[0m\u001b[0;34m:\u001b[0m\u001b[0;34m\u001b[0m\u001b[0;34m\u001b[0m\u001b[0m\n\u001b[1;32m     24\u001b[0m     \u001b[0;34m\"\"\"Unzip a list of lists into ``nout`` outputs.\"\"\"\u001b[0m\u001b[0;34m\u001b[0m\u001b[0;34m\u001b[0m\u001b[0m\n\u001b[0;32m---> 25\u001b[0;31m     \u001b[0mout\u001b[0m \u001b[0;34m=\u001b[0m \u001b[0mlist\u001b[0m\u001b[0;34m(\u001b[0m\u001b[0mzip\u001b[0m\u001b[0;34m(\u001b[0m\u001b[0;34m*\u001b[0m\u001b[0mls\u001b[0m\u001b[0;34m)\u001b[0m\u001b[0;34m)\u001b[0m\u001b[0;34m\u001b[0m\u001b[0;34m\u001b[0m\u001b[0m\n\u001b[0m\u001b[1;32m     26\u001b[0m     \u001b[0;32mif\u001b[0m \u001b[0;32mnot\u001b[0m \u001b[0mout\u001b[0m\u001b[0;34m:\u001b[0m\u001b[0;34m\u001b[0m\u001b[0;34m\u001b[0m\u001b[0m\n\u001b[1;32m     27\u001b[0m         \u001b[0mout\u001b[0m \u001b[0;34m=\u001b[0m \u001b[0;34m[\u001b[0m\u001b[0;34m(\u001b[0m\u001b[0;34m)\u001b[0m\u001b[0;34m]\u001b[0m \u001b[0;34m*\u001b[0m \u001b[0mnout\u001b[0m\u001b[0;34m\u001b[0m\u001b[0;34m\u001b[0m\u001b[0m\n",
      "\u001b[0;32m/lab/corradin_biobank/FOR_AN/OVP/corradin_ovp_utils/.venv/lib/python3.8/site-packages/dask/delayed.py\u001b[0m in \u001b[0;36munpack_collections\u001b[0;34m(expr)\u001b[0m\n\u001b[1;32m     40\u001b[0m \u001b[0;34m\u001b[0m\u001b[0m\n\u001b[1;32m     41\u001b[0m \u001b[0;34m\u001b[0m\u001b[0m\n\u001b[0;32m---> 42\u001b[0;31m \u001b[0;32mdef\u001b[0m \u001b[0munpack_collections\u001b[0m\u001b[0;34m(\u001b[0m\u001b[0mexpr\u001b[0m\u001b[0;34m)\u001b[0m\u001b[0;34m:\u001b[0m\u001b[0;34m\u001b[0m\u001b[0;34m\u001b[0m\u001b[0m\n\u001b[0m\u001b[1;32m     43\u001b[0m     \"\"\"Normalize a python object and merge all sub-graphs.\n\u001b[1;32m     44\u001b[0m \u001b[0;34m\u001b[0m\u001b[0m\n",
      "\u001b[0;31mKeyboardInterrupt\u001b[0m: "
     ]
    },
    {
     "name": "stderr",
     "output_type": "stream",
     "text": [
      "Mapping genotypes:   1%|          | 27635/4066774 [00:21<06:12, 10830.68it/s]"
     ]
    }
   ],
   "source": [
    "read_bgen(\"/lab/corradin_biobank/Raw_UKB_downloads/BGEN/ukb_imp_chr9_v3.bgen\", samples_filepath=\"/lab/corradin_biobank/Raw_UKB_downloads/sample_files/ukb45624_imp_chr9_v3_s487320.sample\")"
   ]
  },
  {
   "cell_type": "code",
   "execution_count": 24,
   "id": "least-cambodia",
   "metadata": {
    "execution": {
     "iopub.execute_input": "2021-03-28T18:58:14.395864Z",
     "iopub.status.busy": "2021-03-28T18:58:14.395234Z",
     "iopub.status.idle": "2021-03-28T18:58:20.650125Z",
     "shell.execute_reply": "2021-03-28T18:58:20.648779Z",
     "shell.execute_reply.started": "2021-03-28T18:58:14.395784Z"
    }
   },
   "outputs": [],
   "source": [
    "test_bgen_obj = open_bgen(\"/lab/corradin_biobank/Raw_UKB_downloads/BGEN/ukb_imp_chr9_v3.bgen\", samples_filepath=\"/lab/corradin_biobank/Raw_UKB_downloads/sample_files/ukb45624_imp_chr9_v3_s487320.sample\")"
   ]
  },
  {
   "cell_type": "code",
   "execution_count": 22,
   "id": "featured-muscle",
   "metadata": {
    "execution": {
     "iopub.execute_input": "2021-03-28T18:43:51.809254Z",
     "iopub.status.busy": "2021-03-28T18:43:51.808530Z",
     "iopub.status.idle": "2021-03-28T18:52:23.127966Z",
     "shell.execute_reply": "2021-03-28T18:52:23.127039Z",
     "shell.execute_reply.started": "2021-03-28T18:43:51.809158Z"
    }
   },
   "outputs": [
    {
     "name": "stdout",
     "output_type": "stream",
     "text": [
      "Sample IDs are read from /lab/corradin_biobank/Raw_UKB_downloads/sample_files/ukb45624_imp_chr9_v3_s487320.sample.\n"
     ]
    },
    {
     "name": "stderr",
     "output_type": "stream",
     "text": [
      "Mapping genotypes: 100%|██████████| 4066774/4066774 [08:30<00:00, 7972.36it/s] \n"
     ]
    }
   ],
   "source": [
    "test_bgen_obj = read_bgen(\"/lab/corradin_biobank/Raw_UKB_downloads/BGEN/ukb_imp_chr9_v3.bgen\", samples_filepath=\"/lab/corradin_biobank/Raw_UKB_downloads/sample_files/ukb45624_imp_chr9_v3_s487320.sample\")"
   ]
  },
  {
   "cell_type": "code",
   "execution_count": 31,
   "id": "apart-supervision",
   "metadata": {
    "execution": {
     "iopub.execute_input": "2021-03-28T19:01:42.536003Z",
     "iopub.status.busy": "2021-03-28T19:01:42.535366Z",
     "iopub.status.idle": "2021-03-28T19:01:42.551123Z",
     "shell.execute_reply": "2021-03-28T19:01:42.550078Z",
     "shell.execute_reply.started": "2021-03-28T19:01:42.535922Z"
    }
   },
   "outputs": [
    {
     "data": {
      "text/plain": [
       "bgen_reader._bgen2.open_bgen"
      ]
     },
     "execution_count": 31,
     "metadata": {},
     "output_type": "execute_result"
    }
   ],
   "source": [
    "type(test_bgen_obj)"
   ]
  },
  {
   "cell_type": "code",
   "execution_count": 56,
   "id": "fifteen-colors",
   "metadata": {
    "execution": {
     "iopub.execute_input": "2021-03-28T17:10:22.558556Z",
     "iopub.status.busy": "2021-03-28T17:10:22.557966Z",
     "iopub.status.idle": "2021-03-28T17:10:22.598351Z",
     "shell.execute_reply": "2021-03-28T17:10:22.597458Z",
     "shell.execute_reply.started": "2021-03-28T17:10:22.558483Z"
    }
   },
   "outputs": [
    {
     "data": {
      "text/plain": [
       "dask.dataframe.core.DataFrame"
      ]
     },
     "execution_count": 56,
     "metadata": {},
     "output_type": "execute_result"
    }
   ],
   "source": [
    "dd.DataFrame"
   ]
  },
  {
   "cell_type": "code",
   "execution_count": 61,
   "id": "bottom-preview",
   "metadata": {
    "execution": {
     "iopub.execute_input": "2021-03-28T17:12:21.651222Z",
     "iopub.status.busy": "2021-03-28T17:12:21.650588Z",
     "iopub.status.idle": "2021-03-28T17:12:21.688829Z",
     "shell.execute_reply": "2021-03-28T17:12:21.688069Z",
     "shell.execute_reply.started": "2021-03-28T17:12:21.651146Z"
    }
   },
   "outputs": [
    {
     "data": {
      "text/plain": [
       "pandas.core.series.Series"
      ]
     },
     "execution_count": 61,
     "metadata": {},
     "output_type": "execute_result"
    }
   ],
   "source": [
    "type(test_bgen_obj[\"samples\"])"
   ]
  },
  {
   "cell_type": "code",
   "execution_count": 62,
   "id": "upset-graduation",
   "metadata": {
    "execution": {
     "iopub.execute_input": "2021-03-28T17:14:00.579843Z",
     "iopub.status.busy": "2021-03-28T17:14:00.578948Z",
     "iopub.status.idle": "2021-03-28T17:14:00.862495Z",
     "shell.execute_reply": "2021-03-28T17:14:00.861099Z",
     "shell.execute_reply.started": "2021-03-28T17:14:00.579739Z"
    }
   },
   "outputs": [
    {
     "data": {
      "text/plain": [
       "dask.delayed.Delayed"
      ]
     },
     "execution_count": 62,
     "metadata": {},
     "output_type": "execute_result"
    }
   ],
   "source": [
    "type(test_bgen_obj[\"genotype\"][0])#[\"variants\"][\"id\"].compute()"
   ]
  },
  {
   "cell_type": "code",
   "execution_count": 33,
   "id": "numeric-michael",
   "metadata": {
    "execution": {
     "iopub.execute_input": "2021-03-28T13:13:47.426988Z",
     "iopub.status.busy": "2021-03-28T13:13:47.426399Z",
     "iopub.status.idle": "2021-03-28T13:13:47.476491Z",
     "shell.execute_reply": "2021-03-28T13:13:47.475377Z",
     "shell.execute_reply.started": "2021-03-28T13:13:47.426912Z"
    }
   },
   "outputs": [
    {
     "data": {
      "text/plain": [
       "array([[1.        , 0.        , 0.        ],\n",
       "       [1.        , 0.        , 0.        ],\n",
       "       [1.        , 0.        , 0.        ],\n",
       "       ...,\n",
       "       [0.98823529, 0.01176471, 0.        ],\n",
       "       [1.        , 0.        , 0.        ],\n",
       "       [1.        , 0.        , 0.        ]])"
      ]
     },
     "execution_count": 33,
     "metadata": {},
     "output_type": "execute_result"
    }
   ],
   "source": [
    "test_bgen_obj[\"genotype\"][0].compute()[\"probs\"]"
   ]
  },
  {
   "cell_type": "code",
   "execution_count": 12,
   "id": "fallen-static",
   "metadata": {
    "execution": {
     "iopub.execute_input": "2021-03-28T12:51:30.134666Z",
     "iopub.status.busy": "2021-03-28T12:51:30.134048Z",
     "iopub.status.idle": "2021-03-28T12:51:30.182695Z",
     "shell.execute_reply": "2021-03-28T12:51:30.181838Z",
     "shell.execute_reply.started": "2021-03-28T12:51:30.134591Z"
    }
   },
   "outputs": [],
   "source": [
    "test = test_bgen_file_format.load(chrom=9)#.ids"
   ]
  },
  {
   "cell_type": "code",
   "execution_count": 43,
   "id": "democratic-exercise",
   "metadata": {
    "execution": {
     "iopub.execute_input": "2021-03-28T16:52:48.155296Z",
     "iopub.status.busy": "2021-03-28T16:52:48.154661Z",
     "iopub.status.idle": "2021-03-28T16:52:56.790810Z",
     "shell.execute_reply": "2021-03-28T16:52:56.789651Z",
     "shell.execute_reply.started": "2021-03-28T16:52:48.155221Z"
    }
   },
   "outputs": [
    {
     "ename": "ValueError",
     "evalue": "The truth value of an array with more than one element is ambiguous. Use a.any() or a.all()",
     "output_type": "error",
     "traceback": [
      "\u001b[0;31m---------------------------------------------------------------------------\u001b[0m",
      "\u001b[0;31mValueError\u001b[0m                                Traceback (most recent call last)",
      "\u001b[0;32m<ipython-input-43-07a9146e2981>\u001b[0m in \u001b[0;36m<module>\u001b[0;34m\u001b[0m\n\u001b[0;32m----> 1\u001b[0;31m \u001b[0mnp\u001b[0m\u001b[0;34m.\u001b[0m\u001b[0mwhere\u001b[0m\u001b[0;34m(\u001b[0m\u001b[0mtest\u001b[0m\u001b[0;34m.\u001b[0m\u001b[0mids\u001b[0m \u001b[0;32min\u001b[0m \u001b[0;34m[\u001b[0m\u001b[0;34m'9:10163_CT_C'\u001b[0m\u001b[0;34m,\u001b[0m \u001b[0;34m'9:10273_AAC_A'\u001b[0m\u001b[0;34m,\u001b[0m \u001b[0;34m'9:10327_T_C'\u001b[0m\u001b[0;34m]\u001b[0m\u001b[0;34m)\u001b[0m\u001b[0;34m\u001b[0m\u001b[0;34m\u001b[0m\u001b[0m\n\u001b[0m",
      "\u001b[0;31mValueError\u001b[0m: The truth value of an array with more than one element is ambiguous. Use a.any() or a.all()"
     ]
    }
   ],
   "source": [
    "np.where(test.ids in ['9:10163_CT_C', '9:10273_AAC_A', '9:10327_T_C'])"
   ]
  },
  {
   "cell_type": "code",
   "execution_count": 17,
   "id": "particular-forth",
   "metadata": {
    "execution": {
     "iopub.execute_input": "2021-03-28T00:27:39.265942Z",
     "iopub.status.busy": "2021-03-28T00:27:39.265297Z",
     "iopub.status.idle": "2021-03-28T00:27:39.276888Z",
     "shell.execute_reply": "2021-03-28T00:27:39.275600Z",
     "shell.execute_reply.started": "2021-03-28T00:27:39.265864Z"
    }
   },
   "outputs": [
    {
     "data": {
      "text/plain": [
       "BgenFileFormat(filepath={1: Path('/lab/corradin_biobank/Raw_UKB_downloads/BGEN/ukb_imp_chr1_v3.bgen'), 2: Path('/lab/corradin_biobank/Raw_UKB_downloads/BGEN/ukb_imp_chr2_v3.bgen'), 3: Path('/lab/corradin_biobank/Raw_UKB_downloads/BGEN/ukb_imp_chr3_v3.bgen'), 4: Path('/lab/corradin_biobank/Raw_UKB_downloads/BGEN/ukb_imp_chr4_v3.bgen'), 5: Path('/lab/corradin_biobank/Raw_UKB_downloads/BGEN/ukb_imp_chr5_v3.bgen'), 6: Path('/lab/corradin_biobank/Raw_UKB_downloads/BGEN/ukb_imp_chr6_v3.bgen'), 7: Path('/lab/corradin_biobank/Raw_UKB_downloads/BGEN/ukb_imp_chr7_v3.bgen'), 8: Path('/lab/corradin_biobank/Raw_UKB_downloads/BGEN/ukb_imp_chr8_v3.bgen'), 9: Path('/lab/corradin_biobank/Raw_UKB_downloads/BGEN/ukb_imp_chr9_v3.bgen'), 10: Path('/lab/corradin_biobank/Raw_UKB_downloads/BGEN/ukb_imp_chr10_v3.bgen'), 11: Path('/lab/corradin_biobank/Raw_UKB_downloads/BGEN/ukb_imp_chr11_v3.bgen'), 12: Path('/lab/corradin_biobank/Raw_UKB_downloads/BGEN/ukb_imp_chr12_v3.bgen'), 13: Path('/lab/corradin_biobank/Raw_UKB_downloads/BGEN/ukb_imp_chr13_v3.bgen'), 14: Path('/lab/corradin_biobank/Raw_UKB_downloads/BGEN/ukb_imp_chr14_v3.bgen'), 15: Path('/lab/corradin_biobank/Raw_UKB_downloads/BGEN/ukb_imp_chr15_v3.bgen'), 16: Path('/lab/corradin_biobank/Raw_UKB_downloads/BGEN/ukb_imp_chr16_v3.bgen'), 17: Path('/lab/corradin_biobank/Raw_UKB_downloads/BGEN/ukb_imp_chr17_v3.bgen'), 18: Path('/lab/corradin_biobank/Raw_UKB_downloads/BGEN/ukb_imp_chr18_v3.bgen'), 19: Path('/lab/corradin_biobank/Raw_UKB_downloads/BGEN/ukb_imp_chr19_v3.bgen'), 20: Path('/lab/corradin_biobank/Raw_UKB_downloads/BGEN/ukb_imp_chr20_v3.bgen'), 21: Path('/lab/corradin_biobank/Raw_UKB_downloads/BGEN/ukb_imp_chr21_v3.bgen'), 22: Path('/lab/corradin_biobank/Raw_UKB_downloads/BGEN/ukb_imp_chr22_v3.bgen')}, sample_file='/lab/corradin_biobank/Raw_UKB_downloads/sample_files/ukb45624_imp_chr9_v3_s487320.sample')"
      ]
     },
     "execution_count": 17,
     "metadata": {},
     "output_type": "execute_result"
    }
   ],
   "source": [
    "test_data_catalog.load(\"genetic_file_bgen\").files.single_file"
   ]
  }
 ],
 "metadata": {
  "kernelspec": {
   "display_name": "Python 3",
   "language": "python",
   "name": "python3"
  },
  "language_info": {
   "codemirror_mode": {
    "name": "ipython",
    "version": 3
   },
   "file_extension": ".py",
   "mimetype": "text/x-python",
   "name": "python",
   "nbconvert_exporter": "python",
   "pygments_lexer": "ipython3",
   "version": "3.8.7"
  }
 },
 "nbformat": 4,
 "nbformat_minor": 5
}
