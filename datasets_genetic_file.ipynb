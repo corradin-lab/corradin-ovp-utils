{
 "cells": [
  {
   "cell_type": "code",
   "execution_count": 38,
   "id": "clear-orchestra",
   "metadata": {
    "execution": {
     "iopub.execute_input": "2021-11-02T16:10:34.924828Z",
     "iopub.status.busy": "2021-11-02T16:10:34.924345Z",
     "iopub.status.idle": "2021-11-02T16:10:34.930283Z",
     "shell.execute_reply": "2021-11-02T16:10:34.928866Z",
     "shell.execute_reply.started": "2021-11-02T16:10:34.924766Z"
    },
    "tags": []
   },
   "outputs": [],
   "source": [
    "# default_exp datasets.genetic_file.__init__"
   ]
  },
  {
   "cell_type": "markdown",
   "id": "internal-individual",
   "metadata": {},
   "source": [
    "# Genetic file formats\n",
    "\n",
    "> API details."
   ]
  },
  {
   "cell_type": "code",
   "execution_count": 1,
   "id": "second-spencer",
   "metadata": {
    "execution": {
     "iopub.execute_input": "2021-11-02T16:10:43.160239Z",
     "iopub.status.busy": "2021-11-02T16:10:43.159658Z",
     "iopub.status.idle": "2021-11-02T16:10:45.628849Z",
     "shell.execute_reply": "2021-11-02T16:10:45.627918Z",
     "shell.execute_reply.started": "2021-11-02T16:10:43.160091Z"
    },
    "tags": []
   },
   "outputs": [],
   "source": [
    "#hide\n",
    "# %load_ext autoreload\n",
    "# %autoreload 2\n",
    "\n",
    "from nbdev.showdoc import *\n",
    "import pandas as pd\n",
    "from corradin_ovp_utils.catalog import test_data_catalog, conf_test_data_catalog\n",
    "from fastcore.test import ExceptionExpected"
   ]
  },
  {
   "cell_type": "code",
   "execution_count": 2,
   "id": "permanent-location",
   "metadata": {
    "execution": {
     "iopub.execute_input": "2021-11-02T16:10:46.400823Z",
     "iopub.status.busy": "2021-11-02T16:10:46.400338Z",
     "iopub.status.idle": "2021-11-02T16:10:46.409561Z",
     "shell.execute_reply": "2021-11-02T16:10:46.408297Z",
     "shell.execute_reply.started": "2021-11-02T16:10:46.400757Z"
    },
    "tags": []
   },
   "outputs": [],
   "source": [
    "#export\n",
    "from corradin_ovp_utils.datasets.schemas import SingleFilePathSchema, CaseControlFilePathSchema\n",
    "from typing import Any, Dict, List, Optional, Literal, Union, Protocol\n",
    "from pydantic import BaseModel, validator\n",
    "from pathlib import Path, PosixPath\n",
    "from fastcore.basics import basic_repr\n",
    "import numpy as np\n",
    "import pandas as pd\n",
    "import abc"
   ]
  },
  {
   "cell_type": "code",
   "execution_count": 5,
   "id": "surgical-evanescence",
   "metadata": {
    "execution": {
     "iopub.execute_input": "2021-11-02T16:11:57.751210Z",
     "iopub.status.busy": "2021-11-02T16:11:57.750704Z",
     "iopub.status.idle": "2021-11-02T16:11:57.797254Z",
     "shell.execute_reply": "2021-11-02T16:11:57.795829Z",
     "shell.execute_reply.started": "2021-11-02T16:11:57.751138Z"
    },
    "tags": []
   },
   "outputs": [],
   "source": [
    "#export\n",
    "class GeneticFileFormat(BaseModel):\n",
    "    # sample_ids: Optional[str]\n",
    "    sample_file: Optional[str]\n",
    "    sample_ids: Optional[np.ndarray]\n",
    "    file_path: Union[SingleFilePathSchema, CaseControlFilePathSchema] #Union[str, Path, Dict[int, Union[str, Path]]]\n",
    "    __repr__ = basic_repr(\"file_path\")\n",
    "    \n",
    "    @validator('file_path')\n",
    "    def name_must_contain_space(cls, file_path):\n",
    "        if not file_path.split_by_chromosome and not file_path.chrom_num:\n",
    "            raise ValueError(\"Must specify `chrom_num` in the data catalog if `file_path` is not a template\")\n",
    "        return file_path\n",
    "\n",
    "    def get_resolved_file_path(self, chrom=None):\n",
    "        return self.file_path.get_full_file_path(chrom=chrom)\n",
    "    \n",
    "    def is_chrom_template(self):\n",
    "        return self.file_path.split_by_chromosome\n",
    "    \n",
    "    class Config:\n",
    "        arbitrary_types_allowed= True\n",
    "        \n",
    "class GeneticFileFormatInterfaceAPI(metaclass=abc.ABCMeta):\n",
    "    @classmethod\n",
    "    def __subclasshook__(cls, subclass):\n",
    "        return (hasattr(subclass, 'get_geno_each_sample') or NotImplemented) #\\\n",
    "#                 and \n",
    "#                 callable(subclass.get_geno_each_sample) #and \n",
    "#                 hasattr(subclass, 'extract_text') and \n",
    "#                 callable(subclass.extract_text) or \n",
    "#                 NotImplemented)\n",
    "    @abc.abstractmethod\n",
    "    def get_geno_each_sample(rsid_dict: Dict[int, str],\\\n",
    "                             batch_size:int,\\\n",
    "                             excluded_sample_ids:List[str], **kwargs):\n",
    "        raise NotImplementedError\n",
    "    \n",
    "\n",
    "def row_vectorize(f):\n",
    "    @wraps(f)\n",
    "    def wrapped_f(X, **kwargs):\n",
    "        rows = X.reshape(-1, X.shape[-1])\n",
    "        return np.reshape([f(row, **kwargs) for row in rows],\n",
    "                          X.shape[:-1] + (-1,))\n",
    "    return wrapped_f\n",
    "\n",
    "\n",
    "def triplicate_converter(sample_df, *, genotype_df, sample_id, high_lim=.9, low_lim=0.3, NA_val = \"NA\"):\n",
    "        \"\"\"\n",
    "        takes in allele_list in gen triplicate format and\n",
    "        return new_list in letter format\n",
    "        \"\"\"\n",
    "        \n",
    "        \n",
    "        rsid_genotype_df = genotype_df.loc[sample_df.index]\n",
    "        #all_geno = SimpleNamespace(**test_genfile_format.get_genotypes_df().loc[rsid])\n",
    "        \n",
    "        geno_1, geno_2, geno_3 = [sample_df.astype(float)[col] for col in sample_df]\n",
    "        AA_cond = (geno_1 >=high_lim) & (geno_2 < low_lim) & (geno_3 < low_lim)\n",
    "        AB_cond = (geno_2 >= high_lim) & (geno_1 < low_lim) & (geno_3 < low_lim)\n",
    "        BB_cond = (geno_3 >= high_lim) & (geno_1 < low_lim) & (geno_2 < low_lim)\n",
    "        geno_df =  np.select([AA_cond, AB_cond, BB_cond],\n",
    "                 [rsid_genotype_df[\"AA\"], rsid_genotype_df[\"AB\"], rsid_genotype_df[\"BB\"]],\n",
    "                 default = NA_val)\n",
    "        geno_df = pd.DataFrame(geno_df, index = sample_df.index, columns = [sample_id])\n",
    "        geno_df.columns.name= \"sample_id\"\n",
    "        return geno_df\n",
    "\n",
    "\n",
    "# def get_possible_geno_combinations(allele_1:str, allele_2:str):\n",
    "#     geno_df[\"homo_ref\"] = geno_df.loc[:,[self.ref_col]] *2\n",
    "#     make_het_geno_func = lambda row: ''.join(sorted([row[self.ref_col],\n",
    "#                                    row[self.alt_col]]))\n",
    "#     geno_df[\"het\"] = geno_df[[self.ref_col, self.alt_col]].apply(make_het_geno_func, axis=1)\n",
    "#     geno_df[\"homo_alt\"] = geno_df.loc[:,self.alt_col] *2\n",
    "\n",
    "\n",
    "def get_possible_geno_combinations(geno_df, allele_1_col:str, allele_2_col:str):\n",
    "    geno_df_allele_cols = geno_df[[allele_1_col, allele_2_col]].copy()\n",
    "    geno_df_allele_cols.columns = geno_df_allele_cols.columns.get_level_values(0)\n",
    "    geno_df_allele_cols[\"AA\"] = geno_df_allele_cols.loc[:,[allele_1_col, allele_1_col]].apply(\"\".join, axis=1)\n",
    "    make_het_geno_func = lambda row: ''.join(sorted([row[allele_1_col],\n",
    "                                   row[allele_2_col]]))\n",
    "    geno_df_allele_cols[\"AB\"] = geno_df_allele_cols[[allele_1_col, allele_2_col]].apply(make_het_geno_func, axis=1)\n",
    "    geno_df_allele_cols[\"BB\"] = geno_df_allele_cols.loc[:,[allele_2_col, allele_2_col]].apply(\"\".join, axis=1)\n",
    "    return geno_df_allele_cols\n",
    "\n",
    "def get_geno_one_snp(row,  high_lim=0.9, low_lim=0.3, NA_val = np.nan):\n",
    "    geno_1, geno_2, geno_3 = row\n",
    "    homo_ref_cond = (geno_1 >=high_lim) & (geno_2 < low_lim) & (geno_3 < low_lim)\n",
    "    het_cond = (geno_2 >= high_lim) & (geno_1 < low_lim) & (geno_3 < low_lim)\n",
    "    homo_alt_cond = (geno_3 >= high_lim) & (geno_1 < low_lim) & (geno_2 < low_lim)\n",
    "    geno_df =  np.select([homo_ref_cond, het_cond, homo_alt_cond],\n",
    "             [0., 1., 2.],\n",
    "             default = NA_val)\n",
    "    #geno_df = pd.DataFrame(geno_df, index = sample_df.index, columns = [sample_id])\n",
    "    #geno_df.columns.name= \"sample_id\"\n",
    "    return geno_df"
   ]
  }
 ],
 "metadata": {
  "kernelspec": {
   "display_name": "Python 3",
   "language": "python",
   "name": "python3"
  },
  "language_info": {
   "codemirror_mode": {
    "name": "ipython",
    "version": 3
   },
   "file_extension": ".py",
   "mimetype": "text/x-python",
   "name": "python",
   "nbconvert_exporter": "python",
   "pygments_lexer": "ipython3",
   "version": "3.8.7"
  }
 },
 "nbformat": 4,
 "nbformat_minor": 5
}
