{
 "cells": [
  {
   "cell_type": "code",
   "execution_count": null,
   "id": "parallel-cross",
   "metadata": {},
   "outputs": [],
   "source": [
    "#default_exp datasets.schemas"
   ]
  },
  {
   "cell_type": "markdown",
   "id": "unable-nitrogen",
   "metadata": {},
   "source": [
    "# Schemas\n",
    "\n",
    "> API details."
   ]
  },
  {
   "cell_type": "code",
   "execution_count": null,
   "id": "registered-rouge",
   "metadata": {},
   "outputs": [],
   "source": [
    "#hide\n",
    "from corradin_ovp_utils.catalog import test_data_catalog, conf_test_data_catalog\n"
   ]
  },
  {
   "cell_type": "code",
   "execution_count": null,
   "id": "closed-ridge",
   "metadata": {},
   "outputs": [],
   "source": [
    "#export\n",
    "\n",
    "from typing import Any, Dict, List, Optional, Literal, Union\n",
    "\n",
    "from pydantic import BaseModel\n",
    "from pydantic.dataclasses import dataclass\n",
    "from dataclasses import InitVar, asdict\n",
    "from kedro.io.core import (\n",
    "    get_protocol_and_path,\n",
    ")\n",
    "from pathlib import Path\n",
    "from fastcore.meta import delegates"
   ]
  },
  {
   "cell_type": "code",
   "execution_count": null,
   "id": "binding-homeless",
   "metadata": {},
   "outputs": [],
   "source": [
    "#export\n",
    "\n",
    "class SingleFilePathSchema(BaseModel):\n",
    "    folder: Union[str, Path]\n",
    "    full_file_name: Union[str, Path]\n",
    "    file_name: Optional[str] = None\n",
    "    extension: Optional[str] = None\n",
    "    split_by_chromosome: Optional[bool] = None\n",
    "    chrom_num: Optional[int] = None\n",
    "        \n",
    "    def __init__(self, **data: Any):\n",
    "        super().__init__(**data)\n",
    "        if self.file_name is None or self.extension is None:\n",
    "            self.file_name, *_, self.extension = self.full_file_name.split(\".\")\n",
    "            \n",
    "    def get_full_file_path(self, chrom:Optional[int]=None):\n",
    "        if self.split_by_chromosome and chrom is None:\n",
    "            raise ValueError(\"Need to specify `chrom` argument\")\n",
    "        else:\n",
    "            formatted_file_name = self.full_file_name.format(chrom_num=chrom)\n",
    "            return (Path(self.folder)/formatted_file_name)\n",
    "    \n",
    "    @property\n",
    "    def file_path_obj(self):\n",
    "        return self\n",
    "    \n",
    "    @property\n",
    "    def protocol_and_path(self):\n",
    "        return get_protocol_and_path(self.get_full_file_path(chrom=\"test\").as_posix())\n",
    "        \n",
    "    @property\n",
    "    def protocol(self):\n",
    "        return self.protocol_and_path[0]\n",
    "    \n",
    "    #validate full file name when split by chrom here\n",
    "    #throw error when files doesn't have an extension\n",
    "\n",
    "class MultipleFilePathSchema():\n",
    "    def __getattr__(self, attr, *args, **kwargs):\n",
    "        initial_dict = {\n",
    "            k: getattr(v, attr)\n",
    "            for k, v in self.to_dict().items() \n",
    "        }\n",
    "        \n",
    "        first_ele = list(initial_dict.values())[0]\n",
    "        \n",
    "        #if we are accessing a function\n",
    "        if callable(first_ele):\n",
    "            return self.func_factory(initial_dict, first_ele)\n",
    "        else:\n",
    "            return initial_dict\n",
    "    \n",
    "    @staticmethod\n",
    "    def func_factory(func_dict, sample_func):\n",
    "        @delegates(sample_func)\n",
    "        def returned_func(**kwargs):\n",
    "            return {\n",
    "                k: func(**kwargs) for k,func in func_dict.items()\n",
    "            }\n",
    "        return returned_func\n",
    "   \n",
    "    def to_dict(self):\n",
    "        return asdict(self)\n",
    "    \n",
    "    def apply_func(self, func, **kwargs):\n",
    "        print(func)\n",
    "        print(self.to_dict().items())\n",
    "        return {\n",
    "            k: func(v, **kwargs) for k, v in self.to_dict().items()\n",
    "        }\n",
    "    \n",
    "@dataclass\n",
    "class CaseControlFilePathSchema(MultipleFilePathSchema):\n",
    "    case: SingleFilePathSchema\n",
    "    control: SingleFilePathSchema\n",
    "    common_folder : InitVar(Optional[str]) = None\n",
    "\n",
    "    def __post_init__(self, common_folder):\n",
    "        if common_folder is not None:\n",
    "            self.case = SingleFilePathSchema(folder=common_folder, **self.case)\n",
    "            self.control = SingleFilePathSchema(folder=common_folder, **self.control)\n",
    "    \n",
    "    @property\n",
    "    def protocol(self):\n",
    "        if self.case.protocol != self.control.protocol:\n",
    "            raise ValueError(f\"Currently only the same file system for case and control file is supported.\\n Case is located in {self.case.protocol} system. Control is located in {self.control.protocol} \")\n",
    "        return self.case.protocol\n",
    "    \n",
    "    \n",
    "#     def __post_init_post_parse__(self, common_folder):\n",
    "#         self.protocol, _ = self.case.protocol_and_path\n",
    "\n",
    "            "
   ]
  },
  {
   "cell_type": "markdown",
   "id": "furnished-vocabulary",
   "metadata": {},
   "source": [
    "---"
   ]
  },
  {
   "cell_type": "markdown",
   "id": "representative-environment",
   "metadata": {},
   "source": [
    "### Testing single file path"
   ]
  },
  {
   "cell_type": "code",
   "execution_count": null,
   "id": "bound-retail",
   "metadata": {},
   "outputs": [
    {
     "data": {
      "text/plain": [
       "{'folder': 'data/test_data/gen_file',\n",
       " 'full_file_name': 'test_CASE_MS_chr22.gen'}"
      ]
     },
     "execution_count": null,
     "metadata": {},
     "output_type": "execute_result"
    }
   ],
   "source": [
    "conf_test_data_catalog[\"genetic_file_single\"][\"file_path\"]"
   ]
  },
  {
   "cell_type": "code",
   "execution_count": null,
   "id": "statistical-cathedral",
   "metadata": {},
   "outputs": [],
   "source": [
    "test_genetic_file_single_file_path = SingleFilePathSchema(**conf_test_data_catalog[\"genetic_file_single\"][\"file_path\"])\n",
    "assert test_genetic_file_single_file_path.file_path_obj == test_genetic_file_single_file_path\n",
    "assert test_genetic_file_single_file_path.protocol == \"file\""
   ]
  },
  {
   "cell_type": "markdown",
   "id": "egyptian-pattern",
   "metadata": {},
   "source": [
    "---"
   ]
  },
  {
   "cell_type": "markdown",
   "id": "emotional-glory",
   "metadata": {},
   "source": [
    "### Testing case control file path"
   ]
  },
  {
   "cell_type": "code",
   "execution_count": null,
   "id": "false-mistress",
   "metadata": {},
   "outputs": [
    {
     "data": {
      "text/plain": [
       "{'case': {'folder': 'data/test_data/gen_file',\n",
       "  'full_file_name': 'test_CASE_MS_chr22.gen'},\n",
       " 'control': {'folder': 'data/test_data/gen_file',\n",
       "  'full_file_name': 'test_CONTROL_MS_chr22.gen'}}"
      ]
     },
     "execution_count": null,
     "metadata": {},
     "output_type": "execute_result"
    }
   ],
   "source": [
    "conf_test_data_catalog[\"genetic_file\"][\"file_path\"]"
   ]
  },
  {
   "cell_type": "code",
   "execution_count": null,
   "id": "bearing-madonna",
   "metadata": {},
   "outputs": [
    {
     "data": {
      "text/plain": [
       "{'folder': 'data/test_data/gen_file',\n",
       " 'full_file_name': 'test_CASE_MS_chr22.gen'}"
      ]
     },
     "execution_count": null,
     "metadata": {},
     "output_type": "execute_result"
    }
   ],
   "source": [
    "conf_test_data_catalog[\"genetic_file\"][\"file_path\"][\"case\"]"
   ]
  },
  {
   "cell_type": "code",
   "execution_count": null,
   "id": "electronic-introduction",
   "metadata": {},
   "outputs": [],
   "source": [
    "test_genetic_file_cc_file_path = CaseControlFilePathSchema(**conf_test_data_catalog[\"genetic_file\"][\"file_path\"])\n",
    "assert test_genetic_file_cc_file_path.file_path_obj == {\"case\": SingleFilePathSchema(**conf_test_data_catalog[\"genetic_file\"][\"file_path\"][\"case\"]),\n",
    "                                                \"control\": SingleFilePathSchema(**conf_test_data_catalog[\"genetic_file\"][\"file_path\"][\"control\"])}"
   ]
  },
  {
   "cell_type": "code",
   "execution_count": null,
   "id": "coastal-breed",
   "metadata": {},
   "outputs": [
    {
     "data": {
      "text/plain": [
       "{'case': SingleFilePathSchema(folder='data/test_data/gen_file', full_file_name='test_CASE_MS_chr22.gen', file_name='test_CASE_MS_chr22', extension='gen', split_by_chromosome=None),\n",
       " 'control': SingleFilePathSchema(folder='data/test_data/gen_file', full_file_name='test_CONTROL_MS_chr22.gen', file_name='test_CONTROL_MS_chr22', extension='gen', split_by_chromosome=None)}"
      ]
     },
     "execution_count": null,
     "metadata": {},
     "output_type": "execute_result"
    }
   ],
   "source": [
    "test_genetic_file_cc_file_path.to_dict()"
   ]
  },
  {
   "cell_type": "markdown",
   "id": "undefined-traveler",
   "metadata": {},
   "source": [
    "Common folder"
   ]
  },
  {
   "cell_type": "code",
   "execution_count": null,
   "id": "generous-identity",
   "metadata": {},
   "outputs": [
    {
     "data": {
      "text/plain": [
       "{'type': 'corradin_ovp_utils.datasets.OVPDataset.OVPDataset',\n",
       " 'file_format': 'genetic_file.Gen.GenFileFormat',\n",
       " 'load_args': {'prob_n_cols': 3,\n",
       "  'initial_cols': ['dashes', 'rsid', 'position', 'ref', 'alt'],\n",
       "  'rsid_col': 'rsid',\n",
       "  'ref_col': 'ref',\n",
       "  'alt_col': 'alt',\n",
       "  'pandas_args': {'sep': ' ', 'header': None}},\n",
       " 'file_type': 'OVPDataset.CaseControlFilePathSchema',\n",
       " 'file_path': {'common_folder': 'data/test_data/gen_file',\n",
       "  'case': {'full_file_name': 'test_CASE_MS_chr22.gen'},\n",
       "  'control': {'full_file_name': 'test_CONTROL_MS_chr22.gen'}}}"
      ]
     },
     "execution_count": null,
     "metadata": {},
     "output_type": "execute_result"
    }
   ],
   "source": [
    "conf_test_data_catalog[\"genetic_file_common_folder\"]"
   ]
  },
  {
   "cell_type": "code",
   "execution_count": null,
   "id": "major-japan",
   "metadata": {},
   "outputs": [
    {
     "data": {
      "text/plain": [
       "{'case': SingleFilePathSchema(folder='data/test_data/gen_file', full_file_name='test_CASE_MS_chr22.gen', file_name='test_CASE_MS_chr22', extension='gen', split_by_chromosome=None),\n",
       " 'control': SingleFilePathSchema(folder='data/test_data/gen_file', full_file_name='test_CONTROL_MS_chr22.gen', file_name='test_CONTROL_MS_chr22', extension='gen', split_by_chromosome=None)}"
      ]
     },
     "execution_count": null,
     "metadata": {},
     "output_type": "execute_result"
    }
   ],
   "source": [
    "test_genetic_file_cc_file_path_common_folder = CaseControlFilePathSchema(**conf_test_data_catalog[\"genetic_file_common_folder\"][\"file_path\"])\n",
    "test_genetic_file_cc_file_path_common_folder.file_path_obj"
   ]
  },
  {
   "cell_type": "code",
   "execution_count": null,
   "id": "immediate-philadelphia",
   "metadata": {},
   "outputs": [
    {
     "data": {
      "text/plain": [
       "CaseControlFilePathSchema(case=SingleFilePathSchema(folder='data/test_data/gen_file', full_file_name='test_CASE_MS_chr22.gen', file_name='test_CASE_MS_chr22', extension='gen', split_by_chromosome=None), control=SingleFilePathSchema(folder='data/test_data/gen_file', full_file_name='test_CONTROL_MS_chr22.gen', file_name='test_CONTROL_MS_chr22', extension='gen', split_by_chromosome=None))"
      ]
     },
     "execution_count": null,
     "metadata": {},
     "output_type": "execute_result"
    }
   ],
   "source": [
    "test_genetic_file_cc_file_path_common_folder"
   ]
  },
  {
   "cell_type": "markdown",
   "id": "tested-conspiracy",
   "metadata": {},
   "source": [
    "### Testing case control file path split by chromosome"
   ]
  },
  {
   "cell_type": "code",
   "execution_count": null,
   "id": "unable-recognition",
   "metadata": {},
   "outputs": [
    {
     "data": {
      "text/plain": [
       "{'common_folder': 'data/test_data/gen_file',\n",
       " 'case': {'split_by_chromosome': True,\n",
       "  'full_file_name': 'test_CASE_MS_chr{chrom_num}.gen'},\n",
       " 'control': {'split_by_chromosome': True,\n",
       "  'full_file_name': 'test_CONTROL_MS_chr{chrom_num}.gen'}}"
      ]
     },
     "execution_count": null,
     "metadata": {},
     "output_type": "execute_result"
    }
   ],
   "source": [
    "conf_test_data_catalog[\"genetic_file_split_by_chrom\"][\"file_path\"]"
   ]
  },
  {
   "cell_type": "code",
   "execution_count": null,
   "id": "promising-budapest",
   "metadata": {},
   "outputs": [
    {
     "data": {
      "text/plain": [
       "CaseControlFilePathSchema(case=SingleFilePathSchema(folder='data/test_data/gen_file', full_file_name='test_CASE_MS_chr{chrom_num}.gen', file_name='test_CASE_MS_chr{chrom_num}', extension='gen', split_by_chromosome=True), control=SingleFilePathSchema(folder='data/test_data/gen_file', full_file_name='test_CONTROL_MS_chr{chrom_num}.gen', file_name='test_CONTROL_MS_chr{chrom_num}', extension='gen', split_by_chromosome=True))"
      ]
     },
     "execution_count": null,
     "metadata": {},
     "output_type": "execute_result"
    }
   ],
   "source": [
    "test_genetic_file_split_by_chrom = CaseControlFilePathSchema(**conf_test_data_catalog[\"genetic_file_split_by_chrom\"][\"file_path\"])\n",
    "test_genetic_file_split_by_chrom"
   ]
  },
  {
   "cell_type": "code",
   "execution_count": null,
   "id": "isolated-prize",
   "metadata": {},
   "outputs": [
    {
     "data": {
      "text/plain": [
       "{'case': SingleFilePathSchema(folder='data/test_data/gen_file', full_file_name='test_CASE_MS_chr{chrom_num}.gen', file_name='test_CASE_MS_chr{chrom_num}', extension='gen', split_by_chromosome=True),\n",
       " 'control': SingleFilePathSchema(folder='data/test_data/gen_file', full_file_name='test_CONTROL_MS_chr{chrom_num}.gen', file_name='test_CONTROL_MS_chr{chrom_num}', extension='gen', split_by_chromosome=True)}"
      ]
     },
     "execution_count": null,
     "metadata": {},
     "output_type": "execute_result"
    }
   ],
   "source": [
    "test_genetic_file_split_by_chrom.file_path_obj"
   ]
  },
  {
   "cell_type": "code",
   "execution_count": null,
   "id": "healthy-edition",
   "metadata": {},
   "outputs": [
    {
     "data": {
      "text/plain": [
       "dict_keys(['case', 'control'])"
      ]
     },
     "execution_count": null,
     "metadata": {},
     "output_type": "execute_result"
    }
   ],
   "source": [
    "(test_genetic_file_split_by_chrom.to_dict().keys())"
   ]
  },
  {
   "cell_type": "code",
   "execution_count": null,
   "id": "received-vegetarian",
   "metadata": {},
   "outputs": [
    {
     "data": {
      "text/plain": [
       "{'case': PosixPath('data/test_data/gen_file/test_CASE_MS_chr22.gen'),\n",
       " 'control': PosixPath('data/test_data/gen_file/test_CONTROL_MS_chr22.gen')}"
      ]
     },
     "execution_count": null,
     "metadata": {},
     "output_type": "execute_result"
    }
   ],
   "source": [
    "test_genetic_file_split_by_chrom.get_full_file_path(chrom=22)"
   ]
  },
  {
   "cell_type": "code",
   "execution_count": null,
   "id": "boxed-savings",
   "metadata": {},
   "outputs": [
    {
     "data": {
      "text/plain": [
       "{'case': 'gen', 'control': 'gen'}"
      ]
     },
     "execution_count": null,
     "metadata": {},
     "output_type": "execute_result"
    }
   ],
   "source": [
    "test_genetic_file_split_by_chrom.extension"
   ]
  },
  {
   "cell_type": "markdown",
   "id": "functional-automation",
   "metadata": {},
   "source": [
    "---"
   ]
  }
 ],
 "metadata": {
  "kernelspec": {
   "display_name": "Python 3",
   "language": "python",
   "name": "python3"
  }
 },
 "nbformat": 4,
 "nbformat_minor": 5
}
